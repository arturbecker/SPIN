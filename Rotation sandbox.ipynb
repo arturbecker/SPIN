{
 "cells": [
  {
   "cell_type": "code",
   "execution_count": 3,
   "metadata": {},
   "outputs": [],
   "source": [
    "from scipy.spatial.transform import Rotation as R # Magnitude (and '*_matrix', use '*_dcm' instead) require a newer version of SciPy than SPIN's\n",
    "import numpy as np"
   ]
  },
  {
   "cell_type": "code",
   "execution_count": 2,
   "metadata": {},
   "outputs": [
    {
     "ename": "AttributeError",
     "evalue": "type object 'Rotation' has no attribute 'from_matrix'",
     "output_type": "error",
     "traceback": [
      "\u001b[0;31m---------------------------------------------------------------------------\u001b[0m",
      "\u001b[0;31mAttributeError\u001b[0m                            Traceback (most recent call last)",
      "\u001b[0;32m<ipython-input-2-4673de5a7eb5>\u001b[0m in \u001b[0;36m<module>\u001b[0;34m\u001b[0m\n\u001b[1;32m      1\u001b[0m \u001b[0;31m# r is a rotation matrix that doesn't rotate anything\u001b[0m\u001b[0;34m\u001b[0m\u001b[0;34m\u001b[0m\u001b[0;34m\u001b[0m\u001b[0m\n\u001b[1;32m      2\u001b[0m \u001b[0;34m\u001b[0m\u001b[0m\n\u001b[0;32m----> 3\u001b[0;31m r = R.from_matrix([[1,0,0],\n\u001b[0m\u001b[1;32m      4\u001b[0m                  \u001b[0;34m[\u001b[0m\u001b[0;36m0\u001b[0m\u001b[0;34m,\u001b[0m\u001b[0;36m1\u001b[0m\u001b[0;34m,\u001b[0m\u001b[0;36m0\u001b[0m\u001b[0;34m]\u001b[0m\u001b[0;34m,\u001b[0m\u001b[0;34m\u001b[0m\u001b[0;34m\u001b[0m\u001b[0m\n\u001b[1;32m      5\u001b[0m                  [0,0,1]])\n",
      "\u001b[0;31mAttributeError\u001b[0m: type object 'Rotation' has no attribute 'from_matrix'"
     ]
    }
   ],
   "source": [
    "# r is a rotation matrix that doesn't rotate anything\n",
    "\n",
    "r = R.from_matrix([[1,0,0],\n",
    "                 [0,1,0],\n",
    "                 [0,0,1]])"
   ]
  },
  {
   "cell_type": "code",
   "execution_count": null,
   "metadata": {},
   "outputs": [],
   "source": [
    "r.magnitude()"
   ]
  },
  {
   "cell_type": "code",
   "execution_count": null,
   "metadata": {},
   "outputs": [],
   "source": [
    "# q is a rotation matrix that rotates things 90 degrees around the z axis\n",
    "# we know this both intuitively as well as by applying the basic rotation formula\n",
    "# https://en.wikipedia.org/wiki/Rotation_matrix#Basic_rotations\n",
    "# (cosine of 90 is 0, sine of 90 is 1)\n",
    "\n",
    "q = R.from_matrix([[0,-1,0],\n",
    "                  [1,0,0],\n",
    "                  [0,0,1]])"
   ]
  },
  {
   "cell_type": "code",
   "execution_count": null,
   "metadata": {},
   "outputs": [],
   "source": [
    "np.degrees((r*q).magnitude())"
   ]
  },
  {
   "cell_type": "code",
   "execution_count": null,
   "metadata": {},
   "outputs": [],
   "source": [
    "# m is a rotation matrix that rotates 45 degrees around the z axis\n",
    "\n",
    "m = R.from_matrix([[np.cos(np.pi/4),-np.sin(np.pi/4),0],\n",
    "                  [np.sin(np.pi/4),np.cos(np.pi/4),0],\n",
    "                  [0,0,1]])"
   ]
  },
  {
   "cell_type": "code",
   "execution_count": null,
   "metadata": {},
   "outputs": [],
   "source": [
    "np.degrees(m.magnitude())"
   ]
  },
  {
   "cell_type": "code",
   "execution_count": null,
   "metadata": {},
   "outputs": [],
   "source": [
    "# you can tell composing these rotations isn't very impressive - is like having just one\n",
    "# 135 degree rotation\n",
    "\n",
    "np.degrees((m*q).magnitude())"
   ]
  },
  {
   "cell_type": "code",
   "execution_count": null,
   "metadata": {},
   "outputs": [],
   "source": [
    "# now what if we have a more complex rotation, composing with of 30 degree along the x axis\n",
    "\n",
    "n = R.from_matrix([[1,0,0],\n",
    "                  [0,np.cos(np.pi/6),-np.sin(np.pi/6)],\n",
    "                  [0,np.sin(np.pi/6),np.cos(np.pi/6)]])"
   ]
  },
  {
   "cell_type": "code",
   "execution_count": null,
   "metadata": {},
   "outputs": [],
   "source": [
    "np.degrees(n.magnitude())"
   ]
  },
  {
   "cell_type": "code",
   "execution_count": null,
   "metadata": {},
   "outputs": [],
   "source": [
    "# we can tell the magnitude doesn't tell us much about which part is played by each\n",
    "# axis on the rotation\n",
    "\n",
    "np.degrees((q*n).magnitude())"
   ]
  },
  {
   "cell_type": "code",
   "execution_count": null,
   "metadata": {},
   "outputs": [],
   "source": [
    "# however the euler representation makes it clear\n",
    "# (for some reason 'zyx' seems to be the default)\n",
    "\n",
    "(q*n).as_euler('zyx', degrees=True)\n",
    "\n",
    "# notice what this means: q*n is a rotation that takes a vector, rotates it 30 degrees\n",
    "# around x and then 90 degrees around z"
   ]
  },
  {
   "cell_type": "code",
   "execution_count": null,
   "metadata": {},
   "outputs": [],
   "source": [
    "(n*q).as_euler('xyz', degrees=True)\n",
    "\n",
    "# Interestingly, rotating frames appear to be different than rotating vectors, see\n",
    "# the wikipedia page"
   ]
  },
  {
   "cell_type": "code",
   "execution_count": null,
   "metadata": {},
   "outputs": [],
   "source": [
    "(q).as_matrix()"
   ]
  },
  {
   "cell_type": "code",
   "execution_count": null,
   "metadata": {},
   "outputs": [],
   "source": [
    "(q*n).as_matrix()"
   ]
  },
  {
   "cell_type": "code",
   "execution_count": 16,
   "metadata": {},
   "outputs": [],
   "source": [
    "# Let's test this by loading up a real example from 3dpw\n",
    "\n",
    "import pickle as pkl\n",
    "\n",
    "img_path = 'examples/image_00502_crop.jpg'\n",
    "#img_path = 'examples/image_00980.jpg'\n",
    "\n",
    "pickle_path = 'data/3dpw/sequenceFiles/validation/courtyard_basketball_01.pkl'\n",
    "#pickle_path = 'data/3dpw/sequenceFiles/validation/outdoors_parcours_01.pkl'\n",
    "\n",
    "frame = 502"
   ]
  },
  {
   "cell_type": "code",
   "execution_count": 10,
   "metadata": {},
   "outputs": [],
   "source": [
    "# using IPython's Magic %run let's us cleanly run the Demo script and get the variables defined\n",
    "# therein into this notebook. use $ to insert variables from the notebook into any %magic command\n",
    "%run demo.py --checkpoint=data/model_checkpoint.pt --img=$img_path"
   ]
  },
  {
   "cell_type": "code",
   "execution_count": 35,
   "metadata": {},
   "outputs": [],
   "source": [
    "# open the sequence file, fetch the body_pose of the corresponding frame from it, remove global orientation and\n",
    "# input into a rotation object\n",
    "\n",
    "seq = pkl.load(open(pickle_path,'rb'),encoding='latin-1')\n",
    "gt_pose_axis_angle = seq['poses'][0][frame][3:]\n",
    "gt_pose = R.from_rotvec(np.reshape(gt_pose_axis_angle, (23,-1)))"
   ]
  },
  {
   "cell_type": "code",
   "execution_count": 46,
   "metadata": {},
   "outputs": [],
   "source": [
    "# create a rotation object from the predicted pose output of demo.py\n",
    "\n",
    "pred_pose = R.from_dcm(pred_output.body_pose.squeeze().cpu())"
   ]
  },
  {
   "cell_type": "code",
   "execution_count": 49,
   "metadata": {},
   "outputs": [
    {
     "data": {
      "text/plain": [
       "array([[ -11.53423152,    1.45218796,   14.39380192],\n",
       "       [  25.35587121,   12.15640678,  -13.92902663],\n",
       "       [  31.62514251,    1.84057256,    6.65371351],\n",
       "       [  61.65764612,   -6.91880428,  -10.57649552],\n",
       "       [  76.14436648,   11.0574346 ,   12.02639854],\n",
       "       [  -2.9572873 ,    3.88892113,   -4.60218202],\n",
       "       [  -8.42285578,    9.52938331,  -14.11790154],\n",
       "       [  -2.02860379,   -4.93019691,    5.4100804 ],\n",
       "       [  -4.14222322,    4.97110844,   -2.28494807],\n",
       "       [ -10.33501961,    6.29445553,   15.34893562],\n",
       "       [ -10.95823116,    2.31976112,  -10.11235415],\n",
       "       [ -32.3080475 ,   23.59630993,  -37.96448256],\n",
       "       [ -57.62417828,  -40.64518083,   44.1261785 ],\n",
       "       [ -39.54596354,   33.30874471,  -28.71964085],\n",
       "       [   6.93876137,   -0.69058056,   20.21904431],\n",
       "       [ -81.56851515,  -69.93777261,   35.42649026],\n",
       "       [-159.17950351,   51.76062816, -117.68050672],\n",
       "       [ -77.29650741,    2.80020533,  141.25024586],\n",
       "       [-134.7210253 ,   12.35451209, -163.18188021],\n",
       "       [  11.60509418,   -9.33057764,   93.02018069],\n",
       "       [ -20.09001437,   -1.28841228,  -70.7433194 ],\n",
       "       [ -12.09874779,   -5.00039897,  -24.46467066],\n",
       "       [  -5.28398205,   10.00223556,   22.26457216]])"
      ]
     },
     "execution_count": 49,
     "metadata": {},
     "output_type": "execute_result"
    }
   ],
   "source": [
    "# show the difference between the predicted and the ground truth pose\n",
    "\n",
    "R.as_euler(pred_pose*gt_pose, 'xyz', degrees=True)"
   ]
  },
  {
   "cell_type": "code",
   "execution_count": 37,
   "metadata": {},
   "outputs": [
    {
     "data": {
      "text/plain": [
       "array([[  3.27758532,   2.34568285,  10.05848473],\n",
       "       [ 18.07793628,  15.48206547,  -8.55389247],\n",
       "       [ 25.68959525,  -1.39709914,   5.26220588],\n",
       "       [ 27.52093489,  -2.67720552,  -2.25343333],\n",
       "       [ 33.83171014,   6.25581228,   3.7944147 ],\n",
       "       [ -0.5386765 ,   5.39381936,  -5.35365826],\n",
       "       [ -4.95139093,   1.41181823,  -6.09309659],\n",
       "       [  7.59999533,   7.79373372,  -4.2199807 ],\n",
       "       [ -3.00579048,   3.15721984,  -3.11590527],\n",
       "       [ -0.57181028,  -0.65411145,   2.92180118],\n",
       "       [ -2.48339326,  -5.21716679,   3.6632402 ],\n",
       "       [-17.19975338,  19.26979555, -33.02213953],\n",
       "       [-21.11404173, -19.81535274,  16.22398535],\n",
       "       [-10.74261673,   4.45868369, -10.92492939],\n",
       "       [ -2.62982222,  -2.43141453,  24.53937954],\n",
       "       [-30.34483409, -37.38967198,  -6.87046638],\n",
       "       [-70.95835327,  66.67429707, -43.30055846],\n",
       "       [ -7.99851588, -45.37535478,  75.74406625],\n",
       "       [-37.67749076,  67.31087175, -44.69764436],\n",
       "       [ 21.33930871, -12.18248805,  78.67233999],\n",
       "       [-10.95649302,  -2.29238046, -60.58360015],\n",
       "       [-14.28623066,  -4.21154085, -17.31760644],\n",
       "       [ -7.1957439 ,   7.03121974,  15.75250641]])"
      ]
     },
     "execution_count": 37,
     "metadata": {},
     "output_type": "execute_result"
    }
   ],
   "source": [
    "# Now, let's check through examples that this behavior makes sense"
   ]
  },
  {
   "cell_type": "code",
   "execution_count": null,
   "metadata": {},
   "outputs": [],
   "source": []
  }
 ],
 "metadata": {
  "kernelspec": {
   "display_name": "Python 3",
   "language": "python",
   "name": "python3"
  },
  "language_info": {
   "codemirror_mode": {
    "name": "ipython",
    "version": 3
   },
   "file_extension": ".py",
   "mimetype": "text/x-python",
   "name": "python",
   "nbconvert_exporter": "python",
   "pygments_lexer": "ipython3",
   "version": "3.6.7"
  }
 },
 "nbformat": 4,
 "nbformat_minor": 4
}
