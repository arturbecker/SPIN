{
 "cells": [
  {
   "cell_type": "code",
   "execution_count": 1,
   "metadata": {},
   "outputs": [],
   "source": [
    "from scipy.spatial.transform import Rotation as R # Magnitude (and '*_matrix', use '*_dcm' instead) require a newer version of SciPy than SPIN's\n",
    "import numpy as np"
   ]
  },
  {
   "cell_type": "code",
   "execution_count": 2,
   "metadata": {},
   "outputs": [],
   "source": [
    "# Let's test this by loading up a real example from 3dpw\n",
    "\n",
    "import pickle as pkl\n",
    "\n",
    "img_path = 'examples/image_00502_crop.jpg'\n",
    "#img_path = 'examples/image_00980.jpg'\n",
    "\n",
    "pickle_path = 'data/3dpw/sequenceFiles/validation/courtyard_basketball_01.pkl'\n",
    "#pickle_path = 'data/3dpw/sequenceFiles/validation/outdoors_parcours_01.pkl'\n",
    "\n",
    "frame = 502"
   ]
  },
  {
   "cell_type": "code",
   "execution_count": 3,
   "metadata": {},
   "outputs": [],
   "source": [
    "# using IPython's Magic %run let's us cleanly run the Demo script and get the variables defined\n",
    "# therein into this notebook. use $ to insert variables from the notebook into any %magic command\n",
    "%run demo.py --checkpoint=data/model_checkpoint.pt --img=$img_path"
   ]
  },
  {
   "cell_type": "code",
   "execution_count": 4,
   "metadata": {},
   "outputs": [],
   "source": [
    "# open the sequence file, fetch the body_pose of the corresponding frame from it, remove global orientation and\n",
    "# and reshape it from (69,1) to (23,3) to input into a rotation object\n",
    "\n",
    "seq = pkl.load(open(pickle_path,'rb'),encoding='latin-1')\n",
    "gt_pose_axis_angle = seq['poses'][0][frame][3:]\n",
    "gt_pose = R.from_rotvec(np.reshape(gt_pose_axis_angle, (23,-1)))"
   ]
  },
  {
   "cell_type": "code",
   "execution_count": 5,
   "metadata": {},
   "outputs": [],
   "source": [
    "# create a rotation object from the predicted pose output of demo.py\n",
    "\n",
    "pred_pose = R.from_dcm(pred_output.body_pose.squeeze().cpu())"
   ]
  },
  {
   "cell_type": "code",
   "execution_count": 6,
   "metadata": {},
   "outputs": [
    {
     "data": {
      "text/plain": [
       "array([[-14.45257816,  -3.36234793,   5.25534553],\n",
       "       [  6.57247171,  -4.22693314,  -7.35929289],\n",
       "       [  5.62192962,   3.76067428,   1.5532224 ],\n",
       "       [ 33.80962064,  -5.95760392,  -7.19090463],\n",
       "       [ 41.28661629,   8.91934686,   4.92503911],\n",
       "       [ -2.54320886,  -1.26842159,   0.97538938],\n",
       "       [ -2.57182704,   8.44094002,  -7.88273884],\n",
       "       [-10.7329899 , -11.85852809,  10.99063055],\n",
       "       [ -1.03240496,   1.87339125,   0.89463282],\n",
       "       [-10.11355831,   6.43437878,  12.33959229],\n",
       "       [ -8.99858816,   6.92088646, -14.53596989],\n",
       "       [ -9.01509687,  11.66467024,  -0.31248486],\n",
       "       [-21.93695451, -31.06615952,  14.90080567],\n",
       "       [-21.36971001,  33.9161424 , -14.57078226],\n",
       "       [  8.01758267,   5.51638553,  -3.67214728],\n",
       "       [-24.59302977, -35.41122808,   6.43038766],\n",
       "       [-18.86501692,  39.62643746,  -1.1732767 ],\n",
       "       [-67.18299877, -56.63757031,  74.15582269],\n",
       "       [-74.71742739,  54.99618241, -83.35093492],\n",
       "       [ -4.56390316,  -8.88240363,  12.88095322],\n",
       "       [ -3.65865578,   8.42949603, -10.71540902],\n",
       "       [  1.84502289,  -1.40464016,  -6.99399689],\n",
       "       [  1.00619599,   3.37483115,   6.25845924]])"
      ]
     },
     "execution_count": 6,
     "metadata": {},
     "output_type": "execute_result"
    }
   ],
   "source": [
    "# show the difference between the predicted and the ground truth pose\n",
    "\n",
    "e = R.as_euler(pred_pose, 'xyz', degrees=True)\n",
    "e"
   ]
  },
  {
   "cell_type": "code",
   "execution_count": 7,
   "metadata": {},
   "outputs": [],
   "source": [
    "# Now, let's check through examples that this behavior makes sense\n",
    "\n",
    "#Left hip [flexion(front kick), external rotation, abduction]\n",
    "#Right hip [extension(back kick), internal rotation, adduction]\n",
    "#Spine [flexion (crunch),  rotate to the left, touch right toe]\n",
    "#Left knee [flexion, external rotation, abduction]\n",
    "#Right knee [extension, internal rotation, adduction]\n",
    "#Torso [flexion (crunch), rotate to the left, touch right shin]\n",
    "#Left ankle [flexion, external rotation, abduction]\n",
    "#Right ankle [flexion, internal rotation, adduction]\n",
    "#Chest [flexion (crunch), rotate to the left, touch right knee]\n",
    "#Left toes [flexion, fibular deviation, pronation]\n",
    "#Right toes [flexion, tibial deviation, supination]\n",
    "#Neck [flexion, rotate to the left, touch right shoulder]\n",
    "#Left scapula [internal rotation, rotate backwards, lift arm]\n",
    "#Right scapula [internal rotation, rotate forward, lower arm]\n",
    "#Skull [flexion, look to the left, touch right shoulder]\n",
    "#Left shoulder [internal rotation, rotate backwards, lift arm]\n",
    "#Right shoulder [internal rotation, rotate forward, lower arm]\n",
    "#Left elbow [internal rotation, hyperextension abduction (unnatural)]\n",
    "#Right elbow [internal rotation, flexion, adduction (unnatural)]\n",
    "#Left wrist [interal rotation, ulnar deviation, extension]\n",
    "#Right wrist [internal rotation, radial deviation, flexion]\n",
    "#Left knuckles [internal rotation, ulnar deviation (unnatural), hyperextension]\n",
    "#Right knuckles [internal rotation, radial deviation, flexion]"
   ]
  },
  {
   "cell_type": "code",
   "execution_count": 8,
   "metadata": {},
   "outputs": [],
   "source": [
    "d = {\n",
    "     'Left hip':{'Name': 'Left hip', 'x': 'Flexion', 'y': 'External rotation', 'z': 'Abduction'},\n",
    "     'Right hip':{'Name': 'Right hip', 'x': 'Extension', 'y': 'Internal rotation', 'z': 'Adduction'},\n",
    "     'Spine':{'Name': 'Spine', 'x': 'Flexion', 'y': 'Rotate to the left', 'z': 'Touch right ankle'},\n",
    "     'Left knee':{'Name': 'Left knee', 'x': 'Flexion', 'y': 'External rotation', 'z': 'Abduction'},\n",
    "     'Right knee':{'Name': 'Right knee', 'x': 'Extension', 'y': 'External rotation', 'z': 'Adduction'},\n",
    "     'Torso':{'Name': 'Torso', 'x': 'Flexion', 'y': 'Rotate to the left', 'z': 'Touch right shin'},\n",
    "     'Left ankle':{'Name': 'Left ankle', 'x': 'Flexion', 'y': 'External rotation', 'z': 'Abduction'},\n",
    "     'Right ankle':{'Name': 'Right ankle', 'x': 'Flexion', 'y': 'Internal rotation', 'z': 'Adduction'},\n",
    "     'Chest':{'Name': 'Chest', 'x': 'Flexion', 'y': 'Rotate to the left', 'z': 'Touch right knee'},\n",
    "     'Left toes':{'Name': 'Left toes', 'x': 'Flexion', 'y': 'Fibular deviation', 'z': 'Pronation'},\n",
    "     'Right toes':{'Name': 'Right toes', 'x': 'Flexion', 'y': 'Tibial deviation', 'z': 'Supination'},\n",
    "     'Neck':{'Name': 'Neck', 'x': 'Flexion', 'y': 'Rotate to the left', 'z': 'Touch right shoulder'},\n",
    "     'Left scapula':{'Name': 'Left scapula', 'x': 'Internal rotation', 'y': 'Rotate backwards', 'z': 'Raise arm'},\n",
    "     'Right scapula':{'Name': 'Right scapula', 'x': 'Internal rotation', 'y': 'Rotate forward', 'z': 'Lower arm'},\n",
    "     'Skull':{'Name': 'Skull', 'x': 'Flexion', 'y': 'Look to the left', 'z': 'Touch right shoulder'},\n",
    "     'Left shoulder':{'Name': 'Left shoulder', 'x': 'Internal rotation', 'y': 'Rotate backwards', 'z': 'Raise arm'},\n",
    "     'Right shoulder':{'Name': 'Right shoulder', 'x': 'Internal rotation', 'y': 'Rotate forward', 'z': 'Lower arm'},\n",
    "     'Left elbow':{'Name': 'Left elbow', 'x': 'Internal rotation', 'y': 'Extension', 'z': 'Abduction'},\n",
    "     'Right elbow':{'Name': 'Right elbow', 'x': 'Internal rotation', 'y': 'Flexion', 'z': 'Adduction'},\n",
    "     'Left wrist':{'Name': 'Left wrist', 'x': 'Internal rotation', 'y': 'Ulnar deviation', 'z': 'Extension'},\n",
    "     'Right wrist':{'Name': 'Right wrist', 'x': 'Internal rotation', 'y': 'Radial deviation', 'z': 'Flexion'},\n",
    "     'Left knuckles':{'Name': 'Left knuckles', 'x': 'Internal rotation', 'y': 'Ulnar deviation', 'z': 'Extension'},\n",
    "     'Right knuckles':{'Name': 'Right knuckles', 'x': 'Internal rotation', 'y': 'Radial deviation', 'z': 'Flexion'},\n",
    "    }"
   ]
  },
  {
   "cell_type": "code",
   "execution_count": 9,
   "metadata": {
    "scrolled": false
   },
   "outputs": [
    {
     "name": "stdout",
     "output_type": "stream",
     "text": [
      "Left hip                      Flexion  -14.45    External rotation   -3.36            Abduction    5.26\n",
      "Right hip                   Extension    6.57    Internal rotation   -4.23            Adduction   -7.36\n",
      "Spine                         Flexion    5.62   Rotate to the left    3.76    Touch right ankle    1.55\n",
      "Left knee                     Flexion   33.81    External rotation   -5.96            Abduction   -7.19\n",
      "Right knee                  Extension   41.29    External rotation    8.92            Adduction    4.93\n",
      "Torso                         Flexion   -2.54   Rotate to the left   -1.27     Touch right shin    0.98\n",
      "Left ankle                    Flexion   -2.57    External rotation    8.44            Abduction   -7.88\n",
      "Right ankle                   Flexion  -10.73    Internal rotation  -11.86            Adduction   10.99\n",
      "Chest                         Flexion   -1.03   Rotate to the left    1.87     Touch right knee    0.89\n",
      "Left toes                     Flexion  -10.11    Fibular deviation    6.43            Pronation   12.34\n",
      "Right toes                    Flexion   -9.00     Tibial deviation    6.92           Supination  -14.54\n",
      "Neck                          Flexion   -9.02   Rotate to the left   11.66 Touch right shoulder   -0.31\n",
      "Left scapula        Internal rotation  -21.94     Rotate backwards  -31.07            Raise arm   14.90\n",
      "Right scapula       Internal rotation  -21.37       Rotate forward   33.92            Lower arm  -14.57\n",
      "Skull                         Flexion    8.02     Look to the left    5.52 Touch right shoulder   -3.67\n",
      "Left shoulder       Internal rotation  -24.59     Rotate backwards  -35.41            Raise arm    6.43\n",
      "Right shoulder      Internal rotation  -18.87       Rotate forward   39.63            Lower arm   -1.17\n",
      "Left elbow          Internal rotation  -67.18            Extension  -56.64            Abduction   74.16\n",
      "Right elbow         Internal rotation  -74.72              Flexion   55.00            Adduction  -83.35\n",
      "Left wrist          Internal rotation   -4.56      Ulnar deviation   -8.88            Extension   12.88\n",
      "Right wrist         Internal rotation   -3.66     Radial deviation    8.43              Flexion  -10.72\n",
      "Left knuckles       Internal rotation    1.85      Ulnar deviation   -1.40            Extension   -6.99\n",
      "Right knuckles      Internal rotation    1.01     Radial deviation    3.37              Flexion    6.26\n"
     ]
    }
   ],
   "source": [
    "i = 0\n",
    "for key in d:    \n",
    "    print('{:16}'.format(d[key]['Name']),\n",
    "          '{:>20}'.format(d[key]['x']),'{:> 7.2f}'.format(e[i][0]),\n",
    "          '{:>20}'.format(d[key]['y']),'{:> 7.2f}'.format(e[i][1]),\n",
    "          '{:>20}'.format(d[key]['z']),'{:> 7.2f}'.format(e[i][2]))\n",
    "    i+=1"
   ]
  },
  {
   "cell_type": "code",
   "execution_count": 11,
   "metadata": {
    "scrolled": false
   },
   "outputs": [
    {
     "name": "stdout",
     "output_type": "stream",
     "text": [
      "Left hip                      Flexion    3.28    External rotation    2.35            Abduction   10.06\n",
      "Right hip                   Extension   18.08    Internal rotation   15.48            Adduction   -8.55\n",
      "Spine                         Flexion   25.69   Rotate to the left   -1.40    Touch right ankle    5.26\n",
      "Left knee                     Flexion   27.52    External rotation   -2.68            Abduction   -2.25\n",
      "Right knee                  Extension   33.83    External rotation    6.26            Adduction    3.79\n",
      "Torso                         Flexion   -0.54   Rotate to the left    5.39     Touch right shin   -5.35\n",
      "Left ankle                    Flexion   -4.95    External rotation    1.41            Abduction   -6.09\n",
      "Right ankle                   Flexion    7.60    Internal rotation    7.79            Adduction   -4.22\n",
      "Chest                         Flexion   -3.01   Rotate to the left    3.16     Touch right knee   -3.12\n",
      "Left toes                     Flexion   -0.57    Fibular deviation   -0.65            Pronation    2.92\n",
      "Right toes                    Flexion   -2.48     Tibial deviation   -5.22           Supination    3.66\n",
      "Neck                          Flexion  -17.20   Rotate to the left   19.27 Touch right shoulder  -33.02\n",
      "Left scapula        Internal rotation  -21.11     Rotate backwards  -19.82            Raise arm   16.22\n",
      "Right scapula       Internal rotation  -10.74       Rotate forward    4.46            Lower arm  -10.92\n",
      "Skull                         Flexion   -2.63     Look to the left   -2.43 Touch right shoulder   24.54\n",
      "Left shoulder       Internal rotation  -30.34     Rotate backwards  -37.39            Raise arm   -6.87\n",
      "Right shoulder      Internal rotation  -70.96       Rotate forward   66.67            Lower arm  -43.30\n",
      "Left elbow          Internal rotation   -8.00            Extension  -45.38            Abduction   75.74\n",
      "Right elbow         Internal rotation  -37.68              Flexion   67.31            Adduction  -44.70\n",
      "Left wrist          Internal rotation   21.34      Ulnar deviation  -12.18            Extension   78.67\n",
      "Right wrist         Internal rotation  -10.96     Radial deviation   -2.29              Flexion  -60.58\n",
      "Left knuckles       Internal rotation  -14.29      Ulnar deviation   -4.21            Extension  -17.32\n",
      "Right knuckles      Internal rotation   -7.20     Radial deviation    7.03              Flexion   15.75\n"
     ]
    }
   ],
   "source": [
    "e = R.as_euler(gt_pose, 'xyz', degrees=True)\n",
    "\n",
    "i = 0\n",
    "for key in d:    \n",
    "    print('{:16}'.format(d[key]['Name']),\n",
    "          '{:>20}'.format(d[key]['x']),'{:> 7.2f}'.format(e[i][0]),\n",
    "          '{:>20}'.format(d[key]['y']),'{:> 7.2f}'.format(e[i][1]),\n",
    "          '{:>20}'.format(d[key]['z']),'{:> 7.2f}'.format(e[i][2]))\n",
    "    i+=1"
   ]
  },
  {
   "cell_type": "code",
   "execution_count": 10,
   "metadata": {},
   "outputs": [
    {
     "name": "stdout",
     "output_type": "stream",
     "text": [
      "Left hip                      Flexion   17.35    External rotation    6.63            Abduction    5.19\n",
      "Right hip                   Extension   12.80    Internal rotation   18.63            Adduction   -3.77\n",
      "Spine                         Flexion   20.17   Rotate to the left   -4.03    Touch right ankle    4.12\n",
      "Left knee                     Flexion   -5.90    External rotation    4.73            Abduction    3.65\n",
      "Right knee                  Extension   -7.21    External rotation   -3.10            Adduction    0.34\n",
      "Torso                         Flexion    2.25   Rotate to the left    6.70     Touch right shin   -6.27\n",
      "Left ankle                    Flexion   -2.89    External rotation   -6.93            Abduction    1.65\n",
      "Right ankle                   Flexion   17.40    Internal rotation   20.31            Adduction  -14.53\n",
      "Chest                         Flexion   -1.87   Rotate to the left    1.37     Touch right knee   -3.94\n",
      "Left toes                     Flexion   10.20    Fibular deviation   -5.97            Pronation   -9.94\n",
      "Right toes                    Flexion    5.75     Tibial deviation  -13.30           Supination   17.49\n",
      "Neck                          Flexion   -2.07   Rotate to the left   11.77 Touch right shoulder  -30.18\n",
      "Left scapula        Internal rotation   -0.72     Rotate backwards   10.83            Raise arm    3.81\n",
      "Right scapula       Internal rotation    6.05       Rotate forward  -30.43            Lower arm   -2.80\n",
      "Skull                         Flexion  -10.25     Look to the left   -8.21 Touch right shoulder   28.52\n",
      "Left shoulder       Internal rotation   -9.67     Rotate backwards    1.35            Raise arm  -14.92\n",
      "Right shoulder      Internal rotation  -18.06       Rotate forward   35.04            Lower arm    0.29\n",
      "Left elbow          Internal rotation   42.15            Extension   33.35            Abduction   39.05\n",
      "Right elbow         Internal rotation   14.02              Flexion   -7.99            Adduction   16.46\n",
      "Left wrist          Internal rotation   29.71      Ulnar deviation   13.88            Extension   67.16\n",
      "Right wrist         Internal rotation   -8.27     Radial deviation   -5.02              Flexion  -50.18\n",
      "Left knuckles       Internal rotation  -16.56      Ulnar deviation   -0.48            Extension  -10.77\n",
      "Right knuckles      Internal rotation   -8.93     Radial deviation    2.56              Flexion    9.93\n"
     ]
    }
   ],
   "source": [
    "r = R.as_rotvec(gt_pose)\n",
    "q = R.as_rotvec(pred_pose)\n",
    "\n",
    "e = np.degrees(r-q)\n",
    "\n",
    "i = 0\n",
    "for key in d:    \n",
    "    print('{:16}'.format(d[key]['Name']),\n",
    "          '{:>20}'.format(d[key]['x']),'{:> 7.2f}'.format(e[i][0]),\n",
    "          '{:>20}'.format(d[key]['y']),'{:> 7.2f}'.format(e[i][1]),\n",
    "          '{:>20}'.format(d[key]['z']),'{:> 7.2f}'.format(e[i][2]))\n",
    "    i+=1"
   ]
  },
  {
   "cell_type": "code",
   "execution_count": 13,
   "metadata": {},
   "outputs": [
    {
     "data": {
      "text/plain": [
       "17.437103831483228"
      ]
     },
     "execution_count": 13,
     "metadata": {},
     "output_type": "execute_result"
    }
   ],
   "source": [
    "abs(e).mean()"
   ]
  },
  {
   "cell_type": "code",
   "execution_count": null,
   "metadata": {},
   "outputs": [],
   "source": []
  }
 ],
 "metadata": {
  "kernelspec": {
   "display_name": "Python 3",
   "language": "python",
   "name": "python3"
  },
  "language_info": {
   "codemirror_mode": {
    "name": "ipython",
    "version": 3
   },
   "file_extension": ".py",
   "mimetype": "text/x-python",
   "name": "python",
   "nbconvert_exporter": "python",
   "pygments_lexer": "ipython3",
   "version": "3.6.7"
  }
 },
 "nbformat": 4,
 "nbformat_minor": 4
}
