{
 "cells": [
  {
   "cell_type": "code",
   "execution_count": 1,
   "metadata": {},
   "outputs": [],
   "source": [
    "# First, we run SPIN's demo.py inference on an (cropped) image from 3dpw\n",
    "\n",
    "img_path = 'examples/image_00502_crop.jpg'\n",
    "#img_path = 'examples/image_00980.jpg'\n",
    "\n",
    "pickle_path = 'data/3dpw/sequenceFiles/validation/courtyard_basketball_01.pkl'\n",
    "#pickle_path = 'data/3dpw/sequenceFiles/validation/outdoors_parcours_01.pkl'\n",
    "\n",
    "frame = 502"
   ]
  },
  {
   "cell_type": "markdown",
   "metadata": {},
   "source": [
    "# From 3dpw readme.txt:\n",
    "\n",
    "\n",
    "3DPW Dataset\n",
    "============\n",
    "\n",
    "The 3DPW dataset contains several motion sequences, which are organized into two folders: imageFiles and sequenceFiles.\n",
    "The folder imageFiles contains the RGB-images for every sequence. \n",
    "The folder sequenceFiles provides synchronized motion data and SMPL model parameters in the form of .pkl-files. For each sequence, the .pkl-file contains a dictionary with the following fields:\n",
    "- sequence: String containing the sequence name\n",
    "- betas: SMPL shape parameters for each actor which has been used for tracking (List of 10x1 SMPL beta parameters)\n",
    "- poses: SMPL body poses for each actor aligned with image data (List of Nx72 SMPL joint angles, N = #frames)\n",
    "- trans: tranlations for each actor aligned with image data (List of Nx3 root translations)\n",
    "- poses_60Hz: SMPL body poses for each actor at 60Hz (List of Nx72 SMPL joint angles, N = #frames)\n",
    "- trans_60Hz: tranlations for each actor at 60Hz (List of Nx3 root translations)\n",
    "- betas_clothed: SMPL shape parameters for each clothed actor (List of 10x1 SMPL beta parameters)\n",
    "- v_template_clothed: \n",
    "- gender: actor genders (List of strings, either 'm' or 'f')\n",
    "- texture_maps: texture maps for each actor\n",
    "- poses2D: 2D joint detections in Coco-Format for each actor (only provided if at least 6 joints were detected correctly)\n",
    "- jointPositions: 3D joint positions of each actor (List of Nx(24*3) XYZ coordinates of each SMPL joint)\n",
    "- img_frame_ids: an index-array to down-sample 60 Hz 3D poses to corresponding image frame ids\n",
    "- cam_poses: camera extrinsics for each image frame (Ix4x4 array, I frames times 4x4 homegenous rigid body motion matrices)\n",
    "- campose_valid: a boolean index array indicating which camera pose has been aligned to the image\n",
    "- cam_intrinsics: camera intrinsics (K = [f_x 0 c_x;0 f_y c_y; 0 0 1])\n",
    "\n",
    "Each sequence has either one or two models, which corresponds to the list size of the model specific fields (e.g. betas, poses, trans, v_template, gender, texture_maps, jointPositions, poses2D). \n",
    "SMPL poses and translations are provided at 30 Hz. They are aligned to image dependent data (e.g. 2D poses, camera poses). In addition we provide 'poses_60Hz' and 'trans_60Hz' which corresponds to the recording frequency of 60Hz of the IMUs . You could use the 'img_frame_ids' to downsample and align 60Hz 3D and image dependent data, wich has been done to compute SMPL 'poses' and 'trans' variables. \n",
    "Please refer to the demo.py-file for loading a sequence, setup smpl-Models and camera, and to visualize an example frame."
   ]
  },
  {
   "cell_type": "code",
   "execution_count": 2,
   "metadata": {},
   "outputs": [],
   "source": [
    "# Secondly, we load the .pkl sequence file containing the ground-truth information from 3dpw\n",
    "\n",
    "import pickle as pkl\n",
    "import os\n",
    "\n",
    "seq = pkl.load(open(pickle_path,'rb'),encoding='latin-1') # opening the sequence file, latin-1 encoding for making it compatible with python3"
   ]
  },
  {
   "cell_type": "code",
   "execution_count": 3,
   "metadata": {},
   "outputs": [
    {
     "data": {
      "text/plain": [
       "torch.Size([1, 24, 3, 3])"
      ]
     },
     "execution_count": 3,
     "metadata": {},
     "output_type": "execute_result"
    }
   ],
   "source": [
    "# Getting the sequence of poses for the same frame\n",
    "\n",
    "import torch\n",
    "from torchvision.transforms import Normalize\n",
    "import numpy as np\n",
    "import cv2\n",
    "import argparse\n",
    "import json\n",
    "\n",
    "from models import hmr, SMPL\n",
    "from utils.imutils import crop\n",
    "from utils.renderer_gt import Renderer\n",
    "import config\n",
    "import constants\n",
    "\n",
    "seq_reshaped = np.reshape(seq['poses'][0][frame], (24, -1)) # reshaping the sequence file to make it inputtable on R.from_rotvec\n",
    "\n",
    "from scipy.spatial.transform import Rotation as R\n",
    "\n",
    "r = R.from_rotvec(seq_reshaped)\n",
    "seq_matrix = r.as_dcm()\n",
    "\n",
    "# Transforming the array of rotations into a tensor and adding one dimension, to make it compatible with the demo code\n",
    "\n",
    "seq_tensor = torch.as_tensor(seq_matrix,dtype=torch.float, device='cuda').unsqueeze(0)\n",
    "seq_tensor.size()"
   ]
  },
  {
   "cell_type": "code",
   "execution_count": 4,
   "metadata": {},
   "outputs": [],
   "source": [
    "#seq['betas'] contains the beta parameters of the SMPL ground truth\n",
    "\n",
    "gt_betas = torch.as_tensor(seq['betas'],dtype=torch.float, device='cuda')"
   ]
  },
  {
   "cell_type": "code",
   "execution_count": 5,
   "metadata": {},
   "outputs": [],
   "source": [
    "# Running the demo code with the ground-truth pose from 3dpw"
   ]
  },
  {
   "cell_type": "code",
   "execution_count": 6,
   "metadata": {},
   "outputs": [],
   "source": [
    "\"\"\"\n",
    "Demo code\n",
    "\n",
    "To run our method, you need a bounding box around the person. The person needs to be centered inside the bounding box and the bounding box should be relatively tight. You can either supply the bounding box directly or provide an [OpenPose](https://github.com/CMU-Perceptual-Computing-Lab/openpose) detection file. In the latter case we infer the bounding box from the detections.\n",
    "\n",
    "In summary, we provide 3 different ways to use our demo code and models:\n",
    "1. Provide only an input image (using ```--img```), in which case it is assumed that it is already cropped with the person centered in the image.\n",
    "2. Provide an input image as before, together with the OpenPose detection .json (using ```--openpose```). Our code will use the detections to compute the bounding box and crop the image.\n",
    "3. Provide an image and a bounding box (using ```--bbox```). The expected format for the json file can be seen in ```examples/im1010_bbox.json```.\n",
    "\n",
    "Example with OpenPose detection .json\n",
    "```\n",
    "python3 demo.py --checkpoint=data/model_checkpoint.pt --img=examples/im1010.png --openpose=examples/im1010_openpose.json\n",
    "```\n",
    "Example with predefined Bounding Box\n",
    "```\n",
    "python3 demo.py --checkpoint=data/model_checkpoint.pt --img=examples/im1010.png --bbox=examples/im1010_bbox.json\n",
    "```\n",
    "Example with cropped and centered image\n",
    "```\n",
    "python3 demo.py --checkpoint=data/model_checkpoint.pt --img=examples/im1010.png\n",
    "```\n",
    "\n",
    "Running the previous command will save the results in ```examples/im1010_{shape,shape_side}.png```. The file ```im1010_shape.png``` shows the overlayed reconstruction of human shape. We also render a side view, saved in ```im1010_shape_side.png```.\n",
    "\"\"\"\n",
    "\n",
    "import torch\n",
    "from torchvision.transforms import Normalize\n",
    "import numpy as np\n",
    "import cv2\n",
    "import argparse\n",
    "import json\n",
    "\n",
    "from models import hmr, SMPL\n",
    "from utils.imutils import crop\n",
    "from utils.renderer_gt import Renderer\n",
    "import config\n",
    "import constants\n",
    "\n",
    "parser = argparse.ArgumentParser()\n",
    "parser.add_argument('--checkpoint', required=True, help='Path to pretrained checkpoint')\n",
    "parser.add_argument('--img', type=str, required=True, help='Path to input image')\n",
    "parser.add_argument('--bbox', type=str, default=None, help='Path to .json file containing bounding box coordinates')\n",
    "parser.add_argument('--openpose', type=str, default=None, help='Path to .json containing openpose detections')\n",
    "parser.add_argument('--outfile', type=str, default=None, help='Filename of output images. If not set use input filename.')\n",
    "\n",
    "def bbox_from_openpose(openpose_file, rescale=1.2, detection_thresh=0.2):\n",
    "    \"\"\"Get center and scale for bounding box from openpose detections.\"\"\"\n",
    "    with open(openpose_file, 'r') as f:\n",
    "        keypoints = json.load(f)['people'][0]['pose_keypoints_2d']\n",
    "    keypoints = np.reshape(np.array(keypoints), (-1,3))\n",
    "    valid = keypoints[:,-1] > detection_thresh\n",
    "    valid_keypoints = keypoints[valid][:,:-1]\n",
    "    center = valid_keypoints.mean(axis=0)\n",
    "    bbox_size = (valid_keypoints.max(axis=0) - valid_keypoints.min(axis=0)).max()\n",
    "    # adjust bounding box tightness\n",
    "    scale = bbox_size / 200.0\n",
    "    scale *= rescale\n",
    "    return center, scale\n",
    "\n",
    "def bbox_from_json(bbox_file):\n",
    "    \"\"\"Get center and scale of bounding box from bounding box annotations.\n",
    "    The expected format is [top_left(x), top_left(y), width, height].\n",
    "    \"\"\"\n",
    "    with open(bbox_file, 'r') as f:\n",
    "        bbox = np.array(json.load(f)['bbox']).astype(np.float32)\n",
    "    ul_corner = bbox[:2]\n",
    "    center = ul_corner + 0.5 * bbox[2:]\n",
    "    width = max(bbox[2], bbox[3])\n",
    "    scale = width / 200.0\n",
    "    # make sure the bounding box is rectangular\n",
    "    return center, scale\n",
    "\n",
    "def process_image(img_file, bbox_file, openpose_file, input_res=224):\n",
    "    \"\"\"Read image, do preprocessing and possibly crop it according to the bounding box.\n",
    "    If there are bounding box annotations, use them to crop the image.\n",
    "    If no bounding box is specified but openpose detections are available, use them to get the bounding box.\n",
    "    \"\"\"\n",
    "    normalize_img = Normalize(mean=constants.IMG_NORM_MEAN, std=constants.IMG_NORM_STD)\n",
    "    img = cv2.imread(img_file)[:,:,::-1].copy() # PyTorch does not support negative stride at the moment\n",
    "    if bbox_file is None and openpose_file is None:\n",
    "        # Assume that the person is centerered in the image\n",
    "        height = img.shape[0]\n",
    "        width = img.shape[1]\n",
    "        center = np.array([width // 2, height // 2])\n",
    "        scale = max(height, width) / 200\n",
    "    else:\n",
    "        if bbox_file is not None:\n",
    "            center, scale = bbox_from_json(bbox_file)\n",
    "        elif openpose_file is not None:\n",
    "            center, scale = bbox_from_openpose(openpose_file)\n",
    "    img = crop(img, center, scale, (input_res, input_res))\n",
    "    img = img.astype(np.float32) / 255.\n",
    "    img = torch.from_numpy(img).permute(2,0,1)\n",
    "    norm_img = normalize_img(img.clone())[None]\n",
    "    return img, norm_img\n",
    "\n",
    "if __name__ == '__main__':\n",
    "    \n",
    "    #args = parser.parse_args()\n",
    "    #Here we insert our own bootlegged arguments list\n",
    "    #\n",
    "    args = parser.parse_args(['--checkpoint=data/model_checkpoint.pt','--img='+img_path])\n",
    "    #\n",
    "    #\n",
    "    \n",
    "    device = torch.device('cuda') if torch.cuda.is_available() else torch.device('cpu')\n",
    "    \n",
    "    # Load pretrained model\n",
    "    model = hmr(config.SMPL_MEAN_PARAMS).to(device)\n",
    "    checkpoint = torch.load(args.checkpoint)\n",
    "    model.load_state_dict(checkpoint['model'], strict=False)\n",
    "\n",
    "    # Load SMPL model\n",
    "    smpl = SMPL(config.SMPL_MODEL_DIR,\n",
    "                batch_size=1,\n",
    "                create_transl=False).to(device)\n",
    "    model.eval()\n",
    "\n",
    "    # Setup renderer for visualization\n",
    "    renderer = Renderer(focal_length=constants.FOCAL_LENGTH, img_res=constants.IMG_RES, faces=smpl.faces)\n",
    "\n",
    "\n",
    "    # Preprocess input image and generate predictions\n",
    "    img, norm_img = process_image(args.img, args.bbox, args.openpose, input_res=constants.IMG_RES)\n",
    "    with torch.no_grad():\n",
    "        pred_rotmat, pred_betas, pred_camera = model(norm_img.to(device))\n",
    "        \n",
    "        # We are bootlegging our ground_truth parameters here\n",
    "        pred_output = smpl(betas=gt_betas, body_pose=seq_tensor[:,1:], global_orient=seq_tensor[:,0].unsqueeze(1), pose2rot=False)\n",
    "        #\n",
    "        \n",
    "        pred_vertices = pred_output.vertices\n",
    "        \n",
    "    # Calculate camera parameters for rendering\n",
    "    camera_translation = torch.stack([pred_camera[:,1], pred_camera[:,2], 2*constants.FOCAL_LENGTH/(constants.IMG_RES * pred_camera[:,0] +1e-9)],dim=-1)\n",
    "    camera_translation = camera_translation[0].cpu().numpy()\n",
    "    pred_vertices = pred_vertices[0].cpu().numpy()\n",
    "    img = img.permute(1,2,0).cpu().numpy()\n",
    "\n",
    "    \n",
    "    # Render parametric shape\n",
    "    img_shape = renderer(pred_vertices, camera_translation, img, pickle_path, frame)\n",
    "    \n",
    "    # Render side views\n",
    "    aroundy = cv2.Rodrigues(np.array([0, np.radians(90.), 0]))[0]\n",
    "    center = pred_vertices.mean(axis=0)\n",
    "    rot_vertices = np.dot((pred_vertices - center), aroundy) + center\n",
    "    \n",
    "    # Render non-parametric shape\n",
    "    img_shape_side = renderer(rot_vertices, camera_translation, np.ones_like(img), pickle_path, frame)\n",
    "\n",
    "    outfile = args.img.split('.')[0] if args.outfile is None else args.outfile\n",
    "    \n",
    "    # Here we add _gt_ to differentiate the output\n",
    "\n",
    "    # Save reconstructions\n",
    "    cv2.imwrite(outfile + '_gt_shape.png', 255 * img_shape[:,:,::-1])\n",
    "    cv2.imwrite(outfile + '_gt_shape_side.png', 255 * img_shape_side[:,:,::-1])"
   ]
  },
  {
   "cell_type": "code",
   "execution_count": 7,
   "metadata": {},
   "outputs": [
    {
     "data": {
      "text/plain": [
       "<matplotlib.image.AxesImage at 0x7ff5100b4940>"
      ]
     },
     "execution_count": 7,
     "metadata": {},
     "output_type": "execute_result"
    },
    {
     "data": {
      "image/png": "[encoded data removed]",
      "text/plain": [
       "<Figure size 432x288 with 1 Axes>"
      ]
     },
     "metadata": {
      "needs_background": "light"
     },
     "output_type": "display_data"
    }
   ],
   "source": [
    "%matplotlib inline\n",
    "\n",
    "import matplotlib.pyplot as plt\n",
    "\n",
    "output_image = plt.imread(img_path[:-4]+'_gt_shape.png')\n",
    "plt.imshow(output_image)"
   ]
  },
  {
   "cell_type": "code",
   "execution_count": 8,
   "metadata": {},
   "outputs": [
    {
     "data": {
      "text/plain": [
       "<matplotlib.image.AxesImage at 0x7ff5100550b8>"
      ]
     },
     "execution_count": 8,
     "metadata": {},
     "output_type": "execute_result"
    },
    {
     "data": {
      "image/png": "[encoded data removed]",
      "text/plain": [
       "<Figure size 432x288 with 1 Axes>"
      ]
     },
     "metadata": {
      "needs_background": "light"
     },
     "output_type": "display_data"
    }
   ],
   "source": [
    "output_image_side = plt.imread(img_path[:-4]+'_gt_shape_side.png')\n",
    "plt.imshow(output_image_side)"
   ]
  },
  {
   "cell_type": "code",
   "execution_count": 9,
   "metadata": {},
   "outputs": [],
   "source": [
    "seq = pkl.load(open(pickle_path,'rb'),encoding='latin-1')"
   ]
  },
  {
   "cell_type": "code",
   "execution_count": 10,
   "metadata": {},
   "outputs": [
    {
     "data": {
      "text/plain": [
       "array([-4.51536851, -1.09855333,  1.71583693])"
      ]
     },
     "execution_count": 10,
     "metadata": {},
     "output_type": "execute_result"
    }
   ],
   "source": [
    "seq['cam_poses'][frame][:3, 3]"
   ]
  },
  {
   "cell_type": "code",
   "execution_count": 11,
   "metadata": {},
   "outputs": [
    {
     "data": {
      "text/plain": [
       "array([-6.7126518e-03,  2.4322587e-01,  4.5735645e+01], dtype=float32)"
      ]
     },
     "execution_count": 11,
     "metadata": {},
     "output_type": "execute_result"
    }
   ],
   "source": [
    "camera_translation"
   ]
  },
  {
   "cell_type": "code",
   "execution_count": 12,
   "metadata": {},
   "outputs": [
    {
     "data": {
      "text/plain": [
       "array([[ 0.87993836,  0.01627723,  0.47480895, -4.51536851],\n",
       "       [-0.12350747, -0.95721291,  0.26170471, -1.09855333],\n",
       "       [ 0.45875308, -0.28892647, -0.84027799,  1.71583693],\n",
       "       [ 0.        ,  0.        ,  0.        ,  1.        ]])"
      ]
     },
     "execution_count": 12,
     "metadata": {},
     "output_type": "execute_result"
    }
   ],
   "source": [
    "seq['cam_poses'][frame]"
   ]
  },
  {
   "cell_type": "code",
   "execution_count": 13,
   "metadata": {},
   "outputs": [],
   "source": [
    "camera_translation = torch.stack([pred_camera[:,1], pred_camera[:,2], 2*constants.FOCAL_LENGTH/(constants.IMG_RES * pred_camera[:,0] +1e-9)],dim=-1)"
   ]
  },
  {
   "cell_type": "code",
   "execution_count": 14,
   "metadata": {},
   "outputs": [
    {
     "data": {
      "text/plain": [
       "tensor([[ 0.9761, -0.0067,  0.2432]], device='cuda:0')"
      ]
     },
     "execution_count": 14,
     "metadata": {},
     "output_type": "execute_result"
    }
   ],
   "source": [
    "pred_camera"
   ]
  },
  {
   "cell_type": "code",
   "execution_count": 15,
   "metadata": {},
   "outputs": [
    {
     "data": {
      "text/plain": [
       "tensor([[-6.7127e-03,  2.4323e-01,  4.5736e+01]], device='cuda:0')"
      ]
     },
     "execution_count": 15,
     "metadata": {},
     "output_type": "execute_result"
    }
   ],
   "source": [
    "camera_translation"
   ]
  },
  {
   "cell_type": "code",
   "execution_count": 16,
   "metadata": {},
   "outputs": [],
   "source": [
    "camera_translation = camera_translation[0].cpu().numpy()"
   ]
  },
  {
   "cell_type": "code",
   "execution_count": 17,
   "metadata": {},
   "outputs": [
    {
     "data": {
      "text/plain": [
       "array([-6.7126518e-03,  2.4322587e-01,  4.5735645e+01], dtype=float32)"
      ]
     },
     "execution_count": 17,
     "metadata": {},
     "output_type": "execute_result"
    }
   ],
   "source": [
    "camera_translation"
   ]
  },
  {
   "cell_type": "code",
   "execution_count": 18,
   "metadata": {},
   "outputs": [],
   "source": [
    "camera_translation[0] *= -1."
   ]
  },
  {
   "cell_type": "code",
   "execution_count": 19,
   "metadata": {},
   "outputs": [
    {
     "data": {
      "text/plain": [
       "array([6.7126518e-03, 2.4322587e-01, 4.5735645e+01], dtype=float32)"
      ]
     },
     "execution_count": 19,
     "metadata": {},
     "output_type": "execute_result"
    }
   ],
   "source": [
    "camera_translation"
   ]
  },
  {
   "cell_type": "code",
   "execution_count": 20,
   "metadata": {},
   "outputs": [
    {
     "data": {
      "text/plain": [
       "5.397950925531867"
      ]
     },
     "execution_count": 20,
     "metadata": {},
     "output_type": "execute_result"
    }
   ],
   "source": [
    "2*constants.FOCAL_LENGTH/(constants.IMG_RES * seq['cam_poses'][frame][2,3] +1e-9)/4.82"
   ]
  },
  {
   "cell_type": "code",
   "execution_count": 21,
   "metadata": {},
   "outputs": [
    {
     "data": {
      "text/plain": [
       "4.821428571428571"
      ]
     },
     "execution_count": 21,
     "metadata": {},
     "output_type": "execute_result"
    }
   ],
   "source": [
    "1080/224"
   ]
  },
  {
   "cell_type": "code",
   "execution_count": null,
   "metadata": {},
   "outputs": [],
   "source": []
  }
 ],
 "metadata": {
  "kernelspec": {
   "display_name": "Python 3",
   "language": "python",
   "name": "python3"
  },
  "language_info": {
   "codemirror_mode": {
    "name": "ipython",
    "version": 3
   },
   "file_extension": ".py",
   "mimetype": "text/x-python",
   "name": "python",
   "nbconvert_exporter": "python",
   "pygments_lexer": "ipython3",
   "version": "3.6.7"
  }
 },
 "nbformat": 4,
 "nbformat_minor": 4
}
