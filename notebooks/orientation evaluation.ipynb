{
 "cells": [
  {
   "cell_type": "code",
   "execution_count": 48,
   "metadata": {},
   "outputs": [],
   "source": [
    "def orientation_evaluation(gt_pose, pred_rotmat, batch_size, curr_batch_size, step):\n",
    "\n",
    "    import torch\n",
    "    import numpy as np\n",
    "    from scipy.spatial.transform import Rotation as R\n",
    "    \n",
    "    # Orientation evaluation\n",
    "    # Taking as input gt_pose in axis-angle representation and pred_rotmat in rotation matrix representation\n",
    "\n",
    "    gt_rotvec = torch.zeros((curr_batch_size,24,3), dtype=torch.double) # Reshaping the axis-angle (batch, 72) to (batch, 24, 3) for rotation vector compatibility\n",
    "\n",
    "    for i, row in enumerate(gt_pose):\n",
    "        gt_rotvec[i] = torch.reshape(row,(24, -1))\n",
    "\n",
    "    #print(\"gt_rotvec\", gt_rotvec.shape, gt_rotvec)\n",
    "\n",
    "    # Get prediction as rotation vectors\n",
    "\n",
    "    pred_rotvec_arr = np.zeros((curr_batch_size,24,3)) # Has to be a numpy array because it works with Rotation\n",
    "\n",
    "    for i, row in enumerate(pred_rotmat):\n",
    "        r = R.from_dcm(row.cpu()) # create the rotation object from the rotation matrix\n",
    "        pred_rotvec_arr[i] = R.as_rotvec(r) # write it as rotation vectors in pred_rotvec_arr\n",
    "\n",
    "    pred_rotvec = torch.from_numpy(pred_rotvec_arr) # transform it to a tensor\n",
    "\n",
    "    #print(\"pred_rotvec\", pred_rotvec.shape, pred_rotvec)\n",
    "\n",
    "    orientation_error_per_part = np.degrees(torch.sqrt((gt_rotvec - pred_rotvec)**2))\n",
    "    # This gives the error per part\n",
    "\n",
    "    #print(\"error per part\", orientation_error_non_reduced.shape, orientation_error_non_reduced)\n",
    "\n",
    "    orientation_error = np.degrees(torch.sqrt((gt_rotvec - pred_rotvec)**2).sum(dim=-1).mean(dim=-1))\n",
    "    # The reduction above is wrong. For a 90 degree error in one angle, it averages out 3.75 degrees, which\n",
    "    # is 90/24. The correct reduction would be a mean of 1.25 (90/72), because there are 72 angles (3 for each part)\n",
    "    # To remove the root, add [:,1:,:] to gt_euler and pred_euler above\n",
    "\n",
    "    orientation_error_new = np.degrees(torch.sqrt((gt_rotvec - pred_rotvec)**2).mean(dim=[1,2]))\n",
    "    # This reduction is more accurate because it averages the error per part and then the error across parts\n",
    "    # It is equivalent to .mean(dim=-1).mean(dim=-1)\n",
    "\n",
    "    #print(np.size(orientation_error_per_part), orientation_error_per_part)\n",
    "\n",
    "    #print(\"orientation_error\")\n",
    "    #print(orientation_error)\n",
    "    #print()\n",
    "    #print(\"orientation_error_new\")\n",
    "    #print(orientation_error_new)\n",
    "    #print()\n",
    "\n",
    "    return orientation_error_per_part, orientation_error, orientation_error_new"
   ]
  },
  {
   "cell_type": "code",
   "execution_count": 49,
   "metadata": {},
   "outputs": [],
   "source": [
    "import torch\n",
    "import numpy as np\n",
    "from scipy.spatial.transform import Rotation as R\n",
    "\n",
    "orientation_error_per_part = torch.zeros(32, 24, 3)"
   ]
  },
  {
   "cell_type": "code",
   "execution_count": 53,
   "metadata": {},
   "outputs": [
    {
     "data": {
      "text/plain": [
       "torch.Size([32, 24, 3])"
      ]
     },
     "execution_count": 53,
     "metadata": {},
     "output_type": "execute_result"
    }
   ],
   "source": [
    "gt_pose = torch.zeros(32,72)\n",
    "pred_rotmat = torch.zeros(32,24,3,3)\n",
    "pred_rotmat[:,:] = torch.eye(3,3)\n",
    "\n",
    "orientation_error_per_part, orientation_error, orientation_error_new = orientation_evaluation(gt_pose, pred_rotmat, 32, 32, 0)\n",
    "\n",
    "orientation_error_per_part.shape"
   ]
  },
  {
   "cell_type": "code",
   "execution_count": 1,
   "metadata": {},
   "outputs": [
    {
     "data": {
      "text/html": [
       "<style>.container { width:100% !important; }</style>"
      ],
      "text/plain": [
       "<IPython.core.display.HTML object>"
      ]
     },
     "metadata": {},
     "output_type": "display_data"
    }
   ],
   "source": [
    "from IPython.core.display import display, HTML\n",
    "display(HTML(\"<style>.container { width:100% !important; }</style>\"))"
   ]
  },
  {
   "cell_type": "code",
   "execution_count": 12,
   "metadata": {},
   "outputs": [
    {
     "name": "stdout",
     "output_type": "stream",
     "text": [
      "0\n",
      "1\n",
      "2\n",
      "3\n",
      "4\n",
      "5\n",
      "6\n",
      "7\n",
      "8\n",
      "9\n",
      "10\n",
      "11\n",
      "12\n",
      "13\n",
      "14\n",
      "15\n",
      "16\n",
      "17\n",
      "18\n",
      "19\n",
      "20\n",
      "21\n",
      "22\n",
      "23\n",
      "24\n",
      "25\n",
      "26\n",
      "27\n",
      "28\n",
      "29\n",
      "30\n",
      "31\n"
     ]
    },
    {
     "data": {
      "text/plain": [
       "tensor([[1., 1., 1.,  ..., 1., 1., 1.],\n",
       "        [1., 1., 1.,  ..., 1., 1., 1.],\n",
       "        [1., 1., 1.,  ..., 1., 1., 1.],\n",
       "        ...,\n",
       "        [1., 1., 1.,  ..., 1., 1., 1.],\n",
       "        [1., 1., 1.,  ..., 1., 1., 1.],\n",
       "        [1., 1., 1.,  ..., 1., 1., 1.]])"
      ]
     },
     "execution_count": 12,
     "metadata": {},
     "output_type": "execute_result"
    }
   ],
   "source": [
    "import torch\n",
    "\n",
    "test_tensor = torch.ones(32,72)\n",
    "\n",
    "target_tensor = torch.zeros(32, 72)\n",
    "\n",
    "#i = 0\n",
    "for i, row in enumerate(test_tensor):\n",
    "    target_tensor[i] = row\n",
    "#    i += 1\n",
    "    \n",
    "target_tensor"
   ]
  },
  {
   "cell_type": "code",
   "execution_count": null,
   "metadata": {},
   "outputs": [],
   "source": []
  }
 ],
 "metadata": {
  "kernelspec": {
   "display_name": "Python 3",
   "language": "python",
   "name": "python3"
  },
  "language_info": {
   "codemirror_mode": {
    "name": "ipython",
    "version": 3
   },
   "file_extension": ".py",
   "mimetype": "text/x-python",
   "name": "python",
   "nbconvert_exporter": "python",
   "pygments_lexer": "ipython3",
   "version": "3.6.7"
  }
 },
 "nbformat": 4,
 "nbformat_minor": 4
}
