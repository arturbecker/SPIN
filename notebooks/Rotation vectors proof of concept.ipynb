{
 "cells": [
  {
   "cell_type": "code",
   "execution_count": 1,
   "metadata": {},
   "outputs": [],
   "source": [
    "from scipy.spatial.transform import Rotation as R # Magnitude (and '*_matrix', use '*_dcm' instead) require a newer version of SciPy than SPIN's\n",
    "import numpy as np\n",
    "import torch"
   ]
  },
  {
   "cell_type": "code",
   "execution_count": 2,
   "metadata": {},
   "outputs": [],
   "source": [
    "# Let's test this by loading up a real example from 3dpw\n",
    "\n",
    "import pickle as pkl\n",
    "\n",
    "img_path = 'examples/image_00502_crop.jpg'\n",
    "#img_path = 'examples/image_00980.jpg'\n",
    "\n",
    "pickle_path = 'data/3dpw/sequenceFiles/validation/courtyard_basketball_01.pkl'\n",
    "#pickle_path = 'data/3dpw/sequenceFiles/validation/outdoors_parcours_01.pkl'\n",
    "\n",
    "frame = 502"
   ]
  },
  {
   "cell_type": "code",
   "execution_count": 3,
   "metadata": {},
   "outputs": [],
   "source": [
    "# using IPython's Magic %run let's us cleanly run the Demo script and get the variables defined\n",
    "# therein into this notebook. use $ to insert variables from the notebook into any %magic command\n",
    "%run demo.py --checkpoint=data/model_checkpoint.pt --img=$img_path"
   ]
  },
  {
   "cell_type": "code",
   "execution_count": 4,
   "metadata": {},
   "outputs": [],
   "source": [
    "# open the sequence file, fetch the body_pose of the corresponding frame from it, remove global orientation\n",
    "# and reshape it from (69,1) to (23,3) to input into a rotation object\n",
    "\n",
    "seq = pkl.load(open(pickle_path,'rb'),encoding='latin-1')\n",
    "gt_pose_axis_angle = seq['poses'][0][frame][3:]\n",
    "gt_pose = R.from_rotvec(np.reshape(gt_pose_axis_angle, (23,-1)))"
   ]
  },
  {
   "cell_type": "code",
   "execution_count": 5,
   "metadata": {},
   "outputs": [],
   "source": [
    "# create a rotation object from the predicted pose output of demo.py\n",
    "\n",
    "pred_pose = R.from_dcm(pred_output.body_pose.squeeze().cpu())"
   ]
  },
  {
   "cell_type": "code",
   "execution_count": 6,
   "metadata": {},
   "outputs": [],
   "source": [
    "# show the difference between the predicted and the ground truth pose\n",
    "\n",
    "#e = R.as_euler(gt_pose, 'xyz', degrees=True)\n",
    "#e"
   ]
  },
  {
   "cell_type": "code",
   "execution_count": 7,
   "metadata": {},
   "outputs": [],
   "source": [
    "# Now, let's check through examples that this behavior makes sense\n",
    "\n",
    "#Left hip [flexion(front kick), external rotation, abduction]\n",
    "#Right hip [extension(back kick), internal rotation, adduction]\n",
    "#Spine [flexion (crunch),  rotate to the left, touch right toe]\n",
    "#Left knee [flexion, external rotation, abduction]\n",
    "#Right knee [extension, internal rotation, adduction]\n",
    "#Torso [flexion (crunch), rotate to the left, touch right shin]\n",
    "#Left ankle [flexion, external rotation, abduction]\n",
    "#Right ankle [flexion, internal rotation, adduction]\n",
    "#Chest [flexion (crunch), rotate to the left, touch right knee]\n",
    "#Left toes [flexion, fibular deviation, pronation]\n",
    "#Right toes [flexion, tibial deviation, supination]\n",
    "#Neck [flexion, rotate to the left, touch right shoulder]\n",
    "#Left scapula [internal rotation, rotate backwards, lift arm]\n",
    "#Right scapula [internal rotation, rotate forward, lower arm]\n",
    "#Skull [flexion, look to the left, touch right shoulder]\n",
    "#Left shoulder [internal rotation, rotate backwards, lift arm]\n",
    "#Right shoulder [internal rotation, rotate forward, lower arm]\n",
    "#Left elbow [internal rotation, hyperextension, abduction (unnatural)]\n",
    "#Right elbow [internal rotation, flexion, adduction (unnatural)]\n",
    "#Left wrist [interal rotation, ulnar deviation, extension]\n",
    "#Right wrist [internal rotation, radial deviation, flexion]\n",
    "#Left knuckles [internal rotation, ulnar deviation (unnatural), hyperextension]\n",
    "#Right knuckles [internal rotation, radial deviation, flexion]"
   ]
  },
  {
   "cell_type": "code",
   "execution_count": 3,
   "metadata": {},
   "outputs": [],
   "source": [
    "d = {\n",
    "     'Left hip':{'Name': 'Left hip', 'x': 'Flexion', 'y': 'External rotation', 'z': 'Abduction'},\n",
    "     'Right hip':{'Name': 'Right hip', 'x': 'Extension', 'y': 'Internal rotation', 'z': 'Adduction'},\n",
    "     'Spine':{'Name': 'Spine', 'x': 'Flexion', 'y': 'Rotate to the left', 'z': 'Touch right ankle'},\n",
    "     'Left knee':{'Name': 'Left knee', 'x': 'Flexion', 'y': 'External rotation', 'z': 'Abduction'},\n",
    "     'Right knee':{'Name': 'Right knee', 'x': 'Extension', 'y': 'External rotation', 'z': 'Adduction'},\n",
    "     'Torso':{'Name': 'Torso', 'x': 'Flexion', 'y': 'Rotate to the left', 'z': 'Touch right shin'},\n",
    "     'Left ankle':{'Name': 'Left ankle', 'x': 'Flexion', 'y': 'External rotation', 'z': 'Abduction'},\n",
    "     'Right ankle':{'Name': 'Right ankle', 'x': 'Flexion', 'y': 'Internal rotation', 'z': 'Adduction'},\n",
    "     'Chest':{'Name': 'Chest', 'x': 'Flexion', 'y': 'Rotate to the left', 'z': 'Touch right knee'},\n",
    "     'Left toes':{'Name': 'Left toes', 'x': 'Flexion', 'y': 'Fibular deviation', 'z': 'Pronation'},\n",
    "     'Right toes':{'Name': 'Right toes', 'x': 'Flexion', 'y': 'Tibial deviation', 'z': 'Supination'},\n",
    "     'Neck':{'Name': 'Neck', 'x': 'Flexion', 'y': 'Rotate to the left', 'z': 'Touch right shoulder'},\n",
    "     'Left scapula':{'Name': 'Left scapula', 'x': 'Internal rotation', 'y': 'Rotate backwards', 'z': 'Clockwise rotation'},\n",
    "     'Right scapula':{'Name': 'Right scapula', 'x': 'Internal rotation', 'y': 'Rotate forward', 'z': 'Clockwise rotation'},\n",
    "     'Skull':{'Name': 'Skull', 'x': 'Flexion', 'y': 'Look to the left', 'z': 'Touch right shoulder'},\n",
    "     'Left shoulder':{'Name': 'Left shoulder', 'x': 'Internal rotation', 'y': 'Rotate backwards', 'z': 'Raise arm'},\n",
    "     'Right shoulder':{'Name': 'Right shoulder', 'x': 'Internal rotation', 'y': 'Rotate forward', 'z': 'Lower arm'},\n",
    "     'Left elbow':{'Name': 'Left elbow', 'x': 'Internal rotation', 'y': 'Extension', 'z': 'Abduction'},\n",
    "     'Right elbow':{'Name': 'Right elbow', 'x': 'Internal rotation', 'y': 'Flexion', 'z': 'Adduction'},\n",
    "     'Left wrist':{'Name': 'Left wrist', 'x': 'Internal rotation', 'y': 'Ulnar deviation', 'z': 'Extension'},\n",
    "     'Right wrist':{'Name': 'Right wrist', 'x': 'Internal rotation', 'y': 'Radial deviation', 'z': 'Flexion'},\n",
    "     'Left knuckles':{'Name': 'Left knuckles', 'x': 'Internal rotation', 'y': 'Ulnar deviation', 'z': 'Extension'},\n",
    "     'Right knuckles':{'Name': 'Right knuckles', 'x': 'Internal rotation', 'y': 'Radial deviation', 'z': 'Flexion'},\n",
    "    }"
   ]
  },
  {
   "cell_type": "code",
   "execution_count": 9,
   "metadata": {},
   "outputs": [
    {
     "data": {
      "text/plain": [
       "torch.Size([23, 3])"
      ]
     },
     "execution_count": 9,
     "metadata": {},
     "output_type": "execute_result"
    }
   ],
   "source": [
    "mpjae = torch.load('mpjae_per_part.pt')\n",
    "mpjae_mean = mpjae.mean(dim=0)\n",
    "mpjae_mean_no_root = mpjae_mean[1:]\n",
    "mpjae_mean_no_root.shape"
   ]
  },
  {
   "cell_type": "code",
   "execution_count": 11,
   "metadata": {},
   "outputs": [
    {
     "name": "stdout",
     "output_type": "stream",
     "text": [
      "Left hip                      Flexion   10.05    External rotation    5.62            Abduction    4.08\n",
      "Right hip                   Extension    9.84    Internal rotation    4.61            Adduction    4.88\n",
      "Spine                         Flexion    9.16   Rotate to the left    2.08    Touch right ankle    2.28\n",
      "Left knee                     Flexion   16.95    External rotation    5.13            Abduction    6.10\n",
      "Right knee                  Extension   16.49    External rotation    4.13            Adduction    4.92\n",
      "Torso                         Flexion    4.42   Rotate to the left    2.16     Touch right shin    2.04\n",
      "Left ankle                    Flexion    4.77    External rotation    8.33            Abduction    3.90\n",
      "Right ankle                   Flexion    5.54    Internal rotation   11.17            Adduction    6.72\n",
      "Chest                         Flexion    3.01   Rotate to the left    1.69     Touch right knee    1.01\n",
      "Left toes                     Flexion   11.98    Fibular deviation    8.33            Pronation    8.11\n",
      "Right toes                    Flexion    3.91     Tibial deviation    6.49           Supination   11.55\n",
      "Neck                          Flexion    5.99   Rotate to the left    8.01 Touch right shoulder    5.41\n",
      "Left scapula        Internal rotation    3.65     Rotate backwards    9.78            Raise arm   10.57\n",
      "Right scapula       Internal rotation    4.61       Rotate forward    7.84            Lower arm   10.80\n",
      "Skull                         Flexion   10.28     Look to the left    6.65 Touch right shoulder    5.50\n",
      "Left shoulder       Internal rotation    8.75     Rotate backwards    7.72            Raise arm   12.13\n",
      "Right shoulder      Internal rotation   13.82       Rotate forward    8.58            Lower arm   11.11\n",
      "Left elbow          Internal rotation   16.63            Extension   18.68            Abduction   13.11\n",
      "Right elbow         Internal rotation   15.89              Flexion   16.88            Adduction   15.42\n",
      "Left wrist          Internal rotation    8.48      Ulnar deviation    6.40            Extension   17.38\n",
      "Right wrist         Internal rotation    5.16     Radial deviation    4.71              Flexion   12.70\n",
      "Left knuckles       Internal rotation    3.27      Ulnar deviation    2.17            Extension    1.55\n",
      "Right knuckles      Internal rotation    1.79     Radial deviation    1.02              Flexion    1.60\n"
     ]
    }
   ],
   "source": [
    "e = mpjae_mean_no_root\n",
    "\n",
    "i = 0\n",
    "for key in d:    \n",
    "    print('{:16}'.format(d[key]['Name']),\n",
    "          '{:>20}'.format(d[key]['x']),'{:> 7.2f}'.format(e[i][0]),\n",
    "          '{:>20}'.format(d[key]['y']),'{:> 7.2f}'.format(e[i][1]),\n",
    "          '{:>20}'.format(d[key]['z']),'{:> 7.2f}'.format(e[i][2]))\n",
    "    i+=1"
   ]
  },
  {
   "cell_type": "code",
   "execution_count": 10,
   "metadata": {},
   "outputs": [
    {
     "name": "stdout",
     "output_type": "stream",
     "text": [
      "Left hip                      Flexion  -14.28    External rotation   -4.00            Abduction    4.80\n",
      "Right hip                   Extension    6.29    Internal rotation   -4.64            Adduction   -7.11\n",
      "Spine                         Flexion    5.57   Rotate to the left    3.83    Touch right ankle    1.37\n",
      "Left knee                     Flexion   33.36    External rotation   -7.89            Abduction   -5.22\n",
      "Right knee                  Extension   40.79    External rotation   10.29            Adduction    1.49\n",
      "Torso                         Flexion   -2.53   Rotate to the left   -1.29     Touch right shin    0.95\n",
      "Left ankle                    Flexion   -1.98    External rotation    8.60            Abduction   -7.68\n",
      "Right ankle                   Flexion   -9.52    Internal rotation  -12.81            Adduction    9.81\n",
      "Chest                         Flexion   -1.05   Rotate to the left    1.87     Touch right knee    0.91\n",
      "Left toes                     Flexion  -10.76    Fibular deviation    5.31            Pronation   12.86\n",
      "Right toes                    Flexion   -8.06     Tibial deviation    8.01           Supination  -13.94\n",
      "Neck                          Flexion   -8.95   Rotate to the left   11.66 Touch right shoulder    0.61\n",
      "Left scapula        Internal rotation  -17.24     Rotate backwards  -33.21            Raise arm    8.42\n",
      "Right scapula       Internal rotation  -16.33       Rotate forward   35.89            Lower arm   -7.67\n",
      "Skull                         Flexion    8.19     Look to the left    5.25 Touch right shoulder   -4.05\n",
      "Left shoulder       Internal rotation  -21.79     Rotate backwards  -36.11            Raise arm   -1.46\n",
      "Right shoulder      Internal rotation  -17.70       Rotate forward   39.44            Lower arm    5.41\n",
      "Left elbow          Internal rotation  -18.87            Extension  -76.44            Abduction   29.21\n",
      "Right elbow         Internal rotation  -20.07              Flexion   80.26            Adduction  -32.96\n",
      "Left wrist          Internal rotation   -3.54      Ulnar deviation   -9.35            Extension   12.49\n",
      "Right wrist         Internal rotation   -2.85     Radial deviation    8.74              Flexion  -10.42\n",
      "Left knuckles       Internal rotation    1.76      Ulnar deviation   -1.52            Extension   -6.97\n",
      "Right knuckles      Internal rotation    0.82     Radial deviation    3.43              Flexion    6.23\n"
     ]
    }
   ],
   "source": [
    "e = np.degrees(R.as_rotvec(pred_pose))\n",
    "\n",
    "i = 0\n",
    "for key in d:    \n",
    "    print('{:16}'.format(d[key]['Name']),\n",
    "          '{:>20}'.format(d[key]['x']),'{:> 7.2f}'.format(e[i][0]),\n",
    "          '{:>20}'.format(d[key]['y']),'{:> 7.2f}'.format(e[i][1]),\n",
    "          '{:>20}'.format(d[key]['z']),'{:> 7.2f}'.format(e[i][2]))\n",
    "    i+=1"
   ]
  },
  {
   "cell_type": "code",
   "execution_count": 12,
   "metadata": {},
   "outputs": [
    {
     "name": "stdout",
     "output_type": "stream",
     "text": [
      "Left hip                      Flexion   17.35    External rotation    6.63            Abduction    5.19\n",
      "Right hip                   Extension   12.80    Internal rotation   18.63            Adduction   -3.77\n",
      "Spine                         Flexion   20.17   Rotate to the left   -4.03    Touch right ankle    4.12\n",
      "Left knee                     Flexion   -5.90    External rotation    4.73            Abduction    3.65\n",
      "Right knee                  Extension   -7.21    External rotation   -3.10            Adduction    0.34\n",
      "Torso                         Flexion    2.25   Rotate to the left    6.70     Touch right shin   -6.27\n",
      "Left ankle                    Flexion   -2.89    External rotation   -6.93            Abduction    1.65\n",
      "Right ankle                   Flexion   17.40    Internal rotation   20.31            Adduction  -14.53\n",
      "Chest                         Flexion   -1.87   Rotate to the left    1.37     Touch right knee   -3.94\n",
      "Left toes                     Flexion   10.20    Fibular deviation   -5.97            Pronation   -9.94\n",
      "Right toes                    Flexion    5.75     Tibial deviation  -13.30           Supination   17.49\n",
      "Neck                          Flexion   -2.07   Rotate to the left   11.77 Touch right shoulder  -30.18\n",
      "Left scapula        Internal rotation   -0.72     Rotate backwards   10.83            Raise arm    3.81\n",
      "Right scapula       Internal rotation    6.05       Rotate forward  -30.43            Lower arm   -2.80\n",
      "Skull                         Flexion  -10.25     Look to the left   -8.21 Touch right shoulder   28.52\n",
      "Left shoulder       Internal rotation   -9.67     Rotate backwards    1.35            Raise arm  -14.92\n",
      "Right shoulder      Internal rotation  -18.06       Rotate forward   35.04            Lower arm    0.29\n",
      "Left elbow          Internal rotation   42.15            Extension   33.35            Abduction   39.05\n",
      "Right elbow         Internal rotation   14.02              Flexion   -7.99            Adduction   16.46\n",
      "Left wrist          Internal rotation   29.71      Ulnar deviation   13.88            Extension   67.16\n",
      "Right wrist         Internal rotation   -8.27     Radial deviation   -5.02              Flexion  -50.18\n",
      "Left knuckles       Internal rotation  -16.56      Ulnar deviation   -0.48            Extension  -10.77\n",
      "Right knuckles      Internal rotation   -8.93     Radial deviation    2.56              Flexion    9.93\n"
     ]
    }
   ],
   "source": [
    "r = R.as_rotvec(gt_pose)\n",
    "q = R.as_rotvec(pred_pose)\n",
    "\n",
    "e = np.degrees(r-q)\n",
    "\n",
    "i = 0\n",
    "for key in d:    \n",
    "    print('{:16}'.format(d[key]['Name']),\n",
    "          '{:>20}'.format(d[key]['x']),'{:> 7.2f}'.format(e[i][0]),\n",
    "          '{:>20}'.format(d[key]['y']),'{:> 7.2f}'.format(e[i][1]),\n",
    "          '{:>20}'.format(d[key]['z']),'{:> 7.2f}'.format(e[i][2]))\n",
    "    i+=1"
   ]
  },
  {
   "cell_type": "code",
   "execution_count": 20,
   "metadata": {},
   "outputs": [
    {
     "data": {
      "text/plain": [
       "12.577570935087879"
      ]
     },
     "execution_count": 20,
     "metadata": {},
     "output_type": "execute_result"
    }
   ],
   "source": [
    "abs(e).mean()"
   ]
  },
  {
   "cell_type": "code",
   "execution_count": 36,
   "metadata": {},
   "outputs": [],
   "source": [
    "# Let's say we now want to make our own SMPL pose with an elbow flexed at 90 degrees:\n",
    "\n",
    "gt_pose_axis_angle = np.zeros(69)\n",
    "gt_pose_axis_angle[58-3] = np.pi/2\n",
    "gt_pose = R.from_rotvec(np.reshape(gt_pose_axis_angle, (23,-1)))"
   ]
  },
  {
   "cell_type": "code",
   "execution_count": 37,
   "metadata": {},
   "outputs": [
    {
     "name": "stdout",
     "output_type": "stream",
     "text": [
      "Left hip                      Flexion    0.00    External rotation    0.00            Abduction    0.00\n",
      "Right hip                   Extension    0.00    Internal rotation    0.00            Adduction    0.00\n",
      "Spine                         Flexion    0.00   Rotate to the left    0.00    Touch right ankle    0.00\n",
      "Left knee                     Flexion    0.00    External rotation    0.00            Abduction    0.00\n",
      "Right knee                  Extension    0.00    External rotation    0.00            Adduction    0.00\n",
      "Torso                         Flexion    0.00   Rotate to the left    0.00     Touch right shin    0.00\n",
      "Left ankle                    Flexion    0.00    External rotation    0.00            Abduction    0.00\n",
      "Right ankle                   Flexion    0.00    Internal rotation    0.00            Adduction    0.00\n",
      "Chest                         Flexion    0.00   Rotate to the left    0.00     Touch right knee    0.00\n",
      "Left toes                     Flexion    0.00    Fibular deviation    0.00            Pronation    0.00\n",
      "Right toes                    Flexion    0.00     Tibial deviation    0.00           Supination    0.00\n",
      "Neck                          Flexion    0.00   Rotate to the left    0.00 Touch right shoulder    0.00\n",
      "Left scapula        Internal rotation    0.00     Rotate backwards    0.00            Raise arm    0.00\n",
      "Right scapula       Internal rotation    0.00       Rotate forward    0.00            Lower arm    0.00\n",
      "Skull                         Flexion    0.00     Look to the left    0.00 Touch right shoulder    0.00\n",
      "Left shoulder       Internal rotation    0.00     Rotate backwards    0.00            Raise arm    0.00\n",
      "Right shoulder      Internal rotation    0.00       Rotate forward    0.00            Lower arm    0.00\n",
      "Left elbow          Internal rotation    0.00            Extension    0.00            Abduction    0.00\n",
      "Right elbow         Internal rotation    0.00              Flexion   90.00            Adduction    0.00\n",
      "Left wrist          Internal rotation    0.00      Ulnar deviation    0.00            Extension    0.00\n",
      "Right wrist         Internal rotation    0.00     Radial deviation    0.00              Flexion    0.00\n",
      "Left knuckles       Internal rotation    0.00      Ulnar deviation    0.00            Extension    0.00\n",
      "Right knuckles      Internal rotation    0.00     Radial deviation    0.00              Flexion    0.00\n"
     ]
    }
   ],
   "source": [
    "e = np.degrees(gt_pose.as_rotvec())\n",
    "\n",
    "i = 0\n",
    "for key in d:    \n",
    "    print('{:16}'.format(d[key]['Name']),\n",
    "          '{:>20}'.format(d[key]['x']),'{:> 7.2f}'.format(e[i][0]),\n",
    "          '{:>20}'.format(d[key]['y']),'{:> 7.2f}'.format(e[i][1]),\n",
    "          '{:>20}'.format(d[key]['z']),'{:> 7.2f}'.format(e[i][2]))\n",
    "    i+=1"
   ]
  },
  {
   "cell_type": "code",
   "execution_count": null,
   "metadata": {},
   "outputs": [],
   "source": []
  }
 ],
 "metadata": {
  "kernelspec": {
   "display_name": "Python 3",
   "language": "python",
   "name": "python3"
  },
  "language_info": {
   "codemirror_mode": {
    "name": "ipython",
    "version": 3
   },
   "file_extension": ".py",
   "mimetype": "text/x-python",
   "name": "python",
   "nbconvert_exporter": "python",
   "pygments_lexer": "ipython3",
   "version": "3.6.7"
  }
 },
 "nbformat": 4,
 "nbformat_minor": 4
}
