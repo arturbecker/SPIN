{
 "cells": [
  {
   "cell_type": "code",
   "execution_count": 1,
   "metadata": {},
   "outputs": [],
   "source": [
    "\"\"\"\n",
    "This script can be used to evaluate a trained model on 3D pose/shape and masks/part segmentation. You first need to download the datasets and preprocess them.\n",
    "Example usage:\n",
    "```\n",
    "python3 eval.py --checkpoint=data/model_checkpoint.pt --dataset=h36m-p1 --log_freq=20\n",
    "```\n",
    "Running the above command will compute the MPJPE and Reconstruction Error on the Human3.6M dataset (Protocol I). The ```--dataset``` option can take different values based on the type of evaluation you want to perform:\n",
    "1. Human3.6M Protocol 1 ```--dataset=h36m-p1```\n",
    "2. Human3.6M Protocol 2 ```--dataset=h36m-p2```\n",
    "3. 3DPW ```--dataset=3dpw```\n",
    "4. LSP ```--dataset=lsp```\n",
    "5. MPI-INF-3DHP ```--dataset=mpi-inf-3dhp```\n",
    "\"\"\"\n",
    "\n",
    "import torch\n",
    "from torch.utils.data import DataLoader\n",
    "import numpy as np\n",
    "import cv2\n",
    "import os\n",
    "import argparse\n",
    "import json\n",
    "from collections import namedtuple\n",
    "from tqdm import tqdm\n",
    "import torchgeometry as tgm\n",
    "\n",
    "import config\n",
    "import constants\n",
    "from models import hmr, SMPL\n",
    "from datasets import BaseDataset\n",
    "from utils.imutils import uncrop\n",
    "from utils.pose_utils import reconstruction_error\n",
    "from utils.part_utils import PartRenderer\n",
    "\n",
    "from scipy.spatial.transform import Rotation as R\n",
    "\n",
    "# Define command-line arguments\n",
    "parser = argparse.ArgumentParser()\n",
    "parser.add_argument('--checkpoint', default=None, help='Path to network checkpoint')\n",
    "parser.add_argument('--dataset', default='h36m-p1', choices=['h36m-p1', 'h36m-p2', 'lsp', '3dpw', 'mpi-inf-3dhp'], help='Choose evaluation dataset')\n",
    "parser.add_argument('--log_freq', default=50, type=int, help='Frequency of printing intermediate results')\n",
    "parser.add_argument('--batch_size', default=32, help='Batch size for testing')\n",
    "parser.add_argument('--shuffle', default=False, action='store_true', help='Shuffle data')\n",
    "parser.add_argument('--num_workers', default=8, type=int, help='Number of processes for data loading')\n",
    "parser.add_argument('--result_file', default=None, help='If set, save detections to a .npz file')\n",
    "\n",
    "def run_evaluation(model, dataset_name, dataset, result_file,\n",
    "                   batch_size=32, img_res=224, \n",
    "                   num_workers=32, shuffle=False, log_freq=50):\n",
    "    \"\"\"Run evaluation on the datasets and metrics we report in the paper. \"\"\"\n",
    "\n",
    "    device = torch.device('cuda') if torch.cuda.is_available() else torch.device('cpu')\n",
    "\n",
    "    # Transfer model to the GPU\n",
    "    model.to(device)\n",
    "\n",
    "    # Load SMPL model\n",
    "    smpl_neutral = SMPL(config.SMPL_MODEL_DIR,\n",
    "                        create_transl=False).to(device)\n",
    "    smpl_male = SMPL(config.SMPL_MODEL_DIR,\n",
    "                     gender='male',\n",
    "                     create_transl=False).to(device)\n",
    "    smpl_female = SMPL(config.SMPL_MODEL_DIR,\n",
    "                       gender='female',\n",
    "                       create_transl=False).to(device)\n",
    "    \n",
    "    renderer = PartRenderer()\n",
    "    \n",
    "    # Regressor for H36m joints\n",
    "    J_regressor = torch.from_numpy(np.load(config.JOINT_REGRESSOR_H36M)).float()\n",
    "    \n",
    "    save_results = result_file is not None\n",
    "    # Disable shuffling if you want to save the results\n",
    "    if save_results:\n",
    "        shuffle=False\n",
    "    # Create dataloader for the dataset\n",
    "    data_loader = DataLoader(dataset, batch_size=batch_size, shuffle=shuffle, num_workers=num_workers)\n",
    "    \n",
    "    # Pose metrics\n",
    "    # MPJPE and Reconstruction error for the non-parametric and parametric shapes\n",
    "    mpjpe = np.zeros(len(dataset))\n",
    "    recon_err = np.zeros(len(dataset))\n",
    "    mpjpe_smpl = np.zeros(len(dataset))\n",
    "    recon_err_smpl = np.zeros(len(dataset))\n",
    "    \n",
    "    # Including mean orientation error\n",
    "    moe = np.zeros(len(dataset))\n",
    "\n",
    "    # Shape metrics\n",
    "    # Mean per-vertex error\n",
    "    shape_err = np.zeros(len(dataset))\n",
    "    shape_err_smpl = np.zeros(len(dataset))\n",
    "\n",
    "    # Mask and part metrics\n",
    "    # Accuracy\n",
    "    accuracy = 0.\n",
    "    parts_accuracy = 0.\n",
    "    # True positive, false positive and false negative\n",
    "    tp = np.zeros((2,1))\n",
    "    fp = np.zeros((2,1))\n",
    "    fn = np.zeros((2,1))\n",
    "    parts_tp = np.zeros((7,1))\n",
    "    parts_fp = np.zeros((7,1))\n",
    "    parts_fn = np.zeros((7,1))\n",
    "    # Pixel count accumulators\n",
    "    pixel_count = 0\n",
    "    parts_pixel_count = 0\n",
    "\n",
    "    # Store SMPL parameters\n",
    "    smpl_pose = np.zeros((len(dataset), 72))\n",
    "    smpl_betas = np.zeros((len(dataset), 10))\n",
    "    smpl_camera = np.zeros((len(dataset), 3))\n",
    "    pred_joints = np.zeros((len(dataset), 17, 3))\n",
    "\n",
    "    eval_pose = False\n",
    "    eval_masks = False\n",
    "    eval_parts = False\n",
    "    eval_orientation = False # Adding the orientation parameter\n",
    "    # Choose appropriate evaluation for each dataset\n",
    "    if dataset_name == 'h36m-p1' or dataset_name == 'h36m-p2' or dataset_name == 'mpi-inf-3dhp':\n",
    "        eval_pose = True\n",
    "    elif dataset_name == 'lsp':\n",
    "        eval_masks = True\n",
    "        eval_parts = True\n",
    "        annot_path = config.DATASET_FOLDERS['upi-s1h']\n",
    "    elif dataset_name == '3dpw':\n",
    "        eval_orientation = True\n",
    "        eval_pose = True\n",
    "        \n",
    "\n",
    "    joint_mapper_h36m = constants.H36M_TO_J17 if dataset_name == 'mpi-inf-3dhp' else constants.H36M_TO_J14\n",
    "    joint_mapper_gt = constants.J24_TO_J17 if dataset_name == 'mpi-inf-3dhp' else constants.J24_TO_J14\n",
    "    # Iterate over the entire dataset\n",
    "    for step, batch in enumerate(tqdm(data_loader, desc='Eval', total=len(data_loader))):\n",
    "        # Get ground truth annotations from the batch\n",
    "        gt_pose = batch['pose'].to(device)\n",
    "        gt_betas = batch['betas'].to(device)\n",
    "        gt_vertices = smpl_neutral(betas=gt_betas, body_pose=gt_pose[:, 3:], global_orient=gt_pose[:, :3]).vertices\n",
    "        images = batch['img'].to(device)\n",
    "        gender = batch['gender'].to(device)\n",
    "        curr_batch_size = images.shape[0]\n",
    "        \n",
    "        with torch.no_grad():\n",
    "            pred_rotmat, pred_betas, pred_camera = model(images)\n",
    "            pred_output = smpl_neutral(betas=pred_betas, body_pose=pred_rotmat[:,1:], global_orient=pred_rotmat[:,0].unsqueeze(1), pose2rot=False)\n",
    "            pred_vertices = pred_output.vertices\n",
    "\n",
    "        if save_results:\n",
    "            rot_pad = torch.tensor([0,0,1], dtype=torch.float32, device=device).view(1,3,1)\n",
    "            rotmat = torch.cat((pred_rotmat.view(-1, 3, 3), rot_pad.expand(curr_batch_size * 24, -1, -1)), dim=-1)\n",
    "            pred_pose = tgm.rotation_matrix_to_angle_axis(rotmat).contiguous().view(-1, 72)\n",
    "            smpl_pose[step * batch_size:step * batch_size + curr_batch_size, :] = pred_pose.cpu().numpy()\n",
    "            smpl_betas[step * batch_size:step * batch_size + curr_batch_size, :]  = pred_betas.cpu().numpy()\n",
    "            smpl_camera[step * batch_size:step * batch_size + curr_batch_size, :]  = pred_camera.cpu().numpy()\n",
    "        \n",
    "        # Orientation evaluation\n",
    "        if eval_orientation:\n",
    "            # Get ground truth orientation (already stored in gt_pose)\n",
    "            gt_rotvec = torch.zeros(curr_batch_size,24,3) # Have to have an array of this shape to input into the rotation object (from 32,72 to 32,24,3)\n",
    "            i = 0\n",
    "            for row in gt_pose:\n",
    "                gt_rotvec[i] = torch.reshape(row,(24, -1))\n",
    "                i+=1\n",
    "\n",
    "            gt_euler = np.zeros((curr_batch_size, 24, 3)) # Using numpy here because it works with the rotation library\n",
    "            i = 0\n",
    "            for row in gt_rotvec:\n",
    "                r = R.from_rotvec(row)\n",
    "                gt_euler[i] = R.as_euler(r, 'xyz', degrees=True)\n",
    "                i+=1\n",
    "            \n",
    "            \n",
    "            # Get Euler representation of the predictions too:\n",
    "            \n",
    "            pred_euler = np.zeros((curr_batch_size,24,3)) # Has to be a numpy array because it works with Rotation\n",
    "\n",
    "            # For each row in pred_rotmat convert it to a Rotation object and write it into a corresponding\n",
    "            # row in pred_euler as Euler angles\n",
    "\n",
    "            i=0\n",
    "            for row in pred_rotmat:\n",
    "                r = R.from_dcm(row.cpu())\n",
    "                pred_euler[i] = R.as_euler(r, 'xyz', degrees=True)\n",
    "                i+=1\n",
    "                \n",
    "            orientation_error = torch.sqrt((torch.from_numpy(gt_euler).to(device) -\n",
    "                                            torch.from_numpy(pred_euler).to(device))**2).sum(dim=-1).mean(dim=-1)\n",
    "            print(\"orientation_error\")\n",
    "            print(orientation_error)\n",
    "            print()\n",
    "            \n",
    "            moe[step * batch_size:step * batch_size + curr_batch_size] = orientation_error.cpu()\n",
    "            \n",
    "        # 3D pose evaluation\n",
    "        if eval_pose:\n",
    "            # Regressor broadcasting\n",
    "            J_regressor_batch = J_regressor[None, :].expand(pred_vertices.shape[0], -1, -1).to(device)\n",
    "            # Get 14 ground truth joints\n",
    "            if 'h36m' in dataset_name or 'mpi-inf' in dataset_name:\n",
    "                gt_keypoints_3d = batch['pose_3d'].cuda()\n",
    "                gt_keypoints_3d = gt_keypoints_3d[:, joint_mapper_gt, :-1]\n",
    "            # For 3DPW get the 14 common joints from the rendered shape\n",
    "            else:\n",
    "                gt_vertices = smpl_male(global_orient=gt_pose[:,:3], body_pose=gt_pose[:,3:], betas=gt_betas).vertices \n",
    "                gt_vertices_female = smpl_female(global_orient=gt_pose[:,:3], body_pose=gt_pose[:,3:], betas=gt_betas).vertices \n",
    "                gt_vertices[gender==1, :, :] = gt_vertices_female[gender==1, :, :]\n",
    "                gt_keypoints_3d = torch.matmul(J_regressor_batch, gt_vertices)\n",
    "                gt_pelvis = gt_keypoints_3d[:, [0],:].clone()\n",
    "                gt_keypoints_3d = gt_keypoints_3d[:, joint_mapper_h36m, :]\n",
    "                gt_keypoints_3d = gt_keypoints_3d - gt_pelvis \n",
    "\n",
    "\n",
    "            # Get 14 predicted joints from the mesh\n",
    "            pred_keypoints_3d = torch.matmul(J_regressor_batch, pred_vertices)\n",
    "            if save_results:\n",
    "                pred_joints[step * batch_size:step * batch_size + curr_batch_size, :, :]  = pred_keypoints_3d.cpu().numpy()\n",
    "            pred_pelvis = pred_keypoints_3d[:, [0],:].clone()\n",
    "            pred_keypoints_3d = pred_keypoints_3d[:, joint_mapper_h36m, :]\n",
    "            pred_keypoints_3d = pred_keypoints_3d - pred_pelvis \n",
    "\n",
    "            # Absolute error (MPJPE)\n",
    "            error = torch.sqrt(((pred_keypoints_3d - gt_keypoints_3d) ** 2).sum(dim=-1)).mean(dim=-1).cpu().numpy()\n",
    "            mpjpe[step * batch_size:step * batch_size + curr_batch_size] = error\n",
    "\n",
    "            # Reconstuction_error\n",
    "            r_error = reconstruction_error(pred_keypoints_3d.cpu().numpy(), gt_keypoints_3d.cpu().numpy(), reduction=None)\n",
    "            recon_err[step * batch_size:step * batch_size + curr_batch_size] = r_error\n",
    "\n",
    "\n",
    "        # If mask or part evaluation, render the mask and part images\n",
    "        if eval_masks or eval_parts:\n",
    "            mask, parts = renderer(pred_vertices, pred_camera)\n",
    "\n",
    "        # Mask evaluation (for LSP)\n",
    "        if eval_masks:\n",
    "            center = batch['center'].cpu().numpy()\n",
    "            scale = batch['scale'].cpu().numpy()\n",
    "            # Dimensions of original image\n",
    "            orig_shape = batch['orig_shape'].cpu().numpy()\n",
    "            for i in range(curr_batch_size):\n",
    "                # After rendering, convert imate back to original resolution\n",
    "                pred_mask = uncrop(mask[i].cpu().numpy(), center[i], scale[i], orig_shape[i]) > 0\n",
    "                # Load gt mask\n",
    "                gt_mask = cv2.imread(os.path.join(annot_path, batch['maskname'][i]), 0) > 0\n",
    "                # Evaluation consistent with the original UP-3D code\n",
    "                accuracy += (gt_mask == pred_mask).sum()\n",
    "                pixel_count += np.prod(np.array(gt_mask.shape))\n",
    "                for c in range(2):\n",
    "                    cgt = gt_mask == c\n",
    "                    cpred = pred_mask == c\n",
    "                    tp[c] += (cgt & cpred).sum()\n",
    "                    fp[c] +=  (~cgt & cpred).sum()\n",
    "                    fn[c] +=  (cgt & ~cpred).sum()\n",
    "                f1 = 2 * tp / (2 * tp + fp + fn)\n",
    "\n",
    "        # Part evaluation (for LSP)\n",
    "        if eval_parts:\n",
    "            center = batch['center'].cpu().numpy()\n",
    "            scale = batch['scale'].cpu().numpy()\n",
    "            orig_shape = batch['orig_shape'].cpu().numpy()\n",
    "            for i in range(curr_batch_size):\n",
    "                pred_parts = uncrop(parts[i].cpu().numpy().astype(np.uint8), center[i], scale[i], orig_shape[i])\n",
    "                # Load gt part segmentation\n",
    "                gt_parts = cv2.imread(os.path.join(annot_path, batch['partname'][i]), 0)\n",
    "                # Evaluation consistent with the original UP-3D code\n",
    "                # 6 parts + background\n",
    "                for c in range(7):\n",
    "                   cgt = gt_parts == c\n",
    "                   cpred = pred_parts == c\n",
    "                   cpred[gt_parts == 255] = 0\n",
    "                   parts_tp[c] += (cgt & cpred).sum()\n",
    "                   parts_fp[c] +=  (~cgt & cpred).sum()\n",
    "                   parts_fn[c] +=  (cgt & ~cpred).sum()\n",
    "                gt_parts[gt_parts == 255] = 0\n",
    "                pred_parts[pred_parts == 255] = 0\n",
    "                parts_f1 = 2 * parts_tp / (2 * parts_tp + parts_fp + parts_fn)\n",
    "                parts_accuracy += (gt_parts == pred_parts).sum()\n",
    "                parts_pixel_count += np.prod(np.array(gt_parts.shape))\n",
    "\n",
    "        # Print intermediate results during evaluation\n",
    "        if step % log_freq == log_freq - 1:\n",
    "            if eval_pose:\n",
    "                print('MPJPE: ' + str(1000 * mpjpe[:step * batch_size].mean()))\n",
    "                print('Reconstruction Error: ' + str(1000 * recon_err[:step * batch_size].mean()))\n",
    "                print()\n",
    "            if eval_masks:\n",
    "                print('Accuracy: ', accuracy / pixel_count)\n",
    "                print('F1: ', f1.mean())\n",
    "                print()\n",
    "            if eval_parts:\n",
    "                print('Parts Accuracy: ', parts_accuracy / parts_pixel_count)\n",
    "                print('Parts F1 (BG): ', parts_f1[[0,1,2,3,4,5,6]].mean())\n",
    "                print()\n",
    "            if eval_orientation:\n",
    "                print('Orientation error: ' + str(moe[:step * batch_size].mean()))\n",
    "\n",
    "    # Save reconstructions to a file for further processing\n",
    "    if save_results:\n",
    "        np.savez(result_file, pred_joints=pred_joints, pose=smpl_pose, betas=smpl_betas, camera=smpl_camera)\n",
    "    # Print final results during evaluation\n",
    "    print('*** Final Results ***')\n",
    "    print()\n",
    "    if eval_pose:\n",
    "        print('MPJPE: ' + str(1000 * mpjpe.mean()))\n",
    "        print('Reconstruction Error: ' + str(1000 * recon_err.mean()))\n",
    "        print()\n",
    "    if eval_masks:\n",
    "        print('Accuracy: ', accuracy / pixel_count)\n",
    "        print('F1: ', f1.mean())\n",
    "        print()\n",
    "    if eval_parts:\n",
    "        print('Parts Accuracy: ', parts_accuracy / parts_pixel_count)\n",
    "        print('Parts F1 (BG): ', parts_f1[[0,1,2,3,4,5,6]].mean())\n",
    "        print()\n",
    "    if eval_orientation:\n",
    "        print('Orientation Error: ' + str(moe.mean()))"
   ]
  },
  {
   "cell_type": "code",
   "execution_count": 2,
   "metadata": {},
   "outputs": [
    {
     "name": "stderr",
     "output_type": "stream",
     "text": [
      "Downloading: \"https://download.pytorch.org/models/resnet50-19c8e357.pth\" to /root/.cache/torch/checkpoints/resnet50-19c8e357.pth\n",
      "100%|██████████| 102502400/102502400 [00:56<00:00, 1816736.04it/s]\n",
      "Eval:   0%|          | 1/1110 [00:36<11:17:14, 36.64s/it]"
     ]
    },
    {
     "name": "stdout",
     "output_type": "stream",
     "text": [
      "orientation_error\n",
      "tensor([36.5759, 36.2161, 35.9665, 35.9561, 35.8158, 35.8998, 35.8793, 35.8858,\n",
      "        35.9649, 35.7993, 35.8724, 35.8524, 35.7611, 35.8862, 36.0011, 36.0329,\n",
      "        36.0654, 36.0372, 35.7090, 35.6074, 35.6285, 35.4310, 35.1585, 35.2144,\n",
      "        35.0660, 34.6617, 34.2508, 34.1946, 34.5147, 34.6075, 34.4772, 33.7555],\n",
      "       device='cuda:0', dtype=torch.float64)\n",
      "\n",
      "orientation_error\n",
      "tensor([33.6882, 34.0760, 34.9237, 20.7577, 21.2496, 22.0872, 22.2228, 22.3118,\n",
      "        21.6972, 20.9507, 20.3335, 19.8684, 20.3610, 19.9275, 20.0725, 19.6807,\n",
      "        18.7825, 18.2433, 18.7598, 19.9271, 20.6324, 21.8104, 21.5735, 20.9459,\n",
      "        19.1617, 19.7984, 19.6054, 19.0759, 19.1485, 18.8991, 18.5065, 17.3978],\n",
      "       device='cuda:0', dtype=torch.float64)\n",
      "\n"
     ]
    },
    {
     "name": "stderr",
     "output_type": "stream",
     "text": [
      "Eval:   0%|          | 3/1110 [00:38<5:40:06, 18.43s/it] "
     ]
    },
    {
     "name": "stdout",
     "output_type": "stream",
     "text": [
      "orientation_error\n",
      "tensor([17.2138, 17.6814, 17.9307, 18.0189, 18.4331, 19.0092, 19.1053, 20.8547,\n",
      "        20.1954, 19.6984, 17.9647, 17.0665, 17.0962, 17.0021, 16.9976, 31.6662,\n",
      "        31.5200, 31.3736, 31.5830, 31.4137, 31.8998, 32.8919, 34.6931, 36.5171,\n",
      "        37.8031, 37.5326, 37.5714, 37.7916, 37.4355, 37.3820, 36.4436, 35.8870],\n",
      "       device='cuda:0', dtype=torch.float64)\n",
      "\n"
     ]
    },
    {
     "name": "stderr",
     "output_type": "stream",
     "text": [
      "\r",
      "Eval:   0%|          | 4/1110 [00:39<4:02:15, 13.14s/it]"
     ]
    },
    {
     "name": "stdout",
     "output_type": "stream",
     "text": [
      "orientation_error\n",
      "tensor([23.5634, 25.7177, 34.4852, 39.9082, 42.7523, 40.9972, 26.1331, 25.8261,\n",
      "        39.8513, 38.8595, 38.3198, 38.0815, 22.7085, 23.7189, 27.0413, 31.6917,\n",
      "        33.1883, 32.2511, 33.8866, 34.3655, 33.9900, 35.5550, 36.3777, 36.4369,\n",
      "        36.0825, 37.6048, 37.1750, 35.5167, 34.8071, 33.3100, 32.3709, 30.5752],\n",
      "       device='cuda:0', dtype=torch.float64)\n",
      "\n"
     ]
    },
    {
     "name": "stderr",
     "output_type": "stream",
     "text": [
      "\r",
      "Eval:   0%|          | 5/1110 [00:40<2:53:02,  9.40s/it]"
     ]
    },
    {
     "name": "stdout",
     "output_type": "stream",
     "text": [
      "orientation_error\n",
      "tensor([30.2053, 30.1154, 30.2773, 29.4902, 29.4626, 29.2902, 29.2155, 29.3792,\n",
      "        29.7523, 29.7451, 29.1296, 29.3022, 29.2881, 29.1685, 29.3797, 29.9110,\n",
      "        30.8952, 40.3416, 32.9757, 32.9812, 32.7746, 31.0398, 29.1820, 28.0396,\n",
      "        28.6849, 29.2104, 29.2995, 30.2134, 30.7303, 30.9826, 30.3992, 28.9510],\n",
      "       device='cuda:0', dtype=torch.float64)\n",
      "\n"
     ]
    },
    {
     "name": "stderr",
     "output_type": "stream",
     "text": [
      "\r",
      "Eval:   1%|          | 6/1110 [00:41<2:05:49,  6.84s/it]"
     ]
    },
    {
     "name": "stdout",
     "output_type": "stream",
     "text": [
      "orientation_error\n",
      "tensor([28.6230, 27.6091, 28.0245, 27.9500, 37.9613, 37.9103, 38.1387, 38.7325,\n",
      "        38.9536, 39.2817, 38.4585, 38.7062, 45.0435, 38.4146, 31.5816, 29.9238,\n",
      "        27.9162, 27.2699, 27.4067, 28.3441, 35.0404, 38.5722, 40.9841, 53.1106,\n",
      "        52.7477, 50.9167, 50.4682, 48.1671, 46.3485, 50.1208, 57.0943, 60.5637],\n",
      "       device='cuda:0', dtype=torch.float64)\n",
      "\n",
      "orientation_error\n",
      "tensor([56.5575, 52.8559, 52.8022, 50.1676, 49.3255, 45.6052, 46.2478, 43.8466,\n",
      "        41.5848, 57.5384, 58.8991, 71.8715, 61.6731, 70.3555, 60.8387, 57.5877,\n",
      "        57.5274, 56.2997, 54.1420, 46.5676, 46.4075, 43.4146, 36.6952, 30.7174,\n",
      "        30.8550, 27.1554, 24.5198, 40.8971, 36.4933, 24.7511, 46.4298, 23.7270],\n",
      "       device='cuda:0', dtype=torch.float64)\n",
      "\n"
     ]
    },
    {
     "name": "stderr",
     "output_type": "stream",
     "text": [
      "\r",
      "Eval:   1%|          | 7/1110 [00:41<1:32:59,  5.06s/it]"
     ]
    },
    {
     "name": "stdout",
     "output_type": "stream",
     "text": [
      "orientation_error\n",
      "tensor([28.8302, 27.8069, 27.0689, 23.9180, 31.1285, 29.3152, 26.1968, 26.1423,\n",
      "        26.3270, 38.8303, 39.7099, 38.3003, 37.7669, 36.2951, 38.0467, 37.4801,\n",
      "        36.7608, 35.2089, 35.6293, 34.7851, 32.9704, 33.0020, 27.2828, 33.2936,\n",
      "        32.7730, 29.2458, 29.0483, 27.3348, 44.6911, 37.9515, 40.5026, 48.8823],\n",
      "       device='cuda:0', dtype=torch.float64)\n",
      "\n"
     ]
    },
    {
     "name": "stderr",
     "output_type": "stream",
     "text": [
      "\r",
      "Eval:   1%|          | 8/1110 [00:42<1:10:03,  3.81s/it]"
     ]
    },
    {
     "name": "stdout",
     "output_type": "stream",
     "text": [
      "orientation_error\n",
      "tensor([48.4110, 42.7816, 47.6825, 48.2404, 49.0277, 49.3967, 51.2710, 52.2668,\n",
      "        51.7584, 53.8265, 55.9967, 55.7017, 56.2237, 57.0006, 50.7440, 52.2330,\n",
      "        52.2735, 42.6877, 41.5084, 42.1396, 32.7285, 32.9216, 33.2619, 34.3386,\n",
      "        36.5826, 44.6515, 45.2895, 45.8103, 46.0882, 45.5126, 45.6565, 45.8275],\n",
      "       device='cuda:0', dtype=torch.float64)\n",
      "\n"
     ]
    },
    {
     "name": "stderr",
     "output_type": "stream",
     "text": [
      "Eval:   1%|          | 10/1110 [00:44<41:12,  2.25s/it] "
     ]
    },
    {
     "name": "stdout",
     "output_type": "stream",
     "text": [
      "orientation_error\n",
      "tensor([46.2623, 45.2478, 43.9259, 53.7754, 44.1221, 44.1200, 44.4941, 44.3334,\n",
      "        44.5855, 44.9917, 44.7138, 45.0994, 44.9599, 39.7380, 41.0375, 48.2426,\n",
      "        49.6522, 48.8544, 49.2945, 59.9235, 61.0203, 47.7093, 49.6375, 52.5504,\n",
      "        55.8356, 56.4944, 55.7648, 55.5593, 43.6769, 59.9255, 60.4672, 59.2669],\n",
      "       device='cuda:0', dtype=torch.float64)\n",
      "\n"
     ]
    },
    {
     "name": "stderr",
     "output_type": "stream",
     "text": [
      "\r",
      "Eval:   1%|          | 11/1110 [00:44<32:00,  1.75s/it]"
     ]
    },
    {
     "name": "stdout",
     "output_type": "stream",
     "text": [
      "orientation_error\n",
      "tensor([59.0442, 56.6470, 57.0119, 48.4968, 34.1247, 45.1169, 44.6816, 47.0208,\n",
      "        49.0406, 58.7482, 58.1956, 58.1906, 57.0760, 55.1953, 56.4472, 58.1730,\n",
      "        58.4437, 57.7511, 60.4377, 58.0280, 59.7540, 56.8913, 57.2317, 56.3499,\n",
      "        55.5666, 57.0821, 54.0331, 51.2825, 48.9773, 48.8899, 52.0656, 53.4732],\n",
      "       device='cuda:0', dtype=torch.float64)\n",
      "\n"
     ]
    },
    {
     "name": "stderr",
     "output_type": "stream",
     "text": [
      "\r",
      "Eval:   1%|          | 12/1110 [00:45<26:09,  1.43s/it]"
     ]
    },
    {
     "name": "stdout",
     "output_type": "stream",
     "text": [
      "orientation_error\n",
      "tensor([50.0631, 49.4533, 44.8734, 55.3023, 50.4553, 44.1983, 51.8669, 47.2387,\n",
      "        42.1306, 45.1377, 46.1440, 47.4163, 47.1441, 47.2572, 46.8947, 45.6677,\n",
      "        46.3674, 46.3993, 46.0429, 46.8305, 45.6231, 44.5294, 41.7865, 40.4607,\n",
      "        40.9569, 43.2264, 42.4257, 45.1253, 44.1620, 45.4828, 48.4005, 49.2145],\n",
      "       device='cuda:0', dtype=torch.float64)\n",
      "\n",
      "orientation_error\n",
      "tensor([61.2662, 63.6773, 64.7662, 65.1582, 65.2539, 64.0482, 64.2292, 63.8834,\n",
      "        64.2691, 63.2232, 62.0682, 61.8705, 59.6912, 60.5213, 50.8137, 47.1392,\n",
      "        30.1642, 25.9565, 28.1123, 24.3117, 21.2162, 21.9236, 21.5765, 21.1529,\n",
      "        21.4888, 21.4823, 21.6257, 22.2297, 22.6101, 23.7487, 23.8969, 26.3213],\n",
      "       device='cuda:0', dtype=torch.float64)\n",
      "\n"
     ]
    },
    {
     "name": "stderr",
     "output_type": "stream",
     "text": [
      "Eval:   1%|▏         | 14/1110 [00:47<21:24,  1.17s/it]"
     ]
    },
    {
     "name": "stdout",
     "output_type": "stream",
     "text": [
      "orientation_error\n",
      "tensor([26.6165, 24.9933, 24.0439, 22.4881, 20.2553, 20.6568, 19.9965, 20.3233,\n",
      "        20.8923, 21.4725, 21.5715, 20.8684, 20.9243, 21.5207, 21.4193, 21.1473,\n",
      "        21.2005, 20.7445, 20.4609, 20.0506, 20.1057, 19.8822, 19.6379, 20.1933,\n",
      "        20.1813, 20.4110, 20.6940, 20.5361, 20.7104, 20.7710, 21.0681, 20.7444],\n",
      "       device='cuda:0', dtype=torch.float64)\n",
      "\n"
     ]
    },
    {
     "name": "stderr",
     "output_type": "stream",
     "text": [
      "\r",
      "Eval:   1%|▏         | 15/1110 [00:48<19:04,  1.05s/it]"
     ]
    },
    {
     "name": "stdout",
     "output_type": "stream",
     "text": [
      "orientation_error\n",
      "tensor([20.7531, 20.2634, 19.8330, 19.5080, 19.0445, 18.9154, 19.6751, 20.0308,\n",
      "        20.3306, 20.6138, 21.6660, 22.3208, 22.9363, 23.3838, 22.9206, 22.7637,\n",
      "        23.2939, 23.3297, 24.2024, 24.9779, 23.7902, 23.2814, 22.5726, 22.4115,\n",
      "        22.3417, 21.9726, 21.3781, 21.2537, 19.6485, 19.2349, 19.5846, 20.3371],\n",
      "       device='cuda:0', dtype=torch.float64)\n",
      "\n"
     ]
    },
    {
     "name": "stderr",
     "output_type": "stream",
     "text": [
      "\r",
      "Eval:   1%|▏         | 16/1110 [00:49<21:50,  1.20s/it]"
     ]
    },
    {
     "name": "stdout",
     "output_type": "stream",
     "text": [
      "orientation_error\n",
      "tensor([20.4262, 21.0984, 21.5032, 21.8452, 22.4637, 22.4411, 22.8477, 22.7685,\n",
      "        22.3682, 22.2969, 21.8198, 21.2363, 22.2219, 22.5166, 22.4151, 21.6749,\n",
      "        21.1499, 19.6317, 17.9025, 18.0478, 18.4568, 18.4711, 19.2359, 20.7573,\n",
      "        22.6784, 23.8449, 23.3033, 22.4952, 21.1443, 22.4290, 26.3322, 22.8880],\n",
      "       device='cuda:0', dtype=torch.float64)\n",
      "\n"
     ]
    },
    {
     "name": "stderr",
     "output_type": "stream",
     "text": [
      "\r",
      "Eval:   2%|▏         | 17/1110 [00:53<32:42,  1.80s/it]"
     ]
    },
    {
     "name": "stdout",
     "output_type": "stream",
     "text": [
      "orientation_error\n",
      "tensor([23.6478, 32.6785, 25.1686, 24.6360, 26.4929, 25.8425, 26.5106, 30.1970,\n",
      "        25.8592, 27.4135, 25.6859, 25.0636, 24.4304, 23.7949, 23.4723, 21.6984,\n",
      "        21.6424, 21.2397, 20.6602, 20.3955, 19.6433, 19.7582, 19.0813, 18.9156,\n",
      "        19.0076, 18.9714, 19.9257, 22.3483, 23.2192, 24.2640, 23.8636, 23.6458],\n",
      "       device='cuda:0', dtype=torch.float64)\n",
      "\n",
      "orientation_error\n",
      "tensor([23.2170, 22.4660, 22.4701, 20.1158, 19.6611, 19.7709, 19.5882, 19.6073,\n",
      "        19.4819, 19.2962, 18.7057, 19.0766, 18.9829, 19.2381, 19.4188, 20.9210,\n",
      "        21.8221, 22.2773, 22.5734, 22.2257, 21.8910, 21.6174, 21.0043, 35.2744,\n",
      "        34.5756, 34.5822, 33.9658, 33.6787, 19.2574, 19.3037, 18.7488, 18.3906],\n",
      "       device='cuda:0', dtype=torch.float64)\n",
      "\n"
     ]
    },
    {
     "name": "stderr",
     "output_type": "stream",
     "text": [
      "Eval:   2%|▏         | 19/1110 [00:54<22:03,  1.21s/it]"
     ]
    },
    {
     "name": "stdout",
     "output_type": "stream",
     "text": [
      "orientation_error\n",
      "tensor([17.5786, 17.8793, 17.8073, 17.8552, 18.4074, 19.7738, 21.3922, 23.0617,\n",
      "        23.8678, 24.3648, 24.7562, 24.2178, 24.1776, 24.0619, 23.7523, 22.8571,\n",
      "        22.1701, 22.4566, 21.5518, 20.4722, 19.0171, 33.1843, 18.8140, 19.2551,\n",
      "        18.2220, 17.9864, 17.0828, 17.4566, 18.0412, 18.2834, 18.2901, 18.8489],\n",
      "       device='cuda:0', dtype=torch.float64)\n",
      "\n",
      "orientation_error\n",
      "tensor([19.0971, 19.3428, 19.2807, 19.1416, 19.5336, 19.6468, 19.2489, 18.6179,\n",
      "        18.8553, 18.2077, 18.9754, 18.5846, 18.2955, 18.3375, 19.0680, 19.8587,\n",
      "        20.9062, 21.9335, 21.9270, 21.8778, 22.5491, 22.8399, 21.9222, 22.0045,\n",
      "        21.6328, 20.8091, 20.9677, 21.8213, 21.4594, 20.4906, 19.9606, 19.7875],\n",
      "       device='cuda:0', dtype=torch.float64)\n",
      "\n"
     ]
    },
    {
     "name": "stderr",
     "output_type": "stream",
     "text": [
      "\r",
      "Eval:   2%|▏         | 20/1110 [00:55<19:51,  1.09s/it]"
     ]
    },
    {
     "name": "stdout",
     "output_type": "stream",
     "text": [
      "MPJPE: 81.37874403282215\n",
      "Reconstruction Error: 41.73969471900675\n",
      "\n",
      "Orientation error: 33.56229616610569\n"
     ]
    },
    {
     "name": "stderr",
     "output_type": "stream",
     "text": [
      "\r",
      "Eval:   2%|▏         | 21/1110 [00:55<18:19,  1.01s/it]"
     ]
    },
    {
     "name": "stdout",
     "output_type": "stream",
     "text": [
      "orientation_error\n",
      "tensor([18.4547, 18.3928, 18.7013, 19.1783, 20.1788, 21.0689, 21.7963, 25.3012,\n",
      "        23.0180, 23.2605, 22.5847, 21.3228, 21.0400, 21.4474, 20.1207, 19.4502,\n",
      "        19.6701, 19.3238, 21.1020, 19.6991, 18.9487, 19.0390, 17.4870, 16.2404,\n",
      "        18.5325, 22.8748, 28.0257, 27.2197, 28.0089, 30.2832, 24.5354, 26.7362],\n",
      "       device='cuda:0', dtype=torch.float64)\n",
      "\n"
     ]
    },
    {
     "name": "stderr",
     "output_type": "stream",
     "text": [
      "\r",
      "Eval:   2%|▏         | 22/1110 [00:56<15:26,  1.17it/s]"
     ]
    },
    {
     "name": "stdout",
     "output_type": "stream",
     "text": [
      "orientation_error\n",
      "tensor([26.6264, 27.8097, 28.4042, 29.9697, 29.3815, 30.1923, 31.2896, 33.2392,\n",
      "        33.3842, 33.6426, 34.1420, 31.9384, 30.5888, 29.3523, 29.8371, 30.2497,\n",
      "        32.6729, 31.7874, 33.7892, 33.7939, 35.9866, 35.7640, 35.7001, 35.8989,\n",
      "        37.1143, 39.9170, 42.0509, 44.7830, 47.1387, 50.2599, 48.3109, 48.5535],\n",
      "       device='cuda:0', dtype=torch.float64)\n",
      "\n"
     ]
    },
    {
     "name": "stderr",
     "output_type": "stream",
     "text": [
      "\r",
      "Eval:   2%|▏         | 23/1110 [00:57<14:52,  1.22it/s]"
     ]
    },
    {
     "name": "stdout",
     "output_type": "stream",
     "text": [
      "orientation_error\n",
      "tensor([47.5778, 47.9401, 49.0561, 50.4907, 51.2930, 51.5865, 53.1948, 55.0427,\n",
      "        65.6426, 64.3189, 63.2762, 61.9255, 62.6195, 63.5115, 61.9668, 62.0986,\n",
      "        59.8170, 57.2909, 56.2232, 56.2858, 56.3288, 56.1367, 55.7353, 56.2489,\n",
      "        57.0399, 56.6594, 57.0901, 56.6714, 58.2923, 58.3734, 59.4855, 59.4010],\n",
      "       device='cuda:0', dtype=torch.float64)\n",
      "\n",
      "orientation_error\n",
      "tensor([58.6528, 58.6954, 55.6932, 54.9639, 54.8240, 54.4258, 54.5463, 54.8439,\n",
      "        54.0718, 54.3682, 58.9292, 57.4726, 56.4814, 55.1225, 56.5261, 53.7663,\n",
      "        51.6661, 50.1093, 50.9567, 48.4971, 48.2108, 49.7307, 50.9258, 49.7728,\n",
      "        46.6084, 45.6291, 41.4629, 38.9408, 37.6215, 37.0582, 34.2516, 33.2936],\n",
      "       device='cuda:0', dtype=torch.float64)\n",
      "\n"
     ]
    },
    {
     "name": "stderr",
     "output_type": "stream",
     "text": [
      "Eval:   2%|▏         | 25/1110 [00:58<14:06,  1.28it/s]"
     ]
    },
    {
     "name": "stdout",
     "output_type": "stream",
     "text": [
      "orientation_error\n",
      "tensor([31.0027, 34.0888, 32.8727, 31.4905, 29.2658, 28.9503, 26.9832, 28.3012,\n",
      "        29.2896, 28.4466, 41.6809, 41.2362, 42.3870, 42.3865, 38.9548, 38.7411,\n",
      "        39.2564, 40.8574, 39.2399, 39.8027, 40.0710, 39.8231, 39.1202, 39.4532,\n",
      "        38.7172, 38.5747, 38.8886, 24.7279, 23.6150, 25.2068, 25.4821, 24.7960],\n",
      "       device='cuda:0', dtype=torch.float64)\n",
      "\n"
     ]
    },
    {
     "name": "stderr",
     "output_type": "stream",
     "text": [
      "\r",
      "Eval:   2%|▏         | 26/1110 [00:59<14:06,  1.28it/s]"
     ]
    },
    {
     "name": "stdout",
     "output_type": "stream",
     "text": [
      "orientation_error\n",
      "tensor([24.4794, 23.2918, 23.3174, 23.1100, 22.6707, 22.4489, 22.3909, 24.9420,\n",
      "        23.7814, 23.7022, 24.2560, 22.0576, 21.6128, 22.7425, 22.0082, 24.4420,\n",
      "        22.1572, 32.9943, 32.3601, 32.4210, 32.6608, 33.0066, 33.0610, 33.5410,\n",
      "        33.4422, 34.9079, 34.2400, 34.1068, 34.4618, 34.8879, 34.7521, 34.2126],\n",
      "       device='cuda:0', dtype=torch.float64)\n",
      "\n"
     ]
    },
    {
     "name": "stderr",
     "output_type": "stream",
     "text": [
      "\r",
      "Eval:   2%|▏         | 27/1110 [01:00<13:21,  1.35it/s]"
     ]
    },
    {
     "name": "stdout",
     "output_type": "stream",
     "text": [
      "orientation_error\n",
      "tensor([34.4182, 34.8086, 34.5313, 35.0364, 34.6221, 34.3706, 34.3854, 34.1446,\n",
      "        33.9049, 33.9575, 33.7950, 34.4991, 34.7434, 34.9116, 35.4939, 35.3740,\n",
      "        35.1460, 35.4959, 35.5809, 35.9096, 36.2178, 35.9226, 36.0449, 35.5917,\n",
      "        35.1855, 34.6390, 34.2104, 33.9088, 33.7640, 33.8671, 19.2148, 19.3853],\n",
      "       device='cuda:0', dtype=torch.float64)\n",
      "\n"
     ]
    },
    {
     "name": "stderr",
     "output_type": "stream",
     "text": [
      "\r",
      "Eval:   3%|▎         | 28/1110 [01:00<13:35,  1.33it/s]"
     ]
    },
    {
     "name": "stdout",
     "output_type": "stream",
     "text": [
      "orientation_error\n",
      "tensor([19.1333, 18.5801, 18.5780, 18.8190, 18.9872, 18.6753, 18.3661, 18.8251,\n",
      "        19.5941, 21.5771, 25.0613, 19.4778, 26.2976, 29.6636, 23.8008, 24.5570,\n",
      "        21.9271, 20.2684, 20.4888, 20.7545, 32.8230, 33.0439, 32.5065, 35.2243,\n",
      "        33.5700, 38.6807, 41.4337, 41.0911, 39.4825, 41.6471, 40.7232, 39.4042],\n",
      "       device='cuda:0', dtype=torch.float64)\n",
      "\n"
     ]
    },
    {
     "name": "stderr",
     "output_type": "stream",
     "text": [
      "\r",
      "Eval:   3%|▎         | 29/1110 [01:01<13:35,  1.33it/s]"
     ]
    },
    {
     "name": "stdout",
     "output_type": "stream",
     "text": [
      "orientation_error\n",
      "tensor([43.7704, 43.0909, 43.5121, 42.6825, 43.1026, 43.3513, 42.6013, 41.6873,\n",
      "        42.0870, 41.8408, 42.4737, 42.8538, 42.3381, 43.7154, 44.9216, 43.9139,\n",
      "        43.4604, 43.6917, 44.2159, 43.6913, 43.9805, 43.4941, 43.4318, 44.2447,\n",
      "        44.4083, 45.2860, 45.8413, 46.2712, 46.7440, 47.1166, 47.3372, 47.9446],\n",
      "       device='cuda:0', dtype=torch.float64)\n",
      "\n"
     ]
    },
    {
     "name": "stderr",
     "output_type": "stream",
     "text": [
      "\r",
      "Eval:   3%|▎         | 30/1110 [01:02<14:01,  1.28it/s]"
     ]
    },
    {
     "name": "stdout",
     "output_type": "stream",
     "text": [
      "orientation_error\n",
      "tensor([48.3976, 48.5111, 49.1243, 49.0177, 50.1884, 49.5776, 49.0275, 49.2265,\n",
      "        47.9703, 47.8260, 47.4916, 46.7457, 47.6975, 47.2170, 46.4900, 46.5450,\n",
      "        45.7036, 45.0760, 45.2479, 45.2683, 45.6577, 44.8908, 45.5446, 44.3990,\n",
      "        44.8921, 47.1767, 47.0036, 45.0779, 44.1645, 40.2588, 35.1884, 29.0875],\n",
      "       device='cuda:0', dtype=torch.float64)\n",
      "\n"
     ]
    },
    {
     "name": "stderr",
     "output_type": "stream",
     "text": [
      "\r",
      "Eval:   3%|▎         | 31/1110 [01:03<13:48,  1.30it/s]"
     ]
    },
    {
     "name": "stdout",
     "output_type": "stream",
     "text": [
      "orientation_error\n",
      "tensor([28.7587, 32.0772, 38.2844, 38.3921, 42.1558, 42.0101, 41.6589, 41.4399,\n",
      "        37.7207, 31.4723, 28.9005, 29.8651, 29.9649, 32.9523, 30.1870, 29.0059,\n",
      "        27.9974, 28.3096, 27.9144, 28.7360, 31.5679, 31.6983, 31.2390, 30.8679,\n",
      "        44.4614, 43.9195, 42.5491, 42.6340, 42.5762, 43.5441, 44.0849, 44.5373],\n",
      "       device='cuda:0', dtype=torch.float64)\n",
      "\n"
     ]
    },
    {
     "name": "stderr",
     "output_type": "stream",
     "text": [
      "\r",
      "Eval:   3%|▎         | 32/1110 [01:04<13:50,  1.30it/s]"
     ]
    },
    {
     "name": "stdout",
     "output_type": "stream",
     "text": [
      "orientation_error\n",
      "tensor([45.5282, 46.1421, 46.1945, 45.5235, 45.7589, 45.4215, 45.2623, 45.7183,\n",
      "        45.8764, 45.8687, 45.4344, 45.0801, 44.8294, 44.2354, 44.1999, 43.7478,\n",
      "        44.1318, 42.1775, 40.3827, 40.5255, 40.0147, 38.6710, 38.6916, 40.6174,\n",
      "        39.8019, 41.0648, 41.5078, 41.1570, 41.4983, 27.3358, 39.5066, 39.3801],\n",
      "       device='cuda:0', dtype=torch.float64)\n",
      "\n"
     ]
    },
    {
     "name": "stderr",
     "output_type": "stream",
     "text": [
      "\r",
      "Eval:   3%|▎         | 33/1110 [01:04<13:22,  1.34it/s]"
     ]
    },
    {
     "name": "stdout",
     "output_type": "stream",
     "text": [
      "orientation_error\n",
      "tensor([38.8065, 24.5546, 26.4275, 42.2189, 26.7096, 23.6912, 36.2926, 20.8863,\n",
      "        19.7727, 20.0962, 20.9428, 20.5936, 21.3516, 23.6083, 22.9007, 23.3069,\n",
      "        25.9395, 26.1238, 26.0629, 26.2421, 22.8392, 24.9374, 22.2920, 22.1697,\n",
      "        22.9366, 24.2760, 24.9690, 25.9630, 26.6174, 26.7324, 27.5279, 25.4717],\n",
      "       device='cuda:0', dtype=torch.float64)\n",
      "\n"
     ]
    },
    {
     "name": "stderr",
     "output_type": "stream",
     "text": [
      "\r",
      "Eval:   3%|▎         | 34/1110 [01:05<12:57,  1.38it/s]"
     ]
    },
    {
     "name": "stdout",
     "output_type": "stream",
     "text": [
      "orientation_error\n",
      "tensor([24.2101, 25.1402, 22.7482, 24.7661, 26.1120, 23.2651, 25.6772, 26.8973,\n",
      "        23.9411, 33.4639, 31.5461, 21.2461, 20.9568, 19.7652, 21.9651, 28.6224,\n",
      "        21.0027, 21.8073, 22.5251, 21.8779, 24.1788, 21.7161, 21.9964, 34.1824,\n",
      "        36.7439, 34.4978, 22.4104, 20.6868, 22.3867, 23.7764, 26.2351, 26.9834],\n",
      "       device='cuda:0', dtype=torch.float64)\n",
      "\n"
     ]
    },
    {
     "name": "stderr",
     "output_type": "stream",
     "text": [
      "\r",
      "Eval:   3%|▎         | 35/1110 [01:06<13:00,  1.38it/s]"
     ]
    },
    {
     "name": "stdout",
     "output_type": "stream",
     "text": [
      "orientation_error\n",
      "tensor([35.2200, 35.1433, 30.4868, 22.3562, 22.2933, 23.7801, 23.1873, 23.0515,\n",
      "        22.2633, 21.6724, 21.8110, 23.9231, 24.2317, 30.5530, 32.8293, 33.2509,\n",
      "        32.1983, 33.1687, 20.6316, 21.3556, 20.9920, 20.5383, 19.8737, 21.5768,\n",
      "        21.4954, 22.7743, 23.6062, 23.1977, 26.6282, 28.4849, 29.7087, 31.5848],\n",
      "       device='cuda:0', dtype=torch.float64)\n",
      "\n"
     ]
    },
    {
     "name": "stderr",
     "output_type": "stream",
     "text": [
      "\r",
      "Eval:   3%|▎         | 36/1110 [01:06<12:04,  1.48it/s]"
     ]
    },
    {
     "name": "stdout",
     "output_type": "stream",
     "text": [
      "orientation_error\n",
      "tensor([37.3347, 33.4053, 34.2274, 35.0870, 38.5057, 39.6607, 38.5933, 37.2929,\n",
      "        41.6040, 40.9496, 43.0197, 49.7134, 48.1379, 55.3955, 57.7319, 61.6823,\n",
      "        62.8429, 62.1898, 57.2561, 50.2629, 49.8477, 49.5267, 49.8586, 48.9195,\n",
      "        48.6832, 48.0134, 39.2023, 39.1393, 38.7756, 38.8555, 38.7004, 38.8150],\n",
      "       device='cuda:0', dtype=torch.float64)\n",
      "\n"
     ]
    },
    {
     "name": "stderr",
     "output_type": "stream",
     "text": [
      "\r",
      "Eval:   3%|▎         | 37/1110 [01:07<12:13,  1.46it/s]"
     ]
    },
    {
     "name": "stdout",
     "output_type": "stream",
     "text": [
      "orientation_error\n",
      "tensor([37.0713, 35.8987, 37.2818, 44.7478, 46.3838, 47.3641, 47.3158, 47.5346,\n",
      "        48.3641, 49.6954, 50.4604, 49.7214, 50.7910, 41.6686, 42.0556, 41.8993,\n",
      "        41.2661, 40.0440, 39.2878, 40.5229, 49.1001, 47.6629, 46.1948, 44.3551,\n",
      "        42.1072, 41.6389, 41.8078, 42.0925, 39.5387, 40.1102, 40.6416, 40.7797],\n",
      "       device='cuda:0', dtype=torch.float64)\n",
      "\n",
      "orientation_error\n",
      "tensor([40.4317, 40.4339, 40.8649, 41.8412, 41.3828, 41.2799, 41.1959, 41.8919,\n",
      "        41.1273, 41.3626, 40.5926, 40.3940, 42.0899, 41.7797, 42.0806, 42.5494,\n",
      "        42.3882, 42.6895, 43.0767, 42.7912, 42.8900, 42.7040, 42.7189, 42.3085,\n",
      "        42.9143, 42.9267, 41.3652, 41.8100, 42.1022, 41.6611, 41.7801, 41.8037],\n",
      "       device='cuda:0', dtype=torch.float64)\n",
      "\n"
     ]
    },
    {
     "name": "stderr",
     "output_type": "stream",
     "text": [
      "Eval:   4%|▎         | 39/1110 [01:09<14:09,  1.26it/s]"
     ]
    },
    {
     "name": "stdout",
     "output_type": "stream",
     "text": [
      "orientation_error\n",
      "tensor([42.2672, 42.9521, 44.7711, 44.7125, 45.5179, 46.4203, 47.0486, 47.1928,\n",
      "        48.1759, 48.5835, 50.3150, 50.7557, 50.4749, 51.0919, 51.2520, 51.3855,\n",
      "        51.1153, 50.8307, 51.0472, 51.5288, 52.8038, 53.4883, 51.9278, 49.5298,\n",
      "        50.2054, 49.2843, 47.4367, 47.8890, 47.8560, 44.2748, 48.2675, 48.0189],\n",
      "       device='cuda:0', dtype=torch.float64)\n",
      "\n"
     ]
    },
    {
     "name": "stderr",
     "output_type": "stream",
     "text": [
      "\r",
      "Eval:   4%|▎         | 40/1110 [01:10<16:30,  1.08it/s]"
     ]
    },
    {
     "name": "stdout",
     "output_type": "stream",
     "text": [
      "orientation_error\n",
      "tensor([48.4162, 29.1359, 28.1700, 26.6896, 26.9735, 26.4289, 28.1380, 25.0255,\n",
      "        23.6948, 24.7224, 21.7733, 25.1746, 29.9056, 31.1820, 29.2832, 33.9601,\n",
      "        31.9237, 33.6126, 35.0825, 32.4829, 32.6970, 30.5495, 31.8021, 30.6513,\n",
      "        29.8633, 29.2448, 26.5654, 25.1754, 22.4865, 22.4091, 21.9239, 19.7467],\n",
      "       device='cuda:0', dtype=torch.float64)\n",
      "\n",
      "MPJPE: 93.01356022031261\n",
      "Reconstruction Error: 45.72069009867473\n",
      "\n",
      "Orientation error: 35.11925823444868\n"
     ]
    },
    {
     "name": "stderr",
     "output_type": "stream",
     "text": [
      "\r",
      "Eval:   4%|▎         | 41/1110 [01:11<16:27,  1.08it/s]"
     ]
    },
    {
     "name": "stdout",
     "output_type": "stream",
     "text": [
      "orientation_error\n",
      "tensor([21.2665, 20.9735, 21.4869, 21.3314, 21.6752, 22.1429, 23.2623, 22.5268,\n",
      "        22.3623, 23.5510, 24.0436, 23.9483, 23.9239, 24.2471, 23.9190, 23.9843,\n",
      "        23.3488, 23.2033, 22.5318, 23.1647, 24.2424, 24.1100, 24.4530, 24.6030,\n",
      "        25.0094, 25.4431, 23.9291, 24.2890, 25.0494, 23.6761, 23.2783, 23.2070],\n",
      "       device='cuda:0', dtype=torch.float64)\n",
      "\n"
     ]
    },
    {
     "name": "stderr",
     "output_type": "stream",
     "text": [
      "\r",
      "Eval:   4%|▍         | 42/1110 [01:12<15:22,  1.16it/s]"
     ]
    },
    {
     "name": "stdout",
     "output_type": "stream",
     "text": [
      "orientation_error\n",
      "tensor([23.2456, 23.6644, 23.5048, 23.8934, 23.9887, 23.1187, 23.7457, 23.3283,\n",
      "        23.1010, 22.9286, 22.8768, 22.9151, 24.0483, 24.8892, 24.9855, 25.4408,\n",
      "        24.6041, 23.6342, 23.2144, 23.3870, 22.5245, 22.8915, 23.9011, 23.2897,\n",
      "        24.0603, 23.9388, 24.0716, 24.5204, 25.5042, 25.4176, 25.2333, 25.4946],\n",
      "       device='cuda:0', dtype=torch.float64)\n",
      "\n"
     ]
    },
    {
     "name": "stderr",
     "output_type": "stream",
     "text": [
      "\r",
      "Eval:   4%|▍         | 43/1110 [01:12<14:48,  1.20it/s]"
     ]
    },
    {
     "name": "stdout",
     "output_type": "stream",
     "text": [
      "orientation_error\n",
      "tensor([24.9422, 24.5458, 24.5195, 24.6054, 24.2526, 24.1599, 24.1750, 24.3013,\n",
      "        37.2063, 37.1689, 36.9954, 36.8004, 36.9735, 23.7581, 23.7440, 37.1030,\n",
      "        37.1391, 37.3180, 23.6824, 23.9693, 23.7541, 23.8778, 23.9774, 24.0217,\n",
      "        24.0110, 24.1808, 24.1257, 37.6594, 37.5400, 37.4459, 37.4224, 37.2153],\n",
      "       device='cuda:0', dtype=torch.float64)\n",
      "\n"
     ]
    },
    {
     "name": "stderr",
     "output_type": "stream",
     "text": [
      "\r",
      "Eval:   4%|▍         | 44/1110 [01:13<14:17,  1.24it/s]"
     ]
    },
    {
     "name": "stdout",
     "output_type": "stream",
     "text": [
      "orientation_error\n",
      "tensor([37.2798, 37.0913, 37.1045, 37.0347, 23.5381, 36.8258, 37.1006, 36.9701,\n",
      "        36.9856, 46.8299, 46.6526, 46.3424, 46.1002, 45.9552, 45.7676, 31.1077,\n",
      "        30.9088, 31.0181, 31.3110, 31.3053, 31.5886, 31.5048, 31.5072, 31.4653,\n",
      "        31.4775, 31.4538, 31.3638, 31.2786, 31.4823, 31.3684, 31.0342, 31.0733],\n",
      "       device='cuda:0', dtype=torch.float64)\n",
      "\n",
      "orientation_error\n",
      "tensor([31.0754, 31.0084, 31.1776, 31.0247, 30.9121, 31.0939, 30.9995, 30.9586,\n",
      "        31.1223, 31.0856, 30.6079, 30.4453, 30.2084, 29.6131, 29.3362, 29.2957,\n",
      "        29.9357, 29.5289, 29.5454, 43.7604, 42.6549, 42.1065, 41.9976, 41.7727,\n",
      "        41.9942, 41.3671, 41.1103, 40.4803, 40.3487, 40.0942, 39.4533, 37.6209],\n",
      "       device='cuda:0', dtype=torch.float64)\n",
      "\n"
     ]
    },
    {
     "name": "stderr",
     "output_type": "stream",
     "text": [
      "Eval:   4%|▍         | 46/1110 [01:14<13:13,  1.34it/s]"
     ]
    },
    {
     "name": "stdout",
     "output_type": "stream",
     "text": [
      "orientation_error\n",
      "tensor([36.7683, 21.5268, 22.0098, 21.9167, 21.4087, 22.1339, 22.4426, 22.6404,\n",
      "        23.1067, 22.3620, 22.3783, 23.3273, 23.6594, 24.8179, 23.9673, 24.2416,\n",
      "        26.1105, 28.1119, 26.4320, 28.8024, 25.7873, 26.0680, 25.3286, 24.7295,\n",
      "        25.7020, 23.8677, 24.9290, 26.1418, 24.4128, 26.3335, 25.6077, 26.3572],\n",
      "       device='cuda:0', dtype=torch.float64)\n",
      "\n"
     ]
    },
    {
     "name": "stderr",
     "output_type": "stream",
     "text": [
      "\r",
      "Eval:   4%|▍         | 47/1110 [01:15<13:02,  1.36it/s]"
     ]
    },
    {
     "name": "stdout",
     "output_type": "stream",
     "text": [
      "orientation_error\n",
      "tensor([26.7383, 32.6089, 38.2722, 36.1197, 36.4016, 34.9141, 34.0144, 33.8612,\n",
      "        32.4609, 31.2866, 33.3886, 33.9419, 34.1772, 33.5735, 35.0740, 51.1539,\n",
      "        49.8543, 51.4976, 62.5083, 55.3281, 57.3399, 47.2225, 52.3756, 57.4732,\n",
      "        53.4648, 31.6116, 30.9115, 30.5065, 33.1214, 32.2879, 57.5318, 47.1553],\n",
      "       device='cuda:0', dtype=torch.float64)\n",
      "\n"
     ]
    },
    {
     "name": "stderr",
     "output_type": "stream",
     "text": [
      "\r",
      "Eval:   4%|▍         | 48/1110 [01:16<15:14,  1.16it/s]"
     ]
    },
    {
     "name": "stdout",
     "output_type": "stream",
     "text": [
      "orientation_error\n",
      "tensor([44.0753, 41.7747, 43.0316, 40.2121, 48.0679, 49.7220, 45.8819, 51.1423,\n",
      "        52.6551, 45.2414, 57.7564, 57.8973, 58.6513, 45.0200, 58.9282, 48.4912,\n",
      "        45.4740, 44.4065, 32.5555, 32.9778, 49.3742, 57.3595, 59.9380, 59.8681,\n",
      "        57.6138, 55.7339, 51.9191, 67.3868, 70.4980, 64.1489, 64.0332, 75.8957],\n",
      "       device='cuda:0', dtype=torch.float64)\n",
      "\n"
     ]
    },
    {
     "name": "stderr",
     "output_type": "stream",
     "text": [
      "\r",
      "Eval:   4%|▍         | 49/1110 [01:20<32:04,  1.81s/it]"
     ]
    },
    {
     "name": "stdout",
     "output_type": "stream",
     "text": [
      "orientation_error\n",
      "tensor([69.1387, 61.2903, 58.8049, 67.4753, 61.7020, 57.5291, 39.9896, 57.0598,\n",
      "        61.2839, 67.5650, 46.1005, 49.7051, 47.5875, 44.3382, 38.3972, 41.1708,\n",
      "        42.3023, 43.6137, 41.9764, 41.3680, 40.3748, 40.7633, 41.2354, 41.8159,\n",
      "        42.2126, 27.3426, 28.1344, 28.8432, 28.3419, 28.2852, 28.6688, 29.6834],\n",
      "       device='cuda:0', dtype=torch.float64)\n",
      "\n"
     ]
    },
    {
     "name": "stderr",
     "output_type": "stream",
     "text": [
      "\r",
      "Eval:   5%|▍         | 50/1110 [01:21<25:12,  1.43s/it]"
     ]
    },
    {
     "name": "stdout",
     "output_type": "stream",
     "text": [
      "orientation_error\n",
      "tensor([30.3158, 33.7615, 37.1496, 36.9183, 34.3254, 32.9606, 30.5085, 28.9936,\n",
      "        29.3605, 31.5384, 33.9996, 34.5733, 34.4364, 38.2667, 40.8049, 42.9439,\n",
      "        44.4474, 43.7462, 45.0753, 45.9375, 40.7279, 38.5082, 37.2851, 36.7678,\n",
      "        30.6469, 40.6604, 40.1432, 27.8534, 30.1071, 31.1017, 34.0493, 44.7853],\n",
      "       device='cuda:0', dtype=torch.float64)\n",
      "\n"
     ]
    },
    {
     "name": "stderr",
     "output_type": "stream",
     "text": [
      "\r",
      "Eval:   5%|▍         | 51/1110 [01:21<20:08,  1.14s/it]"
     ]
    },
    {
     "name": "stdout",
     "output_type": "stream",
     "text": [
      "orientation_error\n",
      "tensor([48.2649, 51.0559, 49.2892, 52.4107, 48.8197, 46.2350, 48.4368, 43.4259,\n",
      "        43.1991, 37.8962, 36.8494, 34.5318, 30.2873, 27.9779, 26.3028, 25.5338,\n",
      "        24.7199, 24.4129, 23.5211, 26.2576, 27.5444, 43.0347, 42.9867, 42.8281,\n",
      "        44.1484, 45.1734, 45.8145, 44.9641, 45.0114, 45.0085, 29.8070, 29.1743],\n",
      "       device='cuda:0', dtype=torch.float64)\n",
      "\n"
     ]
    },
    {
     "name": "stderr",
     "output_type": "stream",
     "text": [
      "\r",
      "Eval:   5%|▍         | 52/1110 [01:22<16:54,  1.04it/s]"
     ]
    },
    {
     "name": "stdout",
     "output_type": "stream",
     "text": [
      "orientation_error\n",
      "tensor([29.0060, 28.5756, 29.9849, 33.1538, 33.0944, 30.2369, 29.4365, 27.1108,\n",
      "        25.3498, 25.7975, 25.4556, 23.4691, 25.1018, 25.0207, 24.4288, 23.9943,\n",
      "        23.8780, 25.6113, 25.2628, 26.1604, 27.9803, 27.5045, 28.7682, 28.7838,\n",
      "        26.6985, 24.7840, 25.0641, 27.6028, 27.9648, 27.9559, 42.7952, 44.1947],\n",
      "       device='cuda:0', dtype=torch.float64)\n",
      "\n"
     ]
    },
    {
     "name": "stderr",
     "output_type": "stream",
     "text": [
      "\r",
      "Eval:   5%|▍         | 53/1110 [01:23<15:27,  1.14it/s]"
     ]
    },
    {
     "name": "stdout",
     "output_type": "stream",
     "text": [
      "orientation_error\n",
      "tensor([42.4579, 46.4165, 47.4838, 42.1530, 45.3921, 47.4264, 45.6715, 46.7345,\n",
      "        49.3016, 53.9321, 56.0465, 48.5981, 48.9158, 52.9011, 53.1936, 50.3564,\n",
      "        52.1814, 59.5311, 46.8723, 46.4673, 51.9919, 56.0230, 60.2141, 61.9590,\n",
      "        68.1252, 64.0226, 59.1661, 55.5475, 57.3624, 50.8952, 60.2783, 59.3302],\n",
      "       device='cuda:0', dtype=torch.float64)\n",
      "\n"
     ]
    },
    {
     "name": "stderr",
     "output_type": "stream",
     "text": [
      "\r",
      "Eval:   5%|▍         | 54/1110 [01:23<14:19,  1.23it/s]"
     ]
    },
    {
     "name": "stdout",
     "output_type": "stream",
     "text": [
      "orientation_error\n",
      "tensor([49.9914, 49.3355, 37.4131, 47.6428, 39.4788, 34.4984, 52.4812, 51.9491,\n",
      "        50.1619, 52.8138, 39.6541, 37.5028, 37.5964, 37.5489, 35.8418, 37.5271,\n",
      "        38.4783, 59.8255, 56.7620, 51.1669, 52.2016, 50.8489, 49.1304, 33.6260,\n",
      "        33.2866, 32.2822, 31.8193, 31.7825, 29.3107, 27.3668, 29.0499, 40.9510],\n",
      "       device='cuda:0', dtype=torch.float64)\n",
      "\n"
     ]
    },
    {
     "name": "stderr",
     "output_type": "stream",
     "text": [
      "\r",
      "Eval:   5%|▍         | 55/1110 [01:24<13:22,  1.32it/s]"
     ]
    },
    {
     "name": "stdout",
     "output_type": "stream",
     "text": [
      "orientation_error\n",
      "tensor([42.9191, 44.5479, 43.1109, 42.1529, 34.3960, 26.5721, 24.5909, 25.2381,\n",
      "        25.6699, 26.2034, 26.6856, 27.2633, 35.3846, 40.2591, 43.9910, 43.1932,\n",
      "        41.9764, 45.4367, 44.9675, 53.8617, 54.9872, 28.5444, 31.4915, 29.3470,\n",
      "        29.5231, 29.5659, 27.9258, 25.2913, 27.6317, 25.4940, 25.8273, 39.1634],\n",
      "       device='cuda:0', dtype=torch.float64)\n",
      "\n"
     ]
    },
    {
     "name": "stderr",
     "output_type": "stream",
     "text": [
      "\r",
      "Eval:   5%|▌         | 56/1110 [01:24<12:46,  1.37it/s]"
     ]
    },
    {
     "name": "stdout",
     "output_type": "stream",
     "text": [
      "orientation_error\n",
      "tensor([41.1976, 42.4647, 42.6065, 41.8999, 41.4668, 41.5946, 41.0729, 33.6401,\n",
      "        32.9435, 31.1507, 31.6556, 32.6819, 32.1086, 33.2966, 33.3817, 29.9135,\n",
      "        27.9858, 28.1081, 31.2548, 31.8683, 35.8080, 43.9734, 43.8379, 40.1970,\n",
      "        32.9078, 28.4302, 24.1161, 23.4346, 23.4810, 24.7292, 25.0407, 25.7864],\n",
      "       device='cuda:0', dtype=torch.float64)\n",
      "\n"
     ]
    },
    {
     "name": "stderr",
     "output_type": "stream",
     "text": [
      "\r",
      "Eval:   5%|▌         | 57/1110 [01:25<12:10,  1.44it/s]"
     ]
    },
    {
     "name": "stdout",
     "output_type": "stream",
     "text": [
      "orientation_error\n",
      "tensor([24.5386, 25.2120, 24.6768, 23.9984, 26.3033, 26.8837, 28.5659, 30.5833,\n",
      "        30.8869, 31.5951, 31.4853, 34.9636, 29.6791, 29.4539, 27.5110, 26.1182,\n",
      "        27.4927, 33.7021, 33.4066, 32.4729, 33.3091, 33.9168, 32.9336, 29.3269,\n",
      "        42.0765, 44.7138, 45.5637, 37.7604, 39.9364, 41.3552, 56.6465, 44.5765],\n",
      "       device='cuda:0', dtype=torch.float64)\n",
      "\n"
     ]
    },
    {
     "name": "stderr",
     "output_type": "stream",
     "text": [
      "\r",
      "Eval:   5%|▌         | 58/1110 [01:26<11:13,  1.56it/s]"
     ]
    },
    {
     "name": "stdout",
     "output_type": "stream",
     "text": [
      "orientation_error\n",
      "tensor([44.5593, 43.1434, 37.8130, 46.4018, 24.8603, 61.3794, 63.5685, 63.9454,\n",
      "        70.0970, 70.2473, 86.4782, 85.1465, 69.5782, 78.8708, 67.6272, 60.6002,\n",
      "        56.6592, 56.4128, 57.5848, 56.5906, 42.4034, 55.0599, 43.0776, 43.4042,\n",
      "        39.3391, 32.7385, 32.4511, 36.8983, 38.3636, 28.8669, 34.0953, 42.6495],\n",
      "       device='cuda:0', dtype=torch.float64)\n",
      "\n"
     ]
    },
    {
     "name": "stderr",
     "output_type": "stream",
     "text": [
      "\r",
      "Eval:   5%|▌         | 59/1110 [01:26<11:23,  1.54it/s]"
     ]
    },
    {
     "name": "stdout",
     "output_type": "stream",
     "text": [
      "orientation_error\n",
      "tensor([43.8986, 45.6931, 29.0878, 31.4902, 33.3527, 34.5568, 35.3314, 39.5288,\n",
      "        25.2600, 27.8299, 38.5593, 45.1661, 35.2307, 42.2573, 40.2793, 36.4762,\n",
      "        31.9251, 38.7058, 46.0788, 45.5279, 39.1334, 39.0551, 48.2059, 46.6176,\n",
      "        39.3087, 45.5652, 43.6372, 39.3343, 37.2103, 32.2709, 29.7214, 27.4675],\n",
      "       device='cuda:0', dtype=torch.float64)\n",
      "\n",
      "orientation_error\n",
      "tensor([42.4090, 41.4411, 39.8276, 23.9178, 23.5461, 23.4579, 23.9674, 24.9426,\n",
      "        25.5905, 26.3090, 24.1790, 22.8355, 22.0979, 23.7219, 26.3823, 25.8998,\n",
      "        25.2484, 24.5886, 25.6499, 26.6941, 26.6299, 26.8681, 26.1431, 25.4801,\n",
      "        24.7742, 23.2838, 22.5517, 21.0502, 19.8277, 20.9885, 23.6218, 24.1135],\n",
      "       device='cuda:0', dtype=torch.float64)\n",
      "\n",
      "MPJPE: 101.09796959480619"
     ]
    },
    {
     "name": "stderr",
     "output_type": "stream",
     "text": [
      "\r",
      "Eval:   5%|▌         | 60/1110 [01:27<11:06,  1.58it/s]"
     ]
    },
    {
     "name": "stdout",
     "output_type": "stream",
     "text": [
      "\n",
      "Reconstruction Error: 51.432238564179364\n",
      "\n",
      "Orientation error: 35.55325875111237\n"
     ]
    },
    {
     "name": "stderr",
     "output_type": "stream",
     "text": [
      "\r",
      "Eval:   5%|▌         | 61/1110 [01:28<11:11,  1.56it/s]"
     ]
    },
    {
     "name": "stdout",
     "output_type": "stream",
     "text": [
      "orientation_error\n",
      "tensor([20.3208, 21.8377, 26.3656, 32.1708, 27.7247, 24.1544, 23.5786, 24.0850,\n",
      "        24.7274, 24.0631, 23.2827, 26.3436, 30.4364, 44.0719, 43.3146, 38.9014,\n",
      "        45.2061, 52.6345, 53.0082, 53.7087, 53.7451, 54.0436, 53.6601, 54.5066,\n",
      "        41.2724, 38.2581, 39.0730, 33.0327, 34.6181, 32.6619, 31.4858, 32.1602],\n",
      "       device='cuda:0', dtype=torch.float64)\n",
      "\n",
      "orientation_error\n",
      "tensor([40.4084, 35.6126, 35.6039, 35.5438, 36.3304, 37.9152, 40.0688, 39.7726,\n",
      "        39.7636, 37.6928, 36.6999, 36.9202, 37.9276, 38.4993, 39.8205, 29.6941,\n",
      "        34.5631, 36.4830, 32.6720, 33.7933, 34.4868, 42.4261, 41.9152, 41.8672,\n",
      "        32.3251, 32.0337, 41.5920, 44.9992, 35.3746, 33.7439, 30.3994, 27.9008],\n",
      "       device='cuda:0', dtype=torch.float64)\n",
      "\n"
     ]
    },
    {
     "name": "stderr",
     "output_type": "stream",
     "text": [
      "Eval:   6%|▌         | 63/1110 [01:29<11:24,  1.53it/s]"
     ]
    },
    {
     "name": "stdout",
     "output_type": "stream",
     "text": [
      "orientation_error\n",
      "tensor([26.9652, 27.7779, 30.2556, 26.6397, 29.9112, 32.5737, 31.9841, 31.0316,\n",
      "        30.2484, 28.4098, 27.3045, 25.5328, 25.2886, 24.7428, 24.3807, 23.0107,\n",
      "        22.8722, 24.3812, 26.9981, 24.2325, 25.1585, 25.2634, 25.9631, 27.7981,\n",
      "        32.6232, 34.8934, 31.5833, 33.1647, 37.3643, 37.1614, 44.6979, 44.7623],\n",
      "       device='cuda:0', dtype=torch.float64)\n",
      "\n"
     ]
    },
    {
     "name": "stderr",
     "output_type": "stream",
     "text": [
      "\r",
      "Eval:   6%|▌         | 64/1110 [01:30<11:11,  1.56it/s]"
     ]
    },
    {
     "name": "stdout",
     "output_type": "stream",
     "text": [
      "orientation_error\n",
      "tensor([38.0573, 37.1517, 40.0214, 34.6168, 32.9517, 35.7736, 37.4594, 35.0928,\n",
      "        34.0632, 26.1836, 32.6121, 26.7519, 27.5121, 27.5673, 31.7501, 34.4624,\n",
      "        27.9711, 26.3988, 24.0320, 26.4157, 25.2457, 25.8144, 25.2776, 24.4865,\n",
      "        30.6812, 39.2597, 50.2248, 54.0471, 52.6895, 45.1186, 42.7265, 40.7425],\n",
      "       device='cuda:0', dtype=torch.float64)\n",
      "\n"
     ]
    },
    {
     "name": "stderr",
     "output_type": "stream",
     "text": [
      "\r",
      "Eval:   6%|▌         | 65/1110 [01:30<11:07,  1.57it/s]"
     ]
    },
    {
     "name": "stdout",
     "output_type": "stream",
     "text": [
      "orientation_error\n",
      "tensor([57.0833, 62.6605, 45.6671, 52.4535, 55.6464, 50.5844, 32.5068, 35.0182,\n",
      "        52.9206, 53.9057, 47.5865, 56.2832, 57.2951, 48.8302, 42.3334, 38.4254,\n",
      "        41.7264, 44.2349, 36.9817, 48.2009, 51.8343, 48.8586, 38.5883, 40.2001,\n",
      "        46.3627, 52.2313, 53.6227, 45.9968, 31.7490, 38.6570, 53.6018, 48.7317],\n",
      "       device='cuda:0', dtype=torch.float64)\n",
      "\n",
      "orientation_error\n",
      "tensor([58.2280, 58.1545, 58.7678, 53.6807, 34.2272, 32.4995, 47.8046, 35.0770,\n",
      "        50.4036, 33.7483, 30.1408, 27.7042, 25.8661, 25.8029, 26.2504, 25.3761,\n",
      "        25.8681, 26.9185, 29.5216, 32.1185, 40.6625, 44.0634, 36.0422, 29.3573,\n",
      "        24.7519, 25.8191, 26.5420, 24.9245, 24.1517, 24.4708, 25.3850, 26.5229],\n",
      "       device='cuda:0', dtype=torch.float64)\n",
      "\n"
     ]
    },
    {
     "name": "stderr",
     "output_type": "stream",
     "text": [
      "Eval:   6%|▌         | 67/1110 [01:32<12:34,  1.38it/s]"
     ]
    },
    {
     "name": "stdout",
     "output_type": "stream",
     "text": [
      "orientation_error\n",
      "tensor([26.6547, 26.8060, 29.5142, 32.2555, 30.7169, 26.5135, 24.7330, 26.4769,\n",
      "        28.3478, 28.6223, 30.2524, 31.5324, 30.9278, 32.7632, 32.6860, 32.6593,\n",
      "        31.4116, 29.6191, 27.2393, 26.7359, 24.9441, 23.4091, 22.8805, 24.6677,\n",
      "        25.2845, 26.2027, 26.2023, 24.9275, 26.9768, 32.9375, 31.2939, 26.3925],\n",
      "       device='cuda:0', dtype=torch.float64)\n",
      "\n"
     ]
    },
    {
     "name": "stderr",
     "output_type": "stream",
     "text": [
      "\r",
      "Eval:   6%|▌         | 68/1110 [01:33<13:10,  1.32it/s]"
     ]
    },
    {
     "name": "stdout",
     "output_type": "stream",
     "text": [
      "orientation_error\n",
      "tensor([26.8230, 41.1625, 41.4688, 41.8502, 41.4337, 40.2414, 41.3365, 43.6897,\n",
      "        43.1349, 41.0769, 41.5801, 42.0474, 42.2129, 43.1916, 44.3915, 44.6512,\n",
      "        42.4404, 41.8067, 42.1036, 41.1519, 41.8041, 30.6841, 30.1231, 29.5151,\n",
      "        29.9856, 30.4235, 30.0034, 29.6396, 29.3688, 28.6058, 28.0265, 27.6057],\n",
      "       device='cuda:0', dtype=torch.float64)\n",
      "\n"
     ]
    },
    {
     "name": "stderr",
     "output_type": "stream",
     "text": [
      "\r",
      "Eval:   6%|▌         | 69/1110 [01:33<13:03,  1.33it/s]"
     ]
    },
    {
     "name": "stdout",
     "output_type": "stream",
     "text": [
      "orientation_error\n",
      "tensor([29.1043, 31.4887, 33.3354, 31.1285, 29.8886, 26.7465, 26.6362, 26.0087,\n",
      "        25.0190, 24.1305, 24.1344, 24.0703, 23.6879, 22.6146, 22.8171, 23.4890,\n",
      "        26.1818, 28.1982, 29.5013, 31.7052, 31.4108, 31.5983, 30.9995, 32.9887,\n",
      "        32.4177, 30.9708, 32.4411, 33.2514, 31.2469, 30.7286, 31.2229, 31.9235],\n",
      "       device='cuda:0', dtype=torch.float64)\n",
      "\n"
     ]
    },
    {
     "name": "stderr",
     "output_type": "stream",
     "text": [
      "\r",
      "Eval:   6%|▋         | 70/1110 [01:34<13:05,  1.32it/s]"
     ]
    },
    {
     "name": "stdout",
     "output_type": "stream",
     "text": [
      "orientation_error\n",
      "tensor([31.4120, 27.6660, 27.7260, 26.7334, 28.5496, 30.3568, 33.5693, 34.9676,\n",
      "        34.7626, 47.2914, 44.3956, 47.3834, 29.5795, 28.7169, 42.7634, 44.3644,\n",
      "        42.5541, 25.8499, 25.6446, 26.4222, 29.1876, 35.5977, 46.2814, 47.3592,\n",
      "        51.6505, 49.8684, 52.9401, 50.0027, 53.1617, 43.6173, 42.4413, 41.2483],\n",
      "       device='cuda:0', dtype=torch.float64)\n",
      "\n"
     ]
    },
    {
     "name": "stderr",
     "output_type": "stream",
     "text": [
      "\r",
      "Eval:   6%|▋         | 71/1110 [01:35<15:23,  1.12it/s]"
     ]
    },
    {
     "name": "stdout",
     "output_type": "stream",
     "text": [
      "orientation_error\n",
      "tensor([38.6280, 38.2036, 41.1919, 42.3264, 41.8279, 43.0987, 43.5853, 43.0195,\n",
      "        42.2240, 38.2503, 36.8344, 36.8284, 35.5255, 34.4145, 34.8165, 33.5640,\n",
      "        30.9662, 29.9534, 30.0126, 42.5107, 42.2285, 41.6858, 40.8083, 40.6895,\n",
      "        41.2113, 42.4829, 43.5655, 45.0922, 34.0409, 36.8676, 42.7163, 46.4606],\n",
      "       device='cuda:0', dtype=torch.float64)\n",
      "\n"
     ]
    },
    {
     "name": "stderr",
     "output_type": "stream",
     "text": [
      "\r",
      "Eval:   6%|▋         | 72/1110 [01:36<14:46,  1.17it/s]"
     ]
    },
    {
     "name": "stdout",
     "output_type": "stream",
     "text": [
      "orientation_error\n",
      "tensor([46.3677, 48.9608, 47.3309, 28.3744, 24.5367, 19.6126, 19.1852, 20.0169,\n",
      "        22.2028, 22.7207, 37.0570, 40.0869, 39.8965, 35.0764, 24.8729, 22.5428,\n",
      "        24.4142, 27.3200, 35.7121, 36.4037, 29.9942, 28.5577, 28.7278, 29.5264,\n",
      "        29.8609, 30.9999, 31.0600, 30.1493, 28.5987, 28.4315, 28.3831, 28.7072],\n",
      "       device='cuda:0', dtype=torch.float64)\n",
      "\n",
      "orientation_error\n",
      "tensor([29.4918, 31.2017, 31.6678, 34.4269, 38.3449, 36.6496, 44.3945, 44.1999,\n",
      "        43.2004, 42.7708, 42.8463, 41.8026, 42.0191, 42.8063, 41.9096, 41.0103,\n",
      "        40.9998, 40.7612, 40.6042, 40.9068, 41.2367, 42.3718, 42.8196, 42.7462,\n",
      "        43.5758, 43.9465, 44.6133, 45.0926, 45.1322, 44.9338, 45.4890, 45.5156],\n",
      "       device='cuda:0', dtype=torch.float64)\n",
      "\n"
     ]
    },
    {
     "name": "stderr",
     "output_type": "stream",
     "text": [
      "Eval:   7%|▋         | 74/1110 [01:37<12:13,  1.41it/s]"
     ]
    },
    {
     "name": "stdout",
     "output_type": "stream",
     "text": [
      "orientation_error\n",
      "tensor([45.7647, 45.6063, 45.0107, 44.7168, 46.3699, 45.3679, 43.9817, 43.4251,\n",
      "        43.8112, 44.6840, 46.4818, 46.2144, 45.9013, 45.4457, 44.6590, 31.5173,\n",
      "        32.4254, 33.3147, 46.0826, 44.8345, 30.5489, 31.4236, 31.6775, 29.8960,\n",
      "        29.7786, 29.8329, 28.4360, 27.5362, 28.0022, 31.5949, 31.4243, 30.7701],\n",
      "       device='cuda:0', dtype=torch.float64)\n",
      "\n"
     ]
    },
    {
     "name": "stderr",
     "output_type": "stream",
     "text": [
      "\r",
      "Eval:   7%|▋         | 75/1110 [01:38<12:31,  1.38it/s]"
     ]
    },
    {
     "name": "stdout",
     "output_type": "stream",
     "text": [
      "orientation_error\n",
      "tensor([33.2286, 34.0367, 33.6201, 32.6805, 33.0057, 35.7233, 32.8572, 33.2152,\n",
      "        34.4709, 36.2164, 36.8549, 37.6447, 38.6434, 43.2773, 37.0114, 35.5532,\n",
      "        36.4388, 35.1256, 35.1015, 33.1657, 32.4620, 32.2563, 31.5975, 30.1357,\n",
      "        30.7795, 30.9784, 30.4523, 30.6393, 31.3638, 30.8429, 34.0298, 33.8874],\n",
      "       device='cuda:0', dtype=torch.float64)\n",
      "\n",
      "orientation_error\n",
      "tensor([35.4020, 35.2542, 34.2117, 36.0580, 36.6361, 38.8456, 36.5245, 36.3984,\n",
      "        35.5611, 34.9787, 34.3109, 33.6474, 32.5769, 31.8347, 32.4611, 31.7334,\n",
      "        31.2394, 30.3150, 29.3780, 29.5946, 28.7308, 28.8579, 29.3348, 29.8329,\n",
      "        29.8333, 29.8499, 30.3448, 31.1313, 31.4270, 32.1729, 33.0702, 31.5304],\n",
      "       device='cuda:0', dtype=torch.float64)\n",
      "\n"
     ]
    },
    {
     "name": "stderr",
     "output_type": "stream",
     "text": [
      "Eval:   7%|▋         | 77/1110 [01:39<11:24,  1.51it/s]"
     ]
    },
    {
     "name": "stdout",
     "output_type": "stream",
     "text": [
      "orientation_error\n",
      "tensor([30.5369, 32.1884, 31.5026, 32.9987, 37.3945, 41.0427, 40.7720, 34.3507,\n",
      "        32.3838, 33.2988, 30.3733, 30.8551, 32.1533, 32.6374, 32.2897, 31.5631,\n",
      "        33.5791, 33.3120, 32.8299, 33.3990, 35.0020, 35.9110, 37.7044, 37.8501,\n",
      "        37.1108, 37.3238, 36.9728, 38.3165, 37.9282, 36.7448, 36.7097, 38.3675],\n",
      "       device='cuda:0', dtype=torch.float64)\n",
      "\n"
     ]
    },
    {
     "name": "stderr",
     "output_type": "stream",
     "text": [
      "\r",
      "Eval:   7%|▋         | 78/1110 [01:40<12:26,  1.38it/s]"
     ]
    },
    {
     "name": "stdout",
     "output_type": "stream",
     "text": [
      "orientation_error\n",
      "tensor([37.8016, 36.2238, 35.9132, 35.2415, 36.0586, 36.7640, 36.9467, 36.9439,\n",
      "        35.4282, 35.0573, 35.1584, 35.4299, 35.4845, 35.3411, 34.1155, 34.9824,\n",
      "        36.9685, 37.8147, 40.6936, 41.4123, 40.2215, 39.2174, 40.0603, 40.0960,\n",
      "        38.3372, 38.1163, 38.6293, 38.7582, 37.5264, 37.0690, 37.1341, 38.0997],\n",
      "       device='cuda:0', dtype=torch.float64)\n",
      "\n"
     ]
    },
    {
     "name": "stderr",
     "output_type": "stream",
     "text": [
      "\r",
      "Eval:   7%|▋         | 79/1110 [01:41<12:49,  1.34it/s]"
     ]
    },
    {
     "name": "stdout",
     "output_type": "stream",
     "text": [
      "orientation_error\n",
      "tensor([36.5996, 36.0932, 35.9790, 35.7024, 35.7160, 35.7062, 35.7585, 35.8490,\n",
      "        35.7319, 35.4536, 35.1659, 35.8445, 37.2651, 38.1097, 38.4706, 37.3970,\n",
      "        34.4997, 35.6796, 33.7117, 34.0045, 33.9868, 34.5559, 34.0759, 35.6085,\n",
      "        36.7594, 37.1262, 38.1514, 38.0548, 40.4590, 40.8155, 41.4273, 40.9093],\n",
      "       device='cuda:0', dtype=torch.float64)\n",
      "\n"
     ]
    },
    {
     "name": "stderr",
     "output_type": "stream",
     "text": [
      "\r",
      "Eval:   7%|▋         | 80/1110 [01:42<12:00,  1.43it/s]"
     ]
    },
    {
     "name": "stdout",
     "output_type": "stream",
     "text": [
      "orientation_error\n",
      "tensor([42.3284, 42.9313, 42.4892, 42.5155, 43.1106, 42.2720, 43.1174, 43.4940,\n",
      "        42.9491, 42.6402, 41.9565, 41.8081, 41.1933, 41.2691, 40.2773, 40.3996,\n",
      "        40.9868, 42.2302, 41.7483, 42.8801, 43.8255, 43.7088, 44.5646, 44.7399,\n",
      "        44.0422, 43.6239, 44.7050, 44.5693, 44.1155, 45.0918, 46.2933, 46.7448],\n",
      "       device='cuda:0', dtype=torch.float64)\n",
      "\n",
      "MPJPE: 98.7467867649408\n",
      "Reconstruction Error: 52.1927023537846\n",
      "\n",
      "Orientation error: 35.424766348255005\n"
     ]
    },
    {
     "name": "stderr",
     "output_type": "stream",
     "text": [
      "\r",
      "Eval:   7%|▋         | 81/1110 [01:43<16:59,  1.01it/s]"
     ]
    },
    {
     "name": "stdout",
     "output_type": "stream",
     "text": [
      "orientation_error\n",
      "tensor([46.7316, 40.1785, 36.1163, 33.9065, 30.6686, 28.0961, 27.1855, 26.5836,\n",
      "        25.6059, 25.4499, 24.8943, 24.2718, 23.4616, 20.3936, 21.3658, 24.9111,\n",
      "        25.6286, 27.0740, 26.4160, 26.0334, 25.3435, 26.1198, 24.7605, 25.6704,\n",
      "        26.8052, 42.4203, 42.1388, 42.9734, 42.2716, 42.1776, 41.8522, 42.8268],\n",
      "       device='cuda:0', dtype=torch.float64)\n",
      "\n",
      "orientation_error\n",
      "tensor([41.9309, 42.6914, 43.2836, 28.2637, 27.9094, 28.1979, 28.7039, 28.8470,\n",
      "        28.2499, 28.2634, 27.4251, 27.6255, 27.8798, 28.2386, 28.4985, 28.5799,\n",
      "        43.4072, 43.3868, 43.1815, 43.3793, 43.8092, 43.5107, 43.1704, 28.6500,\n",
      "        28.8997, 28.9169, 28.9242, 28.7538, 28.6632, 28.5783, 29.1189, 28.7578],\n",
      "       device='cuda:0', dtype=torch.float64)\n",
      "\n"
     ]
    },
    {
     "name": "stderr",
     "output_type": "stream",
     "text": [
      "Eval:   7%|▋         | 83/1110 [01:45<15:26,  1.11it/s]"
     ]
    },
    {
     "name": "stdout",
     "output_type": "stream",
     "text": [
      "orientation_error\n",
      "tensor([28.5943, 28.5049, 28.7236, 28.9949, 29.1831, 29.1230, 29.1205, 28.9503,\n",
      "        28.6788, 28.9718, 28.4555, 28.6911, 28.8348, 29.2000, 29.3018, 29.1961,\n",
      "        29.2401, 29.2672, 29.6196, 29.6443, 29.4114, 29.3628, 29.5917, 29.6043,\n",
      "        29.4811, 29.4397, 29.5489, 29.5749, 29.6027, 29.6586, 29.6139, 29.7215],\n",
      "       device='cuda:0', dtype=torch.float64)\n",
      "\n",
      "orientation_error\n",
      "tensor([29.6600, 29.9294, 36.6713, 36.1837, 37.0450, 36.9942, 36.4425, 35.8538,\n",
      "        36.3673, 36.0028, 35.8770, 35.9983, 35.7954, 35.8077, 36.5527, 36.3082,\n",
      "        36.3600, 35.9394, 35.5029, 35.5282, 35.3797, 35.0638, 34.6954, 34.9684,\n",
      "        34.8760, 34.5603, 35.1250, 34.8141, 34.5582, 34.7861, 34.4476, 34.7160],\n",
      "       device='cuda:0', dtype=torch.float64)\n",
      "\n"
     ]
    },
    {
     "name": "stderr",
     "output_type": "stream",
     "text": [
      "\r",
      "Eval:   8%|▊         | 84/1110 [01:46<15:01,  1.14it/s]"
     ]
    },
    {
     "name": "stdout",
     "output_type": "stream",
     "text": [
      "orientation_error\n",
      "tensor([35.1348, 34.4201, 34.3057, 35.3881, 33.8578, 33.5765, 31.8723, 31.3283,\n",
      "        31.3105, 31.3465, 31.3031, 31.3066, 31.0734, 31.6358, 31.9008, 32.2534,\n",
      "        32.5755, 33.3961, 33.7460, 33.7553, 33.9476, 33.9739, 33.7148, 33.3968,\n",
      "        32.4867, 32.2447, 32.0866, 31.4662, 31.2608, 30.9128, 30.7531, 31.7019],\n",
      "       device='cuda:0', dtype=torch.float64)\n",
      "\n"
     ]
    },
    {
     "name": "stderr",
     "output_type": "stream",
     "text": [
      "Eval:   8%|▊         | 86/1110 [01:47<12:55,  1.32it/s]"
     ]
    },
    {
     "name": "stdout",
     "output_type": "stream",
     "text": [
      "orientation_error\n",
      "tensor([32.1175, 31.9938, 32.3219, 32.0782, 32.7255, 32.2901, 18.1990, 17.2992,\n",
      "        18.4144, 17.6490, 16.4136, 17.0014, 16.6988, 16.6997, 16.9423, 16.7707,\n",
      "        16.7762, 16.7389, 18.2731, 17.8497, 17.7154, 17.7372, 18.2893, 31.8529,\n",
      "        31.3103, 30.9991, 31.9790, 32.3537, 33.6939, 32.9008, 32.3117, 31.6379],\n",
      "       device='cuda:0', dtype=torch.float64)\n",
      "\n",
      "orientation_error\n",
      "tensor([32.3409, 31.8702, 31.6059, 32.1050, 18.7139, 19.0639, 33.1802, 33.6060,\n",
      "        35.8275, 22.1728, 21.0805, 21.4544, 21.2246, 22.2001, 22.9780, 23.6865,\n",
      "        19.8033, 22.1983, 26.4637, 25.3652, 24.1994, 23.1089, 24.8184, 24.1368,\n",
      "        24.8168, 24.2161, 24.1946, 23.8558, 25.9069, 23.9973, 24.0245, 23.0746],\n",
      "       device='cuda:0', dtype=torch.float64)\n",
      "\n"
     ]
    },
    {
     "name": "stderr",
     "output_type": "stream",
     "text": [
      "Eval:   8%|▊         | 88/1110 [01:48<12:09,  1.40it/s]"
     ]
    },
    {
     "name": "stdout",
     "output_type": "stream",
     "text": [
      "orientation_error\n",
      "tensor([20.5291, 19.9424, 17.8331, 17.1516, 16.1051, 16.4409, 16.2689, 16.3576,\n",
      "        17.0094, 17.4291, 16.8197, 16.3017, 17.3970, 19.2710, 19.4463, 19.0478,\n",
      "        18.5512, 17.8590, 16.4961, 15.9363, 17.9567, 18.4584, 17.9196, 19.8051,\n",
      "        27.2939, 18.0281, 21.3506, 32.3970, 19.3647, 20.5476, 21.7595, 21.9051],\n",
      "       device='cuda:0', dtype=torch.float64)\n",
      "\n",
      "orientation_error\n",
      "tensor([21.1095, 21.2296, 20.5822, 19.5666, 19.6126, 17.5291, 16.5430, 15.6863,\n",
      "        16.4361, 16.8709, 16.5017, 16.6036, 16.6248, 18.3596, 18.8715, 21.1155,\n",
      "        20.3439, 19.9384, 23.2107, 23.7974, 26.2477, 26.0729, 24.1444, 22.6638,\n",
      "        22.7645, 23.2786, 20.8802, 18.1823, 20.5545, 19.9850, 21.3447, 22.8736],\n",
      "       device='cuda:0', dtype=torch.float64)\n",
      "\n"
     ]
    },
    {
     "name": "stderr",
     "output_type": "stream",
     "text": [
      "Eval:   8%|▊         | 90/1110 [01:50<13:33,  1.25it/s]"
     ]
    },
    {
     "name": "stdout",
     "output_type": "stream",
     "text": [
      "orientation_error\n",
      "tensor([21.3517, 21.0664, 19.4757, 17.6654, 20.9172, 22.6572, 23.8036, 25.6824,\n",
      "        27.6310, 28.3320, 30.0135, 30.6687, 30.0894, 31.4493, 33.9809, 29.5948,\n",
      "        28.1361, 25.2136, 24.7302, 25.4060, 17.5726, 17.6634, 17.7899, 17.8640,\n",
      "        17.8030, 16.8740, 20.0019, 22.0198, 22.6065, 23.6079, 25.2690, 18.9740],\n",
      "       device='cuda:0', dtype=torch.float64)\n",
      "\n"
     ]
    },
    {
     "name": "stderr",
     "output_type": "stream",
     "text": [
      "\r",
      "Eval:   8%|▊         | 91/1110 [01:51<13:56,  1.22it/s]"
     ]
    },
    {
     "name": "stdout",
     "output_type": "stream",
     "text": [
      "orientation_error\n",
      "tensor([17.3525, 18.6405, 18.9604, 18.9829, 18.9676, 17.8213, 18.7651, 19.0595,\n",
      "        19.1762, 19.1784, 20.9205, 20.5849, 19.2990, 19.2858, 18.8652, 17.4605,\n",
      "        17.5455, 18.5541, 19.2624, 20.2212, 21.1375, 21.8281, 23.0179, 43.9523,\n",
      "        30.8610, 19.8476, 18.9027, 19.8232, 20.5210, 21.0346, 19.5491, 19.9596],\n",
      "       device='cuda:0', dtype=torch.float64)\n",
      "\n"
     ]
    },
    {
     "name": "stderr",
     "output_type": "stream",
     "text": [
      "\r",
      "Eval:   8%|▊         | 92/1110 [01:52<13:06,  1.29it/s]"
     ]
    },
    {
     "name": "stdout",
     "output_type": "stream",
     "text": [
      "orientation_error\n",
      "tensor([19.6455, 19.6133, 21.8161, 22.8032, 21.9509, 18.1253, 18.0656, 18.7033,\n",
      "        17.9602, 17.0852, 16.1264, 16.4300, 16.6163, 17.6229, 18.8767, 19.1274,\n",
      "        18.4950, 17.7146, 17.3884, 17.1817, 17.7372, 18.4424, 18.5197, 18.9080,\n",
      "        18.6164, 18.5224, 18.3500, 18.2131, 18.0983, 32.7868, 18.7903, 19.6847],\n",
      "       device='cuda:0', dtype=torch.float64)\n",
      "\n"
     ]
    },
    {
     "name": "stderr",
     "output_type": "stream",
     "text": [
      "\r",
      "Eval:   8%|▊         | 93/1110 [01:52<11:28,  1.48it/s]"
     ]
    },
    {
     "name": "stdout",
     "output_type": "stream",
     "text": [
      "orientation_error\n",
      "tensor([34.8242, 21.6418, 23.1058, 22.7374, 23.0284, 22.2318, 21.4930, 20.1961,\n",
      "        19.2348, 18.6307, 18.3349, 18.2665, 17.3608, 16.9977, 16.9560, 18.8120,\n",
      "        19.0104, 20.6044, 19.7452, 18.7103, 17.8409, 18.7859, 19.5266, 34.6139,\n",
      "        33.3668, 32.5064, 32.8783, 33.2325, 33.0158, 33.3261, 34.7058, 36.3318],\n",
      "       device='cuda:0', dtype=torch.float64)\n",
      "\n"
     ]
    },
    {
     "name": "stderr",
     "output_type": "stream",
     "text": [
      "\r",
      "Eval:   8%|▊         | 94/1110 [01:53<12:05,  1.40it/s]"
     ]
    },
    {
     "name": "stdout",
     "output_type": "stream",
     "text": [
      "orientation_error\n",
      "tensor([37.8410, 38.3671, 38.3285, 38.2769, 37.2724, 36.5922, 20.6829, 20.3154,\n",
      "        19.2754, 19.0843, 18.6295, 17.3955, 16.7495, 16.8115, 31.5511, 31.4209,\n",
      "        31.4544, 32.1008, 32.7538, 18.7582, 19.2341, 19.7474, 20.1682, 19.9821,\n",
      "        35.2931, 34.7877, 20.7242, 20.7806, 34.7729, 34.6297, 33.8752, 34.2911],\n",
      "       device='cuda:0', dtype=torch.float64)\n",
      "\n"
     ]
    },
    {
     "name": "stderr",
     "output_type": "stream",
     "text": [
      "\r",
      "Eval:   9%|▊         | 95/1110 [01:54<11:51,  1.43it/s]"
     ]
    },
    {
     "name": "stdout",
     "output_type": "stream",
     "text": [
      "orientation_error\n",
      "tensor([34.8748, 34.7395, 34.3942, 34.0952, 19.2378, 18.9387, 18.8201, 19.3380,\n",
      "        19.6095, 21.8245, 23.6729, 39.3587, 37.3113, 37.2286, 35.4255, 19.7088,\n",
      "        19.2193, 17.9266, 17.3551, 32.2209, 32.1820, 32.1923, 32.1779, 31.7191,\n",
      "        16.6993, 16.4571, 31.9346, 32.8450, 33.5266, 34.8624, 35.6546, 35.0034],\n",
      "       device='cuda:0', dtype=torch.float64)\n",
      "\n"
     ]
    },
    {
     "name": "stderr",
     "output_type": "stream",
     "text": [
      "\r",
      "Eval:   9%|▊         | 96/1110 [01:54<11:27,  1.48it/s]"
     ]
    },
    {
     "name": "stdout",
     "output_type": "stream",
     "text": [
      "orientation_error\n",
      "tensor([19.5917, 18.0195, 33.7021, 33.2287, 34.6651, 35.8110, 35.5636, 35.3440,\n",
      "        34.6827, 34.3595, 33.9927, 34.6014, 35.1056, 36.2617, 37.1217, 24.8459,\n",
      "        38.6204, 38.6311, 23.0618, 20.7604, 19.1289, 19.1672, 34.0570, 34.3715,\n",
      "        34.4826, 34.7981, 34.9365, 34.8030, 34.0860, 33.7193, 34.1229, 34.5585],\n",
      "       device='cuda:0', dtype=torch.float64)\n",
      "\n"
     ]
    },
    {
     "name": "stderr",
     "output_type": "stream",
     "text": [
      "\r",
      "Eval:   9%|▊         | 97/1110 [01:55<12:15,  1.38it/s]"
     ]
    },
    {
     "name": "stdout",
     "output_type": "stream",
     "text": [
      "orientation_error\n",
      "tensor([35.8287, 36.8147, 38.6115, 37.7590, 37.3917, 22.6132, 22.4080, 21.6301,\n",
      "        22.1099, 22.3502, 37.0591, 37.5336, 38.0533, 38.3496, 37.8754, 22.3466,\n",
      "        21.8832, 22.2072, 22.4146, 22.3204, 23.2473, 38.8253, 39.0651, 39.1429,\n",
      "        38.1532, 37.3843, 36.8950, 36.3408, 35.5422, 35.2835, 34.7533, 35.0518],\n",
      "       device='cuda:0', dtype=torch.float64)\n",
      "\n"
     ]
    },
    {
     "name": "stderr",
     "output_type": "stream",
     "text": [
      "\r",
      "Eval:   9%|▉         | 98/1110 [01:56<12:19,  1.37it/s]"
     ]
    },
    {
     "name": "stdout",
     "output_type": "stream",
     "text": [
      "orientation_error\n",
      "tensor([34.2562, 33.5864, 32.9699, 32.8206, 32.6622, 33.0194, 33.7008, 34.5307,\n",
      "        35.3741, 35.5016, 35.2039, 19.6687, 18.8380, 18.0313, 17.7988, 18.4087,\n",
      "        19.0013, 18.7969, 18.5330, 17.5861, 17.2527, 16.8109, 16.9999, 17.8470,\n",
      "        18.7320, 19.2708, 21.0050, 21.0730, 19.5309, 18.5540, 18.4481, 16.6725],\n",
      "       device='cuda:0', dtype=torch.float64)\n",
      "\n",
      "orientation_error\n",
      "tensor([16.5429, 16.6604, 30.9563, 31.3701, 31.6958, 31.9447, 31.3664, 31.0750,\n",
      "        30.5033, 29.9353, 29.7814, 15.4384, 30.8161, 16.7468, 17.5398, 18.0865,\n",
      "        17.7212, 17.1449, 19.1505, 20.4462, 21.2132, 24.9644, 39.3328, 36.0646,\n",
      "        21.2578, 21.4521, 20.8812, 27.3166, 17.8881, 17.5667, 17.9244, 17.5904],\n",
      "       device='cuda:0', dtype=torch.float64)\n",
      "\n"
     ]
    },
    {
     "name": "stderr",
     "output_type": "stream",
     "text": [
      "Eval:   9%|▉         | 100/1110 [01:57<12:50,  1.31it/s]"
     ]
    },
    {
     "name": "stdout",
     "output_type": "stream",
     "text": [
      "orientation_error\n",
      "tensor([18.3046, 16.6569, 18.9573, 19.2363, 17.0009, 17.0641, 15.1370, 17.0599,\n",
      "        18.5524, 16.0385, 16.7409, 17.6245, 17.7267, 17.9994, 18.2662, 18.7096,\n",
      "        18.1068, 18.6788, 19.2517, 20.7703, 20.2555, 19.7377, 20.4891, 20.1583,\n",
      "        20.4516, 19.0421, 18.1890, 17.5170, 22.7214, 26.4124, 26.3503, 23.6757],\n",
      "       device='cuda:0', dtype=torch.float64)\n",
      "\n",
      "MPJPE: 98.17523845574921\n",
      "Reconstruction Error: 52.06985538002254\n",
      "\n",
      "Orientation error: 33.80289423688498\n"
     ]
    },
    {
     "name": "stderr",
     "output_type": "stream",
     "text": [
      "\r",
      "Eval:   9%|▉         | 101/1110 [01:58<12:32,  1.34it/s]"
     ]
    },
    {
     "name": "stdout",
     "output_type": "stream",
     "text": [
      "orientation_error\n",
      "tensor([25.5368, 25.0965, 25.9389, 44.1049, 43.6598, 46.2261, 49.1037, 30.5263,\n",
      "        29.1500, 26.2732, 18.1526, 22.4236, 22.1090, 20.4141, 17.9008, 17.2143,\n",
      "        17.3269, 18.1497, 18.2443, 18.0941, 19.4968, 20.2893, 21.6925, 20.4859,\n",
      "        20.6724, 20.7898, 20.7761, 20.7659, 19.4998, 18.7116, 17.8888, 16.9571],\n",
      "       device='cuda:0', dtype=torch.float64)\n",
      "\n"
     ]
    },
    {
     "name": "stderr",
     "output_type": "stream",
     "text": [
      "\r",
      "Eval:   9%|▉         | 102/1110 [01:59<12:29,  1.34it/s]"
     ]
    },
    {
     "name": "stdout",
     "output_type": "stream",
     "text": [
      "orientation_error\n",
      "tensor([16.7613, 16.9889, 17.4067, 33.5452, 35.1489, 36.4250, 36.5749, 36.1006,\n",
      "        38.8359, 35.9119, 23.0456, 24.7218, 25.7010, 26.5706, 26.1427, 24.3998,\n",
      "        19.6743, 16.5349, 16.7689, 17.3718, 17.9740, 18.6306, 19.5522, 19.0110,\n",
      "        19.7406, 20.5365, 21.7817, 21.7265, 21.2978, 21.7932, 21.1386, 20.8020],\n",
      "       device='cuda:0', dtype=torch.float64)\n",
      "\n"
     ]
    },
    {
     "name": "stderr",
     "output_type": "stream",
     "text": [
      "\r",
      "Eval:   9%|▉         | 103/1110 [02:00<14:26,  1.16it/s]"
     ]
    },
    {
     "name": "stdout",
     "output_type": "stream",
     "text": [
      "orientation_error\n",
      "tensor([20.5018, 19.7001, 18.4992, 17.3078, 16.8123, 16.9470, 17.6024, 17.6756,\n",
      "        17.7651, 16.1846, 16.7787, 16.9609, 16.9145, 20.3249, 22.7394, 22.2305,\n",
      "        19.3598, 20.6757, 18.8567, 17.9235, 17.2842, 16.7519, 17.3838, 18.0631,\n",
      "        18.4943, 18.9528, 18.7123, 18.7592, 19.2505, 20.3321, 20.9132, 20.8396],\n",
      "       device='cuda:0', dtype=torch.float64)\n",
      "\n"
     ]
    },
    {
     "name": "stderr",
     "output_type": "stream",
     "text": [
      "\r",
      "Eval:   9%|▉         | 104/1110 [02:01<13:40,  1.23it/s]"
     ]
    },
    {
     "name": "stdout",
     "output_type": "stream",
     "text": [
      "orientation_error\n",
      "tensor([20.9631, 22.0237, 22.5700, 20.7174, 20.4002, 19.7405, 19.2901, 19.5831,\n",
      "        19.2658, 32.1283, 31.4576, 17.5111, 17.7674, 17.8181, 32.4118, 38.5645,\n",
      "        37.6738, 37.3225, 35.5403, 37.8915, 36.2516, 34.4105, 37.6195, 37.8994,\n",
      "        20.2148, 18.8367, 18.2753, 17.3802, 17.4785, 18.6803, 19.2658, 19.8865],\n",
      "       device='cuda:0', dtype=torch.float64)\n",
      "\n"
     ]
    },
    {
     "name": "stderr",
     "output_type": "stream",
     "text": [
      "\r",
      "Eval:   9%|▉         | 105/1110 [02:01<13:17,  1.26it/s]"
     ]
    },
    {
     "name": "stdout",
     "output_type": "stream",
     "text": [
      "orientation_error\n",
      "tensor([20.4241, 21.3749, 20.4938, 21.2399, 22.6059, 22.1403, 22.4998, 23.4166,\n",
      "        23.7880, 38.5203, 38.8500, 38.5381, 38.6598, 37.7096, 22.5166, 36.7236,\n",
      "        19.9076, 33.3193, 32.6222, 32.6364, 33.7715, 33.8484, 32.6302, 35.3997,\n",
      "        35.4895, 36.1360, 35.5912, 34.4733, 34.8413, 34.6274, 34.3248, 20.7506],\n",
      "       device='cuda:0', dtype=torch.float64)\n",
      "\n"
     ]
    },
    {
     "name": "stderr",
     "output_type": "stream",
     "text": [
      "\r",
      "Eval:  10%|▉         | 106/1110 [02:02<13:09,  1.27it/s]"
     ]
    },
    {
     "name": "stdout",
     "output_type": "stream",
     "text": [
      "orientation_error\n",
      "tensor([22.3533, 22.1407, 22.8519, 22.9996, 23.3185, 38.3416, 23.6852, 38.4414,\n",
      "        39.2131, 39.5229, 40.1745, 40.2337, 40.5993, 25.6837, 24.5681, 24.4869,\n",
      "        23.9154, 23.3693, 22.0186, 21.7665, 20.7560, 33.9174, 34.3766, 35.8629,\n",
      "        35.1778, 33.9073, 19.6420, 19.5945, 19.2107, 18.6073, 19.1153, 18.4320],\n",
      "       device='cuda:0', dtype=torch.float64)\n",
      "\n",
      "orientation_error\n",
      "tensor([19.6229, 19.1222, 19.2589, 19.9113, 35.3129, 36.2015, 35.8653, 34.9736,\n",
      "        20.3986, 33.8465, 19.5550, 19.3999, 20.5874, 36.1214, 35.8733, 35.3587,\n",
      "        35.3783, 35.4305, 35.0182, 34.8074, 33.7562, 33.4258, 33.3530, 18.6569,\n",
      "        19.0274, 19.9593, 21.3251, 25.4871, 31.5620, 35.4835, 33.2638, 35.9220],\n",
      "       device='cuda:0', dtype=torch.float64)\n",
      "\n"
     ]
    },
    {
     "name": "stderr",
     "output_type": "stream",
     "text": [
      "Eval:  10%|▉         | 108/1110 [02:04<13:20,  1.25it/s]"
     ]
    },
    {
     "name": "stdout",
     "output_type": "stream",
     "text": [
      "orientation_error\n",
      "tensor([36.3764, 37.5042, 35.0500, 28.1770, 33.7070, 34.5383, 33.8108, 39.6801,\n",
      "        36.2324, 34.8339, 41.8960, 43.2066, 41.8302, 38.8729, 39.7576, 39.4066,\n",
      "        38.5435, 38.9790, 34.3009, 36.2469, 36.3909, 35.2851, 35.4614, 35.4227,\n",
      "        36.0167, 35.1597, 31.9096, 47.0398, 47.0709, 32.7119, 36.6917, 34.2736],\n",
      "       device='cuda:0', dtype=torch.float64)\n",
      "\n",
      "orientation_error\n",
      "tensor([37.2342, 36.5996, 39.0984, 41.2022, 39.9687, 40.8542, 42.6650, 41.9199,\n",
      "        43.3744, 43.6513, 43.7008, 44.3616, 41.2009, 40.8553, 39.3258, 37.3193,\n",
      "        37.0737, 37.0426, 39.6615, 39.2737, 38.8871, 36.0101, 34.0256, 33.9332,\n",
      "        33.1679, 33.0164, 33.9294, 34.3073, 34.5572, 33.8043, 34.2920, 35.2872],\n",
      "       device='cuda:0', dtype=torch.float64)\n",
      "\n"
     ]
    },
    {
     "name": "stderr",
     "output_type": "stream",
     "text": [
      "Eval:  10%|▉         | 110/1110 [02:05<13:06,  1.27it/s]"
     ]
    },
    {
     "name": "stdout",
     "output_type": "stream",
     "text": [
      "orientation_error\n",
      "tensor([37.3109, 35.4754, 34.8816, 34.1206, 33.8520, 35.0127, 34.6042, 34.2803,\n",
      "        34.6503, 33.9699, 32.5737, 31.2069, 30.0285, 29.0513, 28.8231, 27.1122,\n",
      "        27.3238, 27.6077, 27.7834, 26.6687, 27.5014, 27.2055, 26.6636, 26.1457,\n",
      "        25.5587, 23.7854, 23.8628, 23.5532, 24.2781, 23.1333, 23.2080, 23.5385],\n",
      "       device='cuda:0', dtype=torch.float64)\n",
      "\n",
      "orientation_error\n",
      "tensor([23.2753, 24.7933, 26.0541, 25.5493, 24.7206, 25.4228, 24.6021, 25.3850,\n",
      "        26.0953, 26.5757, 27.8047, 32.5279, 41.8421, 32.7271, 27.9733, 27.2936,\n",
      "        26.8243, 26.8296, 24.8661, 25.8899, 25.5918, 26.2897, 25.0283, 25.1865,\n",
      "        24.7391, 24.5110, 23.9611, 24.3147, 24.6312, 23.9658, 24.2174, 25.2855],\n",
      "       device='cuda:0', dtype=torch.float64)\n",
      "\n"
     ]
    },
    {
     "name": "stderr",
     "output_type": "stream",
     "text": [
      "Eval:  10%|█         | 112/1110 [02:07<13:18,  1.25it/s]"
     ]
    },
    {
     "name": "stdout",
     "output_type": "stream",
     "text": [
      "orientation_error\n",
      "tensor([26.2856, 26.3240, 25.2099, 25.4885, 26.0365, 25.9405, 25.0675, 24.8605,\n",
      "        25.2924, 26.0977, 24.7243, 26.1839, 24.7283, 24.8021, 26.1052, 28.0625,\n",
      "        29.1059, 29.0571, 24.6259, 23.2877, 25.7438, 24.9290, 25.1671, 27.9787,\n",
      "        23.6943, 26.0167, 26.6307, 25.3841, 26.9075, 28.0153, 28.4831, 29.3009],\n",
      "       device='cuda:0', dtype=torch.float64)\n",
      "\n"
     ]
    },
    {
     "name": "stderr",
     "output_type": "stream",
     "text": [
      "\r",
      "Eval:  10%|█         | 113/1110 [02:08<14:00,  1.19it/s]"
     ]
    },
    {
     "name": "stdout",
     "output_type": "stream",
     "text": [
      "orientation_error\n",
      "tensor([31.4204, 31.4592, 30.8865, 29.1055, 26.4730, 25.3549, 24.2879, 24.6732,\n",
      "        26.6021, 27.2388, 25.2467, 25.1119, 25.2888, 24.3668, 24.0644, 23.0636,\n",
      "        22.6657, 21.3260, 19.4324, 19.7205, 19.9788, 19.0853, 19.0911, 19.3433,\n",
      "        18.9838, 18.6781, 18.2956, 18.1552, 17.7660, 17.7698, 18.1006, 18.4552],\n",
      "       device='cuda:0', dtype=torch.float64)\n",
      "\n"
     ]
    },
    {
     "name": "stderr",
     "output_type": "stream",
     "text": [
      "\r",
      "Eval:  10%|█         | 114/1110 [02:09<13:41,  1.21it/s]"
     ]
    },
    {
     "name": "stdout",
     "output_type": "stream",
     "text": [
      "orientation_error\n",
      "tensor([19.2641, 19.2793, 21.4660, 20.4082, 20.1437, 19.7066, 18.7025, 18.6655,\n",
      "        19.4206, 20.1220, 19.8273, 20.4156, 19.5318, 19.0071, 18.8399, 33.6467,\n",
      "        33.5076, 35.1473, 21.8837, 23.1539, 22.4948, 22.9700, 21.6818, 21.7050,\n",
      "        21.2404, 20.6484, 18.7405, 18.8049, 18.6658, 18.5789, 18.3960, 18.5606],\n",
      "       device='cuda:0', dtype=torch.float64)\n",
      "\n"
     ]
    },
    {
     "name": "stderr",
     "output_type": "stream",
     "text": [
      "\r",
      "Eval:  10%|█         | 115/1110 [02:10<13:46,  1.20it/s]"
     ]
    },
    {
     "name": "stdout",
     "output_type": "stream",
     "text": [
      "orientation_error\n",
      "tensor([18.5795, 18.8177, 17.3090, 18.1544, 19.1851, 20.3561, 20.4770, 19.5728,\n",
      "        19.5474, 19.3274, 18.2566, 18.4255, 19.3553, 16.9890, 16.5904, 17.9144,\n",
      "        32.7044, 32.4511, 32.5213, 33.3136, 34.5779, 35.2726, 22.5462, 22.3977,\n",
      "        23.5578, 22.7086, 22.4014, 22.7882, 20.3415, 17.9409, 16.8013, 16.9387],\n",
      "       device='cuda:0', dtype=torch.float64)\n",
      "\n",
      "orientation_error\n",
      "tensor([18.2104, 19.0938, 19.2793, 33.7236, 33.8824, 19.3243, 20.8657, 21.6642,\n",
      "        23.4368, 22.5290, 21.6374, 19.9283, 19.9362, 19.4562, 19.4947, 19.3595,\n",
      "        18.5273, 18.5115, 17.6507, 31.2734, 31.2512, 32.6811, 32.9936, 34.0067,\n",
      "        34.2611, 21.8501, 20.5677, 20.7776, 20.2569, 21.1140, 20.8421, 19.7658],\n",
      "       device='cuda:0', dtype=torch.float64)\n",
      "\n"
     ]
    },
    {
     "name": "stderr",
     "output_type": "stream",
     "text": [
      "Eval:  11%|█         | 117/1110 [02:11<14:01,  1.18it/s]"
     ]
    },
    {
     "name": "stdout",
     "output_type": "stream",
     "text": [
      "orientation_error\n",
      "tensor([18.8996, 18.0849, 19.2632, 19.1575, 19.4042, 19.9264, 20.4100, 19.7796,\n",
      "        18.8023, 19.7509, 36.7107, 21.0223, 19.8079, 17.7924, 18.6548, 18.0845,\n",
      "        17.7205, 18.7684, 19.0396, 19.0448, 18.9784, 18.2559, 31.9570, 32.7275,\n",
      "        33.1533, 34.6963, 35.6451, 36.8972, 37.3162, 37.0975, 22.7615, 37.1206],\n",
      "       device='cuda:0', dtype=torch.float64)\n",
      "\n",
      "orientation_error\n",
      "tensor([20.9733, 18.6719, 17.3261, 18.6128, 18.7576, 20.1377, 20.6583, 21.5452,\n",
      "        21.3027, 22.7803, 23.9688, 22.7291, 25.1228, 24.0271, 23.1915, 22.2182,\n",
      "        21.5676, 19.8517, 19.9138, 19.2978, 33.7741, 19.6062, 21.1742, 23.1793,\n",
      "        23.6346, 21.1029, 21.1556, 35.0853, 23.1369, 22.4681, 24.2461, 23.2857],\n",
      "       device='cuda:0', dtype=torch.float64)\n",
      "\n"
     ]
    },
    {
     "name": "stderr",
     "output_type": "stream",
     "text": [
      "Eval:  11%|█         | 119/1110 [02:13<13:12,  1.25it/s]"
     ]
    },
    {
     "name": "stdout",
     "output_type": "stream",
     "text": [
      "orientation_error\n",
      "tensor([24.3973, 25.1836, 22.5834, 19.5794, 33.7351, 18.0030, 34.4969, 34.4970,\n",
      "        35.0338, 35.5174, 36.2201, 36.7984, 38.0980, 39.8160, 27.1160, 41.5455,\n",
      "        40.2643, 20.7988, 34.2170, 34.2197, 34.7628, 35.0686, 18.1888, 33.2878,\n",
      "        33.9769, 34.1474, 33.6339, 34.2541, 19.6078, 36.0408, 36.6999, 21.3691],\n",
      "       device='cuda:0', dtype=torch.float64)\n",
      "\n"
     ]
    },
    {
     "name": "stderr",
     "output_type": "stream",
     "text": [
      "\r",
      "Eval:  11%|█         | 120/1110 [02:14<13:03,  1.26it/s]"
     ]
    },
    {
     "name": "stdout",
     "output_type": "stream",
     "text": [
      "orientation_error\n",
      "tensor([33.1291, 31.6420, 32.6521, 20.2936, 20.1222, 19.7060, 34.1683, 34.9167,\n",
      "        35.9587, 35.3383, 20.7221, 19.7204, 19.6328, 34.4314, 20.8194, 36.6768,\n",
      "        37.7295, 38.5575, 40.2507, 24.3595, 23.0551, 23.3113, 21.7827, 36.1152,\n",
      "        35.4063, 35.1004, 33.6318, 33.3745, 33.5099, 34.0404, 34.1240, 33.3674],\n",
      "       device='cuda:0', dtype=torch.float64)\n",
      "\n",
      "MPJPE: 96.07387304662124\n",
      "Reconstruction Error: 52.26824514395675\n",
      "\n",
      "Orientation error: 32.51794892456266\n"
     ]
    },
    {
     "name": "stderr",
     "output_type": "stream",
     "text": [
      "\r",
      "Eval:  11%|█         | 121/1110 [02:14<13:07,  1.26it/s]"
     ]
    },
    {
     "name": "stdout",
     "output_type": "stream",
     "text": [
      "orientation_error\n",
      "tensor([36.7276, 36.9490, 37.1447, 37.0884, 37.3384, 37.0961, 37.2309, 37.4966,\n",
      "        37.4587, 37.4494, 37.4762, 37.6354, 37.9713, 38.0235, 37.7433, 38.0067,\n",
      "        38.3290, 38.5132, 38.3947, 37.9823, 38.3734, 38.4739, 38.0685, 37.4947,\n",
      "        36.2556, 36.1403, 35.0521, 34.4132, 33.6888, 33.0867, 33.0409, 32.1963],\n",
      "       device='cuda:0', dtype=torch.float64)\n",
      "\n"
     ]
    },
    {
     "name": "stderr",
     "output_type": "stream",
     "text": [
      "\r",
      "Eval:  11%|█         | 122/1110 [02:15<14:11,  1.16it/s]"
     ]
    },
    {
     "name": "stdout",
     "output_type": "stream",
     "text": [
      "orientation_error\n",
      "tensor([18.5441, 18.1977, 18.1789, 19.2439, 19.1378, 19.9653, 20.4244, 21.0629,\n",
      "        20.9350, 21.1953, 21.2361, 20.9102, 20.7935, 20.8957, 21.6505, 21.7627,\n",
      "        21.3394, 20.7171, 20.8191, 23.2327, 28.8247, 27.2245, 35.3769, 37.6718,\n",
      "        38.6093, 41.0928, 63.6564, 49.7691, 62.5256, 62.9368, 50.4640, 65.6957],\n",
      "       device='cuda:0', dtype=torch.float64)\n",
      "\n",
      "orientation_error\n",
      "tensor([67.5873, 69.3399, 57.2092, 70.9735, 71.5780, 57.2533, 55.3781, 54.2444,\n",
      "        53.9334, 53.3664, 54.9254, 46.5038, 47.0281, 39.0323, 40.5661, 41.7612,\n",
      "        50.1681, 41.2674, 40.7572, 26.4192, 29.1850, 27.7137, 31.7874, 32.2642,\n",
      "        32.5525, 32.1925, 31.2717, 30.3902, 29.3521, 29.6151, 28.9120, 28.5042],\n",
      "       device='cuda:0', dtype=torch.float64)\n",
      "\n"
     ]
    },
    {
     "name": "stderr",
     "output_type": "stream",
     "text": [
      "Eval:  11%|█         | 124/1110 [02:18<16:37,  1.01s/it]"
     ]
    },
    {
     "name": "stdout",
     "output_type": "stream",
     "text": [
      "orientation_error\n",
      "tensor([36.2413, 36.0851, 44.8311, 45.8713, 48.9838, 38.5163, 36.0981, 38.3606,\n",
      "        43.1167, 57.6189, 74.0704, 46.4660, 60.8509, 61.0901, 59.9476, 47.0086,\n",
      "        46.4011, 47.1824, 47.5870, 62.1067, 49.4018, 62.5784, 62.5995, 54.2730,\n",
      "        56.0275, 55.9403, 41.7355, 55.0527, 41.2612, 47.1815, 56.8540, 54.8930],\n",
      "       device='cuda:0', dtype=torch.float64)\n",
      "\n",
      "orientation_error\n",
      "tensor([56.5843, 64.1031, 62.2641, 73.0079, 75.1205, 76.4932, 76.8079, 76.9029,\n",
      "        53.2351, 52.6919, 51.8602, 50.9078, 49.9819, 49.5817, 49.7264, 49.7334,\n",
      "        36.1483, 36.6084, 32.4020, 30.3718, 42.7343, 45.5610, 45.8201, 44.3701,\n",
      "        37.3827, 47.5367, 47.3741, 61.3212, 60.9613, 48.8194, 47.8952, 48.1104],\n",
      "       device='cuda:0', dtype=torch.float64)\n",
      "\n"
     ]
    },
    {
     "name": "stderr",
     "output_type": "stream",
     "text": [
      "\r",
      "Eval:  11%|█▏        | 125/1110 [02:19<16:19,  1.01it/s]"
     ]
    },
    {
     "name": "stdout",
     "output_type": "stream",
     "text": [
      "orientation_error\n",
      "tensor([48.2146, 47.8258, 47.4378, 48.2389, 48.1336, 48.0773, 48.3428, 48.7488,\n",
      "        35.2419, 35.8646, 26.9529, 36.4280, 36.7115, 38.0321, 38.9577, 37.5143,\n",
      "        38.3679, 24.1300, 24.3819, 24.4441, 25.4424, 25.1965, 24.9055, 38.5641,\n",
      "        38.4475, 37.9923, 38.6755, 39.4980, 39.2510, 39.6074, 38.6578, 24.4524],\n",
      "       device='cuda:0', dtype=torch.float64)\n",
      "\n"
     ]
    },
    {
     "name": "stderr",
     "output_type": "stream",
     "text": [
      "\r",
      "Eval:  11%|█▏        | 126/1110 [02:20<15:29,  1.06it/s]"
     ]
    },
    {
     "name": "stdout",
     "output_type": "stream",
     "text": [
      "orientation_error\n",
      "tensor([24.0112, 23.4705, 36.9725, 37.9318, 36.7388, 34.1013, 34.4330, 34.2114,\n",
      "        33.7563, 34.0863, 34.5279, 34.4422, 46.1039, 34.5348, 34.1150, 33.4735,\n",
      "        45.7443, 46.6810, 42.8933, 36.3434, 28.1190, 25.3763, 25.1424, 24.6083,\n",
      "        22.9979, 23.7306, 20.8281, 23.3259, 27.0218, 25.7380, 25.2018, 25.8607],\n",
      "       device='cuda:0', dtype=torch.float64)\n",
      "\n"
     ]
    },
    {
     "name": "stderr",
     "output_type": "stream",
     "text": [
      "\r",
      "Eval:  11%|█▏        | 127/1110 [02:20<14:29,  1.13it/s]"
     ]
    },
    {
     "name": "stdout",
     "output_type": "stream",
     "text": [
      "orientation_error\n",
      "tensor([27.7304, 28.9114, 27.6214, 27.9156, 29.8926, 30.5355, 27.6824, 25.4415,\n",
      "        25.2734, 26.6213, 26.0695, 27.4804, 28.0974, 28.3166, 27.5904, 27.9183,\n",
      "        28.6677, 29.7571, 29.6962, 30.4081, 30.8666, 28.0154, 27.2079, 26.2809,\n",
      "        26.1627, 25.9022, 26.0800, 26.0318, 25.5651, 24.5861, 25.4828, 22.5694],\n",
      "       device='cuda:0', dtype=torch.float64)\n",
      "\n"
     ]
    },
    {
     "name": "stderr",
     "output_type": "stream",
     "text": [
      "Eval:  12%|█▏        | 129/1110 [02:22<15:53,  1.03it/s]"
     ]
    },
    {
     "name": "stdout",
     "output_type": "stream",
     "text": [
      "orientation_error\n",
      "tensor([24.6868, 22.3393, 24.6962, 24.7557, 24.6924, 25.7654, 25.7043, 24.7987,\n",
      "        30.1137, 29.4383, 26.7259, 28.5304, 29.8276, 28.7300, 31.5022, 33.0294,\n",
      "        33.1671, 34.8333, 31.4528, 36.2715, 40.5450, 32.7953, 39.0094, 41.0718,\n",
      "        41.9001, 31.4662, 30.1857, 31.9715, 31.7760, 31.0874, 28.6658, 27.4224],\n",
      "       device='cuda:0', dtype=torch.float64)\n",
      "\n"
     ]
    },
    {
     "name": "stderr",
     "output_type": "stream",
     "text": [
      "\r",
      "Eval:  12%|█▏        | 130/1110 [02:24<18:13,  1.12s/it]"
     ]
    },
    {
     "name": "stdout",
     "output_type": "stream",
     "text": [
      "orientation_error\n",
      "tensor([28.3371, 27.2648, 29.4007, 27.2791, 27.0432, 26.7167, 25.2110, 22.8696,\n",
      "        23.5114, 26.7996, 27.7559, 27.4020, 29.5829, 31.8252, 25.2554, 23.6050,\n",
      "        19.9240, 18.8195, 19.6278, 18.8942, 20.6730, 21.4168, 19.5903, 19.2651,\n",
      "        21.9344, 20.8846, 23.4155, 20.8728, 22.1609, 19.9161, 20.7418, 36.5018],\n",
      "       device='cuda:0', dtype=torch.float64)\n",
      "\n"
     ]
    },
    {
     "name": "stderr",
     "output_type": "stream",
     "text": [
      "\r",
      "Eval:  12%|█▏        | 131/1110 [02:25<16:11,  1.01it/s]"
     ]
    },
    {
     "name": "stdout",
     "output_type": "stream",
     "text": [
      "orientation_error\n",
      "tensor([36.0142, 34.6602, 35.4366, 37.9596, 24.0274, 23.5639, 38.0252, 25.3502,\n",
      "        24.8476, 26.5057, 41.9275, 41.0018, 40.2292, 39.5285, 39.1169, 38.8816,\n",
      "        38.0639, 23.9880, 22.3094, 21.3892, 21.1835, 21.4151, 20.6133, 21.3664,\n",
      "        21.3104, 21.1186, 21.9237, 21.1974, 20.5768, 20.3307, 19.8504, 19.4841],\n",
      "       device='cuda:0', dtype=torch.float64)\n",
      "\n"
     ]
    },
    {
     "name": "stderr",
     "output_type": "stream",
     "text": [
      "\r",
      "Eval:  12%|█▏        | 132/1110 [02:25<15:31,  1.05it/s]"
     ]
    },
    {
     "name": "stdout",
     "output_type": "stream",
     "text": [
      "orientation_error\n",
      "tensor([19.7116, 20.3594, 20.8336, 21.2199, 21.4250, 21.4642, 21.4075, 21.3757,\n",
      "        21.4523, 21.4036, 21.8677, 24.5256, 26.2956, 23.8976, 25.2796, 24.7856,\n",
      "        23.1898, 22.4181, 23.4723, 23.6828, 24.7135, 24.7775, 25.3945, 27.8031,\n",
      "        25.2456, 25.0776, 25.9699, 26.6608, 25.8017, 24.7869, 25.7748, 26.9828],\n",
      "       device='cuda:0', dtype=torch.float64)\n",
      "\n"
     ]
    },
    {
     "name": "stderr",
     "output_type": "stream",
     "text": [
      "\r",
      "Eval:  12%|█▏        | 133/1110 [02:26<15:06,  1.08it/s]"
     ]
    },
    {
     "name": "stdout",
     "output_type": "stream",
     "text": [
      "orientation_error\n",
      "tensor([26.5580, 27.5531, 31.1356, 32.1272, 31.3290, 32.3138, 33.2658, 34.2801,\n",
      "        30.7812, 30.7648, 31.5606, 29.3908, 29.0824, 29.7675, 33.6501, 28.9893,\n",
      "        28.0369, 30.1940, 32.1355, 31.2292, 27.5325, 26.3072, 24.0206, 24.2858,\n",
      "        24.5770, 24.9382, 24.3472, 23.4758, 23.2046, 22.9610, 23.0176, 23.0727],\n",
      "       device='cuda:0', dtype=torch.float64)\n",
      "\n"
     ]
    },
    {
     "name": "stderr",
     "output_type": "stream",
     "text": [
      "\r",
      "Eval:  12%|█▏        | 134/1110 [02:27<14:30,  1.12it/s]"
     ]
    },
    {
     "name": "stdout",
     "output_type": "stream",
     "text": [
      "orientation_error\n",
      "tensor([22.7497, 22.6300, 23.1927, 23.2566, 23.3072, 22.9772, 23.2108, 23.5033,\n",
      "        23.9365, 24.2812, 24.4552, 25.6127, 28.8999, 27.9277, 28.3849, 38.5406,\n",
      "        24.6826, 24.5382, 23.9889, 23.3019, 22.8642, 22.5374, 22.2333, 22.9959,\n",
      "        22.4603, 22.4523, 22.3810, 23.8692, 26.7499, 24.9632, 37.3687, 24.1960],\n",
      "       device='cuda:0', dtype=torch.float64)\n",
      "\n"
     ]
    },
    {
     "name": "stderr",
     "output_type": "stream",
     "text": [
      "\r",
      "Eval:  12%|█▏        | 135/1110 [02:28<15:10,  1.07it/s]"
     ]
    },
    {
     "name": "stdout",
     "output_type": "stream",
     "text": [
      "orientation_error\n",
      "tensor([26.7887, 40.1919, 40.0563, 41.1290, 32.8899, 23.9068, 23.9184, 23.5116,\n",
      "        23.8476, 32.6162, 24.9754, 22.9919, 22.5724, 22.5355, 21.5820, 20.9229,\n",
      "        20.5719, 20.5461, 21.6257, 22.5719, 25.4033, 27.4129, 25.0342, 32.3422,\n",
      "        23.8830, 18.8415, 19.3816, 21.0723, 22.4706, 22.8812, 22.9476, 22.6263],\n",
      "       device='cuda:0', dtype=torch.float64)\n",
      "\n",
      "orientation_error\n",
      "tensor([22.9779, 22.9450, 23.9438, 25.1403, 26.6830, 27.6025, 28.0825, 28.7195,\n",
      "        28.5234, 27.5692, 28.2103, 26.7120, 26.7746, 26.4877, 25.4212, 25.1613,\n",
      "        24.5937, 23.9353, 23.4890, 23.1722, 22.7428, 22.7880, 23.1062, 23.3858,\n",
      "        24.7395, 23.8177, 24.0539, 23.0778, 26.7258, 34.2932, 22.5438, 23.1542],\n",
      "       device='cuda:0', dtype=torch.float64)\n",
      "\n"
     ]
    },
    {
     "name": "stderr",
     "output_type": "stream",
     "text": [
      "Eval:  12%|█▏        | 137/1110 [02:30<14:08,  1.15it/s]"
     ]
    },
    {
     "name": "stdout",
     "output_type": "stream",
     "text": [
      "orientation_error\n",
      "tensor([37.4305, 33.5823, 22.5171, 29.4604, 34.2752, 33.5103, 26.4622, 27.4950,\n",
      "        27.3269, 36.5125, 37.3407, 43.6146, 40.5970, 32.5355, 33.1031, 34.8751,\n",
      "        35.0252, 32.1308, 29.1618, 32.3148, 29.8582, 28.8940, 30.0423, 37.1306,\n",
      "        41.6886, 26.0443, 22.6666, 23.9691, 27.4794, 27.0605, 25.3397, 21.8205],\n",
      "       device='cuda:0', dtype=torch.float64)\n",
      "\n"
     ]
    },
    {
     "name": "stderr",
     "output_type": "stream",
     "text": [
      "\r",
      "Eval:  12%|█▏        | 138/1110 [02:30<13:19,  1.22it/s]"
     ]
    },
    {
     "name": "stdout",
     "output_type": "stream",
     "text": [
      "orientation_error\n",
      "tensor([19.1972, 35.1677, 21.7909, 22.3100, 34.9312, 34.7906, 24.7254, 24.5328,\n",
      "        24.0421, 24.2907, 24.3267, 23.9545, 24.0774, 24.4488, 24.7979, 26.8344,\n",
      "        27.0352, 27.7681, 27.6736, 26.4017, 26.7974, 25.6504, 28.0564, 23.4634,\n",
      "        25.1687, 23.8880, 27.2502, 26.5681, 26.5058, 24.5396, 29.8320, 24.8540],\n",
      "       device='cuda:0', dtype=torch.float64)\n",
      "\n",
      "orientation_error\n",
      "tensor([24.6591, 24.9888, 26.2514, 22.5501, 23.7866, 22.7550, 20.8236, 21.3483,\n",
      "        22.5310, 22.4878, 21.3604, 21.5448, 22.7604, 22.8795, 23.6644, 23.4260,\n",
      "        24.0218, 26.0180, 27.8004, 26.1065, 24.0762, 24.2025, 24.2011, 26.5586,\n",
      "        24.2454, 33.1282, 25.5956, 19.0189, 20.6816, 22.2976, 22.5749, 22.8454],\n",
      "       device='cuda:0', dtype=torch.float64)\n",
      "\n"
     ]
    },
    {
     "name": "stderr",
     "output_type": "stream",
     "text": [
      "\r",
      "Eval:  13%|█▎        | 139/1110 [02:31<12:57,  1.25it/s]"
     ]
    },
    {
     "name": "stdout",
     "output_type": "stream",
     "text": [
      "orientation_error\n",
      "tensor([21.6932, 21.5400, 21.0533, 21.1064, 20.7904, 21.8125, 24.6149, 25.1315,\n",
      "        26.8134, 31.5423, 34.8318, 32.2095, 23.0052, 62.2686, 39.4607, 41.6175,\n",
      "        27.3619, 28.9364, 28.9718, 30.8424, 44.7765, 45.5328, 47.6755, 49.5617,\n",
      "        48.7246, 47.6435, 47.5858, 48.0102, 47.5159, 47.5576, 46.5843, 46.9741],\n",
      "       device='cuda:0', dtype=torch.float64)\n",
      "\n"
     ]
    },
    {
     "name": "stderr",
     "output_type": "stream",
     "text": [
      "\r",
      "Eval:  13%|█▎        | 140/1110 [02:32<12:46,  1.27it/s]"
     ]
    },
    {
     "name": "stdout",
     "output_type": "stream",
     "text": [
      "MPJPE: 95.53847144434911\n",
      "Reconstruction Error: 54.08132505995094\n",
      "\n",
      "Orientation error: 32.39175785321325\n"
     ]
    },
    {
     "name": "stderr",
     "output_type": "stream",
     "text": [
      "\r",
      "Eval:  13%|█▎        | 141/1110 [02:33<12:14,  1.32it/s]"
     ]
    },
    {
     "name": "stdout",
     "output_type": "stream",
     "text": [
      "orientation_error\n",
      "tensor([44.5626, 44.1020, 31.3060, 60.6648, 46.6806, 25.7480, 30.2990, 33.5073,\n",
      "        25.7189, 25.3845, 24.7707, 25.0448, 26.1708, 23.0625, 49.9124, 28.4746,\n",
      "        26.6052, 26.3074, 29.6312, 29.0341, 30.4550, 24.6864, 25.1962, 25.7207,\n",
      "        26.4705, 30.6195, 32.8147, 33.9322, 35.6864, 35.3710, 36.4385, 34.6829],\n",
      "       device='cuda:0', dtype=torch.float64)\n",
      "\n",
      "orientation_error\n",
      "tensor([29.8360, 27.5861, 32.8485, 36.8216, 30.5578, 28.2062, 30.9063, 29.4562,\n",
      "        28.5488, 29.6780, 31.4933, 33.6632, 35.7948, 36.5129, 35.1492, 35.2782,\n",
      "        47.0700, 43.5312, 46.4136, 53.9404, 45.5863, 45.3500, 48.4271, 48.1858,\n",
      "        54.2349, 50.1434, 45.7715, 46.8042, 48.7313, 51.2489, 54.3340, 53.4502],\n",
      "       device='cuda:0', dtype=torch.float64)\n",
      "\n"
     ]
    },
    {
     "name": "stderr",
     "output_type": "stream",
     "text": [
      "Eval:  13%|█▎        | 143/1110 [02:37<26:39,  1.65s/it]"
     ]
    },
    {
     "name": "stdout",
     "output_type": "stream",
     "text": [
      "orientation_error\n",
      "tensor([55.0832, 55.4850, 57.1792, 57.5098, 58.3588, 58.1012, 57.1151, 56.1460,\n",
      "        54.0592, 51.4863, 53.1240, 50.1086, 49.7371, 57.0399, 56.9802, 53.3250,\n",
      "        56.9490, 59.0624, 59.9487, 63.0877, 62.1459, 61.8027, 63.4053, 61.5553,\n",
      "        61.5758, 65.0874, 55.3500, 64.9252, 63.8337, 64.6713, 66.6397, 70.1692],\n",
      "       device='cuda:0', dtype=torch.float64)\n",
      "\n"
     ]
    },
    {
     "name": "stderr",
     "output_type": "stream",
     "text": [
      "\r",
      "Eval:  13%|█▎        | 144/1110 [02:38<23:25,  1.46s/it]"
     ]
    },
    {
     "name": "stdout",
     "output_type": "stream",
     "text": [
      "orientation_error\n",
      "tensor([67.1356, 61.9370, 62.5584, 64.2350, 64.7083, 65.4445, 62.2910, 63.8825,\n",
      "        68.0247, 58.9495, 56.5639, 41.7686, 68.7300, 60.8873, 61.4496, 71.2785,\n",
      "        70.5951, 65.0501, 57.9022, 58.1455, 61.7281, 61.0340, 65.2567, 60.8894,\n",
      "        55.5456, 34.0364, 63.4564, 67.3977, 56.1303, 60.0252, 62.3495, 39.9525],\n",
      "       device='cuda:0', dtype=torch.float64)\n",
      "\n"
     ]
    },
    {
     "name": "stderr",
     "output_type": "stream",
     "text": [
      "\r",
      "Eval:  13%|█▎        | 145/1110 [02:39<19:44,  1.23s/it]"
     ]
    },
    {
     "name": "stdout",
     "output_type": "stream",
     "text": [
      "orientation_error\n",
      "tensor([46.7764, 68.3257, 39.1636, 53.4641, 48.8938, 45.0361, 53.0269, 45.6566,\n",
      "        45.2372, 46.4561, 55.6859, 48.2447, 46.5448, 47.0560, 49.8120, 63.1786,\n",
      "        65.1991, 66.7888, 66.6123, 66.1143, 65.9283, 63.6889, 64.8483, 63.2676,\n",
      "        63.4372, 61.3975, 63.4462, 62.4304, 77.5559, 77.4120, 73.0790, 76.9477],\n",
      "       device='cuda:0', dtype=torch.float64)\n",
      "\n"
     ]
    },
    {
     "name": "stderr",
     "output_type": "stream",
     "text": [
      "\r",
      "Eval:  13%|█▎        | 146/1110 [02:40<16:28,  1.03s/it]"
     ]
    },
    {
     "name": "stdout",
     "output_type": "stream",
     "text": [
      "orientation_error\n",
      "tensor([81.1322, 65.5284, 76.9743, 72.6041, 63.9608, 65.5924, 60.5406, 73.8270,\n",
      "        71.7193, 72.0565, 69.3523, 66.3191, 48.1573, 50.5036, 47.5479, 44.3001,\n",
      "        47.8017, 59.2302, 58.9737, 55.2206, 58.8786, 65.5920, 67.9786, 66.8609,\n",
      "        77.7336, 78.5724, 70.1735, 68.1285, 67.7901, 68.1205, 69.7606, 83.3031],\n",
      "       device='cuda:0', dtype=torch.float64)\n",
      "\n"
     ]
    },
    {
     "name": "stderr",
     "output_type": "stream",
     "text": [
      "\r",
      "Eval:  13%|█▎        | 147/1110 [02:40<14:24,  1.11it/s]"
     ]
    },
    {
     "name": "stdout",
     "output_type": "stream",
     "text": [
      "orientation_error\n",
      "tensor([83.8828, 84.5404, 83.7251, 82.8403, 71.0737, 69.5105, 69.9314, 70.8575,\n",
      "        55.9517, 52.5873, 53.4633, 52.9837, 68.8345, 62.9055, 69.2854, 68.5937,\n",
      "        69.0230, 60.9332, 45.4088, 53.4853, 48.2246, 46.2313, 53.2838, 47.3608,\n",
      "        54.9845, 44.7795, 44.4501, 44.4664, 45.2070, 46.4295, 47.0840, 61.0645],\n",
      "       device='cuda:0', dtype=torch.float64)\n",
      "\n",
      "orientation_error\n",
      "tensor([72.1976, 71.2560, 58.6505, 59.3292, 70.8538, 71.3894, 72.0499, 71.1346,\n",
      "        70.5637, 70.6016, 70.5778, 70.4573, 70.3098, 70.2741, 70.0784, 70.8351,\n",
      "        72.0695, 72.9265, 60.9491, 60.6433, 60.3421, 60.7560, 61.0969, 59.9691,\n",
      "        60.2568, 60.1252, 60.9825, 60.4034, 72.5083, 72.0309, 71.5735, 70.9152],\n",
      "       device='cuda:0', dtype=torch.float64)\n",
      "\n"
     ]
    },
    {
     "name": "stderr",
     "output_type": "stream",
     "text": [
      "Eval:  13%|█▎        | 149/1110 [02:41<12:18,  1.30it/s]"
     ]
    },
    {
     "name": "stdout",
     "output_type": "stream",
     "text": [
      "orientation_error\n",
      "tensor([69.9369, 69.5547, 76.6053, 67.7257, 66.0229, 64.2555, 61.7267, 61.5624,\n",
      "        67.1158, 64.7135, 63.3369, 63.7062, 51.9238, 47.6770, 48.9945, 48.2347,\n",
      "        45.3633, 47.1283, 47.2546, 47.2185, 47.4626, 44.5725, 43.8507, 44.5458,\n",
      "        31.5416, 33.9730, 47.9835, 48.6233, 46.9548, 47.4604, 46.2881, 44.6677],\n",
      "       device='cuda:0', dtype=torch.float64)\n",
      "\n"
     ]
    },
    {
     "name": "stderr",
     "output_type": "stream",
     "text": [
      "\r",
      "Eval:  14%|█▎        | 150/1110 [02:42<12:11,  1.31it/s]"
     ]
    },
    {
     "name": "stdout",
     "output_type": "stream",
     "text": [
      "orientation_error\n",
      "tensor([44.2627, 43.7730, 43.1076, 42.9930, 42.6984, 43.0204, 43.1635, 42.0855,\n",
      "        40.3756, 39.4085, 38.7995, 39.1189, 38.5231, 37.6261, 38.6773, 37.8387,\n",
      "        40.0925, 35.7538, 33.8891, 35.1553, 36.1105, 36.5393, 39.9795, 40.2835,\n",
      "        30.9080, 40.4938, 31.4844, 30.4349, 44.6231, 44.2922, 43.0934, 42.5627],\n",
      "       device='cuda:0', dtype=torch.float64)\n",
      "\n"
     ]
    },
    {
     "name": "stderr",
     "output_type": "stream",
     "text": [
      "\r",
      "Eval:  14%|█▎        | 151/1110 [02:43<11:58,  1.33it/s]"
     ]
    },
    {
     "name": "stdout",
     "output_type": "stream",
     "text": [
      "orientation_error\n",
      "tensor([43.0488, 43.4841, 43.0292, 42.1064, 41.2791, 42.4188, 43.2126, 41.5036,\n",
      "        40.9827, 40.5444, 42.0552, 40.9758, 39.0931, 37.8581, 38.4968, 38.9917,\n",
      "        41.3133, 40.7605, 40.9429, 40.3334, 40.8474, 40.0544, 38.9800, 40.6505,\n",
      "        39.3602, 39.3352, 39.5560, 40.9883, 41.0723, 43.2304, 40.9155, 41.7063],\n",
      "       device='cuda:0', dtype=torch.float64)\n",
      "\n",
      "orientation_error\n",
      "tensor([42.0709, 44.3144, 44.8719, 44.8458, 42.8933, 42.5335, 42.6639, 42.2225,\n",
      "        42.0019, 44.2836, 43.3558, 43.6965, 47.8112, 45.5432, 44.2676, 44.4254,\n",
      "        44.5330, 45.6076, 45.2576, 43.2503, 43.4162, 46.7934, 43.7698, 44.8767,\n",
      "        44.4928, 46.2307, 44.1971, 45.0072, 45.6023, 45.1854, 45.9894, 47.1408],\n",
      "       device='cuda:0', dtype=torch.float64)\n",
      "\n"
     ]
    },
    {
     "name": "stderr",
     "output_type": "stream",
     "text": [
      "Eval:  14%|█▍        | 153/1110 [02:45<12:38,  1.26it/s]"
     ]
    },
    {
     "name": "stdout",
     "output_type": "stream",
     "text": [
      "orientation_error\n",
      "tensor([46.8940, 47.5209, 47.4226, 47.0109, 47.4892, 46.7381, 46.3749, 46.7777,\n",
      "        45.6046, 46.7224, 45.4611, 44.7585, 45.9604, 47.4417, 47.6608, 47.3020,\n",
      "        46.9128, 46.9678, 46.6524, 45.8649, 46.5576, 45.2602, 45.3153, 45.0270,\n",
      "        45.1518, 46.4964, 47.2337, 47.3208, 47.0968, 46.8448, 47.0231, 46.6156],\n",
      "       device='cuda:0', dtype=torch.float64)\n",
      "\n"
     ]
    },
    {
     "name": "stderr",
     "output_type": "stream",
     "text": [
      "\r",
      "Eval:  14%|█▍        | 154/1110 [02:46<13:39,  1.17it/s]"
     ]
    },
    {
     "name": "stdout",
     "output_type": "stream",
     "text": [
      "orientation_error\n",
      "tensor([46.9106, 47.3726, 48.0101, 46.7995, 48.5316, 46.9605, 46.0472, 45.7489,\n",
      "        45.3756, 45.5686, 35.2873, 34.8316, 35.4012, 35.3513, 35.6443, 36.1937,\n",
      "        36.1952, 36.3899, 36.3901, 36.7233, 37.2259, 37.0304, 37.2400, 37.7399,\n",
      "        38.1742, 38.2615, 38.7268, 39.0309, 38.9017, 39.1563, 39.4723, 39.5277],\n",
      "       device='cuda:0', dtype=torch.float64)\n",
      "\n",
      "orientation_error\n",
      "tensor([39.6297, 39.2040, 38.9700, 38.4933, 37.6310, 37.5532, 37.4748, 37.5452,\n",
      "        37.5005, 36.9971, 37.0925, 36.7633, 35.9010, 36.0432, 35.7054, 36.6167,\n",
      "        36.1809, 34.9999, 34.4975, 34.5070, 34.5232, 35.2707, 35.1321, 34.8933,\n",
      "        34.7568, 35.1054, 35.0228, 35.1458, 36.0808, 36.2290, 36.3809, 36.3929],\n",
      "       device='cuda:0', dtype=torch.float64)\n",
      "\n"
     ]
    },
    {
     "name": "stderr",
     "output_type": "stream",
     "text": [
      "Eval:  14%|█▍        | 156/1110 [02:59<1:03:22,  3.99s/it]"
     ]
    },
    {
     "name": "stdout",
     "output_type": "stream",
     "text": [
      "orientation_error\n",
      "tensor([36.0653, 35.6421, 36.0925, 35.8038, 35.9064, 36.3633, 35.6037, 34.8776,\n",
      "        36.3523, 36.5916, 36.0634, 35.8399, 36.8995, 36.4371, 37.5609, 37.3773,\n",
      "        39.1515, 36.6292, 35.6125, 35.3199, 35.3550, 34.7201, 20.1174, 19.1748,\n",
      "        20.0341, 20.3955, 20.9550, 21.2424, 21.0963, 20.3641, 33.8237, 33.9304],\n",
      "       device='cuda:0', dtype=torch.float64)\n",
      "\n"
     ]
    },
    {
     "name": "stderr",
     "output_type": "stream",
     "text": [
      "\r",
      "Eval:  14%|█▍        | 157/1110 [03:00<49:30,  3.12s/it]  "
     ]
    },
    {
     "name": "stdout",
     "output_type": "stream",
     "text": [
      "orientation_error\n",
      "tensor([34.3796, 34.7804, 34.6172, 34.5410, 35.0263, 35.1926, 35.2593, 35.8176,\n",
      "        35.0446, 36.0374, 35.2228, 35.1934, 35.3167, 35.0625, 34.9258, 35.8527,\n",
      "        35.7083, 35.4582, 35.1372, 35.0522, 34.9424, 34.6532, 34.3708, 34.3336,\n",
      "        34.4702, 34.4584, 34.3280, 33.7216, 33.7691, 34.5276, 34.6366, 33.9358],\n",
      "       device='cuda:0', dtype=torch.float64)\n",
      "\n"
     ]
    },
    {
     "name": "stderr",
     "output_type": "stream",
     "text": [
      "\r",
      "Eval:  14%|█▍        | 158/1110 [03:00<37:38,  2.37s/it]"
     ]
    },
    {
     "name": "stdout",
     "output_type": "stream",
     "text": [
      "orientation_error\n",
      "tensor([33.2143, 32.7647, 33.0292, 33.7731, 33.8676, 33.8601, 33.4728, 19.1463,\n",
      "        33.2611, 33.0875, 32.6788, 33.0969, 32.9363, 18.6588, 18.3666, 18.1449,\n",
      "        17.9286, 18.5454, 18.3318, 17.7073, 18.6478, 18.5379, 19.6988, 20.1646,\n",
      "        19.1062, 18.9743, 19.1660, 19.8877, 19.7760, 19.3298, 18.9369, 20.2636],\n",
      "       device='cuda:0', dtype=torch.float64)\n",
      "\n"
     ]
    },
    {
     "name": "stderr",
     "output_type": "stream",
     "text": [
      "\r",
      "Eval:  14%|█▍        | 159/1110 [03:01<28:46,  1.82s/it]"
     ]
    },
    {
     "name": "stdout",
     "output_type": "stream",
     "text": [
      "orientation_error\n",
      "tensor([20.7054, 34.6387, 33.1485, 32.7438, 32.9354, 32.6389, 19.1327, 20.8537,\n",
      "        20.9738, 32.1091, 34.0414, 34.1062, 34.8341, 35.7829, 29.5777, 26.2449,\n",
      "        29.3549, 21.4422, 35.5008, 35.0170, 21.8875, 28.8660, 20.4083, 20.2069,\n",
      "        22.4617, 21.2868, 21.9683, 26.5901, 24.6768, 24.7539, 20.6441, 21.7985],\n",
      "       device='cuda:0', dtype=torch.float64)\n",
      "\n"
     ]
    },
    {
     "name": "stderr",
     "output_type": "stream",
     "text": [
      "\r",
      "Eval:  14%|█▍        | 160/1110 [03:01<22:53,  1.45s/it]"
     ]
    },
    {
     "name": "stdout",
     "output_type": "stream",
     "text": [
      "orientation_error\n",
      "tensor([23.1110, 24.7033, 25.5643, 31.8541, 32.5164, 29.1236, 30.6442, 30.0927,\n",
      "        27.0475, 23.3279, 23.5024, 23.5442, 21.9182, 21.9212, 21.8674, 21.9552,\n",
      "        21.0767, 21.3013, 20.7009, 20.3642, 19.8253, 19.2012, 19.0884, 19.2128,\n",
      "        19.0651, 19.2819, 19.4114, 19.4199, 19.0575, 19.3034, 19.1257, 19.2202],\n",
      "       device='cuda:0', dtype=torch.float64)\n",
      "\n",
      "MPJPE: 98.54347701696972\n",
      "Reconstruction Error: 56.634753527348195\n",
      "\n",
      "Orientation error: 33.97169102092027\n",
      "orientation_error\n",
      "tensor([19.4406, 19.5682, 19.6070, 19.6819, 20.2496, 20.1617, 20.3041, 20.2881,\n",
      "        19.9016, 19.8756, 19.5082, 19.4719, 19.2716, 19.1603, 19.0592, 17.2584,\n",
      "        18.8390, 18.7076, 18.7798, 19.2485, 18.7828, 18.2721, 17.7307, 17.6909,\n",
      "        17.6519, 17.5138, 17.2521, 16.9284, 17.2184, 18.6995, 21.8589, 29.1408],\n",
      "       device='cuda:0', dtype=torch.float64)\n",
      "\n"
     ]
    },
    {
     "name": "stderr",
     "output_type": "stream",
     "text": [
      "Eval:  15%|█▍        | 162/1110 [03:02<15:28,  1.02it/s]"
     ]
    },
    {
     "name": "stdout",
     "output_type": "stream",
     "text": [
      "orientation_error\n",
      "tensor([15.9779, 24.3014, 29.4631, 29.5366, 28.6958, 26.9500, 25.1903, 21.4777,\n",
      "        19.4124, 19.1320, 31.5374, 31.4865, 28.5174, 26.3426, 23.4811, 18.7955,\n",
      "        20.6374, 18.7888, 23.2277, 18.5420, 17.9389, 18.3111, 18.4263, 18.5650,\n",
      "        18.2601, 18.1241, 18.5029, 18.2422, 18.3431, 18.1342, 18.0338, 18.4003],\n",
      "       device='cuda:0', dtype=torch.float64)\n",
      "\n"
     ]
    },
    {
     "name": "stderr",
     "output_type": "stream",
     "text": [
      "\r",
      "Eval:  15%|█▍        | 163/1110 [03:03<13:49,  1.14it/s]"
     ]
    },
    {
     "name": "stdout",
     "output_type": "stream",
     "text": [
      "orientation_error\n",
      "tensor([18.9819, 19.2330, 19.1204, 18.7992, 18.7875, 19.2260, 18.3226, 17.8965,\n",
      "        17.7204, 18.3063, 17.9301, 17.7328, 17.8769, 17.3504, 17.7441, 17.6926,\n",
      "        18.5583, 19.2303, 19.1695, 20.4366, 20.7652, 21.1357, 21.2512, 21.3086,\n",
      "        21.4733, 20.8958, 34.9752, 34.1458, 33.8301, 33.7204, 33.9399, 34.2509],\n",
      "       device='cuda:0', dtype=torch.float64)\n",
      "\n"
     ]
    },
    {
     "name": "stderr",
     "output_type": "stream",
     "text": [
      "\r",
      "Eval:  15%|█▍        | 164/1110 [03:04<12:21,  1.28it/s]"
     ]
    },
    {
     "name": "stdout",
     "output_type": "stream",
     "text": [
      "orientation_error\n",
      "tensor([34.6151, 35.0623, 34.8651, 34.8541, 22.1540, 21.7640, 21.6999, 22.6863,\n",
      "        23.1621, 23.1549, 23.7853, 24.8799, 25.3245, 25.3231, 25.5816, 25.2587,\n",
      "        25.1488, 26.2520, 38.8493, 38.8235, 38.2058, 38.4371, 26.3197, 38.5379,\n",
      "        25.9297, 27.5959, 31.8297, 31.4170, 33.9175, 29.0535, 25.0694, 24.4634],\n",
      "       device='cuda:0', dtype=torch.float64)\n",
      "\n"
     ]
    },
    {
     "name": "stderr",
     "output_type": "stream",
     "text": [
      "\r",
      "Eval:  15%|█▍        | 165/1110 [03:04<11:13,  1.40it/s]"
     ]
    },
    {
     "name": "stdout",
     "output_type": "stream",
     "text": [
      "orientation_error\n",
      "tensor([25.1567, 24.4935, 24.0874, 22.9570, 22.6332, 21.0687, 32.9677, 26.3015,\n",
      "        28.6273, 43.0723, 41.8006, 40.0805, 26.6957, 27.7220, 29.2260, 27.9890,\n",
      "        27.8139, 43.8207, 44.3888, 45.7071, 41.1649, 36.8515, 23.2299, 23.2392,\n",
      "        38.6561, 40.2174, 20.8299, 32.8981, 19.2793, 35.6954, 36.6950, 35.8434],\n",
      "       device='cuda:0', dtype=torch.float64)\n",
      "\n"
     ]
    },
    {
     "name": "stderr",
     "output_type": "stream",
     "text": [
      "\r",
      "Eval:  15%|█▍        | 166/1110 [03:05<10:24,  1.51it/s]"
     ]
    },
    {
     "name": "stdout",
     "output_type": "stream",
     "text": [
      "orientation_error\n",
      "tensor([30.1141, 46.9338, 35.4006, 52.6512, 37.4416, 50.7321, 46.6481, 49.0578,\n",
      "        50.7120, 52.7410, 51.9179, 37.7127, 37.1170, 34.4737, 50.5709, 45.0049,\n",
      "        45.5838, 44.1838, 36.0854, 26.9826, 36.6772, 22.8646, 23.9504, 26.2591,\n",
      "        26.8543, 41.6649, 29.0466, 29.3984, 28.6817, 26.8253, 27.5478, 24.9308],\n",
      "       device='cuda:0', dtype=torch.float64)\n",
      "\n"
     ]
    },
    {
     "name": "stderr",
     "output_type": "stream",
     "text": [
      "\r",
      "Eval:  15%|█▌        | 167/1110 [03:06<14:36,  1.08it/s]"
     ]
    },
    {
     "name": "stdout",
     "output_type": "stream",
     "text": [
      "orientation_error\n",
      "tensor([28.3642, 27.2870, 29.1091, 30.1881, 27.5556, 24.3522, 24.2128, 22.1704,\n",
      "        22.7797, 24.6063, 24.7254, 25.0531, 26.4522, 27.3121, 27.4574, 26.0771,\n",
      "        25.0648, 25.4656, 25.1560, 25.3025, 25.3583, 24.2299, 24.8689, 23.9589,\n",
      "        26.6054, 24.5260, 25.5081, 27.2713, 31.2737, 29.2369, 33.7160, 32.4585],\n",
      "       device='cuda:0', dtype=torch.float64)\n",
      "\n"
     ]
    },
    {
     "name": "stderr",
     "output_type": "stream",
     "text": [
      "\r",
      "Eval:  15%|█▌        | 168/1110 [03:07<12:53,  1.22it/s]"
     ]
    },
    {
     "name": "stdout",
     "output_type": "stream",
     "text": [
      "orientation_error\n",
      "tensor([31.3581, 32.4082, 28.3050, 21.8616, 20.5206, 35.9429, 42.1562, 41.8779,\n",
      "        41.4187, 44.1057, 41.2839, 44.1758, 29.0373, 45.3920, 47.8890, 37.5725,\n",
      "        37.4470, 36.1684, 36.1960, 35.8052, 35.1373, 34.1908, 34.3491, 34.4233,\n",
      "        34.0842, 34.5545, 34.9854, 35.0139, 35.7905, 36.2892, 36.9565, 37.5571],\n",
      "       device='cuda:0', dtype=torch.float64)\n",
      "\n"
     ]
    },
    {
     "name": "stderr",
     "output_type": "stream",
     "text": [
      "\r",
      "Eval:  15%|█▌        | 169/1110 [03:07<11:36,  1.35it/s]"
     ]
    },
    {
     "name": "stdout",
     "output_type": "stream",
     "text": [
      "orientation_error\n",
      "tensor([37.7675, 37.8467, 38.0173, 38.9072, 39.3393, 38.7687, 38.4427, 37.7918,\n",
      "        37.2732, 37.5378, 37.4979, 37.2726, 37.9317, 36.7673, 36.7295, 36.1162,\n",
      "        34.8109, 34.0904, 33.9246, 33.6582, 34.1628, 34.4707, 34.2091, 33.7731,\n",
      "        33.9307, 36.1737, 35.7499, 34.4891, 35.0799, 35.0473, 35.0438, 35.2257],\n",
      "       device='cuda:0', dtype=torch.float64)\n",
      "\n"
     ]
    },
    {
     "name": "stderr",
     "output_type": "stream",
     "text": [
      "\r",
      "Eval:  15%|█▌        | 170/1110 [03:08<11:52,  1.32it/s]"
     ]
    },
    {
     "name": "stdout",
     "output_type": "stream",
     "text": [
      "orientation_error\n",
      "tensor([35.3986, 35.5748, 35.2034, 35.2225, 36.0227, 36.2212, 36.0912, 36.0788,\n",
      "        36.2378, 36.2176, 35.9816, 35.6468, 34.8638, 35.1754, 35.4591, 29.0518,\n",
      "        30.8227, 31.8872, 31.9429, 31.4073, 34.7767, 39.6659, 32.9983, 29.5863,\n",
      "        28.9025, 27.5969, 26.6663, 29.6983, 36.1134, 36.5808, 38.0063, 39.6498],\n",
      "       device='cuda:0', dtype=torch.float64)\n",
      "\n"
     ]
    },
    {
     "name": "stderr",
     "output_type": "stream",
     "text": [
      "\r",
      "Eval:  15%|█▌        | 171/1110 [03:09<10:32,  1.48it/s]"
     ]
    },
    {
     "name": "stdout",
     "output_type": "stream",
     "text": [
      "orientation_error\n",
      "tensor([39.7132, 49.9635, 32.7020, 25.5007, 24.6359, 23.7632, 36.3604, 32.9390,\n",
      "        42.7461, 42.7101, 40.3996, 36.0315, 34.5151, 35.5678, 36.2473, 33.6772,\n",
      "        34.6354, 36.1156, 30.9565, 21.8742, 21.0674, 22.0254, 23.2738, 24.1275,\n",
      "        25.1407, 25.0076, 28.8107, 28.8196, 32.3440, 28.5638, 27.5863, 28.3915],\n",
      "       device='cuda:0', dtype=torch.float64)\n",
      "\n"
     ]
    },
    {
     "name": "stderr",
     "output_type": "stream",
     "text": [
      "\r",
      "Eval:  15%|█▌        | 172/1110 [03:09<09:04,  1.72it/s]"
     ]
    },
    {
     "name": "stdout",
     "output_type": "stream",
     "text": [
      "orientation_error\n",
      "tensor([28.5250, 28.0611, 28.0911, 28.1995, 27.9196, 28.1709, 28.7552, 29.7637,\n",
      "        29.8512, 29.7210, 31.0218, 32.7050, 32.8828, 32.7866, 33.7338, 36.8647,\n",
      "        36.7161, 39.6797, 40.7990, 40.2369, 41.8472, 42.7547, 43.1362, 42.5806,\n",
      "        43.4592, 39.4745, 37.3034, 38.4339, 41.5061, 43.4887, 44.0853, 42.4697],\n",
      "       device='cuda:0', dtype=torch.float64)\n",
      "\n"
     ]
    },
    {
     "name": "stderr",
     "output_type": "stream",
     "text": [
      "\r",
      "Eval:  16%|█▌        | 173/1110 [03:10<09:42,  1.61it/s]"
     ]
    },
    {
     "name": "stdout",
     "output_type": "stream",
     "text": [
      "orientation_error\n",
      "tensor([44.7693, 41.4430, 40.9302, 42.4941, 64.9518, 75.0733, 54.3202, 58.8490,\n",
      "        68.9762, 69.0721, 69.4063, 68.4476, 68.4813, 54.1653, 52.4029, 67.6662,\n",
      "        69.2463, 55.8598, 49.8891, 57.3940, 54.6427, 51.0743, 63.6042, 73.4291,\n",
      "        74.4881, 23.1833, 23.0131, 23.6279, 24.6037, 21.7633, 21.3859, 21.3217],\n",
      "       device='cuda:0', dtype=torch.float64)\n",
      "\n",
      "orientation_error\n",
      "tensor([21.0285, 21.0706, 21.6121, 21.7530, 21.1388, 22.8530, 25.1875, 25.0477,\n",
      "        25.1297, 26.1153, 26.6243, 26.0101, 24.2555, 24.3413, 22.8414, 22.9110,\n",
      "        22.2968, 21.9908, 21.3564, 20.8972, 20.3332, 20.6321, 21.2494, 21.7953,\n",
      "        21.6621, 34.8316, 22.6960, 23.3558, 28.9745, 29.9063, 23.6896, 37.1731],\n",
      "       device='cuda:0', dtype=torch.float64)\n",
      "\n"
     ]
    },
    {
     "name": "stderr",
     "output_type": "stream",
     "text": [
      "\r",
      "Eval:  16%|█▌        | 174/1110 [03:10<09:50,  1.59it/s]"
     ]
    },
    {
     "name": "stdout",
     "output_type": "stream",
     "text": [
      "orientation_error\n",
      "tensor([36.0110, 22.2369, 22.1628, 22.4334, 20.0654, 19.3712, 18.4757, 18.4282,\n",
      "        18.7232, 17.9847, 17.9374, 32.8566, 32.8861, 32.1424, 32.7822, 33.5324,\n",
      "        34.9749, 34.7447, 36.2606, 37.1588, 36.1949, 36.4140, 34.5596, 33.9749,\n",
      "        34.6726, 19.6631, 18.7260, 17.8413, 17.2530, 17.0405, 16.9751, 17.1175],\n",
      "       device='cuda:0', dtype=torch.float64)\n",
      "\n"
     ]
    },
    {
     "name": "stderr",
     "output_type": "stream",
     "text": [
      "Eval:  16%|█▌        | 176/1110 [03:12<09:33,  1.63it/s]"
     ]
    },
    {
     "name": "stdout",
     "output_type": "stream",
     "text": [
      "orientation_error\n",
      "tensor([17.5126, 17.5591, 17.4105, 19.6700, 20.0867, 22.8868, 23.4351, 23.0948,\n",
      "        26.3968, 27.7396, 28.3253, 28.9307, 29.6874, 28.9453, 27.0713, 28.3708,\n",
      "        21.9294, 27.4865, 25.4486, 24.1453, 22.4549, 21.9713, 22.8618, 29.9556,\n",
      "        26.3045, 26.3964, 26.7241, 28.0229, 47.0233, 31.5725, 41.4691, 38.1602],\n",
      "       device='cuda:0', dtype=torch.float64)\n",
      "\n"
     ]
    },
    {
     "name": "stderr",
     "output_type": "stream",
     "text": [
      "\r",
      "Eval:  16%|█▌        | 177/1110 [03:12<08:31,  1.82it/s]"
     ]
    },
    {
     "name": "stdout",
     "output_type": "stream",
     "text": [
      "orientation_error\n",
      "tensor([40.2849, 42.5234, 41.8157, 38.5675, 36.0496, 36.2402, 37.2135, 39.7171,\n",
      "        40.1994, 40.9026, 33.0239, 40.6372, 35.4449, 38.4999, 35.6551, 36.2370,\n",
      "        34.9948, 36.0876, 34.2630, 33.9781, 34.4946, 34.0927, 32.9094, 33.3299,\n",
      "        35.2037, 34.3954, 35.3065, 35.7830, 36.7099, 36.1408, 38.9654, 37.8190],\n",
      "       device='cuda:0', dtype=torch.float64)\n",
      "\n"
     ]
    },
    {
     "name": "stderr",
     "output_type": "stream",
     "text": [
      "\r",
      "Eval:  16%|█▌        | 178/1110 [03:13<08:34,  1.81it/s]"
     ]
    },
    {
     "name": "stdout",
     "output_type": "stream",
     "text": [
      "orientation_error\n",
      "tensor([38.2305, 38.0295, 36.3802, 36.1935, 36.1021, 37.2165, 36.1651, 37.4903,\n",
      "        35.6068, 35.9258, 34.9278, 34.5056, 33.9763, 33.4721, 33.2407, 33.1735,\n",
      "        34.0918, 33.7553, 33.8363, 33.7482, 35.5039, 34.9277, 34.2227, 34.4566,\n",
      "        35.0225, 35.7863, 34.0868, 35.1631, 35.2853, 34.9639, 34.8207, 34.2580],\n",
      "       device='cuda:0', dtype=torch.float64)\n",
      "\n"
     ]
    },
    {
     "name": "stderr",
     "output_type": "stream",
     "text": [
      "\r",
      "Eval:  16%|█▌        | 179/1110 [03:13<09:07,  1.70it/s]"
     ]
    },
    {
     "name": "stdout",
     "output_type": "stream",
     "text": [
      "orientation_error\n",
      "tensor([33.8084, 34.1018, 33.4710, 33.6092, 33.5810, 33.0515, 32.9122, 33.1840,\n",
      "        33.8204, 34.1575, 34.6764, 34.2336, 34.7519, 33.5011, 32.6682, 34.2978,\n",
      "        33.0481, 33.7751, 34.7931, 35.4774, 34.7474, 33.7611, 32.7005, 33.8811,\n",
      "        34.1253, 34.2417, 34.6080, 33.8168, 33.9372, 34.4229, 32.9719, 33.7747],\n",
      "       device='cuda:0', dtype=torch.float64)\n",
      "\n"
     ]
    },
    {
     "name": "stderr",
     "output_type": "stream",
     "text": [
      "\r",
      "Eval:  16%|█▌        | 180/1110 [03:14<10:01,  1.55it/s]"
     ]
    },
    {
     "name": "stdout",
     "output_type": "stream",
     "text": [
      "orientation_error\n",
      "tensor([33.0098, 34.3270, 33.0227, 33.8991, 34.4851, 35.2099, 34.6795, 34.2844,\n",
      "        35.2065, 34.3876, 34.7356, 34.0706, 34.1290, 34.4207, 35.8591, 35.5938,\n",
      "        33.8137, 34.7666, 33.1220, 34.0984, 34.8840, 34.0819, 35.2568, 34.1230,\n",
      "        34.4862, 34.0757, 35.6012, 33.4270, 33.5654, 34.2641, 34.3269, 35.3458],\n",
      "       device='cuda:0', dtype=torch.float64)\n",
      "\n",
      "MPJPE: 99.73491341728905\n",
      "Reconstruction Error: 58.15416857451929\n",
      "\n",
      "Orientation error: 33.63061307465373\n"
     ]
    },
    {
     "name": "stderr",
     "output_type": "stream",
     "text": [
      "\r",
      "Eval:  16%|█▋        | 181/1110 [03:15<10:02,  1.54it/s]"
     ]
    },
    {
     "name": "stdout",
     "output_type": "stream",
     "text": [
      "orientation_error\n",
      "tensor([47.5018, 34.4610, 32.7282, 34.7754, 36.3623, 35.4470, 36.0515, 34.2964,\n",
      "        33.5502, 34.9789, 35.8019, 36.4646, 38.1064, 35.2425, 35.5511, 37.7145,\n",
      "        39.0941, 40.4873, 39.5360, 40.3423, 41.0320, 40.6623, 40.2176, 41.4000,\n",
      "        39.5305, 40.4852, 39.5653, 38.7229, 38.8479, 39.7075, 40.0885, 39.4887],\n",
      "       device='cuda:0', dtype=torch.float64)\n",
      "\n"
     ]
    },
    {
     "name": "stderr",
     "output_type": "stream",
     "text": [
      "\r",
      "Eval:  16%|█▋        | 182/1110 [03:15<10:26,  1.48it/s]"
     ]
    },
    {
     "name": "stdout",
     "output_type": "stream",
     "text": [
      "orientation_error\n",
      "tensor([37.0788, 37.8573, 30.9507, 37.8845, 36.6681, 37.1041, 36.2335, 37.1063,\n",
      "        50.7228, 32.4577, 37.2082, 34.3821, 39.6001, 47.3506, 38.7226, 39.7882,\n",
      "        49.1124, 37.9820, 35.1955, 34.3886, 33.8369, 34.3836, 35.4157, 32.8749,\n",
      "        33.8067, 33.3740, 34.1196, 35.9054, 36.9063, 40.1293, 37.6369, 36.9462],\n",
      "       device='cuda:0', dtype=torch.float64)\n",
      "\n"
     ]
    },
    {
     "name": "stderr",
     "output_type": "stream",
     "text": [
      "\r",
      "Eval:  16%|█▋        | 183/1110 [03:16<10:31,  1.47it/s]"
     ]
    },
    {
     "name": "stdout",
     "output_type": "stream",
     "text": [
      "orientation_error\n",
      "tensor([34.2325, 36.0580, 35.0918, 34.8002, 34.1419, 34.6031, 34.9146, 35.1099,\n",
      "        34.6730, 35.6524, 35.6082, 35.6919, 35.2672, 34.7040, 33.6236, 33.1785,\n",
      "        34.1472, 34.4562, 35.1893, 34.4073, 34.9369, 34.9237, 35.9991, 33.7859,\n",
      "        33.8781, 35.9358, 33.6139, 35.4008, 33.7438, 34.2203, 33.9758, 33.7977],\n",
      "       device='cuda:0', dtype=torch.float64)\n",
      "\n"
     ]
    },
    {
     "name": "stderr",
     "output_type": "stream",
     "text": [
      "\r",
      "Eval:  17%|█▋        | 184/1110 [03:17<11:22,  1.36it/s]"
     ]
    },
    {
     "name": "stdout",
     "output_type": "stream",
     "text": [
      "orientation_error\n",
      "tensor([33.8467, 33.9281, 33.8214, 32.9383, 34.0540, 33.8224, 33.2621, 33.7558,\n",
      "        33.4169, 31.7346, 32.8041, 33.4948, 32.0774, 34.3838, 32.6967, 32.6716,\n",
      "        32.7586, 32.5709, 32.5121, 31.7880, 33.2287, 31.6758, 32.3344, 32.1817,\n",
      "        32.4103, 32.4822, 32.2397, 32.2812, 33.2437, 33.1446, 33.3071, 32.9939],\n",
      "       device='cuda:0', dtype=torch.float64)\n",
      "\n",
      "orientation_error\n",
      "tensor([32.2971, 32.0475, 33.0269, 33.6503, 34.2785, 34.2722, 34.7977, 33.5138,\n",
      "        33.8338, 33.3271, 33.7966, 34.1625, 34.0050, 36.4332, 51.7723, 34.4206,\n",
      "        34.1705, 33.9314, 33.7578, 34.1992, 33.9304, 33.5346, 33.7297, 34.1020,\n",
      "        34.0791, 34.2994, 34.2659, 34.3647, 33.8765, 34.2933, 34.3860, 33.8193],\n",
      "       device='cuda:0', dtype=torch.float64)\n",
      "\n"
     ]
    },
    {
     "name": "stderr",
     "output_type": "stream",
     "text": [
      "Eval:  17%|█▋        | 186/1110 [03:19<11:56,  1.29it/s]"
     ]
    },
    {
     "name": "stdout",
     "output_type": "stream",
     "text": [
      "orientation_error\n",
      "tensor([34.0108, 32.6510, 33.3311, 33.7070, 33.1843, 33.4580, 32.4164, 32.4767,\n",
      "        32.9775, 33.3431, 34.3469, 34.0966, 33.8900, 33.1372, 33.1420, 33.6618,\n",
      "        33.8664, 32.9598, 33.7153, 33.9136, 34.8176, 34.5509, 33.5558, 34.1459,\n",
      "        35.1063, 33.8280, 34.3144, 34.1955, 34.3292, 34.3181, 35.4426, 34.3788],\n",
      "       device='cuda:0', dtype=torch.float64)\n",
      "\n"
     ]
    },
    {
     "name": "stderr",
     "output_type": "stream",
     "text": [
      "\r",
      "Eval:  17%|█▋        | 187/1110 [03:20<12:41,  1.21it/s]"
     ]
    },
    {
     "name": "stdout",
     "output_type": "stream",
     "text": [
      "orientation_error\n",
      "tensor([34.7227, 34.3514, 34.1877, 33.9435, 33.7740, 33.7466, 33.8153, 34.4446,\n",
      "        33.9456, 33.6663, 34.1392, 34.5202, 34.4564, 34.5240, 34.6215, 34.2812,\n",
      "        34.2035, 33.7259, 33.9177, 34.0182, 34.0374, 34.3606, 34.6527, 35.0556,\n",
      "        34.2713, 35.6131, 34.1914, 33.8859, 34.7691, 34.5134, 34.5102, 34.6198],\n",
      "       device='cuda:0', dtype=torch.float64)\n",
      "\n"
     ]
    },
    {
     "name": "stderr",
     "output_type": "stream",
     "text": [
      "\r",
      "Eval:  17%|█▋        | 188/1110 [03:22<17:37,  1.15s/it]"
     ]
    },
    {
     "name": "stdout",
     "output_type": "stream",
     "text": [
      "orientation_error\n",
      "tensor([34.8340, 34.4562, 35.9219, 35.2540, 34.3819, 34.2528, 34.9767, 33.9152,\n",
      "        33.7812, 34.5066, 34.3726, 34.0802, 34.2864, 34.3532, 34.5487, 34.3724,\n",
      "        34.3517, 34.7648, 34.4027, 33.9973, 34.1722, 34.3263, 34.6544, 34.2513,\n",
      "        34.7787, 35.0200, 35.3155, 49.5774, 35.3601, 35.4476, 35.5112, 35.4704],\n",
      "       device='cuda:0', dtype=torch.float64)\n",
      "\n",
      "orientation_error\n",
      "tensor([35.6555, 35.4317, 35.7925, 36.2064, 35.8975, 35.6700, 35.8303, 35.6195,\n",
      "        35.3689, 35.5002, 35.0765, 34.7744, 34.8012, 34.9368, 34.4772, 34.8385,\n",
      "        34.8702, 34.7007, 34.2975, 34.2145, 34.7013, 34.5690, 34.8598, 34.4909,\n",
      "        34.0384, 34.0784, 33.9654, 34.5144, 34.5029, 34.3662, 34.3085, 34.0219],\n",
      "       device='cuda:0', dtype=torch.float64)\n",
      "\n"
     ]
    },
    {
     "name": "stderr",
     "output_type": "stream",
     "text": [
      "Eval:  17%|█▋        | 190/1110 [03:23<15:38,  1.02s/it]"
     ]
    },
    {
     "name": "stdout",
     "output_type": "stream",
     "text": [
      "orientation_error\n",
      "tensor([34.5915, 34.2309, 34.2043, 34.0275, 33.8060, 34.1205, 34.9656, 34.5426,\n",
      "        34.6745, 34.4241, 34.2724, 34.3483, 34.2887, 34.1995, 33.8147, 34.1229,\n",
      "        33.8556, 33.5532, 33.4496, 33.4927, 33.5324, 33.3957, 33.7832, 33.5587,\n",
      "        33.8256, 34.4753, 34.5912, 34.2623, 34.1356, 33.3397, 33.6440, 33.1665],\n",
      "       device='cuda:0', dtype=torch.float64)\n",
      "\n",
      "orientation_error\n",
      "tensor([33.7430, 34.1199, 34.3976, 33.5940, 34.4260, 33.3665, 33.9002, 34.0598,\n",
      "        34.3510, 35.6955, 36.1490, 36.1617, 36.4757, 36.3666, 36.5035, 37.2142,\n",
      "        37.0928, 36.8356, 36.5566, 36.0745, 35.3355, 34.1723, 34.7759, 35.4267,\n",
      "        34.4012, 34.6480, 34.0407, 34.3843, 35.3733, 34.8651, 32.5744, 31.7668],\n",
      "       device='cuda:0', dtype=torch.float64)\n",
      "\n"
     ]
    },
    {
     "name": "stderr",
     "output_type": "stream",
     "text": [
      "Eval:  17%|█▋        | 192/1110 [03:25<14:20,  1.07it/s]"
     ]
    },
    {
     "name": "stdout",
     "output_type": "stream",
     "text": [
      "orientation_error\n",
      "tensor([33.9032, 35.1311, 45.6774, 42.6080, 34.6220, 36.3997, 43.9557, 39.4781,\n",
      "        34.7021, 33.7677, 35.7630, 33.4437, 34.6866, 38.5375, 39.8171, 35.0548,\n",
      "        31.0900, 30.4814, 30.3392, 30.2527, 30.8187, 31.6701, 31.1287, 28.3926,\n",
      "        26.3796, 28.1758, 28.0937, 42.5587, 44.8463, 44.0812, 28.6583, 28.4235],\n",
      "       device='cuda:0', dtype=torch.float64)\n",
      "\n"
     ]
    },
    {
     "name": "stderr",
     "output_type": "stream",
     "text": [
      "\r",
      "Eval:  17%|█▋        | 193/1110 [03:26<12:34,  1.22it/s]"
     ]
    },
    {
     "name": "stdout",
     "output_type": "stream",
     "text": [
      "orientation_error\n",
      "tensor([26.6898, 26.1312, 39.9375, 25.3574, 27.9440, 24.7720, 24.7845, 26.4823,\n",
      "        25.9557, 38.8146, 38.9613, 38.7306, 38.2398, 37.2639, 36.6670, 35.9039,\n",
      "        35.5918, 34.5992, 34.5715, 34.7247, 34.6459, 34.3666, 21.0752, 34.2428,\n",
      "        34.7428, 35.7312, 37.5576, 37.0612, 35.7662, 38.4692, 36.8534, 37.3448],\n",
      "       device='cuda:0', dtype=torch.float64)\n",
      "\n"
     ]
    },
    {
     "name": "stderr",
     "output_type": "stream",
     "text": [
      "\r",
      "Eval:  17%|█▋        | 194/1110 [03:26<12:19,  1.24it/s]"
     ]
    },
    {
     "name": "stdout",
     "output_type": "stream",
     "text": [
      "orientation_error\n",
      "tensor([39.3862, 38.6455, 37.8897, 38.2863, 39.7117, 38.5457, 39.4220, 39.6076,\n",
      "        39.3645, 39.5817, 39.1327, 40.2079, 25.6938, 26.5525, 27.2865, 25.6422,\n",
      "        26.5792, 42.6608, 42.3404, 27.6749, 27.7204, 42.5570, 42.8108, 29.1726,\n",
      "        41.8282, 42.5652, 41.9261, 41.7926, 42.0789, 41.6143, 41.7010, 42.2703],\n",
      "       device='cuda:0', dtype=torch.float64)\n",
      "\n"
     ]
    },
    {
     "name": "stderr",
     "output_type": "stream",
     "text": [
      "\r",
      "Eval:  18%|█▊        | 195/1110 [03:27<11:30,  1.32it/s]"
     ]
    },
    {
     "name": "stdout",
     "output_type": "stream",
     "text": [
      "orientation_error\n",
      "tensor([41.3573, 41.8007, 41.5618, 41.3480, 41.3401, 41.5716, 42.1394, 42.2357,\n",
      "        43.1564, 44.1444, 44.2786, 44.5592, 43.7098, 29.6154, 30.0936, 44.1298,\n",
      "        43.8662, 44.3186, 44.5075, 45.2753, 44.9432, 44.3373, 45.0966, 44.9172,\n",
      "        42.7806, 42.9555, 41.4429, 41.1381, 37.7048, 39.4228, 42.2756, 44.5081],\n",
      "       device='cuda:0', dtype=torch.float64)\n",
      "\n"
     ]
    },
    {
     "name": "stderr",
     "output_type": "stream",
     "text": [
      "\r",
      "Eval:  18%|█▊        | 196/1110 [03:28<10:31,  1.45it/s]"
     ]
    },
    {
     "name": "stdout",
     "output_type": "stream",
     "text": [
      "orientation_error\n",
      "tensor([42.0966, 41.6355, 41.1897, 41.2121, 40.6800, 40.1375, 40.3719, 39.3713,\n",
      "        39.2286, 38.7009, 38.8099, 37.4330, 37.7651, 37.8059, 37.8584, 37.8600,\n",
      "        38.1968, 38.3634, 38.1065, 37.4743, 39.0226, 39.9405, 39.2497, 40.7960,\n",
      "        39.7541, 41.7154, 39.9401, 41.1590, 41.6597, 42.7514, 29.3561, 30.1096],\n",
      "       device='cuda:0', dtype=torch.float64)\n",
      "\n"
     ]
    },
    {
     "name": "stderr",
     "output_type": "stream",
     "text": [
      "\r",
      "Eval:  18%|█▊        | 197/1110 [03:28<09:37,  1.58it/s]"
     ]
    },
    {
     "name": "stdout",
     "output_type": "stream",
     "text": [
      "orientation_error\n",
      "tensor([31.3000, 38.3928, 35.3244, 33.2098, 31.3367, 48.6245, 48.6915, 48.2321,\n",
      "        48.1934, 49.6534, 33.5921, 47.5796, 47.5155, 46.5158, 46.0631, 29.4563,\n",
      "        29.1270, 26.5024, 26.4704, 24.7292, 26.8124, 45.2606, 34.4063, 50.1400,\n",
      "        51.3779, 52.8028, 53.5598, 53.4870, 38.7525, 53.4163, 52.4272, 35.6196],\n",
      "       device='cuda:0', dtype=torch.float64)\n",
      "\n"
     ]
    },
    {
     "name": "stderr",
     "output_type": "stream",
     "text": [
      "\r",
      "Eval:  18%|█▊        | 198/1110 [03:29<09:18,  1.63it/s]"
     ]
    },
    {
     "name": "stdout",
     "output_type": "stream",
     "text": [
      "orientation_error\n",
      "tensor([34.8216, 34.0011, 48.3778, 48.6554, 49.5012, 51.8193, 52.9539, 47.5705,\n",
      "        44.7538, 42.9155, 41.6384, 41.2114, 26.3163, 26.1309, 27.1618, 26.2904,\n",
      "        25.9356, 39.2723, 38.7253, 39.5222, 39.4521, 39.1517, 38.6742, 39.4662,\n",
      "        38.7579, 39.9534, 40.2013, 26.2364, 41.5804, 27.8369, 43.5625, 48.2918],\n",
      "       device='cuda:0', dtype=torch.float64)\n",
      "\n"
     ]
    },
    {
     "name": "stderr",
     "output_type": "stream",
     "text": [
      "\r",
      "Eval:  18%|█▊        | 199/1110 [03:30<10:55,  1.39it/s]"
     ]
    },
    {
     "name": "stdout",
     "output_type": "stream",
     "text": [
      "orientation_error\n",
      "tensor([44.3007, 28.6513, 24.0240, 22.0027, 36.6922, 36.0569, 35.7910, 35.4719,\n",
      "        35.1694, 35.2744, 34.9108, 34.6264, 34.5429, 34.4294, 34.1269, 34.0219,\n",
      "        34.0169, 34.3308, 33.9648, 34.4518, 34.8999, 34.7859, 34.8877, 34.9100,\n",
      "        34.6826, 34.8688, 34.8189, 34.4598, 34.6175, 34.2841, 33.9142, 33.7780],\n",
      "       device='cuda:0', dtype=torch.float64)\n",
      "\n"
     ]
    },
    {
     "name": "stderr",
     "output_type": "stream",
     "text": [
      "\r",
      "Eval:  18%|█▊        | 200/1110 [03:30<10:09,  1.49it/s]"
     ]
    },
    {
     "name": "stdout",
     "output_type": "stream",
     "text": [
      "orientation_error\n",
      "tensor([33.8834, 33.5910, 33.9080, 33.8507, 34.1136, 34.1292, 33.9974, 34.2197,\n",
      "        34.3454, 34.2450, 34.4285, 34.0177, 34.2398, 34.7034, 34.4522, 34.6572,\n",
      "        34.5391, 34.4778, 34.5967, 34.6905, 35.7170, 35.5988, 35.6699, 35.6087,\n",
      "        35.6029, 35.6324, 35.8539, 35.9286, 35.7918, 35.9061, 35.9378, 36.0724],\n",
      "       device='cuda:0', dtype=torch.float64)\n",
      "\n",
      "MPJPE: 99.64782742832567\n",
      "Reconstruction Error: 60.30048787694462\n",
      "\n",
      "Orientation error: 33.86855834829907\n"
     ]
    },
    {
     "name": "stderr",
     "output_type": "stream",
     "text": [
      "\r",
      "Eval:  18%|█▊        | 201/1110 [03:31<09:53,  1.53it/s]"
     ]
    },
    {
     "name": "stdout",
     "output_type": "stream",
     "text": [
      "orientation_error\n",
      "tensor([36.0941, 36.0535, 35.9226, 35.7763, 35.5788, 35.3612, 35.1488, 35.0336,\n",
      "        35.0927, 34.7715, 35.0283, 34.9091, 34.4474, 34.2002, 34.0531, 34.4706,\n",
      "        34.5704, 34.6513, 34.7506, 34.7565, 34.5654, 34.7770, 34.8629, 34.6058,\n",
      "        34.7541, 34.2072, 33.4919, 33.4847, 33.2791, 33.2151, 33.5248, 33.3177],\n",
      "       device='cuda:0', dtype=torch.float64)\n",
      "\n"
     ]
    },
    {
     "name": "stderr",
     "output_type": "stream",
     "text": [
      "\r",
      "Eval:  18%|█▊        | 202/1110 [03:31<09:55,  1.52it/s]"
     ]
    },
    {
     "name": "stdout",
     "output_type": "stream",
     "text": [
      "orientation_error\n",
      "tensor([33.8591, 34.1953, 34.4859, 34.9059, 35.1828, 35.2388, 35.9147, 36.3499,\n",
      "        36.7197, 23.8678, 37.8773, 23.3784, 23.7454, 23.8411, 24.5891, 24.4369,\n",
      "        24.3704, 24.4347, 24.1826, 24.1247, 24.2379, 24.1158, 23.8178, 24.1487,\n",
      "        23.9238, 22.9971, 36.7760, 22.2746, 36.0264, 36.0871, 22.4917, 23.1251],\n",
      "       device='cuda:0', dtype=torch.float64)\n",
      "\n",
      "orientation_error\n",
      "tensor([24.1063, 24.0676, 24.2220, 23.9742, 24.1952, 23.9387, 23.5148, 23.7867,\n",
      "        23.2349, 22.3595, 22.4836, 22.3924, 22.2044, 21.6365, 20.6944, 20.1429,\n",
      "        20.8778, 21.0059, 20.9322, 21.0699, 20.4423, 20.7344, 20.0895, 19.7771,\n",
      "        19.8340, 19.5493, 19.5091, 18.9950, 19.3919, 19.2670, 19.3824, 19.1233],\n",
      "       device='cuda:0', dtype=torch.float64)\n",
      "\n"
     ]
    },
    {
     "name": "stderr",
     "output_type": "stream",
     "text": [
      "Eval:  18%|█▊        | 204/1110 [03:33<11:09,  1.35it/s]"
     ]
    },
    {
     "name": "stdout",
     "output_type": "stream",
     "text": [
      "orientation_error\n",
      "tensor([19.5591, 19.2878, 19.5603, 19.2189, 20.2973, 20.9139, 20.1498, 19.6252,\n",
      "        20.1838, 20.6384, 20.5871, 19.9931, 20.3139, 20.3820, 20.6746, 19.6981,\n",
      "        20.1967, 19.7889, 19.3551, 18.7103, 19.6104, 17.9972, 18.6766, 19.6947,\n",
      "        18.4698, 18.1370, 18.5128, 21.1764, 19.3520, 20.0652, 18.5813, 19.0212],\n",
      "       device='cuda:0', dtype=torch.float64)\n",
      "\n"
     ]
    },
    {
     "name": "stderr",
     "output_type": "stream",
     "text": [
      "\r",
      "Eval:  18%|█▊        | 205/1110 [03:34<11:47,  1.28it/s]"
     ]
    },
    {
     "name": "stdout",
     "output_type": "stream",
     "text": [
      "orientation_error\n",
      "tensor([19.4235, 37.7192, 43.2113, 23.4735, 24.4279, 30.3657, 32.9082, 33.3236,\n",
      "        35.5920, 38.2837, 42.6078, 44.1045, 43.5361, 45.3852, 49.5614, 53.1180,\n",
      "        50.4888, 48.8869, 48.7276, 47.2265, 44.5214, 43.5734, 44.2734, 43.3267,\n",
      "        44.7216, 44.7094, 41.7307, 40.3062, 41.3216, 40.5994, 40.1164, 40.0361],\n",
      "       device='cuda:0', dtype=torch.float64)\n",
      "\n",
      "orientation_error\n",
      "tensor([40.4860, 39.9303, 39.2764, 40.4078, 40.3729, 39.3621, 41.1072, 40.6656,\n",
      "        39.2491, 37.3756, 37.1846, 30.3544, 27.9834, 22.8353, 26.4183, 22.5343,\n",
      "        23.2809, 21.8437, 22.3508, 23.3968, 24.2571, 23.8431, 24.5137, 26.5204,\n",
      "        25.6208, 25.5252, 24.4475, 23.2264, 24.0976, 23.7051, 25.7639, 25.5686],\n",
      "       device='cuda:0', dtype=torch.float64)\n",
      "\n"
     ]
    },
    {
     "name": "stderr",
     "output_type": "stream",
     "text": [
      "Eval:  19%|█▊        | 207/1110 [03:35<10:25,  1.44it/s]"
     ]
    },
    {
     "name": "stdout",
     "output_type": "stream",
     "text": [
      "orientation_error\n",
      "tensor([26.4956, 26.8019, 24.5485, 24.9899, 24.7835, 23.4409, 24.2987, 23.8028,\n",
      "        23.7345, 22.9954, 22.1612, 21.6933, 22.6848, 21.7884, 21.3184, 20.4937,\n",
      "        21.6182, 19.7961, 19.1248, 19.5923, 20.1935, 23.1606, 24.7216, 20.5326,\n",
      "        21.2426, 20.9902, 20.2260, 20.8545, 21.4406, 21.2336, 21.5601, 21.5929],\n",
      "       device='cuda:0', dtype=torch.float64)\n",
      "\n"
     ]
    },
    {
     "name": "stderr",
     "output_type": "stream",
     "text": [
      "\r",
      "Eval:  19%|█▊        | 208/1110 [03:36<09:26,  1.59it/s]"
     ]
    },
    {
     "name": "stdout",
     "output_type": "stream",
     "text": [
      "orientation_error\n",
      "tensor([22.0812, 23.0968, 36.7388, 36.9495, 36.1779, 35.5423, 34.8920, 34.4437,\n",
      "        33.7753, 33.2082, 32.5240, 32.0695, 31.4214, 31.9374, 32.6236, 32.8624,\n",
      "        33.4433, 34.4530, 35.0918, 35.7626, 36.3689, 35.6279, 35.8270, 35.5402,\n",
      "        21.4993, 21.5031, 20.7517, 21.3304, 23.0824, 23.6256, 23.4137, 23.2216],\n",
      "       device='cuda:0', dtype=torch.float64)\n",
      "\n",
      "orientation_error\n",
      "tensor([23.8065, 24.1920, 25.0597, 25.8335, 27.0908, 29.0013, 29.9416, 30.3511,\n",
      "        30.0078, 31.4646, 31.4966, 31.9674, 34.8175, 32.9919, 31.9603, 32.1159,\n",
      "        33.4981, 34.2918, 31.4009, 34.6907, 32.5689, 32.0034, 35.0770, 35.0722,\n",
      "        30.9803, 35.3533, 35.9697, 35.2544, 34.6021, 35.8035, 36.0213, 35.5537],\n",
      "       device='cuda:0', dtype=torch.float64)\n",
      "\n"
     ]
    },
    {
     "name": "stderr",
     "output_type": "stream",
     "text": [
      "Eval:  19%|█▉        | 210/1110 [03:37<08:35,  1.74it/s]"
     ]
    },
    {
     "name": "stdout",
     "output_type": "stream",
     "text": [
      "orientation_error\n",
      "tensor([35.3386, 35.6917, 36.6170, 35.4680, 35.5344, 35.4879, 34.4498, 34.5902,\n",
      "        35.6769, 36.1500, 36.9474, 37.6786, 36.7429, 37.3915, 37.0411, 36.9436,\n",
      "        35.9841, 36.2192, 35.3840, 36.1480, 36.5277, 36.0953, 36.8756, 36.0083,\n",
      "        35.9543, 35.6263, 35.4324, 34.1915, 34.9405, 35.6673, 35.2738, 36.4339],\n",
      "       device='cuda:0', dtype=torch.float64)\n",
      "\n"
     ]
    },
    {
     "name": "stderr",
     "output_type": "stream",
     "text": [
      "\r",
      "Eval:  19%|█▉        | 211/1110 [03:37<07:39,  1.95it/s]"
     ]
    },
    {
     "name": "stdout",
     "output_type": "stream",
     "text": [
      "orientation_error\n",
      "tensor([37.3254, 36.4241, 36.2556, 36.2837, 36.2531, 36.1086, 35.5276, 35.1967,\n",
      "        35.8362, 36.8946, 34.4402, 34.1242, 34.8367, 38.3503, 41.3362, 41.2390,\n",
      "        41.5523, 45.7011, 49.4341, 46.0696, 44.3022, 46.0375, 40.3212, 42.5443,\n",
      "        43.7431, 37.2664, 36.6851, 36.6338, 31.4485, 39.8423, 40.5714, 33.3589],\n",
      "       device='cuda:0', dtype=torch.float64)\n",
      "\n"
     ]
    },
    {
     "name": "stderr",
     "output_type": "stream",
     "text": [
      "\r",
      "Eval:  19%|█▉        | 212/1110 [03:38<07:42,  1.94it/s]"
     ]
    },
    {
     "name": "stdout",
     "output_type": "stream",
     "text": [
      "orientation_error\n",
      "tensor([29.8713, 28.6717, 30.6738, 31.9289, 30.9043, 31.8877, 34.6836, 31.5456,\n",
      "        32.7618, 32.9335, 33.1849, 33.3756, 34.6128, 35.6655, 37.8922, 38.2877,\n",
      "        37.3136, 37.3565, 36.9641, 36.4774, 37.0351, 38.4879, 39.2675, 38.6361,\n",
      "        37.5427, 38.1215, 37.2132, 37.3445, 39.4260, 39.8010, 41.1616, 40.7784],\n",
      "       device='cuda:0', dtype=torch.float64)\n",
      "\n"
     ]
    },
    {
     "name": "stderr",
     "output_type": "stream",
     "text": [
      "\r",
      "Eval:  19%|█▉        | 213/1110 [03:38<07:55,  1.89it/s]"
     ]
    },
    {
     "name": "stdout",
     "output_type": "stream",
     "text": [
      "orientation_error\n",
      "tensor([42.1261, 37.9300, 39.3459, 37.8156, 36.9030, 36.0238, 37.5476, 37.0158,\n",
      "        38.0637, 35.7563, 34.0724, 32.6669, 31.9809, 31.0528, 30.2920, 29.2479,\n",
      "        28.7732, 28.8837, 29.5359, 30.1824, 29.8058, 29.8646, 30.0763, 29.8740,\n",
      "        31.4611, 32.5744, 33.7315, 34.9830, 33.1528, 33.8318, 34.7968, 32.6394],\n",
      "       device='cuda:0', dtype=torch.float64)\n",
      "\n"
     ]
    },
    {
     "name": "stderr",
     "output_type": "stream",
     "text": [
      "\r",
      "Eval:  19%|█▉        | 214/1110 [03:39<07:46,  1.92it/s]"
     ]
    },
    {
     "name": "stdout",
     "output_type": "stream",
     "text": [
      "orientation_error\n",
      "tensor([30.9974, 32.7796, 31.5307, 33.7341, 30.1014, 33.8261, 33.2938, 30.3237,\n",
      "        31.6941, 32.1884, 32.8726, 31.3861, 32.3612, 33.1390, 32.0369, 33.5138,\n",
      "        33.3218, 32.3592, 34.4646, 37.0429, 38.8143, 36.9096, 35.5954, 39.1075,\n",
      "        36.7549, 35.3502, 34.7096, 33.6302, 34.9072, 31.5179, 31.5832, 30.0128],\n",
      "       device='cuda:0', dtype=torch.float64)\n",
      "\n"
     ]
    },
    {
     "name": "stderr",
     "output_type": "stream",
     "text": [
      "\r",
      "Eval:  19%|█▉        | 215/1110 [03:39<08:52,  1.68it/s]"
     ]
    },
    {
     "name": "stdout",
     "output_type": "stream",
     "text": [
      "orientation_error\n",
      "tensor([27.4683, 26.4818, 25.9015, 24.5983, 25.2658, 26.6834, 25.1186, 22.1126,\n",
      "        20.5055, 34.6946, 34.2359, 18.4598, 18.6752, 19.4485, 19.9188, 19.8708,\n",
      "        20.6985, 21.2744, 22.0766, 22.0824, 22.6843, 38.5544, 24.4158, 24.5443,\n",
      "        24.6160, 39.3443, 38.7946, 38.9117, 39.5431, 39.7053, 39.3601, 39.2443],\n",
      "       device='cuda:0', dtype=torch.float64)\n",
      "\n"
     ]
    },
    {
     "name": "stderr",
     "output_type": "stream",
     "text": [
      "\r",
      "Eval:  19%|█▉        | 216/1110 [03:40<09:01,  1.65it/s]"
     ]
    },
    {
     "name": "stdout",
     "output_type": "stream",
     "text": [
      "orientation_error\n",
      "tensor([39.3279, 39.7429, 39.1225, 39.0990, 41.3980, 40.8361, 24.3289, 37.6268,\n",
      "        37.6621, 37.1026, 36.8735, 36.4920, 35.4611, 35.1213, 34.6403, 35.0621,\n",
      "        35.7605, 36.0010, 36.0236, 35.5094, 35.4232, 34.9412, 35.3599, 35.1447,\n",
      "        35.4764, 35.5326, 20.2059, 19.9775, 19.9455, 19.8490, 19.7728, 19.9743],\n",
      "       device='cuda:0', dtype=torch.float64)\n",
      "\n"
     ]
    },
    {
     "name": "stderr",
     "output_type": "stream",
     "text": [
      "\r",
      "Eval:  20%|█▉        | 217/1110 [03:40<08:00,  1.86it/s]"
     ]
    },
    {
     "name": "stdout",
     "output_type": "stream",
     "text": [
      "orientation_error\n",
      "tensor([20.2828, 20.7250, 20.5991, 20.6132, 21.2901, 22.0850, 36.3150, 36.9197,\n",
      "        36.2746, 37.2000, 37.3182, 36.8779, 37.6284, 23.3016, 23.1026, 23.1374,\n",
      "        22.7478, 21.7078, 21.3067, 25.9611, 23.0154, 23.2709, 22.9719, 22.6057,\n",
      "        22.5692, 23.5325, 22.6085, 23.2069, 25.0007, 23.4407, 23.9322, 22.8524],\n",
      "       device='cuda:0', dtype=torch.float64)\n",
      "\n"
     ]
    },
    {
     "name": "stderr",
     "output_type": "stream",
     "text": [
      "\r",
      "Eval:  20%|█▉        | 218/1110 [03:41<07:04,  2.10it/s]"
     ]
    },
    {
     "name": "stdout",
     "output_type": "stream",
     "text": [
      "orientation_error\n",
      "tensor([22.4006, 21.5379, 21.3045, 21.4689, 21.3154, 20.7136, 20.5864, 20.2405,\n",
      "        20.6984, 21.5638, 21.5045, 21.6871, 21.1476, 20.9555, 21.5390, 21.7015,\n",
      "        21.4110, 21.6410, 21.0956, 20.6466, 20.1308, 20.8306, 22.7119, 23.0165,\n",
      "        24.8550, 26.7314, 28.7352, 29.2595, 28.4007, 28.6559, 27.1649, 27.8962],\n",
      "       device='cuda:0', dtype=torch.float64)\n",
      "\n"
     ]
    },
    {
     "name": "stderr",
     "output_type": "stream",
     "text": [
      "\r",
      "Eval:  20%|█▉        | 219/1110 [03:41<06:13,  2.39it/s]"
     ]
    },
    {
     "name": "stdout",
     "output_type": "stream",
     "text": [
      "orientation_error\n",
      "tensor([28.7564, 30.0654, 33.0663, 32.7522, 32.7076, 34.7163, 33.6898, 34.9950,\n",
      "        35.6927, 36.7600, 38.0139, 33.8219, 34.9136, 34.4337, 35.9487, 32.4678,\n",
      "        29.9692, 27.8974, 27.0112, 26.2799, 26.7019, 29.4891, 29.8337, 29.3040,\n",
      "        30.4636, 31.8591, 34.4963, 36.5357, 38.6755, 39.8800, 43.4608, 44.4733],\n",
      "       device='cuda:0', dtype=torch.float64)\n",
      "\n"
     ]
    },
    {
     "name": "stderr",
     "output_type": "stream",
     "text": [
      "\r",
      "Eval:  20%|█▉        | 220/1110 [03:42<08:44,  1.70it/s]"
     ]
    },
    {
     "name": "stdout",
     "output_type": "stream",
     "text": [
      "orientation_error\n",
      "tensor([47.2717, 51.3036, 55.1113, 57.5001, 51.7339, 51.6526, 52.6523, 49.8265,\n",
      "        50.2509, 45.3820, 41.6704, 41.8344, 42.5295, 43.3127, 42.6860, 43.2510,\n",
      "        43.1886, 46.6710, 55.0643, 55.3177, 55.8402, 54.7510, 53.3152, 52.4791,\n",
      "        55.6801, 59.3274, 57.1556, 58.0570, 53.4078, 51.7270, 56.0737, 55.9772],\n",
      "       device='cuda:0', dtype=torch.float64)\n",
      "\n",
      "MPJPE: 101.72668339038209\n",
      "Reconstruction Error: 60.335253251846204\n",
      "\n",
      "Orientation error: 33.583715166138894\n"
     ]
    },
    {
     "name": "stderr",
     "output_type": "stream",
     "text": [
      "\r",
      "Eval:  20%|█▉        | 221/1110 [03:42<07:15,  2.04it/s]"
     ]
    },
    {
     "name": "stdout",
     "output_type": "stream",
     "text": [
      "orientation_error\n",
      "tensor([57.1270, 56.1989, 57.9872, 60.4427, 57.8473, 55.8967, 61.7849, 51.4317,\n",
      "        36.5871, 36.9366, 37.7026, 39.6337, 34.7625, 40.7006, 40.4086, 32.8966,\n",
      "        31.3155, 43.3370, 43.5556, 33.9699, 23.4877, 23.9851, 24.4144, 25.3359,\n",
      "        24.4722, 26.3055, 25.7870, 30.6791, 30.6002, 29.0105, 30.8032, 30.1000],\n",
      "       device='cuda:0', dtype=torch.float64)\n",
      "\n"
     ]
    },
    {
     "name": "stderr",
     "output_type": "stream",
     "text": [
      "\r",
      "Eval:  20%|██        | 222/1110 [03:43<07:40,  1.93it/s]"
     ]
    },
    {
     "name": "stdout",
     "output_type": "stream",
     "text": [
      "orientation_error\n",
      "tensor([30.7591, 30.6429, 30.0179, 29.5219, 29.8196, 29.5132, 28.3075, 28.0834,\n",
      "        27.5056, 28.0462, 29.0553, 29.5191, 29.2605, 27.8822, 26.7918, 27.7532,\n",
      "        27.8746, 27.4826, 26.4928, 26.8949, 27.8882, 27.0821, 26.0212, 24.5474,\n",
      "        23.8650, 24.0619, 23.8368, 24.7229, 24.9970, 26.2883, 26.2365, 25.5142],\n",
      "       device='cuda:0', dtype=torch.float64)\n",
      "\n"
     ]
    },
    {
     "name": "stderr",
     "output_type": "stream",
     "text": [
      "\r",
      "Eval:  20%|██        | 223/1110 [03:43<06:45,  2.19it/s]"
     ]
    },
    {
     "name": "stdout",
     "output_type": "stream",
     "text": [
      "orientation_error\n",
      "tensor([25.2666, 24.2197, 24.4161, 28.4405, 29.5007, 27.2935, 28.6349, 27.6179,\n",
      "        26.9169, 27.1199, 26.8078, 26.5274, 25.9250, 25.7951, 26.3810, 25.9765,\n",
      "        24.8968, 24.3004, 23.1624, 21.8209, 22.2265, 22.2029, 21.7252, 21.7472,\n",
      "        21.0719, 21.2067, 20.9742, 21.1755, 20.1276, 21.0064, 21.6707, 21.6256],\n",
      "       device='cuda:0', dtype=torch.float64)\n",
      "\n"
     ]
    },
    {
     "name": "stderr",
     "output_type": "stream",
     "text": [
      "\r",
      "Eval:  20%|██        | 224/1110 [03:44<06:39,  2.22it/s]"
     ]
    },
    {
     "name": "stdout",
     "output_type": "stream",
     "text": [
      "orientation_error\n",
      "tensor([23.9579, 25.4821, 33.4569, 44.7528, 36.6969, 42.1487, 31.2373, 32.2394,\n",
      "        32.0677, 32.9931, 38.2415, 50.7686, 44.6379, 52.8156, 44.7141, 41.9927,\n",
      "        39.4537, 38.3478, 36.8505, 39.7578, 41.8985, 44.0405, 44.7190, 45.3454,\n",
      "        51.5526, 43.1585, 42.9793, 41.9727, 36.5511, 35.2212, 40.1663, 42.9947],\n",
      "       device='cuda:0', dtype=torch.float64)\n",
      "\n"
     ]
    },
    {
     "name": "stderr",
     "output_type": "stream",
     "text": [
      "\r",
      "Eval:  20%|██        | 225/1110 [03:44<06:32,  2.25it/s]"
     ]
    },
    {
     "name": "stdout",
     "output_type": "stream",
     "text": [
      "orientation_error\n",
      "tensor([43.7124, 43.0056, 52.2943, 53.2381, 53.6716, 53.0940, 52.1901, 40.9336,\n",
      "        41.1524, 41.1248, 41.0894, 40.7051, 40.7986, 42.0062, 52.0922, 53.0025,\n",
      "        53.9059, 54.8385, 55.1675, 55.6715, 54.9930, 53.6085, 52.6628, 52.9298,\n",
      "        53.1078, 53.7421, 54.3864, 54.2895, 54.0215, 53.2019, 50.0880, 38.1953],\n",
      "       device='cuda:0', dtype=torch.float64)\n",
      "\n"
     ]
    },
    {
     "name": "stderr",
     "output_type": "stream",
     "text": [
      "\r",
      "Eval:  20%|██        | 226/1110 [03:44<06:21,  2.32it/s]"
     ]
    },
    {
     "name": "stdout",
     "output_type": "stream",
     "text": [
      "orientation_error\n",
      "tensor([39.3709, 40.5656, 42.9029, 52.7082, 53.6046, 53.1327, 52.9679, 51.7227,\n",
      "        50.2705, 50.6645, 51.8237, 53.0246, 53.5895, 54.1497, 54.1180, 53.1317,\n",
      "        52.3875, 52.2399, 52.8831, 53.9217, 54.3880, 54.9819, 55.1276, 54.7985,\n",
      "        54.3964, 54.4077, 54.4933, 54.6558, 54.5590, 54.7319, 54.8556, 55.1560],\n",
      "       device='cuda:0', dtype=torch.float64)\n",
      "\n"
     ]
    },
    {
     "name": "stderr",
     "output_type": "stream",
     "text": [
      "\r",
      "Eval:  20%|██        | 227/1110 [03:45<06:49,  2.16it/s]"
     ]
    },
    {
     "name": "stdout",
     "output_type": "stream",
     "text": [
      "orientation_error\n",
      "tensor([55.5431, 54.2502, 52.7442, 51.7672, 51.6675, 52.2960, 52.7905, 53.6586,\n",
      "        53.5844, 53.5489, 44.8871, 53.4096, 53.5740, 53.4313, 53.5693, 52.7944,\n",
      "        52.2008, 52.2416, 52.7072, 52.8259, 52.9694, 53.2099, 52.6041, 45.1244,\n",
      "        40.5838, 30.7964, 26.9624, 26.6582, 25.4546, 23.2250, 22.8656, 23.2160],\n",
      "       device='cuda:0', dtype=torch.float64)\n",
      "\n"
     ]
    },
    {
     "name": "stderr",
     "output_type": "stream",
     "text": [
      "\r",
      "Eval:  21%|██        | 228/1110 [03:46<07:21,  2.00it/s]"
     ]
    },
    {
     "name": "stdout",
     "output_type": "stream",
     "text": [
      "orientation_error\n",
      "tensor([23.2399, 22.1408, 21.5996, 20.9492, 20.8068, 20.3255, 19.8454, 20.3271,\n",
      "        20.7868, 21.7543, 22.6111, 22.5331, 21.7592, 21.3769, 22.0859, 21.5769,\n",
      "        22.6084, 22.7410, 22.4475, 22.5213, 22.4767, 22.4803, 22.3486, 22.4019,\n",
      "        22.2350, 21.8679, 21.5809, 21.1180, 21.0164, 20.8366, 20.9141, 21.0279],\n",
      "       device='cuda:0', dtype=torch.float64)\n",
      "\n"
     ]
    },
    {
     "name": "stderr",
     "output_type": "stream",
     "text": [
      "\r",
      "Eval:  21%|██        | 229/1110 [03:46<07:29,  1.96it/s]"
     ]
    },
    {
     "name": "stdout",
     "output_type": "stream",
     "text": [
      "orientation_error\n",
      "tensor([21.2906, 21.9036, 22.5287, 22.9785, 23.5236, 23.7685, 24.9993, 23.5056,\n",
      "        23.3681, 23.3930, 23.3286, 22.8844, 23.0937, 23.2532, 23.3522, 23.4201,\n",
      "        23.8093, 38.0544, 24.0364, 37.9603, 22.8925, 23.3292, 22.0690, 20.9692,\n",
      "        20.7774, 20.3464, 20.1403, 19.9832, 20.3595, 34.1550, 20.4729, 20.2584],\n",
      "       device='cuda:0', dtype=torch.float64)\n",
      "\n"
     ]
    },
    {
     "name": "stderr",
     "output_type": "stream",
     "text": [
      "\r",
      "Eval:  21%|██        | 230/1110 [03:47<07:18,  2.01it/s]"
     ]
    },
    {
     "name": "stdout",
     "output_type": "stream",
     "text": [
      "orientation_error\n",
      "tensor([20.4213, 20.1702, 20.1200, 20.6560, 20.7266, 34.1837, 33.8422, 33.8727,\n",
      "        19.5157, 19.3220, 18.3050, 18.5783, 18.5362, 19.4921, 19.0809, 19.9088,\n",
      "        20.1324, 19.7365, 19.0272, 18.9835, 19.4686, 19.3572, 19.9143, 19.4699,\n",
      "        18.7201, 18.8785, 18.4800, 18.1415, 18.2813, 19.0913, 18.9748, 18.9622],\n",
      "       device='cuda:0', dtype=torch.float64)\n",
      "\n"
     ]
    },
    {
     "name": "stderr",
     "output_type": "stream",
     "text": [
      "\r",
      "Eval:  21%|██        | 231/1110 [03:48<09:16,  1.58it/s]"
     ]
    },
    {
     "name": "stdout",
     "output_type": "stream",
     "text": [
      "orientation_error\n",
      "tensor([21.5017, 22.9274, 23.0374, 25.9320, 27.5489, 26.8166, 25.8481, 24.9894,\n",
      "        24.5026, 24.0401, 21.5773, 19.7223, 20.1391, 20.4003, 20.6479, 21.1712,\n",
      "        20.4134, 21.3087, 20.7912, 20.6196, 21.1332, 21.4668, 21.2280, 21.8447,\n",
      "        22.6885, 23.1155, 24.5711, 39.6887, 40.7974, 40.7646, 39.8827, 38.3521],\n",
      "       device='cuda:0', dtype=torch.float64)\n",
      "\n"
     ]
    },
    {
     "name": "stderr",
     "output_type": "stream",
     "text": [
      "\r",
      "Eval:  21%|██        | 232/1110 [03:48<08:49,  1.66it/s]"
     ]
    },
    {
     "name": "stdout",
     "output_type": "stream",
     "text": [
      "orientation_error\n",
      "tensor([23.0772, 21.9686, 21.4066, 21.4911, 35.3215, 34.1710, 35.5822, 35.6167,\n",
      "        36.3083, 35.9004, 35.7909, 36.0138, 36.2336, 37.1672, 37.3300, 38.0262,\n",
      "        38.1619, 37.7549, 37.7354, 37.8966, 38.1472, 37.9838, 38.2291, 38.1750,\n",
      "        38.3186, 38.2579, 38.0838, 38.1480, 38.0683, 38.0308, 38.1969, 38.0698],\n",
      "       device='cuda:0', dtype=torch.float64)\n",
      "\n"
     ]
    },
    {
     "name": "stderr",
     "output_type": "stream",
     "text": [
      "\r",
      "Eval:  21%|██        | 233/1110 [03:49<08:43,  1.67it/s]"
     ]
    },
    {
     "name": "stdout",
     "output_type": "stream",
     "text": [
      "orientation_error\n",
      "tensor([38.3158, 38.1280, 38.1737, 37.9102, 37.7992, 38.0146, 38.1086, 37.9327,\n",
      "        38.1366, 38.0979, 38.1869, 38.1365, 38.0443, 37.9242, 37.8738, 37.7923,\n",
      "        38.0715, 38.0080, 38.0917, 36.2594, 36.4319, 36.3908, 36.3434, 36.5458,\n",
      "        36.3587, 36.4817, 35.6699, 36.1449, 34.7090, 34.1315, 33.4556, 32.9121],\n",
      "       device='cuda:0', dtype=torch.float64)\n",
      "\n"
     ]
    },
    {
     "name": "stderr",
     "output_type": "stream",
     "text": [
      "\r",
      "Eval:  21%|██        | 234/1110 [03:49<07:59,  1.83it/s]"
     ]
    },
    {
     "name": "stdout",
     "output_type": "stream",
     "text": [
      "orientation_error\n",
      "tensor([32.4886, 32.5403, 32.1847, 31.6719, 31.2187, 30.7369, 30.9756, 31.4704,\n",
      "        32.3126, 32.0842, 32.4428, 32.6193, 31.9388, 32.5649, 33.8376, 33.9916,\n",
      "        34.9578, 20.8835, 34.7250, 20.2340, 20.1338, 34.5372, 34.6090, 33.7712,\n",
      "        19.5991, 18.3759, 17.2107, 17.6586, 17.7181, 18.3708, 17.4833, 19.0773],\n",
      "       device='cuda:0', dtype=torch.float64)\n",
      "\n"
     ]
    },
    {
     "name": "stderr",
     "output_type": "stream",
     "text": [
      "\r",
      "Eval:  21%|██        | 235/1110 [03:50<08:08,  1.79it/s]"
     ]
    },
    {
     "name": "stdout",
     "output_type": "stream",
     "text": [
      "orientation_error\n",
      "tensor([19.5356, 19.0001, 20.4918, 20.5981, 19.1136, 19.3697, 19.2331, 20.6921,\n",
      "        20.6878, 20.2135, 18.4993, 17.0406, 17.1577, 17.1535, 16.8751, 17.0985,\n",
      "        16.9111, 17.4385, 17.7886, 17.9918, 18.9214, 19.9163, 20.5570, 20.2699,\n",
      "        21.5379, 21.7259, 21.1752, 19.3034, 18.0437, 18.1488, 17.1549, 17.2970],\n",
      "       device='cuda:0', dtype=torch.float64)\n",
      "\n"
     ]
    },
    {
     "name": "stderr",
     "output_type": "stream",
     "text": [
      "\r",
      "Eval:  21%|██▏       | 236/1110 [03:50<08:26,  1.73it/s]"
     ]
    },
    {
     "name": "stdout",
     "output_type": "stream",
     "text": [
      "orientation_error\n",
      "tensor([17.1980, 17.6033, 18.1591, 18.4421, 18.1710, 18.7182, 19.4900, 19.2759,\n",
      "        18.8505, 18.9657, 18.9660, 18.0448, 17.8827, 17.0169, 16.5408, 17.0638,\n",
      "        16.9097, 16.1291, 16.2576, 16.4722, 18.2749, 19.8404, 19.1910, 19.0197,\n",
      "        20.3437, 19.7565, 33.2383, 32.2614, 16.8465, 16.2608, 16.1869, 15.8965],\n",
      "       device='cuda:0', dtype=torch.float64)\n",
      "\n"
     ]
    },
    {
     "name": "stderr",
     "output_type": "stream",
     "text": [
      "\r",
      "Eval:  21%|██▏       | 237/1110 [03:51<08:14,  1.76it/s]"
     ]
    },
    {
     "name": "stdout",
     "output_type": "stream",
     "text": [
      "orientation_error\n",
      "tensor([15.8848, 16.3225, 17.1972, 17.3250, 16.0939, 17.3129, 16.7714, 17.2433,\n",
      "        16.8314, 16.5435, 16.8903, 17.1761, 15.9184, 16.1658, 16.2808, 16.2483,\n",
      "        16.3933, 16.3391, 16.5560, 16.8608, 17.9040, 19.0633, 19.5844, 19.8487,\n",
      "        20.4201, 21.1417, 21.7458, 20.5729, 20.9439, 20.0375, 19.2592, 19.2627],\n",
      "       device='cuda:0', dtype=torch.float64)\n",
      "\n",
      "orientation_error\n",
      "tensor([18.2229, 16.8182, 15.4994, 15.5889, 14.7610, 14.3092, 14.3268, 13.8583,\n",
      "        14.1857, 14.4823, 14.7351, 15.2638, 17.0494, 16.8059, 16.1454, 16.7748,\n",
      "        16.7422, 15.9290, 17.0236, 18.1349, 18.1368, 19.1437, 18.6397, 19.5965,\n",
      "        20.3090, 21.2382, 19.9638, 19.5335, 19.6427, 19.5524, 19.4681, 19.9432],\n",
      "       device='cuda:0', dtype=torch.float64)\n",
      "\n"
     ]
    },
    {
     "name": "stderr",
     "output_type": "stream",
     "text": [
      "Eval:  22%|██▏       | 239/1110 [03:53<11:04,  1.31it/s]"
     ]
    },
    {
     "name": "stdout",
     "output_type": "stream",
     "text": [
      "orientation_error\n",
      "tensor([19.3569, 18.4709, 17.6420, 18.2225, 16.5083, 17.2779, 17.8406, 16.4827,\n",
      "        16.5017, 16.7001, 19.9693, 17.5789, 18.8771, 17.1293, 17.8422, 18.2404,\n",
      "        18.9019, 19.5047, 18.3295, 17.5365, 18.9049, 17.9390, 17.6611, 18.6962,\n",
      "        19.2552, 19.1442, 19.0054, 18.9207, 23.8583, 28.0785, 33.1039, 23.1899],\n",
      "       device='cuda:0', dtype=torch.float64)\n",
      "\n"
     ]
    },
    {
     "name": "stderr",
     "output_type": "stream",
     "text": [
      "\r",
      "Eval:  22%|██▏       | 240/1110 [03:53<11:21,  1.28it/s]"
     ]
    },
    {
     "name": "stdout",
     "output_type": "stream",
     "text": [
      "orientation_error\n",
      "tensor([23.3626, 22.7044, 21.7787, 20.6671, 19.7457, 17.9898, 18.7241, 18.5841,\n",
      "        16.4923, 16.0999, 17.2790, 19.2636, 22.7351, 22.6674, 21.9516, 22.4669,\n",
      "        24.5742, 21.1995, 22.2579, 21.1704, 20.9351, 17.4822, 17.2008, 18.8264,\n",
      "        21.7640, 21.6594, 22.0535, 21.0008, 21.5138, 21.9425, 23.2642, 23.1960],\n",
      "       device='cuda:0', dtype=torch.float64)\n",
      "\n",
      "MPJPE: 101.2261059012451\n",
      "Reconstruction Error: 59.34126633336324\n",
      "\n",
      "Orientation error: 33.339194380726\n"
     ]
    },
    {
     "name": "stderr",
     "output_type": "stream",
     "text": [
      "\r",
      "Eval:  22%|██▏       | 241/1110 [03:54<10:22,  1.40it/s]"
     ]
    },
    {
     "name": "stdout",
     "output_type": "stream",
     "text": [
      "orientation_error\n",
      "tensor([24.9154, 25.1810, 23.3186, 23.4704, 22.8751, 20.5760, 20.7020, 22.2726,\n",
      "        20.7152, 19.6312, 20.2457, 20.1323, 21.4801, 21.4960, 21.5011, 21.5472,\n",
      "        21.7069, 22.7828, 23.5824, 23.3894, 22.4028, 20.6773, 18.6507, 19.1243,\n",
      "        18.9668, 18.7398, 18.3266, 18.1385, 17.5904, 18.2477, 18.9779, 19.7227],\n",
      "       device='cuda:0', dtype=torch.float64)\n",
      "\n"
     ]
    },
    {
     "name": "stderr",
     "output_type": "stream",
     "text": [
      "\r",
      "Eval:  22%|██▏       | 242/1110 [03:55<09:31,  1.52it/s]"
     ]
    },
    {
     "name": "stdout",
     "output_type": "stream",
     "text": [
      "orientation_error\n",
      "tensor([20.7963, 20.2872, 20.1432, 20.0001, 19.6930, 19.3321, 18.9152, 19.7554,\n",
      "        19.2183, 18.0172, 17.7993, 17.6299, 16.5628, 17.1514, 17.1042, 18.6109,\n",
      "        19.3856, 19.2985, 19.0430, 19.9687, 20.8009, 20.5949, 20.0592, 19.6899,\n",
      "        17.4717, 16.7057, 16.9972, 17.0187, 16.7221, 16.3558, 15.8917, 15.6515],\n",
      "       device='cuda:0', dtype=torch.float64)\n",
      "\n"
     ]
    },
    {
     "name": "stderr",
     "output_type": "stream",
     "text": [
      "\r",
      "Eval:  22%|██▏       | 243/1110 [03:55<09:03,  1.60it/s]"
     ]
    },
    {
     "name": "stdout",
     "output_type": "stream",
     "text": [
      "orientation_error\n",
      "tensor([16.1687, 16.5698, 17.7913, 18.3359, 18.0208, 18.0952, 18.1918, 18.0655,\n",
      "        18.5279, 17.7044, 17.6363, 17.4657, 17.7060, 17.8803, 17.3745, 30.6494,\n",
      "        30.5850, 31.6891, 32.9455, 33.8205, 34.7447, 34.3801, 20.0586, 24.5942,\n",
      "        20.8094, 20.9857, 18.8058, 18.2095, 17.5804, 17.8841, 17.3963, 17.2242],\n",
      "       device='cuda:0', dtype=torch.float64)\n",
      "\n"
     ]
    },
    {
     "name": "stderr",
     "output_type": "stream",
     "text": [
      "\r",
      "Eval:  22%|██▏       | 244/1110 [03:56<09:20,  1.55it/s]"
     ]
    },
    {
     "name": "stdout",
     "output_type": "stream",
     "text": [
      "orientation_error\n",
      "tensor([16.9814, 16.6093, 17.0338, 17.7835, 17.1476, 16.5006, 16.3929, 15.8404,\n",
      "        31.2915, 31.9780, 32.2773, 31.3043, 30.9873, 31.9544, 31.9920, 32.4867,\n",
      "        32.1929, 31.6362, 31.4410, 31.5717, 32.3742, 33.4252, 33.7874, 34.4994,\n",
      "        34.8855, 38.2561, 36.8599, 37.8992, 37.5108, 36.1536, 36.7929, 22.4493],\n",
      "       device='cuda:0', dtype=torch.float64)\n",
      "\n"
     ]
    },
    {
     "name": "stderr",
     "output_type": "stream",
     "text": [
      "\r",
      "Eval:  22%|██▏       | 245/1110 [03:56<09:23,  1.53it/s]"
     ]
    },
    {
     "name": "stdout",
     "output_type": "stream",
     "text": [
      "orientation_error\n",
      "tensor([20.8066, 20.7668, 22.8879, 21.9310, 20.9631, 20.5916, 19.1911, 19.0396,\n",
      "        19.1736, 20.0910, 20.1643, 20.5605, 19.5886, 19.7402, 20.3223, 21.8855,\n",
      "        22.5702, 24.7261, 24.3126, 23.6805, 22.6246, 23.7834, 21.3236, 22.5473,\n",
      "        23.6137, 22.9721, 23.1263, 23.6198, 23.3938, 24.2938, 22.5326, 23.2628],\n",
      "       device='cuda:0', dtype=torch.float64)\n",
      "\n"
     ]
    },
    {
     "name": "stderr",
     "output_type": "stream",
     "text": [
      "\r",
      "Eval:  22%|██▏       | 246/1110 [03:57<08:51,  1.63it/s]"
     ]
    },
    {
     "name": "stdout",
     "output_type": "stream",
     "text": [
      "orientation_error\n",
      "tensor([23.3647, 24.3342, 23.6357, 23.8043, 23.7697, 23.5737, 23.8753, 23.3580,\n",
      "        23.7923, 23.3237, 23.1794, 23.2689, 23.2733, 23.1274, 23.5873, 23.5092,\n",
      "        23.5612, 23.4995, 24.1603, 23.9713, 24.0204, 23.8873, 23.7488, 23.3393,\n",
      "        23.2224, 22.4417, 22.7510, 22.3415, 22.4811, 21.9795, 21.9960, 22.5599],\n",
      "       device='cuda:0', dtype=torch.float64)\n",
      "\n"
     ]
    },
    {
     "name": "stderr",
     "output_type": "stream",
     "text": [
      "\r",
      "Eval:  22%|██▏       | 247/1110 [03:58<08:40,  1.66it/s]"
     ]
    },
    {
     "name": "stdout",
     "output_type": "stream",
     "text": [
      "orientation_error\n",
      "tensor([22.6069, 23.4950, 23.5633, 23.6890, 23.0752, 23.9403, 23.3623, 23.1623,\n",
      "        23.9402, 23.5244, 23.1878, 23.3200, 23.8364, 24.2224, 22.6496, 22.1898,\n",
      "        23.3465, 23.2776, 23.3974, 22.8481, 23.3840, 24.3772, 24.0376, 24.1845,\n",
      "        23.8921, 23.9029, 24.0264, 23.7903, 24.7116, 25.3686, 25.3176, 24.8771],\n",
      "       device='cuda:0', dtype=torch.float64)\n",
      "\n",
      "orientation_error\n",
      "tensor([24.6818, 23.1324, 23.9837, 24.3984, 22.4602, 22.8098, 23.7843, 23.8019,\n",
      "        24.2418, 23.7529, 23.4246, 24.1351, 22.9419, 23.0582, 22.0490, 21.5995,\n",
      "        21.1628, 19.7512, 20.2560, 20.0022, 20.0668, 20.1829, 20.5668, 20.7453,\n",
      "        20.5911, 21.2245, 20.9418, 22.0597, 22.1194, 22.5297, 23.2147, 22.6444],\n",
      "       device='cuda:0', dtype=torch.float64)\n",
      "\n"
     ]
    },
    {
     "name": "stderr",
     "output_type": "stream",
     "text": [
      "Eval:  22%|██▏       | 249/1110 [03:59<08:40,  1.65it/s]"
     ]
    },
    {
     "name": "stdout",
     "output_type": "stream",
     "text": [
      "orientation_error\n",
      "tensor([21.5028, 19.7237, 20.5148, 19.1506, 19.8620, 19.9671, 20.2637, 20.4489,\n",
      "        20.4182, 20.8131, 20.6558, 21.3181, 21.3471, 22.2496, 22.6345, 23.4781,\n",
      "        24.1578, 24.0398, 23.5629, 22.7020, 20.9958, 20.2153, 21.7821, 20.5454,\n",
      "        18.5187, 18.9664, 18.4894, 18.2464, 18.6304, 18.8577, 18.0056, 17.9514],\n",
      "       device='cuda:0', dtype=torch.float64)\n",
      "\n",
      "orientation_error\n",
      "tensor([18.0042, 18.3080, 19.0742, 19.3931, 20.5657, 21.8137, 23.2478, 22.2635,\n",
      "        22.5868, 22.2777, 22.1398, 23.5569, 22.7621, 22.4261, 22.4524, 22.8046,\n",
      "        20.9762, 21.1781, 20.7685, 21.2443, 21.1670, 21.3479, 22.1381, 23.0075,\n",
      "        23.0032, 23.6537, 24.2868, 23.8466, 23.9195, 24.2331, 24.0173, 23.9934],\n",
      "       device='cuda:0', dtype=torch.float64)\n",
      "\n"
     ]
    },
    {
     "name": "stderr",
     "output_type": "stream",
     "text": [
      "Eval:  23%|██▎       | 251/1110 [04:00<09:41,  1.48it/s]"
     ]
    },
    {
     "name": "stdout",
     "output_type": "stream",
     "text": [
      "orientation_error\n",
      "tensor([24.3914, 23.9101, 23.5693, 22.0622, 21.6259, 21.5756, 19.9995, 19.2857,\n",
      "        18.8203, 19.2174, 19.4534, 18.5627, 18.5455, 18.4710, 18.9626, 17.8440,\n",
      "        18.6017, 19.5653, 20.2817, 20.7691, 20.7921, 21.1792, 20.2326, 20.4265,\n",
      "        20.4055, 20.6417, 20.9683, 21.9211, 21.5955, 21.8388, 21.2133, 21.7711],\n",
      "       device='cuda:0', dtype=torch.float64)\n",
      "\n",
      "orientation_error\n",
      "tensor([21.9522, 21.7531, 21.9902, 22.1792, 22.0427, 21.2232, 20.3234, 19.9507,\n",
      "        20.1529, 20.5255, 20.5264, 20.8419, 21.4581, 21.9133, 21.7221, 21.8927,\n",
      "        21.7666, 22.3593, 21.5813, 22.1058, 22.4371, 23.3353, 23.2394, 22.8036,\n",
      "        24.1767, 22.9208, 22.4295, 21.4386, 21.5041, 22.3167, 22.0329, 22.7328],\n",
      "       device='cuda:0', dtype=torch.float64)\n",
      "\n"
     ]
    },
    {
     "name": "stderr",
     "output_type": "stream",
     "text": [
      "Eval:  23%|██▎       | 253/1110 [04:01<08:57,  1.59it/s]"
     ]
    },
    {
     "name": "stdout",
     "output_type": "stream",
     "text": [
      "orientation_error\n",
      "tensor([22.8746, 22.8081, 22.8470, 23.3225, 23.5569, 23.4317, 23.8414, 24.6363,\n",
      "        25.4908, 25.6510, 24.4699, 23.7465, 23.6966, 23.2152, 23.3682, 22.6628,\n",
      "        22.2731, 21.9779, 22.5378, 24.1045, 24.2760, 24.7407, 25.6718, 26.1129,\n",
      "        26.5810, 26.1450, 27.5765, 26.2108, 26.4584, 24.7640, 25.2745, 27.9411],\n",
      "       device='cuda:0', dtype=torch.float64)\n",
      "\n"
     ]
    },
    {
     "name": "stderr",
     "output_type": "stream",
     "text": [
      "\r",
      "Eval:  23%|██▎       | 254/1110 [04:02<09:08,  1.56it/s]"
     ]
    },
    {
     "name": "stdout",
     "output_type": "stream",
     "text": [
      "orientation_error\n",
      "tensor([25.8354, 25.4364, 24.8971, 23.9495, 23.2329, 22.2456, 22.2066, 22.5829,\n",
      "        19.9744, 21.4674, 21.2615, 20.4457, 21.2532, 20.8426, 21.3925, 20.4356,\n",
      "        22.2653, 21.5748, 21.3881, 21.4981, 21.6736, 20.3727, 21.0966, 22.2605,\n",
      "        24.3298, 22.5268, 21.4544, 22.7476, 23.3849, 22.4263, 23.1962, 21.8617],\n",
      "       device='cuda:0', dtype=torch.float64)\n",
      "\n"
     ]
    },
    {
     "name": "stderr",
     "output_type": "stream",
     "text": [
      "\r",
      "Eval:  23%|██▎       | 255/1110 [04:03<08:59,  1.58it/s]"
     ]
    },
    {
     "name": "stdout",
     "output_type": "stream",
     "text": [
      "orientation_error\n",
      "tensor([20.2897, 23.2930, 27.7724, 34.0018, 31.8674, 29.3385, 22.6510, 26.7156,\n",
      "        25.4620, 21.4512, 25.4564, 25.0631, 21.3568, 23.0092, 20.8526, 22.0599,\n",
      "        22.5715, 23.3469, 24.0323, 24.2174, 24.8722, 26.1228, 27.4940, 26.9579,\n",
      "        29.5863, 32.2545, 32.1856, 30.5514, 31.3568, 33.6651, 33.2711, 30.7805],\n",
      "       device='cuda:0', dtype=torch.float64)\n",
      "\n"
     ]
    },
    {
     "name": "stderr",
     "output_type": "stream",
     "text": [
      "\r",
      "Eval:  23%|██▎       | 256/1110 [04:03<07:42,  1.85it/s]"
     ]
    },
    {
     "name": "stdout",
     "output_type": "stream",
     "text": [
      "orientation_error\n",
      "tensor([31.0383, 29.0010, 27.0118, 24.4116, 20.3235, 19.3689, 21.8029, 34.6319,\n",
      "        35.6466, 35.4640, 37.1129, 50.3264, 56.0791, 37.8334, 35.8706, 34.9291,\n",
      "        32.2477, 35.9593, 35.6908, 33.6492, 29.8976, 29.6713, 28.2518, 29.0874,\n",
      "        26.9328, 26.9951, 25.2131, 25.5637, 27.0710, 27.8854, 24.8404, 23.4746],\n",
      "       device='cuda:0', dtype=torch.float64)\n",
      "\n"
     ]
    },
    {
     "name": "stderr",
     "output_type": "stream",
     "text": [
      "\r",
      "Eval:  23%|██▎       | 257/1110 [04:04<07:41,  1.85it/s]"
     ]
    },
    {
     "name": "stdout",
     "output_type": "stream",
     "text": [
      "orientation_error\n",
      "tensor([23.9662, 24.7463, 23.0516, 22.1131, 22.9316, 22.7300, 22.1438, 22.4674,\n",
      "        22.0454, 22.7559, 21.9428, 22.3783, 22.7556, 22.9511, 22.8150, 24.2366,\n",
      "        24.2059, 24.5618, 23.1619, 23.2855, 23.1876, 22.8996, 22.7060, 22.0577,\n",
      "        22.0162, 22.5740, 22.4086, 22.7536, 23.3622, 23.4040, 22.9112, 22.7070],\n",
      "       device='cuda:0', dtype=torch.float64)\n",
      "\n",
      "orientation_error\n",
      "tensor([22.8232, 22.6241, 23.0736, 23.0320, 23.0251, 22.7278, 22.5075, 23.3147,\n",
      "        23.1269, 22.2557, 21.4767, 21.8677, 22.1544, 21.3418, 21.0846, 21.3470,\n",
      "        20.1613, 20.1180, 20.3723, 20.3189, 19.8561, 19.9479, 19.8016, 19.9445,\n",
      "        19.4849, 19.3669, 19.1001, 19.0906, 19.0944, 19.0021, 18.3483, 18.5687],\n",
      "       device='cuda:0', dtype=torch.float64)\n",
      "\n"
     ]
    },
    {
     "name": "stderr",
     "output_type": "stream",
     "text": [
      "\r",
      "Eval:  23%|██▎       | 258/1110 [04:04<08:30,  1.67it/s]"
     ]
    },
    {
     "name": "stdout",
     "output_type": "stream",
     "text": [
      "orientation_error\n",
      "tensor([18.7264, 18.7189, 18.1312, 18.0990, 18.7476, 18.3808, 19.6323, 19.2530,\n",
      "        18.7921, 19.0104, 18.9013, 20.1908, 20.6054, 20.8072, 20.1619, 20.6409,\n",
      "        21.3559, 21.3056, 20.1072, 21.1767, 20.2440, 22.5225, 21.8631, 23.1410,\n",
      "        21.4625, 19.1577, 19.6651, 19.2023, 18.6352, 19.0876, 20.4661, 20.3745],\n",
      "       device='cuda:0', dtype=torch.float64)\n",
      "\n"
     ]
    },
    {
     "name": "stderr",
     "output_type": "stream",
     "text": [
      "\r",
      "Eval:  23%|██▎       | 259/1110 [04:05<09:04,  1.56it/s]"
     ]
    },
    {
     "name": "stdout",
     "output_type": "stream",
     "text": [
      "orientation_error\n",
      "tensor([20.0751, 20.3970, 19.1858, 18.5666, 18.5229, 18.6914, 19.4487, 19.5079,\n",
      "        21.0567, 21.3374, 20.4769, 21.2359, 21.2421, 20.8758, 20.7179, 21.8344,\n",
      "        20.4258, 21.1152, 21.2917, 20.5753, 20.6911, 20.6900, 19.7195, 21.3292,\n",
      "        19.1115, 18.5190, 19.1540, 18.6544, 19.6820, 19.9932, 20.3184, 20.6260],\n",
      "       device='cuda:0', dtype=torch.float64)\n",
      "\n"
     ]
    },
    {
     "name": "stderr",
     "output_type": "stream",
     "text": [
      "\r",
      "Eval:  23%|██▎       | 260/1110 [04:06<09:21,  1.51it/s]"
     ]
    },
    {
     "name": "stdout",
     "output_type": "stream",
     "text": [
      "MPJPE: 101.41501063166338\n",
      "Reconstruction Error: 59.57728412031991\n",
      "\n",
      "Orientation error: 32.52280875904795\n"
     ]
    },
    {
     "name": "stderr",
     "output_type": "stream",
     "text": [
      "\r",
      "Eval:  24%|██▎       | 261/1110 [04:06<08:50,  1.60it/s]"
     ]
    },
    {
     "name": "stdout",
     "output_type": "stream",
     "text": [
      "orientation_error\n",
      "tensor([19.8434, 19.6150, 19.6298, 19.6682, 20.0496, 20.4183, 19.0246, 19.0082,\n",
      "        18.7672, 19.0712, 20.2683, 21.1180, 21.5266, 21.7685, 21.8443, 21.7360,\n",
      "        21.5816, 21.2773, 22.1533, 22.1016, 21.9043, 22.2496, 21.7182, 22.6222,\n",
      "        23.8969, 24.6357, 24.5481, 24.3666, 23.6521, 24.4631, 23.0221, 23.7158],\n",
      "       device='cuda:0', dtype=torch.float64)\n",
      "\n"
     ]
    },
    {
     "name": "stderr",
     "output_type": "stream",
     "text": [
      "\r",
      "Eval:  24%|██▎       | 262/1110 [04:07<08:55,  1.58it/s]"
     ]
    },
    {
     "name": "stdout",
     "output_type": "stream",
     "text": [
      "orientation_error\n",
      "tensor([25.2847, 24.2448, 24.0030, 22.5149, 21.6033, 21.8367, 22.4708, 22.3939,\n",
      "        22.1597, 22.5296, 22.4277, 23.5835, 23.9006, 24.5814, 24.6198, 24.0165,\n",
      "        23.7918, 22.1870, 21.8636, 22.5127, 22.0313, 22.5195, 23.5996, 24.5219,\n",
      "        25.4887, 26.7600, 26.1551, 26.4122, 26.0052, 24.2014, 23.8804, 24.2462],\n",
      "       device='cuda:0', dtype=torch.float64)\n",
      "\n",
      "orientation_error\n",
      "tensor([23.5490, 22.2999, 21.8858, 22.2324, 22.7829, 22.5820, 22.5662, 22.5681,\n",
      "        23.0514, 24.2193, 22.3844, 23.2813, 22.7704, 22.0355, 38.3720, 38.2671,\n",
      "        38.5989, 38.4955, 38.4746, 38.4190, 38.5115, 38.4626, 38.9922, 39.3309,\n",
      "        39.2735, 39.3216, 39.2652, 40.2147, 40.7423, 40.7228, 40.4632, 40.3613],\n",
      "       device='cuda:0', dtype=torch.float64)\n",
      "\n"
     ]
    },
    {
     "name": "stderr",
     "output_type": "stream",
     "text": [
      "Eval:  24%|██▍       | 264/1110 [04:09<09:53,  1.42it/s]"
     ]
    },
    {
     "name": "stdout",
     "output_type": "stream",
     "text": [
      "orientation_error\n",
      "tensor([40.2638, 40.1018, 39.9180, 40.0228, 40.1250, 39.2693, 39.0933, 38.6522,\n",
      "        38.3131, 37.5326, 37.4219, 37.2587, 37.1120, 36.5439, 22.9920, 21.8696,\n",
      "        21.3484, 21.3651, 21.4899, 21.5096, 21.8393, 22.3265, 22.2719, 22.4077,\n",
      "        22.8279, 22.2558, 23.1969, 23.1639, 22.6623, 22.6146, 22.6184, 23.1617],\n",
      "       device='cuda:0', dtype=torch.float64)\n",
      "\n"
     ]
    },
    {
     "name": "stderr",
     "output_type": "stream",
     "text": [
      "\r",
      "Eval:  24%|██▍       | 265/1110 [04:09<09:01,  1.56it/s]"
     ]
    },
    {
     "name": "stdout",
     "output_type": "stream",
     "text": [
      "orientation_error\n",
      "tensor([23.3595, 22.8609, 22.0859, 22.7699, 22.1544, 21.6473, 20.6263, 21.1749,\n",
      "        19.9517, 20.0886, 19.4070, 19.1769, 18.1097, 19.1479, 18.9249, 19.1368,\n",
      "        20.5948, 20.5764, 20.1577, 19.7508, 19.8769, 19.6463, 20.7030, 21.8753,\n",
      "        22.9781, 24.1068, 24.7080, 24.9591, 25.5360, 24.9821, 25.1107, 23.6028],\n",
      "       device='cuda:0', dtype=torch.float64)\n",
      "\n",
      "orientation_error\n",
      "tensor([21.5560, 20.9361, 20.8602, 19.1265, 19.5078, 17.9959, 17.3734, 18.0284,\n",
      "        19.1828, 18.9400, 18.6508, 18.9063, 18.9661, 18.5871, 19.5265, 20.4119,\n",
      "        20.1407, 20.6197, 34.0760, 34.2494, 34.3246, 33.9213, 33.8143, 33.8567,\n",
      "        34.6127, 34.8059, 33.9854, 34.1970, 34.2384, 34.9890, 34.7789, 34.4186],\n",
      "       device='cuda:0', dtype=torch.float64)\n",
      "\n"
     ]
    },
    {
     "name": "stderr",
     "output_type": "stream",
     "text": [
      "Eval:  24%|██▍       | 267/1110 [04:11<09:53,  1.42it/s]"
     ]
    },
    {
     "name": "stdout",
     "output_type": "stream",
     "text": [
      "orientation_error\n",
      "tensor([19.5374, 19.2696, 19.3006, 19.2842, 19.2528, 34.7573, 35.4345, 36.1319,\n",
      "        36.6712, 36.5004, 36.5905, 35.8197, 35.2154, 34.0217, 33.7201, 34.5481,\n",
      "        34.6350, 33.7011, 33.9803, 33.5101, 32.7596, 32.8905, 32.5864, 18.4857,\n",
      "        18.5318, 19.3607, 20.2026, 21.9616, 36.5107, 36.1917, 36.5139, 35.8965],\n",
      "       device='cuda:0', dtype=torch.float64)\n",
      "\n",
      "orientation_error\n",
      "tensor([36.4786, 36.0783, 35.2641, 34.7319, 33.7799, 33.5839, 33.9394, 20.3394,\n",
      "        36.6214, 21.5284, 20.7627, 19.8010, 20.0174, 19.6842, 19.9553, 35.1305,\n",
      "        20.7272, 35.4990, 35.8327, 35.5898, 35.4386, 35.5611, 35.4952, 35.0182,\n",
      "        20.5945, 34.3705, 34.5835, 34.9667, 34.0490, 34.1314, 33.2092, 33.3587],\n",
      "       device='cuda:0', dtype=torch.float64)\n",
      "\n"
     ]
    },
    {
     "name": "stderr",
     "output_type": "stream",
     "text": [
      "\r",
      "Eval:  24%|██▍       | 268/1110 [04:12<10:42,  1.31it/s]"
     ]
    },
    {
     "name": "stdout",
     "output_type": "stream",
     "text": [
      "orientation_error\n",
      "tensor([32.7726, 18.8757, 19.9317, 21.4168, 36.0129, 36.8843, 36.1775, 35.4763,\n",
      "        36.2424, 36.2822, 20.9387, 21.0326, 20.3948, 20.0140, 34.8492, 35.0547,\n",
      "        35.1060, 34.6789, 34.2790, 34.5804, 35.2258, 36.5205, 36.9779, 22.2326,\n",
      "        20.8990, 20.0991, 19.6777, 34.5063, 35.0564, 34.2649, 34.2212, 18.6767],\n",
      "       device='cuda:0', dtype=torch.float64)\n",
      "\n"
     ]
    },
    {
     "name": "stderr",
     "output_type": "stream",
     "text": [
      "\r",
      "Eval:  24%|██▍       | 269/1110 [04:13<11:30,  1.22it/s]"
     ]
    },
    {
     "name": "stdout",
     "output_type": "stream",
     "text": [
      "orientation_error\n",
      "tensor([18.7782, 18.7409, 19.9426, 20.8478, 22.1460, 22.2762, 22.2745, 22.4606,\n",
      "        37.0017, 22.3122, 21.9428, 21.7474, 21.0313, 20.6571, 20.9125, 21.6107,\n",
      "        21.3811, 21.0842, 21.9261, 22.6055, 36.6560, 21.5039, 21.2805, 35.6470,\n",
      "        35.5840, 34.7957, 34.2364, 33.8621, 33.4731, 19.2445, 19.5963, 36.5084],\n",
      "       device='cuda:0', dtype=torch.float64)\n",
      "\n"
     ]
    },
    {
     "name": "stderr",
     "output_type": "stream",
     "text": [
      "\r",
      "Eval:  24%|██▍       | 270/1110 [04:13<11:12,  1.25it/s]"
     ]
    },
    {
     "name": "stdout",
     "output_type": "stream",
     "text": [
      "orientation_error\n",
      "tensor([36.8748, 39.0992, 41.6182, 27.4975, 27.9074, 29.4427, 28.5584, 27.2875,\n",
      "        22.5538, 20.8875, 37.1445, 37.6328, 37.7059, 37.1555, 24.2234, 25.2721,\n",
      "        39.0805, 39.0484, 39.4597, 40.4202, 41.4782, 40.2654, 38.5893, 37.1617,\n",
      "        38.3229, 39.3900, 38.8327, 41.5883, 26.9583, 24.3155, 29.8493, 28.1994],\n",
      "       device='cuda:0', dtype=torch.float64)\n",
      "\n"
     ]
    },
    {
     "name": "stderr",
     "output_type": "stream",
     "text": [
      "\r",
      "Eval:  24%|██▍       | 271/1110 [04:14<11:06,  1.26it/s]"
     ]
    },
    {
     "name": "stdout",
     "output_type": "stream",
     "text": [
      "orientation_error\n",
      "tensor([25.8482, 27.0795, 23.4342, 21.7209, 24.2408, 22.6199, 23.9250, 23.1805,\n",
      "        27.1035, 24.8210, 26.6967, 29.0818, 27.3313, 30.9421, 28.4654, 29.4319,\n",
      "        30.8305, 31.3383, 30.5622, 32.0935, 29.1522, 31.4713, 29.6434, 31.0562,\n",
      "        28.7613, 27.0226, 27.7195, 27.4452, 27.2695, 26.7304, 25.8451, 27.0980],\n",
      "       device='cuda:0', dtype=torch.float64)\n",
      "\n"
     ]
    },
    {
     "name": "stderr",
     "output_type": "stream",
     "text": [
      "Eval:  25%|██▍       | 273/1110 [04:16<10:42,  1.30it/s]"
     ]
    },
    {
     "name": "stdout",
     "output_type": "stream",
     "text": [
      "orientation_error\n",
      "tensor([27.8087, 27.4011, 27.3007, 26.2226, 26.0500, 26.0080, 27.0004, 25.5825,\n",
      "        24.5581, 24.0038, 23.3827, 23.1135, 23.4759, 24.5096, 23.3855, 22.1900,\n",
      "        23.0209, 22.9292, 23.0482, 24.1569, 24.5902, 25.3950, 25.7107, 27.7734,\n",
      "        30.1009, 31.6883, 32.6671, 47.5665, 55.3468, 40.7335, 38.6749, 32.6661],\n",
      "       device='cuda:0', dtype=torch.float64)\n",
      "\n"
     ]
    },
    {
     "name": "stderr",
     "output_type": "stream",
     "text": [
      "\r",
      "Eval:  25%|██▍       | 274/1110 [04:16<10:14,  1.36it/s]"
     ]
    },
    {
     "name": "stdout",
     "output_type": "stream",
     "text": [
      "orientation_error\n",
      "tensor([33.9613, 32.3384, 30.6110, 29.9597, 30.2428, 32.1504, 30.7489, 30.8603,\n",
      "        29.9681, 28.6449, 26.7388, 25.6858, 25.3757, 25.2719, 25.6124, 24.3942,\n",
      "        24.9018, 25.6846, 25.4782, 24.4450, 24.5612, 25.2681, 25.0423, 25.4786,\n",
      "        26.0296, 26.3756, 25.2866, 24.0880, 22.6771, 22.0567, 22.0160, 21.1057],\n",
      "       device='cuda:0', dtype=torch.float64)\n",
      "\n"
     ]
    },
    {
     "name": "stderr",
     "output_type": "stream",
     "text": [
      "\r",
      "Eval:  25%|██▍       | 275/1110 [04:17<10:29,  1.33it/s]"
     ]
    },
    {
     "name": "stdout",
     "output_type": "stream",
     "text": [
      "orientation_error\n",
      "tensor([20.2526, 19.3793, 19.4615, 19.0471, 19.4353, 18.7470, 18.7253, 19.1746,\n",
      "        19.6399, 21.1764, 21.2755, 21.8510, 22.4841, 22.9140, 23.4632, 23.4428,\n",
      "        23.1275, 22.7049, 22.7806, 22.4200, 22.0601, 21.8760, 23.0455, 23.1180,\n",
      "        24.3167, 24.7709, 25.7080, 28.3771, 28.7621, 27.9588, 26.1701, 27.1751],\n",
      "       device='cuda:0', dtype=torch.float64)\n",
      "\n"
     ]
    },
    {
     "name": "stderr",
     "output_type": "stream",
     "text": [
      "\r",
      "Eval:  25%|██▍       | 276/1110 [04:18<10:03,  1.38it/s]"
     ]
    },
    {
     "name": "stdout",
     "output_type": "stream",
     "text": [
      "orientation_error\n",
      "tensor([26.2516, 25.8063, 25.9390, 28.7953, 27.1483, 26.5631, 27.8068, 27.8513,\n",
      "        27.0111, 27.0801, 29.3107, 27.9101, 26.5966, 27.8291, 27.5964, 27.3009,\n",
      "        27.7107, 28.5503, 29.1052, 27.4599, 28.7949, 26.6068, 27.0562, 29.3046,\n",
      "        27.8245, 26.3391, 27.6758, 26.2601, 26.5010, 30.1943, 26.7686, 31.4056],\n",
      "       device='cuda:0', dtype=torch.float64)\n",
      "\n"
     ]
    },
    {
     "name": "stderr",
     "output_type": "stream",
     "text": [
      "\r",
      "Eval:  25%|██▍       | 277/1110 [04:18<09:12,  1.51it/s]"
     ]
    },
    {
     "name": "stdout",
     "output_type": "stream",
     "text": [
      "orientation_error\n",
      "tensor([31.9139, 29.5603, 26.6096, 27.3104, 26.3350, 27.0262, 29.0185, 28.4423,\n",
      "        28.3869, 27.9506, 27.6591, 26.5144, 25.6141, 25.0280, 24.3651, 25.0766,\n",
      "        25.0535, 24.9351, 26.2677, 28.6256, 29.1490, 29.4921, 28.1098, 30.2624,\n",
      "        27.8314, 28.7701, 28.5076, 28.3153, 28.0425, 28.0171, 27.6199, 28.2113],\n",
      "       device='cuda:0', dtype=torch.float64)\n",
      "\n"
     ]
    },
    {
     "name": "stderr",
     "output_type": "stream",
     "text": [
      "\r",
      "Eval:  25%|██▌       | 278/1110 [04:19<08:51,  1.57it/s]"
     ]
    },
    {
     "name": "stdout",
     "output_type": "stream",
     "text": [
      "orientation_error\n",
      "tensor([28.4161, 27.5139, 28.4742, 28.1337, 28.2542, 27.6165, 27.3240, 26.3443,\n",
      "        26.4329, 26.5242, 27.1277, 27.6040, 30.6277, 30.2071, 28.9399, 32.1043,\n",
      "        31.6950, 30.4556, 30.8214, 31.1999, 29.5058, 29.7925, 28.6356, 29.3762,\n",
      "        29.1438, 31.4564, 32.6120, 36.5161, 29.2075, 29.8843, 28.6108, 27.1490],\n",
      "       device='cuda:0', dtype=torch.float64)\n",
      "\n"
     ]
    },
    {
     "name": "stderr",
     "output_type": "stream",
     "text": [
      "\r",
      "Eval:  25%|██▌       | 279/1110 [04:19<08:10,  1.69it/s]"
     ]
    },
    {
     "name": "stdout",
     "output_type": "stream",
     "text": [
      "orientation_error\n",
      "tensor([26.6192, 26.9408, 27.1100, 27.4924, 28.2708, 29.0109, 29.4910, 29.5532,\n",
      "        28.6634, 27.9259, 26.7370, 26.9583, 26.7953, 26.0391, 37.9234, 25.1732,\n",
      "        23.7544, 23.5348, 23.5833, 24.2192, 23.8056, 23.6290, 24.7668, 26.2506,\n",
      "        27.4081, 28.7745, 28.9756, 29.2066, 28.6907, 28.6465, 26.9384, 26.1147],\n",
      "       device='cuda:0', dtype=torch.float64)\n",
      "\n"
     ]
    },
    {
     "name": "stderr",
     "output_type": "stream",
     "text": [
      "\r",
      "Eval:  25%|██▌       | 280/1110 [04:20<08:29,  1.63it/s]"
     ]
    },
    {
     "name": "stdout",
     "output_type": "stream",
     "text": [
      "orientation_error\n",
      "tensor([25.9054, 24.8348, 26.1549, 26.3590, 26.3865, 25.6339, 26.8450, 26.4749,\n",
      "        37.9512, 37.7351, 36.8446, 35.8332, 35.2466, 35.6338, 35.4937, 21.3343,\n",
      "        19.9800, 19.6585, 19.6362, 20.3970, 20.0754, 21.3109, 22.7519, 22.6782,\n",
      "        37.3144, 37.6020, 38.0660, 38.1172, 38.2536, 38.2201, 37.8127, 37.7074],\n",
      "       device='cuda:0', dtype=torch.float64)\n",
      "\n",
      "MPJPE: 102.28858076288002\n",
      "Reconstruction Error: 59.867952756899136\n",
      "\n",
      "Orientation error: 32.13029712689547\n"
     ]
    },
    {
     "name": "stderr",
     "output_type": "stream",
     "text": [
      "\r",
      "Eval:  25%|██▌       | 281/1110 [04:21<10:26,  1.32it/s]"
     ]
    },
    {
     "name": "stdout",
     "output_type": "stream",
     "text": [
      "orientation_error\n",
      "tensor([37.0169, 36.9750, 36.6667, 36.6654, 36.7722, 36.6606, 36.5656, 36.5593,\n",
      "        35.7210, 21.1109, 20.3729, 21.0701, 20.7939, 20.0508, 19.4005, 18.5737,\n",
      "        18.0417, 17.6214, 16.7686, 16.7056, 17.0828, 17.1409, 18.9277, 17.2708,\n",
      "        16.0478, 16.9353, 16.9700, 18.2077, 19.3350, 19.6846, 18.3706, 17.9257],\n",
      "       device='cuda:0', dtype=torch.float64)\n",
      "\n"
     ]
    },
    {
     "name": "stderr",
     "output_type": "stream",
     "text": [
      "\r",
      "Eval:  25%|██▌       | 282/1110 [04:22<12:11,  1.13it/s]"
     ]
    },
    {
     "name": "stdout",
     "output_type": "stream",
     "text": [
      "orientation_error\n",
      "tensor([17.5457, 18.7395, 19.4207, 19.9486, 19.2598, 19.3405, 19.4269, 20.2211,\n",
      "        20.1659, 20.4982, 21.7928, 23.1600, 24.0274, 24.6134, 25.6633, 27.9152,\n",
      "        29.1799, 29.1891, 44.5929, 45.4772, 44.5788, 42.4132, 40.8862, 39.8227,\n",
      "        37.9235, 36.9320, 21.7122, 20.0379, 18.7875, 18.1109, 19.5997, 20.0311],\n",
      "       device='cuda:0', dtype=torch.float64)\n",
      "\n"
     ]
    },
    {
     "name": "stderr",
     "output_type": "stream",
     "text": [
      "\r",
      "Eval:  25%|██▌       | 283/1110 [04:23<10:25,  1.32it/s]"
     ]
    },
    {
     "name": "stdout",
     "output_type": "stream",
     "text": [
      "orientation_error\n",
      "tensor([19.7470, 20.3450, 20.7027, 20.1888, 20.5979, 22.7842, 21.8348, 21.4199,\n",
      "        20.3717, 20.3113, 20.2289, 20.3179, 36.2691, 36.0371, 36.2222, 24.1558,\n",
      "        30.1326, 29.5984, 29.8002, 30.0983, 28.9740, 28.5399, 27.1301, 27.6639,\n",
      "        28.3966, 28.6243, 27.3005, 28.2063, 28.6127, 29.6289, 38.8062, 37.8169],\n",
      "       device='cuda:0', dtype=torch.float64)\n",
      "\n",
      "orientation_error\n",
      "tensor([37.1926, 38.0012, 39.8250, 31.5181, 31.8391, 31.2136, 31.9268, 31.1093,\n",
      "        37.5662, 36.3839, 37.2064, 35.1105, 35.2913, 35.7760, 36.1012, 36.4604,\n",
      "        36.0585, 36.0343, 36.3615, 36.2057, 36.0961, 36.4301, 21.3878, 22.0638,\n",
      "        25.7828, 44.0245, 44.2295, 43.3206, 41.1521, 39.0320, 36.0010, 36.5792],\n",
      "       device='cuda:0', dtype=torch.float64)\n",
      "\n"
     ]
    },
    {
     "name": "stderr",
     "output_type": "stream",
     "text": [
      "Eval:  26%|██▌       | 285/1110 [04:24<10:00,  1.37it/s]"
     ]
    },
    {
     "name": "stdout",
     "output_type": "stream",
     "text": [
      "orientation_error\n",
      "tensor([35.8549, 35.5433, 35.3415, 34.5392, 34.2777, 33.5348, 34.3356, 36.1223,\n",
      "        33.6502, 35.7899, 35.5001, 34.2448, 32.5897, 33.1514, 30.0084, 29.8257,\n",
      "        29.5240, 29.1014, 29.1134, 28.9198, 29.0910, 29.3766, 29.4312, 29.5508,\n",
      "        29.4246, 29.4249, 29.3630, 29.5353, 40.8361, 40.1897, 39.3865, 39.2027],\n",
      "       device='cuda:0', dtype=torch.float64)\n",
      "\n"
     ]
    },
    {
     "name": "stderr",
     "output_type": "stream",
     "text": [
      "\r",
      "Eval:  26%|██▌       | 286/1110 [04:25<09:18,  1.48it/s]"
     ]
    },
    {
     "name": "stdout",
     "output_type": "stream",
     "text": [
      "orientation_error\n",
      "tensor([38.7896, 38.3859, 38.1907, 38.3438, 37.9235, 38.1213, 38.1996, 38.0631,\n",
      "        38.2054, 38.1651, 38.2967, 38.3514, 38.8044, 39.1052, 39.1799, 39.7255,\n",
      "        40.0968, 54.4904, 40.6667, 54.8798, 55.3724, 55.3220, 55.1849, 40.6545,\n",
      "        40.8208, 55.0254, 54.6585, 54.5138, 39.9199, 39.7222, 39.1389, 39.3275],\n",
      "       device='cuda:0', dtype=torch.float64)\n",
      "\n"
     ]
    },
    {
     "name": "stderr",
     "output_type": "stream",
     "text": [
      "\r",
      "Eval:  26%|██▌       | 287/1110 [04:25<08:37,  1.59it/s]"
     ]
    },
    {
     "name": "stdout",
     "output_type": "stream",
     "text": [
      "orientation_error\n",
      "tensor([40.1098, 40.5890, 40.6945, 55.9305, 41.0619, 42.0663, 43.9866, 45.7178,\n",
      "        34.5443, 36.6607, 36.9948, 23.5934, 39.8011, 42.8468, 29.6800, 43.2362,\n",
      "        42.0864, 40.5545, 40.4326, 42.1539, 45.1605, 52.5653, 59.2092, 57.5082,\n",
      "        49.7257, 49.5361, 51.1378, 50.9792, 48.9995, 46.8534, 44.4755, 42.8736],\n",
      "       device='cuda:0', dtype=torch.float64)\n",
      "\n"
     ]
    },
    {
     "name": "stderr",
     "output_type": "stream",
     "text": [
      "\r",
      "Eval:  26%|██▌       | 288/1110 [04:26<08:35,  1.59it/s]"
     ]
    },
    {
     "name": "stdout",
     "output_type": "stream",
     "text": [
      "orientation_error\n",
      "tensor([41.0962, 38.5912, 38.8007, 39.9353, 39.9395, 40.5686, 41.3923, 41.8710,\n",
      "        41.4806, 40.7575, 39.4320, 39.8249, 38.3694, 38.6376, 37.6057, 37.1447,\n",
      "        30.1332, 30.6628, 32.0815, 32.1862, 29.2638, 29.6508, 27.6524, 26.6956,\n",
      "        25.2346, 26.6782, 27.7811, 29.2526, 44.2053, 62.9503, 63.0612, 62.8623],\n",
      "       device='cuda:0', dtype=torch.float64)\n",
      "\n"
     ]
    },
    {
     "name": "stderr",
     "output_type": "stream",
     "text": [
      "\r",
      "Eval:  26%|██▌       | 289/1110 [04:26<08:36,  1.59it/s]"
     ]
    },
    {
     "name": "stdout",
     "output_type": "stream",
     "text": [
      "orientation_error\n",
      "tensor([63.0678, 63.0546, 63.0500, 63.1292, 63.0891, 63.1848, 63.2594, 63.1089,\n",
      "        63.2921, 63.7595, 64.1855, 64.1905, 64.5303, 64.3599, 63.9891, 73.1830,\n",
      "        72.0189, 63.8461, 63.1674, 62.2979, 62.3851, 62.9319, 63.7504, 63.9681,\n",
      "        56.5889, 50.3735, 32.3476, 29.6147, 29.2415, 29.0991, 30.9311, 30.7098],\n",
      "       device='cuda:0', dtype=torch.float64)\n",
      "\n"
     ]
    },
    {
     "name": "stderr",
     "output_type": "stream",
     "text": [
      "\r",
      "Eval:  26%|██▌       | 290/1110 [04:27<08:38,  1.58it/s]"
     ]
    },
    {
     "name": "stdout",
     "output_type": "stream",
     "text": [
      "orientation_error\n",
      "tensor([30.7068, 29.0449, 28.1304, 27.9169, 28.0198, 28.9440, 28.9095, 30.1885,\n",
      "        28.2211, 27.6445, 27.6822, 27.4158, 27.3100, 27.7733, 27.4064, 27.0317,\n",
      "        27.1906, 26.8190, 26.8573, 26.5663, 26.8052, 26.2419, 26.4714, 26.5157,\n",
      "        25.7301, 25.9558, 26.2827, 26.3906, 26.1750, 26.5243, 26.0401, 25.7143],\n",
      "       device='cuda:0', dtype=torch.float64)\n",
      "\n"
     ]
    },
    {
     "name": "stderr",
     "output_type": "stream",
     "text": [
      "\r",
      "Eval:  26%|██▌       | 291/1110 [04:28<08:46,  1.56it/s]"
     ]
    },
    {
     "name": "stdout",
     "output_type": "stream",
     "text": [
      "orientation_error\n",
      "tensor([25.8727, 26.0658, 26.2214, 26.2732, 26.3952, 26.7096, 26.8722, 27.1323,\n",
      "        27.6893, 27.9395, 29.1393, 29.2429, 30.4417, 31.1758, 31.3776, 31.6884,\n",
      "        31.9998, 32.0897, 33.0402, 33.2031, 33.5633, 34.5834, 34.2394, 35.3919,\n",
      "        36.5577, 38.1885, 37.7207, 37.7231, 37.5785, 39.1489, 38.5269, 39.2947],\n",
      "       device='cuda:0', dtype=torch.float64)\n",
      "\n"
     ]
    },
    {
     "name": "stderr",
     "output_type": "stream",
     "text": [
      "\r",
      "Eval:  26%|██▋       | 292/1110 [04:28<07:55,  1.72it/s]"
     ]
    },
    {
     "name": "stdout",
     "output_type": "stream",
     "text": [
      "orientation_error\n",
      "tensor([38.6422, 38.6539, 53.1803, 51.8902, 53.2618, 51.4986, 50.7902, 49.3366,\n",
      "        49.3347, 49.1534, 45.1513, 42.2278, 39.1715, 38.4783, 38.5786, 38.5354,\n",
      "        38.2719, 37.5250, 36.8705, 36.8002, 37.6937, 38.7766, 39.1095, 38.7102,\n",
      "        39.3866, 38.6545, 36.9906, 22.6012, 22.3203, 22.0051, 23.2135, 23.0451],\n",
      "       device='cuda:0', dtype=torch.float64)\n",
      "\n"
     ]
    },
    {
     "name": "stderr",
     "output_type": "stream",
     "text": [
      "\r",
      "Eval:  26%|██▋       | 293/1110 [04:29<08:00,  1.70it/s]"
     ]
    },
    {
     "name": "stdout",
     "output_type": "stream",
     "text": [
      "orientation_error\n",
      "tensor([24.1872, 22.4381, 21.5176, 21.6188, 20.5204, 18.5497, 18.8604, 18.2484,\n",
      "        18.0502, 18.8096, 19.0992, 19.6284, 19.6076, 19.0265, 18.6255, 18.9464,\n",
      "        19.0655, 18.9986, 18.9989, 18.1152, 18.6239, 17.8159, 18.0257, 18.6965,\n",
      "        17.9136, 17.7914, 17.2007, 17.2921, 17.5076, 17.3791, 16.6546, 17.1227],\n",
      "       device='cuda:0', dtype=torch.float64)\n",
      "\n"
     ]
    },
    {
     "name": "stderr",
     "output_type": "stream",
     "text": [
      "\r",
      "Eval:  26%|██▋       | 294/1110 [04:29<07:13,  1.88it/s]"
     ]
    },
    {
     "name": "stdout",
     "output_type": "stream",
     "text": [
      "orientation_error\n",
      "tensor([17.3106, 18.4276, 18.6874, 18.6603, 18.5232, 18.1137, 32.5818, 33.1877,\n",
      "        33.1309, 34.3542, 34.3331, 19.6727, 19.7277, 19.1535, 20.3358, 20.0854,\n",
      "        18.3802, 17.8765, 18.0335, 18.0656, 17.9098, 16.6961, 17.4037, 17.3382,\n",
      "        18.6826, 19.1094, 18.4614, 18.2050, 18.1309, 17.3659, 17.0560, 16.5620],\n",
      "       device='cuda:0', dtype=torch.float64)\n",
      "\n"
     ]
    },
    {
     "name": "stderr",
     "output_type": "stream",
     "text": [
      "\r",
      "Eval:  27%|██▋       | 295/1110 [04:30<06:51,  1.98it/s]"
     ]
    },
    {
     "name": "stdout",
     "output_type": "stream",
     "text": [
      "orientation_error\n",
      "tensor([16.2862, 17.3678, 22.3196, 24.3874, 19.5714, 19.9535, 21.2982, 23.3861,\n",
      "        23.8036, 24.0044, 24.3564, 24.3335, 23.8686, 23.7704, 23.4657, 22.2382,\n",
      "        22.2588, 21.9588, 21.9375, 21.7130, 22.0688, 22.0686, 21.7358, 21.5636,\n",
      "        22.1309, 24.1129, 34.5884, 34.3388, 34.2620, 34.9209, 35.7640, 35.3335],\n",
      "       device='cuda:0', dtype=torch.float64)\n",
      "\n"
     ]
    },
    {
     "name": "stderr",
     "output_type": "stream",
     "text": [
      "\r",
      "Eval:  27%|██▋       | 296/1110 [04:30<06:28,  2.10it/s]"
     ]
    },
    {
     "name": "stdout",
     "output_type": "stream",
     "text": [
      "orientation_error\n",
      "tensor([22.8423, 22.8234, 34.1182, 34.3689, 36.7898, 35.9574, 36.2768, 36.9238,\n",
      "        36.5633, 22.5279, 23.2318, 21.8239, 36.3995, 36.9676, 37.8746, 37.9073,\n",
      "        37.8731, 37.9579, 37.1586, 36.6741, 35.5866, 35.9173, 35.2611, 34.2342,\n",
      "        34.8586, 34.5718, 20.5955, 21.1490, 21.0032, 19.9660, 24.0965, 19.2056],\n",
      "       device='cuda:0', dtype=torch.float64)\n",
      "\n"
     ]
    },
    {
     "name": "stderr",
     "output_type": "stream",
     "text": [
      "\r",
      "Eval:  27%|██▋       | 297/1110 [04:30<05:57,  2.28it/s]"
     ]
    },
    {
     "name": "stdout",
     "output_type": "stream",
     "text": [
      "orientation_error\n",
      "tensor([17.6489, 31.9356, 33.5670, 33.9739, 34.0731, 35.5257, 35.8401, 35.2408,\n",
      "        35.5711, 35.2125, 35.6099, 35.9395, 34.7782, 34.3351, 35.0737, 33.9288,\n",
      "        22.4425, 32.9479, 32.9633, 33.0005, 33.4792, 33.9546, 33.1002, 19.0305,\n",
      "        19.8258, 19.6476, 35.5620, 34.3626, 34.8705, 36.2340, 22.5577, 23.3435],\n",
      "       device='cuda:0', dtype=torch.float64)\n",
      "\n"
     ]
    },
    {
     "name": "stderr",
     "output_type": "stream",
     "text": [
      "\r",
      "Eval:  27%|██▋       | 298/1110 [04:31<06:03,  2.23it/s]"
     ]
    },
    {
     "name": "stdout",
     "output_type": "stream",
     "text": [
      "orientation_error\n",
      "tensor([23.2379, 24.7247, 23.1163, 22.8045, 24.3836, 24.9902, 22.6608, 24.1312,\n",
      "        23.0023, 22.4783, 21.9606, 21.5055, 20.0627, 19.9501, 19.4780, 18.8866,\n",
      "        18.2855, 17.5875, 17.9925, 17.9906, 19.0131, 18.5327, 17.5922, 17.4292,\n",
      "        17.6007, 17.3019, 17.5585, 17.0970, 17.1419, 17.2881, 16.9835, 16.6923],\n",
      "       device='cuda:0', dtype=torch.float64)\n",
      "\n"
     ]
    },
    {
     "name": "stderr",
     "output_type": "stream",
     "text": [
      "\r",
      "Eval:  27%|██▋       | 299/1110 [04:31<05:46,  2.34it/s]"
     ]
    },
    {
     "name": "stdout",
     "output_type": "stream",
     "text": [
      "orientation_error\n",
      "tensor([17.0736, 17.4887, 17.7376, 18.4147, 18.8374, 19.5004, 19.8892, 20.0452,\n",
      "        20.7557, 20.7398, 19.9714, 19.9641, 19.5501, 19.0146, 19.6080, 19.9221,\n",
      "        19.9646, 20.8922, 21.5062, 37.2210, 38.4185, 39.1691, 38.9790, 24.2188,\n",
      "        24.8276, 25.0594, 25.1811, 24.5705, 24.1949, 23.4867, 23.0606, 23.0994],\n",
      "       device='cuda:0', dtype=torch.float64)\n",
      "\n"
     ]
    },
    {
     "name": "stderr",
     "output_type": "stream",
     "text": [
      "\r",
      "Eval:  27%|██▋       | 300/1110 [04:32<06:00,  2.25it/s]"
     ]
    },
    {
     "name": "stdout",
     "output_type": "stream",
     "text": [
      "orientation_error\n",
      "tensor([22.8089, 22.5153, 21.7946, 21.5511, 21.1930, 21.2170, 21.4065, 21.4120,\n",
      "        21.3532, 21.1301, 21.2364, 35.7981, 21.8204, 37.0457, 37.1024, 22.6908,\n",
      "        23.0475, 37.2876, 36.5641, 36.6333, 36.9767, 37.1722, 38.1200, 38.8704,\n",
      "        38.8339, 38.4370, 38.1160, 37.9569, 37.6213, 37.7934, 37.3945, 36.8518],\n",
      "       device='cuda:0', dtype=torch.float64)\n",
      "\n",
      "MPJPE: 101.2368943148221\n",
      "Reconstruction Error: 59.40012613301287\n",
      "\n",
      "Orientation error: 32.07436772347303\n"
     ]
    },
    {
     "name": "stderr",
     "output_type": "stream",
     "text": [
      "\r",
      "Eval:  27%|██▋       | 301/1110 [04:32<05:43,  2.36it/s]"
     ]
    },
    {
     "name": "stdout",
     "output_type": "stream",
     "text": [
      "orientation_error\n",
      "tensor([36.7759, 36.8717, 22.9211, 37.8139, 38.5201, 38.1052, 38.1368, 37.4632,\n",
      "        37.2017, 23.4166, 23.6016, 23.4914, 23.1436, 23.3440, 23.0105, 23.1119,\n",
      "        22.8689, 22.4969, 22.2135, 22.0818, 36.2804, 36.5945, 37.4493, 37.8774,\n",
      "        37.9273, 37.6812, 36.9290, 36.7322, 36.2713, 36.2154, 35.9924, 35.9142],\n",
      "       device='cuda:0', dtype=torch.float64)\n",
      "\n"
     ]
    },
    {
     "name": "stderr",
     "output_type": "stream",
     "text": [
      "\r",
      "Eval:  27%|██▋       | 302/1110 [04:32<05:30,  2.45it/s]"
     ]
    },
    {
     "name": "stdout",
     "output_type": "stream",
     "text": [
      "orientation_error\n",
      "tensor([35.9901, 35.8474, 35.6393, 20.9683, 35.0407, 20.7202, 35.2991, 34.8011,\n",
      "        20.2031, 20.2230, 20.4575, 20.4325, 20.5522, 20.4954, 20.4814, 20.2949,\n",
      "        20.3432, 20.3309, 19.9398, 19.3684, 18.9155, 18.7660, 18.6875, 19.0645,\n",
      "        32.7781, 18.6696, 18.7949, 18.7031, 18.7833, 18.6452, 18.4523, 18.0880],\n",
      "       device='cuda:0', dtype=torch.float64)\n",
      "\n"
     ]
    },
    {
     "name": "stderr",
     "output_type": "stream",
     "text": [
      "\r",
      "Eval:  27%|██▋       | 303/1110 [04:33<05:30,  2.44it/s]"
     ]
    },
    {
     "name": "stdout",
     "output_type": "stream",
     "text": [
      "orientation_error\n",
      "tensor([17.9261, 17.5863, 17.6979, 17.9024, 18.0468, 18.2229, 18.9099, 19.1149,\n",
      "        19.3810, 19.9293, 19.8068, 19.9212, 34.2678, 34.3178, 34.0525, 34.1577,\n",
      "        34.2786, 34.8393, 35.3397, 35.2139, 35.4653, 35.8910, 36.5256, 35.7639,\n",
      "        35.7496, 35.6558, 35.7164, 35.7508, 36.1365, 36.4730, 36.3786, 35.9557],\n",
      "       device='cuda:0', dtype=torch.float64)\n",
      "\n"
     ]
    },
    {
     "name": "stderr",
     "output_type": "stream",
     "text": [
      "\r",
      "Eval:  27%|██▋       | 304/1110 [04:33<05:48,  2.31it/s]"
     ]
    },
    {
     "name": "stdout",
     "output_type": "stream",
     "text": [
      "orientation_error\n",
      "tensor([35.7489, 35.7533, 35.0603, 35.0830, 35.7841, 35.3997, 34.9588, 34.9243,\n",
      "        34.8174, 34.7535, 34.8287, 35.1192, 35.4297, 35.7784, 36.1101, 35.9671,\n",
      "        36.0367, 36.1399, 36.0368, 36.6405, 36.8715, 37.0688, 37.1028, 37.1269,\n",
      "        37.1919, 37.2006, 37.1524, 37.2042, 37.2023, 37.1017, 37.1773, 37.0725],\n",
      "       device='cuda:0', dtype=torch.float64)\n",
      "\n"
     ]
    },
    {
     "name": "stderr",
     "output_type": "stream",
     "text": [
      "\r",
      "Eval:  27%|██▋       | 305/1110 [04:34<06:21,  2.11it/s]"
     ]
    },
    {
     "name": "stdout",
     "output_type": "stream",
     "text": [
      "orientation_error\n",
      "tensor([37.2020, 37.3331, 37.5171, 37.2441, 37.3184, 36.9741, 36.8701, 36.8549,\n",
      "        36.7387, 36.6634, 36.7958, 36.5045, 36.4865, 32.6607, 33.4101, 33.8684,\n",
      "        34.3981, 34.6378, 34.6490, 35.0265, 35.1277, 35.2622, 35.3673, 21.5453,\n",
      "        35.7155, 21.3346, 21.1425, 35.2071, 21.0905, 35.0492, 34.7704, 34.4721],\n",
      "       device='cuda:0', dtype=torch.float64)\n",
      "\n"
     ]
    },
    {
     "name": "stderr",
     "output_type": "stream",
     "text": [
      "\r",
      "Eval:  28%|██▊       | 306/1110 [04:34<06:02,  2.22it/s]"
     ]
    },
    {
     "name": "stdout",
     "output_type": "stream",
     "text": [
      "orientation_error\n",
      "tensor([34.3945, 33.8275, 34.0824, 33.6266, 33.6513, 34.4918, 35.1310, 35.2654,\n",
      "        35.8877, 35.8409, 35.3723, 35.0929, 34.9503, 20.2277, 19.4773, 19.0489,\n",
      "        18.7745, 18.9581, 18.6791, 18.3660, 18.4872, 18.5625, 18.8111, 18.7870,\n",
      "        18.7645, 18.4076, 18.5049, 17.5819, 17.0373, 18.6072, 20.3543, 22.2561],\n",
      "       device='cuda:0', dtype=torch.float64)\n",
      "\n",
      "orientation_error\n",
      "tensor([24.0170, 23.6657, 21.4953, 20.4119, 20.5974, 18.6689, 18.7749, 17.9550,\n",
      "        17.1086, 17.2811, 31.7371, 30.9560, 30.3726, 29.8736, 29.6409, 30.0903,\n",
      "        30.3866, 32.2046, 33.3602, 34.0209, 34.3549, 34.5529, 34.8687, 34.3061,\n",
      "        33.6362, 32.5373, 17.0696, 17.2315, 16.9311, 16.4136, 16.3599, 16.2708],\n",
      "       device='cuda:0', dtype=torch.float64)\n",
      "\n"
     ]
    },
    {
     "name": "stderr",
     "output_type": "stream",
     "text": [
      "Eval:  28%|██▊       | 308/1110 [04:35<06:46,  1.97it/s]"
     ]
    },
    {
     "name": "stdout",
     "output_type": "stream",
     "text": [
      "orientation_error\n",
      "tensor([16.0020, 15.6124, 15.5516, 15.5797, 31.3093, 32.4256, 33.2046, 34.5261,\n",
      "        34.7737, 34.8087, 34.9995, 34.6970, 35.1953, 19.9201, 34.2902, 19.4687,\n",
      "        18.4573, 18.0695, 17.5856, 16.9603, 17.0989, 17.3374, 16.9025, 16.9558,\n",
      "        16.8882, 17.9191, 17.8000, 17.6205, 17.6711, 17.9125, 17.6795, 17.6736],\n",
      "       device='cuda:0', dtype=torch.float64)\n",
      "\n"
     ]
    },
    {
     "name": "stderr",
     "output_type": "stream",
     "text": [
      "\r",
      "Eval:  28%|██▊       | 309/1110 [04:36<07:05,  1.88it/s]"
     ]
    },
    {
     "name": "stdout",
     "output_type": "stream",
     "text": [
      "orientation_error\n",
      "tensor([17.3603, 17.8142, 17.6078, 17.5098, 17.2355, 17.8902, 17.9106, 18.2335,\n",
      "        17.9991, 18.0714, 32.9697, 33.0980, 33.4644, 18.4167, 17.9969, 17.8846,\n",
      "        17.4441, 17.5485, 18.0944, 20.9907, 18.1895, 27.5732, 28.4523, 28.3759,\n",
      "        28.2423, 28.1998, 28.5207, 27.6916, 27.2719, 26.7347, 25.1517, 22.6957],\n",
      "       device='cuda:0', dtype=torch.float64)\n",
      "\n"
     ]
    },
    {
     "name": "stderr",
     "output_type": "stream",
     "text": [
      "\r",
      "Eval:  28%|██▊       | 310/1110 [04:37<08:06,  1.65it/s]"
     ]
    },
    {
     "name": "stdout",
     "output_type": "stream",
     "text": [
      "orientation_error\n",
      "tensor([20.3989, 19.2925, 19.1312, 19.6974, 18.9589, 18.4519, 17.9356, 18.3877,\n",
      "        18.2917, 19.1285, 18.8515, 18.9750, 33.8783, 21.1222, 21.2418, 21.4876,\n",
      "        22.4983, 22.9906, 31.2898, 33.3371, 35.0022, 32.8295, 31.5939, 33.9605,\n",
      "        31.4190, 32.5246, 23.6345, 21.4282, 22.0586, 21.0786, 21.0144, 20.8957],\n",
      "       device='cuda:0', dtype=torch.float64)\n",
      "\n"
     ]
    },
    {
     "name": "stderr",
     "output_type": "stream",
     "text": [
      "\r",
      "Eval:  28%|██▊       | 311/1110 [04:37<08:04,  1.65it/s]"
     ]
    },
    {
     "name": "stdout",
     "output_type": "stream",
     "text": [
      "orientation_error\n",
      "tensor([21.3426, 22.0507, 22.5825, 23.4115, 23.0702, 23.5630, 23.8391, 23.9438,\n",
      "        24.1280, 24.1896, 24.6855, 23.9918, 23.0350, 23.1005, 23.0926, 22.7657,\n",
      "        24.5880, 23.1601, 28.8765, 30.0857, 27.4393, 27.9407, 29.2128, 22.0099,\n",
      "        24.0223, 34.9113, 34.9787, 33.1212, 31.6807, 27.8251, 32.4273, 34.7599],\n",
      "       device='cuda:0', dtype=torch.float64)\n",
      "\n"
     ]
    },
    {
     "name": "stderr",
     "output_type": "stream",
     "text": [
      "\r",
      "Eval:  28%|██▊       | 312/1110 [04:38<08:21,  1.59it/s]"
     ]
    },
    {
     "name": "stdout",
     "output_type": "stream",
     "text": [
      "orientation_error\n",
      "tensor([32.6993, 33.0939, 29.3861, 26.3440, 27.6874, 27.3973, 27.3651, 31.0655,\n",
      "        23.7122, 22.5950, 34.3069, 34.0770, 34.9842, 34.9050, 33.9716, 33.9077,\n",
      "        34.5522, 34.5401, 20.0807, 18.6419, 19.5945, 22.2509, 22.5155, 22.9502,\n",
      "        23.7446, 23.9622, 35.5079, 27.6130, 25.3606, 24.9166, 24.2103, 23.2398],\n",
      "       device='cuda:0', dtype=torch.float64)\n",
      "\n"
     ]
    },
    {
     "name": "stderr",
     "output_type": "stream",
     "text": [
      "\r",
      "Eval:  28%|██▊       | 313/1110 [04:39<08:05,  1.64it/s]"
     ]
    },
    {
     "name": "stdout",
     "output_type": "stream",
     "text": [
      "orientation_error\n",
      "tensor([23.8410, 22.2515, 20.5983, 22.0256, 21.8321, 22.6205, 22.4608, 21.5782,\n",
      "        43.7317, 22.7154, 43.4386, 38.6910, 39.4391, 21.3865, 20.8300, 19.9641,\n",
      "        19.1219, 21.2093, 20.6528, 22.8432, 22.2744, 26.6572, 27.8148, 27.1167,\n",
      "        26.0686, 26.2896, 27.5593, 28.0899, 28.2375, 27.7852, 27.2977, 27.4895],\n",
      "       device='cuda:0', dtype=torch.float64)\n",
      "\n"
     ]
    },
    {
     "name": "stderr",
     "output_type": "stream",
     "text": [
      "\r",
      "Eval:  28%|██▊       | 314/1110 [04:39<08:46,  1.51it/s]"
     ]
    },
    {
     "name": "stdout",
     "output_type": "stream",
     "text": [
      "orientation_error\n",
      "tensor([30.1722, 31.5078, 36.4250, 41.1546, 40.3256, 33.0004, 40.7141, 41.4901,\n",
      "        46.1253, 40.4111, 43.1674, 44.7385, 46.4874, 54.8717, 60.5911, 48.4699,\n",
      "        47.5744, 47.1300, 46.2776, 46.6125, 46.3524, 46.0005, 48.7883, 45.7081,\n",
      "        44.7711, 44.6408, 43.9537, 44.2468, 44.5164, 44.2612, 44.4616, 44.2046],\n",
      "       device='cuda:0', dtype=torch.float64)\n",
      "\n",
      "orientation_error\n",
      "tensor([44.4575, 44.6964, 44.6516, 44.5394, 44.5220, 44.6157, 44.3292, 44.9139,\n",
      "        45.1033, 45.0989, 45.2624, 45.2128, 44.9563, 45.2330, 45.4110, 45.4856,\n",
      "        45.5579, 45.7169, 45.3164, 45.3177, 45.3297, 45.2410, 45.2323, 44.9674,\n",
      "        45.1490, 45.0583, 44.7861, 45.0893, 44.8106, 45.0174, 44.9555, 45.1793],\n",
      "       device='cuda:0', dtype=torch.float64)\n",
      "\n"
     ]
    },
    {
     "name": "stderr",
     "output_type": "stream",
     "text": [
      "Eval:  28%|██▊       | 316/1110 [04:41<09:55,  1.33it/s]"
     ]
    },
    {
     "name": "stdout",
     "output_type": "stream",
     "text": [
      "orientation_error\n",
      "tensor([44.6795, 44.7689, 44.6359, 44.5234, 44.2659, 44.6141, 44.6567, 44.6298,\n",
      "        44.6980, 44.5870, 44.2606, 44.3333, 44.6012, 44.3387, 44.6983, 44.6830,\n",
      "        44.4368, 44.3528, 44.6256, 44.7855, 44.6716, 44.3358, 44.4671, 44.5413,\n",
      "        44.3832, 44.1987, 44.2719, 44.3665, 44.4386, 44.3859, 44.3945, 44.2743],\n",
      "       device='cuda:0', dtype=torch.float64)\n",
      "\n"
     ]
    },
    {
     "name": "stderr",
     "output_type": "stream",
     "text": [
      "\r",
      "Eval:  29%|██▊       | 317/1110 [04:42<09:06,  1.45it/s]"
     ]
    },
    {
     "name": "stdout",
     "output_type": "stream",
     "text": [
      "orientation_error\n",
      "tensor([44.5307, 44.5260, 44.6284, 44.5700, 45.1175, 45.0003, 45.1723, 45.0908,\n",
      "        45.0519, 45.3357, 45.4293, 45.4404, 45.5916, 45.5092, 45.3423, 44.8498,\n",
      "        45.0368, 45.2888, 45.3238, 45.3737, 45.1371, 44.9252, 44.8901, 44.8075,\n",
      "        44.6655, 44.5174, 44.9076, 44.6553, 44.8255, 44.9285, 44.6351, 44.4173],\n",
      "       device='cuda:0', dtype=torch.float64)\n",
      "\n"
     ]
    },
    {
     "name": "stderr",
     "output_type": "stream",
     "text": [
      "\r",
      "Eval:  29%|██▊       | 318/1110 [04:42<08:36,  1.53it/s]"
     ]
    },
    {
     "name": "stdout",
     "output_type": "stream",
     "text": [
      "orientation_error\n",
      "tensor([44.4250, 44.2160, 44.0123, 43.8538, 43.9679, 43.8364, 43.7463, 43.8164,\n",
      "        43.8086, 43.8174, 43.8149, 43.9439, 43.8114, 43.6123, 43.9227, 43.9132,\n",
      "        43.6618, 44.0230, 43.9466, 43.9041, 44.1035, 44.2218, 43.8954, 44.0878,\n",
      "        43.9086, 43.9190, 43.7963, 43.5234, 43.6505, 43.2129, 43.0709, 43.3642],\n",
      "       device='cuda:0', dtype=torch.float64)\n",
      "\n"
     ]
    },
    {
     "name": "stderr",
     "output_type": "stream",
     "text": [
      "\r",
      "Eval:  29%|██▊       | 319/1110 [04:43<07:14,  1.82it/s]"
     ]
    },
    {
     "name": "stdout",
     "output_type": "stream",
     "text": [
      "orientation_error\n",
      "tensor([43.1974, 43.8420, 44.0093, 44.4623, 44.7190, 43.9584, 43.9665, 43.2748,\n",
      "        43.0925, 43.3808, 43.1931, 43.0460, 42.9539, 43.1640, 42.7801, 42.7058,\n",
      "        42.4545, 43.0634, 43.1717, 43.3602, 43.9125, 44.1857, 44.0917, 43.7856,\n",
      "        43.8135, 43.8648, 44.1905, 44.3207, 44.3444, 44.3011, 44.3951, 44.6525],\n",
      "       device='cuda:0', dtype=torch.float64)\n",
      "\n"
     ]
    },
    {
     "name": "stderr",
     "output_type": "stream",
     "text": [
      "\r",
      "Eval:  29%|██▉       | 320/1110 [04:43<06:35,  2.00it/s]"
     ]
    },
    {
     "name": "stdout",
     "output_type": "stream",
     "text": [
      "orientation_error\n",
      "tensor([44.4252, 44.5579, 44.1588, 43.8677, 43.6978, 43.6469, 43.8835, 44.1738,\n",
      "        44.2645, 44.4304, 44.3364, 44.4134, 43.9990, 43.7598, 43.2425, 42.5045,\n",
      "        40.7393, 37.8074, 34.5361, 28.3607, 24.4663, 24.4202, 23.7958, 23.2359,\n",
      "        22.8065, 21.7830, 21.9020, 21.5442, 21.0535, 20.4988, 20.3368, 20.3813],\n",
      "       device='cuda:0', dtype=torch.float64)\n",
      "\n",
      "MPJPE: 100.787596164715\n",
      "Reconstruction Error: 58.77969346847093\n",
      "\n",
      "Orientation error: 32.10334512223757\n"
     ]
    },
    {
     "name": "stderr",
     "output_type": "stream",
     "text": [
      "\r",
      "Eval:  29%|██▉       | 321/1110 [04:43<06:54,  1.90it/s]"
     ]
    },
    {
     "name": "stdout",
     "output_type": "stream",
     "text": [
      "orientation_error\n",
      "tensor([20.4418, 20.7963, 20.8286, 20.7762, 20.6980, 20.2091, 21.0479, 20.6955,\n",
      "        20.9048, 21.5145, 21.7643, 21.7051, 22.0182, 22.0581, 22.1804, 22.9724,\n",
      "        23.2713, 23.2612, 23.3301, 23.1807, 24.0359, 23.6979, 24.0904, 23.5020,\n",
      "        23.3385, 23.5690, 23.6191, 23.4945, 23.4386, 23.3176, 23.4049, 23.4956],\n",
      "       device='cuda:0', dtype=torch.float64)\n",
      "\n"
     ]
    },
    {
     "name": "stderr",
     "output_type": "stream",
     "text": [
      "\r",
      "Eval:  29%|██▉       | 322/1110 [04:44<06:51,  1.92it/s]"
     ]
    },
    {
     "name": "stdout",
     "output_type": "stream",
     "text": [
      "orientation_error\n",
      "tensor([23.6727, 23.6041, 23.8702, 23.6136, 23.6644, 23.5667, 23.7079, 23.7304,\n",
      "        23.5210, 23.5441, 23.4774, 23.4765, 23.8799, 23.8356, 23.7937, 23.7940,\n",
      "        23.9429, 23.8983, 23.8158, 23.7930, 23.9376, 24.0113, 24.0851, 24.1442,\n",
      "        24.6275, 24.6101, 24.5607, 24.2948, 24.4640, 24.2194, 23.8645, 23.7127],\n",
      "       device='cuda:0', dtype=torch.float64)\n",
      "\n"
     ]
    },
    {
     "name": "stderr",
     "output_type": "stream",
     "text": [
      "\r",
      "Eval:  29%|██▉       | 323/1110 [04:44<06:38,  1.97it/s]"
     ]
    },
    {
     "name": "stdout",
     "output_type": "stream",
     "text": [
      "orientation_error\n",
      "tensor([23.7994, 23.4351, 23.5186, 22.8536, 22.1138, 20.7845, 20.1896, 18.9666,\n",
      "        18.8774, 19.0914, 18.5921, 18.4995, 18.8818, 19.9793, 19.5025, 18.9699,\n",
      "        17.8477, 17.7068, 18.6247, 19.2382, 19.8909, 20.4999, 20.7963, 20.6874,\n",
      "        20.4817, 20.3168, 20.2529, 20.0545, 20.3271, 20.2395, 34.9848, 34.9097],\n",
      "       device='cuda:0', dtype=torch.float64)\n",
      "\n"
     ]
    },
    {
     "name": "stderr",
     "output_type": "stream",
     "text": [
      "\r",
      "Eval:  29%|██▉       | 324/1110 [04:45<06:33,  2.00it/s]"
     ]
    },
    {
     "name": "stdout",
     "output_type": "stream",
     "text": [
      "orientation_error\n",
      "tensor([35.0667, 20.0492, 19.3787, 18.9926, 19.0752, 19.4415, 19.5850, 18.8822,\n",
      "        18.8120, 18.1004, 17.4894, 17.5046, 17.3595, 18.3537, 19.7957, 20.3946,\n",
      "        21.6938, 22.0396, 21.9955, 22.0657, 22.4927, 23.5539, 23.8231, 24.4068,\n",
      "        24.4784, 25.3122, 23.9714, 22.9031, 22.2229, 21.7378, 19.5944, 19.8153],\n",
      "       device='cuda:0', dtype=torch.float64)\n",
      "\n"
     ]
    },
    {
     "name": "stderr",
     "output_type": "stream",
     "text": [
      "\r",
      "Eval:  29%|██▉       | 325/1110 [04:45<06:09,  2.12it/s]"
     ]
    },
    {
     "name": "stdout",
     "output_type": "stream",
     "text": [
      "orientation_error\n",
      "tensor([20.7319, 20.6242, 19.9450, 20.6430, 20.9361, 21.1151, 20.6411, 20.8345,\n",
      "        20.3785, 20.0414, 20.0923, 20.5603, 21.1304, 21.4344, 21.6151, 22.0964,\n",
      "        23.1121, 23.2772, 23.7857, 24.0802, 24.1970, 24.6415, 24.6323, 25.1768,\n",
      "        25.5453, 26.4228, 25.9107, 25.3114, 24.5641, 23.6067, 22.6158, 21.2345],\n",
      "       device='cuda:0', dtype=torch.float64)\n",
      "\n"
     ]
    },
    {
     "name": "stderr",
     "output_type": "stream",
     "text": [
      "\r",
      "Eval:  29%|██▉       | 326/1110 [04:46<05:47,  2.26it/s]"
     ]
    },
    {
     "name": "stdout",
     "output_type": "stream",
     "text": [
      "orientation_error\n",
      "tensor([20.3352, 19.2062, 18.7469, 18.4281, 17.7747, 17.8045, 18.0677, 18.0359,\n",
      "        17.9251, 18.1638, 18.5549, 33.0890, 19.2975, 19.3523, 33.1083, 32.9547,\n",
      "        19.7765, 20.0203, 19.5442, 19.3110, 18.6438, 17.7776, 18.1268, 17.5851,\n",
      "        16.4542, 29.7348, 29.5379, 29.6684, 29.9009, 30.2103, 30.9329, 31.6712],\n",
      "       device='cuda:0', dtype=torch.float64)\n",
      "\n"
     ]
    },
    {
     "name": "stderr",
     "output_type": "stream",
     "text": [
      "\r",
      "Eval:  29%|██▉       | 327/1110 [04:46<05:51,  2.23it/s]"
     ]
    },
    {
     "name": "stdout",
     "output_type": "stream",
     "text": [
      "orientation_error\n",
      "tensor([32.5429, 33.1871, 19.6625, 19.9267, 33.9506, 34.2570, 34.4735, 34.4294,\n",
      "        34.5015, 34.3662, 20.4531, 20.6078, 20.6912, 20.5559, 20.3355, 34.1613,\n",
      "        34.4253, 34.1980, 34.2452, 20.6724, 34.7570, 34.8194, 34.6946, 34.4878,\n",
      "        20.5212, 34.6077, 20.6312, 20.8011, 35.1714, 35.0978, 35.0415, 34.9448],\n",
      "       device='cuda:0', dtype=torch.float64)\n",
      "\n"
     ]
    },
    {
     "name": "stderr",
     "output_type": "stream",
     "text": [
      "\r",
      "Eval:  30%|██▉       | 328/1110 [04:47<05:43,  2.28it/s]"
     ]
    },
    {
     "name": "stdout",
     "output_type": "stream",
     "text": [
      "orientation_error\n",
      "tensor([35.1623, 35.0801, 34.9529, 34.9225, 34.7026, 34.7604, 34.6125, 34.3480,\n",
      "        34.4748, 34.5285, 34.6740, 34.7133, 35.0209, 35.0031, 35.2023, 35.1328,\n",
      "        35.0918, 35.3042, 35.2086, 35.3676, 35.3803, 35.5348, 35.4724, 35.5310,\n",
      "        35.5340, 35.6570, 35.6153, 35.8391, 35.8909, 36.0136, 35.8625, 35.9597],\n",
      "       device='cuda:0', dtype=torch.float64)\n",
      "\n"
     ]
    },
    {
     "name": "stderr",
     "output_type": "stream",
     "text": [
      "\r",
      "Eval:  30%|██▉       | 329/1110 [04:47<05:07,  2.54it/s]"
     ]
    },
    {
     "name": "stdout",
     "output_type": "stream",
     "text": [
      "orientation_error\n",
      "tensor([35.8970, 35.7710, 35.5761, 35.6512, 35.3697, 35.4689, 35.4420, 35.4302,\n",
      "        35.4621, 35.6419, 35.8112, 35.9396, 36.1561, 34.1340, 34.1037, 34.2059,\n",
      "        34.5976, 34.5268, 34.1905, 34.1685, 34.5732, 34.9326, 34.9305, 34.7831,\n",
      "        34.7678, 34.7037, 35.0925, 34.7360, 34.6667, 34.4501, 34.8403, 34.6477],\n",
      "       device='cuda:0', dtype=torch.float64)\n",
      "\n"
     ]
    },
    {
     "name": "stderr",
     "output_type": "stream",
     "text": [
      "\r",
      "Eval:  30%|██▉       | 330/1110 [04:47<04:45,  2.73it/s]"
     ]
    },
    {
     "name": "stdout",
     "output_type": "stream",
     "text": [
      "orientation_error\n",
      "tensor([35.0814, 34.9061, 35.0858, 35.1280, 35.1445, 35.2010, 34.8409, 35.0844,\n",
      "        35.1578, 35.1501, 35.3375, 35.6115, 35.7055, 35.1996, 35.1806, 35.0857,\n",
      "        35.0166, 34.9421, 34.8680, 34.9536, 35.0284, 35.2932, 35.5798, 35.4690,\n",
      "        35.4783, 35.1922, 35.1068, 34.9915, 34.8082, 34.8589, 34.8192, 34.6274],\n",
      "       device='cuda:0', dtype=torch.float64)\n",
      "\n"
     ]
    },
    {
     "name": "stderr",
     "output_type": "stream",
     "text": [
      "\r",
      "Eval:  30%|██▉       | 331/1110 [04:48<04:42,  2.75it/s]"
     ]
    },
    {
     "name": "stdout",
     "output_type": "stream",
     "text": [
      "orientation_error\n",
      "tensor([34.7348, 34.9012, 34.7136, 35.2233, 35.0716, 35.0016, 34.5904, 34.3078,\n",
      "        34.9795, 35.0057, 34.8572, 34.5731, 34.7998, 35.3527, 35.9413, 41.2793,\n",
      "        42.4866, 43.7986, 42.1643, 41.8309, 39.3499, 37.6577, 39.7591, 37.8925,\n",
      "        36.8329, 37.2833, 47.9538, 46.7733, 28.3272, 24.8962, 36.1395, 22.2609],\n",
      "       device='cuda:0', dtype=torch.float64)\n",
      "\n"
     ]
    },
    {
     "name": "stderr",
     "output_type": "stream",
     "text": [
      "\r",
      "Eval:  30%|██▉       | 332/1110 [04:48<04:31,  2.86it/s]"
     ]
    },
    {
     "name": "stdout",
     "output_type": "stream",
     "text": [
      "orientation_error\n",
      "tensor([36.4634, 37.8264, 38.4391, 38.6563, 39.0012, 39.2157, 40.4879, 38.2429,\n",
      "        38.8563, 38.0393, 37.9504, 37.0163, 23.8138, 25.1219, 28.1948, 25.6836,\n",
      "        26.2140, 42.2041, 41.2865, 35.9504, 35.5540, 37.5324, 36.5021, 37.2157,\n",
      "        36.4184, 35.1604, 35.5292, 35.4866, 36.0737, 44.3660, 29.5073, 26.7676],\n",
      "       device='cuda:0', dtype=torch.float64)\n",
      "\n"
     ]
    },
    {
     "name": "stderr",
     "output_type": "stream",
     "text": [
      "\r",
      "Eval:  30%|███       | 333/1110 [04:48<04:31,  2.86it/s]"
     ]
    },
    {
     "name": "stdout",
     "output_type": "stream",
     "text": [
      "orientation_error\n",
      "tensor([39.2477, 37.1124, 36.8857, 38.2297, 38.6475, 39.0257, 39.3328, 38.8779,\n",
      "        38.0191, 38.6526, 38.7431, 38.3801, 38.4963, 38.1022, 37.8880, 38.9474,\n",
      "        38.4629, 39.3341, 38.5820, 37.7763, 37.7935, 38.2860, 36.6163, 36.2744,\n",
      "        35.6297, 35.6116, 35.3479, 36.1013, 36.9969, 36.5297, 37.8417, 37.4131],\n",
      "       device='cuda:0', dtype=torch.float64)\n",
      "\n"
     ]
    },
    {
     "name": "stderr",
     "output_type": "stream",
     "text": [
      "\r",
      "Eval:  30%|███       | 334/1110 [04:49<04:51,  2.66it/s]"
     ]
    },
    {
     "name": "stdout",
     "output_type": "stream",
     "text": [
      "orientation_error\n",
      "tensor([38.4078, 39.2098, 40.2528, 40.8428, 39.9758, 40.3821, 40.3404, 39.4081,\n",
      "        24.0524, 22.8968, 22.8627, 37.8053, 38.5688, 38.5075, 38.5407, 38.2403,\n",
      "        37.9409, 38.1579, 38.5080, 37.7963, 39.2597, 37.6723, 37.2503, 37.4075,\n",
      "        36.4992, 36.3677, 36.9009, 36.8681, 37.6594, 37.4346, 38.7636, 39.5449],\n",
      "       device='cuda:0', dtype=torch.float64)\n",
      "\n"
     ]
    },
    {
     "name": "stderr",
     "output_type": "stream",
     "text": [
      "\r",
      "Eval:  30%|███       | 335/1110 [04:49<05:31,  2.34it/s]"
     ]
    },
    {
     "name": "stdout",
     "output_type": "stream",
     "text": [
      "orientation_error\n",
      "tensor([40.3618, 39.3539, 39.6259, 38.9802, 37.2564, 37.0145, 21.3665, 35.8785,\n",
      "        36.2612, 35.7711, 36.0122, 35.3755, 35.4837, 34.5441, 33.5290, 34.9737,\n",
      "        33.5768, 34.5392, 34.9449, 33.9963, 32.9907, 33.4512, 32.8969, 36.8059,\n",
      "        52.6929, 55.3555, 56.9551, 57.8247, 58.3304, 49.7433, 50.5300, 50.6425],\n",
      "       device='cuda:0', dtype=torch.float64)\n",
      "\n",
      "orientation_error\n",
      "tensor([47.4225, 35.6193, 33.7488, 45.3622, 46.9804, 46.8083, 44.6239, 32.0344,\n",
      "        36.4488, 35.9498, 61.2552, 60.3644, 59.8797, 59.7441, 59.3984, 59.6872,\n",
      "        60.6785, 60.8612, 60.8189, 60.0948, 59.5143, 48.2412, 32.9862, 47.2331,\n",
      "        47.4114, 48.5126, 48.3747, 48.6645, 48.4343, 34.0234, 34.6944, 33.3677],\n",
      "       device='cuda:0', dtype=torch.float64)\n",
      "\n"
     ]
    },
    {
     "name": "stderr",
     "output_type": "stream",
     "text": [
      "Eval:  30%|███       | 337/1110 [04:50<06:26,  2.00it/s]"
     ]
    },
    {
     "name": "stdout",
     "output_type": "stream",
     "text": [
      "orientation_error\n",
      "tensor([33.3061, 33.2693, 32.8014, 31.9884, 32.8049, 32.9461, 19.5089, 34.1993,\n",
      "        35.1402, 36.1882, 36.1531, 36.9192, 37.7713, 50.8484, 51.5619, 38.5085,\n",
      "        38.0818, 36.9232, 36.4908, 49.6960, 35.0359, 34.7121, 33.5057, 33.2536,\n",
      "        33.0566, 46.6725, 47.5510, 48.4356, 49.1094, 36.1530, 36.6621, 35.8588],\n",
      "       device='cuda:0', dtype=torch.float64)\n",
      "\n",
      "orientation_error\n",
      "tensor([36.2259, 35.4215, 35.5728, 35.0734, 35.1840, 35.6755, 35.0251, 35.8608,\n",
      "        37.2527, 36.9576, 36.1972, 35.7688, 22.5697, 22.5132, 38.7428, 40.1179,\n",
      "        40.3634, 40.2566, 39.7059, 25.5649, 24.7689, 26.8239, 25.1965, 36.8447,\n",
      "        23.5006, 25.7267, 25.6703, 26.8677, 36.0487, 47.3223, 46.8784, 48.2668],\n",
      "       device='cuda:0', dtype=torch.float64)\n",
      "\n"
     ]
    },
    {
     "name": "stderr",
     "output_type": "stream",
     "text": [
      "Eval:  31%|███       | 339/1110 [04:52<08:36,  1.49it/s]"
     ]
    },
    {
     "name": "stdout",
     "output_type": "stream",
     "text": [
      "orientation_error\n",
      "tensor([44.9367, 47.5160, 28.9766, 36.0815, 39.7939, 29.9472, 26.4170, 37.8782,\n",
      "        37.1689, 37.2242, 57.1214, 55.4670, 52.9177, 74.9981, 56.9145, 57.1382,\n",
      "        54.3179, 41.1190, 43.8615, 42.3855, 41.5582, 52.1612, 55.2939, 39.6589,\n",
      "        39.3740, 39.5287, 39.4263, 50.2241, 50.3294, 61.2733, 61.7451, 60.7520],\n",
      "       device='cuda:0', dtype=torch.float64)\n",
      "\n",
      "orientation_error\n",
      "tensor([62.1127, 77.6114, 78.2014, 77.1718, 76.2367, 49.1309, 46.8302, 44.8563,\n",
      "        44.9841, 45.4053, 46.7168, 48.9748, 48.3384, 50.4756, 51.4690, 66.8761,\n",
      "        50.6456, 53.2055, 51.6402, 53.0984, 50.8575, 48.1076, 50.6116, 57.3213,\n",
      "        59.1019, 58.0469, 58.8651, 57.6875, 56.9046, 57.5465, 56.2368, 55.2706],\n",
      "       device='cuda:0', dtype=torch.float64)\n",
      "\n"
     ]
    },
    {
     "name": "stderr",
     "output_type": "stream",
     "text": [
      "\r",
      "Eval:  31%|███       | 340/1110 [04:53<08:39,  1.48it/s]"
     ]
    },
    {
     "name": "stdout",
     "output_type": "stream",
     "text": [
      "MPJPE: 99.71019655986686\n",
      "Reconstruction Error: 58.42986403965147\n",
      "\n",
      "Orientation error: 32.146537237681\n"
     ]
    },
    {
     "name": "stderr",
     "output_type": "stream",
     "text": [
      "\r",
      "Eval:  31%|███       | 341/1110 [04:54<08:47,  1.46it/s]"
     ]
    },
    {
     "name": "stdout",
     "output_type": "stream",
     "text": [
      "orientation_error\n",
      "tensor([54.1461, 54.8326, 68.1855, 66.4596, 54.6962, 43.3852, 66.7801, 52.7180,\n",
      "        52.5456, 51.7081, 52.2935, 64.1481, 60.7172, 63.2145, 42.6802, 58.9868,\n",
      "        59.9782, 61.3360, 63.4133, 49.6236, 63.2541, 47.0585, 34.5517, 35.0419,\n",
      "        34.8280, 50.6362, 35.0082, 56.0404, 65.1457, 64.1278, 61.0106, 59.1966],\n",
      "       device='cuda:0', dtype=torch.float64)\n",
      "\n"
     ]
    },
    {
     "name": "stderr",
     "output_type": "stream",
     "text": [
      "\r",
      "Eval:  31%|███       | 342/1110 [04:54<07:43,  1.66it/s]"
     ]
    },
    {
     "name": "stdout",
     "output_type": "stream",
     "text": [
      "orientation_error\n",
      "tensor([57.3282, 54.8199, 51.7685, 54.1192, 57.4701, 56.4665, 58.1816, 57.5067,\n",
      "        57.7150, 57.4292, 59.4300, 49.2813, 49.2388, 45.7582, 60.8963, 59.7768,\n",
      "        58.7355, 57.7730, 60.5886, 55.7427, 58.8220, 47.9169, 49.1564, 48.1683,\n",
      "        47.5156, 44.6873, 55.0940, 50.4070, 46.9645, 47.4804, 44.9168, 56.6204],\n",
      "       device='cuda:0', dtype=torch.float64)\n",
      "\n"
     ]
    },
    {
     "name": "stderr",
     "output_type": "stream",
     "text": [
      "\r",
      "Eval:  31%|███       | 343/1110 [04:55<08:07,  1.57it/s]"
     ]
    },
    {
     "name": "stdout",
     "output_type": "stream",
     "text": [
      "orientation_error\n",
      "tensor([55.1020, 57.1442, 56.3792, 55.6006, 56.5165, 56.5491, 58.5663, 56.5439,\n",
      "        47.9445, 43.3333, 36.6740, 30.4298, 20.9778, 19.8743, 19.1557, 32.2832,\n",
      "        31.9719, 32.3200, 32.2207, 32.2113, 32.5265, 32.5996, 32.7080, 33.4458,\n",
      "        33.3401, 33.5614, 33.4942, 33.3911, 33.2468, 33.2205, 33.3305, 19.6594],\n",
      "       device='cuda:0', dtype=torch.float64)\n",
      "\n"
     ]
    },
    {
     "name": "stderr",
     "output_type": "stream",
     "text": [
      "\r",
      "Eval:  31%|███       | 344/1110 [04:55<07:34,  1.69it/s]"
     ]
    },
    {
     "name": "stdout",
     "output_type": "stream",
     "text": [
      "orientation_error\n",
      "tensor([21.2316, 20.1635, 19.9663, 21.1421, 20.4817, 20.7525, 21.3880, 34.7953,\n",
      "        33.4827, 36.2061, 46.4265, 45.7917, 35.9001, 36.0129, 36.9663, 37.8982,\n",
      "        38.6487, 40.1391, 40.2368, 39.4106, 39.9734, 39.0808, 26.8610, 29.1657,\n",
      "        26.5275, 25.3716, 44.0914, 47.1511, 43.4887, 42.9995, 39.5449, 40.4275],\n",
      "       device='cuda:0', dtype=torch.float64)\n",
      "\n"
     ]
    },
    {
     "name": "stderr",
     "output_type": "stream",
     "text": [
      "\r",
      "Eval:  31%|███       | 345/1110 [04:56<08:40,  1.47it/s]"
     ]
    },
    {
     "name": "stdout",
     "output_type": "stream",
     "text": [
      "orientation_error\n",
      "tensor([40.8201, 41.6032, 40.9564, 41.9995, 43.1152, 41.1364, 39.9702, 39.3017,\n",
      "        39.3133, 38.9504, 38.1851, 37.8711, 37.8325, 37.7410, 37.5083, 37.1160,\n",
      "        36.9424, 36.6217, 36.9398, 37.0375, 37.3001, 37.4735, 37.4915, 37.3512,\n",
      "        37.3410, 37.2042, 37.5030, 37.6749, 37.6322, 37.6584, 37.7009, 37.7952],\n",
      "       device='cuda:0', dtype=torch.float64)\n",
      "\n"
     ]
    },
    {
     "name": "stderr",
     "output_type": "stream",
     "text": [
      "\r",
      "Eval:  31%|███       | 346/1110 [04:56<07:00,  1.81it/s]"
     ]
    },
    {
     "name": "stdout",
     "output_type": "stream",
     "text": [
      "orientation_error\n",
      "tensor([37.8028, 37.8866, 37.9174, 34.2802, 34.3544, 34.5768, 34.5736, 34.3499,\n",
      "        34.7923, 34.5162, 34.4628, 34.5245, 34.8474, 34.7620, 34.9930, 34.8376,\n",
      "        34.6957, 34.9830, 34.7633, 34.6968, 34.5245, 34.6199, 34.7989, 34.6069,\n",
      "        34.7019, 34.6887, 34.8415, 34.9310, 34.7411, 34.7986, 34.6764, 34.8546],\n",
      "       device='cuda:0', dtype=torch.float64)\n",
      "\n"
     ]
    },
    {
     "name": "stderr",
     "output_type": "stream",
     "text": [
      "\r",
      "Eval:  31%|███▏      | 347/1110 [04:57<06:30,  1.96it/s]"
     ]
    },
    {
     "name": "stdout",
     "output_type": "stream",
     "text": [
      "orientation_error\n",
      "tensor([34.8855, 34.8174, 35.0557, 35.1727, 34.8975, 34.7541, 35.2432, 34.7249,\n",
      "        34.6047, 34.3231, 35.1064, 35.3241, 35.2582, 35.2508, 35.3159, 34.9664,\n",
      "        34.9023, 34.6658, 34.2216, 33.7600, 33.5283, 33.3375, 32.8889, 33.0989,\n",
      "        33.4506, 33.9213, 34.5284, 34.4448, 34.4261, 34.6368, 34.8513, 35.5736],\n",
      "       device='cuda:0', dtype=torch.float64)\n",
      "\n"
     ]
    },
    {
     "name": "stderr",
     "output_type": "stream",
     "text": [
      "\r",
      "Eval:  31%|███▏      | 348/1110 [04:57<06:08,  2.07it/s]"
     ]
    },
    {
     "name": "stdout",
     "output_type": "stream",
     "text": [
      "orientation_error\n",
      "tensor([35.6433, 35.4132, 34.6626, 34.7541, 34.1687, 34.8048, 34.4731, 34.1724,\n",
      "        34.2065, 33.3713, 33.4715, 33.4493, 34.1784, 34.7885, 35.5039, 35.4911,\n",
      "        35.1763, 35.9342, 34.9900, 35.6030, 35.7955, 36.3378, 36.6330, 21.9292,\n",
      "        21.6940, 20.4002, 20.6122, 21.5386, 21.1939, 20.9409, 21.3077, 21.2681],\n",
      "       device='cuda:0', dtype=torch.float64)\n",
      "\n"
     ]
    },
    {
     "name": "stderr",
     "output_type": "stream",
     "text": [
      "\r",
      "Eval:  31%|███▏      | 349/1110 [04:58<05:51,  2.17it/s]"
     ]
    },
    {
     "name": "stdout",
     "output_type": "stream",
     "text": [
      "orientation_error\n",
      "tensor([20.7642, 20.0782, 20.7561, 35.1737, 34.2330, 34.0858, 34.8838, 36.1317,\n",
      "        37.9025, 38.2299, 22.6529, 21.4828, 19.6488, 19.0822, 18.2071, 17.6942,\n",
      "        18.4162, 18.6447, 19.3935, 19.6900, 34.4300, 34.9350, 34.3665, 35.0697,\n",
      "        35.9419, 36.6139, 36.2642, 21.4664, 35.1742, 34.6465, 34.1216, 34.3363],\n",
      "       device='cuda:0', dtype=torch.float64)\n",
      "\n"
     ]
    },
    {
     "name": "stderr",
     "output_type": "stream",
     "text": [
      "\r",
      "Eval:  32%|███▏      | 350/1110 [04:58<05:01,  2.52it/s]"
     ]
    },
    {
     "name": "stdout",
     "output_type": "stream",
     "text": [
      "orientation_error\n",
      "tensor([18.8517, 20.0688, 20.6215, 20.9080, 21.7666, 21.0410, 21.1548, 21.9398,\n",
      "        37.7526, 37.5528, 37.2122, 36.4889, 20.6316, 20.0601, 18.0780, 32.4306,\n",
      "        32.9414, 18.6599, 19.2555, 34.3658, 34.6205, 34.9090, 35.9716, 36.8912,\n",
      "        37.7184, 37.5443, 37.4844, 37.2228, 36.4148, 35.3325, 34.1531, 34.0311],\n",
      "       device='cuda:0', dtype=torch.float64)\n",
      "\n"
     ]
    },
    {
     "name": "stderr",
     "output_type": "stream",
     "text": [
      "\r",
      "Eval:  32%|███▏      | 351/1110 [04:58<04:37,  2.74it/s]"
     ]
    },
    {
     "name": "stdout",
     "output_type": "stream",
     "text": [
      "orientation_error\n",
      "tensor([33.1542, 33.3911, 18.7391, 18.5904, 19.4707, 20.2148, 20.0483, 18.8079,\n",
      "        17.7261, 17.4927, 32.9377, 18.4524, 18.6696, 18.7067, 19.5781, 20.4803,\n",
      "        21.5787, 23.0260, 37.7414, 38.2236, 36.9923, 36.9115, 36.0146, 35.7146,\n",
      "        35.3937, 34.7836, 19.1447, 18.4265, 18.6937, 18.2477, 18.8427, 18.8087],\n",
      "       device='cuda:0', dtype=torch.float64)\n",
      "\n"
     ]
    },
    {
     "name": "stderr",
     "output_type": "stream",
     "text": [
      "\r",
      "Eval:  32%|███▏      | 352/1110 [04:58<04:17,  2.94it/s]"
     ]
    },
    {
     "name": "stdout",
     "output_type": "stream",
     "text": [
      "orientation_error\n",
      "tensor([19.1701, 20.0579, 21.5164, 22.1644, 22.3929, 21.7625, 20.0244, 20.4427,\n",
      "        19.1198, 19.0259, 33.0714, 33.8000, 34.5814, 20.6809, 21.2176, 22.5676,\n",
      "        22.5959, 23.9568, 38.5474, 38.6057, 38.8909, 37.4642, 36.8194, 36.8660,\n",
      "        35.3813, 34.3913, 19.0498, 17.9755, 18.3778, 17.7905, 32.5797, 32.2586],\n",
      "       device='cuda:0', dtype=torch.float64)\n",
      "\n"
     ]
    },
    {
     "name": "stderr",
     "output_type": "stream",
     "text": [
      "\r",
      "Eval:  32%|███▏      | 353/1110 [04:59<05:29,  2.30it/s]"
     ]
    },
    {
     "name": "stdout",
     "output_type": "stream",
     "text": [
      "orientation_error\n",
      "tensor([32.5649, 19.0456, 20.2346, 21.0133, 20.3645, 19.3467, 17.5236, 17.3808,\n",
      "        16.4208, 15.2110, 15.1252, 15.6172, 31.1622, 17.7063, 19.3669, 19.6200,\n",
      "        35.2421, 36.8994, 36.5788, 22.2298, 36.7034, 36.2088, 34.9053, 34.1726,\n",
      "        33.6181, 33.5558, 32.7301, 17.2353, 17.2529, 32.1536, 31.8339, 31.8883],\n",
      "       device='cuda:0', dtype=torch.float64)\n",
      "\n"
     ]
    },
    {
     "name": "stderr",
     "output_type": "stream",
     "text": [
      "\r",
      "Eval:  32%|███▏      | 354/1110 [04:59<05:05,  2.48it/s]"
     ]
    },
    {
     "name": "stdout",
     "output_type": "stream",
     "text": [
      "orientation_error\n",
      "tensor([33.0103, 33.6844, 34.5331, 34.7199, 19.2777, 32.8780, 32.6410, 32.3672,\n",
      "        31.4631, 32.1818, 33.1585, 33.3954, 33.6505, 33.4043, 33.3332, 33.3221,\n",
      "        34.5694, 19.5695, 18.9361, 18.5919, 18.2190, 18.8103, 18.6641, 17.7765,\n",
      "        18.1993, 17.9263, 18.3689, 18.1932, 18.7975, 33.1953, 34.0690, 34.5608],\n",
      "       device='cuda:0', dtype=torch.float64)\n",
      "\n",
      "orientation_error\n",
      "tensor([36.1338, 36.4385, 36.9241, 20.2844, 37.9145, 21.5007, 36.2682, 32.8927,\n",
      "        31.9120, 31.3722, 31.6703, 32.1281, 32.4068, 33.3027, 35.2877, 34.6229,\n",
      "        35.0194, 36.2526, 37.1087, 38.0738, 36.0555, 36.3691, 38.7556, 38.1351,\n",
      "        35.4132, 33.1803, 18.5165, 18.4089, 18.9246, 25.6791, 38.0582, 37.8527],\n",
      "       device='cuda:0', dtype=torch.float64)\n",
      "\n"
     ]
    },
    {
     "name": "stderr",
     "output_type": "stream",
     "text": [
      "Eval:  32%|███▏      | 356/1110 [05:00<04:30,  2.79it/s]"
     ]
    },
    {
     "name": "stdout",
     "output_type": "stream",
     "text": [
      "orientation_error\n",
      "tensor([22.0727, 21.0960, 25.7563, 34.0222, 30.6827, 32.3566, 32.0505, 30.1702,\n",
      "        40.0153, 41.0004, 42.4193, 39.2552, 41.7481, 57.9031, 54.7640, 40.9317,\n",
      "        39.7471, 36.4731, 36.1094, 37.5665, 35.3026, 35.2269, 49.1979, 50.1617,\n",
      "        36.2127, 36.4506, 37.0056, 51.8972, 53.4573, 54.8736, 54.1648, 36.9782],\n",
      "       device='cuda:0', dtype=torch.float64)\n",
      "\n"
     ]
    },
    {
     "name": "stderr",
     "output_type": "stream",
     "text": [
      "\r",
      "Eval:  32%|███▏      | 357/1110 [05:00<04:45,  2.63it/s]"
     ]
    },
    {
     "name": "stdout",
     "output_type": "stream",
     "text": [
      "orientation_error\n",
      "tensor([35.1176, 33.3349, 32.0459, 31.6904, 31.6526, 32.1105, 31.9459, 29.8723,\n",
      "        30.3732, 31.8387, 32.3239, 49.1996, 48.0857, 32.0691, 31.8001, 30.1468,\n",
      "        29.2835, 29.3194, 30.4888, 32.4354, 47.3428, 47.1648, 46.1705, 46.7413,\n",
      "        46.8211, 47.6550, 48.9424, 49.7346, 50.5176, 52.1691, 48.6053, 46.9404],\n",
      "       device='cuda:0', dtype=torch.float64)\n",
      "\n"
     ]
    },
    {
     "name": "stderr",
     "output_type": "stream",
     "text": [
      "\r",
      "Eval:  32%|███▏      | 358/1110 [05:01<05:15,  2.38it/s]"
     ]
    },
    {
     "name": "stdout",
     "output_type": "stream",
     "text": [
      "orientation_error\n",
      "tensor([48.0131, 31.3203, 45.8687, 30.7353, 30.2612, 30.0353, 29.5430, 28.7194,\n",
      "        29.2826, 31.9118, 53.0394, 52.5435, 33.6925, 33.2069, 31.4082, 30.0133,\n",
      "        44.3991, 30.9104, 45.5114, 44.2686, 45.1615, 44.7453, 30.0993, 32.0811,\n",
      "        31.5800, 48.8441, 49.1399, 50.7489, 50.3656, 31.2947, 27.5605, 24.4008],\n",
      "       device='cuda:0', dtype=torch.float64)\n",
      "\n"
     ]
    },
    {
     "name": "stderr",
     "output_type": "stream",
     "text": [
      "\r",
      "Eval:  32%|███▏      | 359/1110 [05:01<05:45,  2.18it/s]"
     ]
    },
    {
     "name": "stdout",
     "output_type": "stream",
     "text": [
      "orientation_error\n",
      "tensor([20.3865, 19.4133, 18.9855, 17.2042, 31.3511, 31.5150, 31.2349, 30.3259,\n",
      "        31.4066, 30.3228, 32.7012, 33.1674, 33.0131, 34.6603, 33.1048, 34.0946,\n",
      "        34.0971, 19.8895, 34.1405, 34.9410, 35.2362, 34.1012, 33.9434, 22.6493,\n",
      "        23.4540, 21.4358, 34.2268, 35.1253, 15.4577, 29.6138, 31.7304, 31.9196],\n",
      "       device='cuda:0', dtype=torch.float64)\n",
      "\n"
     ]
    },
    {
     "name": "stderr",
     "output_type": "stream",
     "text": [
      "\r",
      "Eval:  32%|███▏      | 360/1110 [05:02<05:40,  2.20it/s]"
     ]
    },
    {
     "name": "stdout",
     "output_type": "stream",
     "text": [
      "orientation_error\n",
      "tensor([19.1274, 42.8441, 34.3259, 33.6526, 29.4409, 35.8228, 36.3252, 35.9058,\n",
      "        34.9767, 33.4663, 33.0352, 32.7999, 33.2794, 33.1255, 32.7122, 31.9146,\n",
      "        32.1020, 32.3716, 32.2391, 32.2108, 32.0312, 31.7090, 32.2019, 32.7831,\n",
      "        32.9733, 33.0049, 32.9354, 33.1441, 33.2989, 33.1312, 33.4655, 33.9949],\n",
      "       device='cuda:0', dtype=torch.float64)\n",
      "\n",
      "MPJPE: 99.22611367989923\n",
      "Reconstruction Error: 58.74572166184633\n",
      "\n",
      "Orientation error: 32.34963684053977\n"
     ]
    },
    {
     "name": "stderr",
     "output_type": "stream",
     "text": [
      "\r",
      "Eval:  33%|███▎      | 361/1110 [05:02<05:22,  2.32it/s]"
     ]
    },
    {
     "name": "stdout",
     "output_type": "stream",
     "text": [
      "orientation_error\n",
      "tensor([34.1342, 34.1115, 34.4217, 34.3938, 34.4753, 34.3267, 34.5887, 34.5639,\n",
      "        34.4904, 34.5827, 34.4090, 34.2197, 34.2416, 34.5008, 34.3149, 34.1352,\n",
      "        34.1057, 34.3001, 34.3306, 34.4337, 34.5202, 34.4941, 34.4568, 34.4636,\n",
      "        34.5480, 34.7639, 34.7702, 34.6111, 34.6942, 34.7733, 34.9847, 36.6047],\n",
      "       device='cuda:0', dtype=torch.float64)\n",
      "\n"
     ]
    },
    {
     "name": "stderr",
     "output_type": "stream",
     "text": [
      "\r",
      "Eval:  33%|███▎      | 362/1110 [05:03<05:21,  2.32it/s]"
     ]
    },
    {
     "name": "stdout",
     "output_type": "stream",
     "text": [
      "orientation_error\n",
      "tensor([36.2483, 35.9698, 35.5737, 35.7601, 35.7398, 35.7055, 35.6501, 35.6602,\n",
      "        35.6954, 35.7326, 35.6262, 35.6350, 35.7321, 35.6763, 35.5155, 35.5831,\n",
      "        35.6804, 35.6908, 35.5871, 35.5163, 35.5912, 34.9768, 34.5617, 34.1297,\n",
      "        33.4938, 33.5111, 33.7348, 33.5002, 33.8250, 33.7116, 33.4293, 33.2402],\n",
      "       device='cuda:0', dtype=torch.float64)\n",
      "\n"
     ]
    },
    {
     "name": "stderr",
     "output_type": "stream",
     "text": [
      "\r",
      "Eval:  33%|███▎      | 363/1110 [05:03<05:08,  2.42it/s]"
     ]
    },
    {
     "name": "stdout",
     "output_type": "stream",
     "text": [
      "orientation_error\n",
      "tensor([33.0407, 33.1554, 32.7045, 32.3213, 32.7160, 32.9923, 33.0448, 33.9253,\n",
      "        33.7055, 33.8861, 33.4509, 33.4304, 33.5007, 33.4474, 19.4190, 19.4034,\n",
      "        20.0732, 20.2030, 20.3009, 20.4311, 20.5723, 19.8829, 19.0227, 18.8892,\n",
      "        18.4305, 18.2350, 18.4559, 18.0513, 17.9277, 17.6303, 18.2169, 17.3557],\n",
      "       device='cuda:0', dtype=torch.float64)\n",
      "\n"
     ]
    },
    {
     "name": "stderr",
     "output_type": "stream",
     "text": [
      "\r",
      "Eval:  33%|███▎      | 364/1110 [05:03<05:07,  2.42it/s]"
     ]
    },
    {
     "name": "stdout",
     "output_type": "stream",
     "text": [
      "orientation_error\n",
      "tensor([17.4887, 17.3831, 16.1990, 15.0836, 16.4048, 17.8128, 20.5059, 21.5227,\n",
      "        20.2314, 20.2030, 23.4756, 25.6602, 23.5951, 20.3292, 19.5537, 19.8478,\n",
      "        21.2880, 20.4581, 21.8732, 19.8563, 22.0062, 23.7502, 22.9002, 22.4148,\n",
      "        24.5334, 21.5548, 22.1077, 22.3470, 22.8010, 23.8158, 26.5379, 26.3796],\n",
      "       device='cuda:0', dtype=torch.float64)\n",
      "\n"
     ]
    },
    {
     "name": "stderr",
     "output_type": "stream",
     "text": [
      "\r",
      "Eval:  33%|███▎      | 365/1110 [05:04<05:05,  2.44it/s]"
     ]
    },
    {
     "name": "stdout",
     "output_type": "stream",
     "text": [
      "orientation_error\n",
      "tensor([22.9853, 23.6390, 22.9203, 23.1150, 22.6798, 23.9797, 23.7741, 22.7540,\n",
      "        21.4305, 22.1680, 24.2118, 23.2877, 21.8281, 20.3067, 20.6037, 19.4912,\n",
      "        19.5002, 19.7585, 20.3567, 21.7779, 22.8639, 23.0721, 21.9911, 22.9076,\n",
      "        23.6115, 24.8947, 26.5411, 25.1260, 25.2453, 24.1900, 24.8131, 23.3059],\n",
      "       device='cuda:0', dtype=torch.float64)\n",
      "\n"
     ]
    },
    {
     "name": "stderr",
     "output_type": "stream",
     "text": [
      "\r",
      "Eval:  33%|███▎      | 366/1110 [05:04<04:31,  2.74it/s]"
     ]
    },
    {
     "name": "stdout",
     "output_type": "stream",
     "text": [
      "orientation_error\n",
      "tensor([22.0742, 22.0226, 23.3696, 22.7669, 21.8796, 21.7011, 20.5638, 19.7221,\n",
      "        19.7359, 18.7780, 20.0342, 22.3904, 20.4813, 22.4430, 19.2912, 20.3904,\n",
      "        19.7894, 20.2441, 19.7147, 19.9983, 21.3039, 22.8230, 23.0469, 23.3112,\n",
      "        22.3940, 22.8963, 24.4266, 25.2927, 25.4668, 24.1119, 24.1171, 23.5872],\n",
      "       device='cuda:0', dtype=torch.float64)\n",
      "\n"
     ]
    },
    {
     "name": "stderr",
     "output_type": "stream",
     "text": [
      "\r",
      "Eval:  33%|███▎      | 367/1110 [05:04<04:32,  2.73it/s]"
     ]
    },
    {
     "name": "stdout",
     "output_type": "stream",
     "text": [
      "orientation_error\n",
      "tensor([22.8691, 22.1203, 21.3803, 22.0177, 21.1388, 20.6703, 19.7063, 19.3173,\n",
      "        33.0159, 17.5112, 18.4681, 19.0428, 18.5727, 19.0318, 19.4626, 20.7898,\n",
      "        19.7841, 19.6205, 17.7711, 18.7979, 18.3880, 18.5630, 18.1041, 18.7206,\n",
      "        18.9372, 19.7656, 20.1740, 20.3398, 20.2060, 19.8807, 20.4696, 20.5624],\n",
      "       device='cuda:0', dtype=torch.float64)\n",
      "\n"
     ]
    },
    {
     "name": "stderr",
     "output_type": "stream",
     "text": [
      "\r",
      "Eval:  33%|███▎      | 368/1110 [05:05<05:25,  2.28it/s]"
     ]
    },
    {
     "name": "stdout",
     "output_type": "stream",
     "text": [
      "orientation_error\n",
      "tensor([20.7964, 20.4827, 20.8480, 21.7844, 21.0663, 23.1140, 21.4277, 21.0944,\n",
      "        33.5163, 32.3882, 31.2791, 31.2796, 31.4693, 31.7403, 31.9833, 31.2748,\n",
      "        32.0058, 16.3297, 15.8387, 16.8342, 17.7494, 17.7469, 18.4640, 18.7412,\n",
      "        19.5664, 19.6141, 20.1787, 19.9999, 21.0176, 21.0448, 22.0841, 21.1326],\n",
      "       device='cuda:0', dtype=torch.float64)\n",
      "\n"
     ]
    },
    {
     "name": "stderr",
     "output_type": "stream",
     "text": [
      "\r",
      "Eval:  33%|███▎      | 369/1110 [05:06<05:49,  2.12it/s]"
     ]
    },
    {
     "name": "stdout",
     "output_type": "stream",
     "text": [
      "orientation_error\n",
      "tensor([20.4768, 20.5118, 19.9435, 20.0540, 20.4894, 33.9030, 33.3983, 33.1133,\n",
      "        33.2609, 34.2806, 35.1229, 33.9710, 18.2494, 17.5286, 33.1920, 17.4028,\n",
      "        17.0713, 16.6463, 16.4680, 31.0741, 30.9577, 31.3676, 16.3963, 17.7604,\n",
      "        17.6270, 17.3225, 17.7481, 18.6283, 18.8713, 19.9171, 20.1371, 19.6799],\n",
      "       device='cuda:0', dtype=torch.float64)\n",
      "\n"
     ]
    },
    {
     "name": "stderr",
     "output_type": "stream",
     "text": [
      "\r",
      "Eval:  33%|███▎      | 370/1110 [05:06<05:47,  2.13it/s]"
     ]
    },
    {
     "name": "stdout",
     "output_type": "stream",
     "text": [
      "orientation_error\n",
      "tensor([20.2081, 19.6900, 19.4453, 18.9949, 20.0421, 18.7300, 19.0113, 19.1935,\n",
      "        18.7606, 32.6554, 33.5134, 32.6884, 17.2524, 17.6612, 17.0352, 17.6875,\n",
      "        17.6173, 17.4212, 17.6401, 17.3097, 17.3181, 17.0149, 16.5756, 16.6844,\n",
      "        15.6338, 16.2428, 17.8993, 33.0174, 33.2760, 33.9074, 34.9110, 35.1286],\n",
      "       device='cuda:0', dtype=torch.float64)\n",
      "\n"
     ]
    },
    {
     "name": "stderr",
     "output_type": "stream",
     "text": [
      "\r",
      "Eval:  33%|███▎      | 371/1110 [05:07<05:34,  2.21it/s]"
     ]
    },
    {
     "name": "stdout",
     "output_type": "stream",
     "text": [
      "orientation_error\n",
      "tensor([19.2125, 19.0749, 20.2508, 21.2325, 36.0136, 35.8776, 35.8272, 20.7871,\n",
      "        34.5901, 34.7028, 18.9656, 18.1874, 17.7164, 18.3005, 18.6643, 19.2433,\n",
      "        19.0145, 18.0704, 18.6602, 17.9044, 18.4668, 18.7318, 18.4772, 18.1575,\n",
      "        17.8965, 17.9131, 32.4704, 32.9510, 33.5108, 33.4674, 34.0709, 35.0415],\n",
      "       device='cuda:0', dtype=torch.float64)\n",
      "\n"
     ]
    },
    {
     "name": "stderr",
     "output_type": "stream",
     "text": [
      "\r",
      "Eval:  34%|███▎      | 372/1110 [05:07<06:15,  1.96it/s]"
     ]
    },
    {
     "name": "stdout",
     "output_type": "stream",
     "text": [
      "orientation_error\n",
      "tensor([34.9539, 35.3506, 21.1675, 35.7214, 37.1268, 37.5518, 37.0601, 21.9560,\n",
      "        21.6964, 35.4878, 20.5146, 34.5980, 18.3631, 33.0354, 19.1242, 19.6331,\n",
      "        18.6169, 17.7722, 17.3595, 16.7804, 17.1306, 17.7889, 16.7868, 16.5158,\n",
      "        16.3823, 17.2648, 16.5322, 31.6428, 32.0540, 32.4711, 32.9394, 33.6150],\n",
      "       device='cuda:0', dtype=torch.float64)\n",
      "\n"
     ]
    },
    {
     "name": "stderr",
     "output_type": "stream",
     "text": [
      "\r",
      "Eval:  34%|███▎      | 373/1110 [05:08<05:54,  2.08it/s]"
     ]
    },
    {
     "name": "stdout",
     "output_type": "stream",
     "text": [
      "orientation_error\n",
      "tensor([34.4628, 19.8470, 19.5783, 20.0870, 36.0957, 21.6257, 21.2219, 20.2790,\n",
      "        19.5850, 19.6534, 19.9698, 19.1313, 18.2474, 18.0466, 17.2992, 18.9209,\n",
      "        19.7801, 20.3743, 20.7612, 20.5240, 19.2846, 19.9327, 19.4323, 19.1057,\n",
      "        18.3210, 32.9477, 17.3463, 17.1404, 17.1577, 32.3714, 32.1089, 32.3236],\n",
      "       device='cuda:0', dtype=torch.float64)\n",
      "\n"
     ]
    },
    {
     "name": "stderr",
     "output_type": "stream",
     "text": [
      "\r",
      "Eval:  34%|███▎      | 374/1110 [05:08<06:11,  1.98it/s]"
     ]
    },
    {
     "name": "stdout",
     "output_type": "stream",
     "text": [
      "orientation_error\n",
      "tensor([36.9255, 37.5636, 23.4222, 23.8317, 23.7746, 24.3276, 23.5283, 23.7948,\n",
      "        24.8455, 24.8634, 25.2287, 25.1540, 24.7051, 25.6163, 38.7180, 39.0891,\n",
      "        39.1050, 39.3344, 23.1986, 23.8721, 39.1975, 21.0603, 22.0758, 23.2334,\n",
      "        36.6323, 38.9145, 39.6176, 23.6677, 24.9635, 24.1841, 36.3293, 35.8249],\n",
      "       device='cuda:0', dtype=torch.float64)\n",
      "\n"
     ]
    },
    {
     "name": "stderr",
     "output_type": "stream",
     "text": [
      "\r",
      "Eval:  34%|███▍      | 375/1110 [05:09<06:01,  2.03it/s]"
     ]
    },
    {
     "name": "stdout",
     "output_type": "stream",
     "text": [
      "orientation_error\n",
      "tensor([21.1469, 35.6926, 36.6592, 23.1996, 22.5447, 21.8500, 22.9495, 23.8488,\n",
      "        24.1378, 24.8315, 24.5247, 24.3462, 24.6530, 24.8752, 25.3048, 24.4217,\n",
      "        24.3943, 24.4989, 25.3632, 25.5844, 23.8920, 25.4961, 25.3741, 25.3179,\n",
      "        22.5062, 39.2257, 24.6588, 37.5518, 43.9602, 40.1656, 41.7720, 43.1783],\n",
      "       device='cuda:0', dtype=torch.float64)\n",
      "\n"
     ]
    },
    {
     "name": "stderr",
     "output_type": "stream",
     "text": [
      "\r",
      "Eval:  34%|███▍      | 376/1110 [05:09<05:22,  2.27it/s]"
     ]
    },
    {
     "name": "stdout",
     "output_type": "stream",
     "text": [
      "orientation_error\n",
      "tensor([40.2500, 41.6043, 41.6699, 41.2704, 41.8489, 26.7736, 26.2374, 26.8473,\n",
      "        37.9578, 23.8374, 36.1141, 21.4133, 33.8150, 38.1919, 42.2735, 43.1752,\n",
      "        42.0861, 40.4336, 42.0726, 42.5211, 43.1032, 35.6321, 42.0470, 34.5616,\n",
      "        20.2311, 27.9503, 37.5479, 20.8878, 24.2826, 20.9085, 24.3498, 28.8370],\n",
      "       device='cuda:0', dtype=torch.float64)\n",
      "\n"
     ]
    },
    {
     "name": "stderr",
     "output_type": "stream",
     "text": [
      "\r",
      "Eval:  34%|███▍      | 377/1110 [05:09<05:22,  2.27it/s]"
     ]
    },
    {
     "name": "stdout",
     "output_type": "stream",
     "text": [
      "orientation_error\n",
      "tensor([29.7955, 33.6792, 30.6950, 34.3360, 32.7079, 32.6372, 32.0439, 24.1680,\n",
      "        18.6031, 17.8629, 18.8781, 19.8230, 19.6287, 19.3566, 19.5796, 19.5956,\n",
      "        20.0228, 18.7141, 18.0604, 18.5925, 20.5159, 20.1162, 19.6912, 17.8863,\n",
      "        19.0600, 19.5698, 19.4001, 18.7454, 21.5898, 18.2923, 18.4041, 17.5777],\n",
      "       device='cuda:0', dtype=torch.float64)\n",
      "\n"
     ]
    },
    {
     "name": "stderr",
     "output_type": "stream",
     "text": [
      "\r",
      "Eval:  34%|███▍      | 378/1110 [05:10<05:16,  2.32it/s]"
     ]
    },
    {
     "name": "stdout",
     "output_type": "stream",
     "text": [
      "orientation_error\n",
      "tensor([16.4731, 17.7497, 18.3985, 19.2341, 18.3395, 19.2329, 19.5064, 19.3364,\n",
      "        19.6806, 18.6871, 18.7009, 19.4401, 19.6937, 20.1047, 19.9022, 19.8083,\n",
      "        19.8470, 20.3598, 21.1361, 19.1838, 19.8300, 20.7669, 20.5620, 19.6737,\n",
      "        19.4823, 19.8442, 20.1988, 19.6431, 18.1782, 18.8192, 19.9253, 18.9209],\n",
      "       device='cuda:0', dtype=torch.float64)\n",
      "\n"
     ]
    },
    {
     "name": "stderr",
     "output_type": "stream",
     "text": [
      "\r",
      "Eval:  34%|███▍      | 379/1110 [05:10<05:23,  2.26it/s]"
     ]
    },
    {
     "name": "stdout",
     "output_type": "stream",
     "text": [
      "orientation_error\n",
      "tensor([19.2532, 19.1164, 17.7152, 17.1544, 17.9383, 17.0352, 17.5872, 19.1692,\n",
      "        20.4665, 19.9255, 20.0358, 18.0006, 19.6475, 21.3672, 18.8674, 17.9159,\n",
      "        18.2762, 18.7613, 17.9377, 17.1459, 17.6634, 17.9792, 18.4891, 19.0953,\n",
      "        18.0673, 17.7506, 17.8250, 16.5708, 17.1939, 17.4181, 18.7423, 20.4625],\n",
      "       device='cuda:0', dtype=torch.float64)\n",
      "\n"
     ]
    },
    {
     "name": "stderr",
     "output_type": "stream",
     "text": [
      "\r",
      "Eval:  34%|███▍      | 380/1110 [05:11<05:53,  2.06it/s]"
     ]
    },
    {
     "name": "stdout",
     "output_type": "stream",
     "text": [
      "orientation_error\n",
      "tensor([20.3307, 36.1567, 18.9858, 33.6636, 34.2194, 19.5223, 18.8198, 33.6341,\n",
      "        32.6999, 32.1967, 31.4168, 31.8517, 34.3742, 17.3175, 16.5092, 17.3180,\n",
      "        17.9270, 32.1290, 30.1449, 31.2412, 31.6534, 31.8790, 17.8612, 33.5454,\n",
      "        33.3077, 33.0391, 33.1462, 33.3254, 19.6058, 16.7193, 17.3929, 17.5925],\n",
      "       device='cuda:0', dtype=torch.float64)\n",
      "\n",
      "MPJPE: 97.52136656196203\n",
      "Reconstruction Error: 58.06407751699806\n",
      "\n",
      "Orientation error: 31.97656888959419\n"
     ]
    },
    {
     "name": "stderr",
     "output_type": "stream",
     "text": [
      "\r",
      "Eval:  34%|███▍      | 381/1110 [05:11<06:24,  1.90it/s]"
     ]
    },
    {
     "name": "stdout",
     "output_type": "stream",
     "text": [
      "orientation_error\n",
      "tensor([20.1783, 33.2274, 35.7216, 20.3533, 36.1103, 36.7937, 33.4985, 32.4938,\n",
      "        18.5846, 18.3190, 32.7271, 35.2306, 35.7425, 36.1017, 35.5930, 34.9141,\n",
      "        35.8293, 33.7807, 33.8681, 30.8594, 30.7243, 30.8082, 31.3011, 17.9933,\n",
      "        17.9240, 17.6964, 16.7336, 17.8333, 19.4182, 21.6243, 21.7333, 21.6568],\n",
      "       device='cuda:0', dtype=torch.float64)\n",
      "\n"
     ]
    },
    {
     "name": "stderr",
     "output_type": "stream",
     "text": [
      "\r",
      "Eval:  34%|███▍      | 382/1110 [05:12<06:49,  1.78it/s]"
     ]
    },
    {
     "name": "stdout",
     "output_type": "stream",
     "text": [
      "orientation_error\n",
      "tensor([21.8504, 21.7362, 20.1606, 18.0485, 18.6646, 18.7322, 18.8815, 19.4760,\n",
      "        19.5182, 19.7390, 20.0088, 23.2487, 22.8974, 23.6074, 23.9024, 22.8580,\n",
      "        23.9235, 20.8724, 19.2110, 17.0787, 16.3452, 17.3737, 20.1304, 19.2259,\n",
      "        19.0254, 17.7284, 19.5575, 21.7942, 22.7084, 27.0231, 22.7466, 22.2589],\n",
      "       device='cuda:0', dtype=torch.float64)\n",
      "\n"
     ]
    },
    {
     "name": "stderr",
     "output_type": "stream",
     "text": [
      "\r",
      "Eval:  35%|███▍      | 383/1110 [05:13<06:50,  1.77it/s]"
     ]
    },
    {
     "name": "stdout",
     "output_type": "stream",
     "text": [
      "orientation_error\n",
      "tensor([23.4370, 20.9238, 21.7990, 21.9772, 23.5135, 23.8379, 24.3456, 25.1515,\n",
      "        25.1124, 26.8502, 26.8690, 28.4257, 28.5690, 27.4001, 27.1745, 23.4796,\n",
      "        21.9505, 19.9516, 22.4996, 22.8066, 22.7411, 29.3541, 30.5963, 30.3143,\n",
      "        29.0186, 34.8535, 21.7316, 22.3209, 26.2201, 29.5568, 28.6204, 30.1839],\n",
      "       device='cuda:0', dtype=torch.float64)\n",
      "\n"
     ]
    },
    {
     "name": "stderr",
     "output_type": "stream",
     "text": [
      "\r",
      "Eval:  35%|███▍      | 384/1110 [05:13<07:28,  1.62it/s]"
     ]
    },
    {
     "name": "stdout",
     "output_type": "stream",
     "text": [
      "orientation_error\n",
      "tensor([29.1766, 29.7822, 27.8649, 25.0695, 24.6887, 25.0102, 26.7275, 30.4317,\n",
      "        24.0798, 23.3595, 21.8198, 20.0793, 20.9594, 20.7574, 22.3133, 23.1332,\n",
      "        24.6277, 24.1079, 23.6665, 23.6523, 23.1606, 22.3717, 23.5708, 26.5382,\n",
      "        36.4926, 23.6733, 21.1393, 21.7224, 22.5864, 22.9386, 22.6398, 22.9013],\n",
      "       device='cuda:0', dtype=torch.float64)\n",
      "\n"
     ]
    },
    {
     "name": "stderr",
     "output_type": "stream",
     "text": [
      "\r",
      "Eval:  35%|███▍      | 385/1110 [05:14<07:13,  1.67it/s]"
     ]
    },
    {
     "name": "stdout",
     "output_type": "stream",
     "text": [
      "orientation_error\n",
      "tensor([23.4015, 22.9734, 22.7778, 22.9364, 23.8567, 24.7807, 25.2063, 26.0949,\n",
      "        24.8432, 24.3631, 24.9805, 24.5256, 24.4702, 25.1883, 23.5957, 21.7596,\n",
      "        19.5229, 18.8192, 20.4887, 23.7998, 22.5927, 19.9911, 18.7818, 18.5690,\n",
      "        17.6574, 17.3454, 17.4894, 17.4154, 17.7974, 32.5975, 33.7267, 33.7106],\n",
      "       device='cuda:0', dtype=torch.float64)\n",
      "\n",
      "orientation_error\n",
      "tensor([33.4443, 33.0884, 32.5227, 32.8331, 33.1496, 19.0720, 19.6131, 20.0160,\n",
      "        35.6999, 21.4963, 35.0173, 35.1882, 35.2449, 35.2688, 35.6032, 36.0241,\n",
      "        35.7939, 36.4190, 36.4008, 36.3260, 37.8330, 37.1786, 36.9021, 37.4537,\n",
      "        37.3688, 37.5192, 37.6019, 37.3264, 37.4420, 37.4045, 37.2634, 37.3967],\n",
      "       device='cuda:0', dtype=torch.float64)\n",
      "\n"
     ]
    },
    {
     "name": "stderr",
     "output_type": "stream",
     "text": [
      "Eval:  35%|███▍      | 387/1110 [05:15<08:11,  1.47it/s]"
     ]
    },
    {
     "name": "stdout",
     "output_type": "stream",
     "text": [
      "orientation_error\n",
      "tensor([37.3517, 37.2893, 37.2823, 37.3886, 37.3105, 37.3802, 37.0921, 36.9940,\n",
      "        36.5735, 36.3886, 36.2704, 36.1743, 36.0112, 35.9841, 36.3424, 36.3351,\n",
      "        36.1413, 36.4145, 36.2633, 36.2572, 36.4641, 36.7529, 36.4871, 36.7790,\n",
      "        36.8063, 36.3465, 36.0219, 35.7902, 35.8736, 35.7889, 35.8485, 36.0667],\n",
      "       device='cuda:0', dtype=torch.float64)\n",
      "\n"
     ]
    },
    {
     "name": "stderr",
     "output_type": "stream",
     "text": [
      "\r",
      "Eval:  35%|███▍      | 388/1110 [05:16<07:36,  1.58it/s]"
     ]
    },
    {
     "name": "stdout",
     "output_type": "stream",
     "text": [
      "orientation_error\n",
      "tensor([35.8587, 35.6888, 35.5676, 36.4002, 36.1665, 36.5178, 36.3917, 36.2000,\n",
      "        36.1060, 36.2679, 36.3537, 36.1447, 36.3293, 36.2311, 35.7504, 35.2683,\n",
      "        34.5109, 33.6884, 33.0272, 32.1149, 31.5843, 30.9935, 30.4223, 30.1526,\n",
      "        30.0234, 29.8374, 30.1768, 30.8128, 30.9272, 31.1128, 30.6767, 31.0841],\n",
      "       device='cuda:0', dtype=torch.float64)\n",
      "\n"
     ]
    },
    {
     "name": "stderr",
     "output_type": "stream",
     "text": [
      "\r",
      "Eval:  35%|███▌      | 389/1110 [05:16<06:33,  1.83it/s]"
     ]
    },
    {
     "name": "stdout",
     "output_type": "stream",
     "text": [
      "orientation_error\n",
      "tensor([31.8790, 31.8483, 32.3756, 32.7288, 32.5036, 32.7556, 32.7441, 33.5251,\n",
      "        33.0297, 33.2597, 33.0633, 33.4437, 18.3930, 18.3418, 18.4662, 19.2040,\n",
      "        19.4556, 18.9445, 19.0964, 19.6455, 20.0427, 20.2733, 19.9318, 19.9650,\n",
      "        21.3968, 22.2521, 23.3847, 24.6301, 24.6307, 26.9842, 27.3479, 26.1106],\n",
      "       device='cuda:0', dtype=torch.float64)\n",
      "\n"
     ]
    },
    {
     "name": "stderr",
     "output_type": "stream",
     "text": [
      "\r",
      "Eval:  35%|███▌      | 390/1110 [05:17<06:17,  1.91it/s]"
     ]
    },
    {
     "name": "stdout",
     "output_type": "stream",
     "text": [
      "orientation_error\n",
      "tensor([24.4713, 23.2439, 23.0069, 21.6157, 19.9621, 20.5886, 19.9725, 18.3628,\n",
      "        18.3021, 19.0019, 19.5800, 23.7770, 24.0698, 23.6381, 25.0614, 26.2094,\n",
      "        28.7540, 29.7252, 29.6947, 29.7256, 29.6652, 28.9054, 27.2500, 24.9812,\n",
      "        21.5096, 22.2772, 19.5862, 18.2635, 17.8760, 17.6222, 16.9504, 16.8335],\n",
      "       device='cuda:0', dtype=torch.float64)\n",
      "\n"
     ]
    },
    {
     "name": "stderr",
     "output_type": "stream",
     "text": [
      "\r",
      "Eval:  35%|███▌      | 391/1110 [05:17<06:27,  1.85it/s]"
     ]
    },
    {
     "name": "stdout",
     "output_type": "stream",
     "text": [
      "orientation_error\n",
      "tensor([17.6282, 18.1909, 19.1841, 20.6326, 21.2529, 21.2439, 21.8710, 22.1267,\n",
      "        23.0705, 22.1509, 22.5977, 22.9507, 29.4019, 27.2210, 25.8728, 25.4135,\n",
      "        40.5383, 40.5057, 26.4607, 45.4354, 41.7892, 39.1192, 41.4325, 37.1401,\n",
      "        45.2306, 31.3673, 31.7657, 30.4670, 25.8027, 23.7160, 22.5406, 25.3368],\n",
      "       device='cuda:0', dtype=torch.float64)\n",
      "\n"
     ]
    },
    {
     "name": "stderr",
     "output_type": "stream",
     "text": [
      "\r",
      "Eval:  35%|███▌      | 392/1110 [05:18<07:04,  1.69it/s]"
     ]
    },
    {
     "name": "stdout",
     "output_type": "stream",
     "text": [
      "orientation_error\n",
      "tensor([26.2361, 39.5750, 39.7931, 41.0085, 41.6534, 40.7215, 40.2824, 39.8989,\n",
      "        38.5332, 39.0265, 38.6818, 38.3608, 36.5744, 36.5416, 37.5085, 36.1724,\n",
      "        36.9286, 36.5332, 37.4109, 36.3524, 36.2576, 35.3109, 35.9336, 35.9160,\n",
      "        35.7815, 35.1349, 35.7773, 35.9358, 35.7414, 35.7256, 37.2063, 24.0072],\n",
      "       device='cuda:0', dtype=torch.float64)\n",
      "\n"
     ]
    },
    {
     "name": "stderr",
     "output_type": "stream",
     "text": [
      "\r",
      "Eval:  35%|███▌      | 393/1110 [05:19<07:31,  1.59it/s]"
     ]
    },
    {
     "name": "stdout",
     "output_type": "stream",
     "text": [
      "orientation_error\n",
      "tensor([24.1774, 25.5130, 27.0292, 28.3122, 43.0513, 58.8478, 29.6600, 28.7946,\n",
      "        26.9165, 28.3764, 35.2801, 24.4815, 35.8710, 26.1592, 23.4331, 19.7695,\n",
      "        34.3689, 19.1390, 20.5832, 24.0946, 27.3074, 44.1794, 44.9753, 39.7131,\n",
      "        40.0075, 37.1590, 40.7499, 23.9268, 40.3656, 42.6097, 39.9445, 41.8772],\n",
      "       device='cuda:0', dtype=torch.float64)\n",
      "\n",
      "orientation_error\n",
      "tensor([42.5640, 39.5039, 38.2155, 38.0307, 23.2800, 27.4931, 20.9546, 33.9861,\n",
      "        34.4490, 19.6156, 18.3559, 17.3831, 18.5291, 17.3942, 19.8140, 33.8409,\n",
      "        33.1495, 22.2399, 32.3224, 32.4666, 33.3969, 30.4028, 26.0085, 24.4194,\n",
      "        25.5436, 25.6815, 28.2848, 25.3881, 20.6407, 19.4738, 19.0247, 17.7568],\n",
      "       device='cuda:0', dtype=torch.float64)\n",
      "\n"
     ]
    },
    {
     "name": "stderr",
     "output_type": "stream",
     "text": [
      "Eval:  36%|███▌      | 395/1110 [05:21<09:18,  1.28it/s]"
     ]
    },
    {
     "name": "stdout",
     "output_type": "stream",
     "text": [
      "orientation_error\n",
      "tensor([20.0321, 28.3491, 28.1835, 27.8146, 29.8375, 30.9547, 29.8053, 29.7191,\n",
      "        29.9463, 23.5895, 28.2406, 31.5614, 28.3932, 28.6609, 23.1437, 18.1873,\n",
      "        20.5655, 25.9446, 26.2649, 27.1934, 30.8171, 19.0085, 16.8021, 32.3779,\n",
      "        32.6881, 22.8042, 35.3939, 36.0842, 24.1794, 43.6227, 42.5744, 43.9938],\n",
      "       device='cuda:0', dtype=torch.float64)\n",
      "\n"
     ]
    },
    {
     "name": "stderr",
     "output_type": "stream",
     "text": [
      "\r",
      "Eval:  36%|███▌      | 396/1110 [05:22<09:38,  1.23it/s]"
     ]
    },
    {
     "name": "stdout",
     "output_type": "stream",
     "text": [
      "orientation_error\n",
      "tensor([41.2744, 41.6063, 35.5387, 20.2113, 20.0560, 34.0806, 18.8471, 18.5345,\n",
      "        19.1207, 19.7637, 20.0067, 20.8053, 23.2644, 24.6777, 25.3813, 26.9268,\n",
      "        29.0417, 29.4033, 24.2683, 23.4303, 23.9412, 25.1203, 25.8330, 24.5601,\n",
      "        22.6023, 19.2467, 18.4790, 20.1789, 21.8513, 22.2328, 24.0100, 38.9200],\n",
      "       device='cuda:0', dtype=torch.float64)\n",
      "\n",
      "orientation_error\n",
      "tensor([41.2574, 40.4690, 44.3865, 46.4563, 43.9735, 44.4316, 44.2999, 44.4697,\n",
      "        47.4381, 44.9608, 30.5273, 30.9878, 31.6351, 50.4875, 38.9924, 44.4316,\n",
      "        44.5757, 55.9648, 53.5114, 51.1394, 53.4075, 54.7113, 60.9464, 63.0589,\n",
      "        61.7907, 64.3827, 63.7229, 44.4877, 48.4242, 37.6422, 30.8346, 30.6989],\n",
      "       device='cuda:0', dtype=torch.float64)\n",
      "\n"
     ]
    },
    {
     "name": "stderr",
     "output_type": "stream",
     "text": [
      "Eval:  36%|███▌      | 398/1110 [05:25<12:48,  1.08s/it]"
     ]
    },
    {
     "name": "stdout",
     "output_type": "stream",
     "text": [
      "orientation_error\n",
      "tensor([44.0406, 43.0139, 43.0935, 42.6505, 43.5388, 42.7709, 30.3127, 30.5906,\n",
      "        33.4256, 34.0704, 32.9110, 33.7071, 30.9977, 30.5218, 34.6585, 36.3085,\n",
      "        37.6339, 50.3775, 51.7498, 50.8577, 64.6080, 52.7988, 47.3061, 40.4572,\n",
      "        38.7622, 41.4694, 29.4281, 42.1952, 42.4094, 42.6202, 41.3968, 41.1263],\n",
      "       device='cuda:0', dtype=torch.float64)\n",
      "\n"
     ]
    },
    {
     "name": "stderr",
     "output_type": "stream",
     "text": [
      "\r",
      "Eval:  36%|███▌      | 399/1110 [05:25<11:41,  1.01it/s]"
     ]
    },
    {
     "name": "stdout",
     "output_type": "stream",
     "text": [
      "orientation_error\n",
      "tensor([41.0346, 40.9167, 42.3089, 44.7976, 27.6114, 42.7386, 40.8934, 39.9703,\n",
      "        28.6845, 41.3235, 41.9074, 41.6571, 41.5527, 48.9494, 45.7258, 42.4672,\n",
      "        43.5225, 45.7335, 43.6808, 44.0427, 44.7362, 47.7051, 55.6444, 55.6692,\n",
      "        41.9184, 53.8300, 51.9101, 52.1543, 35.7828, 36.0048, 35.7871, 34.0829],\n",
      "       device='cuda:0', dtype=torch.float64)\n",
      "\n",
      "orientation_error\n",
      "tensor([32.5992, 40.3830, 40.3091, 51.0006, 31.3029, 44.7933, 38.9821, 38.1244,\n",
      "        38.8944, 36.0816, 38.9765, 51.8231, 42.5679, 40.0192, 45.5264, 57.5422,\n",
      "        36.6771, 45.2216, 42.5181, 28.4372, 43.2288, 46.9595, 44.9097, 44.7885,\n",
      "        46.0701, 45.3997, 42.7548, 41.7398, 40.8955, 41.0327, 40.7866, 25.2596],\n",
      "       device='cuda:0', dtype=torch.float64)\n",
      "\n"
     ]
    },
    {
     "name": "stderr",
     "output_type": "stream",
     "text": [
      "\r",
      "Eval:  36%|███▌      | 400/1110 [05:26<11:17,  1.05it/s]"
     ]
    },
    {
     "name": "stdout",
     "output_type": "stream",
     "text": [
      "MPJPE: 96.97976527603711\n",
      "Reconstruction Error: 58.0197731418101\n",
      "\n",
      "Orientation error: 31.902312232277094\n",
      "orientation_error\n",
      "tensor([23.8580, 23.7444, 23.4945, 38.0504, 37.4107, 37.4806, 38.8674, 41.4223,\n",
      "        39.3887, 39.3244, 36.8637, 38.6358, 38.5822, 38.9474, 24.3666, 40.5532,\n",
      "        39.2464, 23.2176, 25.8656, 25.9590, 25.9973, 27.9788, 26.9819, 24.9216,\n",
      "        25.0115, 25.3224, 25.0722, 24.7184, 24.7017, 40.8815, 41.1309, 26.4138],\n",
      "       device='cuda:0', dtype=torch.float64)\n",
      "\n"
     ]
    },
    {
     "name": "stderr",
     "output_type": "stream",
     "text": [
      "Eval:  36%|███▌      | 402/1110 [05:28<09:54,  1.19it/s]"
     ]
    },
    {
     "name": "stdout",
     "output_type": "stream",
     "text": [
      "orientation_error\n",
      "tensor([26.7361, 26.1616, 25.9240, 25.3877, 26.5559, 26.4924, 26.6895, 27.1832,\n",
      "        27.1285, 27.4829, 29.6397, 29.9711, 29.5531, 29.7266, 45.0861, 29.8387,\n",
      "        29.8733, 28.2722, 26.5351, 25.8910, 24.6155, 24.2282, 23.3836, 23.7525,\n",
      "        23.7700, 23.6570, 22.5980, 21.7329, 21.6251, 21.3928, 20.9490, 21.0017],\n",
      "       device='cuda:0', dtype=torch.float64)\n",
      "\n"
     ]
    },
    {
     "name": "stderr",
     "output_type": "stream",
     "text": [
      "\r",
      "Eval:  36%|███▋      | 403/1110 [05:28<09:36,  1.23it/s]"
     ]
    },
    {
     "name": "stdout",
     "output_type": "stream",
     "text": [
      "orientation_error\n",
      "tensor([21.0927, 20.9929, 21.6971, 21.3651, 20.8497, 21.4919, 22.4543, 21.5032,\n",
      "        22.3843, 22.5811, 23.7299, 24.5223, 25.3246, 25.4865, 26.1301, 29.4365,\n",
      "        28.7524, 47.0748, 34.1085, 48.2196, 29.6121, 27.6474, 42.5976, 41.8415,\n",
      "        40.5757, 41.1889, 46.9254, 47.3579, 44.1955, 41.7655, 43.8017, 42.7020],\n",
      "       device='cuda:0', dtype=torch.float64)\n",
      "\n"
     ]
    },
    {
     "name": "stderr",
     "output_type": "stream",
     "text": [
      "\r",
      "Eval:  36%|███▋      | 404/1110 [05:29<10:06,  1.16it/s]"
     ]
    },
    {
     "name": "stdout",
     "output_type": "stream",
     "text": [
      "orientation_error\n",
      "tensor([45.4763, 44.9888, 47.4792, 32.0930, 35.1227, 28.9725, 43.5247, 24.8060,\n",
      "        42.5207, 36.7120, 40.2525, 27.6136, 50.9107, 37.1940, 38.8865, 37.3917,\n",
      "        26.0255, 22.7762, 28.9821, 27.0083, 31.8485, 27.8444, 31.9327, 30.8604,\n",
      "        27.8720, 28.0680, 29.8179, 31.1780, 28.6996, 29.7578, 29.4412, 26.0857],\n",
      "       device='cuda:0', dtype=torch.float64)\n",
      "\n",
      "orientation_error\n",
      "tensor([26.2994, 40.2824, 24.9766, 24.9634, 40.4371, 39.4147, 39.9395, 39.5081,\n",
      "        39.0484, 39.6721, 38.3592, 39.0419, 37.5874, 37.4488, 37.1561, 37.2377,\n",
      "        37.9542, 37.0034, 38.8069, 39.8996, 40.3040, 25.8705, 26.4535, 27.3545,\n",
      "        39.3634, 27.1479, 26.7498, 30.2459, 32.8340, 29.0759, 32.1125, 26.6771],\n",
      "       device='cuda:0', dtype=torch.float64)\n",
      "\n"
     ]
    },
    {
     "name": "stderr",
     "output_type": "stream",
     "text": [
      "\r",
      "Eval:  36%|███▋      | 405/1110 [05:30<10:38,  1.10it/s]"
     ]
    },
    {
     "name": "stdout",
     "output_type": "stream",
     "text": [
      "orientation_error\n",
      "tensor([26.7466, 22.8557, 22.2729, 54.5574, 41.9940, 38.4811, 38.9456, 38.5166,\n",
      "        41.1013, 38.5680, 38.7762, 26.5624, 39.7471, 41.6442, 38.5543, 40.0685,\n",
      "        45.0017, 45.2331, 61.3514, 43.3157, 44.9283, 45.1876, 42.1749, 30.5667,\n",
      "        31.7371, 33.8271, 41.7647, 48.1449, 46.2573, 35.1734, 47.5842, 31.6644],\n",
      "       device='cuda:0', dtype=torch.float64)\n",
      "\n"
     ]
    },
    {
     "name": "stderr",
     "output_type": "stream",
     "text": [
      "Eval:  37%|███▋      | 407/1110 [05:32<10:22,  1.13it/s]"
     ]
    },
    {
     "name": "stdout",
     "output_type": "stream",
     "text": [
      "orientation_error\n",
      "tensor([46.9903, 49.4127, 34.7056, 47.0438, 47.4945, 46.9816, 50.1370, 47.9746,\n",
      "        33.0005, 48.5992, 34.2362, 31.3681, 47.4815, 50.8111, 51.2575, 37.8493,\n",
      "        41.4971, 42.2054, 43.8635, 42.7871, 44.9636, 58.1698, 61.1959, 46.9963,\n",
      "        48.0053, 44.0551, 41.9552, 43.1620, 39.7246, 37.9043, 37.0373, 35.0188],\n",
      "       device='cuda:0', dtype=torch.float64)\n",
      "\n"
     ]
    },
    {
     "name": "stderr",
     "output_type": "stream",
     "text": [
      "\r",
      "Eval:  37%|███▋      | 408/1110 [05:33<09:25,  1.24it/s]"
     ]
    },
    {
     "name": "stdout",
     "output_type": "stream",
     "text": [
      "orientation_error\n",
      "tensor([37.0362, 36.5918, 36.0659, 35.7334, 35.7875, 35.5798, 32.8788, 44.0323,\n",
      "        34.0365, 32.4087, 32.4906, 32.7044, 45.8250, 32.3282, 44.9418, 29.9024,\n",
      "        28.3900, 32.6999, 60.2066, 32.8131, 34.8833, 45.2810, 38.1810, 39.1363,\n",
      "        34.8625, 29.8946, 28.2533, 28.7783, 40.0234, 53.2876, 40.0934, 44.4744],\n",
      "       device='cuda:0', dtype=torch.float64)\n",
      "\n"
     ]
    },
    {
     "name": "stderr",
     "output_type": "stream",
     "text": [
      "\r",
      "Eval:  37%|███▋      | 409/1110 [05:33<08:36,  1.36it/s]"
     ]
    },
    {
     "name": "stdout",
     "output_type": "stream",
     "text": [
      "orientation_error\n",
      "tensor([29.2899, 27.6325, 28.6611, 44.1553, 43.5614, 42.8276, 34.5249, 48.4515,\n",
      "        48.1131, 40.9789, 30.8147, 30.6239, 34.6840, 27.4633, 34.2167, 29.4503,\n",
      "        26.7501, 29.7814, 24.0754, 24.0075, 25.9777, 33.6095, 27.4959, 25.9842,\n",
      "        24.7498, 22.2403, 25.2567, 24.8987, 26.0323, 26.7693, 26.1223, 26.4855],\n",
      "       device='cuda:0', dtype=torch.float64)\n",
      "\n"
     ]
    },
    {
     "name": "stderr",
     "output_type": "stream",
     "text": [
      "\r",
      "Eval:  37%|███▋      | 410/1110 [05:34<07:49,  1.49it/s]"
     ]
    },
    {
     "name": "stdout",
     "output_type": "stream",
     "text": [
      "orientation_error\n",
      "tensor([26.3996, 25.6563, 25.2636, 24.7421, 25.4492, 25.1394, 23.7520, 22.6642,\n",
      "        24.1025, 23.4635, 23.2890, 23.2482, 25.1045, 24.0648, 25.0206, 24.3052,\n",
      "        25.2104, 23.5645, 22.9972, 25.0195, 23.7523, 24.7855, 25.2188, 23.1329,\n",
      "        23.8695, 24.4043, 22.7958, 24.0986, 25.4351, 25.7596, 26.4891, 26.4428],\n",
      "       device='cuda:0', dtype=torch.float64)\n",
      "\n"
     ]
    },
    {
     "name": "stderr",
     "output_type": "stream",
     "text": [
      "\r",
      "Eval:  37%|███▋      | 411/1110 [05:35<07:33,  1.54it/s]"
     ]
    },
    {
     "name": "stdout",
     "output_type": "stream",
     "text": [
      "orientation_error\n",
      "tensor([26.8926, 28.9564, 29.1833, 29.8248, 29.4403, 29.1346, 28.0721, 29.0538,\n",
      "        44.5263, 28.7664, 29.1726, 28.8559, 29.4935, 30.3052, 30.7277, 46.6113,\n",
      "        45.7201, 30.4934, 44.7192, 30.1741, 29.8194, 44.5547, 44.6647, 46.1818,\n",
      "        44.8265, 30.4804, 29.9306, 30.5922, 30.1619, 30.5702, 31.2454, 29.7035],\n",
      "       device='cuda:0', dtype=torch.float64)\n",
      "\n"
     ]
    },
    {
     "name": "stderr",
     "output_type": "stream",
     "text": [
      "\r",
      "Eval:  37%|███▋      | 412/1110 [05:35<07:09,  1.63it/s]"
     ]
    },
    {
     "name": "stdout",
     "output_type": "stream",
     "text": [
      "orientation_error\n",
      "tensor([29.7067, 29.1155, 29.2511, 27.8505, 43.1719, 39.5066, 40.6799, 21.9222,\n",
      "        35.2030, 21.4512, 23.3779, 22.5965, 26.1473, 22.2538, 21.7408, 23.5966,\n",
      "        23.6731, 23.9623, 23.0097, 22.5761, 21.4895, 22.3920, 21.7507, 22.2643,\n",
      "        22.6979, 23.9594, 21.9830, 22.4459, 21.7177, 21.4880, 20.8736, 20.5088],\n",
      "       device='cuda:0', dtype=torch.float64)\n",
      "\n"
     ]
    },
    {
     "name": "stderr",
     "output_type": "stream",
     "text": [
      "\r",
      "Eval:  37%|███▋      | 413/1110 [05:36<06:48,  1.70it/s]"
     ]
    },
    {
     "name": "stdout",
     "output_type": "stream",
     "text": [
      "orientation_error\n",
      "tensor([20.3243, 19.5909, 20.1596, 19.3724, 20.7301, 21.1747, 22.7864, 21.5225,\n",
      "        24.3053, 21.7159, 20.5894, 21.4552, 22.4282, 22.9364, 23.5109, 23.2033,\n",
      "        23.4184, 20.6223, 19.0047, 20.3085, 22.4773, 23.3586, 21.3462, 19.7813,\n",
      "        18.5615, 19.4535, 19.2360, 19.5169, 20.0899, 21.7034, 21.3335, 23.2249],\n",
      "       device='cuda:0', dtype=torch.float64)\n",
      "\n"
     ]
    },
    {
     "name": "stderr",
     "output_type": "stream",
     "text": [
      "\r",
      "Eval:  37%|███▋      | 414/1110 [05:36<06:37,  1.75it/s]"
     ]
    },
    {
     "name": "stdout",
     "output_type": "stream",
     "text": [
      "orientation_error\n",
      "tensor([22.9649, 23.5454, 23.3500, 24.0166, 26.7943, 25.4906, 24.1629, 24.8079,\n",
      "        24.3954, 22.6134, 20.7544, 18.6832, 17.4343, 17.2808, 17.0960, 30.5502,\n",
      "        22.3011, 19.0777, 19.2632, 21.9586, 22.6057, 22.3755, 21.7314, 22.5668,\n",
      "        25.0198, 23.4144, 22.4970, 23.3142, 24.4007, 23.1309, 23.7613, 23.8874],\n",
      "       device='cuda:0', dtype=torch.float64)\n",
      "\n"
     ]
    },
    {
     "name": "stderr",
     "output_type": "stream",
     "text": [
      "\r",
      "Eval:  37%|███▋      | 415/1110 [05:37<06:36,  1.75it/s]"
     ]
    },
    {
     "name": "stdout",
     "output_type": "stream",
     "text": [
      "orientation_error\n",
      "tensor([22.3723, 24.5351, 22.7104, 22.5244, 21.1496, 21.4318, 20.6302, 19.3189,\n",
      "        18.7476, 19.2900, 22.3786, 20.5446, 19.5449, 17.7809, 17.7697, 17.6938,\n",
      "        18.1133, 19.3162, 22.3606, 27.4367, 28.1870, 24.1598, 21.8101, 21.7239,\n",
      "        20.9691, 18.9090, 18.4898, 19.7715, 39.0937, 38.2115, 38.0415, 24.3716],\n",
      "       device='cuda:0', dtype=torch.float64)\n",
      "\n"
     ]
    },
    {
     "name": "stderr",
     "output_type": "stream",
     "text": [
      "\r",
      "Eval:  37%|███▋      | 416/1110 [05:37<06:20,  1.83it/s]"
     ]
    },
    {
     "name": "stdout",
     "output_type": "stream",
     "text": [
      "orientation_error\n",
      "tensor([25.6168, 25.0042, 24.0272, 24.0479, 25.3608, 24.0514, 22.2393, 20.9226,\n",
      "        19.8015, 20.9230, 20.1880, 16.8459, 18.3929, 18.8138, 19.2257, 18.6786,\n",
      "        18.7418, 16.8565, 16.4009, 15.5917, 14.4482, 17.8899, 31.9559, 16.0466,\n",
      "        18.1695, 19.9842, 21.8694, 20.3920, 20.3108, 21.3337, 17.7324, 17.5093],\n",
      "       device='cuda:0', dtype=torch.float64)\n",
      "\n"
     ]
    },
    {
     "name": "stderr",
     "output_type": "stream",
     "text": [
      "\r",
      "Eval:  38%|███▊      | 417/1110 [05:38<06:19,  1.82it/s]"
     ]
    },
    {
     "name": "stdout",
     "output_type": "stream",
     "text": [
      "orientation_error\n",
      "tensor([20.6335, 21.4119, 20.3186, 24.8753, 30.1538, 27.3711, 21.4571, 20.2002,\n",
      "        19.0565, 19.3491, 18.2683, 18.2366, 17.6712, 15.2411, 14.9319, 14.7656,\n",
      "        15.5862, 15.8433, 31.0429, 35.3146, 16.8410, 28.9358, 31.4294, 33.9612,\n",
      "        22.9643, 24.1528, 25.0943, 21.8913, 18.4591, 18.7796, 23.5105, 20.7521],\n",
      "       device='cuda:0', dtype=torch.float64)\n",
      "\n"
     ]
    },
    {
     "name": "stderr",
     "output_type": "stream",
     "text": [
      "\r",
      "Eval:  38%|███▊      | 418/1110 [05:38<06:04,  1.90it/s]"
     ]
    },
    {
     "name": "stdout",
     "output_type": "stream",
     "text": [
      "orientation_error\n",
      "tensor([30.1953, 28.0888, 23.8058, 30.0332, 31.0251, 32.2053, 18.8924, 36.0068,\n",
      "        36.7459, 38.0787, 32.9844, 34.2245, 35.4980, 31.2582, 29.5657, 29.6944,\n",
      "        30.1011, 20.3834, 36.3729, 36.5405, 36.9771, 36.5969, 32.5989, 30.9516,\n",
      "        29.5716, 34.9563, 34.8255, 36.2527, 24.6041, 21.7905, 23.7869, 24.8522],\n",
      "       device='cuda:0', dtype=torch.float64)\n",
      "\n"
     ]
    },
    {
     "name": "stderr",
     "output_type": "stream",
     "text": [
      "\r",
      "Eval:  38%|███▊      | 419/1110 [05:39<05:56,  1.94it/s]"
     ]
    },
    {
     "name": "stdout",
     "output_type": "stream",
     "text": [
      "orientation_error\n",
      "tensor([30.7809, 26.6121, 28.6164, 22.2678, 36.0747, 38.5388, 36.9884, 41.6699,\n",
      "        37.2907, 36.8250, 37.6373, 39.4601, 22.2918, 24.0116, 30.5677, 27.1171,\n",
      "        25.3624, 25.8529, 27.1055, 27.9771, 29.5076, 28.0580, 36.9897, 26.3148,\n",
      "        37.0198, 42.5307, 51.0842, 41.3195, 51.8200, 41.6418, 41.8361, 39.0211],\n",
      "       device='cuda:0', dtype=torch.float64)\n",
      "\n"
     ]
    },
    {
     "name": "stderr",
     "output_type": "stream",
     "text": [
      "\r",
      "Eval:  38%|███▊      | 420/1110 [05:39<05:18,  2.17it/s]"
     ]
    },
    {
     "name": "stdout",
     "output_type": "stream",
     "text": [
      "orientation_error\n",
      "tensor([36.4577, 37.2021, 24.3869, 36.9407, 26.7614, 38.6848, 26.5101, 31.4323,\n",
      "        23.3447, 25.6873, 43.0767, 60.5672, 57.4445, 40.6055, 37.4073, 29.3755,\n",
      "        28.6615, 36.5143, 37.8135, 37.7126, 34.7070, 31.2701, 35.5016, 30.5793,\n",
      "        31.5389, 28.0626, 29.9153, 30.0303, 31.3056, 26.5504, 26.1613, 29.8673],\n",
      "       device='cuda:0', dtype=torch.float64)\n",
      "\n",
      "MPJPE: 97.04290869254574\n",
      "Reconstruction Error: 58.60944849390065\n",
      "\n",
      "Orientation error: 31.83234580065936\n"
     ]
    },
    {
     "name": "stderr",
     "output_type": "stream",
     "text": [
      "\r",
      "Eval:  38%|███▊      | 421/1110 [05:39<04:51,  2.36it/s]"
     ]
    },
    {
     "name": "stdout",
     "output_type": "stream",
     "text": [
      "orientation_error\n",
      "tensor([28.1022, 26.5895, 25.0577, 25.3946, 25.5785, 41.5308, 43.1442, 28.4939,\n",
      "        28.5554, 42.1864, 27.9796, 27.7557, 43.4958, 42.2682, 42.1811, 41.7709,\n",
      "        41.9192, 41.0950, 40.2798, 40.6337, 40.7817, 39.3695, 23.5853, 23.4670,\n",
      "        22.8070, 37.7382, 39.0469, 24.9899, 39.2334, 39.5374, 39.3970, 40.7909],\n",
      "       device='cuda:0', dtype=torch.float64)\n",
      "\n"
     ]
    },
    {
     "name": "stderr",
     "output_type": "stream",
     "text": [
      "\r",
      "Eval:  38%|███▊      | 422/1110 [05:40<04:55,  2.33it/s]"
     ]
    },
    {
     "name": "stdout",
     "output_type": "stream",
     "text": [
      "orientation_error\n",
      "tensor([40.0519, 40.4826, 40.1202, 40.6147, 40.3394, 40.4971, 25.4384, 26.7915,\n",
      "        27.3767, 27.6897, 27.7116, 27.4534, 26.3656, 41.6038, 26.6599, 39.9756,\n",
      "        25.9397, 24.9601, 38.8474, 38.0404, 36.7721, 20.4261, 20.4997, 19.5385,\n",
      "        33.1255, 32.5071, 32.0880, 32.1975, 33.4351, 34.6989, 35.8844, 34.6580],\n",
      "       device='cuda:0', dtype=torch.float64)\n",
      "\n"
     ]
    },
    {
     "name": "stderr",
     "output_type": "stream",
     "text": [
      "\r",
      "Eval:  38%|███▊      | 423/1110 [05:40<05:09,  2.22it/s]"
     ]
    },
    {
     "name": "stdout",
     "output_type": "stream",
     "text": [
      "orientation_error\n",
      "tensor([18.9952, 18.8703, 32.1775, 32.0608, 32.9987, 33.4908, 33.5168, 33.9290,\n",
      "        34.4285, 34.9405, 35.0666, 34.8431, 34.4213, 35.6733, 35.6474, 34.6317,\n",
      "        34.0440, 33.1552, 31.8329, 31.2577, 32.2502, 33.9567, 34.4205, 34.0902,\n",
      "        34.3832, 35.1756, 35.8449, 35.6598, 35.3902, 35.6556, 35.9051, 35.8782],\n",
      "       device='cuda:0', dtype=torch.float64)\n",
      "\n",
      "orientation_error\n",
      "tensor([36.0441, 36.3113, 35.1937, 34.9326, 35.2719, 34.9754, 35.0863, 35.3136,\n",
      "        35.1201, 35.7081, 35.8271, 35.9427, 36.1798, 36.2872, 36.5078, 36.3885,\n",
      "        36.4423, 36.5666, 36.7930, 36.7141, 36.8130, 36.6287, 36.4014, 36.7099,\n",
      "        36.6519, 36.5806, 36.5736, 36.4220, 36.1263, 36.6367, 36.5761, 36.6266],\n",
      "       device='cuda:0', dtype=torch.float64)\n",
      "\n"
     ]
    },
    {
     "name": "stderr",
     "output_type": "stream",
     "text": [
      "Eval:  38%|███▊      | 425/1110 [05:42<06:24,  1.78it/s]"
     ]
    },
    {
     "name": "stdout",
     "output_type": "stream",
     "text": [
      "orientation_error\n",
      "tensor([36.8303, 36.7967, 36.7315, 36.9302, 36.9243, 32.0186, 31.9690, 31.8793,\n",
      "        31.8750, 31.9042, 32.0443, 32.0081, 31.9374, 32.0179, 31.9819, 32.1991,\n",
      "        32.1090, 32.1075, 32.2049, 32.2633, 32.1508, 32.2695, 32.3357, 32.2059,\n",
      "        32.1940, 32.1783, 32.0671, 32.0811, 31.9849, 31.8350, 32.0237, 32.0428],\n",
      "       device='cuda:0', dtype=torch.float64)\n",
      "\n"
     ]
    },
    {
     "name": "stderr",
     "output_type": "stream",
     "text": [
      "\r",
      "Eval:  38%|███▊      | 426/1110 [05:42<06:43,  1.70it/s]"
     ]
    },
    {
     "name": "stdout",
     "output_type": "stream",
     "text": [
      "orientation_error\n",
      "tensor([32.0659, 32.1079, 32.1598, 31.9037, 31.8478, 31.6497, 31.7407, 31.7872,\n",
      "        32.0348, 32.2418, 32.4911, 32.6102, 32.7959, 32.7182, 32.5823, 32.5127,\n",
      "        32.2319, 32.1891, 31.8140, 31.9983, 32.2711, 32.5490, 32.8398, 32.9180,\n",
      "        33.2072, 33.3906, 33.6688, 33.7464, 34.1308, 34.0168, 34.7644, 34.8415],\n",
      "       device='cuda:0', dtype=torch.float64)\n",
      "\n"
     ]
    },
    {
     "name": "stderr",
     "output_type": "stream",
     "text": [
      "\r",
      "Eval:  38%|███▊      | 427/1110 [05:43<06:37,  1.72it/s]"
     ]
    },
    {
     "name": "stdout",
     "output_type": "stream",
     "text": [
      "orientation_error\n",
      "tensor([34.8441, 35.1535, 34.9129, 20.7430, 20.8217, 20.9955, 20.8131, 21.3205,\n",
      "        21.5419, 21.3988, 22.1344, 22.1872, 23.1737, 23.1190, 23.3246, 23.2267,\n",
      "        22.8794, 22.6339, 22.6337, 22.5739, 22.5046, 22.1864, 21.9361, 21.9381,\n",
      "        21.8915, 21.4502, 21.3061, 20.7841, 20.3687, 20.0997, 20.8875, 21.5908],\n",
      "       device='cuda:0', dtype=torch.float64)\n",
      "\n"
     ]
    },
    {
     "name": "stderr",
     "output_type": "stream",
     "text": [
      "\r",
      "Eval:  39%|███▊      | 428/1110 [05:44<06:44,  1.69it/s]"
     ]
    },
    {
     "name": "stdout",
     "output_type": "stream",
     "text": [
      "orientation_error\n",
      "tensor([22.2982, 36.7549, 37.1900, 22.2520, 22.3587, 22.0215, 21.6204, 21.6773,\n",
      "        22.4834, 23.2629, 24.0676, 24.1957, 25.5040, 27.0407, 29.3048, 31.9743,\n",
      "        35.1602, 37.8602, 41.1053, 43.2006, 45.2887, 60.4611, 46.6404, 37.3211,\n",
      "        26.0659, 24.9465, 25.3080, 25.2566, 25.2634, 25.2974, 39.5436, 38.7873],\n",
      "       device='cuda:0', dtype=torch.float64)\n",
      "\n"
     ]
    },
    {
     "name": "stderr",
     "output_type": "stream",
     "text": [
      "\r",
      "Eval:  39%|███▊      | 429/1110 [05:44<07:19,  1.55it/s]"
     ]
    },
    {
     "name": "stdout",
     "output_type": "stream",
     "text": [
      "orientation_error\n",
      "tensor([38.1096, 37.8171, 38.0368, 38.7858, 25.4901, 25.5441, 25.3481, 25.1534,\n",
      "        25.1823, 24.4313, 24.7575, 39.6746, 40.1407, 40.0592, 39.9583, 39.9362,\n",
      "        40.4629, 40.6432, 41.1463, 52.6802, 62.0128, 60.3730, 44.8355, 42.3211,\n",
      "        39.1650, 31.0216, 26.7216, 23.8552, 22.9412, 22.9209, 23.1119, 23.3280],\n",
      "       device='cuda:0', dtype=torch.float64)\n",
      "\n"
     ]
    },
    {
     "name": "stderr",
     "output_type": "stream",
     "text": [
      "\r",
      "Eval:  39%|███▊      | 430/1110 [05:45<07:14,  1.56it/s]"
     ]
    },
    {
     "name": "stdout",
     "output_type": "stream",
     "text": [
      "orientation_error\n",
      "tensor([23.0813, 22.8874, 22.2163, 21.8322, 22.6294, 36.3866, 36.7186, 23.1780,\n",
      "        37.3716, 36.9167, 22.3355, 21.8485, 20.8362, 20.5158, 20.9954, 21.2965,\n",
      "        21.9805, 22.1102, 21.9272, 22.6890, 23.3575, 23.5193, 24.5435, 24.5414,\n",
      "        24.2291, 25.3054, 25.5650, 26.7235, 29.2063, 30.9808, 37.1929, 41.4000],\n",
      "       device='cuda:0', dtype=torch.float64)\n",
      "\n"
     ]
    },
    {
     "name": "stderr",
     "output_type": "stream",
     "text": [
      "\r",
      "Eval:  39%|███▉      | 431/1110 [05:46<07:35,  1.49it/s]"
     ]
    },
    {
     "name": "stdout",
     "output_type": "stream",
     "text": [
      "orientation_error\n",
      "tensor([42.7762, 43.0678, 43.9454, 44.4313, 43.6112, 43.6045, 44.2919, 45.0545,\n",
      "        45.5180, 45.7732, 46.3164, 46.3880, 46.5925, 49.3679, 49.1085, 50.7314,\n",
      "        50.5190, 50.2074, 50.0428, 50.3385, 50.3139, 51.0177, 52.8570, 53.9491,\n",
      "        55.0624, 55.9918, 55.1754, 55.5764, 55.8680, 55.2688, 54.1498, 53.3556],\n",
      "       device='cuda:0', dtype=torch.float64)\n",
      "\n",
      "orientation_error\n",
      "tensor([53.7287, 54.8533, 56.3728, 56.9645, 57.6651, 47.1722, 46.5652, 46.5643,\n",
      "        46.4901, 45.7895, 61.5448, 61.9746, 47.1360, 48.1182, 47.1117, 46.4082,\n",
      "        44.1601, 43.9176, 43.0441, 42.3329, 40.1824, 40.5890, 41.8925, 42.0125,\n",
      "        40.6426, 43.7889, 45.3465, 46.5688, 48.4211, 48.5788, 48.2795, 48.0523],\n",
      "       device='cuda:0', dtype=torch.float64)\n",
      "\n"
     ]
    },
    {
     "name": "stderr",
     "output_type": "stream",
     "text": [
      "Eval:  39%|███▉      | 433/1110 [05:47<08:37,  1.31it/s]"
     ]
    },
    {
     "name": "stdout",
     "output_type": "stream",
     "text": [
      "orientation_error\n",
      "tensor([45.9408, 43.3490, 42.1719, 41.7830, 41.7694, 42.9019, 44.1005, 45.0278,\n",
      "        46.0702, 46.2247, 48.0149, 50.4609, 51.8793, 49.1019, 50.4580, 63.3406,\n",
      "        61.9316, 60.8538, 46.5603, 45.3651, 41.5790, 38.0359, 37.9137, 38.1284,\n",
      "        39.6226, 39.8203, 40.5308, 43.5519, 45.0919, 46.6656, 57.8801, 57.4396],\n",
      "       device='cuda:0', dtype=torch.float64)\n",
      "\n"
     ]
    },
    {
     "name": "stderr",
     "output_type": "stream",
     "text": [
      "\r",
      "Eval:  39%|███▉      | 434/1110 [05:48<08:08,  1.38it/s]"
     ]
    },
    {
     "name": "stdout",
     "output_type": "stream",
     "text": [
      "orientation_error\n",
      "tensor([56.6617, 55.2231, 52.9719, 53.5476, 53.3927, 42.0348, 54.9804, 53.2398,\n",
      "        53.6517, 53.5753, 53.2237, 54.1161, 53.1965, 55.9486, 53.0245, 52.7430,\n",
      "        53.6935, 53.9748, 52.6862, 52.4903, 53.0989, 52.3424, 52.1454, 51.4495,\n",
      "        51.2230, 53.4271, 52.7544, 51.9022, 50.7068, 49.9889, 49.7495, 48.8046],\n",
      "       device='cuda:0', dtype=torch.float64)\n",
      "\n"
     ]
    },
    {
     "name": "stderr",
     "output_type": "stream",
     "text": [
      "\r",
      "Eval:  39%|███▉      | 435/1110 [05:49<08:39,  1.30it/s]"
     ]
    },
    {
     "name": "stdout",
     "output_type": "stream",
     "text": [
      "orientation_error\n",
      "tensor([48.0877, 47.6428, 48.5025, 48.9596, 48.5283, 48.7813, 49.7591, 50.4124,\n",
      "        50.1936, 49.8543, 50.3430, 49.5622, 49.0731, 49.0867, 49.6303, 48.5555,\n",
      "        49.0552, 49.4699, 49.6855, 49.6078, 49.7483, 49.0321, 48.6259, 49.0165,\n",
      "        49.5484, 49.5608, 50.4366, 50.4269, 50.3662, 50.1476, 50.0992, 49.6903],\n",
      "       device='cuda:0', dtype=torch.float64)\n",
      "\n"
     ]
    },
    {
     "name": "stderr",
     "output_type": "stream",
     "text": [
      "\r",
      "Eval:  39%|███▉      | 436/1110 [05:50<09:34,  1.17it/s]"
     ]
    },
    {
     "name": "stdout",
     "output_type": "stream",
     "text": [
      "orientation_error\n",
      "tensor([48.9584, 47.4635, 47.0906, 60.9968, 61.1783, 62.0444, 62.1114, 61.7771,\n",
      "        48.3157, 48.5809, 63.5984, 73.9032, 60.3445, 60.2324, 59.3277, 59.2374,\n",
      "        58.5074, 58.6055, 57.0729, 58.8498, 58.3011, 58.7032, 58.9784, 59.2889,\n",
      "        59.0746, 59.3615, 59.3107, 59.8287, 59.8430, 59.8434, 60.7723, 61.4206],\n",
      "       device='cuda:0', dtype=torch.float64)\n",
      "\n"
     ]
    },
    {
     "name": "stderr",
     "output_type": "stream",
     "text": [
      "\r",
      "Eval:  39%|███▉      | 437/1110 [05:50<08:01,  1.40it/s]"
     ]
    },
    {
     "name": "stdout",
     "output_type": "stream",
     "text": [
      "orientation_error\n",
      "tensor([61.3515, 60.7812, 60.6481, 61.2059, 60.8442, 51.4008, 59.5669, 59.8555,\n",
      "        60.1849, 60.7533, 74.9003, 75.0031, 76.5936, 76.4145, 76.6883, 76.8308,\n",
      "        77.3153, 51.8262, 51.4883, 51.0435, 51.4088, 50.0818, 50.1413, 50.9813,\n",
      "        50.5438, 51.1367, 51.1573, 51.2647, 50.9772, 49.4074, 48.8923, 48.6346],\n",
      "       device='cuda:0', dtype=torch.float64)\n",
      "\n"
     ]
    },
    {
     "name": "stderr",
     "output_type": "stream",
     "text": [
      "\r",
      "Eval:  39%|███▉      | 438/1110 [05:51<06:49,  1.64it/s]"
     ]
    },
    {
     "name": "stdout",
     "output_type": "stream",
     "text": [
      "orientation_error\n",
      "tensor([48.4588, 48.4410, 48.7723, 49.1885, 49.5885, 49.2925, 48.9849, 49.2063,\n",
      "        49.2551, 37.3735, 36.8182, 36.1779, 36.8793, 37.2221, 37.6296, 37.4990,\n",
      "        37.7632, 37.8619, 49.2396, 39.2428, 39.3780, 50.9068, 49.9272, 49.5865,\n",
      "        49.7713, 49.7417, 49.0285, 49.2923, 49.2367, 49.2689, 48.9530, 49.1789],\n",
      "       device='cuda:0', dtype=torch.float64)\n",
      "\n"
     ]
    },
    {
     "name": "stderr",
     "output_type": "stream",
     "text": [
      "\r",
      "Eval:  40%|███▉      | 439/1110 [05:52<08:53,  1.26it/s]"
     ]
    },
    {
     "name": "stdout",
     "output_type": "stream",
     "text": [
      "orientation_error\n",
      "tensor([49.1952, 48.8694, 49.0317, 49.5525, 48.8530, 48.2764, 48.4359, 49.2086,\n",
      "        49.0619, 48.9326, 48.5096, 48.5898, 61.5375, 47.4130, 48.0314, 60.5180,\n",
      "        60.8520, 61.1980, 61.0953, 61.0246, 61.0846, 61.0402, 61.6181, 62.2860,\n",
      "        62.6230, 62.1387, 62.2739, 61.8493, 61.4443, 62.9321, 49.2692, 49.1054],\n",
      "       device='cuda:0', dtype=torch.float64)\n",
      "\n"
     ]
    },
    {
     "name": "stderr",
     "output_type": "stream",
     "text": [
      "\r",
      "Eval:  40%|███▉      | 440/1110 [05:53<08:54,  1.25it/s]"
     ]
    },
    {
     "name": "stdout",
     "output_type": "stream",
     "text": [
      "orientation_error\n",
      "tensor([49.9809, 50.4758, 50.5588, 50.0666, 63.1756, 63.0988, 49.3634, 62.7089,\n",
      "        61.8869, 48.4389, 48.7465, 48.7487, 48.7734, 48.8301, 48.4460, 48.2851,\n",
      "        48.0091, 48.2320, 48.5103, 49.3736, 49.7714, 49.8812, 59.6029, 59.2527,\n",
      "        59.2394, 60.0971, 60.0821, 60.4452, 60.9634, 60.5270, 60.8195, 60.5544],\n",
      "       device='cuda:0', dtype=torch.float64)\n",
      "\n",
      "MPJPE: 97.13350864210015\n",
      "Reconstruction Error: 58.6497318643996\n",
      "\n",
      "Orientation error: 32.238937052739175\n"
     ]
    },
    {
     "name": "stderr",
     "output_type": "stream",
     "text": [
      "\r",
      "Eval:  40%|███▉      | 441/1110 [05:53<08:04,  1.38it/s]"
     ]
    },
    {
     "name": "stdout",
     "output_type": "stream",
     "text": [
      "orientation_error\n",
      "tensor([60.7615, 60.5770, 60.7179, 60.7807, 60.5693, 61.1363, 61.7423, 61.3558,\n",
      "        61.1096, 60.8578, 60.3400, 74.0280, 73.5673, 73.5719, 73.6514, 72.9274,\n",
      "        58.6613, 58.2864, 58.1023, 70.1679, 57.3347, 56.9704, 56.9514, 69.0668,\n",
      "        69.3430, 82.7509, 82.6447, 82.4373, 82.8516, 69.1314, 70.0344, 61.2121],\n",
      "       device='cuda:0', dtype=torch.float64)\n",
      "\n",
      "orientation_error\n",
      "tensor([61.4568, 60.8976, 61.5157, 61.6947, 60.9396, 60.4024, 60.3839, 61.1090,\n",
      "        50.2312, 50.7666, 51.0681, 62.6112, 62.2188, 62.1484, 61.2240, 61.6720,\n",
      "        62.7603, 73.0419, 72.7016, 63.1216, 52.1749, 51.7577, 62.2356, 41.0693,\n",
      "        40.0652, 40.6154, 52.6732, 62.0801, 61.9861, 61.9470, 61.8808, 62.4653],\n",
      "       device='cuda:0', dtype=torch.float64)\n",
      "\n"
     ]
    },
    {
     "name": "stderr",
     "output_type": "stream",
     "text": [
      "Eval:  40%|███▉      | 443/1110 [05:55<08:01,  1.39it/s]"
     ]
    },
    {
     "name": "stdout",
     "output_type": "stream",
     "text": [
      "orientation_error\n",
      "tensor([63.1792, 64.8106, 65.5114, 66.1498, 67.3529, 67.1200, 75.4108, 65.2838,\n",
      "        54.8717, 54.1498, 72.6201, 72.0796, 71.1852, 71.2065, 71.0837, 71.4271,\n",
      "        71.1887, 70.9436, 71.6324, 86.2963, 86.6037, 87.0497, 73.7857, 73.1833,\n",
      "        72.1805, 62.4022, 62.5756, 62.4647, 71.4485, 71.7925, 72.1964, 60.3794],\n",
      "       device='cuda:0', dtype=torch.float64)\n",
      "\n"
     ]
    },
    {
     "name": "stderr",
     "output_type": "stream",
     "text": [
      "\r",
      "Eval:  40%|████      | 444/1110 [05:55<07:56,  1.40it/s]"
     ]
    },
    {
     "name": "stdout",
     "output_type": "stream",
     "text": [
      "orientation_error\n",
      "tensor([60.3504, 60.9036, 61.7629, 62.8076, 63.2061, 63.7893, 64.4003, 64.7788,\n",
      "        64.7668, 64.0526, 62.8401, 63.1643, 52.7524, 52.9223, 62.0553, 53.5842,\n",
      "        53.3777, 53.4618, 53.6232, 52.9661, 53.0399, 52.4244, 53.7471, 52.8043,\n",
      "        51.6904, 51.5349, 51.8106, 51.3988, 51.0977, 50.2506, 49.7058, 58.2173],\n",
      "       device='cuda:0', dtype=torch.float64)\n",
      "\n"
     ]
    },
    {
     "name": "stderr",
     "output_type": "stream",
     "text": [
      "\r",
      "Eval:  40%|████      | 445/1110 [05:56<07:49,  1.42it/s]"
     ]
    },
    {
     "name": "stdout",
     "output_type": "stream",
     "text": [
      "orientation_error\n",
      "tensor([49.7890, 50.6548, 50.1831, 70.8004, 70.9442, 62.3919, 73.0749, 74.0650,\n",
      "        74.6549, 65.8170, 65.4991, 53.5423, 52.3725, 51.3075, 51.6003, 51.5476,\n",
      "        51.2914, 50.7928, 50.5300, 50.4943, 50.3506, 49.8684, 49.7417, 50.0659,\n",
      "        50.4135, 50.4750, 51.1517, 61.1154, 60.6817, 59.5025, 70.8584, 58.8036],\n",
      "       device='cuda:0', dtype=torch.float64)\n",
      "\n"
     ]
    },
    {
     "name": "stderr",
     "output_type": "stream",
     "text": [
      "\r",
      "Eval:  40%|████      | 446/1110 [05:57<07:39,  1.45it/s]"
     ]
    },
    {
     "name": "stdout",
     "output_type": "stream",
     "text": [
      "orientation_error\n",
      "tensor([58.4256, 58.9114, 48.4602, 69.4332, 69.2786, 69.4112, 69.4185, 68.9830,\n",
      "        60.0732, 69.3597, 70.3886, 61.5066, 72.3290, 72.3891, 72.2306, 72.3952,\n",
      "        71.6302, 70.8490, 70.7061, 71.4593, 59.1014, 59.0834, 72.5446, 59.0250,\n",
      "        71.9246, 72.3945, 71.4696, 72.5079, 72.2570, 71.7726, 72.4416, 72.6631],\n",
      "       device='cuda:0', dtype=torch.float64)\n",
      "\n"
     ]
    },
    {
     "name": "stderr",
     "output_type": "stream",
     "text": [
      "\r",
      "Eval:  40%|████      | 447/1110 [05:58<07:59,  1.38it/s]"
     ]
    },
    {
     "name": "stdout",
     "output_type": "stream",
     "text": [
      "orientation_error\n",
      "tensor([71.8704, 71.4080, 71.3544, 71.0303, 71.0021, 48.9729, 48.7418, 48.2412,\n",
      "        47.9741, 47.8202, 59.9580, 69.6748, 69.5930, 48.6806, 48.8146, 49.8656,\n",
      "        73.1173, 73.0265, 49.9462, 71.9219, 71.2743, 70.9394, 69.5409, 33.9404,\n",
      "        52.9078, 28.8865, 38.6170, 47.3927, 38.0844, 46.9526, 45.9971, 44.6248],\n",
      "       device='cuda:0', dtype=torch.float64)\n",
      "\n"
     ]
    },
    {
     "name": "stderr",
     "output_type": "stream",
     "text": [
      "\r",
      "Eval:  40%|████      | 448/1110 [05:58<08:28,  1.30it/s]"
     ]
    },
    {
     "name": "stdout",
     "output_type": "stream",
     "text": [
      "orientation_error\n",
      "tensor([44.7807, 44.4926, 45.0395, 45.2961, 45.3783, 35.9151, 36.1197, 35.9361,\n",
      "        35.9370, 35.3675, 35.0632, 34.5926, 44.3904, 35.2406, 45.7505, 46.2195,\n",
      "        37.1336, 48.9151, 40.5020, 40.8003, 48.4735, 48.9569, 49.2346, 47.6360,\n",
      "        47.6182, 46.9669, 46.3674, 46.2557, 46.4214, 46.7091, 44.9205, 44.5166],\n",
      "       device='cuda:0', dtype=torch.float64)\n",
      "\n",
      "orientation_error\n",
      "tensor([44.7649, 45.5665, 45.8013, 46.0031, 46.6230, 47.4439, 47.0242, 47.7695,\n",
      "        35.5420, 35.3243, 35.3019, 35.2925, 46.0630, 45.8637, 45.8820, 46.2999,\n",
      "        45.5219, 46.0355, 50.6414, 51.4331, 62.6822, 62.1210, 56.6644, 52.3956,\n",
      "        58.6457, 49.4902, 48.4230, 46.0123, 45.5006, 45.6001, 46.1436, 46.1645],\n",
      "       device='cuda:0', dtype=torch.float64)\n",
      "\n"
     ]
    },
    {
     "name": "stderr",
     "output_type": "stream",
     "text": [
      "Eval:  41%|████      | 450/1110 [06:00<08:04,  1.36it/s]"
     ]
    },
    {
     "name": "stdout",
     "output_type": "stream",
     "text": [
      "orientation_error\n",
      "tensor([46.2135, 46.2024, 45.4044, 43.9858, 43.2328, 42.9493, 31.8778, 30.6201,\n",
      "        31.2417, 43.3266, 32.8778, 32.8112, 31.9532, 32.8956, 31.7607, 32.8648,\n",
      "        33.0622, 45.6317, 44.5617, 44.8253, 44.8043, 45.2470, 46.0890, 46.7076,\n",
      "        47.2545, 47.7370, 48.7076, 47.4000, 47.1098, 47.0582, 47.5522, 47.5584],\n",
      "       device='cuda:0', dtype=torch.float64)\n",
      "\n"
     ]
    },
    {
     "name": "stderr",
     "output_type": "stream",
     "text": [
      "\r",
      "Eval:  41%|████      | 451/1110 [06:00<07:35,  1.45it/s]"
     ]
    },
    {
     "name": "stdout",
     "output_type": "stream",
     "text": [
      "orientation_error\n",
      "tensor([46.3967, 49.4127, 48.5414, 48.6933, 49.3619, 51.6474, 53.1313, 68.8931,\n",
      "        47.1994, 43.1432, 44.4954, 43.8402, 46.6953, 45.9032, 45.3898, 46.0785,\n",
      "        46.0724, 48.4493, 48.6850, 53.0089, 46.9470, 64.8655, 64.3025, 61.7735,\n",
      "        63.6843, 64.9325, 66.1647, 66.8106, 67.6148, 58.2584, 69.9256, 57.9720],\n",
      "       device='cuda:0', dtype=torch.float64)\n",
      "\n"
     ]
    },
    {
     "name": "stderr",
     "output_type": "stream",
     "text": [
      "\r",
      "Eval:  41%|████      | 452/1110 [06:01<07:26,  1.47it/s]"
     ]
    },
    {
     "name": "stdout",
     "output_type": "stream",
     "text": [
      "orientation_error\n",
      "tensor([67.6109, 35.5973, 46.0093, 52.7415, 41.1681, 55.8970, 57.5918, 56.7949,\n",
      "        59.2089, 57.0950, 57.4110, 57.0025, 56.5901, 56.0902, 56.4261, 56.3420,\n",
      "        58.7885, 58.6320, 58.8913, 58.4189, 57.9799, 57.9548, 57.2303, 57.1275,\n",
      "        56.7217, 54.1993, 53.8621, 54.0263, 52.5456, 47.3645, 29.3531, 26.7179],\n",
      "       device='cuda:0', dtype=torch.float64)\n",
      "\n"
     ]
    },
    {
     "name": "stderr",
     "output_type": "stream",
     "text": [
      "\r",
      "Eval:  41%|████      | 453/1110 [06:02<06:38,  1.65it/s]"
     ]
    },
    {
     "name": "stdout",
     "output_type": "stream",
     "text": [
      "orientation_error\n",
      "tensor([27.9470, 24.1731, 27.1140, 33.1908, 31.2311, 29.6247, 32.4445, 32.5212,\n",
      "        29.8380, 28.6428, 32.3323, 28.7824, 33.9526, 36.2127, 38.3055, 24.2645,\n",
      "        25.3647, 35.9598, 35.7675, 36.2158, 34.8329, 36.1942, 37.5454, 36.8851,\n",
      "        35.6992, 30.2217, 29.9156, 46.0431, 50.5594, 51.3055, 50.7954, 51.3017],\n",
      "       device='cuda:0', dtype=torch.float64)\n",
      "\n"
     ]
    },
    {
     "name": "stderr",
     "output_type": "stream",
     "text": [
      "\r",
      "Eval:  41%|████      | 454/1110 [06:02<06:08,  1.78it/s]"
     ]
    },
    {
     "name": "stdout",
     "output_type": "stream",
     "text": [
      "orientation_error\n",
      "tensor([48.1305, 48.4331, 47.6923, 48.5564, 34.3399, 36.6450, 37.3772, 37.3237,\n",
      "        40.5817, 39.7185, 40.3722, 38.8715, 32.1266, 31.8779, 30.0713, 30.0502,\n",
      "        31.8600, 31.1775, 31.7082, 39.0545, 26.0534, 35.2187, 36.8239, 44.1935,\n",
      "        32.5965, 30.1404, 30.4481, 26.9883, 28.4607, 28.4801, 28.2193, 31.5622],\n",
      "       device='cuda:0', dtype=torch.float64)\n",
      "\n"
     ]
    },
    {
     "name": "stderr",
     "output_type": "stream",
     "text": [
      "\r",
      "Eval:  41%|████      | 455/1110 [06:03<06:06,  1.79it/s]"
     ]
    },
    {
     "name": "stdout",
     "output_type": "stream",
     "text": [
      "orientation_error\n",
      "tensor([29.6863, 32.9514, 31.8328, 31.0312, 31.4226, 45.1729, 44.6813, 42.9346,\n",
      "        28.3682, 41.6605, 41.1608, 39.4251, 25.0996, 24.1931, 25.3278, 23.7800,\n",
      "        22.4637, 23.5272, 23.4025, 22.8650, 22.7638, 23.5137, 23.5546, 23.4685,\n",
      "        22.4372, 22.3455, 21.5785, 22.3483, 23.3894, 24.0748, 26.7883, 26.2209],\n",
      "       device='cuda:0', dtype=torch.float64)\n",
      "\n"
     ]
    },
    {
     "name": "stderr",
     "output_type": "stream",
     "text": [
      "\r",
      "Eval:  41%|████      | 456/1110 [06:03<05:59,  1.82it/s]"
     ]
    },
    {
     "name": "stdout",
     "output_type": "stream",
     "text": [
      "orientation_error\n",
      "tensor([27.3629, 29.2172, 28.6110, 30.1877, 29.8057, 28.0640, 27.9604, 28.4776,\n",
      "        27.6884, 27.8739, 28.9932, 30.0893, 28.5641, 27.8267, 27.6328, 28.0616,\n",
      "        26.7504, 26.8725, 27.1806, 28.5871, 26.8894, 28.8024, 30.0007, 32.3181,\n",
      "        33.7248, 33.8743, 35.8324, 36.2211, 37.3791, 35.2997, 35.8326, 38.8283],\n",
      "       device='cuda:0', dtype=torch.float64)\n",
      "\n"
     ]
    },
    {
     "name": "stderr",
     "output_type": "stream",
     "text": [
      "\r",
      "Eval:  41%|████      | 457/1110 [06:03<05:21,  2.03it/s]"
     ]
    },
    {
     "name": "stdout",
     "output_type": "stream",
     "text": [
      "orientation_error\n",
      "tensor([41.9151, 43.6215, 46.5394, 50.1349, 51.7044, 52.0651, 54.9459, 53.8575,\n",
      "        53.5885, 53.5786, 52.6986, 52.5001, 52.8811, 53.1274, 53.5779, 53.9048,\n",
      "        53.3786, 55.3503, 54.6142, 55.2597, 57.0795, 60.1238, 66.3123, 69.8597,\n",
      "        70.0055, 68.8439, 55.2609, 56.3134, 56.2316, 56.3114, 55.0884, 53.7348],\n",
      "       device='cuda:0', dtype=torch.float64)\n",
      "\n"
     ]
    },
    {
     "name": "stderr",
     "output_type": "stream",
     "text": [
      "\r",
      "Eval:  41%|████▏     | 458/1110 [06:04<04:46,  2.27it/s]"
     ]
    },
    {
     "name": "stdout",
     "output_type": "stream",
     "text": [
      "orientation_error\n",
      "tensor([54.2601, 54.8813, 53.7661, 53.0558, 52.6141, 52.6842, 54.1458, 54.4650,\n",
      "        53.9674, 53.4971, 54.3599, 55.0874, 54.8370, 54.2890, 54.4546, 61.2397,\n",
      "        63.0564, 62.6167, 61.7201, 62.3590, 62.7045, 62.4772, 61.7376, 57.7037,\n",
      "        49.7550, 76.0682, 63.3499, 59.0058, 58.2057, 58.2620, 56.6407, 55.8882],\n",
      "       device='cuda:0', dtype=torch.float64)\n",
      "\n"
     ]
    },
    {
     "name": "stderr",
     "output_type": "stream",
     "text": [
      "\r",
      "Eval:  41%|████▏     | 459/1110 [06:05<06:48,  1.59it/s]"
     ]
    },
    {
     "name": "stdout",
     "output_type": "stream",
     "text": [
      "orientation_error\n",
      "tensor([55.2891, 54.6903, 54.4265, 54.5262, 54.2079, 55.0753, 55.4399, 54.9102,\n",
      "        55.3299, 54.6826, 54.4134, 55.9172, 55.0935, 54.3582, 55.2003, 55.3000,\n",
      "        54.9902, 54.9836, 54.6298, 54.2784, 56.3633, 56.3980, 56.9985, 70.9191,\n",
      "        69.6879, 56.9131, 70.1730, 54.7941, 70.7241, 70.0811, 54.4835, 68.9088],\n",
      "       device='cuda:0', dtype=torch.float64)\n",
      "\n"
     ]
    },
    {
     "name": "stderr",
     "output_type": "stream",
     "text": [
      "\r",
      "Eval:  41%|████▏     | 460/1110 [06:05<06:12,  1.75it/s]"
     ]
    },
    {
     "name": "stdout",
     "output_type": "stream",
     "text": [
      "orientation_error\n",
      "tensor([57.3940, 53.6350, 52.3410, 56.1376, 57.0264, 44.9892, 55.7132, 54.4469,\n",
      "        68.5210, 68.5146, 82.5144, 83.0420, 83.2460, 82.5315, 83.3203, 68.6421,\n",
      "        83.2912, 53.3345, 69.0250, 84.0193, 61.3764, 61.3017, 55.3986, 62.5275,\n",
      "        63.8156, 46.8748, 60.5172, 58.8212, 44.2762, 44.3138, 44.7730, 45.5903],\n",
      "       device='cuda:0', dtype=torch.float64)\n",
      "\n",
      "MPJPE: 96.64615257318519\n",
      "Reconstruction Error: 58.50512616200401\n",
      "\n",
      "Orientation error: 33.07045769883848\n"
     ]
    },
    {
     "name": "stderr",
     "output_type": "stream",
     "text": [
      "\r",
      "Eval:  42%|████▏     | 461/1110 [06:06<06:27,  1.68it/s]"
     ]
    },
    {
     "name": "stdout",
     "output_type": "stream",
     "text": [
      "orientation_error\n",
      "tensor([46.3029, 48.5781, 48.3833, 47.0476, 55.3554, 73.2159, 69.4893, 70.4655,\n",
      "        76.3439, 60.6764, 65.6752, 62.3732, 47.5656, 60.5782, 46.6058, 46.5601,\n",
      "        47.2281, 47.1799, 47.2911, 47.4846, 48.2133, 48.9223, 48.5054, 48.3075,\n",
      "        48.2680, 48.4104, 49.0750, 49.6175, 49.5535, 50.0737, 50.0570, 50.3578],\n",
      "       device='cuda:0', dtype=torch.float64)\n",
      "\n"
     ]
    },
    {
     "name": "stderr",
     "output_type": "stream",
     "text": [
      "\r",
      "Eval:  42%|████▏     | 462/1110 [06:06<05:52,  1.84it/s]"
     ]
    },
    {
     "name": "stdout",
     "output_type": "stream",
     "text": [
      "orientation_error\n",
      "tensor([50.7677, 50.5427, 50.7438, 51.4470, 52.0994, 51.6818, 51.0834, 51.1292,\n",
      "        51.5698, 51.6827, 51.5251, 51.8900, 51.7007, 51.6981, 51.4165, 51.6978,\n",
      "        51.6543, 51.7099, 51.5415, 50.5311, 49.8625, 49.0927, 49.2898, 49.5133,\n",
      "        49.0469, 49.2347, 49.0872, 49.3343, 49.1694, 49.3458, 49.4204, 48.7707],\n",
      "       device='cuda:0', dtype=torch.float64)\n",
      "\n"
     ]
    },
    {
     "name": "stderr",
     "output_type": "stream",
     "text": [
      "\r",
      "Eval:  42%|████▏     | 463/1110 [06:07<05:35,  1.93it/s]"
     ]
    },
    {
     "name": "stdout",
     "output_type": "stream",
     "text": [
      "orientation_error\n",
      "tensor([48.4783, 48.2635, 49.0345, 48.8433, 48.9760, 48.6505, 48.7463, 48.9782,\n",
      "        49.0463, 49.1942, 48.9859, 47.7354, 47.7046, 47.5017, 46.3009, 46.8081,\n",
      "        47.0284, 46.3111, 44.3198, 44.2413, 42.9592, 43.5219, 41.8526, 41.7568,\n",
      "        42.3368, 40.3044, 40.3862, 40.1590, 36.8614, 25.8096, 22.1379, 34.3668],\n",
      "       device='cuda:0', dtype=torch.float64)\n",
      "\n"
     ]
    },
    {
     "name": "stderr",
     "output_type": "stream",
     "text": [
      "\r",
      "Eval:  42%|████▏     | 464/1110 [06:07<05:07,  2.10it/s]"
     ]
    },
    {
     "name": "stdout",
     "output_type": "stream",
     "text": [
      "orientation_error\n",
      "tensor([19.7189, 33.2897, 33.0372, 33.3268, 19.3033, 19.0839, 32.7716, 32.3725,\n",
      "        31.5406, 31.1642, 31.0146, 31.1351, 31.1536, 31.3679, 31.9054, 32.2743,\n",
      "        32.6095, 32.9319, 33.0656, 32.7636, 32.5688, 32.6818, 33.0621, 33.2807,\n",
      "        33.1661, 33.3284, 33.4135, 33.4438, 33.5288, 33.5701, 33.5230, 33.4803],\n",
      "       device='cuda:0', dtype=torch.float64)\n",
      "\n"
     ]
    },
    {
     "name": "stderr",
     "output_type": "stream",
     "text": [
      "\r",
      "Eval:  42%|████▏     | 465/1110 [06:07<04:42,  2.28it/s]"
     ]
    },
    {
     "name": "stdout",
     "output_type": "stream",
     "text": [
      "orientation_error\n",
      "tensor([33.3840, 33.2027, 33.0757, 33.1068, 33.1904, 33.1623, 33.2868, 33.1629,\n",
      "        33.1900, 32.9174, 33.0991, 32.9743, 32.5297, 32.6783, 33.0113, 33.2785,\n",
      "        33.1924, 33.4261, 33.6540, 33.6678, 33.8176, 33.8668, 33.8592, 33.7581,\n",
      "        34.1689, 34.0434, 33.9342, 33.7709, 33.5586, 33.6218, 34.0061, 34.2525],\n",
      "       device='cuda:0', dtype=torch.float64)\n",
      "\n"
     ]
    },
    {
     "name": "stderr",
     "output_type": "stream",
     "text": [
      "\r",
      "Eval:  42%|████▏     | 466/1110 [06:08<04:49,  2.23it/s]"
     ]
    },
    {
     "name": "stdout",
     "output_type": "stream",
     "text": [
      "orientation_error\n",
      "tensor([34.2153, 34.3785, 34.3980, 34.3238, 34.3801, 34.6803, 34.5149, 34.7453,\n",
      "        35.6663, 36.6373, 37.1892, 37.0345, 36.5751, 36.5360, 36.6469, 36.4844,\n",
      "        35.8890, 34.9306, 34.5580, 34.7591, 33.7460, 34.1376, 20.1237, 32.4859,\n",
      "        32.4746, 32.2323, 31.8415, 31.9957, 31.9641, 31.7301, 31.7127, 31.5615],\n",
      "       device='cuda:0', dtype=torch.float64)\n",
      "\n"
     ]
    },
    {
     "name": "stderr",
     "output_type": "stream",
     "text": [
      "\r",
      "Eval:  42%|████▏     | 467/1110 [06:09<05:20,  2.00it/s]"
     ]
    },
    {
     "name": "stdout",
     "output_type": "stream",
     "text": [
      "orientation_error\n",
      "tensor([31.5741, 31.7024, 31.5379, 31.5896, 31.6007, 31.8153, 31.8973, 32.3023,\n",
      "        32.8985, 33.3850, 33.5554, 33.7192, 33.9446, 33.6144, 33.9535, 33.6726,\n",
      "        33.6137, 33.7148, 33.2901, 33.0627, 33.1594, 32.8410, 32.7344, 32.6084,\n",
      "        32.5747, 32.8281, 32.8810, 33.1504, 33.3385, 33.4203, 34.0468, 34.1780],\n",
      "       device='cuda:0', dtype=torch.float64)\n",
      "\n"
     ]
    },
    {
     "name": "stderr",
     "output_type": "stream",
     "text": [
      "\r",
      "Eval:  42%|████▏     | 468/1110 [06:09<05:09,  2.07it/s]"
     ]
    },
    {
     "name": "stdout",
     "output_type": "stream",
     "text": [
      "orientation_error\n",
      "tensor([34.2963, 34.4359, 34.6176, 34.7156, 34.9083, 35.0124, 34.8093, 34.7016,\n",
      "        34.5556, 34.3284, 33.4011, 33.1761, 33.6581, 33.7535, 33.5051, 33.1931,\n",
      "        33.4236, 33.0788, 33.4355, 33.7966, 33.9703, 34.3669, 34.2977, 34.6138,\n",
      "        34.8397, 34.6493, 34.6455, 34.5105, 34.6327, 35.5536, 36.0980, 21.4954],\n",
      "       device='cuda:0', dtype=torch.float64)\n",
      "\n"
     ]
    },
    {
     "name": "stderr",
     "output_type": "stream",
     "text": [
      "\r",
      "Eval:  42%|████▏     | 469/1110 [06:09<04:44,  2.25it/s]"
     ]
    },
    {
     "name": "stdout",
     "output_type": "stream",
     "text": [
      "orientation_error\n",
      "tensor([20.6662, 19.8901, 20.7693, 21.3196, 21.4211, 22.2557, 22.5782, 22.3863,\n",
      "        21.6537, 22.0196, 22.9460, 23.1613, 23.8346, 24.0165, 23.7659, 23.7980,\n",
      "        23.9769, 25.7771, 39.7729, 25.6419, 25.6336, 25.3379, 23.2624, 23.3294,\n",
      "        22.5262, 22.0983, 20.7150, 20.7636, 20.8264, 21.8383, 22.5222, 24.1855],\n",
      "       device='cuda:0', dtype=torch.float64)\n",
      "\n"
     ]
    },
    {
     "name": "stderr",
     "output_type": "stream",
     "text": [
      "\r",
      "Eval:  42%|████▏     | 470/1110 [06:10<04:22,  2.44it/s]"
     ]
    },
    {
     "name": "stdout",
     "output_type": "stream",
     "text": [
      "orientation_error\n",
      "tensor([39.0131, 39.4882, 39.2898, 39.9382, 41.7800, 42.2622, 42.3234, 42.2567,\n",
      "        26.9881, 26.7296, 24.8391, 24.8307, 24.6787, 24.2571, 23.3077, 22.4519,\n",
      "        21.8569, 21.8761, 22.2026, 22.2556, 36.8506, 37.8445, 24.6047, 25.2729,\n",
      "        25.3593, 24.6586, 23.7542, 23.3510, 22.5650, 36.7472, 21.8920, 21.0961],\n",
      "       device='cuda:0', dtype=torch.float64)\n",
      "\n"
     ]
    },
    {
     "name": "stderr",
     "output_type": "stream",
     "text": [
      "\r",
      "Eval:  42%|████▏     | 471/1110 [06:10<04:21,  2.45it/s]"
     ]
    },
    {
     "name": "stdout",
     "output_type": "stream",
     "text": [
      "orientation_error\n",
      "tensor([20.3969, 20.6003, 21.0421, 21.6717, 22.4046, 22.5203, 23.1286, 23.6535,\n",
      "        23.5608, 23.2578, 23.4691, 22.6214, 22.7781, 22.8492, 21.8963, 20.3459,\n",
      "        20.5785, 20.8844, 21.0081, 21.0831, 20.9577, 21.1412, 21.5464, 36.7480,\n",
      "        37.2192, 38.0391, 38.7686, 39.9056, 39.3233, 39.0932, 37.6282, 37.3016],\n",
      "       device='cuda:0', dtype=torch.float64)\n",
      "\n"
     ]
    },
    {
     "name": "stderr",
     "output_type": "stream",
     "text": [
      "\r",
      "Eval:  43%|████▎     | 472/1110 [06:11<04:19,  2.46it/s]"
     ]
    },
    {
     "name": "stdout",
     "output_type": "stream",
     "text": [
      "orientation_error\n",
      "tensor([21.9728, 21.0468, 20.4261, 20.0115, 20.3024, 21.4973, 21.2798, 35.4978,\n",
      "        19.6280, 33.9301, 20.0864, 19.3783, 19.0712, 18.9597, 19.1079, 19.2947,\n",
      "        18.7296, 18.7493, 17.9375, 17.7684, 16.7838, 17.1912, 17.3805, 17.2987,\n",
      "        17.9746, 17.7700, 17.8052, 18.2237, 20.2577, 21.9137, 22.0535, 21.8716],\n",
      "       device='cuda:0', dtype=torch.float64)\n",
      "\n"
     ]
    },
    {
     "name": "stderr",
     "output_type": "stream",
     "text": [
      "\r",
      "Eval:  43%|████▎     | 473/1110 [06:11<04:26,  2.39it/s]"
     ]
    },
    {
     "name": "stdout",
     "output_type": "stream",
     "text": [
      "orientation_error\n",
      "tensor([21.5376, 21.3853, 21.6230, 20.3157, 18.8759, 16.6128, 16.8003, 17.6378,\n",
      "        17.4907, 17.1318, 17.3203, 17.4982, 18.2170, 19.1062, 20.8487, 20.2345,\n",
      "        20.7367, 20.7422, 21.9882, 21.4090, 19.9767, 19.4169, 18.1747, 18.5464,\n",
      "        18.4168, 18.1776, 18.7695, 19.0931, 19.3786, 20.3627, 20.9598, 22.1251],\n",
      "       device='cuda:0', dtype=torch.float64)\n",
      "\n"
     ]
    },
    {
     "name": "stderr",
     "output_type": "stream",
     "text": [
      "\r",
      "Eval:  43%|████▎     | 474/1110 [06:12<04:51,  2.18it/s]"
     ]
    },
    {
     "name": "stdout",
     "output_type": "stream",
     "text": [
      "orientation_error\n",
      "tensor([23.0445, 23.3583, 23.2825, 22.4165, 21.3372, 18.5935, 20.6317, 19.8023,\n",
      "        19.0649, 17.8589, 17.9987, 17.7804, 16.9356, 17.0615, 18.1203, 18.4808,\n",
      "        19.9167, 19.6349, 19.0594, 19.8773, 19.9356, 19.3683, 19.5042, 18.9784,\n",
      "        18.1850, 18.6502, 17.0255, 19.2202, 18.5888, 19.0787, 19.3082, 19.4641],\n",
      "       device='cuda:0', dtype=torch.float64)\n",
      "\n"
     ]
    },
    {
     "name": "stderr",
     "output_type": "stream",
     "text": [
      "\r",
      "Eval:  43%|████▎     | 475/1110 [06:12<05:24,  1.95it/s]"
     ]
    },
    {
     "name": "stdout",
     "output_type": "stream",
     "text": [
      "orientation_error\n",
      "tensor([19.3974, 18.5926, 20.1983, 18.7502, 20.0183, 18.0087, 21.0010, 20.4469,\n",
      "        20.1310, 18.7423, 18.2301, 16.8468, 17.5428, 17.1735, 16.9779, 16.5816,\n",
      "        16.7069, 16.2844, 16.3856, 17.3587, 17.8626, 20.0165, 20.4372, 19.7394,\n",
      "        18.4006, 18.3592, 16.9061, 17.8852, 18.2901, 18.1654, 18.3080, 17.8043],\n",
      "       device='cuda:0', dtype=torch.float64)\n",
      "\n"
     ]
    },
    {
     "name": "stderr",
     "output_type": "stream",
     "text": [
      "\r",
      "Eval:  43%|████▎     | 476/1110 [06:13<05:48,  1.82it/s]"
     ]
    },
    {
     "name": "stdout",
     "output_type": "stream",
     "text": [
      "orientation_error\n",
      "tensor([18.4559, 18.9855, 18.8597, 19.3687, 20.9874, 21.9917, 23.9600, 24.3763,\n",
      "        24.2161, 23.0623, 23.0790, 22.4596, 22.2029, 21.2383, 19.7471, 18.1417,\n",
      "        17.7042, 17.9214, 18.3231, 19.0870, 20.5200, 20.5865, 20.2333, 19.4049,\n",
      "        18.8828, 18.5729, 20.0426, 19.2036, 19.3188, 20.0126, 19.3715, 19.2970],\n",
      "       device='cuda:0', dtype=torch.float64)\n",
      "\n"
     ]
    },
    {
     "name": "stderr",
     "output_type": "stream",
     "text": [
      "\r",
      "Eval:  43%|████▎     | 477/1110 [06:13<06:04,  1.74it/s]"
     ]
    },
    {
     "name": "stdout",
     "output_type": "stream",
     "text": [
      "orientation_error\n",
      "tensor([20.2455, 19.5288, 20.6183, 20.0721, 19.6409, 19.8012, 19.9794, 20.3070,\n",
      "        20.4795, 20.5303, 21.8661, 23.0339, 23.6280, 25.0610, 24.5861, 24.2172,\n",
      "        22.8546, 22.3208, 22.2934, 22.0284, 20.9737, 20.2220, 19.5937, 20.1897,\n",
      "        20.4117, 20.3633, 20.9504, 21.1589, 21.0116, 21.4940, 22.4103, 22.0648],\n",
      "       device='cuda:0', dtype=torch.float64)\n",
      "\n"
     ]
    },
    {
     "name": "stderr",
     "output_type": "stream",
     "text": [
      "\r",
      "Eval:  43%|████▎     | 478/1110 [06:14<06:26,  1.64it/s]"
     ]
    },
    {
     "name": "stdout",
     "output_type": "stream",
     "text": [
      "orientation_error\n",
      "tensor([21.7259, 21.6895, 21.6382, 21.8999, 20.3812, 20.5291, 20.0321, 21.5675,\n",
      "        21.4707, 21.6662, 23.2196, 22.1686, 21.4420, 21.9647, 35.9899, 37.4115,\n",
      "        39.1508, 39.9442, 25.7573, 26.2706, 25.9791, 24.0983, 23.8002, 23.0119,\n",
      "        21.2945, 20.6567, 19.4817, 19.8671, 20.3760, 35.8779, 37.5419, 37.6001],\n",
      "       device='cuda:0', dtype=torch.float64)\n",
      "\n"
     ]
    },
    {
     "name": "stderr",
     "output_type": "stream",
     "text": [
      "\r",
      "Eval:  43%|████▎     | 479/1110 [06:15<06:10,  1.70it/s]"
     ]
    },
    {
     "name": "stdout",
     "output_type": "stream",
     "text": [
      "orientation_error\n",
      "tensor([39.4447, 40.0144, 40.0742, 26.0330, 26.3184, 26.3279, 26.4349, 25.8173,\n",
      "        24.5931, 23.3279, 23.5513, 22.5399, 23.1264, 22.5217, 22.7050, 22.5589,\n",
      "        22.3042, 21.8994, 21.3005, 20.9102, 21.1351, 21.3773, 21.2849, 21.3892,\n",
      "        35.7182, 35.6677, 35.9957, 35.0964, 34.4923, 34.3655, 35.1814, 35.4650],\n",
      "       device='cuda:0', dtype=torch.float64)\n",
      "\n",
      "orientation_error\n",
      "tensor([35.4489, 35.0561, 35.4024, 34.8597, 34.8739, 21.3204, 20.4734, 20.6796,\n",
      "        20.3235, 19.7553, 20.2919, 20.6251, 19.7405, 19.8797, 19.0241, 19.5797,\n",
      "        20.9835, 21.6521, 22.7005, 23.4527, 37.6794, 37.8969, 38.9422, 39.7494,\n",
      "        41.4398, 41.9199, 41.6112, 40.5640, 39.2770, 37.5961, 36.0295, 35.3929],\n",
      "       device='cuda:0', dtype=torch.float64)\n",
      "\n"
     ]
    },
    {
     "name": "stderr",
     "output_type": "stream",
     "text": [
      "\r",
      "Eval:  43%|████▎     | 480/1110 [06:15<06:46,  1.55it/s]"
     ]
    },
    {
     "name": "stdout",
     "output_type": "stream",
     "text": [
      "MPJPE: 95.80476736015055\n",
      "Reconstruction Error: 58.182424580700705\n",
      "\n",
      "Orientation error: 32.99887383928916\n"
     ]
    },
    {
     "name": "stderr",
     "output_type": "stream",
     "text": [
      "\r",
      "Eval:  43%|████▎     | 481/1110 [06:16<06:03,  1.73it/s]"
     ]
    },
    {
     "name": "stdout",
     "output_type": "stream",
     "text": [
      "orientation_error\n",
      "tensor([34.3409, 33.7451, 34.5263, 34.8670, 35.5470, 35.6160, 36.0578, 35.9495,\n",
      "        36.1310, 37.4451, 37.5428, 37.1037, 22.7016, 22.1788, 23.4307, 36.8265,\n",
      "        21.6506, 20.9043, 22.1207, 21.5186, 21.0178, 21.0289, 20.9227, 21.4344,\n",
      "        21.2444, 35.1912, 34.8249, 35.8048, 36.3296, 37.3959, 37.9908, 37.7361],\n",
      "       device='cuda:0', dtype=torch.float64)\n",
      "\n"
     ]
    },
    {
     "name": "stderr",
     "output_type": "stream",
     "text": [
      "\r",
      "Eval:  43%|████▎     | 482/1110 [06:17<06:33,  1.60it/s]"
     ]
    },
    {
     "name": "stdout",
     "output_type": "stream",
     "text": [
      "orientation_error\n",
      "tensor([37.7122, 37.2178, 36.5724, 36.5592, 36.1342, 35.8348, 35.1583, 35.6166,\n",
      "        35.8538, 35.5495, 35.5628, 35.7144, 35.6894, 35.8935, 35.3436, 35.4129,\n",
      "        35.7327, 21.8399, 22.2550, 21.8730, 21.7663, 21.5294, 21.4136, 21.2078,\n",
      "        22.0910, 21.8661, 22.6493, 22.6170, 22.5746, 22.7110, 37.1121, 37.5797],\n",
      "       device='cuda:0', dtype=torch.float64)\n",
      "\n"
     ]
    },
    {
     "name": "stderr",
     "output_type": "stream",
     "text": [
      "\r",
      "Eval:  44%|████▎     | 483/1110 [06:17<07:04,  1.48it/s]"
     ]
    },
    {
     "name": "stdout",
     "output_type": "stream",
     "text": [
      "orientation_error\n",
      "tensor([38.1964, 37.7458, 37.1845, 37.5168, 36.9169, 36.5873, 36.5698, 36.2970,\n",
      "        35.4642, 34.8729, 35.3110, 34.6221, 20.2646, 20.5286, 34.7885, 34.6882,\n",
      "        34.4936, 34.6531, 34.6855, 34.9357, 34.7162, 34.9633, 35.1011, 35.0349,\n",
      "        19.8332, 20.4061, 20.4913, 20.8086, 20.9500, 21.1610, 36.3542, 36.5422],\n",
      "       device='cuda:0', dtype=torch.float64)\n",
      "\n"
     ]
    },
    {
     "name": "stderr",
     "output_type": "stream",
     "text": [
      "\r",
      "Eval:  44%|████▎     | 484/1110 [06:18<06:47,  1.54it/s]"
     ]
    },
    {
     "name": "stdout",
     "output_type": "stream",
     "text": [
      "orientation_error\n",
      "tensor([36.6091, 37.0656, 38.6772, 38.1023, 37.9469, 37.0610, 36.9342, 36.0722,\n",
      "        35.4295, 35.6653, 19.8895, 19.4938, 18.3530, 18.4053, 18.5053, 19.2035,\n",
      "        19.3711, 19.6118, 19.5591, 20.2063, 20.5800, 21.1521, 21.4306, 21.1155,\n",
      "        20.1718, 20.0042, 20.0767, 20.2277, 21.8962, 21.5523, 21.1180, 20.4247],\n",
      "       device='cuda:0', dtype=torch.float64)\n",
      "\n"
     ]
    },
    {
     "name": "stderr",
     "output_type": "stream",
     "text": [
      "\r",
      "Eval:  44%|████▎     | 485/1110 [06:19<07:31,  1.38it/s]"
     ]
    },
    {
     "name": "stdout",
     "output_type": "stream",
     "text": [
      "orientation_error\n",
      "tensor([20.0106, 19.8581, 19.5928, 20.6184, 21.1147, 20.7061, 21.5317, 22.3678,\n",
      "        22.2819, 21.8122, 20.8447, 20.0583, 20.4838, 34.8476, 33.5074, 33.9314,\n",
      "        33.4027, 33.2468, 32.6847, 32.0188, 31.9135, 31.9009, 32.3058, 32.8285,\n",
      "        33.7562, 33.7697, 33.3023, 32.8009, 32.8775, 18.8024, 19.2101, 18.7947],\n",
      "       device='cuda:0', dtype=torch.float64)\n",
      "\n"
     ]
    },
    {
     "name": "stderr",
     "output_type": "stream",
     "text": [
      "\r",
      "Eval:  44%|████▍     | 486/1110 [06:20<08:37,  1.21it/s]"
     ]
    },
    {
     "name": "stdout",
     "output_type": "stream",
     "text": [
      "orientation_error\n",
      "tensor([19.3516, 19.9629, 20.3059, 21.0671, 20.8388, 21.1262, 34.9236, 33.9946,\n",
      "        35.0943, 35.0551, 35.3023, 36.1782, 36.5685, 36.8981, 36.3388, 37.6117,\n",
      "        37.9046, 37.5501, 37.6496, 36.7114, 35.4610, 34.0545, 34.9848, 35.8627,\n",
      "        35.0175, 34.9354, 34.8048, 36.0047, 35.1222, 36.9519, 36.1515, 37.0382],\n",
      "       device='cuda:0', dtype=torch.float64)\n",
      "\n"
     ]
    },
    {
     "name": "stderr",
     "output_type": "stream",
     "text": [
      "\r",
      "Eval:  44%|████▍     | 487/1110 [06:21<08:08,  1.28it/s]"
     ]
    },
    {
     "name": "stdout",
     "output_type": "stream",
     "text": [
      "orientation_error\n",
      "tensor([35.9609, 35.6155, 35.3573, 35.4640, 35.0674, 37.2806, 37.2002, 35.8582,\n",
      "        36.0003, 21.8345, 36.1676, 36.4231, 35.8546, 35.6027, 20.1775, 34.2017,\n",
      "        34.1758, 20.8474, 20.0783, 20.0818, 20.0184, 33.4658, 33.3850, 32.5395,\n",
      "        32.4901, 31.9161, 32.2113, 33.1112, 31.5776, 17.8470, 31.1520, 32.1117],\n",
      "       device='cuda:0', dtype=torch.float64)\n",
      "\n"
     ]
    },
    {
     "name": "stderr",
     "output_type": "stream",
     "text": [
      "\r",
      "Eval:  44%|████▍     | 488/1110 [06:21<07:58,  1.30it/s]"
     ]
    },
    {
     "name": "stdout",
     "output_type": "stream",
     "text": [
      "orientation_error\n",
      "tensor([32.7783, 33.2863, 31.9891, 18.9527, 19.8771, 34.3101, 31.9770, 31.5846,\n",
      "        32.2448, 31.1735, 31.4486, 31.2948, 17.1061, 32.9483, 33.6798, 34.4150,\n",
      "        34.4140, 33.8830, 33.3210, 33.2065, 34.1784, 20.4978, 33.8119, 33.4892,\n",
      "        19.9358, 33.3793, 33.7557, 32.5576, 31.2009, 31.3030, 20.1947, 19.3067],\n",
      "       device='cuda:0', dtype=torch.float64)\n",
      "\n"
     ]
    },
    {
     "name": "stderr",
     "output_type": "stream",
     "text": [
      "\r",
      "Eval:  44%|████▍     | 489/1110 [06:22<08:03,  1.29it/s]"
     ]
    },
    {
     "name": "stdout",
     "output_type": "stream",
     "text": [
      "orientation_error\n",
      "tensor([21.6182, 20.9720, 21.7682, 34.0435, 34.6741, 35.0104, 34.5928, 33.9186,\n",
      "        33.5756, 32.4549, 32.4285, 31.6890, 32.2712, 20.5955, 21.6903, 20.5143,\n",
      "        21.2080, 20.2150, 32.7830, 34.0463, 33.8577, 34.9302, 35.1563, 35.0263,\n",
      "        35.1720, 34.0271, 33.6274, 32.9963, 33.2321, 32.8849, 33.1773, 34.3084],\n",
      "       device='cuda:0', dtype=torch.float64)\n",
      "\n"
     ]
    },
    {
     "name": "stderr",
     "output_type": "stream",
     "text": [
      "\r",
      "Eval:  44%|████▍     | 490/1110 [06:23<08:47,  1.18it/s]"
     ]
    },
    {
     "name": "stdout",
     "output_type": "stream",
     "text": [
      "orientation_error\n",
      "tensor([34.4875, 35.1085, 21.3789, 21.4129, 21.5950, 21.8141, 34.9690, 21.7003,\n",
      "        21.4160, 34.5880, 33.7259, 33.3655, 33.1764, 33.5458, 33.2382, 32.6966,\n",
      "        31.8719, 31.6434, 31.9889, 31.4492, 31.1172, 32.4106, 33.3304, 32.9356,\n",
      "        34.5014, 25.4498, 25.8636, 23.7311, 35.9530, 37.1161, 36.6162, 38.8291],\n",
      "       device='cuda:0', dtype=torch.float64)\n",
      "\n"
     ]
    },
    {
     "name": "stderr",
     "output_type": "stream",
     "text": [
      "\r",
      "Eval:  44%|████▍     | 491/1110 [06:24<08:13,  1.26it/s]"
     ]
    },
    {
     "name": "stdout",
     "output_type": "stream",
     "text": [
      "orientation_error\n",
      "tensor([36.0943, 35.5862, 33.9860, 31.2959, 31.0185, 31.2851, 31.1328, 31.5864,\n",
      "        32.3804, 19.9916, 34.1292, 35.8150, 36.9838, 38.2620, 28.3828, 32.3344,\n",
      "        31.5900, 30.4030, 30.3174, 29.9474, 30.6344, 32.5745, 32.0771, 32.3351,\n",
      "        39.9051, 35.3892, 45.3164, 37.3628, 30.4592, 29.8320, 30.2405, 29.2144],\n",
      "       device='cuda:0', dtype=torch.float64)\n",
      "\n"
     ]
    },
    {
     "name": "stderr",
     "output_type": "stream",
     "text": [
      "\r",
      "Eval:  44%|████▍     | 492/1110 [06:25<07:57,  1.29it/s]"
     ]
    },
    {
     "name": "stdout",
     "output_type": "stream",
     "text": [
      "orientation_error\n",
      "tensor([35.3378, 36.8509, 32.7898, 24.3143, 21.1598, 18.9985, 24.0564, 26.9327,\n",
      "        28.5471, 20.1333, 24.7004, 26.6793, 26.5818, 28.4022, 26.8152, 26.2491,\n",
      "        25.1527, 22.5291, 23.0092, 22.7276, 20.9304, 20.9641, 20.8946, 21.4849,\n",
      "        24.1543, 23.5488, 25.0807, 25.2643, 21.7409, 19.1986, 19.9860, 20.6220],\n",
      "       device='cuda:0', dtype=torch.float64)\n",
      "\n",
      "orientation_error\n",
      "tensor([20.2015, 19.2198, 19.0373, 18.7027, 19.3301, 19.8856, 35.0086, 35.0882,\n",
      "        35.2191, 35.6744, 37.7308, 38.5344, 38.6045, 38.8536, 40.4526, 25.7335,\n",
      "        24.5347, 24.4447, 23.1451, 22.6038, 21.3345, 19.0675, 16.8754, 16.8163,\n",
      "        16.8814, 16.3725, 16.4562, 16.8482, 19.8568, 18.4568, 19.7680, 20.3720],\n",
      "       device='cuda:0', dtype=torch.float64)\n",
      "\n"
     ]
    },
    {
     "name": "stderr",
     "output_type": "stream",
     "text": [
      "\r",
      "Eval:  44%|████▍     | 493/1110 [06:25<08:13,  1.25it/s]"
     ]
    },
    {
     "name": "stdout",
     "output_type": "stream",
     "text": [
      "orientation_error\n",
      "tensor([20.5374, 21.6843, 22.5865, 22.1214, 21.1906, 21.5340, 22.5264, 24.2120,\n",
      "        22.8350, 22.3052, 22.4836, 22.9893, 21.8449, 20.8451, 20.5365, 21.6381,\n",
      "        22.2607, 22.3798, 22.2109, 22.1134, 19.5503, 18.8316, 19.0381, 18.4081,\n",
      "        18.8028, 18.8284, 19.1991, 19.5553, 19.4612, 18.2531, 17.5716, 16.8782],\n",
      "       device='cuda:0', dtype=torch.float64)\n",
      "\n"
     ]
    },
    {
     "name": "stderr",
     "output_type": "stream",
     "text": [
      "Eval:  45%|████▍     | 495/1110 [06:27<07:26,  1.38it/s]"
     ]
    },
    {
     "name": "stdout",
     "output_type": "stream",
     "text": [
      "orientation_error\n",
      "tensor([31.4662, 31.0565, 31.7693, 30.5622, 31.0605, 30.3125, 30.6527, 31.1822,\n",
      "        30.9830, 31.1020, 31.5159, 32.0233, 32.1451, 32.7031, 34.2115, 35.3484,\n",
      "        35.3183, 35.4788, 33.6666, 34.7148, 33.7755, 19.1082, 19.6882, 19.6086,\n",
      "        21.0342, 22.1543, 22.0063, 22.6375, 22.9444, 23.3765, 22.3388, 23.0119],\n",
      "       device='cuda:0', dtype=torch.float64)\n",
      "\n"
     ]
    },
    {
     "name": "stderr",
     "output_type": "stream",
     "text": [
      "\r",
      "Eval:  45%|████▍     | 496/1110 [06:27<06:51,  1.49it/s]"
     ]
    },
    {
     "name": "stdout",
     "output_type": "stream",
     "text": [
      "orientation_error\n",
      "tensor([22.5236, 22.4997, 22.7747, 22.5503, 22.5014, 24.5881, 26.7291, 29.6167,\n",
      "        34.6602, 33.3756, 31.4597, 33.1977, 27.4989, 29.1620, 27.2268, 27.1319,\n",
      "        28.1458, 27.6698, 42.8663, 44.5380, 43.7264, 43.2216, 43.5443, 44.7739,\n",
      "        45.5042, 48.3014, 51.0851, 35.4196, 31.5113, 28.1209, 25.7768, 27.5875],\n",
      "       device='cuda:0', dtype=torch.float64)\n",
      "\n"
     ]
    },
    {
     "name": "stderr",
     "output_type": "stream",
     "text": [
      "\r",
      "Eval:  45%|████▍     | 497/1110 [06:28<06:07,  1.67it/s]"
     ]
    },
    {
     "name": "stdout",
     "output_type": "stream",
     "text": [
      "orientation_error\n",
      "tensor([31.6754, 45.1401, 44.8997, 41.6081, 48.3497, 46.7088, 45.9590, 45.8192,\n",
      "        45.3046, 45.1075, 45.9550, 49.6837, 50.6492, 49.1437, 47.2214, 49.7686,\n",
      "        47.6983, 45.9986, 45.0328, 46.8757, 43.7352, 47.2690, 44.5342, 43.8826,\n",
      "        42.2990, 42.0338, 43.8930, 42.2790, 41.1175, 43.0632, 42.5506, 42.5090],\n",
      "       device='cuda:0', dtype=torch.float64)\n",
      "\n"
     ]
    },
    {
     "name": "stderr",
     "output_type": "stream",
     "text": [
      "\r",
      "Eval:  45%|████▍     | 498/1110 [06:28<06:34,  1.55it/s]"
     ]
    },
    {
     "name": "stdout",
     "output_type": "stream",
     "text": [
      "orientation_error\n",
      "tensor([41.8696, 41.8717, 41.3679, 43.1266, 43.4457, 45.7311, 45.8349, 43.4158,\n",
      "        40.0397, 40.3491, 40.9865, 40.5828, 42.7063, 40.3918, 26.0834, 60.0423,\n",
      "        24.3045, 29.9739, 52.4777, 53.1536, 52.9420, 50.8317, 51.2478, 50.4048,\n",
      "        50.4030, 52.5967, 53.6510, 53.0676, 53.2045, 38.9015, 40.2402, 45.0917],\n",
      "       device='cuda:0', dtype=torch.float64)\n",
      "\n"
     ]
    },
    {
     "name": "stderr",
     "output_type": "stream",
     "text": [
      "\r",
      "Eval:  45%|████▍     | 499/1110 [06:29<06:34,  1.55it/s]"
     ]
    },
    {
     "name": "stdout",
     "output_type": "stream",
     "text": [
      "orientation_error\n",
      "tensor([49.9150, 51.2942, 51.7376, 50.3399, 50.8441, 51.1899, 52.8925, 53.0134,\n",
      "        56.6010, 57.2028, 58.2621, 53.3891, 60.2247, 43.3400, 46.3665, 43.6203,\n",
      "        45.2199, 46.4117, 46.6672, 34.8633, 23.4821, 41.7304, 43.6333, 29.0032,\n",
      "        49.9135, 36.7755, 47.5124, 49.7969, 52.0899, 52.2659, 52.1622, 66.8340],\n",
      "       device='cuda:0', dtype=torch.float64)\n",
      "\n"
     ]
    },
    {
     "name": "stderr",
     "output_type": "stream",
     "text": [
      "\r",
      "Eval:  45%|████▌     | 500/1110 [06:31<08:49,  1.15it/s]"
     ]
    },
    {
     "name": "stdout",
     "output_type": "stream",
     "text": [
      "orientation_error\n",
      "tensor([ 68.0545,  65.6260,  79.3559,  82.8101,  71.7840,  71.8552,  93.6352,\n",
      "         95.4440, 103.3543,  85.8397,  85.4202,  83.9166,  84.6763,  84.9973,\n",
      "         84.2099,  83.9632,  86.3017,  85.7084,  84.6369, 102.9291,  82.6329,\n",
      "         83.7467,  83.6084,  82.7396,  81.6146,  83.2156,  82.1041,  81.8008,\n",
      "         80.8648,  81.8355,  80.6737,  80.5890], device='cuda:0',\n",
      "       dtype=torch.float64)\n",
      "\n",
      "MPJPE: 96.07492126911723\n",
      "Reconstruction Error: 58.44852769103943\n",
      "\n",
      "Orientation error: 32.944536915943104\n"
     ]
    },
    {
     "name": "stderr",
     "output_type": "stream",
     "text": [
      "\r",
      "Eval:  45%|████▌     | 501/1110 [06:31<07:48,  1.30it/s]"
     ]
    },
    {
     "name": "stdout",
     "output_type": "stream",
     "text": [
      "orientation_error\n",
      "tensor([79.4417, 78.1258, 75.8586, 74.9057, 74.8840, 61.0767, 60.3900, 46.0129,\n",
      "        57.2379, 57.0038, 55.6831, 66.4833, 54.1728, 52.3664, 44.7033, 53.2339,\n",
      "        51.5714, 50.1896, 48.0731, 32.6967, 47.1849, 44.0078, 44.3505, 42.5047,\n",
      "        20.8365, 20.8019, 22.7039, 23.7823, 23.3922, 22.0672, 21.8456, 21.8421],\n",
      "       device='cuda:0', dtype=torch.float64)\n",
      "\n"
     ]
    },
    {
     "name": "stderr",
     "output_type": "stream",
     "text": [
      "\r",
      "Eval:  45%|████▌     | 502/1110 [06:32<07:34,  1.34it/s]"
     ]
    },
    {
     "name": "stdout",
     "output_type": "stream",
     "text": [
      "orientation_error\n",
      "tensor([22.0015, 22.4040, 23.0284, 23.0560, 22.8799, 22.9400, 23.6931, 23.3622,\n",
      "        22.6340, 21.9479, 20.7027, 20.0572, 20.2753, 20.7151, 20.4110, 20.9085,\n",
      "        21.3381, 21.5652, 20.9508, 21.3931, 20.7643, 20.8012, 20.9714, 21.2452,\n",
      "        20.6830, 20.8217, 20.7670, 20.6275, 20.6054, 21.3137, 21.7233, 22.2121],\n",
      "       device='cuda:0', dtype=torch.float64)\n",
      "\n"
     ]
    },
    {
     "name": "stderr",
     "output_type": "stream",
     "text": [
      "\r",
      "Eval:  45%|████▌     | 503/1110 [06:32<06:46,  1.49it/s]"
     ]
    },
    {
     "name": "stdout",
     "output_type": "stream",
     "text": [
      "orientation_error\n",
      "tensor([22.0415, 22.4132, 22.4540, 22.7960, 22.4931, 23.1022, 23.0500, 23.1283,\n",
      "        22.4550, 21.8418, 20.9182, 21.8937, 22.5400, 23.0835, 21.3633, 20.1811,\n",
      "        19.7708, 20.3040, 20.5017, 20.4510, 20.2231, 19.4757, 20.1547, 20.8884,\n",
      "        20.9020, 22.9706, 19.9111, 20.6747, 20.2473, 19.2578, 20.2124, 20.5720],\n",
      "       device='cuda:0', dtype=torch.float64)\n",
      "\n"
     ]
    },
    {
     "name": "stderr",
     "output_type": "stream",
     "text": [
      "\r",
      "Eval:  45%|████▌     | 504/1110 [06:33<06:44,  1.50it/s]"
     ]
    },
    {
     "name": "stdout",
     "output_type": "stream",
     "text": [
      "orientation_error\n",
      "tensor([18.5529, 19.1707, 19.3348, 18.5569, 18.4389, 17.6730, 17.6272, 31.9697,\n",
      "        31.0304, 31.3767, 31.8386, 32.0074, 31.3837, 31.1081, 31.1558, 17.1630,\n",
      "        30.8648, 30.9114, 18.1548, 33.0508, 33.9288, 34.3120, 34.2948, 34.1246,\n",
      "        33.9081, 34.6785, 34.9465, 34.4609, 34.3001, 34.0515, 33.8547, 33.9032],\n",
      "       device='cuda:0', dtype=torch.float64)\n",
      "\n"
     ]
    },
    {
     "name": "stderr",
     "output_type": "stream",
     "text": [
      "\r",
      "Eval:  45%|████▌     | 505/1110 [06:34<06:33,  1.54it/s]"
     ]
    },
    {
     "name": "stdout",
     "output_type": "stream",
     "text": [
      "orientation_error\n",
      "tensor([34.0206, 33.7698, 33.8461, 33.5299, 33.1319, 32.6207, 32.5888, 32.7499,\n",
      "        32.4776, 32.6314, 33.0481, 32.8579, 32.6818, 34.7122, 35.1317, 34.0251,\n",
      "        32.8507, 32.6718, 33.5721, 32.7572, 36.4737, 39.7883, 38.0414, 33.2273,\n",
      "        32.8836, 32.6080, 33.3347, 33.6473, 32.4939, 32.6701, 31.6357, 33.4955],\n",
      "       device='cuda:0', dtype=torch.float64)\n",
      "\n"
     ]
    },
    {
     "name": "stderr",
     "output_type": "stream",
     "text": [
      "\r",
      "Eval:  46%|████▌     | 506/1110 [06:34<05:51,  1.72it/s]"
     ]
    },
    {
     "name": "stdout",
     "output_type": "stream",
     "text": [
      "orientation_error\n",
      "tensor([34.2233, 34.0698, 36.1333, 35.6342, 36.5803, 37.0300, 40.9622, 34.9941,\n",
      "        34.5750, 33.9963, 34.0542, 33.8495, 33.9625, 33.3845, 33.5128, 33.3771,\n",
      "        33.3952, 33.0258, 33.6399, 33.9846, 34.0301, 34.1316, 34.1597, 34.2317,\n",
      "        34.0291, 33.6384, 33.9294, 33.5466, 33.6022, 32.9749, 32.9634, 32.4420],\n",
      "       device='cuda:0', dtype=torch.float64)\n",
      "\n"
     ]
    },
    {
     "name": "stderr",
     "output_type": "stream",
     "text": [
      "\r",
      "Eval:  46%|████▌     | 507/1110 [06:34<05:24,  1.86it/s]"
     ]
    },
    {
     "name": "stdout",
     "output_type": "stream",
     "text": [
      "orientation_error\n",
      "tensor([32.3964, 32.5364, 33.0750, 32.7367, 32.1497, 31.5454, 31.0121, 29.8756,\n",
      "        29.6180, 30.0704, 30.0775, 30.5074, 30.7277, 30.2290, 31.3358, 31.9942,\n",
      "        33.2688, 34.5297, 34.5549, 34.8835, 33.9000, 33.7347, 33.1983, 33.1059,\n",
      "        32.9496, 33.5702, 34.1166, 34.5446, 34.7577, 34.6154, 34.6706, 33.6502],\n",
      "       device='cuda:0', dtype=torch.float64)\n",
      "\n"
     ]
    },
    {
     "name": "stderr",
     "output_type": "stream",
     "text": [
      "\r",
      "Eval:  46%|████▌     | 508/1110 [06:35<05:13,  1.92it/s]"
     ]
    },
    {
     "name": "stdout",
     "output_type": "stream",
     "text": [
      "orientation_error\n",
      "tensor([34.3370, 33.6258, 33.0625, 33.0336, 33.3369, 34.7534, 34.6641, 34.5275,\n",
      "        34.1188, 33.7905, 33.2968, 33.4295, 33.4336, 33.6108, 34.0669, 33.7978,\n",
      "        33.3765, 33.1150, 32.3655, 32.0476, 31.5052, 31.4499, 32.4475, 33.1507,\n",
      "        32.7668, 33.8431, 34.4833, 19.1499, 19.0605, 19.2258, 19.3703, 19.0849],\n",
      "       device='cuda:0', dtype=torch.float64)\n",
      "\n"
     ]
    },
    {
     "name": "stderr",
     "output_type": "stream",
     "text": [
      "\r",
      "Eval:  46%|████▌     | 509/1110 [06:35<05:26,  1.84it/s]"
     ]
    },
    {
     "name": "stdout",
     "output_type": "stream",
     "text": [
      "orientation_error\n",
      "tensor([18.9318, 19.0855, 19.8730, 18.9237, 33.5039, 33.6568, 34.6102, 34.9369,\n",
      "        35.6332, 35.0763, 33.7518, 33.2581, 33.5956, 17.9539, 19.3418, 19.9227,\n",
      "        20.4712, 22.0627, 36.3357, 36.5427, 35.6689, 35.8083, 34.9116, 34.4314,\n",
      "        34.6586, 34.6723, 35.0758, 35.3298, 35.9157, 21.3687, 22.4752, 21.6608],\n",
      "       device='cuda:0', dtype=torch.float64)\n",
      "\n"
     ]
    },
    {
     "name": "stderr",
     "output_type": "stream",
     "text": [
      "\r",
      "Eval:  46%|████▌     | 510/1110 [06:36<05:06,  1.96it/s]"
     ]
    },
    {
     "name": "stdout",
     "output_type": "stream",
     "text": [
      "orientation_error\n",
      "tensor([21.9262, 21.3422, 20.2487, 19.7574, 19.3694, 33.2898, 33.1968, 35.0437,\n",
      "        36.2919, 36.9141, 37.4100, 38.8478, 39.0774, 23.8558, 24.3923, 24.7312,\n",
      "        24.7679, 25.0175, 24.9112, 38.8835, 37.6643, 36.8639, 37.0483, 37.9320,\n",
      "        38.1005, 37.9756, 38.2687, 38.8942, 24.3243, 23.8504, 24.6856, 23.4741],\n",
      "       device='cuda:0', dtype=torch.float64)\n",
      "\n"
     ]
    },
    {
     "name": "stderr",
     "output_type": "stream",
     "text": [
      "\r",
      "Eval:  46%|████▌     | 511/1110 [06:36<05:10,  1.93it/s]"
     ]
    },
    {
     "name": "stdout",
     "output_type": "stream",
     "text": [
      "orientation_error\n",
      "tensor([23.2248, 23.4135, 22.6014, 22.6804, 21.8265, 21.2284, 21.3096, 22.7265,\n",
      "        22.8033, 22.9684, 23.5217, 22.6275, 21.3774, 20.7589, 22.2746, 23.7904,\n",
      "        23.4189, 21.3273, 21.4956, 20.8735, 21.1455, 34.8801, 33.6925, 34.6445,\n",
      "        34.2462, 18.9726, 17.6947, 17.5938, 18.6595, 18.7312, 18.7291, 17.6135],\n",
      "       device='cuda:0', dtype=torch.float64)\n",
      "\n"
     ]
    },
    {
     "name": "stderr",
     "output_type": "stream",
     "text": [
      "\r",
      "Eval:  46%|████▌     | 512/1110 [06:37<04:53,  2.04it/s]"
     ]
    },
    {
     "name": "stdout",
     "output_type": "stream",
     "text": [
      "orientation_error\n",
      "tensor([17.8580, 17.3054, 17.6119, 32.7895, 33.0306, 34.9056, 20.6205, 20.4180,\n",
      "        24.2551, 22.8518, 19.5872, 18.6843, 16.4746, 18.2387, 20.9333, 21.7206,\n",
      "        20.7586, 18.5563, 19.1652, 18.6446, 18.2152, 18.0409, 19.1370, 19.1406,\n",
      "        18.5231, 19.5580, 18.6593, 19.8996, 20.7468, 19.9792, 21.3965, 25.1046],\n",
      "       device='cuda:0', dtype=torch.float64)\n",
      "\n"
     ]
    },
    {
     "name": "stderr",
     "output_type": "stream",
     "text": [
      "\r",
      "Eval:  46%|████▌     | 513/1110 [06:37<05:09,  1.93it/s]"
     ]
    },
    {
     "name": "stdout",
     "output_type": "stream",
     "text": [
      "orientation_error\n",
      "tensor([26.2171, 24.6861, 22.0243, 19.5667, 17.7733, 15.4963, 17.1499, 16.9546,\n",
      "        17.2218, 17.4120, 17.9948, 17.7184, 20.8747, 18.7630, 20.1021, 21.4947,\n",
      "        22.8528, 25.2700, 24.9912, 18.0068, 17.2407, 16.5418, 17.9437, 19.1717,\n",
      "        19.4976, 19.8175, 21.0049, 20.6527, 21.4811, 21.0402, 20.8394, 20.3625],\n",
      "       device='cuda:0', dtype=torch.float64)\n",
      "\n"
     ]
    },
    {
     "name": "stderr",
     "output_type": "stream",
     "text": [
      "\r",
      "Eval:  46%|████▋     | 514/1110 [06:38<05:01,  1.98it/s]"
     ]
    },
    {
     "name": "stdout",
     "output_type": "stream",
     "text": [
      "orientation_error\n",
      "tensor([21.1642, 21.3491, 21.0188, 20.7379, 21.6394, 22.3023, 23.4082, 23.5377,\n",
      "        22.7177, 20.7128, 19.4322, 20.1369, 20.8909, 20.0315, 19.4855, 19.3651,\n",
      "        19.1973, 19.9548, 20.9017, 20.4571, 20.2785, 20.6714, 21.4059, 21.4279,\n",
      "        22.7523, 20.6151, 20.7945, 20.1874, 20.9337, 20.9827, 21.0080, 20.1686],\n",
      "       device='cuda:0', dtype=torch.float64)\n",
      "\n"
     ]
    },
    {
     "name": "stderr",
     "output_type": "stream",
     "text": [
      "\r",
      "Eval:  46%|████▋     | 515/1110 [06:38<05:00,  1.98it/s]"
     ]
    },
    {
     "name": "stdout",
     "output_type": "stream",
     "text": [
      "orientation_error\n",
      "tensor([20.1927, 19.7923, 19.2238, 18.1572, 17.8142, 17.8007, 18.1999, 18.7635,\n",
      "        20.2216, 20.9023, 20.4711, 19.1683, 18.8209, 19.1477, 18.3313, 18.0356,\n",
      "        17.8943, 18.4244, 18.8932, 19.4844, 19.3630, 19.9861, 19.9322, 18.9844,\n",
      "        18.2673, 17.6331, 17.5002, 17.2970, 18.5274, 18.5580, 18.3270, 17.5429],\n",
      "       device='cuda:0', dtype=torch.float64)\n",
      "\n"
     ]
    },
    {
     "name": "stderr",
     "output_type": "stream",
     "text": [
      "\r",
      "Eval:  46%|████▋     | 516/1110 [06:39<05:10,  1.91it/s]"
     ]
    },
    {
     "name": "stdout",
     "output_type": "stream",
     "text": [
      "orientation_error\n",
      "tensor([17.7586, 18.0128, 16.3555, 15.8299, 15.9657, 16.6753, 16.5330, 15.9257,\n",
      "        30.1255, 30.0697, 30.6313, 30.2589, 31.2302, 31.9548, 17.9784, 16.7386,\n",
      "        16.6483, 17.6198, 16.8853, 16.4253, 16.7560, 17.7971, 18.0803, 17.7145,\n",
      "        18.3021, 19.6713, 20.0734, 20.3364, 20.2625, 20.4004, 21.0224, 19.4355],\n",
      "       device='cuda:0', dtype=torch.float64)\n",
      "\n"
     ]
    },
    {
     "name": "stderr",
     "output_type": "stream",
     "text": [
      "\r",
      "Eval:  47%|████▋     | 517/1110 [06:39<05:03,  1.95it/s]"
     ]
    },
    {
     "name": "stdout",
     "output_type": "stream",
     "text": [
      "orientation_error\n",
      "tensor([19.0641, 18.6109, 18.1522, 18.1572, 18.9987, 26.7295, 45.6981, 30.9969,\n",
      "        19.4663, 20.7420, 18.2010, 18.6098, 20.1468, 20.1994, 20.4014, 20.2843,\n",
      "        34.3354, 21.0019, 20.6103, 35.1866, 35.5964, 37.0280, 36.5152, 36.5628,\n",
      "        35.8699, 23.8298, 24.2282, 41.1657, 41.5970, 25.6890, 23.9861, 39.5577],\n",
      "       device='cuda:0', dtype=torch.float64)\n",
      "\n"
     ]
    },
    {
     "name": "stderr",
     "output_type": "stream",
     "text": [
      "\r",
      "Eval:  47%|████▋     | 518/1110 [06:40<04:52,  2.03it/s]"
     ]
    },
    {
     "name": "stdout",
     "output_type": "stream",
     "text": [
      "orientation_error\n",
      "tensor([41.0658, 33.2883, 24.8757, 22.6893, 22.7753, 21.9676, 36.8361, 36.4317,\n",
      "        20.6743, 31.9235, 31.3334, 47.8386, 60.3746, 46.1093, 39.1511, 45.9595,\n",
      "        23.9514, 37.7469, 39.1538, 38.8981, 40.0182, 39.4916, 38.4867, 36.5624,\n",
      "        38.0388, 38.2300, 37.3147, 37.7372, 40.3409, 38.2879, 37.6143, 36.9201],\n",
      "       device='cuda:0', dtype=torch.float64)\n",
      "\n"
     ]
    },
    {
     "name": "stderr",
     "output_type": "stream",
     "text": [
      "\r",
      "Eval:  47%|████▋     | 519/1110 [06:40<04:35,  2.14it/s]"
     ]
    },
    {
     "name": "stdout",
     "output_type": "stream",
     "text": [
      "orientation_error\n",
      "tensor([36.3594, 35.8087, 35.3587, 34.8598, 33.7938, 33.1335, 34.1147, 33.5412,\n",
      "        35.2196, 36.0098, 34.7015, 34.3516, 34.8707, 21.9359, 21.1131, 20.8475,\n",
      "        20.4131, 20.7362, 20.3455, 20.7140, 20.7172, 20.3803, 20.7577, 20.9198,\n",
      "        21.5217, 22.2386, 22.1129, 21.2074, 20.9091, 20.8252, 20.8120, 20.5710],\n",
      "       device='cuda:0', dtype=torch.float64)\n",
      "\n"
     ]
    },
    {
     "name": "stderr",
     "output_type": "stream",
     "text": [
      "\r",
      "Eval:  47%|████▋     | 520/1110 [06:41<04:11,  2.35it/s]"
     ]
    },
    {
     "name": "stdout",
     "output_type": "stream",
     "text": [
      "orientation_error\n",
      "tensor([20.5145, 20.1111, 20.9006, 35.4144, 19.9053, 34.4746, 34.2928, 19.0478,\n",
      "        18.6099, 18.3175, 18.3192, 32.4781, 17.8040, 18.1776, 18.7937, 18.9579,\n",
      "        19.5636, 33.9474, 35.1394, 35.0227, 34.3023, 34.6923, 35.1849, 34.8986,\n",
      "        34.3787, 34.5784, 34.0163, 33.3191, 18.7870, 18.2279, 18.2739, 18.9199],\n",
      "       device='cuda:0', dtype=torch.float64)\n",
      "\n",
      "MPJPE: 95.764759606444\n",
      "Reconstruction Error: 58.31344841397592\n",
      "\n",
      "Orientation error: 32.84737382383484\n"
     ]
    },
    {
     "name": "stderr",
     "output_type": "stream",
     "text": [
      "\r",
      "Eval:  47%|████▋     | 521/1110 [06:41<04:53,  2.01it/s]"
     ]
    },
    {
     "name": "stdout",
     "output_type": "stream",
     "text": [
      "orientation_error\n",
      "tensor([34.2078, 35.2829, 35.2605, 34.6773, 20.9955, 35.9366, 36.3166, 36.0547,\n",
      "        35.4945, 35.4405, 34.9596, 34.7202, 35.2939, 35.3002, 34.8887, 19.9183,\n",
      "        19.7294, 18.6261, 17.9942, 18.9157, 20.3639, 20.6323, 19.5876, 18.8647,\n",
      "        17.9101, 17.7866, 18.0107, 33.4209, 33.7966, 33.3724, 33.3981, 33.2668],\n",
      "       device='cuda:0', dtype=torch.float64)\n",
      "\n"
     ]
    },
    {
     "name": "stderr",
     "output_type": "stream",
     "text": [
      "\r",
      "Eval:  47%|████▋     | 522/1110 [06:42<05:27,  1.80it/s]"
     ]
    },
    {
     "name": "stdout",
     "output_type": "stream",
     "text": [
      "orientation_error\n",
      "tensor([18.5239, 18.0233, 18.5702, 18.6010, 19.7073, 22.2903, 25.2054, 24.1318,\n",
      "        24.0338, 22.0325, 37.1953, 36.9845, 35.7154, 34.8788, 35.7828, 35.4451,\n",
      "        34.4791, 34.9018, 19.6284, 19.9001, 19.7310, 20.2195, 22.0696, 23.3346,\n",
      "        21.2339, 35.0007, 34.9944, 35.5562, 36.2570, 37.1293, 37.8005, 37.8842],\n",
      "       device='cuda:0', dtype=torch.float64)\n",
      "\n"
     ]
    },
    {
     "name": "stderr",
     "output_type": "stream",
     "text": [
      "\r",
      "Eval:  47%|████▋     | 523/1110 [06:43<05:59,  1.63it/s]"
     ]
    },
    {
     "name": "stdout",
     "output_type": "stream",
     "text": [
      "orientation_error\n",
      "tensor([37.5846, 38.3162, 38.8159, 39.4433, 39.0685, 38.0393, 37.7391, 36.9724,\n",
      "        36.9181, 35.6213, 34.9669, 34.7828, 34.0233, 33.8498, 33.8643, 34.4823,\n",
      "        34.5770, 34.9735, 34.1035, 34.0683, 33.8164, 33.7469, 33.7366, 33.9391,\n",
      "        34.4374, 33.9520, 34.4438, 35.3165, 36.2938, 35.7315, 38.3393, 38.0048],\n",
      "       device='cuda:0', dtype=torch.float64)\n",
      "\n"
     ]
    },
    {
     "name": "stderr",
     "output_type": "stream",
     "text": [
      "\r",
      "Eval:  47%|████▋     | 524/1110 [06:43<06:13,  1.57it/s]"
     ]
    },
    {
     "name": "stdout",
     "output_type": "stream",
     "text": [
      "orientation_error\n",
      "tensor([44.2912, 33.9850, 41.2703, 33.3280, 39.4450, 34.6469, 34.0965, 33.4680,\n",
      "        32.9606, 20.3896, 20.8742, 20.3172, 20.6413, 19.4893, 19.4287, 19.5471,\n",
      "        19.5744, 19.8869, 18.1553, 17.9132, 18.8162, 19.9892, 21.3256, 20.7117,\n",
      "        21.2034, 21.3984, 21.6051, 21.7443, 21.5702, 21.8511, 22.1153, 22.4603],\n",
      "       device='cuda:0', dtype=torch.float64)\n",
      "\n"
     ]
    },
    {
     "name": "stderr",
     "output_type": "stream",
     "text": [
      "\r",
      "Eval:  47%|████▋     | 525/1110 [06:44<06:38,  1.47it/s]"
     ]
    },
    {
     "name": "stdout",
     "output_type": "stream",
     "text": [
      "orientation_error\n",
      "tensor([21.6453, 21.5570, 21.2352, 22.2733, 21.9019, 21.8714, 21.6888, 20.7593,\n",
      "        21.1633, 20.5889, 21.5534, 21.3285, 20.4010, 22.6456, 28.0710, 27.1035,\n",
      "        29.9311, 29.0707, 27.1483, 25.8516, 23.9416, 23.0924, 22.0065, 21.5731,\n",
      "        20.8560, 20.7220, 21.3348, 20.7176, 32.4637, 32.2046, 20.5754, 19.3488],\n",
      "       device='cuda:0', dtype=torch.float64)\n",
      "\n"
     ]
    },
    {
     "name": "stderr",
     "output_type": "stream",
     "text": [
      "\r",
      "Eval:  47%|████▋     | 526/1110 [06:45<07:42,  1.26it/s]"
     ]
    },
    {
     "name": "stdout",
     "output_type": "stream",
     "text": [
      "orientation_error\n",
      "tensor([20.9804, 21.9080, 21.9777, 21.9538, 22.1834, 35.5617, 35.6174, 35.3748,\n",
      "        35.2943, 35.0361, 34.9495, 34.5444, 34.8610, 35.4736, 35.7165, 35.9008,\n",
      "        35.7162, 35.9230, 21.1065, 19.9256, 19.2428, 18.8955, 19.9584, 20.7498,\n",
      "        21.2917, 21.0513, 20.9232, 20.8521, 21.1650, 20.7364, 19.8244, 20.4919],\n",
      "       device='cuda:0', dtype=torch.float64)\n",
      "\n"
     ]
    },
    {
     "name": "stderr",
     "output_type": "stream",
     "text": [
      "\r",
      "Eval:  47%|████▋     | 527/1110 [06:46<07:32,  1.29it/s]"
     ]
    },
    {
     "name": "stdout",
     "output_type": "stream",
     "text": [
      "orientation_error\n",
      "tensor([20.9761, 20.5699, 20.5878, 34.9378, 34.1553, 19.2394, 18.8630, 19.6567,\n",
      "        22.2581, 23.2844, 20.0798, 22.6778, 22.2076, 25.0020, 23.2504, 21.5979,\n",
      "        20.5243, 19.5620, 18.1191, 19.7859, 20.2835, 18.4879, 19.5708, 20.7967,\n",
      "        21.0721, 21.4113, 26.2325, 25.3654, 22.6735, 20.6042, 20.0891, 19.8702],\n",
      "       device='cuda:0', dtype=torch.float64)\n",
      "\n",
      "orientation_error\n",
      "tensor([20.0353, 18.6274, 18.0458, 17.2522, 31.6390, 31.4245, 16.8050, 17.5797,\n",
      "        18.1401, 19.5365, 20.8093, 21.1523, 20.7846, 20.9796, 19.4448, 18.0109,\n",
      "        17.6570, 17.6219, 18.0064, 18.1382, 18.3186, 17.5078, 18.0782, 18.6532,\n",
      "        19.5752, 20.0089, 20.9131, 22.3111, 21.2505, 22.2244, 22.1782, 23.6511],\n",
      "       device='cuda:0', dtype=torch.float64)\n",
      "\n"
     ]
    },
    {
     "name": "stderr",
     "output_type": "stream",
     "text": [
      "Eval:  48%|████▊     | 529/1110 [06:47<07:06,  1.36it/s]"
     ]
    },
    {
     "name": "stdout",
     "output_type": "stream",
     "text": [
      "orientation_error\n",
      "tensor([22.8095, 22.6101, 21.6861, 21.7581, 36.8008, 37.0959, 37.0521, 37.1841,\n",
      "        24.1333, 23.8536, 24.3572, 38.5712, 38.3256, 38.8071, 38.4113, 37.6404,\n",
      "        37.3783, 37.0148, 37.3890, 37.2419, 37.6192, 36.7932, 36.2578, 37.0156,\n",
      "        36.4759, 35.8547, 22.0365, 21.6885, 22.7384, 21.2077, 20.0329, 20.7345],\n",
      "       device='cuda:0', dtype=torch.float64)\n",
      "\n"
     ]
    },
    {
     "name": "stderr",
     "output_type": "stream",
     "text": [
      "\r",
      "Eval:  48%|████▊     | 530/1110 [06:48<06:23,  1.51it/s]"
     ]
    },
    {
     "name": "stdout",
     "output_type": "stream",
     "text": [
      "orientation_error\n",
      "tensor([21.7897, 22.2071, 23.2972, 24.2460, 24.7088, 25.7476, 25.6125, 25.8496,\n",
      "        24.0275, 22.9619, 24.2121, 24.2916, 23.7847, 23.9562, 25.7318, 27.5826,\n",
      "        26.8410, 25.9582, 39.8817, 40.2666, 40.6390, 39.7172, 26.1432, 24.0669,\n",
      "        32.7261, 24.3423, 25.1714, 25.4472, 26.3231, 25.2373, 24.9230, 36.0778],\n",
      "       device='cuda:0', dtype=torch.float64)\n",
      "\n"
     ]
    },
    {
     "name": "stderr",
     "output_type": "stream",
     "text": [
      "\r",
      "Eval:  48%|████▊     | 531/1110 [06:48<05:58,  1.62it/s]"
     ]
    },
    {
     "name": "stdout",
     "output_type": "stream",
     "text": [
      "orientation_error\n",
      "tensor([33.0532, 34.8598, 41.4363, 42.0000, 41.2925, 33.0425, 33.2929, 34.0923,\n",
      "        33.9307, 46.6338, 63.1303, 62.0017, 55.9502, 60.2724, 50.5373, 64.8097,\n",
      "        63.5991, 47.0458, 56.6714, 55.2390, 55.5915, 42.5724, 24.4837, 27.6092,\n",
      "        42.4153, 30.5970, 27.9191, 26.3278, 38.1810, 51.9594, 40.8978, 43.1500],\n",
      "       device='cuda:0', dtype=torch.float64)\n",
      "\n"
     ]
    },
    {
     "name": "stderr",
     "output_type": "stream",
     "text": [
      "\r",
      "Eval:  48%|████▊     | 532/1110 [06:49<05:20,  1.80it/s]"
     ]
    },
    {
     "name": "stdout",
     "output_type": "stream",
     "text": [
      "orientation_error\n",
      "tensor([29.6817, 52.3256, 52.9526, 29.7171, 20.9274, 30.0315, 31.6415, 32.3226,\n",
      "        33.7667, 35.7184, 36.0264, 34.1913, 48.5458, 48.9989, 48.5407, 48.4024,\n",
      "        48.4570, 48.2356, 34.4544, 33.1635, 33.8262, 32.6720, 32.7954, 33.8135,\n",
      "        34.3306, 34.2711, 34.4452, 34.9139, 35.0126, 35.6617, 35.8397, 37.6502],\n",
      "       device='cuda:0', dtype=torch.float64)\n",
      "\n"
     ]
    },
    {
     "name": "stderr",
     "output_type": "stream",
     "text": [
      "\r",
      "Eval:  48%|████▊     | 533/1110 [06:49<05:11,  1.85it/s]"
     ]
    },
    {
     "name": "stdout",
     "output_type": "stream",
     "text": [
      "orientation_error\n",
      "tensor([36.4820, 35.6806, 35.9319, 35.7827, 35.1916, 34.9079, 36.5825, 37.0509,\n",
      "        38.3864, 37.8311, 35.1993, 34.1991, 32.2813, 30.3090, 29.8474, 30.1178,\n",
      "        27.8401, 27.8176, 28.1924, 29.3945, 29.6476, 29.2378, 27.8265, 27.9325,\n",
      "        28.1083, 28.1897, 27.1099, 25.7187, 25.9222, 26.1799, 26.1198, 26.0428],\n",
      "       device='cuda:0', dtype=torch.float64)\n",
      "\n"
     ]
    },
    {
     "name": "stderr",
     "output_type": "stream",
     "text": [
      "\r",
      "Eval:  48%|████▊     | 534/1110 [06:50<05:21,  1.79it/s]"
     ]
    },
    {
     "name": "stdout",
     "output_type": "stream",
     "text": [
      "orientation_error\n",
      "tensor([25.0583, 25.1191, 26.8476, 27.9849, 28.5735, 31.9859, 26.0969, 22.1183,\n",
      "        21.7787, 23.0556, 26.4349, 23.9856, 26.1003, 22.6681, 19.8719, 22.6967,\n",
      "        39.4233, 35.4635, 26.2508, 29.8413, 30.7959, 30.9096, 32.6256, 48.0462,\n",
      "        48.8015, 36.7187, 37.5894, 38.5334, 39.4189, 34.5576, 34.2014, 30.9736],\n",
      "       device='cuda:0', dtype=torch.float64)\n",
      "\n"
     ]
    },
    {
     "name": "stderr",
     "output_type": "stream",
     "text": [
      "\r",
      "Eval:  48%|████▊     | 535/1110 [06:51<05:36,  1.71it/s]"
     ]
    },
    {
     "name": "stdout",
     "output_type": "stream",
     "text": [
      "orientation_error\n",
      "tensor([29.8282, 26.1676, 26.5395, 22.9690, 20.9354, 24.7887, 21.3445, 21.3960,\n",
      "        22.2438, 21.5847, 21.9739, 22.4012, 23.0065, 22.8988, 23.7971, 24.0781,\n",
      "        23.4755, 23.3121, 23.2299, 23.8851, 23.8526, 23.7877, 23.5481, 24.0975,\n",
      "        23.6324, 22.7336, 21.5565, 20.1926, 19.6614, 22.1378, 20.5840, 27.7292],\n",
      "       device='cuda:0', dtype=torch.float64)\n",
      "\n"
     ]
    },
    {
     "name": "stderr",
     "output_type": "stream",
     "text": [
      "\r",
      "Eval:  48%|████▊     | 536/1110 [06:51<05:44,  1.66it/s]"
     ]
    },
    {
     "name": "stdout",
     "output_type": "stream",
     "text": [
      "orientation_error\n",
      "tensor([29.2507, 28.8270, 30.1021, 29.1409, 29.2592, 30.0096, 31.3174, 30.7582,\n",
      "        29.3159, 28.5748, 27.3387, 27.3645, 25.2415, 23.1861, 22.2152, 21.1401,\n",
      "        22.4652, 27.1121, 24.2133, 21.7696, 22.0374, 20.1995, 20.6753, 23.3044,\n",
      "        22.4825, 22.5140, 22.5120, 22.6530, 23.3861, 23.3056, 22.4438, 21.4219],\n",
      "       device='cuda:0', dtype=torch.float64)\n",
      "\n"
     ]
    },
    {
     "name": "stderr",
     "output_type": "stream",
     "text": [
      "\r",
      "Eval:  48%|████▊     | 537/1110 [06:52<05:26,  1.76it/s]"
     ]
    },
    {
     "name": "stdout",
     "output_type": "stream",
     "text": [
      "orientation_error\n",
      "tensor([22.7999, 24.9214, 26.6798, 28.9864, 27.8321, 28.4606, 28.2351, 30.6406,\n",
      "        28.9754, 30.5086, 26.5661, 27.7403, 26.6987, 28.3151, 27.9654, 27.6633,\n",
      "        28.1230, 30.0984, 26.2571, 26.0845, 27.4430, 27.7479, 28.0515, 31.7556,\n",
      "        27.1395, 32.8771, 33.3389, 34.6512, 33.2763, 32.4410, 27.9255, 25.2038],\n",
      "       device='cuda:0', dtype=torch.float64)\n",
      "\n"
     ]
    },
    {
     "name": "stderr",
     "output_type": "stream",
     "text": [
      "\r",
      "Eval:  48%|████▊     | 538/1110 [06:52<05:17,  1.80it/s]"
     ]
    },
    {
     "name": "stdout",
     "output_type": "stream",
     "text": [
      "orientation_error\n",
      "tensor([23.4368, 22.3260, 22.4166, 21.6449, 22.2935, 23.3951, 23.7758, 24.2480,\n",
      "        34.4937, 35.8606, 41.2202, 39.3497, 34.4226, 29.6671, 27.3326, 24.8494,\n",
      "        24.0964, 23.3196, 22.6655, 21.9880, 21.9759, 22.0828, 21.9646, 22.3887,\n",
      "        22.1823, 21.9727, 21.4493, 21.7138, 22.0128, 22.9051, 21.7560, 20.7882],\n",
      "       device='cuda:0', dtype=torch.float64)\n",
      "\n"
     ]
    },
    {
     "name": "stderr",
     "output_type": "stream",
     "text": [
      "\r",
      "Eval:  49%|████▊     | 539/1110 [06:53<05:17,  1.80it/s]"
     ]
    },
    {
     "name": "stdout",
     "output_type": "stream",
     "text": [
      "orientation_error\n",
      "tensor([20.7248, 22.6033, 24.2045, 21.9819, 22.9291, 22.7779, 22.7513, 22.6087,\n",
      "        24.1596, 24.6954, 24.2578, 24.5412, 24.8162, 23.5131, 23.8072, 26.1984,\n",
      "        26.9612, 27.5564, 27.1657, 26.4371, 27.5665, 26.7881, 32.4283, 39.7853,\n",
      "        37.7864, 35.8896, 35.9424, 36.8112, 23.1512, 21.8761, 20.7274, 20.8722],\n",
      "       device='cuda:0', dtype=torch.float64)\n",
      "\n"
     ]
    },
    {
     "name": "stderr",
     "output_type": "stream",
     "text": [
      "\r",
      "Eval:  49%|████▊     | 540/1110 [06:53<04:54,  1.94it/s]"
     ]
    },
    {
     "name": "stdout",
     "output_type": "stream",
     "text": [
      "orientation_error\n",
      "tensor([21.6909, 21.2485, 20.8581, 20.7036, 19.9936, 19.8365, 18.5725, 18.5263,\n",
      "        19.2680, 25.4290, 28.4208, 26.3358, 21.6961, 21.0261, 20.9273, 22.3720,\n",
      "        24.8639, 27.3010, 25.2990, 24.3526, 22.3093, 21.0151, 18.7905, 18.9400,\n",
      "        19.8979, 19.3939, 18.4915, 19.5539, 17.9908, 18.2827, 21.3971, 21.0694],\n",
      "       device='cuda:0', dtype=torch.float64)\n",
      "\n",
      "MPJPE: 95.77269418519734\n",
      "Reconstruction Error: 58.25498443650227\n",
      "\n",
      "Orientation error: 32.67782561394413\n"
     ]
    },
    {
     "name": "stderr",
     "output_type": "stream",
     "text": [
      "\r",
      "Eval:  49%|████▊     | 541/1110 [06:54<04:52,  1.95it/s]"
     ]
    },
    {
     "name": "stdout",
     "output_type": "stream",
     "text": [
      "orientation_error\n",
      "tensor([21.8083, 21.5700, 21.8703, 22.2336, 21.8584, 21.0082, 21.3671, 22.1903,\n",
      "        22.3414, 21.7979, 21.7555, 21.7431, 21.6945, 22.3886, 22.7793, 23.4430,\n",
      "        26.4262, 28.1676, 29.5109, 32.5895, 50.8773, 51.7533, 53.5320, 56.1709,\n",
      "        57.4049, 58.5833, 59.1520, 59.9559, 60.6922, 61.1486, 61.3395, 61.1022],\n",
      "       device='cuda:0', dtype=torch.float64)\n",
      "\n"
     ]
    },
    {
     "name": "stderr",
     "output_type": "stream",
     "text": [
      "\r",
      "Eval:  49%|████▉     | 542/1110 [06:54<05:20,  1.77it/s]"
     ]
    },
    {
     "name": "stdout",
     "output_type": "stream",
     "text": [
      "orientation_error\n",
      "tensor([60.9193, 60.0223, 59.2086, 58.1812, 57.8237, 56.7705, 55.8916, 55.5050,\n",
      "        55.3083, 56.0223, 54.8245, 53.9739, 53.3069, 52.9018, 52.6337, 56.1358,\n",
      "        58.3923, 63.5584, 65.0417, 47.4675, 45.1911, 61.1495, 62.8479, 63.0169,\n",
      "        31.1105, 34.1670, 61.2457, 34.1983, 36.8467, 32.6148, 32.1298, 31.2383],\n",
      "       device='cuda:0', dtype=torch.float64)\n",
      "\n"
     ]
    },
    {
     "name": "stderr",
     "output_type": "stream",
     "text": [
      "\r",
      "Eval:  49%|████▉     | 543/1110 [06:55<05:33,  1.70it/s]"
     ]
    },
    {
     "name": "stdout",
     "output_type": "stream",
     "text": [
      "orientation_error\n",
      "tensor([31.5172, 40.4208, 35.4648, 34.8962, 36.7089, 38.2332, 39.6853, 29.6842,\n",
      "        44.4112, 27.5746, 27.2903, 23.2632, 21.0566, 20.9093, 33.7948, 33.7961,\n",
      "        34.6570, 34.8439, 20.7120, 21.1867, 21.2554, 20.5253, 20.0727, 20.6380,\n",
      "        20.8828, 20.7076, 20.9429, 20.8330, 21.0085, 21.7062, 21.6702, 21.8656],\n",
      "       device='cuda:0', dtype=torch.float64)\n",
      "\n",
      "orientation_error\n",
      "tensor([21.5323, 21.8765, 22.5932, 23.1522, 23.0548, 28.8282, 29.4390, 33.1195,\n",
      "        34.3085, 37.4229, 37.1435, 35.1645, 34.2312, 33.8403, 31.3134, 43.0364,\n",
      "        40.7728, 42.6752, 38.8645, 41.5498, 42.6686, 43.3282, 42.2741, 42.2374,\n",
      "        43.4209, 45.7172, 48.8214, 46.7888, 49.3663, 48.8604, 34.0300, 37.3595],\n",
      "       device='cuda:0', dtype=torch.float64)\n",
      "\n"
     ]
    },
    {
     "name": "stderr",
     "output_type": "stream",
     "text": [
      "Eval:  49%|████▉     | 545/1110 [06:56<05:11,  1.81it/s]"
     ]
    },
    {
     "name": "stdout",
     "output_type": "stream",
     "text": [
      "orientation_error\n",
      "tensor([52.1838, 36.8572, 53.3351, 55.6154, 56.8933, 60.1915, 62.5484, 47.3944,\n",
      "        50.2034, 62.6626, 60.5754, 45.7134, 59.6132, 61.2589, 71.4107, 62.4608,\n",
      "        46.9044, 44.9637, 46.1119, 55.4611, 57.9826, 47.7362, 48.9528, 54.4341,\n",
      "        53.1319, 50.2731, 47.4543, 47.8910, 50.7923, 48.0359, 46.7308, 36.1462],\n",
      "       device='cuda:0', dtype=torch.float64)\n",
      "\n"
     ]
    },
    {
     "name": "stderr",
     "output_type": "stream",
     "text": [
      "\r",
      "Eval:  49%|████▉     | 546/1110 [06:57<04:54,  1.91it/s]"
     ]
    },
    {
     "name": "stdout",
     "output_type": "stream",
     "text": [
      "orientation_error\n",
      "tensor([50.5929, 48.5715, 46.2508, 48.0950, 42.9237, 41.2907, 27.5442, 23.4277,\n",
      "        35.2399, 21.1279, 22.5532, 19.3300, 20.9246, 21.7001, 23.4849, 23.8281,\n",
      "        24.5255, 25.0685, 25.5673, 23.4740, 24.1919, 23.9582, 24.1848, 25.9915,\n",
      "        25.1023, 25.0573, 38.4303, 24.1335, 24.1247, 23.3509, 21.7730, 21.5374],\n",
      "       device='cuda:0', dtype=torch.float64)\n",
      "\n"
     ]
    },
    {
     "name": "stderr",
     "output_type": "stream",
     "text": [
      "\r",
      "Eval:  49%|████▉     | 547/1110 [06:57<04:52,  1.92it/s]"
     ]
    },
    {
     "name": "stdout",
     "output_type": "stream",
     "text": [
      "orientation_error\n",
      "tensor([21.7785, 22.0034, 21.4878, 21.8667, 21.9597, 21.8504, 22.3105, 25.1368,\n",
      "        23.0374, 23.4233, 22.1422, 22.5320, 22.8140, 22.7964, 22.2068, 21.9006,\n",
      "        22.2180, 22.3363, 22.1339, 21.9147, 21.6270, 22.6248, 21.7024, 22.7517,\n",
      "        23.0045, 22.3006, 22.1613, 22.2189, 21.0337, 20.7553, 20.2260, 19.9971],\n",
      "       device='cuda:0', dtype=torch.float64)\n",
      "\n"
     ]
    },
    {
     "name": "stderr",
     "output_type": "stream",
     "text": [
      "\r",
      "Eval:  49%|████▉     | 548/1110 [06:58<05:00,  1.87it/s]"
     ]
    },
    {
     "name": "stdout",
     "output_type": "stream",
     "text": [
      "orientation_error\n",
      "tensor([19.6015, 33.5206, 18.8252, 19.1996, 18.3542, 18.1233, 17.4004, 17.2686,\n",
      "        18.4061, 18.8025, 17.8827, 18.5280, 18.3609, 18.4748, 17.7760, 17.5551,\n",
      "        18.0478, 18.1231, 17.2448, 17.6842, 31.4698, 18.2616, 31.7778, 32.5902,\n",
      "        32.9158, 33.1374, 33.7657, 34.5358, 34.7281, 35.5849, 36.6515, 36.4614],\n",
      "       device='cuda:0', dtype=torch.float64)\n",
      "\n"
     ]
    },
    {
     "name": "stderr",
     "output_type": "stream",
     "text": [
      "\r",
      "Eval:  49%|████▉     | 549/1110 [06:59<06:05,  1.53it/s]"
     ]
    },
    {
     "name": "stdout",
     "output_type": "stream",
     "text": [
      "orientation_error\n",
      "tensor([35.6270, 20.9161, 21.7872, 36.5295, 23.3708, 25.2229, 24.0773, 22.8352,\n",
      "        22.3074, 21.8922, 21.1139, 20.2854, 20.4900, 20.8275, 20.8779, 34.0861,\n",
      "        34.7660, 21.8147, 35.6443, 36.5370, 37.1299, 36.4238, 36.1839, 36.0952,\n",
      "        36.7981, 36.7076, 37.2212, 36.8124, 36.8555, 36.4518, 37.2451, 37.6960],\n",
      "       device='cuda:0', dtype=torch.float64)\n",
      "\n",
      "orientation_error\n",
      "tensor([38.5983, 38.3720, 38.4730, 38.7380, 39.2600, 39.5083, 39.8472, 40.0702,\n",
      "        40.2707, 40.3257, 40.2168, 40.1941, 40.7309, 40.6899, 40.7238, 40.7514,\n",
      "        40.9549, 40.8397, 40.8321, 40.8716, 40.6614, 40.7663, 40.3824, 40.3253,\n",
      "        40.4830, 40.7894, 40.8247, 40.3932, 40.2118, 39.4553, 39.1750, 38.5662],\n",
      "       device='cuda:0', dtype=torch.float64)\n",
      "\n"
     ]
    },
    {
     "name": "stderr",
     "output_type": "stream",
     "text": [
      "Eval:  50%|████▉     | 551/1110 [07:00<07:24,  1.26it/s]"
     ]
    },
    {
     "name": "stdout",
     "output_type": "stream",
     "text": [
      "orientation_error\n",
      "tensor([38.6331, 38.5564, 38.3766, 38.5736, 38.8917, 38.4416, 39.0477, 38.9384,\n",
      "        38.4925, 38.6349, 38.8259, 38.8330, 38.3542, 38.9687, 38.7379, 38.9904,\n",
      "        35.6522, 35.3804, 35.5451, 34.9689, 34.6858, 35.0515, 34.7055, 34.9143,\n",
      "        35.0697, 35.1121, 34.8888, 34.7380, 34.0741, 33.0963, 32.7887, 32.3466],\n",
      "       device='cuda:0', dtype=torch.float64)\n",
      "\n"
     ]
    },
    {
     "name": "stderr",
     "output_type": "stream",
     "text": [
      "\r",
      "Eval:  50%|████▉     | 552/1110 [07:01<07:24,  1.25it/s]"
     ]
    },
    {
     "name": "stdout",
     "output_type": "stream",
     "text": [
      "orientation_error\n",
      "tensor([32.0337, 31.6285, 31.1400, 30.8747, 30.8191, 30.8427, 30.8514, 30.7195,\n",
      "        31.1836, 31.7202, 32.4207, 32.3713, 18.0560, 32.6711, 32.5929, 33.0903,\n",
      "        34.8627, 35.3939, 20.8111, 35.1439, 35.5139, 23.2311, 34.5094, 18.4765,\n",
      "        43.8998, 44.4245, 27.6853, 28.3765, 27.5678, 23.4866, 21.1729, 20.4414],\n",
      "       device='cuda:0', dtype=torch.float64)\n",
      "\n"
     ]
    },
    {
     "name": "stderr",
     "output_type": "stream",
     "text": [
      "\r",
      "Eval:  50%|████▉     | 553/1110 [07:02<06:47,  1.37it/s]"
     ]
    },
    {
     "name": "stdout",
     "output_type": "stream",
     "text": [
      "orientation_error\n",
      "tensor([19.4850, 19.4030, 18.7508, 19.8257, 18.9486, 18.5121, 18.3110, 17.4758,\n",
      "        18.3392, 18.9891, 20.5855, 21.4445, 20.8604, 20.9236, 20.8746, 21.5194,\n",
      "        22.5340, 21.1680, 20.4356, 20.8224, 20.6617, 19.6990, 18.5353, 18.0560,\n",
      "        18.4082, 17.5262, 16.7382, 15.7645, 15.9930, 15.9546, 15.7718, 16.3448],\n",
      "       device='cuda:0', dtype=torch.float64)\n",
      "\n"
     ]
    },
    {
     "name": "stderr",
     "output_type": "stream",
     "text": [
      "\r",
      "Eval:  50%|████▉     | 554/1110 [07:02<06:37,  1.40it/s]"
     ]
    },
    {
     "name": "stdout",
     "output_type": "stream",
     "text": [
      "orientation_error\n",
      "tensor([16.7832, 17.1663, 18.3452, 20.4206, 21.3696, 23.8429, 24.1789, 26.1733,\n",
      "        30.5340, 34.5987, 35.4280, 41.5908, 47.1228, 45.8249, 45.4915, 40.2983,\n",
      "        40.0807, 41.1445, 41.4710, 42.1942, 43.4904, 55.6987, 54.4611, 55.3812,\n",
      "        47.5006, 56.3966, 68.4397, 54.0715, 56.5860, 67.7513, 68.6882, 56.8168],\n",
      "       device='cuda:0', dtype=torch.float64)\n",
      "\n"
     ]
    },
    {
     "name": "stderr",
     "output_type": "stream",
     "text": [
      "\r",
      "Eval:  50%|█████     | 555/1110 [07:03<06:48,  1.36it/s]"
     ]
    },
    {
     "name": "stdout",
     "output_type": "stream",
     "text": [
      "orientation_error\n",
      "tensor([69.0567, 65.2643, 63.5354, 65.4673, 52.3249, 52.2924, 68.8876, 67.9684,\n",
      "        67.3599, 68.6782, 59.4732, 59.4162, 60.3706, 51.6018, 61.9321, 61.3555,\n",
      "        61.6548, 63.1825, 47.5208, 46.2304, 45.2021, 44.9430, 46.4165, 42.7601,\n",
      "        48.2468, 48.2805, 33.7672, 48.4295, 49.5507, 36.3567, 49.8725, 49.1232],\n",
      "       device='cuda:0', dtype=torch.float64)\n",
      "\n"
     ]
    },
    {
     "name": "stderr",
     "output_type": "stream",
     "text": [
      "\r",
      "Eval:  50%|█████     | 556/1110 [07:04<06:13,  1.48it/s]"
     ]
    },
    {
     "name": "stdout",
     "output_type": "stream",
     "text": [
      "orientation_error\n",
      "tensor([34.5052, 34.8633, 34.2267, 34.5220, 31.3903, 32.0913, 30.2052, 29.2254,\n",
      "        34.4111, 37.3160, 29.2439, 29.1229, 26.3864, 25.3298, 22.8840, 24.3122,\n",
      "        21.6201, 24.9516, 27.7299, 30.0274, 54.3466, 38.9639, 39.6295, 51.2862,\n",
      "        67.3009, 73.2603, 70.4535, 68.9617, 65.4418, 69.2333, 67.0632, 67.9832],\n",
      "       device='cuda:0', dtype=torch.float64)\n",
      "\n",
      "orientation_error\n",
      "tensor([65.7123, 60.9017, 55.0959, 51.9539, 52.1705, 54.8588, 65.0122, 62.2102,\n",
      "        61.4992, 49.8194, 50.4289, 45.5885, 38.2415, 36.3468, 39.2027, 41.6883,\n",
      "        40.0952, 30.4677, 32.6497, 31.9230, 30.0756, 33.3542, 32.8720, 36.1854,\n",
      "        26.0151, 36.4958, 36.4473, 34.4811, 39.6365, 18.8023, 18.9799, 18.8462],\n",
      "       device='cuda:0', dtype=torch.float64)\n",
      "\n"
     ]
    },
    {
     "name": "stderr",
     "output_type": "stream",
     "text": [
      "Eval:  50%|█████     | 558/1110 [07:05<06:15,  1.47it/s]"
     ]
    },
    {
     "name": "stdout",
     "output_type": "stream",
     "text": [
      "orientation_error\n",
      "tensor([17.4101, 18.1658, 19.8908, 34.4193, 22.6514, 36.8914, 23.1468, 21.6611,\n",
      "        34.4860, 19.8372, 18.8029, 19.5397, 32.6903, 32.6751, 31.5576, 18.0370,\n",
      "        17.7814, 18.1808, 30.4149, 30.6459, 30.9061, 18.2785, 18.4309, 19.4510,\n",
      "        19.8291, 19.7742, 20.8770, 19.8112, 19.2257, 18.8936, 32.2115, 31.9506],\n",
      "       device='cuda:0', dtype=torch.float64)\n",
      "\n"
     ]
    },
    {
     "name": "stderr",
     "output_type": "stream",
     "text": [
      "\r",
      "Eval:  50%|█████     | 559/1110 [07:06<06:09,  1.49it/s]"
     ]
    },
    {
     "name": "stdout",
     "output_type": "stream",
     "text": [
      "orientation_error\n",
      "tensor([32.2126, 32.7941, 31.7729, 32.5701, 32.7507, 32.6765, 18.3677, 31.9182,\n",
      "        17.2381, 17.8269, 31.8481, 18.0849, 17.6971, 18.6093, 18.2099, 18.3878,\n",
      "        32.3567, 32.8486, 33.2234, 33.3836, 33.4235, 32.8854, 32.8989, 33.9405,\n",
      "        34.0058, 35.2526, 34.8848, 21.5523, 34.4728, 22.1393, 35.5945, 35.7125],\n",
      "       device='cuda:0', dtype=torch.float64)\n",
      "\n"
     ]
    },
    {
     "name": "stderr",
     "output_type": "stream",
     "text": [
      "\r",
      "Eval:  50%|█████     | 560/1110 [07:06<06:09,  1.49it/s]"
     ]
    },
    {
     "name": "stdout",
     "output_type": "stream",
     "text": [
      "orientation_error\n",
      "tensor([37.0582, 24.5284, 23.9010, 37.9605, 24.7151, 24.6125, 24.6963, 23.9848,\n",
      "        22.6003, 22.8522, 21.5098, 22.3402, 21.5601, 21.1595, 21.2822, 20.7882,\n",
      "        34.7023, 34.5197, 35.0710, 36.1371, 35.4118, 35.0588, 34.4840, 34.3906,\n",
      "        34.4946, 34.3834, 34.5626, 34.6588, 34.7921, 35.2549, 35.1313, 34.9504],\n",
      "       device='cuda:0', dtype=torch.float64)\n",
      "\n",
      "MPJPE: 96.86103236683675\n",
      "Reconstruction Error: 58.5607300873401\n",
      "\n",
      "Orientation error: 32.74310612314161\n"
     ]
    },
    {
     "name": "stderr",
     "output_type": "stream",
     "text": [
      "\r",
      "Eval:  51%|█████     | 561/1110 [07:07<05:49,  1.57it/s]"
     ]
    },
    {
     "name": "stdout",
     "output_type": "stream",
     "text": [
      "orientation_error\n",
      "tensor([35.1946, 34.7370, 35.0133, 35.3765, 35.1288, 34.7351, 34.3462, 34.1831,\n",
      "        33.8552, 33.7810, 33.5758, 33.6700, 33.4429, 33.6430, 33.2945, 33.4499,\n",
      "        33.4343, 33.8023, 33.4918, 33.5145, 33.8026, 33.8092, 33.3482, 33.2484,\n",
      "        33.3857, 33.7285, 33.8115, 34.1111, 33.8646, 19.8756, 32.9838, 33.4597],\n",
      "       device='cuda:0', dtype=torch.float64)\n",
      "\n"
     ]
    },
    {
     "name": "stderr",
     "output_type": "stream",
     "text": [
      "\r",
      "Eval:  51%|█████     | 562/1110 [07:09<08:12,  1.11it/s]"
     ]
    },
    {
     "name": "stdout",
     "output_type": "stream",
     "text": [
      "orientation_error\n",
      "tensor([33.4137, 19.3803, 19.2869, 19.4448, 19.3340, 19.5203, 33.7732, 20.3026,\n",
      "        20.5460, 20.8345, 21.3089, 21.3562, 21.9682, 22.2418, 22.4784, 22.7945,\n",
      "        22.8722, 23.7265, 23.8535, 23.3677, 22.0142, 21.0851, 33.5078, 19.0199,\n",
      "        18.9128, 18.0332, 18.4314, 33.2306, 18.9929, 18.7753, 18.2736, 20.0688],\n",
      "       device='cuda:0', dtype=torch.float64)\n",
      "\n"
     ]
    },
    {
     "name": "stderr",
     "output_type": "stream",
     "text": [
      "\r",
      "Eval:  51%|█████     | 563/1110 [07:09<06:51,  1.33it/s]"
     ]
    },
    {
     "name": "stdout",
     "output_type": "stream",
     "text": [
      "orientation_error\n",
      "tensor([20.6976, 21.9775, 26.8056, 29.1554, 31.8740, 33.2602, 29.4948, 31.5829,\n",
      "        28.6147, 22.3206, 23.1611, 24.3160, 26.8070, 26.3047, 26.7014, 25.4549,\n",
      "        27.1217, 28.8420, 29.8147, 25.3390, 25.8363, 22.9231, 23.1976, 25.2827,\n",
      "        23.6251, 25.8550, 30.3778, 33.5637, 35.8011, 31.4940, 34.1015, 35.7086],\n",
      "       device='cuda:0', dtype=torch.float64)\n",
      "\n"
     ]
    },
    {
     "name": "stderr",
     "output_type": "stream",
     "text": [
      "\r",
      "Eval:  51%|█████     | 564/1110 [07:09<05:31,  1.65it/s]"
     ]
    },
    {
     "name": "stdout",
     "output_type": "stream",
     "text": [
      "orientation_error\n",
      "tensor([33.7523, 21.3139, 19.4285, 18.6768, 17.8085, 17.6357, 17.5408, 19.7014,\n",
      "        15.5029, 16.2392, 16.1602, 15.6237, 16.3904, 17.2462, 17.1061, 18.5944,\n",
      "        20.4337, 20.7304, 20.6359, 19.6217, 20.5462, 21.9702, 22.4644, 21.9227,\n",
      "        21.3587, 21.1229, 34.1504, 33.4749, 33.0603, 33.3639, 17.8784, 17.9913],\n",
      "       device='cuda:0', dtype=torch.float64)\n",
      "\n"
     ]
    },
    {
     "name": "stderr",
     "output_type": "stream",
     "text": [
      "\r",
      "Eval:  51%|█████     | 565/1110 [07:10<04:45,  1.91it/s]"
     ]
    },
    {
     "name": "stdout",
     "output_type": "stream",
     "text": [
      "orientation_error\n",
      "tensor([18.8990, 19.3432, 19.7390, 19.8162, 19.4663, 19.0783, 19.6980, 20.1326,\n",
      "        20.5700, 21.2407, 21.6646, 21.3335, 20.9674, 20.0916, 19.8279, 19.2489,\n",
      "        19.1807, 19.4013, 18.7678, 20.4552, 18.5373, 19.7247, 19.8957, 19.2965,\n",
      "        18.7259, 18.8367, 19.3046, 19.0988, 19.9667, 21.8381, 24.8112, 24.9166],\n",
      "       device='cuda:0', dtype=torch.float64)\n",
      "\n"
     ]
    },
    {
     "name": "stderr",
     "output_type": "stream",
     "text": [
      "\r",
      "Eval:  51%|█████     | 566/1110 [07:10<05:22,  1.69it/s]"
     ]
    },
    {
     "name": "stdout",
     "output_type": "stream",
     "text": [
      "orientation_error\n",
      "tensor([28.7692, 36.8019, 37.5829, 38.1218, 38.8196, 38.3088, 39.2798, 39.3646,\n",
      "        24.2854, 22.6625, 22.7487, 38.2376, 38.3565, 38.4558, 24.2996, 25.2687,\n",
      "        40.7832, 41.5059, 42.4245, 28.9277, 29.4769, 30.1702, 30.0474, 27.4560,\n",
      "        24.8807, 23.7177, 23.7078, 24.7594, 24.7218, 24.3741, 26.8515, 29.9684],\n",
      "       device='cuda:0', dtype=torch.float64)\n",
      "\n"
     ]
    },
    {
     "name": "stderr",
     "output_type": "stream",
     "text": [
      "\r",
      "Eval:  51%|█████     | 567/1110 [07:11<05:03,  1.79it/s]"
     ]
    },
    {
     "name": "stdout",
     "output_type": "stream",
     "text": [
      "orientation_error\n",
      "tensor([31.3108, 31.7268, 31.3141, 32.2170, 32.2864, 32.9034, 32.6388, 30.2780,\n",
      "        28.9099, 28.4107, 29.3112, 30.2490, 31.3391, 30.5915, 31.3740, 30.4209,\n",
      "        29.3104, 28.2226, 27.6172, 26.2352, 24.3553, 28.2446, 29.8548, 37.5915,\n",
      "        38.2404, 41.6730, 34.9487, 30.3986, 31.6236, 35.0905, 39.1350, 32.0937],\n",
      "       device='cuda:0', dtype=torch.float64)\n",
      "\n"
     ]
    },
    {
     "name": "stderr",
     "output_type": "stream",
     "text": [
      "\r",
      "Eval:  51%|█████     | 568/1110 [07:11<05:00,  1.81it/s]"
     ]
    },
    {
     "name": "stdout",
     "output_type": "stream",
     "text": [
      "orientation_error\n",
      "tensor([25.3570, 43.1838, 47.0919, 44.6666, 46.9366, 45.9184, 44.1992, 43.4818,\n",
      "        43.7677, 53.0264, 39.1180, 39.9591, 42.3038, 41.8884, 41.3403, 40.6259,\n",
      "        39.2077, 40.1443, 37.5656, 40.1985, 38.3830, 37.2224, 37.7782, 38.1497,\n",
      "        38.5249, 37.6461, 35.8240, 37.4624, 46.6434, 50.9813, 51.5682, 47.5664],\n",
      "       device='cuda:0', dtype=torch.float64)\n",
      "\n"
     ]
    },
    {
     "name": "stderr",
     "output_type": "stream",
     "text": [
      "\r",
      "Eval:  51%|█████▏    | 569/1110 [07:12<04:15,  2.12it/s]"
     ]
    },
    {
     "name": "stdout",
     "output_type": "stream",
     "text": [
      "orientation_error\n",
      "tensor([47.8852, 47.4799, 43.2299, 38.3310, 37.1872, 34.8444, 33.4174, 32.7780,\n",
      "        30.5348, 29.8648, 28.8737, 27.0464, 25.5489, 24.7405, 23.0628, 22.9154,\n",
      "        22.7082, 22.1203, 22.4133, 21.6222, 21.7497, 22.3409, 22.1501, 21.5757,\n",
      "        21.3220, 21.7199, 22.0711, 21.1348, 34.9324, 35.3313, 35.9435, 35.8467],\n",
      "       device='cuda:0', dtype=torch.float64)\n",
      "\n"
     ]
    },
    {
     "name": "stderr",
     "output_type": "stream",
     "text": [
      "\r",
      "Eval:  51%|█████▏    | 570/1110 [07:12<04:09,  2.17it/s]"
     ]
    },
    {
     "name": "stdout",
     "output_type": "stream",
     "text": [
      "orientation_error\n",
      "tensor([36.3787, 35.5351, 33.4204, 33.3818, 32.9816, 33.7487, 33.5276, 33.9973,\n",
      "        20.6187, 21.1073, 21.1249, 21.4664, 22.6216, 23.2530, 23.5926, 23.3654,\n",
      "        23.2058, 23.1951, 22.6997, 23.2332, 23.1280, 23.1778, 23.3336, 23.5094,\n",
      "        23.7074, 23.6531, 24.7623, 25.3509, 25.6770, 26.2843, 26.2325, 25.9395],\n",
      "       device='cuda:0', dtype=torch.float64)\n",
      "\n"
     ]
    },
    {
     "name": "stderr",
     "output_type": "stream",
     "text": [
      "\r",
      "Eval:  51%|█████▏    | 571/1110 [07:13<04:16,  2.10it/s]"
     ]
    },
    {
     "name": "stdout",
     "output_type": "stream",
     "text": [
      "orientation_error\n",
      "tensor([25.6866, 24.4034, 23.2257, 22.9520, 22.9421, 23.3206, 23.2055, 23.1969,\n",
      "        23.0067, 23.3938, 23.1307, 22.1367, 22.5994, 23.4188, 23.2450, 24.0970,\n",
      "        23.7391, 23.3929, 23.5350, 25.7949, 28.4805, 29.5902, 31.0644, 30.4760,\n",
      "        27.0475, 25.8494, 24.8444, 22.7794, 20.6711, 19.5784, 19.3974, 19.4948],\n",
      "       device='cuda:0', dtype=torch.float64)\n",
      "\n"
     ]
    },
    {
     "name": "stderr",
     "output_type": "stream",
     "text": [
      "\r",
      "Eval:  52%|█████▏    | 572/1110 [07:13<04:01,  2.23it/s]"
     ]
    },
    {
     "name": "stdout",
     "output_type": "stream",
     "text": [
      "orientation_error\n",
      "tensor([18.6297, 19.1329, 20.1197, 20.3330, 20.0945, 20.9210, 20.2874, 20.3044,\n",
      "        19.7218, 19.4926, 18.9812, 19.2471, 19.9321, 20.4475, 20.5645, 20.4924,\n",
      "        20.7689, 20.1696, 19.9947, 20.6075, 19.3071, 32.7187, 33.2480, 32.8642,\n",
      "        32.5936, 32.4914, 32.6936, 32.3986, 32.5521, 31.7754, 32.4088, 32.6347],\n",
      "       device='cuda:0', dtype=torch.float64)\n",
      "\n"
     ]
    },
    {
     "name": "stderr",
     "output_type": "stream",
     "text": [
      "\r",
      "Eval:  52%|█████▏    | 573/1110 [07:13<03:53,  2.30it/s]"
     ]
    },
    {
     "name": "stdout",
     "output_type": "stream",
     "text": [
      "orientation_error\n",
      "tensor([32.9136, 32.7426, 32.9453, 33.0675, 32.8008, 32.3298, 31.8989, 31.7649,\n",
      "        31.3323, 30.9388, 31.8078, 32.3567, 32.4339, 32.7521, 32.4546, 32.7760,\n",
      "        32.8893, 33.1275, 32.9076, 32.7209, 32.4622, 32.7634, 32.6368, 32.5189,\n",
      "        32.6000, 32.5640, 32.5470, 32.8003, 32.9469, 33.0289, 33.3796, 33.2995],\n",
      "       device='cuda:0', dtype=torch.float64)\n",
      "\n"
     ]
    },
    {
     "name": "stderr",
     "output_type": "stream",
     "text": [
      "\r",
      "Eval:  52%|█████▏    | 574/1110 [07:14<04:03,  2.21it/s]"
     ]
    },
    {
     "name": "stdout",
     "output_type": "stream",
     "text": [
      "orientation_error\n",
      "tensor([33.1951, 33.3915, 33.1966, 33.4736, 33.5540, 33.4756, 33.6404, 33.4863,\n",
      "        33.5929, 33.6294, 33.5719, 33.6754, 33.8084, 33.8429, 33.6543, 33.9630,\n",
      "        34.1266, 34.1893, 34.0616, 34.1001, 34.1205, 34.2263, 34.1484, 34.1822,\n",
      "        34.2092, 34.0993, 34.0698, 34.1512, 34.0737, 34.1614, 34.2543, 33.9858],\n",
      "       device='cuda:0', dtype=torch.float64)\n",
      "\n"
     ]
    },
    {
     "name": "stderr",
     "output_type": "stream",
     "text": [
      "\r",
      "Eval:  52%|█████▏    | 575/1110 [07:15<05:18,  1.68it/s]"
     ]
    },
    {
     "name": "stdout",
     "output_type": "stream",
     "text": [
      "orientation_error\n",
      "tensor([34.4492, 34.4638, 34.4856, 34.4378, 34.4714, 34.5099, 34.5830, 33.9054,\n",
      "        33.3081, 33.3835, 33.9242, 33.7589, 48.4923, 47.7177, 32.2821, 30.9350,\n",
      "        30.0352, 29.5385, 28.2985, 27.5664, 26.9087, 27.8793, 28.1942, 28.8538,\n",
      "        29.5597, 29.4530, 29.9138, 30.6907, 30.7924, 30.1234, 30.2239, 30.5790],\n",
      "       device='cuda:0', dtype=torch.float64)\n",
      "\n"
     ]
    },
    {
     "name": "stderr",
     "output_type": "stream",
     "text": [
      "\r",
      "Eval:  52%|█████▏    | 576/1110 [07:15<04:45,  1.87it/s]"
     ]
    },
    {
     "name": "stdout",
     "output_type": "stream",
     "text": [
      "orientation_error\n",
      "tensor([30.9310, 30.6622, 31.3347, 31.1431, 31.9629, 32.2294, 32.4366, 32.7953,\n",
      "        33.2501, 32.9894, 33.0162, 33.7332, 33.4538, 46.4157, 45.6800, 42.3900,\n",
      "        42.9388, 28.3442, 30.6389, 29.9998, 43.3330, 28.2204, 29.0102, 27.9962,\n",
      "        28.9006, 29.5112, 28.9947, 28.3876, 28.4069, 28.7458, 29.2821, 30.0369],\n",
      "       device='cuda:0', dtype=torch.float64)\n",
      "\n"
     ]
    },
    {
     "name": "stderr",
     "output_type": "stream",
     "text": [
      "\r",
      "Eval:  52%|█████▏    | 577/1110 [07:16<04:27,  1.99it/s]"
     ]
    },
    {
     "name": "stdout",
     "output_type": "stream",
     "text": [
      "orientation_error\n",
      "tensor([30.8863, 31.3908, 31.2441, 30.5563, 29.9577, 29.0273, 27.5246, 26.9532,\n",
      "        26.6510, 26.8184, 27.4056, 28.0216, 29.0044, 29.5577, 30.7727, 32.2789,\n",
      "        32.6678, 33.3440, 33.2289, 33.0382, 32.7812, 32.7370, 32.8614, 32.5476,\n",
      "        32.5153, 32.3268, 32.3414, 33.1635, 32.2098, 32.1817, 33.3700, 33.9599],\n",
      "       device='cuda:0', dtype=torch.float64)\n",
      "\n"
     ]
    },
    {
     "name": "stderr",
     "output_type": "stream",
     "text": [
      "\r",
      "Eval:  52%|█████▏    | 578/1110 [07:16<04:18,  2.06it/s]"
     ]
    },
    {
     "name": "stdout",
     "output_type": "stream",
     "text": [
      "orientation_error\n",
      "tensor([31.1640, 31.1003, 31.5227, 33.1358, 31.6400, 31.2142, 30.4120, 29.9457,\n",
      "        30.6129, 31.2522, 34.0117, 46.9034, 45.6214, 45.0695, 31.8611, 44.6291,\n",
      "        44.7625, 45.7694, 45.8251, 45.9801, 57.3945, 58.5792, 60.2929, 58.8697,\n",
      "        60.0250, 46.1576, 58.8811, 44.7235, 45.6225, 31.4048, 30.6755, 31.8699],\n",
      "       device='cuda:0', dtype=torch.float64)\n",
      "\n"
     ]
    },
    {
     "name": "stderr",
     "output_type": "stream",
     "text": [
      "\r",
      "Eval:  52%|█████▏    | 579/1110 [07:16<04:00,  2.20it/s]"
     ]
    },
    {
     "name": "stdout",
     "output_type": "stream",
     "text": [
      "orientation_error\n",
      "tensor([32.6308, 46.3630, 45.2645, 44.9289, 46.0512, 30.5801, 30.5973, 31.5428,\n",
      "        30.6978, 30.4757, 30.6518, 30.1580, 29.4072, 29.1871, 28.6822, 29.4762,\n",
      "        30.1158, 29.9638, 30.7776, 31.3686, 31.0607, 32.0062, 32.0486, 32.8243,\n",
      "        32.7584, 32.3227, 32.2141, 31.8659, 31.9273, 31.8496, 32.0006, 31.8739],\n",
      "       device='cuda:0', dtype=torch.float64)\n",
      "\n",
      "orientation_error\n",
      "tensor([31.8212, 31.2638, 45.7174, 45.4115, 46.3437, 46.2282, 32.1952, 47.3697,\n",
      "        32.9103, 31.4081, 30.9648, 31.1904, 30.8182, 30.3533, 30.3887, 31.8814,\n",
      "        29.6873, 29.5345, 30.4007, 31.2953, 32.2817, 32.1165, 31.7208, 31.7291,\n",
      "        31.3739, 44.5199, 32.8815, 32.1745, 30.7008, 31.1191, 31.2030, 31.5012],\n",
      "       device='cuda:0', dtype=torch.float64)\n",
      "\n"
     ]
    },
    {
     "name": "stderr",
     "output_type": "stream",
     "text": [
      "\r",
      "Eval:  52%|█████▏    | 580/1110 [07:17<04:33,  1.94it/s]"
     ]
    },
    {
     "name": "stdout",
     "output_type": "stream",
     "text": [
      "MPJPE: 97.26141928825834\n",
      "Reconstruction Error: 58.600691197615355\n",
      "\n",
      "Orientation error: 32.64848858990065\n"
     ]
    },
    {
     "name": "stderr",
     "output_type": "stream",
     "text": [
      "\r",
      "Eval:  52%|█████▏    | 581/1110 [07:18<04:47,  1.84it/s]"
     ]
    },
    {
     "name": "stdout",
     "output_type": "stream",
     "text": [
      "orientation_error\n",
      "tensor([30.5809, 31.4965, 31.1746, 31.6469, 30.5911, 31.3371, 30.9129, 31.6039,\n",
      "        29.9560, 30.7412, 30.0791, 29.8964, 31.1717, 31.1811, 31.1793, 30.9265,\n",
      "        31.2663, 30.1902, 30.9648, 31.6509, 31.6387, 31.3719, 30.1361, 30.8858,\n",
      "        31.3133, 31.1069, 32.1511, 32.0330, 31.5071, 32.3925, 31.7454, 32.7536],\n",
      "       device='cuda:0', dtype=torch.float64)\n",
      "\n"
     ]
    },
    {
     "name": "stderr",
     "output_type": "stream",
     "text": [
      "\r",
      "Eval:  52%|█████▏    | 582/1110 [07:18<05:18,  1.66it/s]"
     ]
    },
    {
     "name": "stdout",
     "output_type": "stream",
     "text": [
      "orientation_error\n",
      "tensor([31.7268, 33.6621, 34.3656, 31.9191, 31.8846, 44.6142, 32.7642, 32.4614,\n",
      "        30.0088, 32.1704, 33.8897, 31.7088, 31.3372, 34.4497, 34.5406, 32.7324,\n",
      "        32.1087, 32.6524, 31.8156, 33.3698, 32.3865, 32.2899, 31.5331, 32.5441,\n",
      "        35.5670, 31.8973, 30.6369, 32.9984, 31.0706, 31.4407, 30.0353, 31.2223],\n",
      "       device='cuda:0', dtype=torch.float64)\n",
      "\n"
     ]
    },
    {
     "name": "stderr",
     "output_type": "stream",
     "text": [
      "\r",
      "Eval:  53%|█████▎    | 583/1110 [07:19<05:21,  1.64it/s]"
     ]
    },
    {
     "name": "stdout",
     "output_type": "stream",
     "text": [
      "orientation_error\n",
      "tensor([32.2402, 31.4948, 32.6318, 34.4727, 31.9510, 33.5175, 33.8668, 33.1664,\n",
      "        46.9210, 45.2609, 32.6660, 31.0050, 33.5398, 32.4900, 33.0654, 31.6275,\n",
      "        45.7048, 35.1755, 33.4573, 32.4273, 33.3029, 33.0062, 33.2864, 33.4991,\n",
      "        34.8387, 34.7520, 31.3776, 32.3843, 32.4240, 33.5069, 34.9140, 33.7616],\n",
      "       device='cuda:0', dtype=torch.float64)\n",
      "\n"
     ]
    },
    {
     "name": "stderr",
     "output_type": "stream",
     "text": [
      "\r",
      "Eval:  53%|█████▎    | 584/1110 [07:20<05:22,  1.63it/s]"
     ]
    },
    {
     "name": "stdout",
     "output_type": "stream",
     "text": [
      "orientation_error\n",
      "tensor([32.0174, 31.7873, 33.1583, 32.6214, 30.9957, 30.9392, 31.5818, 32.4277,\n",
      "        30.1419, 31.6270, 31.2865, 30.5389, 43.4075, 43.1270, 29.7207, 28.7042,\n",
      "        29.3721, 30.2160, 42.7199, 44.2057, 43.4455, 31.3415, 29.9530, 31.8239,\n",
      "        31.4427, 29.8203, 28.7172, 30.6534, 30.1149, 28.5979, 30.8809, 31.3861],\n",
      "       device='cuda:0', dtype=torch.float64)\n",
      "\n"
     ]
    },
    {
     "name": "stderr",
     "output_type": "stream",
     "text": [
      "\r",
      "Eval:  53%|█████▎    | 585/1110 [07:20<05:41,  1.54it/s]"
     ]
    },
    {
     "name": "stdout",
     "output_type": "stream",
     "text": [
      "orientation_error\n",
      "tensor([30.4216, 29.4125, 43.7653, 31.3004, 29.6916, 28.9350, 29.1431, 29.3276,\n",
      "        45.0592, 44.2891, 31.5054, 29.3816, 29.8488, 30.3882, 29.4955, 30.8822,\n",
      "        42.9473, 29.1213, 27.8051, 29.9174, 30.3045, 29.7284, 44.2011, 30.7945,\n",
      "        29.2913, 29.7188, 30.7885, 29.7076, 30.0750, 44.9311, 31.3353, 29.1681],\n",
      "       device='cuda:0', dtype=torch.float64)\n",
      "\n"
     ]
    },
    {
     "name": "stderr",
     "output_type": "stream",
     "text": [
      "\r",
      "Eval:  53%|█████▎    | 586/1110 [07:21<05:22,  1.62it/s]"
     ]
    },
    {
     "name": "stdout",
     "output_type": "stream",
     "text": [
      "orientation_error\n",
      "tensor([29.2817, 31.6419, 32.7799, 30.1955, 28.2926, 43.3024, 29.7128, 27.9949,\n",
      "        28.0765, 29.2983, 29.4742, 30.0342, 28.9866, 28.2913, 28.5036, 28.2949,\n",
      "        29.4319, 29.7829, 30.2502, 28.3496, 28.6325, 28.0203, 28.8807, 29.4142,\n",
      "        31.2835, 31.7481, 28.7326, 28.3855, 29.4622, 29.5252, 28.5677, 30.1781],\n",
      "       device='cuda:0', dtype=torch.float64)\n",
      "\n"
     ]
    },
    {
     "name": "stderr",
     "output_type": "stream",
     "text": [
      "\r",
      "Eval:  53%|█████▎    | 587/1110 [07:21<05:10,  1.69it/s]"
     ]
    },
    {
     "name": "stdout",
     "output_type": "stream",
     "text": [
      "orientation_error\n",
      "tensor([30.0224, 28.5070, 27.5947, 31.9361, 29.6854, 29.3363, 29.9083, 30.5746,\n",
      "        28.0354, 27.8838, 27.8011, 27.9186, 28.8556, 30.4819, 29.8342, 29.8041,\n",
      "        29.6779, 31.2623, 29.1504, 28.4349, 28.5816, 29.7017, 28.5823, 28.4624,\n",
      "        28.9712, 29.5527, 30.2986, 31.1897, 30.3676, 30.1053, 29.9881, 31.0593],\n",
      "       device='cuda:0', dtype=torch.float64)\n",
      "\n"
     ]
    },
    {
     "name": "stderr",
     "output_type": "stream",
     "text": [
      "\r",
      "Eval:  53%|█████▎    | 588/1110 [07:22<04:40,  1.86it/s]"
     ]
    },
    {
     "name": "stdout",
     "output_type": "stream",
     "text": [
      "orientation_error\n",
      "tensor([30.8945, 32.0861, 33.6435, 33.4424, 30.9008, 30.2375, 31.1354, 29.9180,\n",
      "        30.7868, 32.8801, 33.5554, 31.9670, 31.4683, 33.0488, 32.2078, 30.8936,\n",
      "        31.9023, 31.9399, 30.9521, 31.5362, 32.4391, 30.7646, 31.4241, 33.5103,\n",
      "        34.1367, 32.3178, 30.0365, 30.9286, 29.8049, 30.3334, 31.3395, 31.6876],\n",
      "       device='cuda:0', dtype=torch.float64)\n",
      "\n"
     ]
    },
    {
     "name": "stderr",
     "output_type": "stream",
     "text": [
      "\r",
      "Eval:  53%|█████▎    | 589/1110 [07:22<04:25,  1.96it/s]"
     ]
    },
    {
     "name": "stdout",
     "output_type": "stream",
     "text": [
      "orientation_error\n",
      "tensor([32.0740, 30.7167, 30.8467, 30.1557, 30.3872, 31.5882, 31.0986, 30.7664,\n",
      "        29.4788, 31.7849, 30.1231, 30.1657, 32.2098, 33.2087, 31.6135, 30.8338,\n",
      "        33.0054, 31.7022, 29.4450, 30.9061, 30.5235, 31.5458, 29.2671, 31.0231,\n",
      "        32.0717, 31.2500, 30.0741, 30.7969, 29.9528, 30.8878, 31.2576, 31.8611],\n",
      "       device='cuda:0', dtype=torch.float64)\n",
      "\n"
     ]
    },
    {
     "name": "stderr",
     "output_type": "stream",
     "text": [
      "\r",
      "Eval:  53%|█████▎    | 590/1110 [07:23<04:28,  1.94it/s]"
     ]
    },
    {
     "name": "stdout",
     "output_type": "stream",
     "text": [
      "orientation_error\n",
      "tensor([30.2680, 33.3463, 34.8033, 34.1781, 31.9109, 29.7560, 31.8242, 29.6038,\n",
      "        32.3086, 29.5877, 32.1253, 30.1595, 28.1903, 28.6123, 27.9243, 28.7642,\n",
      "        29.2393, 29.4394, 27.4861, 28.7258, 28.3822, 28.1768, 27.5063, 28.8248,\n",
      "        30.3436, 28.8332, 29.8804, 28.1304, 28.6550, 29.6635, 29.6224, 29.3255],\n",
      "       device='cuda:0', dtype=torch.float64)\n",
      "\n"
     ]
    },
    {
     "name": "stderr",
     "output_type": "stream",
     "text": [
      "\r",
      "Eval:  53%|█████▎    | 591/1110 [07:23<04:42,  1.84it/s]"
     ]
    },
    {
     "name": "stdout",
     "output_type": "stream",
     "text": [
      "orientation_error\n",
      "tensor([29.8349, 29.6755, 27.6197, 30.6349, 29.8158, 28.4923, 27.7714, 28.5264,\n",
      "        29.6797, 28.6109, 28.8513, 28.3858, 26.5870, 28.5821, 29.1479, 28.8577,\n",
      "        28.3111, 27.1592, 27.4049, 28.5935, 28.0267, 29.4152, 29.7044, 27.5308,\n",
      "        28.1029, 28.1927, 27.7686, 30.5036, 30.8053, 28.4890, 28.7331, 27.8219],\n",
      "       device='cuda:0', dtype=torch.float64)\n",
      "\n"
     ]
    },
    {
     "name": "stderr",
     "output_type": "stream",
     "text": [
      "\r",
      "Eval:  53%|█████▎    | 592/1110 [07:24<04:38,  1.86it/s]"
     ]
    },
    {
     "name": "stdout",
     "output_type": "stream",
     "text": [
      "orientation_error\n",
      "tensor([27.2047, 28.4447, 29.9380, 30.1235, 29.8406, 28.6758, 32.2152, 27.8766,\n",
      "        29.5944, 28.6801, 30.2571, 29.1690, 27.4177, 28.1012, 28.2079, 28.8623,\n",
      "        28.1306, 29.4579, 30.3530, 29.6095, 28.6276, 28.8010, 29.3002, 32.0872,\n",
      "        34.0622, 30.3198, 29.5445, 26.8669, 27.2530, 29.0621, 29.9584, 31.6322],\n",
      "       device='cuda:0', dtype=torch.float64)\n",
      "\n"
     ]
    },
    {
     "name": "stderr",
     "output_type": "stream",
     "text": [
      "\r",
      "Eval:  53%|█████▎    | 593/1110 [07:24<04:33,  1.89it/s]"
     ]
    },
    {
     "name": "stdout",
     "output_type": "stream",
     "text": [
      "orientation_error\n",
      "tensor([29.2590, 28.7789, 29.6990, 30.0375, 29.7818, 30.5460, 30.6758, 30.8774,\n",
      "        31.1954, 31.1313, 30.5702, 30.2755, 29.5212, 29.8743, 30.7725, 31.3525,\n",
      "        30.0166, 33.6110, 38.9953, 42.2260, 56.8566, 55.2488, 45.9969, 43.9106,\n",
      "        43.3695, 41.2633, 41.6240, 41.9567, 39.1472, 35.9448, 36.3752, 33.8457],\n",
      "       device='cuda:0', dtype=torch.float64)\n",
      "\n"
     ]
    },
    {
     "name": "stderr",
     "output_type": "stream",
     "text": [
      "\r",
      "Eval:  54%|█████▎    | 594/1110 [07:25<04:24,  1.95it/s]"
     ]
    },
    {
     "name": "stdout",
     "output_type": "stream",
     "text": [
      "orientation_error\n",
      "tensor([35.4505, 32.9324, 35.1111, 36.5171, 37.1516, 34.9598, 36.9675, 33.1101,\n",
      "        33.3287, 31.8805, 32.3687, 34.5192, 32.2828, 33.8725, 33.4172, 31.9940,\n",
      "        32.9445, 33.6758, 31.9525, 32.6614, 33.6817, 32.1083, 31.5977, 31.5320,\n",
      "        31.3036, 31.0059, 31.4124, 32.2499, 32.5825, 32.3813, 31.0409, 30.2618],\n",
      "       device='cuda:0', dtype=torch.float64)\n",
      "\n"
     ]
    },
    {
     "name": "stderr",
     "output_type": "stream",
     "text": [
      "\r",
      "Eval:  54%|█████▎    | 595/1110 [07:25<04:23,  1.96it/s]"
     ]
    },
    {
     "name": "stdout",
     "output_type": "stream",
     "text": [
      "orientation_error\n",
      "tensor([27.8466, 28.3087, 27.7163, 29.5497, 31.8591, 31.9036, 33.5050, 47.8961,\n",
      "        48.7055, 35.1454, 36.4730, 37.3172, 36.7731, 36.4140, 35.9335, 36.4256,\n",
      "        37.4946, 36.8765, 36.8403, 36.6124, 36.4033, 37.2666, 36.5064, 36.4285,\n",
      "        35.5880, 35.2211, 35.0848, 34.2668, 34.5004, 34.1093, 34.2136, 31.1461],\n",
      "       device='cuda:0', dtype=torch.float64)\n",
      "\n"
     ]
    },
    {
     "name": "stderr",
     "output_type": "stream",
     "text": [
      "\r",
      "Eval:  54%|█████▎    | 596/1110 [07:26<05:06,  1.68it/s]"
     ]
    },
    {
     "name": "stdout",
     "output_type": "stream",
     "text": [
      "orientation_error\n",
      "tensor([30.8689, 30.7620, 31.5490, 32.4874, 32.4135, 31.7686, 31.6534, 31.4736,\n",
      "        32.0042, 32.4671, 33.1628, 33.2254, 34.1559, 33.8411, 48.3297, 48.6517,\n",
      "        48.8004, 48.6493, 34.0312, 34.2108, 34.6119, 34.4647, 34.7366, 34.3037,\n",
      "        34.1553, 34.2150, 34.4817, 34.6980, 34.5348, 34.6251, 34.4019, 34.6091],\n",
      "       device='cuda:0', dtype=torch.float64)\n",
      "\n"
     ]
    },
    {
     "name": "stderr",
     "output_type": "stream",
     "text": [
      "\r",
      "Eval:  54%|█████▍    | 597/1110 [07:27<05:03,  1.69it/s]"
     ]
    },
    {
     "name": "stdout",
     "output_type": "stream",
     "text": [
      "orientation_error\n",
      "tensor([34.4914, 34.3706, 34.4613, 34.5356, 34.7827, 34.7108, 34.9023, 34.8573,\n",
      "        34.9547, 34.9181, 34.9048, 34.8339, 35.0840, 35.0638, 34.9844, 34.6795,\n",
      "        34.6649, 34.5183, 34.8134, 34.7526, 35.0036, 34.7833, 34.8947, 34.6669,\n",
      "        34.3883, 34.2830, 34.1715, 36.9805, 37.3758, 37.3370, 37.5689, 37.6384],\n",
      "       device='cuda:0', dtype=torch.float64)\n",
      "\n"
     ]
    },
    {
     "name": "stderr",
     "output_type": "stream",
     "text": [
      "\r",
      "Eval:  54%|█████▍    | 598/1110 [07:28<05:20,  1.60it/s]"
     ]
    },
    {
     "name": "stdout",
     "output_type": "stream",
     "text": [
      "orientation_error\n",
      "tensor([37.8850, 37.7130, 37.8921, 37.9106, 37.8505, 37.8087, 37.6932, 37.7048,\n",
      "        37.6956, 37.6986, 37.6908, 37.5090, 37.5080, 37.5302, 37.5121, 37.3538,\n",
      "        37.3916, 37.1249, 37.0019, 36.9156, 37.0380, 36.9852, 36.7609, 36.5385,\n",
      "        36.4541, 36.2869, 36.2361, 36.2954, 36.4284, 36.4921, 36.0969, 35.8133],\n",
      "       device='cuda:0', dtype=torch.float64)\n",
      "\n"
     ]
    },
    {
     "name": "stderr",
     "output_type": "stream",
     "text": [
      "\r",
      "Eval:  54%|█████▍    | 599/1110 [07:28<04:28,  1.90it/s]"
     ]
    },
    {
     "name": "stdout",
     "output_type": "stream",
     "text": [
      "orientation_error\n",
      "tensor([35.4841, 35.3243, 35.0021, 35.3596, 35.3143, 35.2022, 35.4296, 35.5765,\n",
      "        35.3729, 35.2373, 35.1897, 35.0755, 34.5346, 34.6942, 34.1020, 34.4328,\n",
      "        34.2599, 33.6477, 33.3679, 33.2686, 33.3520, 33.2659, 19.3476, 18.7738,\n",
      "        18.8113, 18.3429, 18.4898, 18.3665, 18.4262, 18.5723, 18.6539, 18.2918],\n",
      "       device='cuda:0', dtype=torch.float64)\n",
      "\n"
     ]
    },
    {
     "name": "stderr",
     "output_type": "stream",
     "text": [
      "\r",
      "Eval:  54%|█████▍    | 600/1110 [07:28<03:52,  2.19it/s]"
     ]
    },
    {
     "name": "stdout",
     "output_type": "stream",
     "text": [
      "orientation_error\n",
      "tensor([18.2877, 17.8642, 17.6176, 17.0583, 16.3683, 16.1007, 15.5515, 15.0512,\n",
      "        14.7949, 14.8127, 14.8068, 14.7695, 29.2373, 29.6596, 30.0805, 29.8445,\n",
      "        30.1474, 30.7913, 32.1484, 34.4195, 36.3902, 38.0689, 37.6810, 38.3544,\n",
      "        36.2422, 34.7685, 34.2783, 34.8424, 21.0913, 21.1080, 21.5989, 21.9589],\n",
      "       device='cuda:0', dtype=torch.float64)\n",
      "\n",
      "MPJPE: 98.29730211023649\n",
      "Reconstruction Error: 58.67116694960149\n",
      "\n",
      "Orientation error: 32.64178485721555\n"
     ]
    },
    {
     "name": "stderr",
     "output_type": "stream",
     "text": [
      "\r",
      "Eval:  54%|█████▍    | 601/1110 [07:29<03:55,  2.17it/s]"
     ]
    },
    {
     "name": "stdout",
     "output_type": "stream",
     "text": [
      "orientation_error\n",
      "tensor([30.4122, 30.8543, 22.4252, 34.2266, 41.7000, 39.7937, 42.0138, 34.3739,\n",
      "        42.4901, 39.9506, 39.9018, 40.7213, 39.5654, 38.0170, 36.9255, 37.3539,\n",
      "        38.3987, 38.9913, 40.0046, 40.6196, 40.8198, 40.4755, 40.1114, 38.7023,\n",
      "        38.1125, 39.0589, 37.5909, 36.3549, 36.2574, 36.6660, 35.9664, 33.6030],\n",
      "       device='cuda:0', dtype=torch.float64)\n",
      "\n"
     ]
    },
    {
     "name": "stderr",
     "output_type": "stream",
     "text": [
      "\r",
      "Eval:  54%|█████▍    | 602/1110 [07:29<03:37,  2.33it/s]"
     ]
    },
    {
     "name": "stdout",
     "output_type": "stream",
     "text": [
      "orientation_error\n",
      "tensor([37.4272, 38.2739, 39.7466, 40.7984, 41.6749, 39.7517, 23.9401, 22.1511,\n",
      "        21.3697, 22.4844, 21.6387, 21.7676, 36.3801, 35.7910, 21.1852, 20.1757,\n",
      "        20.6750, 20.1851, 20.2065, 21.4070, 20.4959, 21.0965, 21.3492, 21.5316,\n",
      "        22.0023, 21.7450, 21.3643, 21.7741, 21.5048, 21.2387, 21.6871, 21.8866],\n",
      "       device='cuda:0', dtype=torch.float64)\n",
      "\n"
     ]
    },
    {
     "name": "stderr",
     "output_type": "stream",
     "text": [
      "\r",
      "Eval:  54%|█████▍    | 603/1110 [07:29<03:43,  2.27it/s]"
     ]
    },
    {
     "name": "stdout",
     "output_type": "stream",
     "text": [
      "orientation_error\n",
      "tensor([21.8999, 21.8976, 21.9572, 22.5283, 22.1423, 22.1450, 22.0608, 21.3760,\n",
      "        21.1641, 20.7887, 21.1885, 21.6733, 21.3520, 35.9720, 21.4103, 21.2609,\n",
      "        22.0812, 21.3810, 22.1724, 21.5494, 22.7196, 22.2219, 21.5958, 21.5852,\n",
      "        22.0808, 22.3369, 22.0424, 21.9216, 22.1460, 21.0177, 20.6103, 20.1610],\n",
      "       device='cuda:0', dtype=torch.float64)\n",
      "\n"
     ]
    },
    {
     "name": "stderr",
     "output_type": "stream",
     "text": [
      "\r",
      "Eval:  54%|█████▍    | 604/1110 [07:30<03:16,  2.57it/s]"
     ]
    },
    {
     "name": "stdout",
     "output_type": "stream",
     "text": [
      "orientation_error\n",
      "tensor([20.2907, 20.3878, 21.1058, 22.9765, 24.5409, 24.5572, 24.8812, 25.9161,\n",
      "        29.4100, 28.9725, 31.8695, 29.6113, 31.8858, 30.2085, 30.4757, 37.6591,\n",
      "        26.6443, 22.8361, 25.6302, 31.2952, 38.7875, 20.4630, 24.9648, 22.6652,\n",
      "        26.4763, 25.9027, 27.3672, 20.7543, 23.8353, 23.1771, 25.0892, 25.9602],\n",
      "       device='cuda:0', dtype=torch.float64)\n",
      "\n"
     ]
    },
    {
     "name": "stderr",
     "output_type": "stream",
     "text": [
      "\r",
      "Eval:  55%|█████▍    | 605/1110 [07:30<03:01,  2.78it/s]"
     ]
    },
    {
     "name": "stdout",
     "output_type": "stream",
     "text": [
      "orientation_error\n",
      "tensor([27.0510, 26.7388, 25.8129, 26.0740, 25.4464, 25.1831, 26.2187, 25.1476,\n",
      "        24.8641, 24.4123, 24.3792, 24.5608, 24.2724, 24.5469, 24.2551, 24.9168,\n",
      "        25.8815, 26.8666, 26.6268, 26.4673, 27.7725, 28.8761, 26.0155, 25.3291,\n",
      "        25.1947, 24.6919, 24.8347, 25.1717, 24.9263, 24.9758, 24.7930, 24.6895],\n",
      "       device='cuda:0', dtype=torch.float64)\n",
      "\n"
     ]
    },
    {
     "name": "stderr",
     "output_type": "stream",
     "text": [
      "\r",
      "Eval:  55%|█████▍    | 606/1110 [07:30<03:01,  2.77it/s]"
     ]
    },
    {
     "name": "stdout",
     "output_type": "stream",
     "text": [
      "orientation_error\n",
      "tensor([25.1030, 25.1153, 25.3603, 24.2134, 24.4689, 24.2175, 24.3964, 24.7082,\n",
      "        25.1903, 25.6103, 25.7818, 27.3474, 28.0485, 26.2725, 25.5784, 24.8057,\n",
      "        31.6017, 23.8208, 24.2235, 29.9850, 29.8400, 29.3452, 28.5649, 28.6071,\n",
      "        29.0418, 29.0428, 29.2362, 29.5168, 20.9080, 20.5805, 20.8988, 20.7829],\n",
      "       device='cuda:0', dtype=torch.float64)\n",
      "\n"
     ]
    },
    {
     "name": "stderr",
     "output_type": "stream",
     "text": [
      "\r",
      "Eval:  55%|█████▍    | 607/1110 [07:31<04:16,  1.96it/s]"
     ]
    },
    {
     "name": "stdout",
     "output_type": "stream",
     "text": [
      "orientation_error\n",
      "tensor([20.3642, 20.9838, 20.9341, 21.4079, 21.8883, 22.5192, 22.9098, 22.3820,\n",
      "        23.6956, 21.9214, 23.5246, 21.6501, 22.2793, 20.8516, 20.6094, 20.5402,\n",
      "        20.7411, 20.7703, 21.4215, 20.8069, 22.8762, 22.7687, 22.3079, 21.4885,\n",
      "        21.1738, 21.7237, 21.9249, 21.4593, 21.0217, 20.6917, 19.9816, 20.4917],\n",
      "       device='cuda:0', dtype=torch.float64)\n",
      "\n"
     ]
    },
    {
     "name": "stderr",
     "output_type": "stream",
     "text": [
      "\r",
      "Eval:  55%|█████▍    | 608/1110 [07:32<04:23,  1.90it/s]"
     ]
    },
    {
     "name": "stdout",
     "output_type": "stream",
     "text": [
      "orientation_error\n",
      "tensor([20.1611, 20.0122, 20.3500, 19.8779, 19.8875, 20.3598, 20.1503, 20.0438,\n",
      "        20.1424, 20.1266, 20.2532, 20.4010, 20.3080, 20.1245, 20.3472, 20.3361,\n",
      "        20.3321, 20.5798, 20.6257, 20.5216, 20.3664, 20.4096, 20.6490, 20.6263,\n",
      "        20.4849, 20.4558, 20.3486, 20.5122, 20.6245, 20.7660, 20.5011, 20.5568],\n",
      "       device='cuda:0', dtype=torch.float64)\n",
      "\n"
     ]
    },
    {
     "name": "stderr",
     "output_type": "stream",
     "text": [
      "\r",
      "Eval:  55%|█████▍    | 609/1110 [07:32<04:24,  1.89it/s]"
     ]
    },
    {
     "name": "stdout",
     "output_type": "stream",
     "text": [
      "orientation_error\n",
      "tensor([20.4142, 20.4835, 20.3608, 20.3142, 20.3098, 20.1200, 20.1083, 20.3473,\n",
      "        20.2200, 20.3810, 20.2406, 20.0512, 20.2321, 19.9627, 19.6968, 19.8022,\n",
      "        19.8621, 19.7628, 20.0365, 19.7810, 34.0684, 19.3064, 33.9177, 33.8605,\n",
      "        20.4005, 33.6008, 34.4625, 19.5335, 19.2154, 20.3123, 32.2245, 34.1604],\n",
      "       device='cuda:0', dtype=torch.float64)\n",
      "\n"
     ]
    },
    {
     "name": "stderr",
     "output_type": "stream",
     "text": [
      "\r",
      "Eval:  55%|█████▍    | 610/1110 [07:33<04:35,  1.81it/s]"
     ]
    },
    {
     "name": "stdout",
     "output_type": "stream",
     "text": [
      "orientation_error\n",
      "tensor([34.2261, 33.9309, 34.3634, 34.1900, 34.0914, 30.5705, 21.1196, 19.2781,\n",
      "        19.4287, 19.0816, 19.2489, 19.0148, 19.3123, 19.8092, 19.4835, 34.1908,\n",
      "        33.8452, 33.4682, 33.2801, 32.7991, 32.8092, 32.7410, 32.7957, 32.7344,\n",
      "        32.8353, 32.4609, 32.2537, 32.3072, 32.4313, 32.7471, 32.3765, 32.5083],\n",
      "       device='cuda:0', dtype=torch.float64)\n",
      "\n"
     ]
    },
    {
     "name": "stderr",
     "output_type": "stream",
     "text": [
      "\r",
      "Eval:  55%|█████▌    | 611/1110 [07:33<04:21,  1.91it/s]"
     ]
    },
    {
     "name": "stdout",
     "output_type": "stream",
     "text": [
      "orientation_error\n",
      "tensor([32.5203, 32.5228, 32.4021, 32.2469, 32.2356, 32.0450, 31.7689, 31.4929,\n",
      "        31.0767, 31.2024, 31.9371, 31.8645, 31.1160, 31.5888, 31.9481, 33.8187,\n",
      "        35.5407, 37.5633, 34.4198, 31.4741, 31.3001, 31.6615, 18.0096, 17.8086,\n",
      "        18.4118, 19.8180, 19.9432, 33.9373, 19.2236, 19.2927, 32.6738, 18.5362],\n",
      "       device='cuda:0', dtype=torch.float64)\n",
      "\n"
     ]
    },
    {
     "name": "stderr",
     "output_type": "stream",
     "text": [
      "\r",
      "Eval:  55%|█████▌    | 612/1110 [07:34<04:08,  2.00it/s]"
     ]
    },
    {
     "name": "stdout",
     "output_type": "stream",
     "text": [
      "orientation_error\n",
      "tensor([19.7735, 20.1877, 35.2838, 35.2332, 35.0673, 33.7524, 33.2678, 33.1887,\n",
      "        33.1188, 20.0759, 34.6057, 20.1262, 18.9222, 31.9709, 31.7564, 30.9729,\n",
      "        30.9402, 18.5826, 18.3417, 17.6405, 17.8971, 17.9723, 18.3776, 18.5392,\n",
      "        20.0169, 20.8520, 20.7497, 34.4183, 32.9363, 33.2003, 33.1116, 32.5479],\n",
      "       device='cuda:0', dtype=torch.float64)\n",
      "\n"
     ]
    },
    {
     "name": "stderr",
     "output_type": "stream",
     "text": [
      "\r",
      "Eval:  55%|█████▌    | 613/1110 [07:34<03:59,  2.07it/s]"
     ]
    },
    {
     "name": "stdout",
     "output_type": "stream",
     "text": [
      "orientation_error\n",
      "tensor([32.6976, 32.4684, 32.0934, 32.0489, 32.1883, 32.3055, 32.6921, 32.4336,\n",
      "        32.6743, 32.9135, 32.9939, 33.0259, 33.1459, 33.1656, 33.2056, 32.9282,\n",
      "        31.9340, 30.6484, 29.5309, 30.5341, 31.8325, 31.8054, 31.8472, 31.4183,\n",
      "        31.2138, 31.3397, 31.3094, 31.3523, 31.1357, 31.0761, 31.0981, 31.0747],\n",
      "       device='cuda:0', dtype=torch.float64)\n",
      "\n"
     ]
    },
    {
     "name": "stderr",
     "output_type": "stream",
     "text": [
      "\r",
      "Eval:  55%|█████▌    | 614/1110 [07:35<04:25,  1.87it/s]"
     ]
    },
    {
     "name": "stdout",
     "output_type": "stream",
     "text": [
      "orientation_error\n",
      "tensor([31.1337, 30.6779, 30.6851, 30.4286, 30.3654, 30.1352, 30.0259, 29.7415,\n",
      "        29.5003, 29.6689, 29.8053, 29.9629, 31.8057, 33.4559, 18.5731, 17.6771,\n",
      "        16.9806, 17.0966, 16.8747, 17.7621, 17.7670, 18.4568, 19.2329, 18.8903,\n",
      "        18.7701, 33.7788, 34.3401, 35.4058, 21.9962, 22.1255, 22.3804, 22.2895],\n",
      "       device='cuda:0', dtype=torch.float64)\n",
      "\n"
     ]
    },
    {
     "name": "stderr",
     "output_type": "stream",
     "text": [
      "\r",
      "Eval:  55%|█████▌    | 615/1110 [07:35<04:23,  1.88it/s]"
     ]
    },
    {
     "name": "stdout",
     "output_type": "stream",
     "text": [
      "orientation_error\n",
      "tensor([22.4078, 22.1262, 21.8710, 21.6217, 21.5733, 21.4966, 36.2053, 36.4974,\n",
      "        36.9956, 22.9118, 23.5322, 38.4357, 38.0112, 37.8597, 23.5646, 23.4261,\n",
      "        22.8120, 22.9207, 22.3560, 36.5069, 22.6357, 22.1578, 21.6971, 21.5297,\n",
      "        21.4915, 21.3220, 21.1742, 21.0442, 21.1088, 20.8603, 20.7471, 20.4804],\n",
      "       device='cuda:0', dtype=torch.float64)\n",
      "\n"
     ]
    },
    {
     "name": "stderr",
     "output_type": "stream",
     "text": [
      "\r",
      "Eval:  55%|█████▌    | 616/1110 [07:36<04:26,  1.85it/s]"
     ]
    },
    {
     "name": "stdout",
     "output_type": "stream",
     "text": [
      "orientation_error\n",
      "tensor([20.2403, 19.9343, 19.7986, 19.6108, 19.6494, 19.7648, 19.8071, 19.9952,\n",
      "        19.9240, 20.1904, 20.2449, 20.2623, 20.2473, 20.2646, 20.1282, 20.0242,\n",
      "        20.2077, 20.4403, 20.7717, 20.8772, 20.6627, 20.4544, 20.4491, 20.2322,\n",
      "        20.3268, 20.7680, 21.2053, 21.1913, 21.4505, 21.1500, 20.9309, 20.6679],\n",
      "       device='cuda:0', dtype=torch.float64)\n",
      "\n"
     ]
    },
    {
     "name": "stderr",
     "output_type": "stream",
     "text": [
      "\r",
      "Eval:  56%|█████▌    | 617/1110 [07:37<05:11,  1.58it/s]"
     ]
    },
    {
     "name": "stdout",
     "output_type": "stream",
     "text": [
      "orientation_error\n",
      "tensor([20.8152, 20.5511, 20.1332, 19.5893, 19.1990, 19.5371, 19.9657, 20.2208,\n",
      "        22.2639, 22.5146, 24.6624, 39.0071, 37.0603, 34.9149, 33.3641, 32.9914,\n",
      "        34.2191, 20.6731, 34.2793, 19.0126, 19.0200, 18.7156, 18.5980, 18.3087,\n",
      "        18.4849, 18.5414, 18.6247, 32.9087, 18.3809, 18.1556, 18.2005, 18.1122],\n",
      "       device='cuda:0', dtype=torch.float64)\n",
      "\n"
     ]
    },
    {
     "name": "stderr",
     "output_type": "stream",
     "text": [
      "\r",
      "Eval:  56%|█████▌    | 618/1110 [07:37<04:33,  1.80it/s]"
     ]
    },
    {
     "name": "stdout",
     "output_type": "stream",
     "text": [
      "orientation_error\n",
      "tensor([18.1742, 18.1104, 18.2796, 32.2916, 18.0784, 18.1530, 32.3798, 18.2290,\n",
      "        32.4631, 32.5784, 32.8210, 32.9054, 33.0644, 18.7022, 33.1588, 32.9294,\n",
      "        33.0708, 32.9670, 32.6390, 32.3862, 31.8000, 31.1071, 31.1082, 31.2799,\n",
      "        31.0216, 31.1050, 31.3010, 31.7659, 17.6399, 32.1434, 32.5458, 17.9792],\n",
      "       device='cuda:0', dtype=torch.float64)\n",
      "\n"
     ]
    },
    {
     "name": "stderr",
     "output_type": "stream",
     "text": [
      "\r",
      "Eval:  56%|█████▌    | 619/1110 [07:38<04:38,  1.77it/s]"
     ]
    },
    {
     "name": "stdout",
     "output_type": "stream",
     "text": [
      "orientation_error\n",
      "tensor([32.3200, 18.2282, 32.8790, 32.3675, 31.6782, 30.6585, 30.2512, 30.3930,\n",
      "        16.6542, 17.4393, 18.5685, 19.2645, 25.4907, 23.5661, 21.3402, 20.9654,\n",
      "        21.1327, 20.7312, 21.5181, 21.1426, 21.5974, 21.9399, 21.6198, 22.1867,\n",
      "        28.7354, 29.3416, 29.3177, 28.8487, 29.3665, 28.2841, 28.1778, 27.5578],\n",
      "       device='cuda:0', dtype=torch.float64)\n",
      "\n"
     ]
    },
    {
     "name": "stderr",
     "output_type": "stream",
     "text": [
      "\r",
      "Eval:  56%|█████▌    | 620/1110 [07:38<04:30,  1.81it/s]"
     ]
    },
    {
     "name": "stdout",
     "output_type": "stream",
     "text": [
      "orientation_error\n",
      "tensor([28.0303, 28.4228, 28.7199, 28.9497, 28.3651, 27.7242, 27.5806, 27.5911,\n",
      "        27.6474, 27.5283, 28.3522, 27.7527, 27.6028, 27.1022, 27.1146, 26.4697,\n",
      "        39.7153, 24.7843, 25.0472, 25.2266, 24.6519, 24.5728, 23.7178, 23.6793,\n",
      "        24.2922, 26.4917, 26.9365, 26.7996, 28.2069, 28.7807, 28.1812, 26.9598],\n",
      "       device='cuda:0', dtype=torch.float64)\n",
      "\n",
      "MPJPE: 98.23011851563722\n",
      "Reconstruction Error: 59.05669454760889\n",
      "\n",
      "Orientation error: 32.42550191537351\n"
     ]
    },
    {
     "name": "stderr",
     "output_type": "stream",
     "text": [
      "\r",
      "Eval:  56%|█████▌    | 621/1110 [07:39<04:19,  1.89it/s]"
     ]
    },
    {
     "name": "stdout",
     "output_type": "stream",
     "text": [
      "orientation_error\n",
      "tensor([26.5858, 29.0569, 31.3619, 31.0112, 30.4742, 30.4741, 27.9589, 21.5157,\n",
      "        20.9461, 19.1855, 18.8462, 19.8521, 33.9942, 33.5051, 33.2585, 33.2310,\n",
      "        30.0570, 32.5807, 31.7436, 16.2969, 17.2837, 18.0509, 18.8494, 19.9535,\n",
      "        20.3148, 20.3316, 20.7118, 20.4776, 20.9314, 20.9396, 36.2219, 20.1918],\n",
      "       device='cuda:0', dtype=torch.float64)\n",
      "\n"
     ]
    },
    {
     "name": "stderr",
     "output_type": "stream",
     "text": [
      "\r",
      "Eval:  56%|█████▌    | 622/1110 [07:39<04:15,  1.91it/s]"
     ]
    },
    {
     "name": "stdout",
     "output_type": "stream",
     "text": [
      "orientation_error\n",
      "tensor([33.2104, 33.1107, 33.2756, 33.0652, 33.2587, 18.5432, 19.3165, 19.9686,\n",
      "        20.5652, 20.7598, 21.5782, 20.8698, 21.0198, 20.5224, 20.7290, 20.0417,\n",
      "        20.1357, 20.1868, 35.4555, 35.7931, 36.0324, 35.8699, 35.4774, 35.1702,\n",
      "        34.7222, 34.9448, 34.3251, 35.0100, 35.7045, 19.4696, 17.7958, 32.3166],\n",
      "       device='cuda:0', dtype=torch.float64)\n",
      "\n"
     ]
    },
    {
     "name": "stderr",
     "output_type": "stream",
     "text": [
      "\r",
      "Eval:  56%|█████▌    | 623/1110 [07:40<03:53,  2.08it/s]"
     ]
    },
    {
     "name": "stdout",
     "output_type": "stream",
     "text": [
      "orientation_error\n",
      "tensor([33.2851, 18.8244, 18.8300, 19.1881, 19.5895, 20.3265, 21.0531, 21.7918,\n",
      "        22.5969, 21.8859, 22.6821, 23.0061, 37.8381, 37.1104, 36.4971, 36.6013,\n",
      "        36.4273, 36.4751, 35.4046, 34.5034, 33.6727, 33.9041, 32.5687, 31.4055,\n",
      "        32.0446, 32.3338, 32.1846, 31.9870, 31.9607, 19.2877, 31.7532, 30.7334],\n",
      "       device='cuda:0', dtype=torch.float64)\n",
      "\n"
     ]
    },
    {
     "name": "stderr",
     "output_type": "stream",
     "text": [
      "\r",
      "Eval:  56%|█████▌    | 624/1110 [07:40<03:48,  2.13it/s]"
     ]
    },
    {
     "name": "stdout",
     "output_type": "stream",
     "text": [
      "orientation_error\n",
      "tensor([30.6796, 19.5381, 30.4840, 30.7259, 31.1667, 31.4195, 31.2402, 30.9559,\n",
      "        31.1230, 31.3428, 31.7323, 32.2113, 32.0759, 33.0813, 33.0394, 33.1527,\n",
      "        33.4684, 33.2000, 33.5889, 33.5804, 33.4544, 33.5978, 33.9951, 33.5418,\n",
      "        34.0218, 34.1318, 34.2341, 33.8747, 33.9510, 34.1416, 34.1884, 34.2289],\n",
      "       device='cuda:0', dtype=torch.float64)\n",
      "\n"
     ]
    },
    {
     "name": "stderr",
     "output_type": "stream",
     "text": [
      "\r",
      "Eval:  56%|█████▋    | 625/1110 [07:41<03:29,  2.31it/s]"
     ]
    },
    {
     "name": "stdout",
     "output_type": "stream",
     "text": [
      "orientation_error\n",
      "tensor([34.4081, 34.4401, 34.1552, 34.3133, 34.2022, 34.6981, 34.3984, 34.8430,\n",
      "        35.3781, 36.3097, 36.0529, 36.3660, 36.1242, 35.4976, 35.0236, 34.5168,\n",
      "        35.0857, 35.0871, 35.2298, 35.0189, 35.2856, 35.1833, 34.5669, 34.7601,\n",
      "        35.1191, 34.9064, 34.9196, 34.7997, 34.8419, 33.6820, 33.5097, 33.5030],\n",
      "       device='cuda:0', dtype=torch.float64)\n",
      "\n"
     ]
    },
    {
     "name": "stderr",
     "output_type": "stream",
     "text": [
      "\r",
      "Eval:  56%|█████▋    | 626/1110 [07:41<03:58,  2.03it/s]"
     ]
    },
    {
     "name": "stdout",
     "output_type": "stream",
     "text": [
      "orientation_error\n",
      "tensor([33.4618, 33.4066, 33.1915, 32.7919, 32.9399, 32.9797, 32.9604, 32.9565,\n",
      "        33.0507, 33.2150, 33.1526, 33.2538, 33.3482, 33.3712, 33.3846, 33.2608,\n",
      "        33.2551, 33.3381, 33.2416, 33.3369, 33.2194, 32.7828, 32.6565, 32.7670,\n",
      "        32.9335, 32.7281, 32.5659, 32.5230, 32.4667, 32.4544, 32.5759, 32.3141],\n",
      "       device='cuda:0', dtype=torch.float64)\n",
      "\n"
     ]
    },
    {
     "name": "stderr",
     "output_type": "stream",
     "text": [
      "\r",
      "Eval:  56%|█████▋    | 627/1110 [07:42<04:08,  1.94it/s]"
     ]
    },
    {
     "name": "stdout",
     "output_type": "stream",
     "text": [
      "orientation_error\n",
      "tensor([32.2394, 32.4449, 32.0261, 31.5440, 31.4078, 31.4135, 31.6557, 31.5414,\n",
      "        31.3079, 31.7229, 32.2272, 32.4032, 32.5920, 33.2034, 33.6232, 33.3961,\n",
      "        33.5097, 33.4607, 33.1517, 33.3060, 32.9217, 33.3738, 33.4420, 32.4535,\n",
      "        32.8377, 32.1494, 31.8644, 31.7971, 19.5741, 32.7690, 32.9193, 32.8527],\n",
      "       device='cuda:0', dtype=torch.float64)\n",
      "\n"
     ]
    },
    {
     "name": "stderr",
     "output_type": "stream",
     "text": [
      "\r",
      "Eval:  57%|█████▋    | 628/1110 [07:42<04:32,  1.77it/s]"
     ]
    },
    {
     "name": "stdout",
     "output_type": "stream",
     "text": [
      "orientation_error\n",
      "tensor([19.9600, 20.6087, 20.9235, 22.3397, 21.2669, 21.8068, 22.4898, 23.2770,\n",
      "        23.9372, 24.6280, 24.5761, 25.4111, 24.9832, 24.2822, 23.5610, 23.1548,\n",
      "        21.7870, 21.5186, 20.9188, 21.6155, 21.2532, 21.8637, 22.0931, 20.9195,\n",
      "        21.6278, 21.8742, 21.3763, 22.7213, 22.4837, 23.8219, 23.1271, 23.8048],\n",
      "       device='cuda:0', dtype=torch.float64)\n",
      "\n"
     ]
    },
    {
     "name": "stderr",
     "output_type": "stream",
     "text": [
      "\r",
      "Eval:  57%|█████▋    | 629/1110 [07:43<04:29,  1.79it/s]"
     ]
    },
    {
     "name": "stdout",
     "output_type": "stream",
     "text": [
      "orientation_error\n",
      "tensor([21.6455, 21.4391, 22.1658, 20.5662, 21.7356, 21.2934, 20.6482, 20.2669,\n",
      "        19.4872, 18.5039, 17.3944, 18.0174, 18.9402, 20.3409, 22.8381, 22.3625,\n",
      "        22.4094, 24.2236, 24.6663, 24.4696, 24.5482, 25.1677, 26.5622, 27.3442,\n",
      "        27.5116, 29.3075, 30.6535, 35.6741, 45.1356, 42.8651, 46.9339, 47.9220],\n",
      "       device='cuda:0', dtype=torch.float64)\n",
      "\n"
     ]
    },
    {
     "name": "stderr",
     "output_type": "stream",
     "text": [
      "\r",
      "Eval:  57%|█████▋    | 630/1110 [07:43<04:08,  1.94it/s]"
     ]
    },
    {
     "name": "stdout",
     "output_type": "stream",
     "text": [
      "orientation_error\n",
      "tensor([49.4834, 51.0942, 49.1300, 58.0443, 55.4692, 46.6977, 57.5402, 57.5081,\n",
      "        44.2986, 43.2803, 45.2757, 46.8162, 47.5617, 41.6135, 28.3412, 22.1840,\n",
      "        22.7637, 21.3037, 20.3141, 20.8523, 21.3919, 22.3390, 20.7832, 19.9551,\n",
      "        19.5683, 21.8113, 21.8165, 23.3017, 23.1637, 23.6574, 24.0937, 24.7121],\n",
      "       device='cuda:0', dtype=torch.float64)\n",
      "\n"
     ]
    },
    {
     "name": "stderr",
     "output_type": "stream",
     "text": [
      "\r",
      "Eval:  57%|█████▋    | 631/1110 [07:44<03:53,  2.05it/s]"
     ]
    },
    {
     "name": "stdout",
     "output_type": "stream",
     "text": [
      "orientation_error\n",
      "tensor([25.2221, 25.2693, 25.3617, 24.4947, 27.3052, 28.1692, 25.8965, 26.8118,\n",
      "        27.2071, 24.0172, 24.6020, 25.0672, 22.9279, 25.0596, 25.3727, 26.7942,\n",
      "        26.4364, 27.7252, 25.5466, 26.4431, 26.1337, 26.4542, 23.7668, 24.9637,\n",
      "        24.9670, 27.2559, 25.2774, 24.9900, 24.8329, 25.8574, 26.1127, 25.5006],\n",
      "       device='cuda:0', dtype=torch.float64)\n",
      "\n"
     ]
    },
    {
     "name": "stderr",
     "output_type": "stream",
     "text": [
      "\r",
      "Eval:  57%|█████▋    | 632/1110 [07:44<04:17,  1.85it/s]"
     ]
    },
    {
     "name": "stdout",
     "output_type": "stream",
     "text": [
      "orientation_error\n",
      "tensor([24.9564, 24.0357, 24.6302, 24.6348, 23.9736, 23.8466, 24.0038, 23.3127,\n",
      "        22.9168, 22.4292, 21.5664, 20.8209, 20.5660, 21.5517, 21.9966, 21.8116,\n",
      "        21.2871, 21.0867, 21.4182, 21.8646, 21.9822, 23.1201, 23.2614, 23.2838,\n",
      "        23.0227, 22.8687, 23.2362, 22.2706, 23.0040, 23.9628, 23.4300, 23.4905],\n",
      "       device='cuda:0', dtype=torch.float64)\n",
      "\n"
     ]
    },
    {
     "name": "stderr",
     "output_type": "stream",
     "text": [
      "\r",
      "Eval:  57%|█████▋    | 633/1110 [07:45<04:40,  1.70it/s]"
     ]
    },
    {
     "name": "stdout",
     "output_type": "stream",
     "text": [
      "orientation_error\n",
      "tensor([22.5644, 22.1898, 21.9092, 21.5943, 21.8383, 21.4287, 21.3742, 21.2135,\n",
      "        21.2324, 21.2072, 21.5408, 21.3784, 21.2257, 21.3392, 21.0819, 21.1573,\n",
      "        21.2482, 20.5707, 20.8071, 20.6508, 21.5202, 20.4953, 19.5048, 20.2909,\n",
      "        19.8322, 19.1506, 19.3976, 18.5132, 18.5718, 19.3350, 19.9246, 20.0600],\n",
      "       device='cuda:0', dtype=torch.float64)\n",
      "\n"
     ]
    },
    {
     "name": "stderr",
     "output_type": "stream",
     "text": [
      "\r",
      "Eval:  57%|█████▋    | 634/1110 [07:46<04:37,  1.72it/s]"
     ]
    },
    {
     "name": "stdout",
     "output_type": "stream",
     "text": [
      "orientation_error\n",
      "tensor([21.3246, 21.1993, 21.3631, 21.0242, 20.9249, 21.5831, 21.5651, 22.5466,\n",
      "        22.7016, 22.9567, 22.1758, 22.4092, 21.6966, 21.8480, 21.2127, 21.5625,\n",
      "        21.2227, 21.2858, 21.7604, 22.0624, 22.2461, 22.5601, 22.0895, 20.7933,\n",
      "        20.5323, 20.6468, 21.4423, 21.4458, 20.1693, 20.2805, 23.4427, 25.2565],\n",
      "       device='cuda:0', dtype=torch.float64)\n",
      "\n"
     ]
    },
    {
     "name": "stderr",
     "output_type": "stream",
     "text": [
      "\r",
      "Eval:  57%|█████▋    | 635/1110 [07:46<04:26,  1.78it/s]"
     ]
    },
    {
     "name": "stdout",
     "output_type": "stream",
     "text": [
      "orientation_error\n",
      "tensor([27.5965, 27.3557, 26.8818, 33.5898, 30.0733, 35.8840, 35.4968, 43.5062,\n",
      "        44.0387, 36.9162, 44.6476, 45.9492, 44.7120, 46.0799, 48.6293, 50.1793,\n",
      "        49.1751, 49.2149, 48.8800, 47.9854, 42.6685, 43.4301, 41.6141, 40.9836,\n",
      "        42.4434, 42.0174, 41.9623, 40.6628, 38.8470, 38.1151, 38.9307, 40.0480],\n",
      "       device='cuda:0', dtype=torch.float64)\n",
      "\n"
     ]
    },
    {
     "name": "stderr",
     "output_type": "stream",
     "text": [
      "\r",
      "Eval:  57%|█████▋    | 636/1110 [07:47<04:35,  1.72it/s]"
     ]
    },
    {
     "name": "stdout",
     "output_type": "stream",
     "text": [
      "orientation_error\n",
      "tensor([42.6785, 46.3669, 49.1283, 47.8664, 50.3768, 45.3349, 48.7562, 48.2952,\n",
      "        45.5581, 44.9978, 49.2753, 52.3119, 49.1954, 48.5325, 50.6215, 49.2186,\n",
      "        50.0202, 50.3779, 51.7660, 46.8418, 50.8346, 51.2314, 50.9607, 49.3706,\n",
      "        49.7392, 51.2362, 51.5223, 48.5119, 44.4239, 46.4119, 39.7717, 40.0111],\n",
      "       device='cuda:0', dtype=torch.float64)\n",
      "\n"
     ]
    },
    {
     "name": "stderr",
     "output_type": "stream",
     "text": [
      "\r",
      "Eval:  57%|█████▋    | 637/1110 [07:48<04:48,  1.64it/s]"
     ]
    },
    {
     "name": "stdout",
     "output_type": "stream",
     "text": [
      "orientation_error\n",
      "tensor([38.4679, 38.9847, 38.4193, 39.7157, 46.1826, 47.5598, 36.5721, 36.8856,\n",
      "        37.3251, 36.7724, 37.3025, 37.2563, 36.0927, 35.8143, 36.3484, 36.5263,\n",
      "        36.9898, 37.1200, 37.4335, 36.5348, 36.1938, 35.9954, 36.1882, 35.8750,\n",
      "        35.2739, 34.5226, 34.7955, 34.4927, 35.1396, 34.7260, 34.7217, 35.0062],\n",
      "       device='cuda:0', dtype=torch.float64)\n",
      "\n"
     ]
    },
    {
     "name": "stderr",
     "output_type": "stream",
     "text": [
      "\r",
      "Eval:  57%|█████▋    | 638/1110 [07:48<04:51,  1.62it/s]"
     ]
    },
    {
     "name": "stdout",
     "output_type": "stream",
     "text": [
      "orientation_error\n",
      "tensor([35.1223, 35.4755, 34.6450, 35.1071, 35.2835, 34.8771, 34.8877, 36.0104,\n",
      "        35.8296, 36.5649, 36.3135, 36.6707, 37.1628, 37.0835, 38.5940, 39.5861,\n",
      "        39.5680, 39.4747, 40.8853, 40.8220, 41.0667, 42.4146, 43.1655, 41.8947,\n",
      "        40.0652, 39.9784, 39.2483, 39.5915, 39.0769, 39.5603, 38.5429, 39.6571],\n",
      "       device='cuda:0', dtype=torch.float64)\n",
      "\n"
     ]
    },
    {
     "name": "stderr",
     "output_type": "stream",
     "text": [
      "\r",
      "Eval:  58%|█████▊    | 639/1110 [07:49<06:31,  1.20it/s]"
     ]
    },
    {
     "name": "stdout",
     "output_type": "stream",
     "text": [
      "orientation_error\n",
      "tensor([39.5043, 39.7670, 39.2526, 39.0812, 38.1036, 37.8236, 37.6840, 37.2247,\n",
      "        38.2833, 38.6436, 45.3114, 40.4289, 37.8088, 39.5482, 35.8636, 35.9925,\n",
      "        32.2878, 32.5180, 43.8485, 36.6814, 30.1287, 26.5106, 24.4307, 23.9057,\n",
      "        22.7308, 24.5559, 25.4857, 25.4705, 28.6963, 23.3618, 26.9167, 26.4809],\n",
      "       device='cuda:0', dtype=torch.float64)\n",
      "\n"
     ]
    },
    {
     "name": "stderr",
     "output_type": "stream",
     "text": [
      "\r",
      "Eval:  58%|█████▊    | 640/1110 [07:50<05:26,  1.44it/s]"
     ]
    },
    {
     "name": "stdout",
     "output_type": "stream",
     "text": [
      "orientation_error\n",
      "tensor([26.0793, 26.8644, 29.0904, 29.0055, 27.0802, 26.2239, 28.4932, 28.8027,\n",
      "        28.0096, 27.5393, 26.3468, 26.6674, 27.6489, 26.5126, 26.3953, 26.9650,\n",
      "        27.4376, 27.2714, 28.2301, 29.9065, 29.0263, 30.5807, 32.3575, 33.0087,\n",
      "        33.1643, 32.6840, 32.0546, 33.2243, 32.0262, 32.4181, 33.0375, 33.4553],\n",
      "       device='cuda:0', dtype=torch.float64)\n",
      "\n",
      "MPJPE: 97.67185774781554\n",
      "Reconstruction Error: 58.979304686096874\n",
      "\n",
      "Orientation error: 32.37040165136512\n"
     ]
    },
    {
     "name": "stderr",
     "output_type": "stream",
     "text": [
      "\r",
      "Eval:  58%|█████▊    | 641/1110 [07:50<04:50,  1.61it/s]"
     ]
    },
    {
     "name": "stdout",
     "output_type": "stream",
     "text": [
      "orientation_error\n",
      "tensor([33.8578, 32.9783, 33.1767, 33.3885, 33.1053, 34.3524, 34.9962, 34.5602,\n",
      "        34.8633, 35.1170, 34.3727, 35.0091, 33.9990, 33.7888, 34.6467, 34.4237,\n",
      "        32.5696, 29.1420, 29.7237, 29.5488, 30.1633, 30.5943, 45.3036, 32.1052,\n",
      "        32.1564, 32.0618, 32.5959, 32.2341, 31.8038, 32.3533, 33.4083, 32.9506],\n",
      "       device='cuda:0', dtype=torch.float64)\n",
      "\n"
     ]
    },
    {
     "name": "stderr",
     "output_type": "stream",
     "text": [
      "\r",
      "Eval:  58%|█████▊    | 642/1110 [07:51<04:14,  1.84it/s]"
     ]
    },
    {
     "name": "stdout",
     "output_type": "stream",
     "text": [
      "orientation_error\n",
      "tensor([33.6496, 36.8988, 35.1243, 34.0029, 32.9205, 34.4618, 36.8035, 35.0179,\n",
      "        33.3347, 33.3932, 33.4745, 33.2393, 35.5709, 35.2423, 35.1336, 34.9472,\n",
      "        42.3885, 41.3498, 41.3141, 45.6677, 44.4849, 42.5784, 41.9276, 36.5618,\n",
      "        36.0095, 31.3244, 29.3657, 26.7328, 26.7114, 25.5118, 25.9798, 26.3744],\n",
      "       device='cuda:0', dtype=torch.float64)\n",
      "\n"
     ]
    },
    {
     "name": "stderr",
     "output_type": "stream",
     "text": [
      "\r",
      "Eval:  58%|█████▊    | 643/1110 [07:51<03:51,  2.02it/s]"
     ]
    },
    {
     "name": "stdout",
     "output_type": "stream",
     "text": [
      "orientation_error\n",
      "tensor([25.9844, 25.1701, 25.7447, 25.6201, 25.7595, 26.0500, 26.0687, 26.3575,\n",
      "        26.0838, 25.0943, 24.8867, 25.8644, 26.1370, 25.5529, 26.0003, 24.3899,\n",
      "        24.6516, 24.7297, 23.7418, 24.9266, 25.3808, 25.9866, 25.5447, 25.6877,\n",
      "        25.2202, 23.7438, 24.2559, 23.6664, 23.9020, 23.8610, 23.3823, 23.5099],\n",
      "       device='cuda:0', dtype=torch.float64)\n",
      "\n"
     ]
    },
    {
     "name": "stderr",
     "output_type": "stream",
     "text": [
      "\r",
      "Eval:  58%|█████▊    | 644/1110 [07:51<03:28,  2.23it/s]"
     ]
    },
    {
     "name": "stdout",
     "output_type": "stream",
     "text": [
      "orientation_error\n",
      "tensor([24.5103, 24.3183, 23.9472, 23.5079, 23.5903, 22.7244, 21.1598, 21.5273,\n",
      "        20.0886, 19.2344, 19.5680, 20.0497, 20.0797, 20.3712, 20.3652, 20.0345,\n",
      "        19.8655, 20.0587, 19.6985, 19.7255, 19.9096, 19.7289, 19.3320, 19.5424,\n",
      "        19.8934, 20.3063, 19.9293, 20.2127, 19.9003, 19.7427, 20.0089, 19.8818],\n",
      "       device='cuda:0', dtype=torch.float64)\n",
      "\n"
     ]
    },
    {
     "name": "stderr",
     "output_type": "stream",
     "text": [
      "\r",
      "Eval:  58%|█████▊    | 645/1110 [07:52<03:10,  2.44it/s]"
     ]
    },
    {
     "name": "stdout",
     "output_type": "stream",
     "text": [
      "orientation_error\n",
      "tensor([20.1408, 20.2489, 20.2732, 20.5401, 20.1253, 20.4077, 19.8240, 20.0446,\n",
      "        20.2548, 19.8219, 19.3074, 20.1263, 20.7688, 20.9421, 20.3058, 19.9645,\n",
      "        19.6938, 19.4882, 18.7594, 18.6383, 18.2860, 18.6760, 20.5535, 21.3199,\n",
      "        22.8513, 22.9455, 24.8729, 26.2162, 27.3314, 28.3889, 30.2164, 30.5813],\n",
      "       device='cuda:0', dtype=torch.float64)\n",
      "\n"
     ]
    },
    {
     "name": "stderr",
     "output_type": "stream",
     "text": [
      "\r",
      "Eval:  58%|█████▊    | 646/1110 [07:52<02:47,  2.77it/s]"
     ]
    },
    {
     "name": "stdout",
     "output_type": "stream",
     "text": [
      "orientation_error\n",
      "tensor([28.1365, 24.6793, 37.7524, 36.2559, 37.0552, 35.5464, 34.4599, 33.1518,\n",
      "        33.4002, 33.1313, 33.2646, 33.1218, 34.6470, 36.4163, 39.3607, 41.0731,\n",
      "        41.4561, 41.0069, 38.9621, 24.8372, 24.1440, 23.3786, 22.4593, 22.0060,\n",
      "        22.2207, 22.2839, 22.8459, 22.7440, 22.5415, 21.6899, 21.1161, 20.5660],\n",
      "       device='cuda:0', dtype=torch.float64)\n",
      "\n"
     ]
    },
    {
     "name": "stderr",
     "output_type": "stream",
     "text": [
      "\r",
      "Eval:  58%|█████▊    | 647/1110 [07:52<02:37,  2.95it/s]"
     ]
    },
    {
     "name": "stdout",
     "output_type": "stream",
     "text": [
      "orientation_error\n",
      "tensor([20.4987, 20.9241, 21.2339, 20.8560, 19.5250, 18.8877, 18.8934, 19.6394,\n",
      "        19.9092, 20.1707, 20.0351, 19.7584, 19.6829, 18.3255, 18.0436, 18.6632,\n",
      "        17.9680, 18.1955, 19.2842, 18.2760, 17.7688, 20.0251, 21.1705, 22.3267,\n",
      "        21.8493, 21.6856, 21.3328, 21.1232, 20.1325, 21.2013, 20.5308, 21.1652],\n",
      "       device='cuda:0', dtype=torch.float64)\n",
      "\n"
     ]
    },
    {
     "name": "stderr",
     "output_type": "stream",
     "text": [
      "\r",
      "Eval:  58%|█████▊    | 648/1110 [07:53<02:40,  2.89it/s]"
     ]
    },
    {
     "name": "stdout",
     "output_type": "stream",
     "text": [
      "orientation_error\n",
      "tensor([22.6581, 23.5459, 23.5201, 23.6010, 23.1873, 24.1046, 23.6945, 23.9421,\n",
      "        23.4251, 24.0062, 24.1057, 23.4910, 23.8228, 24.0978, 24.9796, 24.9771,\n",
      "        25.0011, 39.4608, 39.6531, 40.6022, 41.0741, 41.7271, 42.4240, 42.4734,\n",
      "        42.8468, 42.9389, 42.0039, 42.1902, 26.2759, 25.3892, 25.1291, 39.0217],\n",
      "       device='cuda:0', dtype=torch.float64)\n",
      "\n"
     ]
    },
    {
     "name": "stderr",
     "output_type": "stream",
     "text": [
      "\r",
      "Eval:  58%|█████▊    | 649/1110 [07:53<02:59,  2.57it/s]"
     ]
    },
    {
     "name": "stdout",
     "output_type": "stream",
     "text": [
      "orientation_error\n",
      "tensor([39.5965, 40.0972, 40.9156, 26.7540, 27.1299, 26.5716, 26.6962, 26.6940,\n",
      "        27.3040, 27.0533, 27.3526, 27.4589, 27.7287, 27.5666, 28.5804, 28.4988,\n",
      "        27.4387, 26.0265, 26.5984, 41.7694, 40.2521, 39.0139, 38.6816, 46.3531,\n",
      "        38.5307, 33.9288, 24.0308, 20.2446, 19.0225, 18.5356, 18.7893, 18.5030],\n",
      "       device='cuda:0', dtype=torch.float64)\n",
      "\n"
     ]
    },
    {
     "name": "stderr",
     "output_type": "stream",
     "text": [
      "\r",
      "Eval:  59%|█████▊    | 650/1110 [07:53<02:55,  2.63it/s]"
     ]
    },
    {
     "name": "stdout",
     "output_type": "stream",
     "text": [
      "orientation_error\n",
      "tensor([18.6873, 18.8574, 19.2858, 19.5420, 20.3184, 19.5376, 19.6253, 19.0529,\n",
      "        17.4820, 17.0465, 16.6923, 16.2546, 16.0990, 16.7404, 31.6512, 32.2313,\n",
      "        18.0311, 19.0736, 34.7589, 35.3824, 35.5284, 35.9883, 36.0787, 19.0408,\n",
      "        17.7397, 17.2042, 32.3314, 32.7239, 31.9228, 32.2975, 16.9930, 16.5768],\n",
      "       device='cuda:0', dtype=torch.float64)\n",
      "\n"
     ]
    },
    {
     "name": "stderr",
     "output_type": "stream",
     "text": [
      "\r",
      "Eval:  59%|█████▊    | 651/1110 [07:54<02:44,  2.79it/s]"
     ]
    },
    {
     "name": "stdout",
     "output_type": "stream",
     "text": [
      "orientation_error\n",
      "tensor([15.9837, 16.5762, 17.3417, 18.3842, 19.2395, 19.6286, 20.6905, 21.2675,\n",
      "        20.9309, 20.2559, 34.4827, 34.5473, 34.1483, 33.6058, 33.0018, 32.9853,\n",
      "        32.8458, 32.2774, 17.8264, 17.7077, 32.5805, 33.4302, 33.6994, 34.5024,\n",
      "        34.4209, 18.9522, 17.9472, 17.1309, 17.9701, 18.6955, 17.8863, 17.4878],\n",
      "       device='cuda:0', dtype=torch.float64)\n",
      "\n"
     ]
    },
    {
     "name": "stderr",
     "output_type": "stream",
     "text": [
      "\r",
      "Eval:  59%|█████▊    | 652/1110 [07:54<02:54,  2.63it/s]"
     ]
    },
    {
     "name": "stdout",
     "output_type": "stream",
     "text": [
      "orientation_error\n",
      "tensor([16.9799, 17.0933, 17.2912, 17.9460, 17.6455, 19.1577, 17.9534, 17.3666,\n",
      "        18.7862, 22.0244, 25.0118, 23.7979, 16.1477, 17.8696, 31.9342, 19.5774,\n",
      "        20.1702, 32.8751, 33.3139, 31.4523, 30.7939, 30.9645, 30.4484, 29.8994,\n",
      "        30.8257, 31.5151, 31.2667, 30.1973, 30.6377, 30.6932, 30.5622, 30.3859],\n",
      "       device='cuda:0', dtype=torch.float64)\n",
      "\n"
     ]
    },
    {
     "name": "stderr",
     "output_type": "stream",
     "text": [
      "\r",
      "Eval:  59%|█████▉    | 653/1110 [07:55<02:56,  2.59it/s]"
     ]
    },
    {
     "name": "stdout",
     "output_type": "stream",
     "text": [
      "orientation_error\n",
      "tensor([30.3075, 30.4151, 30.5186, 30.6895, 30.8406, 31.3149, 30.9472, 30.6632,\n",
      "        30.4002, 30.4707, 30.7709, 30.5022, 30.4315, 31.1717, 31.0112, 30.7469,\n",
      "        31.3478, 31.8129, 31.8147, 32.1330, 32.1145, 32.0827, 32.3778, 32.3456,\n",
      "        32.5534, 32.7235, 33.1572, 33.0411, 33.8190, 33.9116, 33.8550, 33.8405],\n",
      "       device='cuda:0', dtype=torch.float64)\n",
      "\n"
     ]
    },
    {
     "name": "stderr",
     "output_type": "stream",
     "text": [
      "\r",
      "Eval:  59%|█████▉    | 654/1110 [07:55<02:50,  2.68it/s]"
     ]
    },
    {
     "name": "stdout",
     "output_type": "stream",
     "text": [
      "orientation_error\n",
      "tensor([34.0751, 34.1130, 34.1706, 34.1021, 34.4194, 34.2845, 34.1323, 34.0349,\n",
      "        34.2659, 34.4351, 34.3462, 34.1221, 34.1381, 34.2996, 34.4612, 34.1874,\n",
      "        34.0902, 34.0458, 34.0283, 33.9585, 33.7743, 33.5890, 33.4548, 33.5301,\n",
      "        33.1554, 32.9872, 32.5826, 32.0044, 31.7913, 31.8040, 31.5432, 31.4637],\n",
      "       device='cuda:0', dtype=torch.float64)\n",
      "\n"
     ]
    },
    {
     "name": "stderr",
     "output_type": "stream",
     "text": [
      "\r",
      "Eval:  59%|█████▉    | 655/1110 [07:55<03:09,  2.41it/s]"
     ]
    },
    {
     "name": "stdout",
     "output_type": "stream",
     "text": [
      "orientation_error\n",
      "tensor([31.7299, 31.6495, 32.0761, 31.9406, 31.7305, 31.9998, 32.1699, 32.1974,\n",
      "        32.4763, 33.0907, 33.7446, 33.6222, 33.7612, 33.4114, 33.8127, 34.2377,\n",
      "        34.0048, 34.5280, 33.8033, 33.2883, 32.6284, 32.3653, 32.2330, 31.2075,\n",
      "        32.2295, 33.7938, 33.5060, 34.2286, 34.8840, 33.3650, 32.3774, 32.4940],\n",
      "       device='cuda:0', dtype=torch.float64)\n",
      "\n"
     ]
    },
    {
     "name": "stderr",
     "output_type": "stream",
     "text": [
      "\r",
      "Eval:  59%|█████▉    | 656/1110 [07:56<03:25,  2.21it/s]"
     ]
    },
    {
     "name": "stdout",
     "output_type": "stream",
     "text": [
      "orientation_error\n",
      "tensor([32.9145, 32.4406, 33.2896, 33.8342, 33.5254, 33.2360, 33.2480, 33.7088,\n",
      "        34.1424, 34.9330, 35.9840, 36.3749, 36.7228, 36.6449, 35.5036, 35.6727,\n",
      "        35.3335, 35.2903, 35.6250, 35.6028, 36.4734, 36.8386, 36.4430, 35.8573,\n",
      "        35.5737, 25.6444, 34.5508, 35.4046, 23.4506, 24.5670, 20.9733, 21.2679],\n",
      "       device='cuda:0', dtype=torch.float64)\n",
      "\n"
     ]
    },
    {
     "name": "stderr",
     "output_type": "stream",
     "text": [
      "\r",
      "Eval:  59%|█████▉    | 657/1110 [07:56<03:06,  2.43it/s]"
     ]
    },
    {
     "name": "stdout",
     "output_type": "stream",
     "text": [
      "orientation_error\n",
      "tensor([21.0577, 21.1298, 36.9160, 48.1235, 33.0454, 33.1786, 48.5278, 48.2561,\n",
      "        48.5362, 48.9513, 49.3223, 49.5703, 50.2200, 35.0312, 35.3528, 49.3337,\n",
      "        49.1051, 49.9395, 50.1010, 35.7994, 50.2441, 49.3093, 48.8932, 48.0567,\n",
      "        39.1510, 39.6278, 40.6996, 41.2308, 40.3968, 40.1150, 39.5379, 38.8504],\n",
      "       device='cuda:0', dtype=torch.float64)\n",
      "\n"
     ]
    },
    {
     "name": "stderr",
     "output_type": "stream",
     "text": [
      "\r",
      "Eval:  59%|█████▉    | 658/1110 [07:57<02:53,  2.60it/s]"
     ]
    },
    {
     "name": "stdout",
     "output_type": "stream",
     "text": [
      "orientation_error\n",
      "tensor([24.6096, 40.7046, 41.0381, 25.9255, 41.7174, 41.9399, 41.4596, 41.2973,\n",
      "        41.3352, 40.3915, 40.7682, 25.6838, 25.7762, 25.9350, 39.6716, 39.1101,\n",
      "        38.9613, 38.9760, 23.8973, 38.4239, 38.1373, 37.9494, 37.3878, 38.2603,\n",
      "        39.4024, 39.4114, 40.0105, 39.2767, 39.0954, 22.1614, 21.6341, 22.0552],\n",
      "       device='cuda:0', dtype=torch.float64)\n",
      "\n"
     ]
    },
    {
     "name": "stderr",
     "output_type": "stream",
     "text": [
      "\r",
      "Eval:  59%|█████▉    | 659/1110 [07:57<02:38,  2.85it/s]"
     ]
    },
    {
     "name": "stdout",
     "output_type": "stream",
     "text": [
      "orientation_error\n",
      "tensor([23.1553, 38.4132, 38.5561, 39.5933, 40.0205, 39.0395, 40.3374, 41.0382,\n",
      "        40.5921, 41.4922, 50.0187, 35.8685, 39.8199, 39.5066, 39.3874, 39.3971,\n",
      "        40.0954, 40.1555, 40.1238, 41.1958, 42.3232, 43.5728, 53.4780, 53.8419,\n",
      "        55.9365, 54.8706, 54.0724, 52.0824, 36.7514, 38.9062, 52.4798, 51.8296],\n",
      "       device='cuda:0', dtype=torch.float64)\n",
      "\n"
     ]
    },
    {
     "name": "stderr",
     "output_type": "stream",
     "text": [
      "\r",
      "Eval:  59%|█████▉    | 660/1110 [07:57<02:31,  2.97it/s]"
     ]
    },
    {
     "name": "stdout",
     "output_type": "stream",
     "text": [
      "orientation_error\n",
      "tensor([50.1189, 48.9204, 48.7732, 49.0481, 50.1829, 25.8335, 24.5624, 25.9700,\n",
      "        25.2120, 25.5179, 53.8123, 57.1049, 49.4145, 53.4609, 56.8289, 54.9980,\n",
      "        54.1418, 53.7980, 54.5111, 54.6709, 56.8081, 57.6056, 40.9721, 38.2138,\n",
      "        40.1418, 40.1643, 38.0595, 38.6883, 35.4647, 33.1827, 32.5246, 30.4895],\n",
      "       device='cuda:0', dtype=torch.float64)\n",
      "\n",
      "MPJPE: 97.18698598820735\n",
      "Reconstruction Error: 58.87917421603779\n",
      "\n",
      "Orientation error: 32.29993031280395\n"
     ]
    },
    {
     "name": "stderr",
     "output_type": "stream",
     "text": [
      "\r",
      "Eval:  60%|█████▉    | 661/1110 [07:58<02:47,  2.68it/s]"
     ]
    },
    {
     "name": "stdout",
     "output_type": "stream",
     "text": [
      "orientation_error\n",
      "tensor([32.1995, 36.8356, 36.6858, 37.5916, 38.1350, 39.3829, 37.9023, 38.3105,\n",
      "        39.3492, 40.0552, 39.8021, 39.5126, 38.9987, 39.2459, 54.2443, 57.1088,\n",
      "        57.1790, 54.7005, 54.6132, 53.6655, 54.3859, 55.5105, 55.4591, 56.9957,\n",
      "        57.7146, 61.7525, 55.7682, 64.0952, 54.0685, 53.3851, 54.8759, 67.1058],\n",
      "       device='cuda:0', dtype=torch.float64)\n",
      "\n"
     ]
    },
    {
     "name": "stderr",
     "output_type": "stream",
     "text": [
      "\r",
      "Eval:  60%|█████▉    | 662/1110 [07:58<02:54,  2.57it/s]"
     ]
    },
    {
     "name": "stdout",
     "output_type": "stream",
     "text": [
      "orientation_error\n",
      "tensor([55.6360, 66.3820, 72.2226, 71.1430, 73.6658, 74.0560, 74.3698, 75.1753,\n",
      "        76.8428, 72.2635, 60.4792, 62.9983, 33.1019, 49.4140, 34.3350, 36.2714,\n",
      "        35.8372, 39.5451, 53.1730, 62.6955, 64.2334, 62.8326, 66.2831, 66.2743,\n",
      "        50.3014, 44.7772, 52.4693, 41.3099, 21.9311, 49.0416, 41.8894, 43.0331],\n",
      "       device='cuda:0', dtype=torch.float64)\n",
      "\n"
     ]
    },
    {
     "name": "stderr",
     "output_type": "stream",
     "text": [
      "\r",
      "Eval:  60%|█████▉    | 663/1110 [07:58<02:47,  2.66it/s]"
     ]
    },
    {
     "name": "stdout",
     "output_type": "stream",
     "text": [
      "orientation_error\n",
      "tensor([52.2153, 47.3202, 49.5949, 51.2933, 29.8231, 36.1954, 33.8585, 30.9112,\n",
      "        31.7324, 32.0323, 33.9209, 35.0752, 31.7396, 29.5100, 27.8436, 28.7686,\n",
      "        34.2574, 36.3490, 39.4870, 34.5309, 34.8762, 35.2711, 41.2240, 32.4661,\n",
      "        25.6444, 20.8417, 19.7168, 21.3406, 22.6782, 22.7073, 22.1304, 22.9418],\n",
      "       device='cuda:0', dtype=torch.float64)\n",
      "\n"
     ]
    },
    {
     "name": "stderr",
     "output_type": "stream",
     "text": [
      "\r",
      "Eval:  60%|█████▉    | 664/1110 [07:59<02:54,  2.55it/s]"
     ]
    },
    {
     "name": "stdout",
     "output_type": "stream",
     "text": [
      "orientation_error\n",
      "tensor([25.6662, 28.3791, 27.5891, 29.1827, 30.3103, 28.3482, 25.5564, 26.2586,\n",
      "        24.7681, 27.0545, 28.6113, 35.1928, 21.0776, 26.8639, 34.7519, 25.1557,\n",
      "        22.3336, 23.0792, 22.8366, 28.2701, 28.9714, 42.2010, 42.3391, 35.6278,\n",
      "        29.0346, 26.6987, 27.6680, 23.7711, 34.6855, 23.0126, 23.4465, 24.8521],\n",
      "       device='cuda:0', dtype=torch.float64)\n",
      "\n"
     ]
    },
    {
     "name": "stderr",
     "output_type": "stream",
     "text": [
      "\r",
      "Eval:  60%|█████▉    | 665/1110 [07:59<02:48,  2.64it/s]"
     ]
    },
    {
     "name": "stdout",
     "output_type": "stream",
     "text": [
      "orientation_error\n",
      "tensor([36.9997, 28.9073, 27.0549, 22.1061, 36.3101, 22.4863, 16.6633, 19.1673,\n",
      "        20.4666, 20.6338, 22.1524, 25.2620, 29.2143, 45.4025, 33.7472, 32.6985,\n",
      "        29.9302, 40.3702, 38.5924, 22.1248, 21.3907, 20.6788, 20.7191, 22.5396,\n",
      "        22.0567, 22.5205, 22.0994, 20.1561, 19.2631, 19.3771, 21.1065, 20.3915],\n",
      "       device='cuda:0', dtype=torch.float64)\n",
      "\n"
     ]
    },
    {
     "name": "stderr",
     "output_type": "stream",
     "text": [
      "\r",
      "Eval:  60%|██████    | 666/1110 [08:00<03:05,  2.39it/s]"
     ]
    },
    {
     "name": "stdout",
     "output_type": "stream",
     "text": [
      "orientation_error\n",
      "tensor([18.5882, 20.7369, 21.2240, 23.7247, 39.4688, 46.2659, 35.2892, 49.3036,\n",
      "        44.4660, 36.8163, 36.8861, 36.6547, 36.0400, 34.6800, 34.4226, 20.0329,\n",
      "        19.8427, 23.3093, 24.7610, 23.1885, 26.4703, 62.7577, 31.9343, 22.7961,\n",
      "        20.9379, 21.5342, 21.5285, 20.3381, 20.4319, 20.7428, 35.6057, 36.9939],\n",
      "       device='cuda:0', dtype=torch.float64)\n",
      "\n"
     ]
    },
    {
     "name": "stderr",
     "output_type": "stream",
     "text": [
      "\r",
      "Eval:  60%|██████    | 667/1110 [08:00<03:27,  2.14it/s]"
     ]
    },
    {
     "name": "stdout",
     "output_type": "stream",
     "text": [
      "orientation_error\n",
      "tensor([39.6979, 28.6627, 43.4799, 38.3601, 34.0575, 34.7032, 35.0608, 18.0683,\n",
      "        18.6563, 19.8456, 37.7492, 43.2977, 42.5967, 45.4481, 60.7192, 38.2991,\n",
      "        37.4174, 37.3546, 35.9705, 34.9276, 18.8117, 18.8878, 19.6657, 20.1634,\n",
      "        34.5255, 32.7869, 35.9597, 39.5728, 22.6800, 22.7871, 32.3424, 17.7154],\n",
      "       device='cuda:0', dtype=torch.float64)\n",
      "\n"
     ]
    },
    {
     "name": "stderr",
     "output_type": "stream",
     "text": [
      "\r",
      "Eval:  60%|██████    | 668/1110 [08:01<03:34,  2.06it/s]"
     ]
    },
    {
     "name": "stdout",
     "output_type": "stream",
     "text": [
      "orientation_error\n",
      "tensor([17.7439, 17.6314, 32.1674, 33.9695, 36.2580, 35.9968, 41.5511, 54.9570,\n",
      "        42.9790, 27.6564, 40.2913, 43.7279, 39.7707, 22.8454, 21.4389, 20.9257,\n",
      "        21.4037, 22.6669, 21.7366, 21.2157, 36.5051, 21.8563, 21.2884, 19.2092,\n",
      "        19.0075, 35.1169, 34.8901, 34.4143, 33.0435, 19.0670, 20.3629, 21.4866],\n",
      "       device='cuda:0', dtype=torch.float64)\n",
      "\n"
     ]
    },
    {
     "name": "stderr",
     "output_type": "stream",
     "text": [
      "\r",
      "Eval:  60%|██████    | 669/1110 [08:01<03:28,  2.11it/s]"
     ]
    },
    {
     "name": "stdout",
     "output_type": "stream",
     "text": [
      "orientation_error\n",
      "tensor([38.5507, 24.2544, 22.5093, 21.1385, 19.5603, 19.9415, 20.0996, 20.7658,\n",
      "        20.2632, 18.7815, 20.0716, 20.6327, 20.5898, 19.5249, 35.3731, 37.4062,\n",
      "        34.4210, 35.4537, 34.6947, 18.9453, 19.5634, 19.0404, 18.8203, 18.7053,\n",
      "        18.4836, 34.0792, 35.4576, 24.4781, 31.4053, 20.2867, 19.2913, 19.2055],\n",
      "       device='cuda:0', dtype=torch.float64)\n",
      "\n"
     ]
    },
    {
     "name": "stderr",
     "output_type": "stream",
     "text": [
      "\r",
      "Eval:  60%|██████    | 670/1110 [08:02<03:39,  2.00it/s]"
     ]
    },
    {
     "name": "stdout",
     "output_type": "stream",
     "text": [
      "orientation_error\n",
      "tensor([19.1034, 21.1303, 28.8701, 26.3347, 25.4744, 24.3255, 23.9382, 23.0208,\n",
      "        21.8281, 19.2754, 17.5649, 16.1843, 16.9540, 17.4250, 18.2886, 17.6511,\n",
      "        20.1642, 17.9272, 18.3923, 19.2252, 19.4164, 17.3547, 17.6267, 16.2921,\n",
      "        20.3456, 21.3247, 20.1518, 19.5116, 19.6753, 20.6124, 20.0079, 35.7083],\n",
      "       device='cuda:0', dtype=torch.float64)\n",
      "\n"
     ]
    },
    {
     "name": "stderr",
     "output_type": "stream",
     "text": [
      "\r",
      "Eval:  60%|██████    | 671/1110 [08:03<04:22,  1.67it/s]"
     ]
    },
    {
     "name": "stdout",
     "output_type": "stream",
     "text": [
      "orientation_error\n",
      "tensor([37.5312, 23.0773, 40.2297, 40.4247, 41.1452, 24.0742, 22.1477, 19.3685,\n",
      "        18.5410, 18.3345, 19.6102, 19.6853, 19.5468, 18.8830, 18.6464, 18.9223,\n",
      "        33.9622, 34.1446, 32.8610, 33.2193, 32.4431, 31.6337, 31.4424, 16.8148,\n",
      "        17.7837, 17.7621, 18.1748, 16.6234, 15.1961, 15.2588, 16.8854, 18.4465],\n",
      "       device='cuda:0', dtype=torch.float64)\n",
      "\n"
     ]
    },
    {
     "name": "stderr",
     "output_type": "stream",
     "text": [
      "\r",
      "Eval:  61%|██████    | 672/1110 [08:03<04:23,  1.66it/s]"
     ]
    },
    {
     "name": "stdout",
     "output_type": "stream",
     "text": [
      "orientation_error\n",
      "tensor([32.6046, 32.3972, 18.4065, 18.3534, 18.2195, 18.6541, 18.6174, 18.6715,\n",
      "        18.9779, 18.6889, 18.2777, 18.7987, 33.1149, 32.7092, 32.6213, 32.8843,\n",
      "        32.6192, 32.4008, 32.4753, 32.5849, 33.1976, 33.1581, 33.2216, 33.5184,\n",
      "        33.7450, 33.8090, 33.6772, 33.1718, 32.7488, 32.8105, 32.7429, 33.5132],\n",
      "       device='cuda:0', dtype=torch.float64)\n",
      "\n",
      "orientation_error\n",
      "tensor([33.8227, 33.7202, 34.0677, 34.2583, 34.3030, 33.6604, 32.7945, 32.9274,\n",
      "        32.9280, 33.0693, 33.0380, 32.9206, 33.4522, 33.4169, 33.0853, 33.6664,\n",
      "        33.3675, 33.5604, 33.6878, 33.6926, 33.6289, 33.4961, 33.7240, 33.8346,\n",
      "        33.5779, 33.5195, 33.7773, 33.4545, 33.8186, 33.7652, 33.8276, 33.6242],\n",
      "       device='cuda:0', dtype=torch.float64)\n",
      "\n"
     ]
    },
    {
     "name": "stderr",
     "output_type": "stream",
     "text": [
      "Eval:  61%|██████    | 674/1110 [08:05<04:23,  1.65it/s]"
     ]
    },
    {
     "name": "stdout",
     "output_type": "stream",
     "text": [
      "orientation_error\n",
      "tensor([33.8717, 33.5824, 33.9789, 33.2982, 33.1443, 33.3205, 33.2458, 33.5814,\n",
      "        33.7955, 33.9908, 33.9998, 34.2571, 33.7537, 33.6334, 33.8512, 33.8458,\n",
      "        33.6163, 33.5627, 33.2511, 33.3641, 33.7174, 33.9979, 33.0554, 32.8476,\n",
      "        32.8560, 33.7861, 33.7448, 33.9957, 34.3066, 33.9489, 34.0205, 34.1941],\n",
      "       device='cuda:0', dtype=torch.float64)\n",
      "\n"
     ]
    },
    {
     "name": "stderr",
     "output_type": "stream",
     "text": [
      "\r",
      "Eval:  61%|██████    | 675/1110 [08:05<04:16,  1.69it/s]"
     ]
    },
    {
     "name": "stdout",
     "output_type": "stream",
     "text": [
      "orientation_error\n",
      "tensor([34.6740, 34.8025, 35.4714, 35.7475, 36.5566, 22.2539, 21.9162, 22.5609,\n",
      "        22.9831, 22.6222, 39.1651, 26.3557, 38.7162, 23.9933, 37.1540, 36.5891,\n",
      "        36.6189, 35.8207, 35.0310, 35.0399, 34.4314, 34.2158, 33.9532, 34.2507,\n",
      "        34.8002, 35.0512, 35.7952, 35.2309, 35.3731, 34.3794, 33.6180, 33.7739],\n",
      "       device='cuda:0', dtype=torch.float64)\n",
      "\n"
     ]
    },
    {
     "name": "stderr",
     "output_type": "stream",
     "text": [
      "\r",
      "Eval:  61%|██████    | 676/1110 [08:06<04:15,  1.70it/s]"
     ]
    },
    {
     "name": "stdout",
     "output_type": "stream",
     "text": [
      "orientation_error\n",
      "tensor([32.8042, 32.4504, 32.4723, 32.5177, 33.1234, 33.0624, 33.5364, 33.9529,\n",
      "        34.2626, 34.5633, 35.5593, 36.4086, 36.7354, 37.0511, 22.1728, 22.1703,\n",
      "        20.9751, 20.5572, 19.8250, 19.8190, 20.3776, 20.7686, 20.8289, 21.1853,\n",
      "        21.3661, 35.7041, 35.6766, 37.1189, 38.2141, 38.5365, 39.1725, 39.0583],\n",
      "       device='cuda:0', dtype=torch.float64)\n",
      "\n"
     ]
    },
    {
     "name": "stderr",
     "output_type": "stream",
     "text": [
      "\r",
      "Eval:  61%|██████    | 677/1110 [08:06<03:59,  1.81it/s]"
     ]
    },
    {
     "name": "stdout",
     "output_type": "stream",
     "text": [
      "orientation_error\n",
      "tensor([38.4325, 37.2513, 36.9501, 35.8513, 20.5025, 34.6736, 34.9546, 19.9776,\n",
      "        20.4510, 35.2650, 35.1715, 35.8844, 36.7495, 37.5359, 37.7079, 38.3111,\n",
      "        23.1443, 22.6129, 36.9876, 36.4880, 20.8130, 20.0874, 35.2044, 21.0301,\n",
      "        21.3656, 21.2725, 36.4029, 35.8141, 35.4202, 36.4231, 36.7594, 37.2029],\n",
      "       device='cuda:0', dtype=torch.float64)\n",
      "\n"
     ]
    },
    {
     "name": "stderr",
     "output_type": "stream",
     "text": [
      "\r",
      "Eval:  61%|██████    | 678/1110 [08:07<03:39,  1.97it/s]"
     ]
    },
    {
     "name": "stdout",
     "output_type": "stream",
     "text": [
      "orientation_error\n",
      "tensor([36.9627, 36.5778, 35.8291, 35.4228, 33.3981, 33.4927, 32.8355, 17.9469,\n",
      "        17.9550, 33.7228, 34.1223, 34.4675, 34.5317, 35.3072, 20.7528, 20.8278,\n",
      "        20.1234, 18.1469, 33.3025, 33.1694, 32.4803, 31.9363, 32.2204, 17.5117,\n",
      "        17.8271, 17.6242, 32.9871, 34.0562, 34.8897, 21.3642, 22.4917, 24.5175],\n",
      "       device='cuda:0', dtype=torch.float64)\n",
      "\n"
     ]
    },
    {
     "name": "stderr",
     "output_type": "stream",
     "text": [
      "\r",
      "Eval:  61%|██████    | 679/1110 [08:07<04:05,  1.76it/s]"
     ]
    },
    {
     "name": "stdout",
     "output_type": "stream",
     "text": [
      "orientation_error\n",
      "tensor([24.3855, 37.1733, 19.8547, 19.2627, 17.5486, 17.8516, 17.5019, 17.0563,\n",
      "        17.3737, 18.2588, 18.1773, 18.8869, 19.7561, 19.7246, 19.3662, 17.9121,\n",
      "        17.5973, 31.8198, 31.4529, 30.9328, 30.5208, 30.7921, 16.8419, 17.5766,\n",
      "        18.3437, 18.5575, 20.0051, 37.0676, 22.7343, 24.9801, 25.4957, 25.1757],\n",
      "       device='cuda:0', dtype=torch.float64)\n",
      "\n"
     ]
    },
    {
     "name": "stderr",
     "output_type": "stream",
     "text": [
      "\r",
      "Eval:  61%|██████▏   | 680/1110 [08:08<04:14,  1.69it/s]"
     ]
    },
    {
     "name": "stdout",
     "output_type": "stream",
     "text": [
      "orientation_error\n",
      "tensor([25.0381, 24.0098, 24.5597, 23.3258, 21.7609, 22.0141, 21.8416, 21.5169,\n",
      "        23.5003, 32.4502, 48.6872, 49.3592, 35.9238, 35.0577, 34.2963, 31.9606,\n",
      "        30.0316, 25.0940, 27.9164, 21.4491, 20.4358, 20.1825, 22.9227, 21.3612,\n",
      "        22.4371, 22.5049, 22.2971, 26.1470, 27.3011, 43.4299, 27.0653, 26.5614],\n",
      "       device='cuda:0', dtype=torch.float64)\n",
      "\n",
      "MPJPE: 96.99483215800296\n",
      "Reconstruction Error: 58.78070092597834\n",
      "\n",
      "Orientation error: 32.288149823682375\n"
     ]
    },
    {
     "name": "stderr",
     "output_type": "stream",
     "text": [
      "\r",
      "Eval:  61%|██████▏   | 681/1110 [08:08<04:05,  1.75it/s]"
     ]
    },
    {
     "name": "stdout",
     "output_type": "stream",
     "text": [
      "orientation_error\n",
      "tensor([24.7952, 23.7719, 21.5787, 20.9810, 19.5530, 19.3720, 19.9254, 20.8378,\n",
      "        35.6879, 36.2776, 36.0954, 21.1357, 20.8183, 33.8652, 33.8589, 32.5577,\n",
      "        17.7552, 17.3456, 17.3693, 16.9221, 16.7900, 31.8294, 16.2235, 31.6048,\n",
      "        32.3092, 32.8345, 32.6257, 32.1728, 31.9767, 17.4616, 32.7174, 17.5843],\n",
      "       device='cuda:0', dtype=torch.float64)\n",
      "\n"
     ]
    },
    {
     "name": "stderr",
     "output_type": "stream",
     "text": [
      "\r",
      "Eval:  61%|██████▏   | 682/1110 [08:09<03:44,  1.91it/s]"
     ]
    },
    {
     "name": "stdout",
     "output_type": "stream",
     "text": [
      "orientation_error\n",
      "tensor([17.3439, 17.5314, 32.2743, 31.8701, 31.3817, 31.1135, 31.5301, 31.5848,\n",
      "        31.7352, 31.7807, 32.0038, 32.0652, 18.3264, 32.8010, 17.9348, 17.8098,\n",
      "        17.9703, 17.8164, 17.8280, 17.2284, 17.9050, 18.5487, 18.9775, 19.1283,\n",
      "        19.1060, 19.2511, 19.5021, 20.0266, 19.9127, 19.7619, 19.3259, 20.3647],\n",
      "       device='cuda:0', dtype=torch.float64)\n",
      "\n"
     ]
    },
    {
     "name": "stderr",
     "output_type": "stream",
     "text": [
      "\r",
      "Eval:  62%|██████▏   | 683/1110 [08:09<03:51,  1.84it/s]"
     ]
    },
    {
     "name": "stdout",
     "output_type": "stream",
     "text": [
      "orientation_error\n",
      "tensor([20.1667, 33.7010, 19.7852, 19.7906, 20.2144, 20.4416, 34.1721, 34.3474,\n",
      "        34.4591, 34.3507, 33.5295, 33.8000, 33.7276, 20.1789, 21.3956, 22.8725,\n",
      "        24.6977, 23.8821, 25.1460, 24.9862, 25.1001, 24.5031, 23.8228, 22.8959,\n",
      "        23.5093, 25.3628, 24.7903, 21.7601, 19.1640, 18.4194, 20.1618, 20.8059],\n",
      "       device='cuda:0', dtype=torch.float64)\n",
      "\n"
     ]
    },
    {
     "name": "stderr",
     "output_type": "stream",
     "text": [
      "\r",
      "Eval:  62%|██████▏   | 684/1110 [08:10<03:30,  2.02it/s]"
     ]
    },
    {
     "name": "stdout",
     "output_type": "stream",
     "text": [
      "orientation_error\n",
      "tensor([21.5644, 22.4213, 23.1025, 24.1392, 27.1066, 28.6313, 26.4129, 24.4984,\n",
      "        21.7747, 24.5424, 30.9187, 34.6902, 35.6999, 38.6846, 38.0573, 54.6516,\n",
      "        38.3632, 34.6255, 33.5995, 21.4022, 22.6038, 22.0827, 28.5679, 44.1449,\n",
      "        40.5347, 49.1169, 44.8659, 29.3669, 28.0206, 31.4021, 28.3233, 28.0023],\n",
      "       device='cuda:0', dtype=torch.float64)\n",
      "\n"
     ]
    },
    {
     "name": "stderr",
     "output_type": "stream",
     "text": [
      "\r",
      "Eval:  62%|██████▏   | 685/1110 [08:10<03:14,  2.18it/s]"
     ]
    },
    {
     "name": "stdout",
     "output_type": "stream",
     "text": [
      "orientation_error\n",
      "tensor([30.7625, 41.0102, 43.8796, 64.7463, 84.7452, 42.9560, 50.5500, 35.3853,\n",
      "        38.0309, 34.7925, 41.1728, 51.3836, 75.8693, 57.3807, 38.1236, 38.7620,\n",
      "        38.6275, 35.4731, 37.0556, 33.0391, 33.5511, 39.0725, 44.6614, 32.7874,\n",
      "        45.7380, 46.1766, 33.9987, 40.7941, 44.2758, 23.9593, 24.2685, 23.2159],\n",
      "       device='cuda:0', dtype=torch.float64)\n",
      "\n"
     ]
    },
    {
     "name": "stderr",
     "output_type": "stream",
     "text": [
      "\r",
      "Eval:  62%|██████▏   | 686/1110 [08:10<02:49,  2.50it/s]"
     ]
    },
    {
     "name": "stdout",
     "output_type": "stream",
     "text": [
      "orientation_error\n",
      "tensor([23.2966, 22.0098, 20.3687, 17.7137, 18.2429, 19.1593, 17.5434, 18.3961,\n",
      "        18.8811, 34.5667, 34.3205, 34.0615, 19.4397, 18.6201, 18.0889, 32.7151,\n",
      "        17.2151, 31.4080, 30.4336, 31.1806, 16.6613, 16.2624, 31.9175, 33.8240,\n",
      "        35.3228, 36.8353, 35.8975, 36.3989, 36.1714, 34.6332, 35.8816, 37.3417],\n",
      "       device='cuda:0', dtype=torch.float64)\n",
      "\n"
     ]
    },
    {
     "name": "stderr",
     "output_type": "stream",
     "text": [
      "\r",
      "Eval:  62%|██████▏   | 687/1110 [08:11<02:39,  2.66it/s]"
     ]
    },
    {
     "name": "stdout",
     "output_type": "stream",
     "text": [
      "orientation_error\n",
      "tensor([37.4898, 35.4083, 23.9272, 21.7640, 29.9651, 37.8287, 38.7870, 39.2422,\n",
      "        53.7909, 40.2655, 46.9469, 41.0648, 35.3014, 33.0015, 38.6597, 33.6898,\n",
      "        40.8930, 42.8977, 38.8616, 27.5144, 25.7607, 26.0266, 30.2967, 29.8069,\n",
      "        41.4680, 34.8037, 30.8581, 27.0971, 23.1587, 21.6648, 18.7141, 17.7637],\n",
      "       device='cuda:0', dtype=torch.float64)\n",
      "\n"
     ]
    },
    {
     "name": "stderr",
     "output_type": "stream",
     "text": [
      "\r",
      "Eval:  62%|██████▏   | 688/1110 [08:11<02:36,  2.69it/s]"
     ]
    },
    {
     "name": "stdout",
     "output_type": "stream",
     "text": [
      "orientation_error\n",
      "tensor([18.5249, 18.9277, 19.7570, 21.1927, 22.7487, 24.7510, 28.0240, 29.1870,\n",
      "        32.5170, 28.7577, 26.5117, 23.6638, 21.5398, 21.2852, 20.4517, 19.2604,\n",
      "        19.7369, 20.6725, 24.0334, 26.0807, 24.3358, 27.2960, 28.6939, 30.3940,\n",
      "        23.8355, 20.4244, 34.3058, 35.3186, 37.1066, 38.7067, 41.0148, 46.3917],\n",
      "       device='cuda:0', dtype=torch.float64)\n",
      "\n"
     ]
    },
    {
     "name": "stderr",
     "output_type": "stream",
     "text": [
      "\r",
      "Eval:  62%|██████▏   | 689/1110 [08:12<02:40,  2.62it/s]"
     ]
    },
    {
     "name": "stdout",
     "output_type": "stream",
     "text": [
      "orientation_error\n",
      "tensor([49.8212, 51.7645, 56.1887, 33.0008, 30.4788, 28.5067, 26.2669, 27.0159,\n",
      "        26.3353, 25.0087, 36.3389, 35.4314, 36.0914, 23.9020, 25.1618, 24.4390,\n",
      "        25.4282, 37.3292, 35.8196, 35.6072, 34.6367, 33.6900, 34.3764, 34.2030,\n",
      "        19.7376, 21.9304, 23.6785, 27.1195, 44.7279, 29.4930, 28.4930, 27.3908],\n",
      "       device='cuda:0', dtype=torch.float64)\n",
      "\n"
     ]
    },
    {
     "name": "stderr",
     "output_type": "stream",
     "text": [
      "\r",
      "Eval:  62%|██████▏   | 690/1110 [08:12<02:27,  2.86it/s]"
     ]
    },
    {
     "name": "stdout",
     "output_type": "stream",
     "text": [
      "orientation_error\n",
      "tensor([25.8468, 24.4271, 23.9034, 23.6530, 26.4217, 26.0942, 23.5901, 22.9814,\n",
      "        21.1635, 20.4339, 22.0056, 22.8783, 38.7205, 40.7395, 39.6823, 38.5075,\n",
      "        37.6591, 40.7434, 24.3901, 26.3126, 23.5088, 21.3845, 22.0431, 19.8790,\n",
      "        20.9585, 19.6433, 21.3121, 24.4656, 24.5883, 22.5043, 24.4830, 26.9753],\n",
      "       device='cuda:0', dtype=torch.float64)\n",
      "\n"
     ]
    },
    {
     "name": "stderr",
     "output_type": "stream",
     "text": [
      "\r",
      "Eval:  62%|██████▏   | 691/1110 [08:12<02:41,  2.59it/s]"
     ]
    },
    {
     "name": "stdout",
     "output_type": "stream",
     "text": [
      "orientation_error\n",
      "tensor([23.6294, 22.7807, 22.4542, 22.6807, 21.4825, 21.0566, 20.1560, 22.4074,\n",
      "        23.6338, 23.0542, 36.9115, 36.7020, 37.4887, 37.5316, 37.6718, 43.4705,\n",
      "        47.1085, 32.3549, 31.3754, 30.6947, 26.3074, 21.4278, 21.4179, 20.8760,\n",
      "        34.6426, 34.3998, 18.5503, 18.9140, 19.0652, 18.9405, 34.5474, 35.0089],\n",
      "       device='cuda:0', dtype=torch.float64)\n",
      "\n"
     ]
    },
    {
     "name": "stderr",
     "output_type": "stream",
     "text": [
      "\r",
      "Eval:  62%|██████▏   | 692/1110 [08:13<02:26,  2.86it/s]"
     ]
    },
    {
     "name": "stdout",
     "output_type": "stream",
     "text": [
      "orientation_error\n",
      "tensor([35.4728, 35.1790, 34.2974, 34.9679, 34.9774, 35.3497, 21.5972, 22.6075,\n",
      "        22.6535, 21.6244, 20.5879, 20.4635, 20.4102, 19.6310, 20.2421, 20.2101,\n",
      "        24.7733, 17.5422, 18.5072, 18.2113, 18.5498, 19.0193, 19.4069, 20.8516,\n",
      "        23.1913, 23.0080, 23.6413, 22.7186, 22.4309, 19.6884, 18.2072, 17.6777],\n",
      "       device='cuda:0', dtype=torch.float64)\n",
      "\n"
     ]
    },
    {
     "name": "stderr",
     "output_type": "stream",
     "text": [
      "\r",
      "Eval:  62%|██████▏   | 693/1110 [08:13<02:19,  3.00it/s]"
     ]
    },
    {
     "name": "stdout",
     "output_type": "stream",
     "text": [
      "orientation_error\n",
      "tensor([17.4531, 18.1539, 18.4133, 18.5763, 18.0336, 16.4714, 21.3731, 18.6359,\n",
      "        18.2529, 17.1937, 18.9299, 16.0361, 17.0365, 17.5421, 21.3962, 18.1637,\n",
      "        17.1856, 17.6501, 18.1128, 18.0159, 18.0957, 19.4911, 21.4615, 35.5030,\n",
      "        34.3530, 34.5438, 34.0750, 34.0027, 34.0028, 34.1825, 34.1704, 33.7656],\n",
      "       device='cuda:0', dtype=torch.float64)\n",
      "\n"
     ]
    },
    {
     "name": "stderr",
     "output_type": "stream",
     "text": [
      "\r",
      "Eval:  63%|██████▎   | 694/1110 [08:13<02:30,  2.76it/s]"
     ]
    },
    {
     "name": "stdout",
     "output_type": "stream",
     "text": [
      "orientation_error\n",
      "tensor([33.2414, 33.4988, 33.5434, 33.4061, 33.2761, 33.3990, 33.5132, 33.5571,\n",
      "        33.6193, 33.6351, 33.8016, 33.8217, 33.9205, 33.5825, 33.6377, 33.7146,\n",
      "        33.8796, 33.8051, 34.1222, 31.0697, 31.2616, 31.5357, 31.7571, 32.0087,\n",
      "        32.0762, 32.6122, 32.3600, 32.7867, 32.9794, 33.2195, 33.4386, 33.6202],\n",
      "       device='cuda:0', dtype=torch.float64)\n",
      "\n"
     ]
    },
    {
     "name": "stderr",
     "output_type": "stream",
     "text": [
      "\r",
      "Eval:  63%|██████▎   | 695/1110 [08:14<02:34,  2.68it/s]"
     ]
    },
    {
     "name": "stdout",
     "output_type": "stream",
     "text": [
      "orientation_error\n",
      "tensor([33.9540, 33.8631, 33.8298, 34.2287, 34.2409, 33.9043, 34.3091, 34.0510,\n",
      "        33.7786, 33.4350, 33.1761, 32.6442, 32.3026, 31.4689, 31.1494, 30.8058,\n",
      "        30.2608, 29.8022, 29.1892, 29.2255, 29.9887, 30.3340, 29.9731, 30.0887,\n",
      "        30.1520, 29.9565, 29.2173, 29.0043, 29.4618, 29.3657, 29.5055, 29.5578],\n",
      "       device='cuda:0', dtype=torch.float64)\n",
      "\n"
     ]
    },
    {
     "name": "stderr",
     "output_type": "stream",
     "text": [
      "\r",
      "Eval:  63%|██████▎   | 696/1110 [08:14<02:50,  2.42it/s]"
     ]
    },
    {
     "name": "stdout",
     "output_type": "stream",
     "text": [
      "orientation_error\n",
      "tensor([29.7512, 15.7392, 16.2615, 15.9298, 16.1902, 16.0214, 17.1568, 16.9260,\n",
      "        16.9706, 16.7320, 17.8658, 19.2862, 19.4207, 19.3545, 18.4039, 18.4699,\n",
      "        17.6775, 17.5784, 17.7241, 18.3867, 18.0121, 16.9282, 16.3821, 15.8170,\n",
      "        15.9089, 15.7737, 16.6494, 16.8702, 16.6207, 17.4566, 18.0151, 18.1654],\n",
      "       device='cuda:0', dtype=torch.float64)\n",
      "\n"
     ]
    },
    {
     "name": "stderr",
     "output_type": "stream",
     "text": [
      "\r",
      "Eval:  63%|██████▎   | 697/1110 [08:15<03:05,  2.22it/s]"
     ]
    },
    {
     "name": "stdout",
     "output_type": "stream",
     "text": [
      "orientation_error\n",
      "tensor([17.8032, 17.8587, 17.3023, 18.4846, 17.4926, 17.1887, 32.2690, 32.7150,\n",
      "        18.8468, 33.0031, 17.1544, 15.9855, 15.1017, 14.4288, 13.9608, 14.4345,\n",
      "        14.4059, 15.0114, 15.3171, 16.0427, 17.2625, 17.5398, 17.7011, 17.7119,\n",
      "        18.0760, 18.6051, 17.7070, 18.0833, 17.9695, 17.3329, 17.4828, 17.2099],\n",
      "       device='cuda:0', dtype=torch.float64)\n",
      "\n"
     ]
    },
    {
     "name": "stderr",
     "output_type": "stream",
     "text": [
      "\r",
      "Eval:  63%|██████▎   | 698/1110 [08:15<03:00,  2.29it/s]"
     ]
    },
    {
     "name": "stdout",
     "output_type": "stream",
     "text": [
      "orientation_error\n",
      "tensor([16.3923, 15.9702, 16.8256, 17.4072, 17.4972, 17.8084, 19.3026, 19.2737,\n",
      "        20.2265, 34.3637, 19.4593, 20.0403, 20.7065, 21.4979, 20.3360, 19.8182,\n",
      "        18.9559, 32.3830, 32.9605, 33.6671, 19.1649, 19.8574, 19.1392, 23.4365,\n",
      "        34.7618, 19.0082, 51.1402, 40.1413, 27.8328, 33.1406, 32.1192, 30.8919],\n",
      "       device='cuda:0', dtype=torch.float64)\n",
      "\n"
     ]
    },
    {
     "name": "stderr",
     "output_type": "stream",
     "text": [
      "\r",
      "Eval:  63%|██████▎   | 699/1110 [08:16<03:07,  2.20it/s]"
     ]
    },
    {
     "name": "stdout",
     "output_type": "stream",
     "text": [
      "orientation_error\n",
      "tensor([31.1455, 32.2769, 32.3511, 33.0954, 33.8691, 18.3559, 18.4513, 18.2190,\n",
      "        18.0487, 33.3294, 34.2833, 20.1130, 20.0552, 19.5782, 18.9779, 17.3386,\n",
      "        16.7102, 15.6231, 15.0288, 15.5566, 15.8896, 16.5702, 16.7157, 17.5802,\n",
      "        17.7681, 32.7627, 32.8469, 33.0183, 33.8525, 33.4779, 34.3108, 33.4709],\n",
      "       device='cuda:0', dtype=torch.float64)\n",
      "\n"
     ]
    },
    {
     "name": "stderr",
     "output_type": "stream",
     "text": [
      "\r",
      "Eval:  63%|██████▎   | 700/1110 [08:16<03:01,  2.26it/s]"
     ]
    },
    {
     "name": "stdout",
     "output_type": "stream",
     "text": [
      "orientation_error\n",
      "tensor([18.2814, 17.8944, 17.5753, 17.4988, 17.3828, 18.1847, 17.9463, 17.7471,\n",
      "        17.9451, 17.8316, 18.3291, 18.8398, 19.6654, 18.8885, 33.4317, 18.4716,\n",
      "        32.4653, 18.4506, 18.3736, 32.7523, 31.8293, 15.8323, 15.0639, 13.7971,\n",
      "        13.7274, 14.1780, 15.4053, 16.8572, 17.6175, 19.1895, 19.8025, 19.9729],\n",
      "       device='cuda:0', dtype=torch.float64)\n",
      "\n",
      "MPJPE: 96.77892331344053\n",
      "Reconstruction Error: 58.85737517482877\n",
      "\n",
      "Orientation error: 32.14274377837434\n"
     ]
    },
    {
     "name": "stderr",
     "output_type": "stream",
     "text": [
      "\r",
      "Eval:  63%|██████▎   | 701/1110 [08:17<03:09,  2.16it/s]"
     ]
    },
    {
     "name": "stdout",
     "output_type": "stream",
     "text": [
      "orientation_error\n",
      "tensor([19.6475, 34.4872, 33.9886, 34.3331, 32.9866, 33.7083, 33.3255, 19.3466,\n",
      "        18.9706, 18.6928, 18.0416, 18.0450, 18.0577, 18.1937, 18.7918, 18.9945,\n",
      "        19.4586, 19.2787, 19.9888, 19.3592, 19.4678, 20.2944, 34.8146, 34.8055,\n",
      "        34.8645, 33.7363, 34.1499, 33.9354, 32.5705, 32.1989, 16.6891, 17.2380],\n",
      "       device='cuda:0', dtype=torch.float64)\n",
      "\n"
     ]
    },
    {
     "name": "stderr",
     "output_type": "stream",
     "text": [
      "\r",
      "Eval:  63%|██████▎   | 702/1110 [08:17<03:02,  2.23it/s]"
     ]
    },
    {
     "name": "stdout",
     "output_type": "stream",
     "text": [
      "orientation_error\n",
      "tensor([17.5323, 16.8868, 17.6608, 17.6544, 17.9485, 18.6440, 18.8284, 18.6182,\n",
      "        33.4414, 32.9726, 32.8469, 33.4838, 33.2957, 33.1917, 33.0084, 32.6617,\n",
      "        17.8545, 17.4262, 17.3845, 17.5592, 17.2080, 17.5687, 17.4160, 17.4258,\n",
      "        17.6407, 17.7835, 17.5703, 17.8387, 32.5923, 18.0958, 32.7153, 17.2320],\n",
      "       device='cuda:0', dtype=torch.float64)\n",
      "\n"
     ]
    },
    {
     "name": "stderr",
     "output_type": "stream",
     "text": [
      "\r",
      "Eval:  63%|██████▎   | 703/1110 [08:18<03:22,  2.01it/s]"
     ]
    },
    {
     "name": "stdout",
     "output_type": "stream",
     "text": [
      "orientation_error\n",
      "tensor([16.9537, 16.1242, 15.3753, 15.1648, 14.9993, 14.9834, 14.6596, 15.7025,\n",
      "        16.2873, 16.2157, 17.0865, 17.7158, 17.3164, 17.8042, 17.9346, 32.7427,\n",
      "        33.1537, 18.2064, 34.0035, 33.0121, 18.1494, 18.8962, 17.9322, 32.6219,\n",
      "        33.3133, 18.6545, 19.0914, 17.4477, 18.2028, 17.4269, 17.5536, 18.0159],\n",
      "       device='cuda:0', dtype=torch.float64)\n",
      "\n"
     ]
    },
    {
     "name": "stderr",
     "output_type": "stream",
     "text": [
      "\r",
      "Eval:  63%|██████▎   | 704/1110 [08:19<05:25,  1.25it/s]"
     ]
    },
    {
     "name": "stdout",
     "output_type": "stream",
     "text": [
      "orientation_error\n",
      "tensor([18.2548, 19.0188, 19.6775, 20.0536, 35.4490, 34.3096, 34.6287, 34.4675,\n",
      "        33.4061, 31.9003, 32.2869, 31.3597, 30.6078, 30.6715, 31.1673, 16.1162,\n",
      "        17.0211, 17.9119, 18.6725, 17.9541, 17.8724, 17.7077, 32.4594, 17.1916,\n",
      "        34.4619, 33.8847, 19.2506, 18.8899, 33.9697, 32.6934, 32.4948, 16.9877],\n",
      "       device='cuda:0', dtype=torch.float64)\n",
      "\n"
     ]
    },
    {
     "name": "stderr",
     "output_type": "stream",
     "text": [
      "\r",
      "Eval:  64%|██████▎   | 705/1110 [08:20<05:00,  1.35it/s]"
     ]
    },
    {
     "name": "stdout",
     "output_type": "stream",
     "text": [
      "orientation_error\n",
      "tensor([16.8052, 17.1871, 17.6758, 17.3975, 17.8823, 17.8263, 18.0163, 18.7986,\n",
      "        34.2624, 34.1034, 19.4314, 19.6785, 19.8441, 18.5347, 32.4571, 32.0657,\n",
      "        32.0301, 31.4884, 31.3824, 16.5471, 16.9749, 16.2688, 16.2848, 17.2883,\n",
      "        16.7091, 17.1545, 18.3769, 34.0420, 34.0291, 33.9545, 34.5101, 34.1968],\n",
      "       device='cuda:0', dtype=torch.float64)\n",
      "\n"
     ]
    },
    {
     "name": "stderr",
     "output_type": "stream",
     "text": [
      "\r",
      "Eval:  64%|██████▎   | 706/1110 [08:20<04:34,  1.47it/s]"
     ]
    },
    {
     "name": "stdout",
     "output_type": "stream",
     "text": [
      "orientation_error\n",
      "tensor([34.7553, 34.7104, 19.2453, 33.8118, 17.6256, 17.6994, 17.9308, 19.1127,\n",
      "        19.3651, 20.4032, 20.7569, 19.3805, 17.9937, 18.3208, 18.8969, 19.4969,\n",
      "        19.0060, 35.2529, 36.4385, 35.2991, 34.3704, 33.7851, 32.9827, 32.4071,\n",
      "        32.4363, 32.1104, 17.3515, 17.2771, 16.6427, 17.5242, 17.9150, 18.4100],\n",
      "       device='cuda:0', dtype=torch.float64)\n",
      "\n"
     ]
    },
    {
     "name": "stderr",
     "output_type": "stream",
     "text": [
      "\r",
      "Eval:  64%|██████▎   | 707/1110 [08:21<04:29,  1.50it/s]"
     ]
    },
    {
     "name": "stdout",
     "output_type": "stream",
     "text": [
      "orientation_error\n",
      "tensor([19.0450, 19.2277, 33.7050, 34.3130, 33.6012, 33.8630, 33.4801, 32.4627,\n",
      "        17.3557, 17.6826, 17.3775, 17.1133, 16.8626, 16.3345, 16.7987, 16.9569,\n",
      "        17.4327, 17.4238, 18.1434, 18.4409, 18.3960, 18.4473, 18.8324, 19.1555,\n",
      "        19.7084, 35.0736, 34.7852, 19.6568, 20.4216, 19.0974, 33.9380, 33.1197],\n",
      "       device='cuda:0', dtype=torch.float64)\n",
      "\n"
     ]
    },
    {
     "name": "stderr",
     "output_type": "stream",
     "text": [
      "\r",
      "Eval:  64%|██████▍   | 708/1110 [08:22<04:39,  1.44it/s]"
     ]
    },
    {
     "name": "stdout",
     "output_type": "stream",
     "text": [
      "orientation_error\n",
      "tensor([33.5305, 32.9248, 32.4997, 31.5730, 16.0074, 16.1679, 15.9717, 17.4178,\n",
      "        16.3967, 15.4651, 15.6240, 16.0807, 16.4808, 30.5156, 30.1522, 30.5480,\n",
      "        30.5537, 29.8149, 14.2329, 30.2259, 32.0443, 32.1144, 31.9156, 32.8788,\n",
      "        31.9053, 18.2885, 18.7428, 18.9179, 20.0854, 20.0646, 18.9535, 19.1078],\n",
      "       device='cuda:0', dtype=torch.float64)\n",
      "\n"
     ]
    },
    {
     "name": "stderr",
     "output_type": "stream",
     "text": [
      "\r",
      "Eval:  64%|██████▍   | 709/1110 [08:22<04:27,  1.50it/s]"
     ]
    },
    {
     "name": "stdout",
     "output_type": "stream",
     "text": [
      "orientation_error\n",
      "tensor([19.5096, 25.4216, 36.7488, 38.1957, 40.9005, 31.0787, 36.2818, 30.6629,\n",
      "        38.1581, 33.2957, 40.2703, 53.1252, 49.5167, 56.7529, 42.5726, 37.4258,\n",
      "        35.8293, 36.1784, 34.3421, 21.2467, 19.3919, 17.3523, 16.4745, 15.5725,\n",
      "        15.7552, 15.0182, 14.8838, 15.1942, 16.6022, 18.0957, 18.9368, 33.6208],\n",
      "       device='cuda:0', dtype=torch.float64)\n",
      "\n"
     ]
    },
    {
     "name": "stderr",
     "output_type": "stream",
     "text": [
      "\r",
      "Eval:  64%|██████▍   | 710/1110 [08:23<04:12,  1.59it/s]"
     ]
    },
    {
     "name": "stdout",
     "output_type": "stream",
     "text": [
      "orientation_error\n",
      "tensor([33.4181, 33.6413, 33.4193, 34.1954, 34.5050, 35.2892, 35.8255, 34.7275,\n",
      "        35.0951, 35.3138, 34.6887, 21.7946, 23.2936, 20.6817, 19.4659, 20.0783,\n",
      "        20.8638, 19.9293, 21.1276, 22.0049, 36.4971, 35.3071, 19.2381, 19.8952,\n",
      "        20.9436, 21.1148, 22.8067, 22.1814, 21.0712, 20.6901, 20.4886, 21.8632],\n",
      "       device='cuda:0', dtype=torch.float64)\n",
      "\n"
     ]
    },
    {
     "name": "stderr",
     "output_type": "stream",
     "text": [
      "\r",
      "Eval:  64%|██████▍   | 711/1110 [08:23<03:57,  1.68it/s]"
     ]
    },
    {
     "name": "stdout",
     "output_type": "stream",
     "text": [
      "orientation_error\n",
      "tensor([21.6134, 20.7995, 19.5563, 20.4993, 21.4994, 34.4577, 20.9743, 21.4872,\n",
      "        20.2844, 19.4195, 20.0786, 18.8698, 19.0093, 18.7929, 19.0411, 18.9109,\n",
      "        18.3922, 17.8206, 18.4983, 20.2798, 22.0123, 20.3436, 19.8517, 19.7991,\n",
      "        20.2615, 20.2392, 20.1542, 19.7026, 19.4615, 19.7975, 19.4369, 18.9109],\n",
      "       device='cuda:0', dtype=torch.float64)\n",
      "\n"
     ]
    },
    {
     "name": "stderr",
     "output_type": "stream",
     "text": [
      "\r",
      "Eval:  64%|██████▍   | 712/1110 [08:24<03:45,  1.77it/s]"
     ]
    },
    {
     "name": "stdout",
     "output_type": "stream",
     "text": [
      "orientation_error\n",
      "tensor([18.5761, 17.8727, 31.8764, 33.1052, 33.2543, 34.8061, 21.3432, 21.3755,\n",
      "        35.1466, 18.9396, 18.0117, 18.1395, 18.4282, 18.4550, 32.8277, 32.2245,\n",
      "        33.0078, 33.5606, 34.0701, 35.1532, 35.4332, 35.3006, 33.9803, 34.1092,\n",
      "        34.5206, 19.6742, 19.2333, 19.6250, 20.7725, 20.1191, 19.9353, 18.7568],\n",
      "       device='cuda:0', dtype=torch.float64)\n",
      "\n"
     ]
    },
    {
     "name": "stderr",
     "output_type": "stream",
     "text": [
      "\r",
      "Eval:  64%|██████▍   | 713/1110 [08:25<05:13,  1.27it/s]"
     ]
    },
    {
     "name": "stdout",
     "output_type": "stream",
     "text": [
      "orientation_error\n",
      "tensor([18.5079, 33.4442, 34.9293, 35.5051, 35.7204, 36.3321, 22.4495, 20.7305,\n",
      "        35.3213, 20.0350, 19.5250, 19.5209, 20.1873, 20.9054, 20.8351, 20.4706,\n",
      "        19.7394, 18.9776, 19.5506, 34.3873, 35.2647, 19.9038, 20.4279, 20.7460,\n",
      "        20.4504, 20.5674, 20.3268, 20.3551, 20.1030, 20.6831, 20.8395, 20.0845],\n",
      "       device='cuda:0', dtype=torch.float64)\n",
      "\n"
     ]
    },
    {
     "name": "stderr",
     "output_type": "stream",
     "text": [
      "\r",
      "Eval:  64%|██████▍   | 714/1110 [08:25<04:22,  1.51it/s]"
     ]
    },
    {
     "name": "stdout",
     "output_type": "stream",
     "text": [
      "orientation_error\n",
      "tensor([19.3486, 18.8249, 19.8669, 35.7482, 35.6105, 20.8798, 20.3491, 19.4879,\n",
      "        20.0439, 19.1982, 18.0476, 18.5610, 19.2865, 19.1509, 19.6995, 19.3145,\n",
      "        20.2042, 36.7776, 37.9522, 39.2254, 24.2722, 23.3897, 22.1929, 20.9402,\n",
      "        20.7530, 20.6232, 20.3483, 21.0076, 20.9686, 20.4585, 19.6315, 19.3503],\n",
      "       device='cuda:0', dtype=torch.float64)\n",
      "\n"
     ]
    },
    {
     "name": "stderr",
     "output_type": "stream",
     "text": [
      "\r",
      "Eval:  64%|██████▍   | 715/1110 [08:26<04:18,  1.53it/s]"
     ]
    },
    {
     "name": "stdout",
     "output_type": "stream",
     "text": [
      "orientation_error\n",
      "tensor([34.3218, 34.8736, 36.1720, 36.3188, 38.4594, 37.9969, 35.2165, 34.0212,\n",
      "        19.9588, 19.4739, 18.7594, 18.1530, 18.1302, 18.1207, 18.3083, 18.3523,\n",
      "        33.3967, 34.3734, 35.6133, 36.1309, 35.3764, 19.8218, 20.5983, 20.4345,\n",
      "        20.7093, 20.1760, 21.3061, 20.2712, 19.8812, 19.2807, 19.4033, 19.5159],\n",
      "       device='cuda:0', dtype=torch.float64)\n",
      "\n"
     ]
    },
    {
     "name": "stderr",
     "output_type": "stream",
     "text": [
      "\r",
      "Eval:  65%|██████▍   | 716/1110 [08:26<03:48,  1.72it/s]"
     ]
    },
    {
     "name": "stdout",
     "output_type": "stream",
     "text": [
      "orientation_error\n",
      "tensor([21.0237, 36.4308, 20.6626, 21.5343, 19.3254, 18.5805, 18.7988, 18.6133,\n",
      "        17.9958, 18.6025, 18.4306, 18.9566, 19.0412, 19.5122, 20.1894, 35.7382,\n",
      "        37.0121, 39.5171, 23.9491, 23.9189, 22.5722, 22.5414, 21.4636, 20.1302,\n",
      "        19.3148, 18.8683, 18.9939, 19.5504, 18.2806, 33.7081, 34.2614, 35.9180],\n",
      "       device='cuda:0', dtype=torch.float64)\n",
      "\n",
      "orientation_error\n",
      "tensor([34.7959, 35.5410, 37.0876, 20.9770, 19.3642, 33.6068, 18.1572, 17.0093,\n",
      "        15.8159, 16.7110, 17.7912, 33.3608, 34.9231, 35.4924, 38.5760, 39.7428,\n",
      "        41.4546, 39.9788, 40.1187, 37.4248, 36.1973, 21.0659, 34.6097, 34.5154,\n",
      "        19.2974, 20.1262, 35.1404, 33.4102, 34.6020, 37.3489, 40.2294, 40.1527],\n",
      "       device='cuda:0', dtype=torch.float64)\n",
      "\n"
     ]
    },
    {
     "name": "stderr",
     "output_type": "stream",
     "text": [
      "Eval:  65%|██████▍   | 718/1110 [08:28<03:52,  1.69it/s]"
     ]
    },
    {
     "name": "stdout",
     "output_type": "stream",
     "text": [
      "orientation_error\n",
      "tensor([40.3640, 40.5657, 39.5262, 38.5349, 36.0415, 34.9857, 19.4429, 19.0218,\n",
      "        19.9612, 21.1562, 22.8846, 41.0055, 30.1842, 35.3201, 52.0098, 37.0968,\n",
      "        50.1375, 28.9992, 41.5016, 26.0626, 25.6202, 23.5127, 20.9607, 18.9386,\n",
      "        20.2514, 35.9118, 39.9531, 39.5637, 39.3297, 37.2908, 38.0259, 40.8262],\n",
      "       device='cuda:0', dtype=torch.float64)\n",
      "\n"
     ]
    },
    {
     "name": "stderr",
     "output_type": "stream",
     "text": [
      "\r",
      "Eval:  65%|██████▍   | 719/1110 [08:28<03:52,  1.68it/s]"
     ]
    },
    {
     "name": "stdout",
     "output_type": "stream",
     "text": [
      "orientation_error\n",
      "tensor([47.9009, 26.9872, 20.7200, 32.7077, 16.4171, 16.2069, 16.9221, 31.8309,\n",
      "        33.4400, 36.0024, 38.1538, 43.9842, 33.4689, 34.8147, 36.6303, 36.0040,\n",
      "        30.0418, 39.9592, 36.0302, 34.7668, 19.8499, 19.9123, 33.6389, 33.7123,\n",
      "        34.5835, 35.9392, 37.1008, 38.8389, 46.8787, 46.5085, 43.5075, 39.0276],\n",
      "       device='cuda:0', dtype=torch.float64)\n",
      "\n"
     ]
    },
    {
     "name": "stderr",
     "output_type": "stream",
     "text": [
      "\r",
      "Eval:  65%|██████▍   | 720/1110 [08:29<04:03,  1.60it/s]"
     ]
    },
    {
     "name": "stdout",
     "output_type": "stream",
     "text": [
      "orientation_error\n",
      "tensor([23.5384, 18.6438, 17.6080, 17.1113, 16.6105, 31.6643, 33.7825, 34.8629,\n",
      "        36.3370, 40.6607, 32.4346, 37.0178, 39.5113, 40.3499, 38.8857, 38.4783,\n",
      "        39.3878, 40.7736, 57.4007, 42.6347, 43.2796, 44.2026, 59.5715, 49.8774,\n",
      "        40.6982, 40.2095, 40.9463, 41.2022, 42.1152, 41.1846, 40.0942, 39.6464],\n",
      "       device='cuda:0', dtype=torch.float64)\n",
      "\n",
      "MPJPE: 96.41934391015607\n",
      "Reconstruction Error: 59.00512574593859\n",
      "\n",
      "Orientation error: 31.95193182183469\n"
     ]
    },
    {
     "name": "stderr",
     "output_type": "stream",
     "text": [
      "\r",
      "Eval:  65%|██████▍   | 721/1110 [08:30<04:02,  1.60it/s]"
     ]
    },
    {
     "name": "stdout",
     "output_type": "stream",
     "text": [
      "orientation_error\n",
      "tensor([39.4586, 38.2634, 37.5027, 37.6672, 37.9915, 36.5875, 35.6565, 36.1010,\n",
      "        36.7066, 37.2704, 38.1450, 39.1849, 39.2278, 40.4345, 40.5759, 51.2989,\n",
      "        58.8671, 57.4241, 55.0618, 48.4514, 43.6879, 39.4473, 38.3388, 38.3090,\n",
      "        38.2219, 38.2545, 37.3932, 36.7600, 36.3692, 36.9091, 37.1854, 36.5283],\n",
      "       device='cuda:0', dtype=torch.float64)\n",
      "\n"
     ]
    },
    {
     "name": "stderr",
     "output_type": "stream",
     "text": [
      "\r",
      "Eval:  65%|██████▌   | 722/1110 [08:30<03:52,  1.67it/s]"
     ]
    },
    {
     "name": "stdout",
     "output_type": "stream",
     "text": [
      "orientation_error\n",
      "tensor([35.8146, 36.2149, 34.5007, 35.2474, 20.1739, 19.8757, 33.2825, 32.6151,\n",
      "        32.2251, 32.6759, 32.7491, 33.3014, 34.5181, 35.8298, 36.6491, 37.4453,\n",
      "        38.4484, 36.5049, 35.6766, 35.0131, 19.0910, 18.9538, 19.3473, 20.1544,\n",
      "        20.4832, 35.4240, 34.9865, 34.7280, 36.4436, 37.9516, 37.4148, 38.1331],\n",
      "       device='cuda:0', dtype=torch.float64)\n",
      "\n"
     ]
    },
    {
     "name": "stderr",
     "output_type": "stream",
     "text": [
      "\r",
      "Eval:  65%|██████▌   | 723/1110 [08:31<03:41,  1.75it/s]"
     ]
    },
    {
     "name": "stdout",
     "output_type": "stream",
     "text": [
      "orientation_error\n",
      "tensor([37.4986, 37.1530, 37.5702, 37.1084, 35.5807, 37.5005, 37.2565, 36.7138,\n",
      "        36.2452, 33.4597, 34.7916, 18.2541, 18.4640, 32.7902, 32.6481, 32.7556,\n",
      "        31.7349, 17.0535, 16.8732, 16.8576, 17.2104, 17.1313, 31.2409, 30.7492,\n",
      "        16.6071, 33.4741, 33.5927, 33.3591, 33.5970, 33.5161, 20.0626, 20.0146],\n",
      "       device='cuda:0', dtype=torch.float64)\n",
      "\n"
     ]
    },
    {
     "name": "stderr",
     "output_type": "stream",
     "text": [
      "\r",
      "Eval:  65%|██████▌   | 724/1110 [08:31<03:43,  1.72it/s]"
     ]
    },
    {
     "name": "stdout",
     "output_type": "stream",
     "text": [
      "orientation_error\n",
      "tensor([20.3754, 34.0570, 34.0730, 34.0151, 33.9474, 34.0631, 34.0030, 33.7298,\n",
      "        33.8503, 33.9933, 33.7983, 34.0242, 34.0284, 34.5278, 34.6447, 34.6599,\n",
      "        34.7602, 35.0610, 35.3384, 35.6566, 35.8166, 35.8827, 35.8748, 35.5029,\n",
      "        35.4587, 35.4058, 35.1477, 34.9056, 35.0875, 35.0380, 34.6501, 34.4084],\n",
      "       device='cuda:0', dtype=torch.float64)\n",
      "\n"
     ]
    },
    {
     "name": "stderr",
     "output_type": "stream",
     "text": [
      "\r",
      "Eval:  65%|██████▌   | 725/1110 [08:32<03:54,  1.64it/s]"
     ]
    },
    {
     "name": "stdout",
     "output_type": "stream",
     "text": [
      "orientation_error\n",
      "tensor([34.2815, 34.0709, 33.9807, 33.8708, 33.9764, 34.0050, 34.0029, 32.7522,\n",
      "        32.5579, 32.3477, 32.6487, 32.7374, 32.8750, 33.0810, 33.3784, 33.8404,\n",
      "        34.1078, 34.4498, 34.5531, 34.7035, 34.9505, 34.8831, 34.7041, 34.3356,\n",
      "        33.8597, 33.3756, 33.4794, 33.8447, 34.3026, 34.1600, 33.9957, 33.9185],\n",
      "       device='cuda:0', dtype=torch.float64)\n",
      "\n"
     ]
    },
    {
     "name": "stderr",
     "output_type": "stream",
     "text": [
      "\r",
      "Eval:  65%|██████▌   | 726/1110 [08:33<03:47,  1.69it/s]"
     ]
    },
    {
     "name": "stdout",
     "output_type": "stream",
     "text": [
      "orientation_error\n",
      "tensor([34.3644, 34.4565, 18.8591, 18.8325, 18.8754, 22.2863, 24.3550, 30.8601,\n",
      "        24.7043, 29.6943, 32.0438, 33.1935, 33.0802, 33.2167, 25.8755, 24.3503,\n",
      "        23.0620, 20.8220, 20.8619, 21.1113, 19.1020, 19.8477, 19.6431, 19.3882,\n",
      "        19.5107, 19.4685, 19.6889, 19.5228, 19.6960, 19.1364, 19.2577, 18.5024],\n",
      "       device='cuda:0', dtype=torch.float64)\n",
      "\n"
     ]
    },
    {
     "name": "stderr",
     "output_type": "stream",
     "text": [
      "\r",
      "Eval:  65%|██████▌   | 727/1110 [08:33<03:51,  1.66it/s]"
     ]
    },
    {
     "name": "stdout",
     "output_type": "stream",
     "text": [
      "orientation_error\n",
      "tensor([18.3496, 17.8527, 31.8841, 31.0223, 30.6321, 15.5759, 14.7619, 15.0154,\n",
      "        15.3122, 16.4077, 16.7336, 16.5319, 15.2979, 14.9059, 15.2604, 16.4018,\n",
      "        16.9808, 17.2195, 17.3910, 17.9025, 18.5262, 19.2361, 20.1053, 18.8723,\n",
      "        18.5426, 16.8631, 16.3966, 16.0152, 16.0337, 16.0252, 16.1714, 17.0434],\n",
      "       device='cuda:0', dtype=torch.float64)\n",
      "\n"
     ]
    },
    {
     "name": "stderr",
     "output_type": "stream",
     "text": [
      "\r",
      "Eval:  66%|██████▌   | 728/1110 [08:34<04:02,  1.57it/s]"
     ]
    },
    {
     "name": "stdout",
     "output_type": "stream",
     "text": [
      "orientation_error\n",
      "tensor([17.2558, 32.3251, 32.5351, 17.9669, 32.5066, 32.5608, 32.2944, 32.0723,\n",
      "        32.2993, 16.6458, 17.0952, 18.0533, 18.1039, 18.3382, 18.7229, 17.6727,\n",
      "        18.1433, 18.4775, 18.6325, 18.5225, 19.6474, 18.6360, 18.1674, 16.6909,\n",
      "        16.3545, 16.1678, 15.2156, 14.6825, 15.8710, 16.3489, 16.9134, 17.2555],\n",
      "       device='cuda:0', dtype=torch.float64)\n",
      "\n",
      "orientation_error\n",
      "tensor([17.1709, 17.5774, 16.8251, 16.3456, 17.0311, 17.7337, 18.4077, 36.7219,\n",
      "        24.7752, 25.8527, 20.2071, 19.8192, 19.2955, 18.8971, 19.0808, 18.6551,\n",
      "        18.6289, 18.1035, 17.4030, 18.5193, 18.3769, 19.5214, 21.1280, 21.4778,\n",
      "        21.1715, 21.3856, 24.0296, 21.0425, 20.2737, 22.9142, 20.3045, 17.7312],\n",
      "       device='cuda:0', dtype=torch.float64)\n",
      "\n"
     ]
    },
    {
     "name": "stderr",
     "output_type": "stream",
     "text": [
      "Eval:  66%|██████▌   | 730/1110 [08:35<04:01,  1.57it/s]"
     ]
    },
    {
     "name": "stdout",
     "output_type": "stream",
     "text": [
      "orientation_error\n",
      "tensor([15.9176, 15.4685, 15.0620, 15.5968, 16.3898, 17.1717, 17.9771, 19.0517,\n",
      "        19.8236, 18.8511, 19.0853, 21.9223, 21.7264, 17.9557, 16.9889, 17.2665,\n",
      "        16.7787, 32.3795, 31.3065, 30.8117, 30.0286, 15.3750, 16.1484, 16.5205,\n",
      "        16.5178, 17.0981, 17.7107, 19.0280, 18.8768, 34.4531, 33.8530, 19.7641],\n",
      "       device='cuda:0', dtype=torch.float64)\n",
      "\n"
     ]
    },
    {
     "name": "stderr",
     "output_type": "stream",
     "text": [
      "\r",
      "Eval:  66%|██████▌   | 731/1110 [08:36<04:06,  1.54it/s]"
     ]
    },
    {
     "name": "stdout",
     "output_type": "stream",
     "text": [
      "orientation_error\n",
      "tensor([20.0078, 20.5997, 20.9665, 22.0943, 22.6816, 22.7843, 23.5596, 22.8262,\n",
      "        22.8552, 22.4820, 37.2189, 36.5768, 36.0665, 36.0898, 35.2982, 34.5601,\n",
      "        34.4441, 34.2066, 34.5041, 19.2949, 19.2591, 18.7098, 19.7820, 19.8323,\n",
      "        19.8427, 20.1057, 21.4856, 21.1201, 36.1242, 35.6864, 35.2005, 34.8000],\n",
      "       device='cuda:0', dtype=torch.float64)\n",
      "\n"
     ]
    },
    {
     "name": "stderr",
     "output_type": "stream",
     "text": [
      "\r",
      "Eval:  66%|██████▌   | 732/1110 [08:36<04:03,  1.55it/s]"
     ]
    },
    {
     "name": "stdout",
     "output_type": "stream",
     "text": [
      "orientation_error\n",
      "tensor([34.8350, 19.7125, 34.4920, 20.2136, 20.7551, 21.0878, 21.4931, 22.0774,\n",
      "        22.3883, 22.2211, 21.4426, 21.8915, 22.1114, 22.6284, 21.1004, 21.4768,\n",
      "        20.8207, 20.2001, 34.7185, 34.7741, 34.7069, 19.5774, 19.1762, 19.0365,\n",
      "        17.4404, 16.9114, 16.4261, 17.2451, 17.8241, 18.7306, 18.2132, 19.3372],\n",
      "       device='cuda:0', dtype=torch.float64)\n",
      "\n",
      "orientation_error\n",
      "tensor([19.6124, 34.3529, 19.0406, 17.9568, 19.2092, 19.9125, 20.7787, 20.8318,\n",
      "        21.3602, 21.2077, 21.2619, 21.1013, 20.4731, 20.2756, 20.3155, 20.9479,\n",
      "        20.8166, 35.0318, 36.2729, 36.5690, 35.7709, 35.5495, 34.0452, 33.5769,\n",
      "        33.3075, 33.3037, 18.9793, 18.4708, 19.1493, 19.5563, 19.3674, 19.6552],\n",
      "       device='cuda:0', dtype=torch.float64)\n",
      "\n"
     ]
    },
    {
     "name": "stderr",
     "output_type": "stream",
     "text": [
      "Eval:  66%|██████▌   | 734/1110 [08:38<04:15,  1.47it/s]"
     ]
    },
    {
     "name": "stdout",
     "output_type": "stream",
     "text": [
      "orientation_error\n",
      "tensor([20.2641, 21.1543, 22.3356, 22.2402, 22.0745, 22.4714, 22.6625, 21.2762,\n",
      "        22.1899, 21.7376, 21.6749, 22.1603, 21.9134, 22.0428, 37.4184, 37.1229,\n",
      "        36.1326, 20.4141, 19.8047, 34.4546, 18.4847, 18.1706, 19.0137, 18.7891,\n",
      "        18.1283, 17.8234, 17.2670, 18.0185, 18.3921, 19.7102, 20.9501, 21.4583],\n",
      "       device='cuda:0', dtype=torch.float64)\n",
      "\n"
     ]
    },
    {
     "name": "stderr",
     "output_type": "stream",
     "text": [
      "\r",
      "Eval:  66%|██████▌   | 735/1110 [08:39<04:22,  1.43it/s]"
     ]
    },
    {
     "name": "stdout",
     "output_type": "stream",
     "text": [
      "orientation_error\n",
      "tensor([20.2352, 20.6717, 22.1268, 19.6993, 19.7589, 21.5882, 20.1769, 19.7575,\n",
      "        19.2435, 19.1882, 18.7874, 33.5002, 19.6994, 20.0314, 21.0789, 20.9230,\n",
      "        21.3805, 21.7988, 21.6695, 20.8656, 21.5584, 21.5346, 20.5303, 36.2977,\n",
      "        36.6018, 36.6560, 36.4373, 36.3797, 35.9785, 34.3223, 33.4852, 33.1561],\n",
      "       device='cuda:0', dtype=torch.float64)\n",
      "\n",
      "orientation_error\n",
      "tensor([32.1731, 31.9523, 17.2371, 17.2366, 18.0433, 18.3161, 17.9102, 18.8801,\n",
      "        19.4549, 34.4356, 35.0659, 19.8503, 18.7071, 19.2037, 34.4152, 18.9771,\n",
      "        33.9359, 33.8220, 33.9668, 19.1510, 19.0084, 18.7274, 18.9622, 19.4395,\n",
      "        19.7315, 19.8124, 20.3542, 19.9927, 34.4261, 35.1258, 34.4131, 33.3867],\n",
      "       device='cuda:0', dtype=torch.float64)\n",
      "\n"
     ]
    },
    {
     "name": "stderr",
     "output_type": "stream",
     "text": [
      "Eval:  66%|██████▋   | 737/1110 [08:40<04:28,  1.39it/s]"
     ]
    },
    {
     "name": "stdout",
     "output_type": "stream",
     "text": [
      "orientation_error\n",
      "tensor([17.6407, 31.6920, 31.5519, 31.2651, 31.0785, 16.2974, 16.5458, 17.4640,\n",
      "        17.8384, 17.7116, 18.3212, 17.5341, 17.1366, 16.3507, 16.4926, 17.3144,\n",
      "        33.5205, 18.1697, 18.6154, 19.1261, 19.7045, 20.6591, 21.9378, 22.0361,\n",
      "        21.8501, 34.8265, 34.3667, 32.3453, 31.5902, 31.4641, 33.4906, 32.2239],\n",
      "       device='cuda:0', dtype=torch.float64)\n",
      "\n"
     ]
    },
    {
     "name": "stderr",
     "output_type": "stream",
     "text": [
      "\r",
      "Eval:  66%|██████▋   | 738/1110 [08:41<05:30,  1.12it/s]"
     ]
    },
    {
     "name": "stdout",
     "output_type": "stream",
     "text": [
      "orientation_error\n",
      "tensor([18.2248, 18.6448, 20.7421, 20.8092, 34.1493, 34.1678, 18.9719, 33.8714,\n",
      "        33.6636, 32.9610, 33.2496, 19.1451, 19.9976, 21.0892, 21.3560, 21.6465,\n",
      "        19.9728, 19.1504, 19.4952, 18.5057, 32.6818, 31.9365, 31.0938, 30.3744,\n",
      "        29.9150, 30.5515, 16.4442, 17.1808, 18.4792, 20.2710, 21.8973, 21.5516],\n",
      "       device='cuda:0', dtype=torch.float64)\n",
      "\n"
     ]
    },
    {
     "name": "stderr",
     "output_type": "stream",
     "text": [
      "\r",
      "Eval:  67%|██████▋   | 739/1110 [08:42<05:05,  1.21it/s]"
     ]
    },
    {
     "name": "stdout",
     "output_type": "stream",
     "text": [
      "orientation_error\n",
      "tensor([36.6356, 37.5789, 22.5485, 21.7928, 36.5880, 36.8638, 23.0856, 35.5669,\n",
      "        36.1624, 36.0861, 35.0683, 34.8570, 34.5513, 33.0325, 32.4504, 32.3808,\n",
      "        33.7051, 34.2113, 33.5570, 19.1558, 19.4426, 33.2533, 32.0844, 16.5341,\n",
      "        17.2504, 19.5109, 19.6077, 19.2061, 20.3578, 35.2735, 35.7197, 36.7189],\n",
      "       device='cuda:0', dtype=torch.float64)\n",
      "\n"
     ]
    },
    {
     "name": "stderr",
     "output_type": "stream",
     "text": [
      "\r",
      "Eval:  67%|██████▋   | 740/1110 [08:43<05:02,  1.22it/s]"
     ]
    },
    {
     "name": "stdout",
     "output_type": "stream",
     "text": [
      "orientation_error\n",
      "tensor([37.9036, 38.5025, 39.1615, 39.8155, 39.8597, 39.6032, 41.2466, 42.4532,\n",
      "        51.2601, 44.7538, 40.5918, 39.0905, 40.5908, 41.3647, 39.5942, 39.4875,\n",
      "        39.1181, 38.0272, 37.7177, 38.4711, 23.1652, 22.3920, 21.4786, 21.8612,\n",
      "        20.6955, 21.1977, 20.7941, 21.0461, 20.6207, 21.3739, 21.9041, 23.0714],\n",
      "       device='cuda:0', dtype=torch.float64)\n",
      "\n",
      "MPJPE: 95.87445049866447\n",
      "Reconstruction Error: 58.89322934042113\n",
      "\n",
      "Orientation error: 31.810444750538654\n",
      "orientation_error\n",
      "tensor([22.8734, 23.7755, 22.5399, 21.2828, 20.4858, 19.3913, 18.5588, 18.8501,\n",
      "        18.2141, 17.8379, 18.4155, 20.0772, 21.2010, 20.9262, 19.6846, 21.3559,\n",
      "        21.0913, 20.8401, 21.2669, 20.3203, 21.7444, 21.0533, 20.7817, 20.1275,\n",
      "        20.9692, 20.6742, 20.0900, 19.5226, 19.6552, 21.0546, 20.9019, 21.1648],\n",
      "       device='cuda:0', dtype=torch.float64)\n",
      "\n"
     ]
    },
    {
     "name": "stderr",
     "output_type": "stream",
     "text": [
      "\r",
      "Eval:  67%|██████▋   | 741/1110 [08:44<05:00,  1.23it/s]"
     ]
    },
    {
     "name": "stdout",
     "output_type": "stream",
     "text": [
      "orientation_error\n",
      "tensor([20.4564, 18.7795, 18.1510, 19.2431, 19.1053, 18.3473, 17.9699, 16.9198,\n",
      "        16.4792, 16.4595, 18.1663, 19.0599, 19.4150, 20.4869, 23.0838, 24.6394,\n",
      "        24.0192, 24.5009, 23.3008, 22.5387, 21.4148, 20.2836, 19.0899, 18.0548,\n",
      "        17.7830, 18.5413, 20.1433, 20.4815, 20.9948, 21.5261, 20.8796, 20.2069],\n",
      "       device='cuda:0', dtype=torch.float64)\n",
      "\n"
     ]
    },
    {
     "name": "stderr",
     "output_type": "stream",
     "text": [
      "\r",
      "Eval:  67%|██████▋   | 742/1110 [08:45<05:14,  1.17it/s]"
     ]
    },
    {
     "name": "stdout",
     "output_type": "stream",
     "text": [
      "orientation_error\n",
      "tensor([19.4321, 17.6429, 17.6475, 16.7224, 17.6084, 18.7811, 18.6205, 21.4061,\n",
      "        22.5882, 23.7985, 22.7150, 23.7053, 23.4406, 22.8872, 20.7590, 20.2807,\n",
      "        19.5050, 19.0321, 18.7097, 18.9507, 19.0620, 21.4473, 22.9336, 22.6125,\n",
      "        21.7098, 19.7734, 19.2476, 17.9397, 16.6779, 16.6978, 17.3484, 17.4872],\n",
      "       device='cuda:0', dtype=torch.float64)\n",
      "\n"
     ]
    },
    {
     "name": "stderr",
     "output_type": "stream",
     "text": [
      "\r",
      "Eval:  67%|██████▋   | 743/1110 [08:46<05:26,  1.12it/s]"
     ]
    },
    {
     "name": "stdout",
     "output_type": "stream",
     "text": [
      "orientation_error\n",
      "tensor([18.8448, 20.4497, 21.4363, 22.6107, 24.4094, 24.5419, 24.4317, 22.4357,\n",
      "        21.6672, 20.4193, 19.4919, 19.1585, 19.0388, 19.5703, 20.2385, 21.0453,\n",
      "        20.8815, 21.4949, 21.3544, 21.0780, 20.9011, 36.8895, 37.2942, 24.2472,\n",
      "        26.1794, 41.3569, 40.5616, 37.6625, 23.0859, 20.4018, 19.5839, 22.2504],\n",
      "       device='cuda:0', dtype=torch.float64)\n",
      "\n"
     ]
    },
    {
     "name": "stderr",
     "output_type": "stream",
     "text": [
      "\r",
      "Eval:  67%|██████▋   | 744/1110 [08:46<05:06,  1.20it/s]"
     ]
    },
    {
     "name": "stdout",
     "output_type": "stream",
     "text": [
      "orientation_error\n",
      "tensor([18.8447, 18.1742, 20.0482, 21.1270, 20.1717, 21.0681, 20.8722, 20.1202,\n",
      "        20.1970, 20.2537, 19.2328, 19.9782, 18.7766, 19.9048, 19.4441, 18.8729,\n",
      "        19.1395, 20.9497, 20.9901, 22.4214, 23.7231, 26.0461, 25.8696, 25.0369,\n",
      "        24.2864, 22.3522, 21.7616, 21.4351, 21.0257, 20.8950, 20.5057, 20.0906],\n",
      "       device='cuda:0', dtype=torch.float64)\n",
      "\n"
     ]
    },
    {
     "name": "stderr",
     "output_type": "stream",
     "text": [
      "Eval:  67%|██████▋   | 746/1110 [08:48<05:00,  1.21it/s]"
     ]
    },
    {
     "name": "stdout",
     "output_type": "stream",
     "text": [
      "orientation_error\n",
      "tensor([19.7641, 20.1336, 21.8201, 22.2676, 22.4011, 23.7185, 22.5754, 20.9234,\n",
      "        20.1615, 19.2322, 20.3423, 20.7934, 21.1002, 21.3404, 38.4836, 38.5825,\n",
      "        41.2059, 29.9773, 46.8903, 49.4443, 49.8005, 47.1798, 42.7082, 40.4289,\n",
      "        38.5936, 36.5938, 36.0934, 36.2883, 35.1339, 34.4847, 38.3019, 39.5663],\n",
      "       device='cuda:0', dtype=torch.float64)\n",
      "\n"
     ]
    },
    {
     "name": "stderr",
     "output_type": "stream",
     "text": [
      "\r",
      "Eval:  67%|██████▋   | 747/1110 [08:49<04:30,  1.34it/s]"
     ]
    },
    {
     "name": "stdout",
     "output_type": "stream",
     "text": [
      "orientation_error\n",
      "tensor([24.3750, 37.3112, 35.3939, 34.1257, 18.2413, 18.1955, 18.4599, 18.2698,\n",
      "        19.3830, 20.0470, 19.8923, 20.2567, 20.4552, 21.1971, 20.8636, 19.9074,\n",
      "        19.1623, 18.2327, 17.3683, 16.7955, 16.1674, 16.5314, 18.0859, 19.8561,\n",
      "        20.4674, 21.3624, 21.8362, 21.6994, 21.6974, 22.0107, 22.1299, 22.1861],\n",
      "       device='cuda:0', dtype=torch.float64)\n",
      "\n"
     ]
    },
    {
     "name": "stderr",
     "output_type": "stream",
     "text": [
      "\r",
      "Eval:  67%|██████▋   | 748/1110 [08:49<04:06,  1.47it/s]"
     ]
    },
    {
     "name": "stdout",
     "output_type": "stream",
     "text": [
      "orientation_error\n",
      "tensor([21.5247, 20.2891, 19.7922, 18.9814, 19.3104, 33.7440, 33.6947, 32.8249,\n",
      "        33.9427, 36.0281, 36.1271, 35.5148, 21.8624, 22.6499, 21.1058, 21.1529,\n",
      "        20.8786, 20.2003, 19.9686, 20.3931, 20.5766, 21.0222, 21.0034, 20.6581,\n",
      "        19.5241, 20.1222, 20.3311, 20.3281, 20.5234, 21.2213, 21.0068, 20.8521],\n",
      "       device='cuda:0', dtype=torch.float64)\n",
      "\n"
     ]
    },
    {
     "name": "stderr",
     "output_type": "stream",
     "text": [
      "\r",
      "Eval:  67%|██████▋   | 749/1110 [08:50<04:13,  1.43it/s]"
     ]
    },
    {
     "name": "stdout",
     "output_type": "stream",
     "text": [
      "orientation_error\n",
      "tensor([20.6747, 21.5421, 20.7624, 18.8689, 32.3012, 30.6818, 30.3458, 31.2441,\n",
      "        32.4298, 32.9814, 33.3010, 20.0233, 24.4941, 26.4989, 25.0539, 39.9363,\n",
      "        38.8494, 36.9940, 35.0388, 33.5551, 31.8780, 17.4576, 31.7661, 32.1853,\n",
      "        32.1195, 31.6339, 32.6055, 33.9679, 34.5629, 21.4497, 21.4999, 34.9549],\n",
      "       device='cuda:0', dtype=torch.float64)\n",
      "\n"
     ]
    },
    {
     "name": "stderr",
     "output_type": "stream",
     "text": [
      "\r",
      "Eval:  68%|██████▊   | 750/1110 [08:51<04:12,  1.43it/s]"
     ]
    },
    {
     "name": "stdout",
     "output_type": "stream",
     "text": [
      "orientation_error\n",
      "tensor([33.7738, 30.9525, 29.8937, 29.9532, 30.8584, 32.6202, 20.5600, 21.7849,\n",
      "        22.4966, 21.7376, 21.2631, 22.6973, 21.2871, 22.4022, 36.6971, 35.6498,\n",
      "        20.9532, 20.2320, 19.8374, 33.5057, 33.0240, 33.4394, 18.7403, 18.6576,\n",
      "        18.1629, 17.8987, 17.8470, 18.4990, 19.9383, 21.5896, 21.5566, 21.6135],\n",
      "       device='cuda:0', dtype=torch.float64)\n",
      "\n"
     ]
    },
    {
     "name": "stderr",
     "output_type": "stream",
     "text": [
      "\r",
      "Eval:  68%|██████▊   | 751/1110 [08:51<04:12,  1.42it/s]"
     ]
    },
    {
     "name": "stdout",
     "output_type": "stream",
     "text": [
      "orientation_error\n",
      "tensor([19.2615, 18.2828, 19.1764, 17.3717, 16.0551, 16.8152, 17.3256, 17.8305,\n",
      "        18.3600, 19.4560, 21.4139, 37.2486, 37.6472, 37.5817, 38.5075, 22.5633,\n",
      "        21.8098, 22.0913, 21.0202, 19.3703, 18.4792, 17.7856, 18.0927, 18.8344,\n",
      "        19.0722, 19.1129, 33.1542, 32.6828, 32.8537, 33.0751, 33.3855, 32.5286],\n",
      "       device='cuda:0', dtype=torch.float64)\n",
      "\n",
      "orientation_error\n",
      "tensor([33.0281, 33.0891, 18.9347, 18.3836, 18.1800, 17.2924, 16.8780, 30.6953,\n",
      "        30.4557, 30.3901, 31.3349, 31.6121, 32.7060, 33.0461, 33.3705, 33.8154,\n",
      "        33.6155, 33.2013, 33.2709, 33.3485, 33.8557, 32.9706, 32.6202, 32.0416,\n",
      "        33.4319, 34.0259, 34.3264, 34.7759, 33.9968, 33.9426, 33.2740, 33.7765],\n",
      "       device='cuda:0', dtype=torch.float64)\n",
      "\n"
     ]
    },
    {
     "name": "stderr",
     "output_type": "stream",
     "text": [
      "\r",
      "Eval:  68%|██████▊   | 752/1110 [08:52<04:41,  1.27it/s]"
     ]
    },
    {
     "name": "stdout",
     "output_type": "stream",
     "text": [
      "orientation_error\n",
      "tensor([34.1000, 18.6246, 18.3724, 18.0318, 32.9714, 16.8762, 31.7812, 16.2920,\n",
      "        29.6608, 29.9744, 29.9013, 29.7338, 29.8288, 30.7797, 32.2188, 34.5847,\n",
      "        35.0445, 37.3727, 35.7577, 34.0428, 33.4908, 32.9469, 32.6926, 33.8768,\n",
      "        34.6028, 33.6215, 33.6301, 34.4416, 36.1062, 36.2895, 21.6377, 22.6088],\n",
      "       device='cuda:0', dtype=torch.float64)\n",
      "\n"
     ]
    },
    {
     "name": "stderr",
     "output_type": "stream",
     "text": [
      "Eval:  68%|██████▊   | 754/1110 [08:54<05:24,  1.10it/s]"
     ]
    },
    {
     "name": "stdout",
     "output_type": "stream",
     "text": [
      "orientation_error\n",
      "tensor([23.6552, 38.7227, 38.7652, 38.1387, 38.2921, 35.7192, 34.3142, 34.7972,\n",
      "        32.2975, 31.1714, 30.3761, 30.9004, 31.1775, 31.2152, 32.3623, 32.6049,\n",
      "        32.1068, 34.4261, 34.5839, 34.2296, 34.4550, 34.5287, 35.4263, 34.8649,\n",
      "        35.1112, 35.4812, 35.7773, 35.8610, 36.2519, 36.5312, 36.5200, 36.7028],\n",
      "       device='cuda:0', dtype=torch.float64)\n",
      "\n"
     ]
    },
    {
     "name": "stderr",
     "output_type": "stream",
     "text": [
      "\r",
      "Eval:  68%|██████▊   | 755/1110 [08:55<04:51,  1.22it/s]"
     ]
    },
    {
     "name": "stdout",
     "output_type": "stream",
     "text": [
      "orientation_error\n",
      "tensor([36.3453, 36.3788, 36.5112, 36.5551, 36.3873, 35.9723, 35.9527, 36.1494,\n",
      "        35.8164, 35.8024, 36.0182, 35.7283, 35.4351, 35.2324, 35.2018, 35.4467,\n",
      "        34.8488, 34.8452, 34.9616, 35.3476, 35.4446, 38.8566, 38.3882, 38.1617,\n",
      "        37.8906, 37.6661, 37.4113, 37.4857, 37.6492, 37.6748, 37.6595, 37.6652],\n",
      "       device='cuda:0', dtype=torch.float64)\n",
      "\n",
      "orientation_error\n",
      "tensor([37.6446, 37.8665, 37.9509, 37.5181, 37.4534, 37.0943, 36.3564, 36.0029,\n",
      "        35.6206, 35.3063, 34.5123, 34.0409, 33.3040, 32.9172, 32.9026, 19.1038,\n",
      "        19.7688, 20.4214, 20.0931, 34.9105, 35.3943, 35.3413, 34.3503, 33.8688,\n",
      "        19.1904, 18.6721, 18.5247, 18.7954, 19.1123, 19.9483, 19.8607, 20.7734],\n",
      "       device='cuda:0', dtype=torch.float64)\n",
      "\n"
     ]
    },
    {
     "name": "stderr",
     "output_type": "stream",
     "text": [
      "Eval:  68%|██████▊   | 757/1110 [08:56<03:52,  1.52it/s]"
     ]
    },
    {
     "name": "stdout",
     "output_type": "stream",
     "text": [
      "orientation_error\n",
      "tensor([19.6859, 19.8437, 18.7795, 18.7592, 19.4509, 20.0400, 20.4322, 19.4586,\n",
      "        20.1873, 20.1063, 20.1634, 20.8200, 20.5687, 20.5988, 20.6593, 20.5192,\n",
      "        20.3322, 20.8240, 20.1359, 19.3336, 18.2550, 17.9361, 18.5284, 18.8183,\n",
      "        18.9533, 18.6967, 18.6342, 18.7396, 18.8334, 18.2146, 17.8860, 17.1905],\n",
      "       device='cuda:0', dtype=torch.float64)\n",
      "\n"
     ]
    },
    {
     "name": "stderr",
     "output_type": "stream",
     "text": [
      "\r",
      "Eval:  68%|██████▊   | 758/1110 [08:57<04:26,  1.32it/s]"
     ]
    },
    {
     "name": "stdout",
     "output_type": "stream",
     "text": [
      "orientation_error\n",
      "tensor([17.9009, 19.3422, 19.1997, 19.6714, 18.4229, 18.8910, 19.2364, 19.9384,\n",
      "        19.5834, 19.4003, 19.4568, 20.6377, 20.3810, 20.5426, 19.9564, 20.4827,\n",
      "        21.1140, 20.6889, 21.3934, 22.4320, 22.1081, 21.1188, 21.9122, 22.8474,\n",
      "        24.2772, 25.3906, 25.3056, 24.3058, 23.3408, 22.8816, 22.8008, 22.5588],\n",
      "       device='cuda:0', dtype=torch.float64)\n",
      "\n"
     ]
    },
    {
     "name": "stderr",
     "output_type": "stream",
     "text": [
      "\r",
      "Eval:  68%|██████▊   | 759/1110 [08:58<04:27,  1.31it/s]"
     ]
    },
    {
     "name": "stdout",
     "output_type": "stream",
     "text": [
      "orientation_error\n",
      "tensor([22.2273, 21.7571, 20.6024, 19.3823, 19.1978, 20.2485, 19.7916, 19.7186,\n",
      "        19.1075, 19.7040, 20.4054, 22.0197, 22.0299, 21.5100, 21.4534, 21.5429,\n",
      "        20.4014, 19.4362, 20.2878, 18.8819, 19.2119, 20.7558, 20.3005, 20.5030,\n",
      "        21.8612, 18.4203, 17.7307, 18.3826, 18.0831, 18.2561, 19.2388, 18.6201],\n",
      "       device='cuda:0', dtype=torch.float64)\n",
      "\n"
     ]
    },
    {
     "name": "stderr",
     "output_type": "stream",
     "text": [
      "\r",
      "Eval:  68%|██████▊   | 760/1110 [08:58<04:21,  1.34it/s]"
     ]
    },
    {
     "name": "stdout",
     "output_type": "stream",
     "text": [
      "orientation_error\n",
      "tensor([18.6988, 19.6301, 18.7916, 19.5804, 19.7965, 20.2784, 20.6891, 21.4339,\n",
      "        22.1248, 22.6008, 24.6795, 25.8618, 25.2106, 25.0027, 24.3409, 24.7301,\n",
      "        24.6764, 24.2647, 23.9653, 24.1559, 24.8547, 24.6965, 25.3189, 25.2008,\n",
      "        24.1779, 23.9476, 24.0556, 24.3592, 24.4706, 23.9834, 24.7738, 24.9004],\n",
      "       device='cuda:0', dtype=torch.float64)\n",
      "\n",
      "MPJPE: 95.28066178641745\n",
      "Reconstruction Error: 58.57721777647864\n",
      "\n",
      "Orientation error: 31.651456234409032\n"
     ]
    },
    {
     "name": "stderr",
     "output_type": "stream",
     "text": [
      "\r",
      "Eval:  69%|██████▊   | 761/1110 [08:59<03:52,  1.50it/s]"
     ]
    },
    {
     "name": "stdout",
     "output_type": "stream",
     "text": [
      "orientation_error\n",
      "tensor([24.7032, 24.6944, 25.0560, 26.0622, 27.0204, 28.0423, 29.0547, 29.2865,\n",
      "        29.5228, 30.2052, 30.9449, 31.0952, 31.2695, 30.7207, 30.9435, 30.6905,\n",
      "        30.6689, 30.4989, 30.6849, 30.1840, 30.9757, 31.1210, 31.0902, 30.8033,\n",
      "        30.6755, 30.5462, 31.7155, 32.0626, 31.6790, 31.1522, 30.3034, 29.1331],\n",
      "       device='cuda:0', dtype=torch.float64)\n",
      "\n",
      "orientation_error\n",
      "tensor([27.4171, 27.0106, 26.0470, 24.3934, 24.1245, 23.6335, 23.5290, 23.8963,\n",
      "        23.6270, 23.6508, 24.4993, 24.4881, 24.3952, 24.1656, 23.4584, 23.3592,\n",
      "        22.7047, 22.2882, 22.5231, 22.2386, 22.3862, 22.7674, 23.9252, 23.4389,\n",
      "        22.8683, 22.3854, 22.8683, 22.7646, 22.3715, 22.1216, 21.8127, 20.7635],\n",
      "       device='cuda:0', dtype=torch.float64)\n",
      "\n"
     ]
    },
    {
     "name": "stderr",
     "output_type": "stream",
     "text": [
      "Eval:  69%|██████▊   | 763/1110 [09:00<04:01,  1.44it/s]"
     ]
    },
    {
     "name": "stdout",
     "output_type": "stream",
     "text": [
      "orientation_error\n",
      "tensor([20.6555, 20.8970, 21.3296, 20.7924, 20.4951, 20.4541, 20.5343, 21.2407,\n",
      "        21.0798, 34.4163, 33.8301, 33.7690, 18.0727, 18.5020, 18.5290, 19.5347,\n",
      "        18.9401, 18.3411, 18.5159, 17.9884, 18.5419, 18.7579, 19.0764, 20.1387,\n",
      "        21.7098, 22.0119, 21.8635, 21.9845, 22.4039, 22.2310, 23.9524, 23.8523],\n",
      "       device='cuda:0', dtype=torch.float64)\n",
      "\n"
     ]
    },
    {
     "name": "stderr",
     "output_type": "stream",
     "text": [
      "\r",
      "Eval:  69%|██████▉   | 764/1110 [09:01<04:05,  1.41it/s]"
     ]
    },
    {
     "name": "stdout",
     "output_type": "stream",
     "text": [
      "orientation_error\n",
      "tensor([21.7419, 21.3448, 23.4810, 24.3949, 25.5144, 27.5650, 27.1750, 30.2771,\n",
      "        29.3213, 28.9946, 29.3109, 29.0497, 29.5543, 29.2362, 29.5880, 29.7000,\n",
      "        29.7036, 29.3810, 30.7052, 29.9740, 29.8980, 29.6490, 28.9966, 29.4753,\n",
      "        30.0249, 30.6317, 29.5647, 29.7892, 31.1962, 30.0129, 30.1837, 30.0002],\n",
      "       device='cuda:0', dtype=torch.float64)\n",
      "\n",
      "orientation_error\n",
      "tensor([31.0813, 30.2576, 29.9025, 30.0256, 29.4917, 28.4068, 29.0144, 28.0978,\n",
      "        28.1139, 27.5082, 27.2905, 25.9594, 26.4117, 25.3188, 39.2340, 39.3532,\n",
      "        38.9511, 38.6214, 38.3471, 38.3643, 38.2014, 23.5868, 23.3592, 22.9794,\n",
      "        22.6560, 22.5660, 22.3258, 22.5624, 21.9615, 21.8156, 21.7465, 21.7997],\n",
      "       device='cuda:0', dtype=torch.float64)\n",
      "\n"
     ]
    },
    {
     "name": "stderr",
     "output_type": "stream",
     "text": [
      "\r",
      "Eval:  69%|██████▉   | 765/1110 [09:02<03:55,  1.46it/s]"
     ]
    },
    {
     "name": "stdout",
     "output_type": "stream",
     "text": [
      "orientation_error\n",
      "tensor([22.3943, 22.8169, 25.6239, 26.8299, 26.5569, 27.8867, 25.2065, 25.1076,\n",
      "        22.8916, 23.1364, 19.8495, 19.5941, 17.7023, 17.3998, 17.5579, 17.2544,\n",
      "        17.5684, 18.4649, 19.2705, 19.7821, 19.7403, 19.9314, 20.9772, 21.6001,\n",
      "        21.3856, 21.1746, 20.5076, 21.8694, 22.8153, 24.3299, 24.3403, 23.9024],\n",
      "       device='cuda:0', dtype=torch.float64)\n",
      "\n"
     ]
    },
    {
     "name": "stderr",
     "output_type": "stream",
     "text": [
      "\r",
      "Eval:  69%|██████▉   | 766/1110 [09:03<04:12,  1.36it/s]"
     ]
    },
    {
     "name": "stdout",
     "output_type": "stream",
     "text": [
      "orientation_error\n",
      "tensor([22.9481, 21.6640, 20.8804, 19.4130, 18.9307, 19.8360, 19.5932, 19.2027,\n",
      "        20.4557, 19.9777, 20.8830, 22.0108, 22.2391, 21.9491, 21.9414, 21.5755,\n",
      "        22.3138, 23.6854, 22.9697, 23.4513, 23.2605, 23.3947, 23.3440, 23.7949,\n",
      "        23.6474, 24.0128, 24.2359, 24.5116, 24.8983, 24.5981, 24.5419, 24.3454],\n",
      "       device='cuda:0', dtype=torch.float64)\n",
      "\n"
     ]
    },
    {
     "name": "stderr",
     "output_type": "stream",
     "text": [
      "\r",
      "Eval:  69%|██████▉   | 767/1110 [09:04<04:33,  1.25it/s]"
     ]
    },
    {
     "name": "stdout",
     "output_type": "stream",
     "text": [
      "orientation_error\n",
      "tensor([24.1668, 23.5946, 23.4920, 22.7968, 22.3392, 21.9775, 21.8316, 21.4838,\n",
      "        21.5090, 21.4863, 21.7839, 22.2875, 22.3200, 22.4777, 23.3822, 23.8694,\n",
      "        24.4807, 24.7190, 25.2620, 24.8233, 24.9064, 25.7783, 26.1685, 25.9590,\n",
      "        26.2675, 26.1926, 26.6685, 26.6860, 26.5420, 27.7500, 26.7779, 27.0729],\n",
      "       device='cuda:0', dtype=torch.float64)\n",
      "\n"
     ]
    },
    {
     "name": "stderr",
     "output_type": "stream",
     "text": [
      "Eval:  69%|██████▉   | 769/1110 [09:06<05:02,  1.13it/s]"
     ]
    },
    {
     "name": "stdout",
     "output_type": "stream",
     "text": [
      "orientation_error\n",
      "tensor([27.0061, 27.0822, 25.8847, 24.4557, 21.9779, 20.7642, 19.2036, 17.6401,\n",
      "        17.8629, 18.4952, 19.3431, 19.8269, 19.7321, 18.5081, 18.4999, 19.4849,\n",
      "        18.6262, 18.5943, 19.5139, 20.5422, 21.9184, 23.0103, 23.6827, 26.2069,\n",
      "        37.1004, 18.8140, 45.7184, 23.8543, 39.4514, 21.9946, 21.6901, 20.8921],\n",
      "       device='cuda:0', dtype=torch.float64)\n",
      "\n"
     ]
    },
    {
     "name": "stderr",
     "output_type": "stream",
     "text": [
      "\r",
      "Eval:  69%|██████▉   | 770/1110 [09:06<04:48,  1.18it/s]"
     ]
    },
    {
     "name": "stdout",
     "output_type": "stream",
     "text": [
      "orientation_error\n",
      "tensor([21.9382, 22.6048, 22.4318, 23.5633, 23.9117, 23.9079, 23.5354, 36.3562,\n",
      "        36.3114, 36.4645, 36.2845, 36.1543, 35.9260, 35.7413, 22.1317, 35.0001,\n",
      "        34.9960, 34.1760, 21.0460, 20.1472, 21.0081, 33.8595, 34.7491, 34.5867,\n",
      "        22.0379, 22.0087, 38.2944, 47.5522, 51.0406, 36.1011, 43.4692, 34.1219],\n",
      "       device='cuda:0', dtype=torch.float64)\n",
      "\n",
      "orientation_error\n",
      "tensor([19.9334, 19.3160, 32.3152, 19.0030, 18.6525, 19.1982, 20.4848, 20.0765,\n",
      "        20.2230, 20.3261, 21.3060, 20.6986, 20.8159, 20.5405, 20.6034, 19.6088,\n",
      "        19.7523, 20.3419, 20.9285, 19.4218, 19.2699, 19.2246, 20.7052, 20.8427,\n",
      "        21.0841, 21.3212, 21.8923, 23.3479, 22.6869, 23.5810, 24.2313, 22.4276],\n",
      "       device='cuda:0', dtype=torch.float64)\n",
      "\n"
     ]
    },
    {
     "name": "stderr",
     "output_type": "stream",
     "text": [
      "Eval:  70%|██████▉   | 772/1110 [09:09<05:59,  1.06s/it]"
     ]
    },
    {
     "name": "stdout",
     "output_type": "stream",
     "text": [
      "orientation_error\n",
      "tensor([35.7812, 28.1870, 26.9620, 26.0539, 24.6305, 23.5305, 23.0663, 21.7442,\n",
      "        19.9407, 20.3453, 20.7772, 23.3449, 25.3800, 25.3266, 25.3036, 23.2225,\n",
      "        20.9873, 22.1299, 22.9278, 21.9025, 22.1894, 23.5235, 22.6970, 23.0390,\n",
      "        23.8652, 23.9714, 23.9894, 23.7106, 21.9329, 22.1543, 24.8287, 24.5839],\n",
      "       device='cuda:0', dtype=torch.float64)\n",
      "\n"
     ]
    },
    {
     "name": "stderr",
     "output_type": "stream",
     "text": [
      "\r",
      "Eval:  70%|██████▉   | 773/1110 [09:10<06:03,  1.08s/it]"
     ]
    },
    {
     "name": "stdout",
     "output_type": "stream",
     "text": [
      "orientation_error\n",
      "tensor([25.3585, 25.4265, 25.9700, 27.7897, 26.6425, 27.2247, 25.8210, 23.6139,\n",
      "        22.9514, 22.4060, 22.7042, 22.1400, 20.3501, 19.5884, 18.7987, 18.7619,\n",
      "        20.0048, 20.3415, 20.3180, 21.8818, 22.1763, 21.8555, 29.3095, 24.6267,\n",
      "        23.8267, 24.0124, 24.7527, 24.5421, 23.9844, 23.9965, 23.2467, 23.5131],\n",
      "       device='cuda:0', dtype=torch.float64)\n",
      "\n"
     ]
    },
    {
     "name": "stderr",
     "output_type": "stream",
     "text": [
      "\r",
      "Eval:  70%|██████▉   | 774/1110 [09:10<05:06,  1.10it/s]"
     ]
    },
    {
     "name": "stdout",
     "output_type": "stream",
     "text": [
      "orientation_error\n",
      "tensor([23.2001, 22.6020, 23.0483, 21.1144, 21.1223, 20.2010, 19.2185, 17.8615,\n",
      "        17.9295, 16.7386, 17.1992, 16.6377, 16.3890, 16.4987, 16.5561, 17.6580,\n",
      "        16.8074, 17.3300, 16.9702, 16.6032, 30.8070, 15.8108, 15.9716, 15.8997,\n",
      "        16.3880, 17.0265, 18.2403, 18.6996, 18.7035, 17.4330, 18.1639, 20.7393],\n",
      "       device='cuda:0', dtype=torch.float64)\n",
      "\n"
     ]
    },
    {
     "name": "stderr",
     "output_type": "stream",
     "text": [
      "\r",
      "Eval:  70%|██████▉   | 775/1110 [09:11<04:28,  1.25it/s]"
     ]
    },
    {
     "name": "stdout",
     "output_type": "stream",
     "text": [
      "orientation_error\n",
      "tensor([22.5953, 23.6121, 23.4271, 22.8678, 23.0043, 21.7769, 21.8494, 21.9272,\n",
      "        38.2091, 37.3689, 36.6429, 35.6909, 19.4623, 19.8166, 19.9911, 19.5720,\n",
      "        19.8530, 20.5181, 21.2163, 21.5027, 20.7087, 20.6459, 20.9686, 21.0638,\n",
      "        21.1575, 20.6602, 20.7034, 20.8272, 19.5401, 19.5886, 20.1140, 20.3430],\n",
      "       device='cuda:0', dtype=torch.float64)\n",
      "\n"
     ]
    },
    {
     "name": "stderr",
     "output_type": "stream",
     "text": [
      "\r",
      "Eval:  70%|██████▉   | 776/1110 [09:12<04:16,  1.30it/s]"
     ]
    },
    {
     "name": "stdout",
     "output_type": "stream",
     "text": [
      "orientation_error\n",
      "tensor([20.8570, 20.8339, 19.2855, 20.5741, 20.3164, 20.1565, 19.4919, 19.3568,\n",
      "        19.6061, 19.8754, 20.1839, 19.9740, 19.6531, 19.9130, 19.5752, 19.5126,\n",
      "        19.4992, 19.4768, 18.8253, 19.2607, 19.0967, 19.3685, 19.2255, 19.0203,\n",
      "        19.0091, 19.1520, 19.2286, 19.4409, 19.5575, 19.5147, 19.5005, 19.5754],\n",
      "       device='cuda:0', dtype=torch.float64)\n",
      "\n"
     ]
    },
    {
     "name": "stderr",
     "output_type": "stream",
     "text": [
      "\r",
      "Eval:  70%|███████   | 777/1110 [09:12<03:57,  1.40it/s]"
     ]
    },
    {
     "name": "stdout",
     "output_type": "stream",
     "text": [
      "orientation_error\n",
      "tensor([19.7582, 19.7494, 19.7569, 20.4427, 20.9012, 20.7413, 20.4226, 19.5433,\n",
      "        19.3328, 19.0287, 19.9957, 18.6243, 17.8099, 18.0091, 18.7355, 18.3683,\n",
      "        18.7576, 19.6175, 19.6818, 19.6415, 19.6588, 20.0727, 20.3056, 20.1211,\n",
      "        21.1352, 21.3047, 21.2177, 22.4387, 23.2752, 25.9309, 23.2990, 22.6582],\n",
      "       device='cuda:0', dtype=torch.float64)\n",
      "\n"
     ]
    },
    {
     "name": "stderr",
     "output_type": "stream",
     "text": [
      "\r",
      "Eval:  70%|███████   | 778/1110 [09:13<03:40,  1.51it/s]"
     ]
    },
    {
     "name": "stdout",
     "output_type": "stream",
     "text": [
      "orientation_error\n",
      "tensor([21.5099, 21.2533, 21.9945, 22.1459, 22.2728, 21.8651, 21.4081, 21.4011,\n",
      "        21.8000, 22.1071, 22.7887, 22.4771, 21.6555, 22.8030, 23.2290, 22.3207,\n",
      "        23.4108, 24.8863, 26.9615, 22.2151, 21.9840, 18.4074, 21.5164, 21.1696,\n",
      "        23.3992, 22.9953, 23.1148, 24.9323, 24.3299, 25.2937, 24.3180, 23.4878],\n",
      "       device='cuda:0', dtype=torch.float64)\n",
      "\n"
     ]
    },
    {
     "name": "stderr",
     "output_type": "stream",
     "text": [
      "\r",
      "Eval:  70%|███████   | 779/1110 [09:13<03:15,  1.69it/s]"
     ]
    },
    {
     "name": "stdout",
     "output_type": "stream",
     "text": [
      "orientation_error\n",
      "tensor([23.8194, 23.4643, 22.7302, 22.4298, 22.8564, 22.5762, 22.1877, 22.6618,\n",
      "        22.7576, 22.7455, 22.5440, 24.3922, 24.9052, 25.7596, 17.1893, 16.3876,\n",
      "        18.0236, 19.2541, 19.3227, 18.2924, 20.3037, 21.2789, 24.8684, 25.3267,\n",
      "        23.3287, 21.3995, 20.0005, 20.8218, 21.1369, 19.4969, 21.4904, 21.3102],\n",
      "       device='cuda:0', dtype=torch.float64)\n",
      "\n"
     ]
    },
    {
     "name": "stderr",
     "output_type": "stream",
     "text": [
      "\r",
      "Eval:  70%|███████   | 780/1110 [09:13<02:51,  1.92it/s]"
     ]
    },
    {
     "name": "stdout",
     "output_type": "stream",
     "text": [
      "orientation_error\n",
      "tensor([19.9869, 21.2656, 20.2266, 20.2973, 20.8264, 21.1306, 20.6568, 19.8761,\n",
      "        19.7191, 19.5059, 19.5206, 17.7558, 17.8780, 18.1895, 17.6163, 18.2382,\n",
      "        18.4038, 19.8679, 21.6425, 20.9021, 20.9911, 22.2915, 20.6418, 20.2240,\n",
      "        20.2272, 26.1049, 19.2741, 20.0733, 41.9616, 32.4136, 31.5922, 18.9521],\n",
      "       device='cuda:0', dtype=torch.float64)\n",
      "\n",
      "MPJPE: 95.32241956027468\n",
      "Reconstruction Error: 58.396075461424445\n",
      "\n",
      "Orientation error: 31.445238026976536\n"
     ]
    },
    {
     "name": "stderr",
     "output_type": "stream",
     "text": [
      "\r",
      "Eval:  70%|███████   | 781/1110 [09:14<02:55,  1.87it/s]"
     ]
    },
    {
     "name": "stdout",
     "output_type": "stream",
     "text": [
      "orientation_error\n",
      "tensor([18.5291, 18.5560, 19.7640, 20.2773, 20.1820, 20.5530, 34.6498, 34.2956,\n",
      "        33.5677, 34.7063, 35.7252, 35.0741, 35.2533, 35.2858, 34.3519, 34.6674,\n",
      "        37.1112, 24.8817, 37.5906, 36.5902, 34.7866, 33.5227, 43.0130, 42.8097,\n",
      "        21.5514, 33.6270, 20.3848, 21.2441, 20.9058, 22.2083, 21.9920, 22.0073],\n",
      "       device='cuda:0', dtype=torch.float64)\n",
      "\n"
     ]
    },
    {
     "name": "stderr",
     "output_type": "stream",
     "text": [
      "\r",
      "Eval:  70%|███████   | 782/1110 [09:14<02:44,  1.99it/s]"
     ]
    },
    {
     "name": "stdout",
     "output_type": "stream",
     "text": [
      "orientation_error\n",
      "tensor([22.0637, 21.2066, 21.4781, 21.0776, 21.0258, 21.6980, 22.1118, 22.4037,\n",
      "        22.6948, 23.3012, 23.9404, 23.7624, 23.8106, 23.9922, 22.9041, 23.6866,\n",
      "        22.3805, 21.9627, 22.9010, 23.3189, 23.8940, 24.0370, 23.4872, 22.5438,\n",
      "        21.3496, 20.7213, 20.6539, 20.2486, 20.7792, 21.4501, 22.3135, 22.8186],\n",
      "       device='cuda:0', dtype=torch.float64)\n",
      "\n"
     ]
    },
    {
     "name": "stderr",
     "output_type": "stream",
     "text": [
      "\r",
      "Eval:  71%|███████   | 783/1110 [09:15<02:38,  2.07it/s]"
     ]
    },
    {
     "name": "stdout",
     "output_type": "stream",
     "text": [
      "orientation_error\n",
      "tensor([22.4261, 22.4724, 21.7857, 21.5406, 21.5421, 20.5876, 20.3330, 20.3468,\n",
      "        19.4860, 19.8137, 20.1954, 20.9486, 21.7752, 20.6866, 19.5243, 19.1564,\n",
      "        19.7532, 18.9318, 19.6067, 20.6491, 19.8080, 20.4963, 20.3664, 20.2666,\n",
      "        21.4118, 22.3375, 23.7196, 24.2948, 23.1590, 21.7253, 21.4296, 20.9703],\n",
      "       device='cuda:0', dtype=torch.float64)\n",
      "\n"
     ]
    },
    {
     "name": "stderr",
     "output_type": "stream",
     "text": [
      "\r",
      "Eval:  71%|███████   | 784/1110 [09:15<02:41,  2.02it/s]"
     ]
    },
    {
     "name": "stdout",
     "output_type": "stream",
     "text": [
      "orientation_error\n",
      "tensor([21.9476, 22.7148, 23.0390, 23.1429, 23.6024, 25.1848, 24.7852, 25.4424,\n",
      "        25.1387, 24.1927, 23.0259, 21.6039, 22.2930, 22.3144, 22.3807, 21.6130,\n",
      "        21.3177, 21.5366, 21.2441, 22.3014, 21.3875, 20.6809, 20.3730, 21.2592,\n",
      "        21.5471, 21.6715, 21.7911, 22.8385, 23.2098, 23.7608, 25.0144, 23.1907],\n",
      "       device='cuda:0', dtype=torch.float64)\n",
      "\n"
     ]
    },
    {
     "name": "stderr",
     "output_type": "stream",
     "text": [
      "\r",
      "Eval:  71%|███████   | 785/1110 [09:16<02:46,  1.95it/s]"
     ]
    },
    {
     "name": "stdout",
     "output_type": "stream",
     "text": [
      "orientation_error\n",
      "tensor([21.8004, 23.2787, 23.3257, 21.7096, 21.3241, 20.7576, 19.9549, 20.5134,\n",
      "        20.7518, 20.8258, 20.7761, 20.1978, 19.4661, 17.9137, 18.5480, 20.2838,\n",
      "        19.7557, 19.6398, 19.2010, 18.7800, 18.6547, 18.9908, 19.3058, 18.4907,\n",
      "        18.1275, 18.2491, 18.2930, 18.5834, 18.6428, 18.4708, 18.6857, 19.5169],\n",
      "       device='cuda:0', dtype=torch.float64)\n",
      "\n"
     ]
    },
    {
     "name": "stderr",
     "output_type": "stream",
     "text": [
      "\r",
      "Eval:  71%|███████   | 786/1110 [09:16<02:41,  2.00it/s]"
     ]
    },
    {
     "name": "stdout",
     "output_type": "stream",
     "text": [
      "orientation_error\n",
      "tensor([20.1933, 19.7775, 19.9954, 20.1189, 19.8098, 19.7412, 19.8960, 19.8893,\n",
      "        19.6388, 19.0115, 19.5125, 20.1051, 21.0011, 21.0303, 20.8645, 20.8683,\n",
      "        20.3370, 20.7018, 19.9289, 19.7832, 18.9642, 18.8441, 19.2698, 19.6919,\n",
      "        19.7843, 20.5545, 20.1706, 20.3127, 20.8594, 20.5773, 20.8265, 21.1431],\n",
      "       device='cuda:0', dtype=torch.float64)\n",
      "\n"
     ]
    },
    {
     "name": "stderr",
     "output_type": "stream",
     "text": [
      "\r",
      "Eval:  71%|███████   | 787/1110 [09:17<03:07,  1.72it/s]"
     ]
    },
    {
     "name": "stdout",
     "output_type": "stream",
     "text": [
      "orientation_error\n",
      "tensor([21.6298, 21.3771, 21.8720, 21.3385, 19.9612, 18.9689, 19.8619, 20.0016,\n",
      "        20.0162, 21.4384, 21.7843, 22.0864, 20.5140, 21.2019, 20.4642, 20.2001,\n",
      "        21.3201, 21.5212, 21.3940, 22.3159, 21.8393, 20.8658, 21.7456, 21.3016,\n",
      "        20.9485, 19.0350, 19.0382, 19.7624, 20.4709, 20.5698, 20.0748, 20.6421],\n",
      "       device='cuda:0', dtype=torch.float64)\n",
      "\n"
     ]
    },
    {
     "name": "stderr",
     "output_type": "stream",
     "text": [
      "\r",
      "Eval:  71%|███████   | 788/1110 [09:18<03:13,  1.67it/s]"
     ]
    },
    {
     "name": "stdout",
     "output_type": "stream",
     "text": [
      "orientation_error\n",
      "tensor([20.5920, 21.0918, 21.6745, 22.5752, 21.8865, 22.5808, 22.0219, 21.9889,\n",
      "        22.8148, 23.4930, 23.4364, 23.3504, 22.4572, 22.1895, 21.0989, 19.9730,\n",
      "        19.0472, 18.6701, 18.7070, 18.5352, 18.8197, 20.4512, 20.6450, 20.8261,\n",
      "        19.8888, 20.1098, 21.2243, 21.0359, 19.7004, 20.3870, 20.4201, 21.5261],\n",
      "       device='cuda:0', dtype=torch.float64)\n",
      "\n"
     ]
    },
    {
     "name": "stderr",
     "output_type": "stream",
     "text": [
      "\r",
      "Eval:  71%|███████   | 789/1110 [09:19<03:53,  1.38it/s]"
     ]
    },
    {
     "name": "stdout",
     "output_type": "stream",
     "text": [
      "orientation_error\n",
      "tensor([21.9760, 22.7865, 22.9475, 22.1861, 22.1863, 22.9924, 23.5393, 23.7577,\n",
      "        24.4356, 24.9030, 25.5941, 26.7361, 26.9121, 26.9470, 26.0072, 25.0143,\n",
      "        23.4627, 22.1529, 20.8441, 21.3216, 20.5185, 20.2524, 20.5188, 20.9823,\n",
      "        22.9247, 21.0893, 22.8397, 22.8779, 22.1564, 22.6867, 21.9857, 21.7027],\n",
      "       device='cuda:0', dtype=torch.float64)\n",
      "\n",
      "orientation_error\n",
      "tensor([22.2027, 21.0452, 20.1536, 22.2285, 21.1577, 20.0225, 19.3308, 20.1269,\n",
      "        19.7121, 20.6422, 21.4986, 20.2666, 20.2235, 20.7883, 19.9571, 19.7815,\n",
      "        19.4246, 18.6832, 17.9889, 17.5185, 16.9405, 16.6931, 17.1561, 18.1382,\n",
      "        19.2866, 21.5756, 22.7725, 21.0727, 19.1401, 19.9405, 20.9129, 20.8311],\n",
      "       device='cuda:0', dtype=torch.float64)\n",
      "\n"
     ]
    },
    {
     "name": "stderr",
     "output_type": "stream",
     "text": [
      "Eval:  71%|███████▏  | 791/1110 [09:20<04:01,  1.32it/s]"
     ]
    },
    {
     "name": "stdout",
     "output_type": "stream",
     "text": [
      "orientation_error\n",
      "tensor([19.6084, 20.0371, 19.7371, 18.5068, 17.9658, 18.3166, 18.1314, 18.7365,\n",
      "        20.1763, 21.0598, 20.4170, 20.1734, 20.5706, 19.3187, 18.8864, 18.4616,\n",
      "        19.1405, 19.6420, 18.8530, 18.6419, 17.8393, 18.0443, 19.3861, 20.0059,\n",
      "        20.0997, 19.0460, 18.4490, 18.7028, 18.4872, 18.5692, 18.1410, 18.7511],\n",
      "       device='cuda:0', dtype=torch.float64)\n",
      "\n"
     ]
    },
    {
     "name": "stderr",
     "output_type": "stream",
     "text": [
      "\r",
      "Eval:  71%|███████▏  | 792/1110 [09:21<03:53,  1.36it/s]"
     ]
    },
    {
     "name": "stdout",
     "output_type": "stream",
     "text": [
      "orientation_error\n",
      "tensor([18.6981, 18.6255, 19.0383, 19.7592, 20.8590, 21.5667, 21.9075, 20.8610,\n",
      "        21.5172, 21.8149, 20.9363, 19.9590, 20.0315, 20.3789, 19.8768, 18.9650,\n",
      "        18.1921, 18.5336, 20.3294, 19.0047, 19.7479, 22.1799, 22.7079, 22.0654,\n",
      "        22.2900, 21.4366, 23.1612, 22.1809, 20.6578, 20.7588, 19.9314, 20.5301],\n",
      "       device='cuda:0', dtype=torch.float64)\n",
      "\n",
      "orientation_error\n",
      "tensor([21.0339, 20.7683, 20.2147, 20.7841, 21.1669, 24.5038, 22.1900, 19.9205,\n",
      "        19.0917, 20.4157, 19.5631, 20.0546, 20.9585, 20.2830, 20.8179, 21.6920,\n",
      "        22.5983, 26.9211, 27.9623, 35.4899, 52.3291, 58.3788, 61.6680, 64.2469,\n",
      "        67.7619, 69.9039, 71.4608, 70.9858, 72.0817, 71.5950, 71.0860, 70.9175],\n",
      "       device='cuda:0', dtype=torch.float64)\n",
      "\n"
     ]
    },
    {
     "name": "stderr",
     "output_type": "stream",
     "text": [
      "Eval:  72%|███████▏  | 794/1110 [09:23<04:01,  1.31it/s]"
     ]
    },
    {
     "name": "stdout",
     "output_type": "stream",
     "text": [
      "orientation_error\n",
      "tensor([70.8971, 71.0190, 70.4802, 69.7576, 69.8957, 69.3755, 69.3962, 69.7986,\n",
      "        70.1264, 69.1237, 69.0611, 69.4665, 69.1385, 70.6628, 70.1418, 69.7714,\n",
      "        57.3800, 68.5970, 56.4053, 56.9460, 56.7382, 57.7028, 58.5771, 38.9974,\n",
      "        39.2480, 31.3103, 27.9640, 30.1844, 29.5088, 28.8353, 29.9259, 29.5072],\n",
      "       device='cuda:0', dtype=torch.float64)\n",
      "\n"
     ]
    },
    {
     "name": "stderr",
     "output_type": "stream",
     "text": [
      "\r",
      "Eval:  72%|███████▏  | 795/1110 [09:24<04:01,  1.30it/s]"
     ]
    },
    {
     "name": "stdout",
     "output_type": "stream",
     "text": [
      "orientation_error\n",
      "tensor([26.7335, 25.6092, 25.1501, 25.7570, 26.3473, 27.7730, 25.3089, 28.5178,\n",
      "        31.5427, 29.1295, 32.6868, 31.6832, 24.3050, 30.7916, 30.1578, 38.0445,\n",
      "        35.7187, 36.8538, 37.0760, 36.1304, 37.0769, 37.7987, 40.8452, 37.2352,\n",
      "        38.3114, 39.2661, 38.3016, 26.7014, 25.7713, 38.9331, 39.1953, 41.3521],\n",
      "       device='cuda:0', dtype=torch.float64)\n",
      "\n",
      "orientation_error\n",
      "tensor([39.0153, 42.2122, 42.0683, 39.1731, 39.5016, 41.0669, 41.7895, 40.7215,\n",
      "        41.5803, 42.4381, 42.3089, 40.8252, 42.0177, 41.6086, 40.9332, 41.0492,\n",
      "        40.5643, 51.8805, 62.2935, 61.7709, 51.3312, 51.8101, 50.2990, 59.1998,\n",
      "        60.3391, 59.7149, 60.2073, 61.9538, 63.0544, 63.5166, 66.7835, 66.8402],\n",
      "       device='cuda:0', dtype=torch.float64)\n",
      "\n"
     ]
    },
    {
     "name": "stderr",
     "output_type": "stream",
     "text": [
      "Eval:  72%|███████▏  | 797/1110 [09:25<04:02,  1.29it/s]"
     ]
    },
    {
     "name": "stdout",
     "output_type": "stream",
     "text": [
      "orientation_error\n",
      "tensor([69.1324, 70.1780, 72.7670, 72.5200, 72.8467, 72.9923, 73.5352, 61.7500,\n",
      "        74.1908, 75.5810, 51.6700, 74.2936, 73.2018, 73.3463, 73.6697, 73.8463,\n",
      "        74.8223, 74.0178, 74.1391, 72.9907, 59.1639, 68.6452, 65.8516, 66.7581,\n",
      "        66.4092, 65.7813, 66.5068, 65.3241, 65.1902, 79.3683, 64.4559, 65.5158],\n",
      "       device='cuda:0', dtype=torch.float64)\n",
      "\n"
     ]
    },
    {
     "name": "stderr",
     "output_type": "stream",
     "text": [
      "\r",
      "Eval:  72%|███████▏  | 798/1110 [09:26<04:07,  1.26it/s]"
     ]
    },
    {
     "name": "stdout",
     "output_type": "stream",
     "text": [
      "orientation_error\n",
      "tensor([64.5100, 64.9706, 65.7052, 66.2579, 66.1108, 66.7360, 67.8202, 69.3225,\n",
      "        68.1428, 68.4653, 68.4893, 69.4006, 69.1710, 67.6107, 81.9260, 81.5316,\n",
      "        83.1873, 83.2585, 84.1972, 71.1180, 71.1461, 71.7508, 85.0304, 84.0985,\n",
      "        70.2579, 69.6730, 68.9804, 67.2822, 65.8206, 65.5515, 59.6800, 52.0363],\n",
      "       device='cuda:0', dtype=torch.float64)\n",
      "\n"
     ]
    },
    {
     "name": "stderr",
     "output_type": "stream",
     "text": [
      "\r",
      "Eval:  72%|███████▏  | 799/1110 [09:27<04:50,  1.07it/s]"
     ]
    },
    {
     "name": "stdout",
     "output_type": "stream",
     "text": [
      "orientation_error\n",
      "tensor([47.1737, 42.8615, 39.3943, 36.1868, 30.1795, 27.3352, 23.7552, 22.9897,\n",
      "        22.6181, 24.1891, 24.1690, 24.4437, 24.9252, 24.5659, 24.2108, 22.2711,\n",
      "        22.4013, 21.3882, 22.4333, 21.7519, 22.4131, 21.8527, 22.7277, 22.5869,\n",
      "        22.8660, 23.7966, 25.1549, 25.4965, 25.2839, 25.2709, 24.6114, 25.6360],\n",
      "       device='cuda:0', dtype=torch.float64)\n",
      "\n"
     ]
    },
    {
     "name": "stderr",
     "output_type": "stream",
     "text": [
      "\r",
      "Eval:  72%|███████▏  | 800/1110 [09:28<05:01,  1.03it/s]"
     ]
    },
    {
     "name": "stdout",
     "output_type": "stream",
     "text": [
      "orientation_error\n",
      "tensor([26.5870, 25.6808, 23.7606, 22.8081, 22.5641, 21.6683, 21.2095, 20.8439,\n",
      "        19.7388, 20.0092, 19.5073, 20.3558, 20.5070, 23.1061, 22.0656, 21.5100,\n",
      "        20.3486, 19.6013, 19.7210, 20.5420, 21.2570, 21.5761, 21.9789, 22.9040,\n",
      "        22.4150, 20.8294, 18.9023, 19.4610, 19.2828, 19.8503, 20.4585, 22.2201],\n",
      "       device='cuda:0', dtype=torch.float64)\n",
      "\n",
      "MPJPE: 95.03338752057724\n",
      "Reconstruction Error: 57.998542555867786\n",
      "\n",
      "Orientation error: 31.441449261823987\n"
     ]
    },
    {
     "name": "stderr",
     "output_type": "stream",
     "text": [
      "\r",
      "Eval:  72%|███████▏  | 801/1110 [09:29<04:28,  1.15it/s]"
     ]
    },
    {
     "name": "stdout",
     "output_type": "stream",
     "text": [
      "orientation_error\n",
      "tensor([22.0812, 21.5428, 22.3402, 21.9589, 20.9379, 21.2532, 21.8716, 20.6631,\n",
      "        19.6799, 18.2076, 18.3392, 19.1019, 20.1307, 20.1972, 20.7888, 20.8795,\n",
      "        18.5839, 18.2150, 18.0316, 19.4873, 35.2040, 23.5436, 22.2335, 20.9407,\n",
      "        21.1657, 20.0427, 20.4314, 21.1201, 20.6541, 20.6471, 22.4935, 24.0233],\n",
      "       device='cuda:0', dtype=torch.float64)\n",
      "\n"
     ]
    },
    {
     "name": "stderr",
     "output_type": "stream",
     "text": [
      "\r",
      "Eval:  72%|███████▏  | 802/1110 [09:29<03:52,  1.33it/s]"
     ]
    },
    {
     "name": "stdout",
     "output_type": "stream",
     "text": [
      "orientation_error\n",
      "tensor([24.8263, 24.9050, 25.4584, 25.4112, 25.0831, 25.1877, 27.5245, 28.9901,\n",
      "        27.5609, 26.5574, 25.1312, 22.9714, 22.3013, 21.6859, 21.2882, 21.2184,\n",
      "        20.5209, 19.1242, 18.3235, 18.5860, 18.5574, 18.3240, 18.0629, 17.8066,\n",
      "        17.7997, 19.0550, 19.7769, 20.8188, 21.2338, 21.1741, 21.4761, 19.8242],\n",
      "       device='cuda:0', dtype=torch.float64)\n",
      "\n"
     ]
    },
    {
     "name": "stderr",
     "output_type": "stream",
     "text": [
      "\r",
      "Eval:  72%|███████▏  | 803/1110 [09:30<03:45,  1.36it/s]"
     ]
    },
    {
     "name": "stdout",
     "output_type": "stream",
     "text": [
      "orientation_error\n",
      "tensor([21.4019, 21.4482, 21.1783, 22.4441, 21.2370, 19.8416, 20.3534, 20.0930,\n",
      "        34.4750, 36.4688, 38.7164, 38.9438, 38.7769, 28.7938, 37.6457, 27.8669,\n",
      "        25.4393, 23.6879, 24.8050, 25.5648, 24.0440, 23.0429, 22.3076, 22.1581,\n",
      "        22.7185, 23.4225, 23.2043, 23.6272, 23.5927, 22.4686, 22.4205, 23.0657],\n",
      "       device='cuda:0', dtype=torch.float64)\n",
      "\n"
     ]
    },
    {
     "name": "stderr",
     "output_type": "stream",
     "text": [
      "\r",
      "Eval:  72%|███████▏  | 804/1110 [09:34<08:51,  1.74s/it]"
     ]
    },
    {
     "name": "stdout",
     "output_type": "stream",
     "text": [
      "orientation_error\n",
      "tensor([22.5982, 23.8016, 23.8986, 23.7238, 23.8172, 23.7258, 24.1239, 22.8931,\n",
      "        21.8763, 23.8920, 26.0294, 25.1994, 23.8623, 25.2565, 26.8553, 26.9174,\n",
      "        25.5576, 26.3299, 26.5608, 25.7246, 24.5201, 24.3502, 24.2379, 24.2861,\n",
      "        25.0132, 25.8548, 24.2184, 23.2778, 22.7783, 22.1487, 22.8665, 22.5657],\n",
      "       device='cuda:0', dtype=torch.float64)\n",
      "\n",
      "orientation_error\n",
      "tensor([21.9625, 19.7687, 20.1568, 20.0042, 19.3160, 18.9902, 19.7910, 18.7043,\n",
      "        19.9364, 20.3378, 19.0485, 18.1941, 18.2973, 18.1731, 18.3268, 18.7033,\n",
      "        19.2204, 19.4662, 19.9713, 19.7740, 19.3227, 19.9534, 20.3566, 21.7218,\n",
      "        23.1645, 24.1654, 24.1893, 24.4688, 23.6073, 23.5808, 23.4687, 24.1347],\n",
      "       device='cuda:0', dtype=torch.float64)\n",
      "\n"
     ]
    },
    {
     "name": "stderr",
     "output_type": "stream",
     "text": [
      "Eval:  73%|███████▎  | 806/1110 [09:35<04:47,  1.06it/s]"
     ]
    },
    {
     "name": "stdout",
     "output_type": "stream",
     "text": [
      "orientation_error\n",
      "tensor([25.0081, 25.0518, 23.5860, 23.3872, 22.3951, 21.1665, 21.3919, 20.8299,\n",
      "        20.6512, 21.1794, 21.2408, 21.4218, 21.0553, 21.3024, 20.8767, 20.7436,\n",
      "        20.8584, 20.4587, 19.4151, 17.9845, 18.6445, 18.7732, 19.3253, 19.4040,\n",
      "        20.9455, 21.2891, 20.7569, 20.5440, 19.7111, 19.4812, 18.8666, 18.9738],\n",
      "       device='cuda:0', dtype=torch.float64)\n",
      "\n",
      "orientation_error\n",
      "tensor([18.4201, 19.1107, 20.1826, 20.1659, 20.3047, 20.5503, 20.3259, 23.8447,\n",
      "        25.6534, 22.3486, 19.8125, 18.9320, 20.1640, 18.7972, 19.6250, 20.6600,\n",
      "        20.2016, 19.2222, 22.0736, 24.0276, 20.5925, 23.2695, 23.2751, 24.0570,\n",
      "        23.9650, 23.9537, 22.8731, 23.3608, 23.9280, 24.3154, 25.5057, 25.9033],\n",
      "       device='cuda:0', dtype=torch.float64)\n",
      "\n"
     ]
    },
    {
     "name": "stderr",
     "output_type": "stream",
     "text": [
      "Eval:  73%|███████▎  | 808/1110 [09:35<02:56,  1.71it/s]"
     ]
    },
    {
     "name": "stdout",
     "output_type": "stream",
     "text": [
      "orientation_error\n",
      "tensor([28.0308, 28.6047, 41.0358, 28.6569, 31.6723, 32.5575, 31.8379, 30.8383,\n",
      "        31.5614, 31.1003, 30.0441, 28.6178, 28.8432, 29.2071, 29.6154, 28.9312,\n",
      "        29.4327, 28.4449, 29.7907, 27.0598, 27.3621, 28.5893, 29.3369, 28.7241,\n",
      "        27.7432, 28.0031, 27.9893, 26.7715, 28.8140, 26.7549, 28.8298, 30.4249],\n",
      "       device='cuda:0', dtype=torch.float64)\n",
      "\n"
     ]
    },
    {
     "name": "stderr",
     "output_type": "stream",
     "text": [
      "\r",
      "Eval:  73%|███████▎  | 809/1110 [09:35<02:30,  1.99it/s]"
     ]
    },
    {
     "name": "stdout",
     "output_type": "stream",
     "text": [
      "orientation_error\n",
      "tensor([32.0604, 30.4349, 31.0971, 28.7106, 29.8178, 31.7415, 29.8406, 30.2345,\n",
      "        30.1766, 30.6071, 30.4184, 29.3312, 30.9745, 29.9635, 30.7447, 29.5806,\n",
      "        29.4116, 29.7442, 29.9875, 31.5420, 32.5796, 33.4723, 34.7802, 37.1944,\n",
      "        36.1418, 38.9481, 40.2035, 37.7710, 35.4123, 34.2204, 32.5616, 31.0037],\n",
      "       device='cuda:0', dtype=torch.float64)\n",
      "\n"
     ]
    },
    {
     "name": "stderr",
     "output_type": "stream",
     "text": [
      "\r",
      "Eval:  73%|███████▎  | 810/1110 [09:36<02:22,  2.10it/s]"
     ]
    },
    {
     "name": "stdout",
     "output_type": "stream",
     "text": [
      "orientation_error\n",
      "tensor([28.6307, 26.8480, 25.5469, 23.9781, 23.4821, 22.7343, 21.7018, 21.4022,\n",
      "        35.7002, 36.0843, 37.2414, 37.8146, 37.6653, 36.9501, 36.4985, 36.1237,\n",
      "        36.7311, 37.1097, 36.4883, 35.9071, 35.8588, 35.9228, 35.0629, 34.2602,\n",
      "        34.4085, 34.4435, 20.2568, 20.1273, 33.9380, 34.2513, 21.0800, 21.1890],\n",
      "       device='cuda:0', dtype=torch.float64)\n",
      "\n"
     ]
    },
    {
     "name": "stderr",
     "output_type": "stream",
     "text": [
      "\r",
      "Eval:  73%|███████▎  | 811/1110 [09:36<02:08,  2.34it/s]"
     ]
    },
    {
     "name": "stdout",
     "output_type": "stream",
     "text": [
      "orientation_error\n",
      "tensor([20.9146, 21.2918, 21.4028, 20.7759, 19.9593, 19.1536, 18.9581, 19.8090,\n",
      "        20.4636, 20.9556, 20.8606, 34.8214, 20.8206, 21.0111, 21.0751, 35.8349,\n",
      "        36.1328, 36.4326, 36.7911, 35.9710, 34.5661, 33.6449, 34.4422, 35.4749,\n",
      "        35.2623, 36.3161, 36.8183, 36.6390, 37.0908, 37.1236, 36.6635, 36.7719],\n",
      "       device='cuda:0', dtype=torch.float64)\n",
      "\n"
     ]
    },
    {
     "name": "stderr",
     "output_type": "stream",
     "text": [
      "\r",
      "Eval:  73%|███████▎  | 812/1110 [09:36<02:00,  2.47it/s]"
     ]
    },
    {
     "name": "stdout",
     "output_type": "stream",
     "text": [
      "orientation_error\n",
      "tensor([37.3353, 37.4494, 37.5531, 37.9439, 37.8717, 37.7007, 38.0461, 38.0256,\n",
      "        38.1238, 37.8554, 37.8720, 37.9107, 38.0542, 38.0219, 37.8729, 37.8094,\n",
      "        37.7953, 37.8279, 37.9246, 37.8154, 37.6278, 30.7373, 30.5794, 30.2729,\n",
      "        29.9836, 30.4805, 29.9691, 29.8060, 29.9502, 30.0629, 30.2973, 30.3392],\n",
      "       device='cuda:0', dtype=torch.float64)\n",
      "\n"
     ]
    },
    {
     "name": "stderr",
     "output_type": "stream",
     "text": [
      "\r",
      "Eval:  73%|███████▎  | 813/1110 [09:37<01:52,  2.63it/s]"
     ]
    },
    {
     "name": "stdout",
     "output_type": "stream",
     "text": [
      "orientation_error\n",
      "tensor([30.1965, 29.8812, 16.2819, 16.8938, 17.1259, 17.6971, 18.1279, 18.5430,\n",
      "        19.5938, 19.7989, 20.2551, 20.2555, 19.0948, 18.8784, 18.5958, 18.5173,\n",
      "        17.8465, 17.6585, 17.7240, 16.4301, 16.6785, 16.3758, 16.0148, 16.4521,\n",
      "        16.6169, 17.6761, 18.8526, 19.4440, 19.1626, 19.6665, 20.7191, 21.1335],\n",
      "       device='cuda:0', dtype=torch.float64)\n",
      "\n"
     ]
    },
    {
     "name": "stderr",
     "output_type": "stream",
     "text": [
      "\r",
      "Eval:  73%|███████▎  | 814/1110 [09:37<01:48,  2.72it/s]"
     ]
    },
    {
     "name": "stdout",
     "output_type": "stream",
     "text": [
      "orientation_error\n",
      "tensor([20.5465, 20.3071, 20.1044, 19.4378, 18.8413, 18.3431, 18.7044, 18.5377,\n",
      "        32.3208, 32.4855, 32.4780, 18.2376, 18.5017, 17.6230, 17.8805, 17.6093,\n",
      "        17.7971, 17.7057, 17.1225, 17.2106, 17.0485, 16.7902, 16.4150, 15.4295,\n",
      "        14.9875, 15.7372, 16.2948, 17.0526, 18.0057, 19.6453, 21.6413, 25.4497],\n",
      "       device='cuda:0', dtype=torch.float64)\n",
      "\n"
     ]
    },
    {
     "name": "stderr",
     "output_type": "stream",
     "text": [
      "\r",
      "Eval:  73%|███████▎  | 815/1110 [09:37<01:44,  2.81it/s]"
     ]
    },
    {
     "name": "stdout",
     "output_type": "stream",
     "text": [
      "orientation_error\n",
      "tensor([32.0130, 40.0613, 31.2709, 22.9509, 20.9670, 21.8424, 23.4904, 20.9442,\n",
      "        20.2878, 20.3288, 32.4630, 31.1372, 30.8327, 17.0191, 32.1220, 32.5395,\n",
      "        32.9410, 18.5726, 19.6520, 19.8289, 21.4546, 27.6630, 32.4158, 38.2797,\n",
      "        40.2698, 37.9418, 41.1225, 38.8690, 38.2563, 50.5556, 53.0407, 52.0197],\n",
      "       device='cuda:0', dtype=torch.float64)\n",
      "\n"
     ]
    },
    {
     "name": "stderr",
     "output_type": "stream",
     "text": [
      "\r",
      "Eval:  74%|███████▎  | 816/1110 [09:38<01:41,  2.91it/s]"
     ]
    },
    {
     "name": "stdout",
     "output_type": "stream",
     "text": [
      "orientation_error\n",
      "tensor([51.6788, 51.6919, 47.7400, 50.3515, 51.1907, 52.1243, 51.4061, 56.2420,\n",
      "        56.9163, 57.5363, 48.8229, 47.8763, 47.6336, 44.9129, 45.7528, 45.1811,\n",
      "        51.2109, 53.8892, 50.8684, 50.7207, 63.6566, 50.1542, 49.1083, 47.5894,\n",
      "        46.3677, 43.9343, 43.0173, 42.4859, 42.4110, 42.0940, 40.4703, 38.1228],\n",
      "       device='cuda:0', dtype=torch.float64)\n",
      "\n"
     ]
    },
    {
     "name": "stderr",
     "output_type": "stream",
     "text": [
      "\r",
      "Eval:  74%|███████▎  | 817/1110 [09:38<01:55,  2.53it/s]"
     ]
    },
    {
     "name": "stdout",
     "output_type": "stream",
     "text": [
      "orientation_error\n",
      "tensor([36.7397, 33.2755, 31.3976, 23.5090, 29.5524, 25.3210, 28.0088, 28.2558,\n",
      "        27.2397, 35.3734, 24.2086, 25.9620, 23.2054, 24.2695, 22.8374, 22.7548,\n",
      "        20.1580, 19.9827, 20.5460, 18.9194, 19.2701, 18.2805, 17.9546, 18.0363,\n",
      "        18.4784, 18.4523, 18.9156, 19.0405, 17.2020, 16.5420, 17.3357, 16.7832],\n",
      "       device='cuda:0', dtype=torch.float64)\n",
      "\n"
     ]
    },
    {
     "name": "stderr",
     "output_type": "stream",
     "text": [
      "\r",
      "Eval:  74%|███████▎  | 818/1110 [09:39<02:10,  2.23it/s]"
     ]
    },
    {
     "name": "stdout",
     "output_type": "stream",
     "text": [
      "orientation_error\n",
      "tensor([16.5757, 17.6785, 17.8405, 18.3984, 18.6987, 20.9929, 21.8821, 20.3167,\n",
      "        19.5868, 18.7564, 20.6364, 19.0716, 21.6989, 35.4097, 20.9317, 21.2070,\n",
      "        25.3169, 29.0945, 34.2205, 35.5811, 28.4113, 30.6582, 28.6058, 27.3416,\n",
      "        27.9728, 37.2299, 32.1915, 26.5226, 23.6910, 24.6622, 29.6619, 22.3924],\n",
      "       device='cuda:0', dtype=torch.float64)\n",
      "\n"
     ]
    },
    {
     "name": "stderr",
     "output_type": "stream",
     "text": [
      "\r",
      "Eval:  74%|███████▍  | 819/1110 [09:39<02:06,  2.31it/s]"
     ]
    },
    {
     "name": "stdout",
     "output_type": "stream",
     "text": [
      "orientation_error\n",
      "tensor([24.8337, 23.3416, 25.6339, 28.4361, 28.5557, 25.5916, 23.7838, 32.3917,\n",
      "        29.9131, 34.2152, 30.1856, 29.8124, 22.3683, 22.0605, 24.0145, 22.7060,\n",
      "        24.4770, 25.0752, 29.2013, 38.4713, 48.8540, 53.0725, 63.9939, 66.3717,\n",
      "        62.6649, 61.8905, 64.4941, 54.3251, 56.2699, 51.1286, 52.7413, 53.1875],\n",
      "       device='cuda:0', dtype=torch.float64)\n",
      "\n"
     ]
    },
    {
     "name": "stderr",
     "output_type": "stream",
     "text": [
      "\r",
      "Eval:  74%|███████▍  | 820/1110 [09:40<02:03,  2.35it/s]"
     ]
    },
    {
     "name": "stdout",
     "output_type": "stream",
     "text": [
      "orientation_error\n",
      "tensor([52.8262, 52.6141, 52.9661, 53.6020, 54.4906, 55.3283, 54.2860, 54.1250,\n",
      "        54.9907, 55.0945, 71.2091, 72.1018, 72.5496, 56.7128, 55.6227, 55.6049,\n",
      "        54.1023, 67.9937, 53.6925, 54.7517, 69.8127, 69.2829, 69.2347, 69.2946,\n",
      "        68.3469, 67.8477, 68.5241, 67.5852, 67.9324, 64.8498, 59.0738, 59.1558],\n",
      "       device='cuda:0', dtype=torch.float64)\n",
      "\n",
      "MPJPE: 94.77129218207504\n",
      "Reconstruction Error: 57.795886928912125\n",
      "\n",
      "Orientation error: 31.33319864539344\n"
     ]
    },
    {
     "name": "stderr",
     "output_type": "stream",
     "text": [
      "\r",
      "Eval:  74%|███████▍  | 821/1110 [09:40<02:10,  2.21it/s]"
     ]
    },
    {
     "name": "stdout",
     "output_type": "stream",
     "text": [
      "orientation_error\n",
      "tensor([45.3802, 43.0724, 32.5900, 41.2957, 41.0881, 41.4972, 41.1123, 42.0224,\n",
      "        42.3015, 55.0919, 55.5990, 55.3473, 55.1148, 55.5038, 55.6627, 42.3511,\n",
      "        56.3517, 56.5080, 56.8651, 57.9095, 72.6247, 71.7932, 72.2849, 72.3175,\n",
      "        71.8205, 72.5728, 59.5580, 47.1581, 78.3652, 58.9882, 74.6310, 66.8464],\n",
      "       device='cuda:0', dtype=torch.float64)\n",
      "\n"
     ]
    },
    {
     "name": "stderr",
     "output_type": "stream",
     "text": [
      "\r",
      "Eval:  74%|███████▍  | 822/1110 [09:41<02:21,  2.03it/s]"
     ]
    },
    {
     "name": "stdout",
     "output_type": "stream",
     "text": [
      "orientation_error\n",
      "tensor([69.1216, 75.8845, 74.2959, 74.0968, 83.5781, 83.5135, 69.4520, 69.3852,\n",
      "        69.3699, 84.8888, 84.7300, 74.9795, 62.1927, 47.4148, 46.3617, 46.0735,\n",
      "        46.2359, 46.0185, 45.5199, 44.8130, 44.1839, 44.6360, 44.8809, 45.2623,\n",
      "        45.8147, 56.4074, 67.6051, 67.3853, 68.7755, 68.8248, 58.0720, 45.8881],\n",
      "       device='cuda:0', dtype=torch.float64)\n",
      "\n"
     ]
    },
    {
     "name": "stderr",
     "output_type": "stream",
     "text": [
      "\r",
      "Eval:  74%|███████▍  | 823/1110 [09:41<02:16,  2.09it/s]"
     ]
    },
    {
     "name": "stdout",
     "output_type": "stream",
     "text": [
      "orientation_error\n",
      "tensor([45.8531, 58.8570, 59.3376, 59.1877, 43.1844, 42.1502, 35.6405, 34.8316,\n",
      "        34.6950, 33.9724, 34.5014, 48.0416, 48.5423, 48.8765, 49.2960, 49.6473,\n",
      "        49.5640, 48.4426, 49.1889, 49.2605, 34.2723, 30.8173, 28.1267, 43.4550,\n",
      "        28.5019, 37.5331, 38.1147, 38.6045, 37.4147, 36.5394, 36.4086, 37.7766],\n",
      "       device='cuda:0', dtype=torch.float64)\n",
      "\n"
     ]
    },
    {
     "name": "stderr",
     "output_type": "stream",
     "text": [
      "\r",
      "Eval:  74%|███████▍  | 824/1110 [09:42<02:10,  2.18it/s]"
     ]
    },
    {
     "name": "stdout",
     "output_type": "stream",
     "text": [
      "orientation_error\n",
      "tensor([41.6299, 41.9172, 41.0258, 38.0671, 38.5828, 38.4018, 39.3860, 40.3182,\n",
      "        42.0158, 40.7558, 37.8848, 38.8450, 36.9505, 36.3536, 37.2678, 33.8554,\n",
      "        31.0582, 42.1740, 41.7958, 42.1134, 42.2270, 43.0087, 43.0737, 42.9565,\n",
      "        43.3414, 50.1112, 49.4488, 47.8064, 46.8111, 44.6109, 42.5213, 40.8453],\n",
      "       device='cuda:0', dtype=torch.float64)\n",
      "\n"
     ]
    },
    {
     "name": "stderr",
     "output_type": "stream",
     "text": [
      "\r",
      "Eval:  74%|███████▍  | 825/1110 [09:42<02:12,  2.14it/s]"
     ]
    },
    {
     "name": "stdout",
     "output_type": "stream",
     "text": [
      "orientation_error\n",
      "tensor([40.9073, 40.2060, 39.5890, 39.1711, 39.1514, 25.0295, 26.4941, 26.4384,\n",
      "        27.5866, 28.1760, 27.7731, 26.2597, 26.1291, 25.5263, 25.6828, 25.2544,\n",
      "        24.2510, 24.3543, 24.8054, 26.0664, 26.9534, 27.7520, 26.6577, 27.3140,\n",
      "        26.5182, 25.7485, 24.5760, 24.9424, 24.6923, 24.6793, 25.1902, 25.1771],\n",
      "       device='cuda:0', dtype=torch.float64)\n",
      "\n"
     ]
    },
    {
     "name": "stderr",
     "output_type": "stream",
     "text": [
      "\r",
      "Eval:  74%|███████▍  | 826/1110 [09:43<02:19,  2.04it/s]"
     ]
    },
    {
     "name": "stdout",
     "output_type": "stream",
     "text": [
      "orientation_error\n",
      "tensor([25.3119, 23.9747, 23.8470, 24.0579, 22.1704, 22.4926, 22.0175, 23.0517,\n",
      "        22.3615, 22.6371, 23.1644, 23.9498, 23.2689, 23.0871, 23.2478, 21.7576,\n",
      "        21.6468, 21.8764, 21.5910, 20.8771, 22.4968, 21.4693, 21.5279, 21.4063,\n",
      "        22.3368, 21.4355, 21.0501, 21.1774, 21.7423, 22.9503, 22.7464, 22.4716],\n",
      "       device='cuda:0', dtype=torch.float64)\n",
      "\n"
     ]
    },
    {
     "name": "stderr",
     "output_type": "stream",
     "text": [
      "\r",
      "Eval:  75%|███████▍  | 827/1110 [09:43<02:37,  1.80it/s]"
     ]
    },
    {
     "name": "stdout",
     "output_type": "stream",
     "text": [
      "orientation_error\n",
      "tensor([23.2673, 23.4401, 22.9816, 22.4601, 22.9868, 22.5224, 22.0023, 21.4926,\n",
      "        21.2418, 21.3428, 20.8496, 20.6733, 20.6531, 20.2000, 19.6601, 19.9660,\n",
      "        19.5224, 19.7077, 19.4062, 19.5581, 20.2717, 21.4683, 21.6591, 22.5888,\n",
      "        23.2837, 23.1402, 24.3116, 23.5281, 36.3900, 20.4962, 19.3534, 20.0861],\n",
      "       device='cuda:0', dtype=torch.float64)\n",
      "\n"
     ]
    },
    {
     "name": "stderr",
     "output_type": "stream",
     "text": [
      "\r",
      "Eval:  75%|███████▍  | 828/1110 [09:44<02:44,  1.72it/s]"
     ]
    },
    {
     "name": "stdout",
     "output_type": "stream",
     "text": [
      "orientation_error\n",
      "tensor([35.7173, 37.0103, 36.7160, 37.2790, 36.6737, 35.1874, 35.1310, 35.5660,\n",
      "        35.3363, 34.1757, 19.5970, 19.1208, 18.4958, 19.8039, 20.2311, 39.1944,\n",
      "        42.3107, 20.2374, 20.0388, 19.8440, 19.6152, 19.9231, 20.6441, 20.6494,\n",
      "        22.1378, 22.3475, 22.8540, 22.5310, 23.5418, 24.6879, 25.7267, 25.3296],\n",
      "       device='cuda:0', dtype=torch.float64)\n",
      "\n"
     ]
    },
    {
     "name": "stderr",
     "output_type": "stream",
     "text": [
      "\r",
      "Eval:  75%|███████▍  | 829/1110 [09:45<02:51,  1.64it/s]"
     ]
    },
    {
     "name": "stdout",
     "output_type": "stream",
     "text": [
      "orientation_error\n",
      "tensor([23.4347, 26.2257, 27.7620, 27.7507, 27.4418, 26.0099, 32.2031, 47.7338,\n",
      "        48.7545, 51.4893, 52.6599, 40.9202, 43.5700, 46.6311, 54.2725, 56.7183,\n",
      "        56.1010, 60.1777, 62.2043, 78.2778, 78.2474, 62.2925, 57.9778, 56.7155,\n",
      "        56.9921, 53.9850, 47.7210, 44.4735, 54.2251, 45.6755, 49.0884, 45.6903],\n",
      "       device='cuda:0', dtype=torch.float64)\n",
      "\n"
     ]
    },
    {
     "name": "stderr",
     "output_type": "stream",
     "text": [
      "\r",
      "Eval:  75%|███████▍  | 830/1110 [09:45<02:48,  1.66it/s]"
     ]
    },
    {
     "name": "stdout",
     "output_type": "stream",
     "text": [
      "orientation_error\n",
      "tensor([44.2196, 53.1906, 41.3271, 41.8334, 34.7842, 31.0622, 29.2086, 29.3218,\n",
      "        28.9522, 28.4567, 29.3675, 28.6479, 29.6524, 29.3270, 29.5040, 29.0948,\n",
      "        31.1795, 30.2218, 34.1220, 33.3402, 34.9267, 37.2876, 39.6472, 33.3580,\n",
      "        36.0037, 38.3511, 40.9426, 41.8862, 40.0377, 41.4002, 40.8059, 36.6620],\n",
      "       device='cuda:0', dtype=torch.float64)\n",
      "\n"
     ]
    },
    {
     "name": "stderr",
     "output_type": "stream",
     "text": [
      "\r",
      "Eval:  75%|███████▍  | 831/1110 [09:46<02:35,  1.80it/s]"
     ]
    },
    {
     "name": "stdout",
     "output_type": "stream",
     "text": [
      "orientation_error\n",
      "tensor([38.4501, 37.4869, 38.3982, 41.8400, 41.1237, 40.3508, 41.0320, 41.9665,\n",
      "        40.7923, 38.0203, 37.7146, 37.1872, 37.3566, 36.2021, 37.0694, 37.7778,\n",
      "        39.7222, 39.4056, 38.7110, 39.1995, 38.3700, 40.5559, 40.0886, 37.9198,\n",
      "        37.1730, 38.0677, 39.0714, 39.3399, 38.8927, 38.7905, 38.4268, 38.3543],\n",
      "       device='cuda:0', dtype=torch.float64)\n",
      "\n"
     ]
    },
    {
     "name": "stderr",
     "output_type": "stream",
     "text": [
      "\r",
      "Eval:  75%|███████▍  | 832/1110 [09:46<02:21,  1.97it/s]"
     ]
    },
    {
     "name": "stdout",
     "output_type": "stream",
     "text": [
      "orientation_error\n",
      "tensor([38.7887, 37.8873, 36.3393, 39.1579, 43.4886, 44.9154, 46.1745, 43.1125,\n",
      "        42.6151, 46.6297, 45.6385, 41.1032, 46.2346, 43.5893, 44.4270, 43.9339,\n",
      "        44.8927, 42.1109, 42.1513, 40.8692, 43.1903, 46.8452, 45.9775, 45.4170,\n",
      "        49.5811, 44.5574, 44.0963, 45.1258, 44.8404, 46.8896, 34.2284, 44.3743],\n",
      "       device='cuda:0', dtype=torch.float64)\n",
      "\n"
     ]
    },
    {
     "name": "stderr",
     "output_type": "stream",
     "text": [
      "\r",
      "Eval:  75%|███████▌  | 833/1110 [09:46<02:09,  2.14it/s]"
     ]
    },
    {
     "name": "stdout",
     "output_type": "stream",
     "text": [
      "orientation_error\n",
      "tensor([44.2392, 24.9075, 25.0083, 25.3198, 26.9502, 25.4828, 26.6206, 26.7779,\n",
      "        26.3824, 26.5465, 26.1548, 25.6820, 28.1823, 35.5729, 39.9753, 39.1983,\n",
      "        44.6445, 46.2386, 30.4793, 27.4338, 22.9633, 21.6312, 25.5233, 28.2465,\n",
      "        25.9112, 24.6547, 26.6124, 25.6769, 28.5540, 29.8228, 42.0439, 47.5905],\n",
      "       device='cuda:0', dtype=torch.float64)\n",
      "\n",
      "orientation_error\n",
      "tensor([45.3873, 44.2324, 39.8518, 39.9502, 38.0632, 38.5774, 39.6668, 38.9509,\n",
      "        42.5642, 27.0239, 26.2540, 25.1183, 24.4385, 23.9669, 23.4148, 23.8107,\n",
      "        23.9309, 24.1956, 25.0593, 25.3962, 25.3755, 25.7220, 26.0595, 26.5487,\n",
      "        26.4092, 26.7747, 26.3023, 26.5456, 28.9527, 29.1347, 44.0137, 46.1026],\n",
      "       device='cuda:0', dtype=torch.float64)\n",
      "\n"
     ]
    },
    {
     "name": "stderr",
     "output_type": "stream",
     "text": [
      "Eval:  75%|███████▌  | 835/1110 [09:48<02:22,  1.93it/s]"
     ]
    },
    {
     "name": "stdout",
     "output_type": "stream",
     "text": [
      "orientation_error\n",
      "tensor([30.8959, 45.9244, 45.2657, 30.8000, 31.4970, 31.7911, 30.5844, 29.5732,\n",
      "        29.1972, 28.1588, 27.5608, 26.9731, 26.0800, 25.3514, 25.0960, 25.7201,\n",
      "        25.7872, 25.0295, 25.0367, 25.3441, 24.3717, 24.7380, 24.8888, 24.0648,\n",
      "        23.9657, 23.9800, 23.9115, 22.4917, 21.2323, 21.0950, 20.4847, 18.9714],\n",
      "       device='cuda:0', dtype=torch.float64)\n",
      "\n"
     ]
    },
    {
     "name": "stderr",
     "output_type": "stream",
     "text": [
      "\r",
      "Eval:  75%|███████▌  | 836/1110 [09:49<03:11,  1.43it/s]"
     ]
    },
    {
     "name": "stdout",
     "output_type": "stream",
     "text": [
      "orientation_error\n",
      "tensor([18.9012, 19.4473, 20.0763, 20.6666, 21.7432, 22.7931, 23.7006, 25.4090,\n",
      "        27.6422, 26.3841, 25.2999, 24.5178, 22.3439, 21.2917, 21.7858, 20.6391,\n",
      "        20.9725, 21.4839, 21.3390, 20.9138, 18.7231, 18.0245, 19.0967, 35.0083,\n",
      "        36.0979, 35.3492, 34.1570, 20.2358, 20.4343, 18.6911, 34.1997, 18.6413],\n",
      "       device='cuda:0', dtype=torch.float64)\n",
      "\n"
     ]
    },
    {
     "name": "stderr",
     "output_type": "stream",
     "text": [
      "\r",
      "Eval:  75%|███████▌  | 837/1110 [09:49<02:47,  1.63it/s]"
     ]
    },
    {
     "name": "stdout",
     "output_type": "stream",
     "text": [
      "orientation_error\n",
      "tensor([18.9012, 19.9676, 20.3051, 20.1314, 19.1317, 19.8659, 18.7407, 18.1652,\n",
      "        18.8018, 19.0466, 18.9041, 33.8677, 19.4073, 18.8024, 17.8173, 17.8714,\n",
      "        17.3807, 32.5693, 19.1063, 20.3433, 20.1075, 18.5352, 18.6047, 20.0649,\n",
      "        19.6228, 18.3424, 17.8604, 18.6620, 19.2815, 20.0696, 21.2515, 25.4935],\n",
      "       device='cuda:0', dtype=torch.float64)\n",
      "\n"
     ]
    },
    {
     "name": "stderr",
     "output_type": "stream",
     "text": [
      "\r",
      "Eval:  75%|███████▌  | 838/1110 [09:50<02:42,  1.67it/s]"
     ]
    },
    {
     "name": "stdout",
     "output_type": "stream",
     "text": [
      "orientation_error\n",
      "tensor([26.4877, 25.5154, 23.7628, 21.8946, 31.8179, 31.4665, 31.7778, 31.4239,\n",
      "        31.9621, 32.1594, 31.5021, 31.1955, 31.4102, 31.9051, 18.1813, 19.2206,\n",
      "        19.9911, 20.7732, 21.4810, 35.6736, 36.2451, 36.6277, 36.6084, 37.2706,\n",
      "        23.6247, 24.1118, 24.2889, 23.7804, 23.9175, 23.8952, 24.1568, 23.7456],\n",
      "       device='cuda:0', dtype=torch.float64)\n",
      "\n"
     ]
    },
    {
     "name": "stderr",
     "output_type": "stream",
     "text": [
      "\r",
      "Eval:  76%|███████▌  | 839/1110 [09:50<02:34,  1.76it/s]"
     ]
    },
    {
     "name": "stdout",
     "output_type": "stream",
     "text": [
      "orientation_error\n",
      "tensor([23.6045, 23.5835, 23.1049, 22.7704, 22.4549, 22.5199, 22.4636, 21.9494,\n",
      "        21.6270, 21.5527, 21.3431, 21.5744, 21.2515, 21.0115, 21.5527, 21.4198,\n",
      "        21.8356, 21.9790, 21.6034, 21.7527, 22.0893, 21.8665, 21.6025, 21.2121,\n",
      "        20.8472, 20.9886, 20.9313, 21.1511, 20.8694, 20.8246, 20.8660, 21.0260],\n",
      "       device='cuda:0', dtype=torch.float64)\n",
      "\n"
     ]
    },
    {
     "name": "stderr",
     "output_type": "stream",
     "text": [
      "\r",
      "Eval:  76%|███████▌  | 840/1110 [09:51<02:34,  1.75it/s]"
     ]
    },
    {
     "name": "stdout",
     "output_type": "stream",
     "text": [
      "orientation_error\n",
      "tensor([20.9481, 21.1279, 20.7684, 20.7560, 20.8236, 21.4793, 21.0922, 20.8846,\n",
      "        21.1983, 21.4306, 21.4890, 21.2077, 21.1511, 20.7710, 34.4477, 20.8402,\n",
      "        20.5669, 34.3005, 33.9887, 34.2075, 34.2652, 34.1555, 34.5239, 34.4433,\n",
      "        34.7881, 34.9790, 35.2160, 21.6936, 35.4526, 35.4653, 35.1364, 22.0972],\n",
      "       device='cuda:0', dtype=torch.float64)\n",
      "\n",
      "MPJPE: 94.97227546023827\n",
      "Reconstruction Error: 57.86474806755277\n",
      "\n",
      "Orientation error: 31.431167476563175\n",
      "orientation_error\n",
      "tensor([22.1765, 35.5378, 22.2301, 35.4200, 35.3704, 35.5138, 35.4430, 35.1602,\n",
      "        21.7268, 21.8327, 34.9862, 34.9117, 21.2568, 35.0861, 21.3555, 35.0808,\n",
      "        21.3043, 35.1594, 35.0769, 21.5843, 21.2166, 21.3968, 21.3787, 21.4505,\n",
      "        21.2213, 21.1589, 34.9104, 33.8587, 34.2957, 33.7253, 33.9462, 33.7251],\n",
      "       device='cuda:0', dtype=torch.float64)\n",
      "\n"
     ]
    },
    {
     "name": "stderr",
     "output_type": "stream",
     "text": [
      "Eval:  76%|███████▌  | 842/1110 [09:52<02:53,  1.55it/s]"
     ]
    },
    {
     "name": "stdout",
     "output_type": "stream",
     "text": [
      "orientation_error\n",
      "tensor([33.3445, 33.8362, 34.2449, 33.6646, 33.3027, 32.5144, 33.3679, 33.3087,\n",
      "        33.3845, 34.4510, 35.5062, 35.4355, 35.4137, 34.8699, 35.2657, 35.9076,\n",
      "        35.2065, 34.5329, 35.9275, 34.1151, 33.8289, 33.6122, 34.2824, 20.8910,\n",
      "        19.3552, 33.4147, 32.2491, 17.2503, 16.1272, 16.1670, 16.4010, 31.5738],\n",
      "       device='cuda:0', dtype=torch.float64)\n",
      "\n"
     ]
    },
    {
     "name": "stderr",
     "output_type": "stream",
     "text": [
      "\r",
      "Eval:  76%|███████▌  | 843/1110 [09:53<03:09,  1.41it/s]"
     ]
    },
    {
     "name": "stdout",
     "output_type": "stream",
     "text": [
      "orientation_error\n",
      "tensor([31.9712, 19.0403, 34.2043, 20.1460, 19.4838, 20.4034, 34.5917, 20.7050,\n",
      "        20.8222, 20.9335, 21.1846, 21.3416, 21.5857, 21.5790, 21.9113, 21.7426,\n",
      "        21.2025, 20.6444, 19.9446, 19.2324, 19.4831, 20.3228, 34.7920, 35.1074,\n",
      "        35.0805, 35.2005, 34.9149, 36.0602, 22.0754, 22.3836, 21.6379, 22.2049],\n",
      "       device='cuda:0', dtype=torch.float64)\n",
      "\n"
     ]
    },
    {
     "name": "stderr",
     "output_type": "stream",
     "text": [
      "\r",
      "Eval:  76%|███████▌  | 844/1110 [09:54<03:03,  1.45it/s]"
     ]
    },
    {
     "name": "stdout",
     "output_type": "stream",
     "text": [
      "orientation_error\n",
      "tensor([21.1308, 21.7295, 21.8416, 20.5705, 19.6422, 18.9546, 17.9041, 17.5752,\n",
      "        18.0507, 18.8664, 19.2305, 20.1019, 34.2741, 20.2847, 20.4492, 34.8774,\n",
      "        21.0796, 35.3897, 36.0024, 21.8413, 35.8452, 35.7845, 20.8943, 20.4706,\n",
      "        19.7851, 19.5420, 19.9454, 20.1676, 21.2831, 21.2611, 21.2440, 20.5250],\n",
      "       device='cuda:0', dtype=torch.float64)\n",
      "\n"
     ]
    },
    {
     "name": "stderr",
     "output_type": "stream",
     "text": [
      "\r",
      "Eval:  76%|███████▌  | 845/1110 [09:54<02:59,  1.47it/s]"
     ]
    },
    {
     "name": "stdout",
     "output_type": "stream",
     "text": [
      "orientation_error\n",
      "tensor([20.3684, 20.8778, 20.9385, 19.9543, 20.2090, 19.7963, 19.5759, 20.7771,\n",
      "        19.3196, 18.2271, 17.9890, 16.8578, 16.7167, 16.5197, 16.2979, 16.9688,\n",
      "        31.1268, 31.4018, 30.8989, 32.0134, 33.7500, 34.8510, 35.5066, 34.8917,\n",
      "        34.8380, 35.2251, 35.1544, 34.6523, 34.7207, 33.7340, 17.6687, 16.9889],\n",
      "       device='cuda:0', dtype=torch.float64)\n",
      "\n"
     ]
    },
    {
     "name": "stderr",
     "output_type": "stream",
     "text": [
      "\r",
      "Eval:  76%|███████▌  | 846/1110 [09:55<02:46,  1.59it/s]"
     ]
    },
    {
     "name": "stdout",
     "output_type": "stream",
     "text": [
      "orientation_error\n",
      "tensor([17.6808, 32.3800, 18.1586, 17.7983, 17.4538, 16.8126, 16.6423, 16.9566,\n",
      "        17.4271, 17.3353, 17.6068, 16.8298, 20.8675, 36.3797, 35.0275, 32.4684,\n",
      "        33.8662, 20.4782, 20.1008, 19.1156, 18.1932, 18.5927, 33.5771, 35.1018,\n",
      "        35.4960, 34.9145, 35.6828, 35.9492, 36.3064, 36.5219, 36.6646, 36.2335],\n",
      "       device='cuda:0', dtype=torch.float64)\n",
      "\n"
     ]
    },
    {
     "name": "stderr",
     "output_type": "stream",
     "text": [
      "\r",
      "Eval:  76%|███████▋  | 847/1110 [09:55<02:29,  1.76it/s]"
     ]
    },
    {
     "name": "stdout",
     "output_type": "stream",
     "text": [
      "orientation_error\n",
      "tensor([36.8147, 36.0333, 34.4277, 33.2009, 33.0634, 32.9040, 32.1868, 32.3873,\n",
      "        31.9446, 33.1216, 45.5188, 20.2399, 19.5627, 18.8829, 18.6289, 19.4387,\n",
      "        20.5908, 24.1373, 22.9780, 33.5185, 24.2107, 21.5500, 20.5314, 19.6151,\n",
      "        20.3724, 20.4077, 19.5377, 24.8055, 22.8308, 23.5351, 23.2277, 25.3727],\n",
      "       device='cuda:0', dtype=torch.float64)\n",
      "\n"
     ]
    },
    {
     "name": "stderr",
     "output_type": "stream",
     "text": [
      "\r",
      "Eval:  76%|███████▋  | 848/1110 [09:56<02:42,  1.61it/s]"
     ]
    },
    {
     "name": "stdout",
     "output_type": "stream",
     "text": [
      "orientation_error\n",
      "tensor([26.2238, 26.4977, 27.7693, 31.2073, 31.4708, 28.6107, 30.2521, 27.8633,\n",
      "        26.1268, 27.3556, 24.8933, 24.2584, 21.7325, 20.8826, 21.0004, 21.2540,\n",
      "        19.9725, 19.8543, 22.2741, 29.1564, 22.8902, 21.2963, 21.9283, 23.6723,\n",
      "        23.9348, 21.9854, 23.5633, 23.3344, 23.0223, 20.8483, 20.5389, 21.3028],\n",
      "       device='cuda:0', dtype=torch.float64)\n",
      "\n"
     ]
    },
    {
     "name": "stderr",
     "output_type": "stream",
     "text": [
      "\r",
      "Eval:  76%|███████▋  | 849/1110 [09:57<02:49,  1.54it/s]"
     ]
    },
    {
     "name": "stdout",
     "output_type": "stream",
     "text": [
      "orientation_error\n",
      "tensor([22.1380, 25.7009, 32.7032, 40.6068, 46.8916, 51.6016, 53.6439, 51.6594,\n",
      "        47.5708, 48.7337, 47.6583, 66.4102, 64.1423, 62.6929, 61.6783, 62.4570,\n",
      "        61.4780, 61.4872, 65.7912, 62.5943, 64.0310, 50.7599, 51.7176, 53.4178,\n",
      "        53.2076, 55.9747, 49.5359, 58.7190, 60.4382, 61.5266, 76.7739, 78.8560],\n",
      "       device='cuda:0', dtype=torch.float64)\n",
      "\n"
     ]
    },
    {
     "name": "stderr",
     "output_type": "stream",
     "text": [
      "\r",
      "Eval:  77%|███████▋  | 850/1110 [09:57<02:50,  1.53it/s]"
     ]
    },
    {
     "name": "stdout",
     "output_type": "stream",
     "text": [
      "orientation_error\n",
      "tensor([84.7625, 63.0274, 66.0620, 53.8488, 52.0782, 60.1740, 41.7948, 43.3977,\n",
      "        56.2386, 41.7171, 65.2268, 70.4698, 48.4841, 39.5824, 39.8433, 33.2884,\n",
      "        34.9389, 34.3610, 48.7024, 31.9413, 32.2461, 32.2117, 31.2322, 46.3182,\n",
      "        46.3069, 46.9355, 46.1388, 45.0138, 30.6210, 45.3917, 46.5751, 37.3539],\n",
      "       device='cuda:0', dtype=torch.float64)\n",
      "\n",
      "orientation_error\n",
      "tensor([42.7870, 32.3334, 47.2308, 48.7108, 48.4485, 30.8818, 29.5604, 30.3278,\n",
      "        29.1894, 27.1402, 28.5120, 29.9565, 29.0127, 28.6267, 28.9256, 29.8413,\n",
      "        29.3676, 28.3355, 28.7007, 29.2107, 29.7368, 29.6505, 30.0049, 30.0956,\n",
      "        29.9018, 30.1576, 30.0124, 29.3184, 29.1265, 29.1953, 44.3271, 43.7112],\n",
      "       device='cuda:0', dtype=torch.float64)\n",
      "\n"
     ]
    },
    {
     "name": "stderr",
     "output_type": "stream",
     "text": [
      "\r",
      "Eval:  77%|███████▋  | 851/1110 [09:58<03:11,  1.35it/s]"
     ]
    },
    {
     "name": "stdout",
     "output_type": "stream",
     "text": [
      "orientation_error\n",
      "tensor([43.2490, 44.8081, 46.2055, 46.1224, 47.1432, 46.2271, 49.8707, 24.9409,\n",
      "        23.8192, 40.1079, 40.0951, 39.2695, 39.7702, 25.1630, 27.1304, 28.4613,\n",
      "        29.6432, 29.9975, 30.1396, 29.8671, 31.1081, 31.5100, 32.2905, 32.1562,\n",
      "        32.4338, 34.7650, 33.0346, 35.5098, 35.0515, 28.5583, 31.1241, 28.9639],\n",
      "       device='cuda:0', dtype=torch.float64)\n",
      "\n"
     ]
    },
    {
     "name": "stderr",
     "output_type": "stream",
     "text": [
      "\r",
      "Eval:  77%|███████▋  | 852/1110 [09:59<03:26,  1.25it/s]"
     ]
    },
    {
     "name": "stdout",
     "output_type": "stream",
     "text": [
      "orientation_error\n",
      "tensor([23.4084, 25.3253, 22.2651, 21.4315, 19.0853, 19.3249, 19.0456, 18.7604,\n",
      "        18.4583, 18.1484, 31.9135, 31.9567, 17.6724, 17.7607, 32.2498, 32.5901,\n",
      "        32.6874, 18.4852, 33.1874, 33.7566, 34.2769, 33.7461, 34.4561, 35.0895,\n",
      "        34.9042, 34.6419, 20.1327, 35.1885, 35.2713, 22.7998, 25.0044, 21.0231],\n",
      "       device='cuda:0', dtype=torch.float64)\n",
      "\n"
     ]
    },
    {
     "name": "stderr",
     "output_type": "stream",
     "text": [
      "Eval:  77%|███████▋  | 854/1110 [10:01<03:18,  1.29it/s]"
     ]
    },
    {
     "name": "stdout",
     "output_type": "stream",
     "text": [
      "orientation_error\n",
      "tensor([22.7402, 19.9439, 18.8433, 17.9389, 18.5397, 19.3135, 18.8959, 20.1207,\n",
      "        20.2172, 19.9799, 33.8604, 34.6285, 34.7892, 34.0979, 20.9064, 21.5352,\n",
      "        21.0279, 20.8670, 21.1462, 21.9210, 20.8804, 20.6718, 20.7455, 20.4592,\n",
      "        19.6052, 18.9402, 19.4807, 17.8335, 17.5599, 17.9016, 16.8778, 17.8277],\n",
      "       device='cuda:0', dtype=torch.float64)\n",
      "\n",
      "orientation_error\n",
      "tensor([17.3314, 16.5942, 16.1782, 16.3038, 16.0579, 16.2891, 18.2455, 17.5493,\n",
      "        29.9849, 29.9079, 29.8251, 29.4985, 29.6949, 29.4358, 29.0120, 29.0366,\n",
      "        28.7777, 28.8267, 29.0671, 28.8589, 28.3991, 28.7772, 28.3442, 28.9572,\n",
      "        29.8484, 29.9215, 29.9519, 29.9531, 16.5660, 30.1827, 16.3332, 16.1636],\n",
      "       device='cuda:0', dtype=torch.float64)\n",
      "\n"
     ]
    },
    {
     "name": "stderr",
     "output_type": "stream",
     "text": [
      "Eval:  77%|███████▋  | 856/1110 [10:02<03:11,  1.33it/s]"
     ]
    },
    {
     "name": "stdout",
     "output_type": "stream",
     "text": [
      "orientation_error\n",
      "tensor([16.3643, 17.5517, 17.9993, 17.8026, 17.7063, 17.8570, 17.2742, 17.2527,\n",
      "        16.6032, 16.9235, 16.7990, 15.9852, 15.6158, 15.9135, 17.3438, 18.6008,\n",
      "        19.4652, 20.4405, 22.5609, 22.8673, 24.5738, 23.4598, 23.6190, 37.7536,\n",
      "        21.5655, 36.3573, 35.0223, 35.8212, 34.7286, 35.8853, 36.4494, 34.3645],\n",
      "       device='cuda:0', dtype=torch.float64)\n",
      "\n",
      "orientation_error\n",
      "tensor([35.1741, 35.6045, 35.5367, 35.7436, 37.0685, 36.7886, 35.7681, 38.1637,\n",
      "        36.8062, 35.3885, 36.6487, 37.4818, 35.9350, 20.8860, 20.2444, 32.7586,\n",
      "        32.1104, 32.6633, 32.1765, 31.7591, 16.8295, 31.1776, 31.0250, 30.8021,\n",
      "        31.4191, 15.6820, 16.5842, 16.0685, 16.9633, 17.8917, 17.7954, 33.8653],\n",
      "       device='cuda:0', dtype=torch.float64)\n",
      "\n"
     ]
    },
    {
     "name": "stderr",
     "output_type": "stream",
     "text": [
      "\r",
      "Eval:  77%|███████▋  | 857/1110 [10:03<03:26,  1.22it/s]"
     ]
    },
    {
     "name": "stdout",
     "output_type": "stream",
     "text": [
      "orientation_error\n",
      "tensor([33.5626, 18.2459, 17.9603, 17.4656, 18.9909, 18.6835, 20.0640, 33.8979,\n",
      "        35.0701, 20.9868, 34.7799, 37.5026, 23.7577, 39.9216, 26.6327, 51.1192,\n",
      "        33.7356, 53.1393, 40.0623, 41.0584, 39.1012, 41.5480, 43.7384, 41.5479,\n",
      "        42.8032, 57.6982, 56.6787, 56.1918, 55.2054, 48.4384, 44.9182, 44.5138],\n",
      "       device='cuda:0', dtype=torch.float64)\n",
      "\n"
     ]
    },
    {
     "name": "stderr",
     "output_type": "stream",
     "text": [
      "Eval:  77%|███████▋  | 859/1110 [10:05<03:33,  1.17it/s]"
     ]
    },
    {
     "name": "stdout",
     "output_type": "stream",
     "text": [
      "orientation_error\n",
      "tensor([45.8667, 46.0594, 45.5353, 45.6966, 46.1769, 45.5020, 45.8494, 46.2232,\n",
      "        32.9436, 30.5723, 30.8987, 34.9433, 32.6776, 31.4968, 34.5324, 31.8201,\n",
      "        31.2262, 34.2633, 31.3224, 29.8137, 32.0392, 31.4571, 31.7853, 29.7898,\n",
      "        43.4800, 43.4448, 43.5910, 30.1095, 31.1393, 47.8316, 55.1928, 36.8482],\n",
      "       device='cuda:0', dtype=torch.float64)\n",
      "\n",
      "orientation_error\n",
      "tensor([37.4134, 36.2504, 34.8766, 33.8106, 34.5109, 36.0069, 40.0463, 37.3160,\n",
      "        35.6581, 48.1165, 41.1252, 33.6289, 29.1459, 40.4180, 31.6170, 36.4198,\n",
      "        40.8026, 31.4089, 36.0613, 35.6259, 50.9123, 47.3266, 52.9249, 46.2704,\n",
      "        54.1341, 56.6753, 68.8484, 58.5102, 61.3901, 59.5338, 62.2986, 58.0888],\n",
      "       device='cuda:0', dtype=torch.float64)\n",
      "\n"
     ]
    },
    {
     "name": "stderr",
     "output_type": "stream",
     "text": [
      "\r",
      "Eval:  77%|███████▋  | 860/1110 [10:06<03:39,  1.14it/s]"
     ]
    },
    {
     "name": "stdout",
     "output_type": "stream",
     "text": [
      "MPJPE: 94.6700266467942\n",
      "Reconstruction Error: 57.93397202313964\n",
      "\n",
      "Orientation error: 31.405982719285227\n",
      "orientation_error\n",
      "tensor([64.4932, 69.4240, 83.5595, 88.5187, 89.6267, 73.6718, 61.7943, 72.9791,\n",
      "        71.9676, 67.6962, 66.6241, 54.6784, 57.1877, 62.4674, 77.4581, 75.2346,\n",
      "        64.7444, 47.7410, 48.2028, 52.8518, 44.2462, 46.3088, 49.2297, 56.4420,\n",
      "        51.8913, 53.6554, 39.9207, 39.3418, 38.0700, 37.5750, 35.9331, 35.2470],\n",
      "       device='cuda:0', dtype=torch.float64)\n",
      "\n"
     ]
    },
    {
     "name": "stderr",
     "output_type": "stream",
     "text": [
      "Eval:  78%|███████▊  | 862/1110 [10:08<03:25,  1.21it/s]"
     ]
    },
    {
     "name": "stdout",
     "output_type": "stream",
     "text": [
      "orientation_error\n",
      "tensor([36.7140, 36.0894, 35.4706, 36.0638, 36.9522, 36.9120, 37.1224, 26.8688,\n",
      "        37.6407, 26.7097, 37.7319, 29.6753, 38.8817, 29.3709, 25.7363, 27.6284,\n",
      "        25.4849, 26.7097, 28.5705, 27.5892, 27.4869, 29.0840, 29.6650, 34.4090,\n",
      "        33.9161, 41.1761, 40.3327, 40.2497, 33.1529, 39.7525, 40.2964, 31.8964],\n",
      "       device='cuda:0', dtype=torch.float64)\n",
      "\n",
      "orientation_error\n",
      "tensor([41.1132, 31.9868, 40.5783, 40.4230, 40.7460, 40.1794, 39.8658, 40.6286,\n",
      "        40.6136, 40.7620, 41.7192, 41.6982, 32.1347, 40.9190, 42.3819, 42.9020,\n",
      "        44.0312, 43.3462, 44.0248, 43.6212, 43.2814, 41.7910, 41.7828, 41.1021,\n",
      "        41.1497, 41.5837, 42.7316, 43.3225, 42.0865, 42.8113, 42.9370, 42.6013],\n",
      "       device='cuda:0', dtype=torch.float64)\n",
      "\n"
     ]
    },
    {
     "name": "stderr",
     "output_type": "stream",
     "text": [
      "Eval:  78%|███████▊  | 864/1110 [10:09<03:22,  1.22it/s]"
     ]
    },
    {
     "name": "stdout",
     "output_type": "stream",
     "text": [
      "orientation_error\n",
      "tensor([42.8523, 42.6130, 42.5229, 42.6649, 43.0497, 43.5042, 44.1799, 45.5054,\n",
      "        42.9643, 43.3928, 43.8604, 42.9826, 43.1002, 43.6366, 44.0805, 43.8335,\n",
      "        43.4331, 43.3376, 43.9547, 44.4503, 43.6803, 42.5808, 41.9169, 39.7968,\n",
      "        40.1483, 40.3621, 39.3445, 39.1557, 39.5977, 39.3686, 39.2412, 38.1921],\n",
      "       device='cuda:0', dtype=torch.float64)\n",
      "\n",
      "orientation_error\n",
      "tensor([37.0034, 36.9985, 36.1643, 35.1557, 34.8439, 34.5447, 35.3411, 34.8860,\n",
      "        34.9954, 35.5787, 35.1750, 35.5692, 35.6557, 36.3568, 36.8208, 36.8669,\n",
      "        37.7050, 37.2741, 37.9252, 37.5871, 37.2262, 38.5000, 37.7862, 37.7014,\n",
      "        36.8038, 37.3548, 38.5075, 37.1442, 29.4405, 36.3588, 36.4927, 35.8039],\n",
      "       device='cuda:0', dtype=torch.float64)\n",
      "\n"
     ]
    },
    {
     "name": "stderr",
     "output_type": "stream",
     "text": [
      "Eval:  78%|███████▊  | 866/1110 [10:11<03:06,  1.31it/s]"
     ]
    },
    {
     "name": "stdout",
     "output_type": "stream",
     "text": [
      "orientation_error\n",
      "tensor([35.5099, 35.9986, 35.3697, 35.8005, 36.2743, 36.1981, 35.2856, 35.3773,\n",
      "        35.9832, 35.9724, 36.3639, 35.3486, 35.4579, 34.8389, 35.1200, 34.8880,\n",
      "        35.6737, 35.7115, 35.7330, 36.1555, 35.4341, 35.9690, 35.2367, 35.3958,\n",
      "        35.6057, 35.7768, 35.4325, 35.2637, 35.3917, 35.6285, 35.6120, 35.1229],\n",
      "       device='cuda:0', dtype=torch.float64)\n",
      "\n"
     ]
    },
    {
     "name": "stderr",
     "output_type": "stream",
     "text": [
      "\r",
      "Eval:  78%|███████▊  | 867/1110 [10:12<03:15,  1.24it/s]"
     ]
    },
    {
     "name": "stdout",
     "output_type": "stream",
     "text": [
      "orientation_error\n",
      "tensor([34.7480, 36.0775, 35.4476, 35.8027, 35.8992, 35.7594, 35.9256, 36.1487,\n",
      "        35.3759, 36.1879, 36.4209, 37.9038, 37.2746, 39.1816, 40.0512, 40.4569,\n",
      "        40.7706, 42.3394, 41.7416, 42.1443, 42.2123, 41.3966, 40.7876, 40.0437,\n",
      "        38.5359, 38.0054, 35.5684, 34.5833, 34.8824, 35.4845, 34.8323, 33.8623],\n",
      "       device='cuda:0', dtype=torch.float64)\n",
      "\n"
     ]
    },
    {
     "name": "stderr",
     "output_type": "stream",
     "text": [
      "\r",
      "Eval:  78%|███████▊  | 868/1110 [10:13<04:02,  1.00s/it]"
     ]
    },
    {
     "name": "stdout",
     "output_type": "stream",
     "text": [
      "orientation_error\n",
      "tensor([34.1073, 33.9082, 33.8290, 35.0232, 34.3558, 33.6950, 35.5791, 33.8493,\n",
      "        33.4886, 34.7489, 33.3435, 33.8919, 34.3966, 33.1498, 33.5396, 32.9423,\n",
      "        33.6360, 33.8705, 35.5330, 35.1352, 35.5121, 35.8077, 36.5599, 37.2096,\n",
      "        37.8785, 38.7336, 38.9872, 39.0350, 39.0665, 39.7951, 39.2142, 40.0551],\n",
      "       device='cuda:0', dtype=torch.float64)\n",
      "\n"
     ]
    },
    {
     "name": "stderr",
     "output_type": "stream",
     "text": [
      "\r",
      "Eval:  78%|███████▊  | 869/1110 [10:14<03:35,  1.12it/s]"
     ]
    },
    {
     "name": "stdout",
     "output_type": "stream",
     "text": [
      "orientation_error\n",
      "tensor([39.9955, 39.2916, 39.9168, 39.2417, 46.0283, 43.9907, 43.7009, 47.8595,\n",
      "        38.4767, 39.0951, 47.9710, 37.0584, 45.3799, 44.4969, 43.2813, 42.7387,\n",
      "        32.4026, 32.3956, 31.0010, 30.2134, 29.3384, 28.4267, 27.6299, 25.5935,\n",
      "        25.0639, 25.4146, 25.7186, 26.5835, 26.7524, 28.1713, 27.3326, 35.5175],\n",
      "       device='cuda:0', dtype=torch.float64)\n",
      "\n"
     ]
    },
    {
     "name": "stderr",
     "output_type": "stream",
     "text": [
      "\r",
      "Eval:  78%|███████▊  | 870/1110 [10:15<03:34,  1.12it/s]"
     ]
    },
    {
     "name": "stdout",
     "output_type": "stream",
     "text": [
      "orientation_error\n",
      "tensor([36.0166, 35.7534, 35.8871, 36.4650, 36.5233, 36.9705, 37.6775, 37.3868,\n",
      "        38.0079, 38.6012, 39.3535, 39.5936, 39.6958, 40.9674, 40.0059, 39.1035,\n",
      "        38.6544, 38.1235, 38.3056, 37.9641, 35.7980, 34.1542, 33.0812, 31.5505,\n",
      "        31.0826, 30.9973, 30.5148, 30.0396, 30.0836, 29.8348, 28.9590, 29.5445],\n",
      "       device='cuda:0', dtype=torch.float64)\n",
      "\n"
     ]
    },
    {
     "name": "stderr",
     "output_type": "stream",
     "text": [
      "\r",
      "Eval:  78%|███████▊  | 871/1110 [10:15<03:19,  1.20it/s]"
     ]
    },
    {
     "name": "stdout",
     "output_type": "stream",
     "text": [
      "orientation_error\n",
      "tensor([30.1962, 30.3311, 31.1063, 30.9775, 15.7159, 30.5753, 30.9399, 30.7619,\n",
      "        30.1039, 29.5897, 30.0163, 30.9788, 31.3672, 31.5493, 31.6856, 31.8890,\n",
      "        31.7891, 32.2801, 32.7909, 32.9562, 32.7496, 32.9482, 32.7852, 32.9382,\n",
      "        33.0467, 32.8817, 32.5111, 32.7739, 33.0381, 33.4545, 33.4877, 33.5635],\n",
      "       device='cuda:0', dtype=torch.float64)\n",
      "\n",
      "orientation_error\n",
      "tensor([33.4379, 33.4354, 33.6029, 33.4072, 33.5053, 33.2906, 33.4556, 33.6032,\n",
      "        33.5314, 33.5756, 33.5067, 33.7786, 33.9571, 34.0300, 33.9063, 33.9810,\n",
      "        34.3035, 34.5302, 34.3735, 34.3334, 34.6251, 34.8295, 34.9546, 34.6519,\n",
      "        34.8906, 34.9513, 34.9150, 35.2114, 35.0909, 35.1783, 35.2389, 35.0568],\n",
      "       device='cuda:0', dtype=torch.float64)\n",
      "\n"
     ]
    },
    {
     "name": "stderr",
     "output_type": "stream",
     "text": [
      "Eval:  79%|███████▊  | 873/1110 [10:17<03:00,  1.32it/s]"
     ]
    },
    {
     "name": "stdout",
     "output_type": "stream",
     "text": [
      "orientation_error\n",
      "tensor([35.2347, 35.4012, 35.5550, 35.2550, 35.4469, 35.4202, 35.3913, 35.3840,\n",
      "        35.5651, 35.8243, 35.5339, 35.6281, 35.6054, 35.2802, 35.4276, 35.5351,\n",
      "        35.1999, 35.4840, 35.7300, 35.5870, 36.0106, 36.4704, 22.1357, 21.4264,\n",
      "        21.9323, 21.9774, 23.0325, 22.8797, 22.4124, 22.2572, 22.1425, 22.6096],\n",
      "       device='cuda:0', dtype=torch.float64)\n",
      "\n"
     ]
    },
    {
     "name": "stderr",
     "output_type": "stream",
     "text": [
      "\r",
      "Eval:  79%|███████▊  | 874/1110 [10:17<02:50,  1.39it/s]"
     ]
    },
    {
     "name": "stdout",
     "output_type": "stream",
     "text": [
      "orientation_error\n",
      "tensor([22.5683, 22.5862, 22.7667, 22.5746, 22.9015, 22.7691, 23.3929, 23.3333,\n",
      "        22.8690, 22.5457, 22.3624, 22.0071, 21.6598, 21.2491, 21.0315, 20.9857,\n",
      "        20.4416, 34.4466, 33.8143, 33.4216, 33.6173, 33.7683, 34.1534, 35.0295,\n",
      "        35.6562, 35.0421, 35.3430, 35.6369, 35.4203, 34.2925, 33.5256, 32.0295],\n",
      "       device='cuda:0', dtype=torch.float64)\n",
      "\n"
     ]
    },
    {
     "name": "stderr",
     "output_type": "stream",
     "text": [
      "\r",
      "Eval:  79%|███████▉  | 875/1110 [10:18<02:29,  1.57it/s]"
     ]
    },
    {
     "name": "stdout",
     "output_type": "stream",
     "text": [
      "orientation_error\n",
      "tensor([32.2478, 32.4637, 32.5001, 32.2800, 17.5132, 18.7289, 20.0295, 25.7050,\n",
      "        29.7450, 26.9986, 25.2479, 23.1860, 22.3384, 21.1795, 20.9009, 19.1346,\n",
      "        20.0941, 20.4363, 19.4350, 19.7273, 20.1164, 19.6298, 19.3608, 19.7653,\n",
      "        20.2237, 34.9885, 34.4980, 33.4721, 31.8138, 15.7275, 15.0087, 16.0206],\n",
      "       device='cuda:0', dtype=torch.float64)\n",
      "\n"
     ]
    },
    {
     "name": "stderr",
     "output_type": "stream",
     "text": [
      "\r",
      "Eval:  79%|███████▉  | 876/1110 [10:18<02:32,  1.53it/s]"
     ]
    },
    {
     "name": "stdout",
     "output_type": "stream",
     "text": [
      "orientation_error\n",
      "tensor([26.9975, 26.2290, 23.7950, 17.4751, 30.0133, 30.9279, 30.2485, 29.2369,\n",
      "        28.4801, 28.6705, 29.0011, 29.8325, 29.3596, 29.3242, 30.7563, 30.3215,\n",
      "        29.8585, 30.3900, 30.9024, 31.3045, 31.1585, 31.1997, 31.7358, 31.6658,\n",
      "        31.4320, 31.6715, 31.5734, 31.8715, 31.9988, 32.0819, 32.1299, 32.2273],\n",
      "       device='cuda:0', dtype=torch.float64)\n",
      "\n",
      "orientation_error\n",
      "tensor([32.3871, 32.3566, 32.5345, 32.6586, 32.6890, 32.8448, 32.9068, 33.0551,\n",
      "        33.0206, 32.9827, 33.1113, 33.2129, 33.3564, 33.3051, 33.3984, 33.3376,\n",
      "        33.5271, 33.4379, 25.5780, 33.8142, 33.4283, 30.8704, 20.3256, 19.7873,\n",
      "        33.5616, 19.4528, 33.6202, 33.7382, 33.7146, 33.8005, 33.6599, 33.7882],\n",
      "       device='cuda:0', dtype=torch.float64)\n",
      "\n"
     ]
    },
    {
     "name": "stderr",
     "output_type": "stream",
     "text": [
      "Eval:  79%|███████▉  | 878/1110 [10:20<02:34,  1.50it/s]"
     ]
    },
    {
     "name": "stdout",
     "output_type": "stream",
     "text": [
      "orientation_error\n",
      "tensor([19.8877, 34.2540, 33.8359, 33.8419, 33.7296, 33.8390, 33.6972, 34.1044,\n",
      "        34.2868, 34.5207, 35.4436, 34.3280, 34.6227, 34.2004, 34.0528, 33.9594,\n",
      "        33.7771, 34.0454, 33.9872, 34.1616, 34.1444, 34.0018, 34.1938, 33.8156,\n",
      "        33.4222, 33.4547, 33.5721, 33.4092, 32.9049, 33.0137, 33.1236, 32.7044],\n",
      "       device='cuda:0', dtype=torch.float64)\n",
      "\n"
     ]
    },
    {
     "name": "stderr",
     "output_type": "stream",
     "text": [
      "\r",
      "Eval:  79%|███████▉  | 879/1110 [10:20<02:21,  1.63it/s]"
     ]
    },
    {
     "name": "stdout",
     "output_type": "stream",
     "text": [
      "orientation_error\n",
      "tensor([32.4220, 32.1463, 31.9150, 31.8421, 31.5474, 31.4296, 31.5413, 31.5850,\n",
      "        31.7097, 31.7426, 32.1772, 31.9878, 32.6240, 33.8541, 34.6085, 35.8235,\n",
      "        36.0530, 36.9690, 37.8437, 38.8578, 38.8161, 23.0552, 21.5535, 33.9161,\n",
      "        36.5689, 34.0524, 34.7057, 20.9667, 33.4572, 31.3726, 24.2936, 29.5119],\n",
      "       device='cuda:0', dtype=torch.float64)\n",
      "\n"
     ]
    },
    {
     "name": "stderr",
     "output_type": "stream",
     "text": [
      "\r",
      "Eval:  79%|███████▉  | 880/1110 [10:21<02:16,  1.68it/s]"
     ]
    },
    {
     "name": "stdout",
     "output_type": "stream",
     "text": [
      "orientation_error\n",
      "tensor([24.9989, 22.0012, 20.4953, 39.5072, 36.8647, 39.4427, 41.4331, 43.6460,\n",
      "        44.3899, 42.0410, 40.4253, 41.2930, 43.1118, 43.4448, 45.9719, 46.0576,\n",
      "        44.5469, 25.1381, 23.4028, 42.1393, 43.2223, 44.0285, 31.4081, 45.9743,\n",
      "        32.3735, 37.7698, 51.0537, 45.8965, 61.7741, 43.8511, 42.4866, 42.3331],\n",
      "       device='cuda:0', dtype=torch.float64)\n",
      "\n",
      "MPJPE: 95.16668808374996\n",
      "Reconstruction Error: 57.82050719398336\n",
      "\n",
      "Orientation error: 31.500923657910693\n"
     ]
    },
    {
     "name": "stderr",
     "output_type": "stream",
     "text": [
      "\r",
      "Eval:  79%|███████▉  | 881/1110 [10:21<02:15,  1.68it/s]"
     ]
    },
    {
     "name": "stdout",
     "output_type": "stream",
     "text": [
      "orientation_error\n",
      "tensor([32.1484, 29.1549, 60.8878, 47.0086, 66.7530, 75.8410, 63.9759, 23.6207,\n",
      "        20.6842, 37.2975, 35.2385, 22.5480, 37.6501, 36.7924, 21.0570, 31.9225,\n",
      "        32.6671, 17.9146, 17.7630, 17.5168, 18.5818, 18.7470, 33.8247, 17.3026,\n",
      "        32.1179, 17.9596, 17.3780, 19.4566, 33.3757, 35.9227, 22.6792, 19.7182],\n",
      "       device='cuda:0', dtype=torch.float64)\n",
      "\n"
     ]
    },
    {
     "name": "stderr",
     "output_type": "stream",
     "text": [
      "\r",
      "Eval:  79%|███████▉  | 882/1110 [10:22<02:13,  1.70it/s]"
     ]
    },
    {
     "name": "stdout",
     "output_type": "stream",
     "text": [
      "orientation_error\n",
      "tensor([19.3295, 18.2863, 17.4681, 31.2849, 31.0024, 31.6984, 32.5713, 19.4864,\n",
      "        17.9176, 17.4853, 19.8110, 19.6704, 21.4962, 21.3533, 23.1870, 22.2884,\n",
      "        22.5213, 21.1001, 21.1270, 19.6814, 18.6412, 17.6750, 17.7776, 17.3617,\n",
      "        17.6750, 16.7928, 17.0472, 17.1252, 17.1523, 18.7308, 18.3620, 18.8732],\n",
      "       device='cuda:0', dtype=torch.float64)\n",
      "\n"
     ]
    },
    {
     "name": "stderr",
     "output_type": "stream",
     "text": [
      "\r",
      "Eval:  80%|███████▉  | 883/1110 [10:23<02:13,  1.70it/s]"
     ]
    },
    {
     "name": "stdout",
     "output_type": "stream",
     "text": [
      "orientation_error\n",
      "tensor([20.3316, 19.0475, 17.8322, 16.5067, 15.7652, 16.1384, 16.1742, 17.6331,\n",
      "        19.4042, 19.6261, 18.7421, 18.5290, 18.7866, 18.7141, 18.7542, 19.7962,\n",
      "        19.5432, 21.7962, 21.6651, 20.6226, 18.9815, 17.8717, 18.8365, 20.6744,\n",
      "        19.5378, 20.1429, 18.2606, 16.6239, 32.1264, 32.5452, 18.0299, 18.4205],\n",
      "       device='cuda:0', dtype=torch.float64)\n",
      "\n"
     ]
    },
    {
     "name": "stderr",
     "output_type": "stream",
     "text": [
      "\r",
      "Eval:  80%|███████▉  | 884/1110 [10:23<02:10,  1.73it/s]"
     ]
    },
    {
     "name": "stdout",
     "output_type": "stream",
     "text": [
      "orientation_error\n",
      "tensor([17.8788, 18.6961, 19.4035, 15.9136, 19.5131, 20.3073, 20.7148, 18.5030,\n",
      "        21.3499, 19.8048, 19.4792, 23.9009, 27.9689, 29.3643, 33.1091, 34.3309,\n",
      "        45.7789, 31.4827, 50.3395, 46.7369, 53.3267, 47.3889, 46.6615, 48.9787,\n",
      "        38.7779, 52.1005, 38.1094, 52.7166, 60.2712, 45.0843, 61.3457, 61.1100],\n",
      "       device='cuda:0', dtype=torch.float64)\n",
      "\n"
     ]
    },
    {
     "name": "stderr",
     "output_type": "stream",
     "text": [
      "\r",
      "Eval:  80%|███████▉  | 885/1110 [10:24<02:15,  1.66it/s]"
     ]
    },
    {
     "name": "stdout",
     "output_type": "stream",
     "text": [
      "orientation_error\n",
      "tensor([50.6073, 58.6086, 59.6955, 64.3718, 61.5067, 59.7746, 56.5542, 57.4944,\n",
      "        55.6987, 57.8124, 55.6792, 56.4410, 56.1822, 56.9995, 57.4178, 58.0334,\n",
      "        58.0884, 57.5045, 57.9935, 57.7212, 57.6456, 56.7225, 56.1435, 55.2158,\n",
      "        53.0208, 51.6675, 53.1537, 52.5234, 53.4472, 51.7102, 50.6517, 51.7178],\n",
      "       device='cuda:0', dtype=torch.float64)\n",
      "\n"
     ]
    },
    {
     "name": "stderr",
     "output_type": "stream",
     "text": [
      "\r",
      "Eval:  80%|███████▉  | 886/1110 [10:24<02:01,  1.84it/s]"
     ]
    },
    {
     "name": "stdout",
     "output_type": "stream",
     "text": [
      "orientation_error\n",
      "tensor([51.8948, 37.6944, 51.9971, 51.5486, 52.3309, 52.3643, 51.4046, 51.7774,\n",
      "        51.1524, 52.0896, 50.7887, 50.2328, 50.5570, 48.0995, 50.2797, 48.9055,\n",
      "        50.1841, 47.8616, 48.4067, 49.2586, 50.2627, 50.9136, 50.9346, 50.9648,\n",
      "        50.5164, 50.7012, 50.8951, 50.2881, 51.5264, 51.3061, 51.7054, 50.5775],\n",
      "       device='cuda:0', dtype=torch.float64)\n",
      "\n"
     ]
    },
    {
     "name": "stderr",
     "output_type": "stream",
     "text": [
      "\r",
      "Eval:  80%|███████▉  | 887/1110 [10:25<02:14,  1.66it/s]"
     ]
    },
    {
     "name": "stdout",
     "output_type": "stream",
     "text": [
      "orientation_error\n",
      "tensor([51.2447, 51.3907, 51.5212, 49.5725, 50.5135, 52.5925, 50.5170, 50.9252,\n",
      "        49.1482, 49.3851, 48.8628, 48.3013, 48.3007, 48.4091, 50.7284, 50.3901,\n",
      "        50.4391, 39.2279, 51.6780, 34.8025, 46.6444, 43.2156, 40.4891, 28.8001,\n",
      "        34.0320, 34.0283, 36.3590, 35.3632, 34.4711, 37.5672, 37.6307, 40.0620],\n",
      "       device='cuda:0', dtype=torch.float64)\n",
      "\n",
      "orientation_error\n",
      "tensor([41.6592, 43.0492, 38.9170, 41.3559, 39.7963, 39.7259, 43.5272, 42.8517,\n",
      "        39.6008, 41.9143, 37.9948, 36.8240, 37.2252, 38.7663, 39.1480, 36.9990,\n",
      "        38.1223, 38.1432, 38.6807, 37.4576, 38.0183, 39.4898, 39.0824, 39.9509,\n",
      "        39.3455, 39.8244, 40.8655, 41.2993, 40.0676, 40.7834, 37.5980, 40.3057],\n",
      "       device='cuda:0', dtype=torch.float64)\n",
      "\n"
     ]
    },
    {
     "name": "stderr",
     "output_type": "stream",
     "text": [
      "Eval:  80%|████████  | 889/1110 [10:26<02:22,  1.55it/s]"
     ]
    },
    {
     "name": "stdout",
     "output_type": "stream",
     "text": [
      "orientation_error\n",
      "tensor([39.4421, 37.3240, 34.7782, 38.8595, 38.7888, 37.1098, 34.7823, 34.3638,\n",
      "        35.0465, 35.3328, 35.7908, 35.3281, 35.7435, 35.3234, 34.7195, 33.9026,\n",
      "        33.2701, 36.8862, 37.0024, 37.3855, 37.9723, 35.8291, 34.6870, 35.0283,\n",
      "        35.9174, 39.3695, 43.6312, 44.6736, 44.0221, 42.7156, 43.9936, 43.7285],\n",
      "       device='cuda:0', dtype=torch.float64)\n",
      "\n"
     ]
    },
    {
     "name": "stderr",
     "output_type": "stream",
     "text": [
      "\r",
      "Eval:  80%|████████  | 890/1110 [10:27<02:22,  1.54it/s]"
     ]
    },
    {
     "name": "stdout",
     "output_type": "stream",
     "text": [
      "orientation_error\n",
      "tensor([45.4840, 46.1320, 45.2621, 46.2846, 44.6646, 45.6274, 46.8476, 47.0874,\n",
      "        45.5004, 41.7560, 44.4560, 45.4505, 45.8644, 47.2992, 46.3416, 45.6400,\n",
      "        42.7924, 43.6107, 39.6126, 41.9167, 45.8943, 46.1119, 46.9464, 44.8007,\n",
      "        45.1038, 43.6590, 44.4680, 43.5096, 44.0332, 45.4342, 45.7129, 44.5580],\n",
      "       device='cuda:0', dtype=torch.float64)\n",
      "\n"
     ]
    },
    {
     "name": "stderr",
     "output_type": "stream",
     "text": [
      "\r",
      "Eval:  80%|████████  | 891/1110 [10:28<02:10,  1.68it/s]"
     ]
    },
    {
     "name": "stdout",
     "output_type": "stream",
     "text": [
      "orientation_error\n",
      "tensor([37.3226, 38.6227, 49.4859, 50.3667, 53.4324, 48.8880, 51.0282, 52.2409,\n",
      "        53.2775, 53.6427, 54.4434, 54.8312, 55.0247, 54.8662, 68.6500, 68.8898,\n",
      "        69.1958, 57.0638, 45.9309, 55.3513, 57.2129, 56.2122, 55.8993, 71.1786,\n",
      "        56.8220, 65.2953, 48.5997, 56.4773, 58.5901, 56.8228, 57.5284, 50.0739],\n",
      "       device='cuda:0', dtype=torch.float64)\n",
      "\n"
     ]
    },
    {
     "name": "stderr",
     "output_type": "stream",
     "text": [
      "\r",
      "Eval:  80%|████████  | 892/1110 [10:28<02:06,  1.73it/s]"
     ]
    },
    {
     "name": "stdout",
     "output_type": "stream",
     "text": [
      "orientation_error\n",
      "tensor([51.0005, 57.3989, 54.9958, 54.4032, 53.5029, 58.9519, 56.0616, 46.4431,\n",
      "        42.0873, 41.4478, 41.2530, 44.1232, 42.2062, 40.3836, 41.1839, 42.6442,\n",
      "        43.2526, 43.1102, 42.8606, 43.4394, 44.7386, 42.0963, 41.4269, 42.4704,\n",
      "        40.7812, 38.6572, 38.4245, 38.6369, 38.1228, 38.3627, 36.0299, 34.3226],\n",
      "       device='cuda:0', dtype=torch.float64)\n",
      "\n"
     ]
    },
    {
     "name": "stderr",
     "output_type": "stream",
     "text": [
      "\r",
      "Eval:  80%|████████  | 893/1110 [10:29<02:06,  1.72it/s]"
     ]
    },
    {
     "name": "stdout",
     "output_type": "stream",
     "text": [
      "orientation_error\n",
      "tensor([32.5689, 31.9609, 31.6847, 32.2731, 31.5039, 31.6140, 30.1750, 30.8989,\n",
      "        30.1575, 29.6766, 30.3083, 30.0576, 31.2566, 32.9501, 32.3806, 33.8977,\n",
      "        32.9524, 32.3045, 46.3124, 46.9100, 46.5107, 45.9593, 31.4957, 31.0346,\n",
      "        30.3771, 31.8498, 47.3653, 46.7212, 31.8997, 46.1282, 31.0088, 32.1069],\n",
      "       device='cuda:0', dtype=torch.float64)\n",
      "\n"
     ]
    },
    {
     "name": "stderr",
     "output_type": "stream",
     "text": [
      "\r",
      "Eval:  81%|████████  | 894/1110 [10:29<02:07,  1.69it/s]"
     ]
    },
    {
     "name": "stdout",
     "output_type": "stream",
     "text": [
      "orientation_error\n",
      "tensor([31.5430, 45.5678, 45.7971, 45.7551, 45.1142, 43.4449, 44.3088, 30.4845,\n",
      "        31.2681, 31.0920, 31.5304, 45.8455, 46.1943, 46.6977, 31.8778, 32.5201,\n",
      "        32.2813, 33.0408, 32.6761, 33.9639, 31.8703, 33.1800, 34.2164, 35.6661,\n",
      "        35.4124, 34.5591, 34.8000, 34.2157, 34.7323, 33.0927, 34.1833, 33.7123],\n",
      "       device='cuda:0', dtype=torch.float64)\n",
      "\n"
     ]
    },
    {
     "name": "stderr",
     "output_type": "stream",
     "text": [
      "\r",
      "Eval:  81%|████████  | 895/1110 [10:30<02:17,  1.56it/s]"
     ]
    },
    {
     "name": "stdout",
     "output_type": "stream",
     "text": [
      "orientation_error\n",
      "tensor([33.5252, 34.7212, 34.4876, 34.4249, 34.2569, 34.9190, 34.8309, 35.6070,\n",
      "        34.7540, 34.2451, 33.3063, 34.5119, 34.2311, 34.6711, 35.3386, 35.6851,\n",
      "        34.8352, 34.9697, 35.2995, 34.4930, 35.6809, 35.0251, 34.4922, 32.9962,\n",
      "        32.5659, 32.4979, 32.6225, 32.1499, 31.7952, 32.0227, 31.6778, 31.4335],\n",
      "       device='cuda:0', dtype=torch.float64)\n",
      "\n"
     ]
    },
    {
     "name": "stderr",
     "output_type": "stream",
     "text": [
      "\r",
      "Eval:  81%|████████  | 896/1110 [10:31<02:22,  1.50it/s]"
     ]
    },
    {
     "name": "stdout",
     "output_type": "stream",
     "text": [
      "orientation_error\n",
      "tensor([30.1482, 31.4071, 29.8373, 29.8793, 29.5572, 27.0081, 27.9433, 27.2092,\n",
      "        27.0314, 26.6815, 26.6266, 26.6990, 26.2013, 26.1017, 26.3787, 25.9566,\n",
      "        26.6252, 27.0916, 27.0143, 27.2657, 27.2973, 28.2252, 27.5428, 27.6236,\n",
      "        26.9916, 27.6184, 27.8347, 28.1436, 41.0904, 25.8949, 40.6858, 42.1692],\n",
      "       device='cuda:0', dtype=torch.float64)\n",
      "\n"
     ]
    },
    {
     "name": "stderr",
     "output_type": "stream",
     "text": [
      "\r",
      "Eval:  81%|████████  | 897/1110 [10:32<02:28,  1.44it/s]"
     ]
    },
    {
     "name": "stdout",
     "output_type": "stream",
     "text": [
      "orientation_error\n",
      "tensor([40.9586, 31.5206, 31.3022, 31.6608, 30.8089, 33.1755, 31.8553, 33.0270,\n",
      "        34.0384, 32.8354, 32.7961, 31.1749, 32.8642, 32.1298, 32.3841, 32.8023,\n",
      "        32.2519, 33.7832, 34.2662, 31.7609, 32.1690, 31.2747, 32.9772, 46.0748,\n",
      "        30.4082, 30.2401, 33.5726, 46.6945, 32.6102, 36.3097, 35.3702, 34.7674],\n",
      "       device='cuda:0', dtype=torch.float64)\n",
      "\n"
     ]
    },
    {
     "name": "stderr",
     "output_type": "stream",
     "text": [
      "\r",
      "Eval:  81%|████████  | 898/1110 [10:32<02:29,  1.42it/s]"
     ]
    },
    {
     "name": "stdout",
     "output_type": "stream",
     "text": [
      "orientation_error\n",
      "tensor([32.2262, 35.0011, 34.8609, 36.3169, 35.1789, 48.6493, 49.0680, 51.7335,\n",
      "        37.5792, 37.3554, 35.7457, 34.1303, 35.7461, 45.7382, 32.9900, 30.6950,\n",
      "        30.9830, 30.0868, 46.7813, 45.5176, 31.8630, 31.9596, 32.1488, 32.6261,\n",
      "        31.9858, 31.4154, 30.0372, 29.9537, 32.9288, 32.3034, 30.8239, 32.0616],\n",
      "       device='cuda:0', dtype=torch.float64)\n",
      "\n"
     ]
    },
    {
     "name": "stderr",
     "output_type": "stream",
     "text": [
      "\r",
      "Eval:  81%|████████  | 899/1110 [10:33<02:28,  1.42it/s]"
     ]
    },
    {
     "name": "stdout",
     "output_type": "stream",
     "text": [
      "orientation_error\n",
      "tensor([31.8412, 32.7714, 32.7943, 33.0500, 33.4408, 33.3027, 32.6040, 32.3972,\n",
      "        33.0731, 31.7345, 32.0443, 32.6893, 33.0673, 32.5882, 32.6317, 33.1865,\n",
      "        46.8117, 32.8759, 33.5772, 33.8908, 34.3114, 33.1980, 33.2330, 33.1822,\n",
      "        33.7432, 33.2779, 33.4196, 33.5162, 33.7997, 32.0681, 31.3732, 32.8375],\n",
      "       device='cuda:0', dtype=torch.float64)\n",
      "\n",
      "orientation_error\n",
      "tensor([31.8217, 31.4672, 32.3411, 32.8528, 34.3494, 34.0633, 35.6848, 34.5708,\n",
      "        35.5248, 34.8578, 34.7376, 48.9724, 33.1974, 32.5211, 32.7338, 31.6711,\n",
      "        29.5537, 29.2491, 42.7312, 44.8742, 45.6001, 46.8567, 46.7744, 47.4087,\n",
      "        47.6658, 46.7920, 46.4403, 47.0273, 31.1515, 31.3466, 32.6282, 32.6130],\n",
      "       device='cuda:0', dtype=torch.float64)\n",
      "\n"
     ]
    },
    {
     "name": "stderr",
     "output_type": "stream",
     "text": [
      "\r",
      "Eval:  81%|████████  | 900/1110 [10:35<03:55,  1.12s/it]"
     ]
    },
    {
     "name": "stdout",
     "output_type": "stream",
     "text": [
      "MPJPE: 95.60778589541863\n",
      "Reconstruction Error: 58.482298644847994\n",
      "\n",
      "Orientation error: 31.642391187718054\n",
      "orientation_error\n",
      "tensor([32.5930, 33.8077, 33.6237, 34.7156, 35.3935, 36.4633, 36.6021, 35.9097,\n",
      "        34.9140, 49.9759, 50.4026, 35.6727, 35.5550, 36.0589, 36.4684, 37.2516,\n",
      "        36.0229, 36.7209, 35.8464, 35.6550, 34.4509, 34.3194, 34.0498, 35.3372,\n",
      "        35.0958, 34.8974, 35.4692, 38.9048, 37.4971, 38.0300, 38.8317, 38.5402],\n",
      "       device='cuda:0', dtype=torch.float64)\n",
      "\n"
     ]
    },
    {
     "name": "stderr",
     "output_type": "stream",
     "text": [
      "Eval:  81%|████████▏ | 902/1110 [10:37<03:14,  1.07it/s]"
     ]
    },
    {
     "name": "stdout",
     "output_type": "stream",
     "text": [
      "orientation_error\n",
      "tensor([38.5766, 37.7556, 38.3243, 38.6056, 37.4525, 38.0297, 38.1518, 36.6676,\n",
      "        36.4678, 36.8799, 36.0016, 35.0466, 34.5715, 47.9890, 46.1769, 46.3002,\n",
      "        32.9172, 31.4485, 30.7461, 45.1782, 27.9305, 28.9945, 28.5269, 27.8390,\n",
      "        28.2962, 29.2052, 27.7372, 28.5341, 27.6053, 28.5321, 26.9831, 25.8133],\n",
      "       device='cuda:0', dtype=torch.float64)\n",
      "\n"
     ]
    },
    {
     "name": "stderr",
     "output_type": "stream",
     "text": [
      "\r",
      "Eval:  81%|████████▏ | 903/1110 [10:37<02:46,  1.24it/s]"
     ]
    },
    {
     "name": "stdout",
     "output_type": "stream",
     "text": [
      "orientation_error\n",
      "tensor([28.7141, 27.3064, 28.0580, 27.4255, 25.0038, 23.2160, 26.6942, 22.4213,\n",
      "        23.0203, 22.4017, 23.2497, 36.6229, 36.4686, 21.6050, 22.1238, 22.1633,\n",
      "        22.9789, 23.9964, 24.0659, 22.8382, 37.0284, 36.7916, 36.8157, 37.7618,\n",
      "        38.2451, 38.9733, 40.0240, 40.3485, 40.4242, 41.0639, 38.6409, 39.2157],\n",
      "       device='cuda:0', dtype=torch.float64)\n",
      "\n"
     ]
    },
    {
     "name": "stderr",
     "output_type": "stream",
     "text": [
      "\r",
      "Eval:  81%|████████▏ | 904/1110 [10:38<02:23,  1.44it/s]"
     ]
    },
    {
     "name": "stdout",
     "output_type": "stream",
     "text": [
      "orientation_error\n",
      "tensor([32.8853, 27.0038, 27.7747, 42.1862, 42.9705, 40.9730, 40.0529, 35.4402,\n",
      "        26.2877, 38.8007, 25.9748, 25.3477, 25.7466, 25.0924, 24.6631, 25.2377,\n",
      "        21.7250, 22.1237, 21.7093, 23.3228, 23.2010, 23.6193, 19.6928, 26.1482,\n",
      "        41.6753, 28.8424, 41.0337, 46.9964, 35.9103, 25.8243, 23.8554, 23.5251],\n",
      "       device='cuda:0', dtype=torch.float64)\n",
      "\n"
     ]
    },
    {
     "name": "stderr",
     "output_type": "stream",
     "text": [
      "\r",
      "Eval:  82%|████████▏ | 905/1110 [10:38<02:07,  1.61it/s]"
     ]
    },
    {
     "name": "stdout",
     "output_type": "stream",
     "text": [
      "orientation_error\n",
      "tensor([22.3147, 18.8611, 19.2906, 24.7131, 23.6378, 24.1910, 34.9303, 34.3848,\n",
      "        35.2136, 46.1930, 46.6690, 41.9409, 40.5335, 41.7764, 23.8217, 39.2181,\n",
      "        38.4976, 40.4213, 55.5019, 54.1016, 54.8152, 37.2318, 33.1479, 32.5744,\n",
      "        31.0883, 43.5188, 42.7926, 41.8996, 41.6123, 41.3842, 40.8282, 39.1062],\n",
      "       device='cuda:0', dtype=torch.float64)\n",
      "\n",
      "orientation_error\n",
      "tensor([38.9952, 38.9071, 37.4261, 38.0076, 39.6090, 39.7009, 39.1027, 39.1753,\n",
      "        40.1141, 40.9669, 40.9629, 41.3157, 42.0702, 41.8480, 41.5503, 41.8140,\n",
      "        41.2524, 41.4915, 41.3156, 40.9134, 40.5908, 41.3055, 40.3239, 40.9999,\n",
      "        42.1412, 42.3182, 44.5497, 45.0080, 44.9762, 44.3653, 44.1263, 46.8780],\n",
      "       device='cuda:0', dtype=torch.float64)\n",
      "\n"
     ]
    },
    {
     "name": "stderr",
     "output_type": "stream",
     "text": [
      "\r",
      "Eval:  82%|████████▏ | 906/1110 [10:39<02:21,  1.44it/s]"
     ]
    },
    {
     "name": "stdout",
     "output_type": "stream",
     "text": [
      "orientation_error\n",
      "tensor([46.5103, 53.4745, 52.8621, 51.6928, 52.2473, 44.8091, 51.1922, 43.5203,\n",
      "        44.0150, 44.5606, 27.7443, 33.4274, 34.7091, 35.1727, 35.6142, 36.0064,\n",
      "        35.8360, 36.1977, 35.2638, 35.5211, 36.2067, 36.9178, 36.6520, 37.2034,\n",
      "        37.5093, 38.5601, 37.9874, 37.5423, 37.2384, 37.5249, 37.0074, 37.1816],\n",
      "       device='cuda:0', dtype=torch.float64)\n",
      "\n"
     ]
    },
    {
     "name": "stderr",
     "output_type": "stream",
     "text": [
      "\r",
      "Eval:  82%|████████▏ | 907/1110 [10:40<02:32,  1.33it/s]"
     ]
    },
    {
     "name": "stdout",
     "output_type": "stream",
     "text": [
      "orientation_error\n",
      "tensor([37.0139, 37.2495, 37.9256, 37.9042, 37.4133, 37.4089, 37.4903, 38.0043,\n",
      "        38.4066, 38.1027, 38.0676, 38.1551, 37.9439, 38.0869, 38.3823, 38.4505,\n",
      "        38.3638, 38.5020, 39.1084, 38.7665, 38.8884, 38.5117, 38.6161, 38.7421,\n",
      "        38.4760, 38.9831, 38.7448, 38.6999, 38.7445, 38.7784, 38.7526, 38.6211],\n",
      "       device='cuda:0', dtype=torch.float64)\n",
      "\n"
     ]
    },
    {
     "name": "stderr",
     "output_type": "stream",
     "text": [
      "Eval:  82%|████████▏ | 909/1110 [10:41<02:34,  1.30it/s]"
     ]
    },
    {
     "name": "stdout",
     "output_type": "stream",
     "text": [
      "orientation_error\n",
      "tensor([38.6194, 38.5096, 29.1655, 38.9333, 38.2317, 37.5948, 37.3959, 37.8977,\n",
      "        37.3404, 36.3783, 36.2182, 35.9526, 36.0920, 35.4284, 34.0722, 34.7841,\n",
      "        34.4257, 34.8863, 35.3821, 36.1500, 36.2797, 36.0836, 36.4896, 37.0593,\n",
      "        27.2569, 27.0272, 26.9357, 26.9401, 26.3741, 27.2995, 27.9102, 28.1506],\n",
      "       device='cuda:0', dtype=torch.float64)\n",
      "\n"
     ]
    },
    {
     "name": "stderr",
     "output_type": "stream",
     "text": [
      "\r",
      "Eval:  82%|████████▏ | 910/1110 [10:42<02:24,  1.38it/s]"
     ]
    },
    {
     "name": "stdout",
     "output_type": "stream",
     "text": [
      "orientation_error\n",
      "tensor([29.2340, 28.4923, 27.5863, 40.8622, 39.7621, 39.4325, 38.7850, 38.9679,\n",
      "        39.9657, 40.3204, 40.5578, 40.6749, 40.1177, 40.3401, 41.6134, 40.5151,\n",
      "        39.2600, 38.3251, 36.6696, 35.7266, 37.3564, 38.2969, 37.7829, 38.3557,\n",
      "        37.8710, 37.3958, 38.4437, 38.0445, 38.8023, 51.5076, 50.9536, 39.6341],\n",
      "       device='cuda:0', dtype=torch.float64)\n",
      "\n"
     ]
    },
    {
     "name": "stderr",
     "output_type": "stream",
     "text": [
      "\r",
      "Eval:  82%|████████▏ | 911/1110 [10:43<02:17,  1.44it/s]"
     ]
    },
    {
     "name": "stdout",
     "output_type": "stream",
     "text": [
      "orientation_error\n",
      "tensor([37.0443, 39.3274, 37.6490, 32.5604, 33.4087, 45.9011, 32.6080, 31.5026,\n",
      "        42.0295, 22.2239, 33.7109, 36.2443, 44.6501, 44.7129, 45.7064, 45.6879,\n",
      "        49.7694, 51.6614, 48.7279, 50.5280, 47.6441, 44.3167, 43.4704, 42.4239,\n",
      "        38.1664, 41.8678, 44.3301, 35.6625, 33.3817, 33.5575, 36.7230, 36.0831],\n",
      "       device='cuda:0', dtype=torch.float64)\n",
      "\n"
     ]
    },
    {
     "name": "stderr",
     "output_type": "stream",
     "text": [
      "\r",
      "Eval:  82%|████████▏ | 912/1110 [10:43<02:12,  1.49it/s]"
     ]
    },
    {
     "name": "stdout",
     "output_type": "stream",
     "text": [
      "orientation_error\n",
      "tensor([35.2768, 33.4738, 34.2786, 34.6081, 36.4203, 34.1705, 33.8623, 37.5768,\n",
      "        34.1504, 32.5777, 33.5511, 38.7047, 39.9130, 36.2656, 38.4974, 39.0254,\n",
      "        39.3387, 37.1160, 37.9603, 38.4270, 39.3340, 41.6173, 39.4327, 40.1990,\n",
      "        40.9803, 38.5240, 37.1564, 36.5628, 35.7822, 36.0409, 34.4114, 21.3435],\n",
      "       device='cuda:0', dtype=torch.float64)\n",
      "\n"
     ]
    },
    {
     "name": "stderr",
     "output_type": "stream",
     "text": [
      "\r",
      "Eval:  82%|████████▏ | 913/1110 [10:44<02:13,  1.47it/s]"
     ]
    },
    {
     "name": "stdout",
     "output_type": "stream",
     "text": [
      "orientation_error\n",
      "tensor([21.1271, 20.5916, 33.4903, 19.0496, 33.1773, 32.6787, 32.1665, 31.8515,\n",
      "        33.0541, 32.3105, 31.6922, 32.0762, 32.2228, 31.9014, 31.7074, 31.0551,\n",
      "        30.9981, 31.0393, 31.1373, 18.2755, 32.7342, 17.0896, 14.9708, 17.7566,\n",
      "        16.4595, 16.6561, 17.1534, 17.0062, 17.3594, 17.3270, 17.3699, 18.3456],\n",
      "       device='cuda:0', dtype=torch.float64)\n",
      "\n"
     ]
    },
    {
     "name": "stderr",
     "output_type": "stream",
     "text": [
      "\r",
      "Eval:  82%|████████▏ | 914/1110 [10:44<01:58,  1.66it/s]"
     ]
    },
    {
     "name": "stdout",
     "output_type": "stream",
     "text": [
      "orientation_error\n",
      "tensor([18.3946, 18.4427, 17.7067, 16.3936, 16.8423, 16.9600, 17.3916, 16.8942,\n",
      "        16.0833, 15.5192, 15.2964, 15.2433, 29.1117, 30.2043, 30.8409, 31.4181,\n",
      "        30.9007, 32.1119, 31.9049, 33.6376, 18.3611, 34.4308, 33.2106, 40.3798,\n",
      "        19.9783, 33.8963, 32.7269, 32.7949, 33.1352, 32.7493, 32.7137, 33.0954],\n",
      "       device='cuda:0', dtype=torch.float64)\n",
      "\n"
     ]
    },
    {
     "name": "stderr",
     "output_type": "stream",
     "text": [
      "\r",
      "Eval:  82%|████████▏ | 915/1110 [10:44<01:34,  2.07it/s]"
     ]
    },
    {
     "name": "stdout",
     "output_type": "stream",
     "text": [
      "orientation_error\n",
      "tensor([33.2105, 32.3849, 30.6015, 30.0349, 29.5628, 30.2662, 30.2024, 30.6116,\n",
      "        30.5039, 30.3449, 30.3767, 31.1868, 31.3739, 30.6974, 30.4805, 30.6242,\n",
      "        16.2410, 30.8345, 31.1961, 31.3406, 31.5581, 31.7833, 31.9956, 32.2438,\n",
      "        32.0600, 18.1881, 18.5284, 18.7516, 32.8083, 32.6361, 18.5324, 18.6665],\n",
      "       device='cuda:0', dtype=torch.float64)\n",
      "\n"
     ]
    },
    {
     "name": "stderr",
     "output_type": "stream",
     "text": [
      "\r",
      "Eval:  83%|████████▎ | 916/1110 [10:45<01:26,  2.24it/s]"
     ]
    },
    {
     "name": "stdout",
     "output_type": "stream",
     "text": [
      "orientation_error\n",
      "tensor([18.8843, 18.8624, 19.1730, 33.4147, 33.8701, 33.8418, 34.0074, 34.3222,\n",
      "        34.0017, 33.9538, 34.3000, 34.4722, 34.1030, 33.4132, 19.3060, 19.3714,\n",
      "        18.8646, 18.8953, 18.8020, 19.0776, 19.0762, 35.0058, 35.8306, 36.2527,\n",
      "        36.3611, 36.1158, 36.6531, 36.3309, 36.0312, 37.0036, 36.9939, 36.8260],\n",
      "       device='cuda:0', dtype=torch.float64)\n",
      "\n"
     ]
    },
    {
     "name": "stderr",
     "output_type": "stream",
     "text": [
      "\r",
      "Eval:  83%|████████▎ | 917/1110 [10:45<01:19,  2.44it/s]"
     ]
    },
    {
     "name": "stdout",
     "output_type": "stream",
     "text": [
      "orientation_error\n",
      "tensor([36.8800, 37.2105, 36.9498, 37.1493, 37.1693, 37.3822, 36.5593, 36.6608,\n",
      "        36.4897, 34.8881, 34.8066, 35.0535, 34.5413, 35.6201, 33.7804, 33.6096,\n",
      "        33.3609, 34.1672, 33.5610, 32.3053, 32.2924, 31.6765, 31.3736, 31.5452,\n",
      "        31.6234, 31.1926, 31.3851, 31.1441, 30.9103, 31.4171, 31.4313, 31.1516],\n",
      "       device='cuda:0', dtype=torch.float64)\n",
      "\n"
     ]
    },
    {
     "name": "stderr",
     "output_type": "stream",
     "text": [
      "\r",
      "Eval:  83%|████████▎ | 918/1110 [10:46<01:17,  2.49it/s]"
     ]
    },
    {
     "name": "stdout",
     "output_type": "stream",
     "text": [
      "orientation_error\n",
      "tensor([32.3111, 32.0307, 32.8711, 32.4137, 32.4114, 32.7972, 32.8421, 33.1358,\n",
      "        33.8960, 33.3879, 32.4261, 31.8220, 31.4525, 30.9756, 31.7581, 32.5532,\n",
      "        32.7366, 31.7088, 31.2944, 32.0732, 32.5810, 32.0564, 31.4912, 32.3333,\n",
      "        32.9096, 33.1072, 32.8121, 32.9936, 33.3603, 32.9303, 33.6216, 35.0203],\n",
      "       device='cuda:0', dtype=torch.float64)\n",
      "\n"
     ]
    },
    {
     "name": "stderr",
     "output_type": "stream",
     "text": [
      "\r",
      "Eval:  83%|████████▎ | 919/1110 [10:46<01:19,  2.40it/s]"
     ]
    },
    {
     "name": "stdout",
     "output_type": "stream",
     "text": [
      "orientation_error\n",
      "tensor([34.9139, 35.0161, 22.8884, 37.5582, 38.7458, 25.4235, 39.9483, 41.1961,\n",
      "        26.5993, 38.8976, 38.7810, 39.2277, 36.7805, 35.7146, 36.1422, 35.5497,\n",
      "        33.1327, 39.9434, 43.0127, 40.1797, 55.9239, 40.4955, 50.6329, 35.5503,\n",
      "        36.5918, 36.3912, 36.5044, 37.1825, 36.2412, 34.2466, 32.9249, 31.9516],\n",
      "       device='cuda:0', dtype=torch.float64)\n",
      "\n"
     ]
    },
    {
     "name": "stderr",
     "output_type": "stream",
     "text": [
      "\r",
      "Eval:  83%|████████▎ | 920/1110 [10:47<01:24,  2.26it/s]"
     ]
    },
    {
     "name": "stdout",
     "output_type": "stream",
     "text": [
      "orientation_error\n",
      "tensor([46.1651, 20.5653, 33.5612, 36.4444, 36.8131, 39.2554, 34.8632, 33.9470,\n",
      "        32.4004, 32.6061, 36.4072, 35.6473, 44.0382, 40.7957, 45.3911, 53.7906,\n",
      "        60.3311, 55.6605, 54.0609, 52.8015, 53.7634, 34.6824, 35.2402, 35.6066,\n",
      "        16.9310, 17.3718, 17.7389, 17.8015, 18.2507, 35.8592, 33.7980, 20.5022],\n",
      "       device='cuda:0', dtype=torch.float64)\n",
      "\n",
      "MPJPE: 95.92476836754054\n",
      "Reconstruction Error: 58.696438816692215\n",
      "\n",
      "Orientation error: 31.703004670617926\n"
     ]
    },
    {
     "name": "stderr",
     "output_type": "stream",
     "text": [
      "\r",
      "Eval:  83%|████████▎ | 921/1110 [10:47<01:27,  2.15it/s]"
     ]
    },
    {
     "name": "stdout",
     "output_type": "stream",
     "text": [
      "orientation_error\n",
      "tensor([34.2478, 35.2315, 39.8835, 33.6549, 33.5830, 34.5226, 36.5844, 26.8254,\n",
      "        30.2742, 29.4400, 29.3725, 29.9528, 22.7180, 32.0642, 21.2102, 36.2074,\n",
      "        22.1141, 22.6261, 27.2322, 41.8046, 51.7819, 59.1685, 30.8001, 34.1624,\n",
      "        53.8340, 37.1000, 22.6370, 47.0447, 45.7710, 50.8347, 38.7682, 34.7325],\n",
      "       device='cuda:0', dtype=torch.float64)\n",
      "\n"
     ]
    },
    {
     "name": "stderr",
     "output_type": "stream",
     "text": [
      "\r",
      "Eval:  83%|████████▎ | 922/1110 [10:47<01:15,  2.48it/s]"
     ]
    },
    {
     "name": "stdout",
     "output_type": "stream",
     "text": [
      "orientation_error\n",
      "tensor([36.5273, 33.3538, 36.9317, 54.0034, 47.6560, 41.8353, 46.3481, 52.2127,\n",
      "        50.6617, 37.4230, 52.9456, 51.1130, 57.4389, 48.6771, 56.2946, 52.4675,\n",
      "        53.9877, 56.2743, 57.3212, 56.2384, 54.7844, 53.6407, 40.2855, 39.6533,\n",
      "        35.0227, 35.3703, 38.3840, 37.3684, 56.3782, 35.0928, 23.9311, 21.9437],\n",
      "       device='cuda:0', dtype=torch.float64)\n",
      "\n"
     ]
    },
    {
     "name": "stderr",
     "output_type": "stream",
     "text": [
      "\r",
      "Eval:  83%|████████▎ | 923/1110 [10:48<01:11,  2.62it/s]"
     ]
    },
    {
     "name": "stdout",
     "output_type": "stream",
     "text": [
      "orientation_error\n",
      "tensor([21.3483, 23.6674, 22.6528, 24.6725, 33.0992, 24.4362, 42.3402, 34.0507,\n",
      "        32.7094, 38.9235, 30.3084, 30.7328, 36.1603, 42.8605, 42.2481, 41.6749,\n",
      "        35.6065, 29.9155, 25.4460, 33.6000, 40.4245, 20.9447, 30.8967, 38.4228,\n",
      "        37.5172, 41.5399, 32.1728, 42.9182, 41.7450, 20.4402, 21.7367, 21.3667],\n",
      "       device='cuda:0', dtype=torch.float64)\n",
      "\n"
     ]
    },
    {
     "name": "stderr",
     "output_type": "stream",
     "text": [
      "\r",
      "Eval:  83%|████████▎ | 924/1110 [10:48<01:31,  2.04it/s]"
     ]
    },
    {
     "name": "stdout",
     "output_type": "stream",
     "text": [
      "orientation_error\n",
      "tensor([41.4293, 29.9998, 29.2813, 31.0990, 26.6021, 24.6083, 25.0079, 24.7603,\n",
      "        23.7803, 22.0078, 21.1879, 20.7957, 19.9114, 20.7638, 21.0305, 19.2642,\n",
      "        17.2427, 19.9990, 21.2979, 21.0160, 21.2274, 21.3597, 21.4316, 22.1615,\n",
      "        21.1357, 21.3331, 23.2694, 24.5624, 44.8773, 26.0519, 22.8559, 22.7826],\n",
      "       device='cuda:0', dtype=torch.float64)\n",
      "\n"
     ]
    },
    {
     "name": "stderr",
     "output_type": "stream",
     "text": [
      "\r",
      "Eval:  83%|████████▎ | 925/1110 [10:49<01:31,  2.02it/s]"
     ]
    },
    {
     "name": "stdout",
     "output_type": "stream",
     "text": [
      "orientation_error\n",
      "tensor([22.4120, 20.9854, 20.6537, 18.9851, 19.0736, 19.5439, 19.0401, 19.3100,\n",
      "        16.9776, 17.2028, 17.1300, 18.0449, 17.5217, 17.1985, 18.1770, 18.9723,\n",
      "        19.2866, 19.0811, 20.0040, 20.8297, 21.5899, 21.1756, 21.7083, 22.6657,\n",
      "        21.6831, 21.5454, 21.0084, 22.6365, 20.3056, 21.1843, 22.8189, 21.7793],\n",
      "       device='cuda:0', dtype=torch.float64)\n",
      "\n"
     ]
    },
    {
     "name": "stderr",
     "output_type": "stream",
     "text": [
      "\r",
      "Eval:  83%|████████▎ | 926/1110 [10:49<01:32,  1.99it/s]"
     ]
    },
    {
     "name": "stdout",
     "output_type": "stream",
     "text": [
      "orientation_error\n",
      "tensor([22.3643, 23.3157, 21.6663, 21.4352, 21.1313, 22.0202, 21.1185, 20.2467,\n",
      "        20.3367, 20.3495, 20.4676, 20.2206, 20.5785, 20.8808, 20.6228, 20.1880,\n",
      "        20.7392, 27.9313, 33.9161, 33.1737, 30.9731, 25.0101, 28.5080, 28.9767,\n",
      "        31.7663, 21.5317, 27.8949, 27.1000, 25.0650, 24.7427, 25.2092, 26.4312],\n",
      "       device='cuda:0', dtype=torch.float64)\n",
      "\n"
     ]
    },
    {
     "name": "stderr",
     "output_type": "stream",
     "text": [
      "\r",
      "Eval:  84%|████████▎ | 927/1110 [10:50<01:34,  1.93it/s]"
     ]
    },
    {
     "name": "stdout",
     "output_type": "stream",
     "text": [
      "orientation_error\n",
      "tensor([42.0307, 30.2773, 30.4053, 42.6635, 31.1750, 32.6550, 33.5230, 34.1540,\n",
      "        33.2907, 34.6002, 29.4752, 30.1749, 30.2787, 29.8701, 45.4919, 30.1209,\n",
      "        43.8214, 29.3223, 43.7566, 45.6482, 32.1700, 46.3869, 46.6921, 48.2810,\n",
      "        46.7450, 42.8863, 43.5764, 42.1939, 28.7530, 30.4930, 42.2921, 45.2722],\n",
      "       device='cuda:0', dtype=torch.float64)\n",
      "\n",
      "orientation_error\n",
      "tensor([30.2945, 45.3184, 31.1660, 48.0754, 46.2281, 32.8965, 45.1318, 47.2691,\n",
      "        38.5608, 46.0205, 30.0557, 45.4995, 47.6607, 28.7232, 50.8351, 51.0821,\n",
      "        42.8215, 41.1393, 41.5146, 40.5250, 27.6390, 29.0961, 29.2530, 40.3511,\n",
      "        30.2288, 34.3086, 33.2279, 31.7853, 30.9093, 34.0648, 45.5621, 46.9297],\n",
      "       device='cuda:0', dtype=torch.float64)\n",
      "\n"
     ]
    },
    {
     "name": "stderr",
     "output_type": "stream",
     "text": [
      "Eval:  84%|████████▎ | 929/1110 [10:51<01:20,  2.26it/s]"
     ]
    },
    {
     "name": "stdout",
     "output_type": "stream",
     "text": [
      "orientation_error\n",
      "tensor([44.7078, 44.2881, 32.0964, 32.5849, 32.2678, 48.8497, 48.8608, 47.4966,\n",
      "        33.7970, 47.5188, 47.7651, 33.7034, 47.5961, 30.4489, 30.4277, 47.5728,\n",
      "        32.8957, 43.5055, 33.7088, 44.0319, 43.7829, 43.0675, 44.1324, 45.0220,\n",
      "        32.3606, 47.1663, 45.6906, 51.7233, 50.9252, 63.4443, 63.1441, 50.9966],\n",
      "       device='cuda:0', dtype=torch.float64)\n",
      "\n"
     ]
    },
    {
     "name": "stderr",
     "output_type": "stream",
     "text": [
      "\r",
      "Eval:  84%|████████▍ | 930/1110 [10:51<01:16,  2.34it/s]"
     ]
    },
    {
     "name": "stdout",
     "output_type": "stream",
     "text": [
      "orientation_error\n",
      "tensor([64.6863, 65.7283, 68.7915, 73.7629, 70.3155, 61.2898, 61.3947, 47.6855,\n",
      "        60.6663, 51.8478, 49.8135, 61.2604, 61.3510, 61.2595, 47.9592, 57.6724,\n",
      "        57.7919, 61.3274, 61.1407, 50.2912, 61.6749, 61.7907, 61.1863, 61.4100,\n",
      "        61.3087, 60.4618, 60.6430, 59.4097, 60.5168, 49.3798, 60.3049, 61.2143],\n",
      "       device='cuda:0', dtype=torch.float64)\n",
      "\n"
     ]
    },
    {
     "name": "stderr",
     "output_type": "stream",
     "text": [
      "\r",
      "Eval:  84%|████████▍ | 931/1110 [10:52<01:18,  2.29it/s]"
     ]
    },
    {
     "name": "stdout",
     "output_type": "stream",
     "text": [
      "orientation_error\n",
      "tensor([61.3348, 61.5086, 61.5074, 60.7754, 54.4652, 59.8249, 60.6900, 60.9133,\n",
      "        58.7340, 60.9960, 46.5317, 46.3507, 46.3445, 63.4426, 49.4756, 68.6868,\n",
      "        59.6206, 45.6073, 44.9858, 44.9191, 46.0257, 44.7169, 69.6271, 64.6525,\n",
      "        67.1841, 70.7314, 68.7855, 45.0103, 53.0372, 66.6487, 64.0481, 63.0810],\n",
      "       device='cuda:0', dtype=torch.float64)\n",
      "\n"
     ]
    },
    {
     "name": "stderr",
     "output_type": "stream",
     "text": [
      "\r",
      "Eval:  84%|████████▍ | 932/1110 [10:52<01:20,  2.21it/s]"
     ]
    },
    {
     "name": "stdout",
     "output_type": "stream",
     "text": [
      "orientation_error\n",
      "tensor([74.4742, 67.1908, 66.2782, 45.3030, 70.9185, 72.7338, 67.4745, 66.9620,\n",
      "        61.9699, 57.8359, 64.5285, 64.4042, 64.8156, 61.4169, 60.4493, 60.1934,\n",
      "        48.9487, 57.6915, 56.2922, 59.9289, 46.6586, 45.7045, 59.9824, 59.6199,\n",
      "        59.8169, 60.3674, 60.5021, 59.7113, 60.2049, 59.7079, 60.3786, 45.6048],\n",
      "       device='cuda:0', dtype=torch.float64)\n",
      "\n"
     ]
    },
    {
     "name": "stderr",
     "output_type": "stream",
     "text": [
      "\r",
      "Eval:  84%|████████▍ | 933/1110 [10:52<01:17,  2.29it/s]"
     ]
    },
    {
     "name": "stdout",
     "output_type": "stream",
     "text": [
      "orientation_error\n",
      "tensor([59.5494, 43.7866, 43.4917, 43.4964, 43.7927, 27.9779, 26.5817, 25.8847,\n",
      "        26.0404, 24.9857, 22.6668, 26.7787, 25.4622, 22.6149, 23.0546, 24.4346,\n",
      "        26.3973, 24.8404, 26.3344, 24.8192, 25.1360, 24.5197, 24.5083, 25.4014,\n",
      "        25.8093, 26.0437, 26.8703, 28.2541, 28.9420, 28.5069, 28.7488, 27.6251],\n",
      "       device='cuda:0', dtype=torch.float64)\n",
      "\n"
     ]
    },
    {
     "name": "stderr",
     "output_type": "stream",
     "text": [
      "\r",
      "Eval:  84%|████████▍ | 934/1110 [10:53<01:20,  2.19it/s]"
     ]
    },
    {
     "name": "stdout",
     "output_type": "stream",
     "text": [
      "orientation_error\n",
      "tensor([27.6614, 27.7850, 42.4597, 27.4370, 27.3110, 27.0829, 27.9809, 27.7314,\n",
      "        27.9640, 27.7833, 27.4041, 27.5664, 27.3847, 26.7870, 31.4482, 27.0612,\n",
      "        26.6387, 26.6247, 26.5025, 25.8051, 31.3639, 31.1716, 33.9825, 33.0679,\n",
      "        31.8917, 32.0990, 32.9666, 32.9139, 32.2187, 31.2257, 31.6515, 25.3542],\n",
      "       device='cuda:0', dtype=torch.float64)\n",
      "\n"
     ]
    },
    {
     "name": "stderr",
     "output_type": "stream",
     "text": [
      "\r",
      "Eval:  84%|████████▍ | 935/1110 [10:53<01:21,  2.16it/s]"
     ]
    },
    {
     "name": "stdout",
     "output_type": "stream",
     "text": [
      "orientation_error\n",
      "tensor([25.8176, 26.2719, 26.0434, 26.1528, 27.0799, 26.6724, 26.1926, 26.6989,\n",
      "        25.8793, 25.6794, 25.9765, 26.1818, 30.9943, 31.6326, 25.5312, 31.9630,\n",
      "        25.0814, 24.9409, 25.6743, 25.7975, 25.3394, 25.8160, 25.6267, 31.7364,\n",
      "        31.9878, 26.5546, 34.2150, 32.1038, 32.1119, 27.5393, 27.4951, 28.4318],\n",
      "       device='cuda:0', dtype=torch.float64)\n",
      "\n"
     ]
    },
    {
     "name": "stderr",
     "output_type": "stream",
     "text": [
      "\r",
      "Eval:  84%|████████▍ | 936/1110 [10:54<01:11,  2.44it/s]"
     ]
    },
    {
     "name": "stdout",
     "output_type": "stream",
     "text": [
      "orientation_error\n",
      "tensor([28.3991, 28.6248, 28.8784, 28.9049, 29.0173, 29.0324, 29.0480, 29.9378,\n",
      "        32.0243, 33.5217, 33.5654, 31.0224, 30.7619, 32.1786, 32.8968, 31.0239,\n",
      "        30.6905, 29.5297, 30.0268, 29.8780, 30.2949, 29.4008, 27.9497, 28.4243,\n",
      "        27.9222, 28.0633, 28.4391, 28.7456, 27.3973, 30.0597, 32.4624, 26.6000],\n",
      "       device='cuda:0', dtype=torch.float64)\n",
      "\n"
     ]
    },
    {
     "name": "stderr",
     "output_type": "stream",
     "text": [
      "\r",
      "Eval:  84%|████████▍ | 937/1110 [10:54<01:09,  2.50it/s]"
     ]
    },
    {
     "name": "stdout",
     "output_type": "stream",
     "text": [
      "orientation_error\n",
      "tensor([27.5802, 26.7833, 27.0727, 26.7230, 26.6653, 27.9653, 32.3213, 32.4904,\n",
      "        32.5790, 32.7735, 33.5765, 34.3080, 32.4759, 32.4584, 33.9098, 32.4200,\n",
      "        29.3688, 28.7358, 28.4357, 27.7948, 28.2133, 27.4136, 43.7639, 44.5493,\n",
      "        39.5407, 30.4735, 61.1865, 29.7636, 30.7859, 28.7236, 32.5412, 27.5288],\n",
      "       device='cuda:0', dtype=torch.float64)\n",
      "\n"
     ]
    },
    {
     "name": "stderr",
     "output_type": "stream",
     "text": [
      "\r",
      "Eval:  85%|████████▍ | 938/1110 [10:55<01:16,  2.26it/s]"
     ]
    },
    {
     "name": "stdout",
     "output_type": "stream",
     "text": [
      "orientation_error\n",
      "tensor([35.8542, 36.8587, 35.0665, 32.4306, 34.3836, 48.6827, 49.1824, 50.6103,\n",
      "        48.5598, 47.1611, 46.3846, 45.1089, 44.5472, 43.7939, 43.2350, 42.0517,\n",
      "        42.0794, 43.3960, 44.6594, 46.7842, 47.8037, 45.7137, 45.5250, 45.9445,\n",
      "        44.4239, 46.0811, 44.6403, 45.3657, 44.6946, 44.7407, 44.8995, 46.1769],\n",
      "       device='cuda:0', dtype=torch.float64)\n",
      "\n"
     ]
    },
    {
     "name": "stderr",
     "output_type": "stream",
     "text": [
      "\r",
      "Eval:  85%|████████▍ | 939/1110 [10:55<01:11,  2.38it/s]"
     ]
    },
    {
     "name": "stdout",
     "output_type": "stream",
     "text": [
      "orientation_error\n",
      "tensor([46.4885, 45.9537, 45.5949, 44.1457, 26.7806, 41.6931, 42.2033, 41.8855,\n",
      "        43.4089, 42.4003, 40.7230, 38.8003, 36.7145, 38.8097, 37.7067, 21.0422,\n",
      "        22.9649, 23.5675, 23.2463, 44.3864, 46.9681, 45.7659, 27.4514, 26.6701,\n",
      "        26.8276, 28.0923, 29.1761, 45.1857, 36.3728, 25.9844, 26.8011, 26.5393],\n",
      "       device='cuda:0', dtype=torch.float64)\n",
      "\n"
     ]
    },
    {
     "name": "stderr",
     "output_type": "stream",
     "text": [
      "\r",
      "Eval:  85%|████████▍ | 940/1110 [10:55<01:09,  2.46it/s]"
     ]
    },
    {
     "name": "stdout",
     "output_type": "stream",
     "text": [
      "orientation_error\n",
      "tensor([27.4863, 27.9968, 28.3118, 29.2427, 42.5958, 29.4111, 43.1979, 43.4424,\n",
      "        29.9359, 42.6790, 42.5442, 42.8284, 42.4419, 41.7867, 41.9201, 40.4864,\n",
      "        40.9954, 40.8632, 41.6480, 41.8364, 42.6331, 42.8228, 43.5858, 43.6267,\n",
      "        44.4004, 44.5483, 44.3988, 44.1191, 43.9213, 43.8996, 43.9925, 44.5805],\n",
      "       device='cuda:0', dtype=torch.float64)\n",
      "\n",
      "MPJPE: 96.42709904449275\n",
      "Reconstruction Error: 59.011896208689386\n",
      "\n",
      "Orientation error: 31.819009357724113\n"
     ]
    },
    {
     "name": "stderr",
     "output_type": "stream",
     "text": [
      "\r",
      "Eval:  85%|████████▍ | 941/1110 [10:56<01:08,  2.46it/s]"
     ]
    },
    {
     "name": "stdout",
     "output_type": "stream",
     "text": [
      "orientation_error\n",
      "tensor([44.4414, 32.1276, 44.5628, 44.7617, 44.7285, 44.1140, 44.0508, 44.0257,\n",
      "        43.7329, 43.9250, 44.1344, 44.7012, 44.7199, 44.8044, 44.6748, 44.8142,\n",
      "        44.9800, 45.2264, 44.8325, 44.5918, 44.3063, 44.3912, 44.2635, 44.2317,\n",
      "        44.3261, 44.4687, 44.2987, 44.4820, 43.9261, 43.6559, 43.4734, 43.2769],\n",
      "       device='cuda:0', dtype=torch.float64)\n",
      "\n"
     ]
    },
    {
     "name": "stderr",
     "output_type": "stream",
     "text": [
      "\r",
      "Eval:  85%|████████▍ | 942/1110 [10:56<01:09,  2.43it/s]"
     ]
    },
    {
     "name": "stdout",
     "output_type": "stream",
     "text": [
      "orientation_error\n",
      "tensor([42.7663, 42.4079, 42.0240, 41.8393, 41.6827, 41.3645, 41.6344, 41.4065,\n",
      "        41.3208, 41.1847, 41.5097, 41.9652, 41.8953, 42.6705, 42.3036, 42.6974,\n",
      "        42.6911, 42.5180, 42.8836, 43.5173, 43.8530, 43.7799, 43.3263, 43.7637,\n",
      "        43.6233, 42.7282, 28.0357, 42.0456, 41.1579, 40.8575, 42.9574, 45.0198],\n",
      "       device='cuda:0', dtype=torch.float64)\n",
      "\n"
     ]
    },
    {
     "name": "stderr",
     "output_type": "stream",
     "text": [
      "\r",
      "Eval:  85%|████████▍ | 943/1110 [10:57<01:07,  2.47it/s]"
     ]
    },
    {
     "name": "stdout",
     "output_type": "stream",
     "text": [
      "orientation_error\n",
      "tensor([42.3501, 38.2842, 37.5098, 37.0684, 35.9403, 45.4082, 41.3339, 23.3522,\n",
      "        41.3896, 42.4404, 31.2859, 63.5037, 65.5265, 62.7639, 48.3473, 54.1035,\n",
      "        57.7324, 61.4450, 55.8310, 54.0116, 51.1567, 53.2892, 53.8572, 50.0998,\n",
      "        60.4072, 51.7163, 50.5696, 50.6926, 53.9171, 54.7785, 50.9989, 50.1001],\n",
      "       device='cuda:0', dtype=torch.float64)\n",
      "\n"
     ]
    },
    {
     "name": "stderr",
     "output_type": "stream",
     "text": [
      "\r",
      "Eval:  85%|████████▌ | 944/1110 [10:57<01:04,  2.58it/s]"
     ]
    },
    {
     "name": "stdout",
     "output_type": "stream",
     "text": [
      "orientation_error\n",
      "tensor([52.4359, 51.1227, 51.8529, 48.6202, 49.7268, 45.5700, 49.5425, 46.1189,\n",
      "        50.4295, 51.4553, 50.0355, 52.1836, 50.1410, 51.9990, 51.9569, 52.5411,\n",
      "        53.1125, 52.9592, 54.5228, 54.1975, 67.7662, 68.1402, 52.5066, 52.2484,\n",
      "        53.0071, 53.3551, 53.2223, 54.3074, 54.2761, 55.6105, 57.6972, 53.4367],\n",
      "       device='cuda:0', dtype=torch.float64)\n",
      "\n"
     ]
    },
    {
     "name": "stderr",
     "output_type": "stream",
     "text": [
      "\r",
      "Eval:  85%|████████▌ | 945/1110 [10:58<01:12,  2.26it/s]"
     ]
    },
    {
     "name": "stdout",
     "output_type": "stream",
     "text": [
      "orientation_error\n",
      "tensor([53.2935, 54.3071, 54.1639, 54.0188, 54.2817, 54.3276, 54.0206, 54.8047,\n",
      "        54.3006, 54.5610, 54.7324, 54.7066, 55.5707, 55.1592, 55.7862, 55.7651,\n",
      "        56.3295, 57.2977, 56.8374, 57.0861, 56.3355, 56.6876, 56.4160, 56.3842,\n",
      "        56.6698, 56.8404, 56.7563, 56.9786, 57.1563, 57.3758, 57.2962, 57.5045],\n",
      "       device='cuda:0', dtype=torch.float64)\n",
      "\n"
     ]
    },
    {
     "name": "stderr",
     "output_type": "stream",
     "text": [
      "\r",
      "Eval:  85%|████████▌ | 946/1110 [10:58<01:28,  1.85it/s]"
     ]
    },
    {
     "name": "stdout",
     "output_type": "stream",
     "text": [
      "orientation_error\n",
      "tensor([57.7273, 56.8673, 57.2625, 57.0357, 55.7506, 55.7566, 55.6057, 55.6954,\n",
      "        54.3789, 55.6601, 55.8118, 54.3307, 43.5925, 42.8005, 54.2760, 54.4343,\n",
      "        54.0533, 53.4253, 53.3765, 53.8022, 53.5649, 53.9908, 53.8108, 53.7362,\n",
      "        54.7761, 54.4709, 55.1890, 54.2898, 55.3696, 54.3459, 54.6353, 54.9518],\n",
      "       device='cuda:0', dtype=torch.float64)\n",
      "\n"
     ]
    },
    {
     "name": "stderr",
     "output_type": "stream",
     "text": [
      "\r",
      "Eval:  85%|████████▌ | 947/1110 [10:59<01:25,  1.91it/s]"
     ]
    },
    {
     "name": "stdout",
     "output_type": "stream",
     "text": [
      "orientation_error\n",
      "tensor([54.9036, 55.1099, 55.2805, 55.1952, 55.5825, 56.2898, 55.9779, 56.2325,\n",
      "        56.9080, 56.5153, 56.1048, 56.2662, 56.7915, 56.4440, 57.0247, 56.1137,\n",
      "        56.0130, 56.5408, 55.7153, 56.0903, 55.8957, 55.6176, 69.4778, 55.6344,\n",
      "        55.5960, 55.2252, 55.6714, 55.5213, 55.3238, 54.9423, 55.6545, 55.1312],\n",
      "       device='cuda:0', dtype=torch.float64)\n",
      "\n"
     ]
    },
    {
     "name": "stderr",
     "output_type": "stream",
     "text": [
      "\r",
      "Eval:  85%|████████▌ | 948/1110 [10:59<01:22,  1.97it/s]"
     ]
    },
    {
     "name": "stdout",
     "output_type": "stream",
     "text": [
      "orientation_error\n",
      "tensor([56.7083, 56.1440, 55.7253, 69.7381, 55.2424, 54.3173, 54.7484, 55.4546,\n",
      "        51.5643, 49.1959, 38.7013, 34.1434, 51.8816, 31.7017, 35.5033, 33.7160,\n",
      "        33.9897, 47.2669, 48.7661, 47.4786, 49.4087, 53.8514, 55.0832, 49.9247,\n",
      "        50.6370, 34.7926, 50.8892, 57.1676, 52.8208, 55.1662, 55.0405, 46.6961],\n",
      "       device='cuda:0', dtype=torch.float64)\n",
      "\n"
     ]
    },
    {
     "name": "stderr",
     "output_type": "stream",
     "text": [
      "\r",
      "Eval:  85%|████████▌ | 949/1110 [11:00<01:20,  2.00it/s]"
     ]
    },
    {
     "name": "stdout",
     "output_type": "stream",
     "text": [
      "orientation_error\n",
      "tensor([47.5251, 54.4821, 49.2735, 45.9217, 44.6499, 43.0694, 45.1167, 48.5469,\n",
      "        48.4124, 45.2238, 43.7971, 41.4333, 41.3573, 43.1748, 50.3076, 51.8683,\n",
      "        45.0511, 53.0544, 44.3388, 43.8723, 48.8278, 19.9577, 19.7708, 20.0296,\n",
      "        19.8257, 19.8340, 21.3486, 22.4782, 22.7587, 22.3296, 23.9647, 22.1485],\n",
      "       device='cuda:0', dtype=torch.float64)\n",
      "\n"
     ]
    },
    {
     "name": "stderr",
     "output_type": "stream",
     "text": [
      "\r",
      "Eval:  86%|████████▌ | 950/1110 [11:01<01:39,  1.61it/s]"
     ]
    },
    {
     "name": "stdout",
     "output_type": "stream",
     "text": [
      "orientation_error\n",
      "tensor([38.1979, 37.8061, 37.0215, 36.1863, 35.8547, 36.0729, 35.6423, 35.6202,\n",
      "        34.8534, 34.1263, 20.3123, 19.2519, 19.5637, 20.0499, 19.6429, 19.7146,\n",
      "        20.4228, 19.8788, 19.5603, 19.9745, 35.2804, 21.0444, 21.3391, 23.2426,\n",
      "        23.4983, 22.2816, 21.2861, 20.6570, 19.2493, 17.9493, 16.9875, 18.3058],\n",
      "       device='cuda:0', dtype=torch.float64)\n",
      "\n"
     ]
    },
    {
     "name": "stderr",
     "output_type": "stream",
     "text": [
      "\r",
      "Eval:  86%|████████▌ | 951/1110 [11:01<01:46,  1.49it/s]"
     ]
    },
    {
     "name": "stdout",
     "output_type": "stream",
     "text": [
      "orientation_error\n",
      "tensor([17.1180, 16.4307, 16.6994, 17.1856, 16.7940, 16.4890, 17.2664, 17.5040,\n",
      "        17.2352, 16.7923, 17.2795, 17.1334, 17.0299, 17.3406, 32.0228, 33.8831,\n",
      "        34.5594, 35.6721, 35.3784, 36.4879, 37.3787, 37.2142, 36.9229, 36.9038,\n",
      "        36.6784, 36.9152, 35.4245, 33.9542, 17.7324, 18.4109, 18.2086, 17.7908],\n",
      "       device='cuda:0', dtype=torch.float64)\n",
      "\n"
     ]
    },
    {
     "name": "stderr",
     "output_type": "stream",
     "text": [
      "\r",
      "Eval:  86%|████████▌ | 952/1110 [11:02<01:41,  1.56it/s]"
     ]
    },
    {
     "name": "stdout",
     "output_type": "stream",
     "text": [
      "orientation_error\n",
      "tensor([16.7621, 16.9910, 16.3358, 16.6958, 17.1007, 17.1389, 17.9918, 18.8211,\n",
      "        33.5539, 34.0743, 32.9873, 32.8799, 32.6960, 32.1015, 33.4751, 34.9907,\n",
      "        35.0283, 34.2602, 33.6057, 33.4142, 32.9267, 32.9847, 33.5967, 33.5477,\n",
      "        33.8445, 34.3932, 34.3650, 33.6516, 33.3353, 33.2286, 33.2522, 33.5426],\n",
      "       device='cuda:0', dtype=torch.float64)\n",
      "\n"
     ]
    },
    {
     "name": "stderr",
     "output_type": "stream",
     "text": [
      "\r",
      "Eval:  86%|████████▌ | 953/1110 [11:03<01:35,  1.65it/s]"
     ]
    },
    {
     "name": "stdout",
     "output_type": "stream",
     "text": [
      "orientation_error\n",
      "tensor([34.1433, 34.1869, 34.3711, 34.3533, 34.3523, 34.6331, 34.8531, 34.9489,\n",
      "        35.0956, 35.1850, 34.7578, 34.8077, 34.8060, 34.8074, 34.9554, 34.1131,\n",
      "        34.2277, 33.8647, 34.4485, 34.6964, 34.3944, 34.0424, 34.3239, 34.0636,\n",
      "        33.6318, 33.9107, 33.7435, 33.9537, 33.9723, 34.0112, 33.8843, 34.1695],\n",
      "       device='cuda:0', dtype=torch.float64)\n",
      "\n"
     ]
    },
    {
     "name": "stderr",
     "output_type": "stream",
     "text": [
      "\r",
      "Eval:  86%|████████▌ | 954/1110 [11:03<01:32,  1.69it/s]"
     ]
    },
    {
     "name": "stdout",
     "output_type": "stream",
     "text": [
      "orientation_error\n",
      "tensor([34.3060, 34.0461, 34.3105, 34.3771, 34.2407, 34.0539, 34.1807, 34.0369,\n",
      "        33.9889, 33.8283, 33.9098, 35.0175, 35.0988, 35.4608, 35.6031, 35.7535,\n",
      "        35.7272, 35.7075, 35.5930, 35.5565, 35.7610, 35.9379, 36.0146, 35.8942,\n",
      "        35.8607, 35.8471, 35.9664, 36.0212, 36.0896, 36.0507, 36.1030, 35.9682],\n",
      "       device='cuda:0', dtype=torch.float64)\n",
      "\n"
     ]
    },
    {
     "name": "stderr",
     "output_type": "stream",
     "text": [
      "\r",
      "Eval:  86%|████████▌ | 955/1110 [11:03<01:22,  1.89it/s]"
     ]
    },
    {
     "name": "stdout",
     "output_type": "stream",
     "text": [
      "orientation_error\n",
      "tensor([36.0992, 35.8697, 35.9658, 20.9318, 20.8801, 20.9211, 21.0459, 20.8669,\n",
      "        20.5433, 20.5736, 20.6339, 20.5038, 35.3545, 35.4413, 35.4596, 35.2651,\n",
      "        35.1106, 35.2570, 35.0698, 34.9562, 34.8682, 35.0240, 35.5545, 35.1753,\n",
      "        20.7803, 20.7062, 20.8660, 20.8768, 20.9594, 20.6439, 20.8404, 20.6882],\n",
      "       device='cuda:0', dtype=torch.float64)\n",
      "\n"
     ]
    },
    {
     "name": "stderr",
     "output_type": "stream",
     "text": [
      "\r",
      "Eval:  86%|████████▌ | 956/1110 [11:04<01:31,  1.68it/s]"
     ]
    },
    {
     "name": "stdout",
     "output_type": "stream",
     "text": [
      "orientation_error\n",
      "tensor([20.7083, 20.5962, 20.6042, 21.4027, 36.1349, 36.6067, 21.9413, 36.8605,\n",
      "        37.4065, 37.1740, 38.2950, 36.9080, 23.2568, 38.5022, 37.9077, 37.3543,\n",
      "        37.1227, 38.2300, 39.2884, 39.3286, 38.3323, 37.8001, 36.9361, 21.0516,\n",
      "        20.5345, 20.5016, 20.5859, 37.0484, 37.4615, 38.1093, 38.2720, 38.2410],\n",
      "       device='cuda:0', dtype=torch.float64)\n",
      "\n"
     ]
    },
    {
     "name": "stderr",
     "output_type": "stream",
     "text": [
      "\r",
      "Eval:  86%|████████▌ | 957/1110 [11:05<01:22,  1.87it/s]"
     ]
    },
    {
     "name": "stdout",
     "output_type": "stream",
     "text": [
      "orientation_error\n",
      "tensor([38.1948, 38.8675, 39.0435, 38.5651, 37.7305, 37.3653, 22.2037, 21.3963,\n",
      "        20.0710, 19.7651, 20.4209, 21.8571, 22.4694, 22.8860, 23.1183, 22.1320,\n",
      "        37.1195, 36.8537, 37.4160, 37.1215, 36.3732, 36.3839, 35.9496, 21.5466,\n",
      "        21.6926, 21.1588, 20.5891, 20.2997, 20.8234, 21.2925, 37.2905, 22.3198],\n",
      "       device='cuda:0', dtype=torch.float64)\n",
      "\n"
     ]
    },
    {
     "name": "stderr",
     "output_type": "stream",
     "text": [
      "\r",
      "Eval:  86%|████████▋ | 958/1110 [11:05<01:13,  2.07it/s]"
     ]
    },
    {
     "name": "stdout",
     "output_type": "stream",
     "text": [
      "orientation_error\n",
      "tensor([22.3217, 22.4176, 37.1714, 37.4834, 37.7034, 38.7013, 39.0820, 38.7410,\n",
      "        38.5724, 38.2252, 22.0044, 21.0984, 20.9507, 20.0026, 34.8521, 35.2511,\n",
      "        19.7788, 34.4717, 34.0079, 33.7215, 33.3624, 33.6122, 33.4207, 33.1043,\n",
      "        32.8104, 17.6231, 17.1966, 17.3642, 17.2514, 16.8893, 16.8561, 18.6597],\n",
      "       device='cuda:0', dtype=torch.float64)\n",
      "\n"
     ]
    },
    {
     "name": "stderr",
     "output_type": "stream",
     "text": [
      "\r",
      "Eval:  86%|████████▋ | 959/1110 [11:05<01:06,  2.28it/s]"
     ]
    },
    {
     "name": "stdout",
     "output_type": "stream",
     "text": [
      "orientation_error\n",
      "tensor([34.2059, 19.8110, 20.2700, 19.4777, 33.5524, 33.5794, 33.9697, 34.2463,\n",
      "        35.6385, 21.5672, 21.1173, 21.1125, 20.9437, 20.9777, 20.5427, 19.7837,\n",
      "        35.0173, 35.5352, 34.9910, 20.2134, 19.7264, 19.8966, 20.0620, 34.5799,\n",
      "        33.4365, 35.0778, 34.8216, 35.5763, 19.5927, 20.0213, 34.9355, 35.0338],\n",
      "       device='cuda:0', dtype=torch.float64)\n",
      "\n"
     ]
    },
    {
     "name": "stderr",
     "output_type": "stream",
     "text": [
      "\r",
      "Eval:  86%|████████▋ | 960/1110 [11:06<01:03,  2.35it/s]"
     ]
    },
    {
     "name": "stdout",
     "output_type": "stream",
     "text": [
      "orientation_error\n",
      "tensor([36.9996, 37.5453, 38.6101, 24.1903, 24.4983, 38.6898, 36.7654, 36.0141,\n",
      "        36.1940, 36.6583, 21.7517, 21.6628, 21.6486, 20.7151, 21.1541, 34.8806,\n",
      "        34.1204, 34.1636, 19.6057, 19.1909, 18.3773, 18.1681, 18.3280, 18.0363,\n",
      "        18.1421, 33.8324, 33.6641, 32.9476, 34.1844, 18.5381, 33.7431, 39.4133],\n",
      "       device='cuda:0', dtype=torch.float64)\n",
      "\n",
      "MPJPE: 96.57400069709496\n",
      "Reconstruction Error: 59.12613980964941\n",
      "\n",
      "Orientation error: 31.964903956821868\n"
     ]
    },
    {
     "name": "stderr",
     "output_type": "stream",
     "text": [
      "\r",
      "Eval:  87%|████████▋ | 961/1110 [11:06<00:53,  2.77it/s]"
     ]
    },
    {
     "name": "stdout",
     "output_type": "stream",
     "text": [
      "orientation_error\n",
      "tensor([36.6448, 37.0565, 36.1052, 36.5957, 37.5373, 23.2673, 24.0641, 22.5261,\n",
      "        37.8351, 37.5091, 37.7481, 37.9502, 38.5547, 38.4661, 37.8857, 37.1449,\n",
      "        36.7238, 35.5718, 34.5375, 20.9568, 34.5277, 33.5713, 33.6965, 18.5721,\n",
      "        32.5515, 17.5236, 32.6257, 32.8316, 32.9218, 33.9280, 33.7002, 34.1786],\n",
      "       device='cuda:0', dtype=torch.float64)\n",
      "\n"
     ]
    },
    {
     "name": "stderr",
     "output_type": "stream",
     "text": [
      "\r",
      "Eval:  87%|████████▋ | 962/1110 [11:06<00:55,  2.65it/s]"
     ]
    },
    {
     "name": "stdout",
     "output_type": "stream",
     "text": [
      "orientation_error\n",
      "tensor([19.1928, 34.3192, 34.4167, 34.9805, 20.6280, 21.8565, 22.3426, 37.4040,\n",
      "        37.4283, 21.6405, 22.0711, 22.7882, 24.4158, 25.3935, 25.9140, 26.1553,\n",
      "        25.6451, 24.9445, 24.1057, 23.8113, 38.0853, 37.2199, 37.6501, 22.6223,\n",
      "        21.7865, 21.6477, 22.2980, 19.5946, 19.8063, 19.5607, 19.8982, 19.6672],\n",
      "       device='cuda:0', dtype=torch.float64)\n",
      "\n"
     ]
    },
    {
     "name": "stderr",
     "output_type": "stream",
     "text": [
      "\r",
      "Eval:  87%|████████▋ | 963/1110 [11:07<01:04,  2.29it/s]"
     ]
    },
    {
     "name": "stdout",
     "output_type": "stream",
     "text": [
      "orientation_error\n",
      "tensor([20.6963, 20.3886, 20.3040, 19.5652, 20.3569, 20.6223, 19.0191, 18.8287,\n",
      "        19.9614, 20.1469, 19.1599, 19.1973, 19.1480, 19.9516, 34.0485, 34.3352,\n",
      "        19.8556, 19.8853, 19.8279, 19.7331, 21.0677, 21.2637, 21.0744, 20.5851,\n",
      "        19.8962, 18.8286, 33.1467, 33.3683, 33.6325, 33.8445, 33.9071, 33.6519],\n",
      "       device='cuda:0', dtype=torch.float64)\n",
      "\n"
     ]
    },
    {
     "name": "stderr",
     "output_type": "stream",
     "text": [
      "\r",
      "Eval:  87%|████████▋ | 964/1110 [11:07<01:08,  2.12it/s]"
     ]
    },
    {
     "name": "stdout",
     "output_type": "stream",
     "text": [
      "orientation_error\n",
      "tensor([32.8111, 32.6824, 32.2107, 17.3611, 17.1137, 16.7217, 16.9760, 16.9648,\n",
      "        18.2597, 19.5640, 19.8193, 20.0068, 36.0497, 35.9179, 36.6846, 22.4469,\n",
      "        23.0185, 22.4630, 23.0361, 21.9042, 22.5161, 23.3490, 21.6533, 21.7015,\n",
      "        22.0352, 19.9678, 19.5743, 18.9886, 19.0730, 19.4583, 20.0848, 19.6497],\n",
      "       device='cuda:0', dtype=torch.float64)\n",
      "\n"
     ]
    },
    {
     "name": "stderr",
     "output_type": "stream",
     "text": [
      "\r",
      "Eval:  87%|████████▋ | 965/1110 [11:08<01:05,  2.21it/s]"
     ]
    },
    {
     "name": "stdout",
     "output_type": "stream",
     "text": [
      "orientation_error\n",
      "tensor([19.3542, 19.7205, 18.7459, 17.4843, 16.6566, 16.9105, 17.7240, 17.9341,\n",
      "        33.0739, 40.7462, 24.7328, 40.2694, 42.1756, 39.6414, 40.1315, 37.7171,\n",
      "        37.2214, 36.9046, 38.2810, 39.2854, 40.6117, 40.1428, 54.5058, 39.6843,\n",
      "        38.1822, 37.6704, 38.7794, 39.1454, 51.0833, 50.5651, 32.2854, 18.4348],\n",
      "       device='cuda:0', dtype=torch.float64)\n",
      "\n"
     ]
    },
    {
     "name": "stderr",
     "output_type": "stream",
     "text": [
      "\r",
      "Eval:  87%|████████▋ | 966/1110 [11:08<00:59,  2.41it/s]"
     ]
    },
    {
     "name": "stdout",
     "output_type": "stream",
     "text": [
      "orientation_error\n",
      "tensor([18.8224, 18.2478, 18.2040, 33.7357, 34.4202, 20.0009, 34.9155, 33.6164,\n",
      "        32.8063, 17.9810, 17.9148, 18.0786, 33.4507, 33.5657, 19.0967, 17.7516,\n",
      "        17.3636, 32.3049, 33.2648, 31.8897, 32.3536, 32.2437, 32.7214, 34.3901,\n",
      "        34.9747, 36.2304, 36.4762, 37.0077, 38.7286, 40.4253, 28.9392, 28.2699],\n",
      "       device='cuda:0', dtype=torch.float64)\n",
      "\n"
     ]
    },
    {
     "name": "stderr",
     "output_type": "stream",
     "text": [
      "\r",
      "Eval:  87%|████████▋ | 967/1110 [11:09<01:00,  2.35it/s]"
     ]
    },
    {
     "name": "stdout",
     "output_type": "stream",
     "text": [
      "orientation_error\n",
      "tensor([28.7894, 24.7489, 24.8044, 22.6281, 20.9694, 20.9549, 20.4189, 19.8137,\n",
      "        19.3081, 33.2504, 35.1558, 20.9285, 21.4200, 19.6917, 17.9430, 16.5729,\n",
      "        30.6447, 16.2916, 17.2695, 31.5581, 31.8569, 32.0708, 32.3587, 32.0091,\n",
      "        32.0434, 32.3757, 31.9768, 31.3325, 30.6403, 32.2220, 33.5380, 34.2373],\n",
      "       device='cuda:0', dtype=torch.float64)\n",
      "\n"
     ]
    },
    {
     "name": "stderr",
     "output_type": "stream",
     "text": [
      "\r",
      "Eval:  87%|████████▋ | 968/1110 [11:09<00:54,  2.58it/s]"
     ]
    },
    {
     "name": "stdout",
     "output_type": "stream",
     "text": [
      "orientation_error\n",
      "tensor([34.1728, 33.5115, 31.9691, 16.5703, 16.3479, 16.5554, 17.0799, 32.1077,\n",
      "        32.5550, 16.3733, 15.9852, 15.8249, 16.3078, 16.9458, 21.4338, 22.0532,\n",
      "        21.4641, 18.0986, 20.0269, 19.5591, 31.7522, 32.4209, 32.1122, 18.1565,\n",
      "        18.8970, 19.5167, 18.6746, 18.2925, 18.4437, 18.2772, 17.7523, 17.4086],\n",
      "       device='cuda:0', dtype=torch.float64)\n",
      "\n"
     ]
    },
    {
     "name": "stderr",
     "output_type": "stream",
     "text": [
      "\r",
      "Eval:  87%|████████▋ | 969/1110 [11:09<00:53,  2.65it/s]"
     ]
    },
    {
     "name": "stdout",
     "output_type": "stream",
     "text": [
      "orientation_error\n",
      "tensor([17.2607, 18.0531, 15.8938, 15.6604, 15.2158, 16.0157, 16.2147, 30.8926,\n",
      "        15.7628, 31.5410, 32.9138, 16.3571, 16.8649, 16.6085, 17.2492, 17.3212,\n",
      "        17.5870, 17.6173, 16.7457, 17.0648, 17.5272, 31.4774, 31.5155, 31.8681,\n",
      "        31.7108, 32.1731, 31.6506, 31.3646, 30.2337, 30.5726, 31.1213, 32.6995],\n",
      "       device='cuda:0', dtype=torch.float64)\n",
      "\n"
     ]
    },
    {
     "name": "stderr",
     "output_type": "stream",
     "text": [
      "\r",
      "Eval:  87%|████████▋ | 970/1110 [11:10<00:48,  2.89it/s]"
     ]
    },
    {
     "name": "stdout",
     "output_type": "stream",
     "text": [
      "orientation_error\n",
      "tensor([32.8186, 33.8915, 34.6446, 19.6011, 18.7152, 18.7220, 18.2805, 17.1676,\n",
      "        16.9617, 19.2853, 19.2697, 22.0670, 21.4468, 21.1665, 22.0689, 21.4992,\n",
      "        21.0700, 20.1523, 20.5877, 20.4993, 20.6106, 21.4661, 19.6536, 19.1086,\n",
      "        19.1674, 18.4530, 18.6112, 18.6717, 18.9688, 18.0152, 18.5879, 17.9821],\n",
      "       device='cuda:0', dtype=torch.float64)\n",
      "\n"
     ]
    },
    {
     "name": "stderr",
     "output_type": "stream",
     "text": [
      "\r",
      "Eval:  87%|████████▋ | 971/1110 [11:10<00:52,  2.66it/s]"
     ]
    },
    {
     "name": "stdout",
     "output_type": "stream",
     "text": [
      "orientation_error\n",
      "tensor([17.5112, 18.1913, 32.7496, 33.0387, 33.4151, 33.2374, 33.3258, 34.1565,\n",
      "        34.0431, 21.0670, 20.5209, 20.2109, 20.5675, 20.0309, 20.0970, 20.1283,\n",
      "        20.5861, 20.6980, 20.9660, 34.2058, 34.1325, 34.2593, 35.1352, 35.2796,\n",
      "        36.3686, 35.3280, 36.0500, 35.7486, 37.5171, 38.0563, 38.7912, 40.6456],\n",
      "       device='cuda:0', dtype=torch.float64)\n",
      "\n"
     ]
    },
    {
     "name": "stderr",
     "output_type": "stream",
     "text": [
      "\r",
      "Eval:  88%|████████▊ | 972/1110 [11:11<01:00,  2.29it/s]"
     ]
    },
    {
     "name": "stdout",
     "output_type": "stream",
     "text": [
      "orientation_error\n",
      "tensor([28.0037, 29.0921, 30.2030, 32.8281, 32.6948, 31.7861, 30.2234, 30.6394,\n",
      "        28.6672, 28.1843, 26.7155, 26.6296, 25.8700, 25.9334, 24.8387, 24.7995,\n",
      "        25.0377, 27.0829, 26.5508, 26.5515, 27.3948, 26.4847, 26.6622, 26.6534,\n",
      "        27.0700, 26.6618, 27.0452, 26.0179, 26.2221, 25.9696, 26.1209, 25.9992],\n",
      "       device='cuda:0', dtype=torch.float64)\n",
      "\n"
     ]
    },
    {
     "name": "stderr",
     "output_type": "stream",
     "text": [
      "\r",
      "Eval:  88%|████████▊ | 973/1110 [11:11<00:56,  2.41it/s]"
     ]
    },
    {
     "name": "stdout",
     "output_type": "stream",
     "text": [
      "orientation_error\n",
      "tensor([25.7080, 26.2453, 26.3383, 27.1168, 27.7573, 28.4794, 28.9226, 29.0552,\n",
      "        30.1958, 30.0347, 30.3599, 29.5690, 28.8020, 29.1715, 29.4090, 28.5454,\n",
      "        28.2420, 27.7834, 26.9830, 26.7360, 25.8401, 24.8965, 24.1324, 24.5538,\n",
      "        24.3685, 24.0376, 23.8945, 23.3237, 23.4607, 22.9647, 23.1111, 23.3822],\n",
      "       device='cuda:0', dtype=torch.float64)\n",
      "\n"
     ]
    },
    {
     "name": "stderr",
     "output_type": "stream",
     "text": [
      "\r",
      "Eval:  88%|████████▊ | 974/1110 [11:11<00:56,  2.42it/s]"
     ]
    },
    {
     "name": "stdout",
     "output_type": "stream",
     "text": [
      "orientation_error\n",
      "tensor([23.5387, 24.9944, 24.9489, 26.2165, 28.0546, 30.6952, 32.5218, 33.6763,\n",
      "        34.3798, 35.9416, 36.1035, 35.3830, 36.9217, 37.5295, 38.9161, 39.2625,\n",
      "        38.7654, 37.9995, 37.5415, 35.9239, 36.0572, 35.2932, 34.5756, 34.2652,\n",
      "        34.4159, 33.7347, 34.1173, 32.9000, 33.8996, 34.7777, 35.4865, 35.5451],\n",
      "       device='cuda:0', dtype=torch.float64)\n",
      "\n"
     ]
    },
    {
     "name": "stderr",
     "output_type": "stream",
     "text": [
      "\r",
      "Eval:  88%|████████▊ | 975/1110 [11:12<00:55,  2.44it/s]"
     ]
    },
    {
     "name": "stdout",
     "output_type": "stream",
     "text": [
      "orientation_error\n",
      "tensor([35.8841, 37.9488, 39.3244, 39.9915, 40.9316, 40.6273, 41.2517, 40.7064,\n",
      "        40.9432, 40.4381, 40.6881, 40.7383, 40.8942, 40.6087, 40.2425, 39.9127,\n",
      "        39.5181, 39.3141, 39.8666, 39.5116, 39.3738, 39.0505, 39.6558, 39.5208,\n",
      "        39.2971, 38.2923, 36.5647, 36.0888, 33.2470, 32.4097, 30.6089, 29.3477],\n",
      "       device='cuda:0', dtype=torch.float64)\n",
      "\n"
     ]
    },
    {
     "name": "stderr",
     "output_type": "stream",
     "text": [
      "\r",
      "Eval:  88%|████████▊ | 976/1110 [11:12<01:02,  2.14it/s]"
     ]
    },
    {
     "name": "stdout",
     "output_type": "stream",
     "text": [
      "orientation_error\n",
      "tensor([28.4577, 27.5667, 26.5730, 26.8224, 26.5637, 26.0643, 26.0128, 25.9050,\n",
      "        27.1607, 26.9725, 27.7286, 28.6013, 28.7123, 29.2523, 28.2853, 28.6557,\n",
      "        28.9806, 29.7563, 29.5615, 30.2482, 29.5386, 30.2146, 29.3758, 29.7934,\n",
      "        29.5479, 29.5357, 29.4687, 28.4285, 29.0131, 27.7329, 27.0534, 26.8205],\n",
      "       device='cuda:0', dtype=torch.float64)\n",
      "\n"
     ]
    },
    {
     "name": "stderr",
     "output_type": "stream",
     "text": [
      "\r",
      "Eval:  88%|████████▊ | 977/1110 [11:13<01:03,  2.09it/s]"
     ]
    },
    {
     "name": "stdout",
     "output_type": "stream",
     "text": [
      "orientation_error\n",
      "tensor([27.1162, 26.8127, 26.8985, 27.6648, 27.9459, 28.5339, 28.6810, 28.7035,\n",
      "        28.4637, 28.6788, 27.6149, 27.0666, 26.7504, 27.8737, 30.3860, 33.1669,\n",
      "        35.7800, 38.0683, 38.1139, 36.1291, 34.6478, 34.4372, 34.6839, 36.0514,\n",
      "        37.0887, 37.0639, 35.8872, 35.9466, 36.0039, 36.7372, 37.5645, 37.5572],\n",
      "       device='cuda:0', dtype=torch.float64)\n",
      "\n"
     ]
    },
    {
     "name": "stderr",
     "output_type": "stream",
     "text": [
      "\r",
      "Eval:  88%|████████▊ | 978/1110 [11:13<01:03,  2.07it/s]"
     ]
    },
    {
     "name": "stdout",
     "output_type": "stream",
     "text": [
      "orientation_error\n",
      "tensor([37.3380, 38.1154, 38.0338, 37.4650, 37.4147, 37.2974, 37.2863, 36.9310,\n",
      "        36.8169, 37.3187, 37.8101, 37.2358, 36.9540, 37.0761, 37.4466, 36.1450,\n",
      "        36.5196, 36.5822, 36.2563, 36.2841, 36.1926, 36.5216, 36.2363, 36.0387,\n",
      "        36.6568, 35.8037, 36.7106, 36.5388, 35.4944, 35.8368, 36.0246, 34.6677],\n",
      "       device='cuda:0', dtype=torch.float64)\n",
      "\n"
     ]
    },
    {
     "name": "stderr",
     "output_type": "stream",
     "text": [
      "\r",
      "Eval:  88%|████████▊ | 979/1110 [11:14<01:04,  2.04it/s]"
     ]
    },
    {
     "name": "stdout",
     "output_type": "stream",
     "text": [
      "orientation_error\n",
      "tensor([35.5376, 36.2240, 35.5014, 36.1806, 35.2066, 35.5331, 35.0278, 34.2591,\n",
      "        34.6954, 35.0002, 35.8616, 34.9353, 36.0099, 36.3152, 36.4806, 36.1927,\n",
      "        35.6477, 35.9951, 36.3895, 36.3219, 36.9195, 35.5466, 35.3482, 34.9372,\n",
      "        34.4865, 35.7946, 34.1416, 31.9315, 33.7048, 32.2346, 35.7971, 35.6797],\n",
      "       device='cuda:0', dtype=torch.float64)\n",
      "\n"
     ]
    },
    {
     "name": "stderr",
     "output_type": "stream",
     "text": [
      "\r",
      "Eval:  88%|████████▊ | 980/1110 [11:14<00:56,  2.29it/s]"
     ]
    },
    {
     "name": "stdout",
     "output_type": "stream",
     "text": [
      "orientation_error\n",
      "tensor([39.2728, 41.4876, 38.2113, 37.8956, 32.3027, 36.2925, 35.4763, 33.7514,\n",
      "        35.4095, 36.9273, 36.5843, 35.7100, 36.4699, 35.9334, 35.9355, 36.1281,\n",
      "        36.0726, 36.1726, 36.4586, 36.3630, 36.2984, 35.3604, 35.6221, 35.7057,\n",
      "        35.4556, 35.2224, 35.9372, 35.5509, 35.5772, 34.2984, 35.0360, 35.9919],\n",
      "       device='cuda:0', dtype=torch.float64)\n",
      "\n",
      "MPJPE: 96.40454657848372\n",
      "Reconstruction Error: 59.10551876262062\n",
      "\n",
      "Orientation error: 31.90182907892233\n"
     ]
    },
    {
     "name": "stderr",
     "output_type": "stream",
     "text": [
      "\r",
      "Eval:  88%|████████▊ | 981/1110 [11:15<00:53,  2.42it/s]"
     ]
    },
    {
     "name": "stdout",
     "output_type": "stream",
     "text": [
      "orientation_error\n",
      "tensor([35.7961, 36.4490, 35.5546, 35.8198, 35.8942, 35.8729, 34.6091, 35.1204,\n",
      "        34.9546, 35.0253, 35.2018, 34.8260, 34.7935, 34.8120, 36.2887, 36.4721,\n",
      "        36.0931, 36.2816, 35.6302, 36.3251, 36.7235, 35.3607, 35.3615, 35.4221,\n",
      "        35.4496, 35.6239, 35.1816, 35.9062, 35.1999, 35.0596, 35.5110, 36.0964],\n",
      "       device='cuda:0', dtype=torch.float64)\n",
      "\n"
     ]
    },
    {
     "name": "stderr",
     "output_type": "stream",
     "text": [
      "\r",
      "Eval:  88%|████████▊ | 982/1110 [11:15<00:55,  2.30it/s]"
     ]
    },
    {
     "name": "stdout",
     "output_type": "stream",
     "text": [
      "orientation_error\n",
      "tensor([35.6033, 36.5861, 36.6603, 36.7347, 36.4294, 36.2012, 35.9255, 36.4081,\n",
      "        36.3473, 36.2994, 36.0941, 36.5901, 36.1213, 36.2322, 36.3898, 36.4556,\n",
      "        36.4532, 36.2389, 36.6541, 38.1203, 37.7918, 37.2245, 36.5547, 36.0224,\n",
      "        37.0284, 37.7420, 35.7727, 34.9394, 35.4834, 34.5872, 35.5280, 34.6023],\n",
      "       device='cuda:0', dtype=torch.float64)\n",
      "\n"
     ]
    },
    {
     "name": "stderr",
     "output_type": "stream",
     "text": [
      "\r",
      "Eval:  89%|████████▊ | 983/1110 [11:15<00:53,  2.37it/s]"
     ]
    },
    {
     "name": "stdout",
     "output_type": "stream",
     "text": [
      "orientation_error\n",
      "tensor([34.4847, 34.3281, 34.7285, 34.8596, 35.4064, 36.4133, 37.5139, 36.8268,\n",
      "        37.0214, 38.1147, 37.8405, 37.3245, 36.5884, 36.9215, 37.1591, 36.5985,\n",
      "        35.0974, 34.4289, 34.5984, 33.8638, 33.7129, 32.3805, 33.5148, 32.5571,\n",
      "        33.1513, 33.6341, 33.7562, 32.3658, 32.1265, 31.8107, 31.5923, 32.3097],\n",
      "       device='cuda:0', dtype=torch.float64)\n",
      "\n"
     ]
    },
    {
     "name": "stderr",
     "output_type": "stream",
     "text": [
      "\r",
      "Eval:  89%|████████▊ | 984/1110 [11:16<00:54,  2.33it/s]"
     ]
    },
    {
     "name": "stdout",
     "output_type": "stream",
     "text": [
      "orientation_error\n",
      "tensor([33.0218, 31.9694, 30.9348, 30.7271, 29.8964, 30.7080, 30.5143, 30.5427,\n",
      "        30.5404, 29.2661, 28.0467, 28.4553, 27.6278, 25.9443, 25.8827, 25.3515,\n",
      "        25.0927, 25.1069, 25.2356, 25.6553, 25.8116, 25.3352, 24.6445, 24.6779,\n",
      "        24.5963, 24.8317, 24.7140, 24.0912, 23.7113, 23.6657, 24.0045, 23.4938],\n",
      "       device='cuda:0', dtype=torch.float64)\n",
      "\n"
     ]
    },
    {
     "name": "stderr",
     "output_type": "stream",
     "text": [
      "\r",
      "Eval:  89%|████████▊ | 985/1110 [11:16<00:50,  2.47it/s]"
     ]
    },
    {
     "name": "stdout",
     "output_type": "stream",
     "text": [
      "orientation_error\n",
      "tensor([23.8520, 23.7622, 24.2319, 24.3152, 24.6279, 24.2402, 24.5490, 23.3456,\n",
      "        24.4714, 23.9818, 24.7699, 24.8077, 25.1870, 25.2251, 24.7135, 24.7138,\n",
      "        25.4329, 25.1580, 25.5840, 25.8683, 25.6583, 26.0291, 26.2010, 24.7073,\n",
      "        25.0134, 25.0469, 25.2804, 25.2747, 24.7591, 25.1607, 24.6685, 25.8334],\n",
      "       device='cuda:0', dtype=torch.float64)\n",
      "\n"
     ]
    },
    {
     "name": "stderr",
     "output_type": "stream",
     "text": [
      "\r",
      "Eval:  89%|████████▉ | 986/1110 [11:17<00:47,  2.60it/s]"
     ]
    },
    {
     "name": "stdout",
     "output_type": "stream",
     "text": [
      "orientation_error\n",
      "tensor([25.5934, 25.6093, 25.2529, 25.2432, 24.7701, 24.8128, 24.9861, 25.3540,\n",
      "        25.3946, 25.4750, 24.6089, 25.2510, 25.5789, 25.6796, 26.5748, 26.4539,\n",
      "        27.2849, 27.0244, 26.2080, 26.8230, 25.5635, 25.9194, 27.0578, 26.5344,\n",
      "        26.5180, 27.7178, 27.2197, 26.8010, 26.3908, 25.5055, 26.6235, 26.4550],\n",
      "       device='cuda:0', dtype=torch.float64)\n",
      "\n"
     ]
    },
    {
     "name": "stderr",
     "output_type": "stream",
     "text": [
      "\r",
      "Eval:  89%|████████▉ | 987/1110 [11:17<00:40,  3.00it/s]"
     ]
    },
    {
     "name": "stdout",
     "output_type": "stream",
     "text": [
      "orientation_error\n",
      "tensor([26.2535, 26.6002, 26.1003, 25.6545, 25.1309, 24.9186, 25.6922, 27.0130,\n",
      "        27.8508, 27.8680, 28.2739, 28.1033, 27.7134, 27.7110, 27.4525, 26.9961,\n",
      "        26.3211, 25.1873, 26.2602, 26.3663, 28.2669, 28.6184, 27.5945, 25.9290,\n",
      "        26.0765, 25.9284, 26.5648, 26.5101, 26.7710, 27.9036, 29.1804, 29.7097],\n",
      "       device='cuda:0', dtype=torch.float64)\n",
      "\n"
     ]
    },
    {
     "name": "stderr",
     "output_type": "stream",
     "text": [
      "\r",
      "Eval:  89%|████████▉ | 988/1110 [11:17<00:46,  2.60it/s]"
     ]
    },
    {
     "name": "stdout",
     "output_type": "stream",
     "text": [
      "orientation_error\n",
      "tensor([29.5930, 28.5732, 28.5948, 28.6947, 28.4576, 27.1240, 27.4330, 26.6358,\n",
      "        27.0022, 27.1439, 27.1509, 26.9462, 27.9548, 26.9167, 27.6959, 27.2743,\n",
      "        27.6204, 27.1842, 27.0377, 26.9902, 26.7217, 26.5621, 25.9788, 26.1846,\n",
      "        26.6291, 26.9390, 26.6380, 27.2462, 26.8222, 27.5569, 26.9189, 26.4756],\n",
      "       device='cuda:0', dtype=torch.float64)\n",
      "\n"
     ]
    },
    {
     "name": "stderr",
     "output_type": "stream",
     "text": [
      "\r",
      "Eval:  89%|████████▉ | 989/1110 [11:18<00:47,  2.55it/s]"
     ]
    },
    {
     "name": "stdout",
     "output_type": "stream",
     "text": [
      "orientation_error\n",
      "tensor([26.6619, 26.8080, 26.3082, 26.5899, 26.8124, 26.6785, 26.8432, 26.7862,\n",
      "        26.7097, 26.9478, 27.5027, 27.3490, 27.3897, 26.9616, 27.0802, 26.6342,\n",
      "        26.4638, 26.9580, 26.9890, 27.0466, 27.2890, 26.7399, 26.3171, 26.2292,\n",
      "        26.4376, 26.9154, 25.9753, 25.8653, 25.5972, 25.5479, 26.3801, 26.1699],\n",
      "       device='cuda:0', dtype=torch.float64)\n",
      "\n"
     ]
    },
    {
     "name": "stderr",
     "output_type": "stream",
     "text": [
      "\r",
      "Eval:  89%|████████▉ | 990/1110 [11:18<00:50,  2.39it/s]"
     ]
    },
    {
     "name": "stdout",
     "output_type": "stream",
     "text": [
      "orientation_error\n",
      "tensor([25.8995, 26.6097, 27.0580, 25.7895, 25.8106, 26.0959, 25.9059, 26.7229,\n",
      "        26.6907, 26.9506, 26.7882, 25.1284, 25.9441, 25.8881, 26.5106, 27.3609,\n",
      "        28.3412, 27.0041, 26.2941, 27.1537, 27.0800, 26.7930, 27.6262, 28.0139,\n",
      "        27.4587, 28.7031, 28.1727, 28.8227, 28.2855, 28.9959, 28.4677, 27.3636],\n",
      "       device='cuda:0', dtype=torch.float64)\n",
      "\n"
     ]
    },
    {
     "name": "stderr",
     "output_type": "stream",
     "text": [
      "\r",
      "Eval:  89%|████████▉ | 991/1110 [11:19<00:50,  2.36it/s]"
     ]
    },
    {
     "name": "stdout",
     "output_type": "stream",
     "text": [
      "orientation_error\n",
      "tensor([26.2588, 25.7484, 25.2889, 25.8694, 25.5976, 25.7379, 24.5552, 24.4976,\n",
      "        25.1304, 25.2274, 26.1533, 26.5632, 27.5153, 28.5174, 28.1303, 27.5073,\n",
      "        27.2093, 27.4669, 27.4757, 27.7361, 28.5810, 29.1060, 30.4919, 31.6898,\n",
      "        32.1441, 31.5173, 30.7009, 43.4317, 42.9933, 42.4238, 39.8396, 38.6305],\n",
      "       device='cuda:0', dtype=torch.float64)\n",
      "\n"
     ]
    },
    {
     "name": "stderr",
     "output_type": "stream",
     "text": [
      "\r",
      "Eval:  89%|████████▉ | 992/1110 [11:19<00:47,  2.49it/s]"
     ]
    },
    {
     "name": "stdout",
     "output_type": "stream",
     "text": [
      "orientation_error\n",
      "tensor([38.0632, 37.0936, 36.6364, 36.2346, 36.3479, 36.5755, 36.4750, 36.3563,\n",
      "        36.0354, 36.1429, 35.8332, 35.8001, 35.6261, 35.3480, 34.8049, 34.5036,\n",
      "        34.2483, 34.7522, 34.9124, 35.3081, 20.6478, 21.0075, 21.0398, 20.7904,\n",
      "        20.6382, 20.7990, 21.0183, 21.1485, 21.1928, 21.4608, 21.7870, 22.1648],\n",
      "       device='cuda:0', dtype=torch.float64)\n",
      "\n"
     ]
    },
    {
     "name": "stderr",
     "output_type": "stream",
     "text": [
      "\r",
      "Eval:  89%|████████▉ | 993/1110 [11:19<00:44,  2.62it/s]"
     ]
    },
    {
     "name": "stdout",
     "output_type": "stream",
     "text": [
      "orientation_error\n",
      "tensor([36.9886, 36.7628, 37.0114, 37.2005, 37.0090, 37.5469, 38.0393, 38.2684,\n",
      "        38.4703, 38.6273, 38.7052, 39.0485, 39.2581, 39.3030, 39.4155, 39.6293,\n",
      "        39.7036, 39.7189, 39.2278, 38.7499, 38.5774, 38.1166, 38.0715, 38.0146,\n",
      "        37.9851, 38.1415, 38.2368, 38.1533, 38.2752, 38.0833, 38.0255, 38.0080],\n",
      "       device='cuda:0', dtype=torch.float64)\n",
      "\n"
     ]
    },
    {
     "name": "stderr",
     "output_type": "stream",
     "text": [
      "\r",
      "Eval:  90%|████████▉ | 994/1110 [11:20<00:41,  2.79it/s]"
     ]
    },
    {
     "name": "stdout",
     "output_type": "stream",
     "text": [
      "orientation_error\n",
      "tensor([38.0388, 38.0030, 37.9389, 37.8302, 37.7807, 37.8977, 37.8866, 37.8165,\n",
      "        37.8077, 37.6286, 37.6095, 37.6618, 37.5958, 37.4059, 37.4369, 37.3340,\n",
      "        37.3824, 37.4090, 37.3233, 37.4299, 37.4441, 37.4405, 37.6871, 37.6610,\n",
      "        37.7786, 37.6749, 37.5823, 37.5515, 37.5818, 37.4745, 37.5190, 37.5401],\n",
      "       device='cuda:0', dtype=torch.float64)\n",
      "\n"
     ]
    },
    {
     "name": "stderr",
     "output_type": "stream",
     "text": [
      "\r",
      "Eval:  90%|████████▉ | 995/1110 [11:20<00:39,  2.89it/s]"
     ]
    },
    {
     "name": "stdout",
     "output_type": "stream",
     "text": [
      "orientation_error\n",
      "tensor([37.3630, 20.2912, 20.0854, 19.9642, 19.5294, 19.4343, 19.2741, 19.2973,\n",
      "        19.6726, 19.8419, 20.4926, 20.6370, 20.4980, 20.5273, 20.4789, 21.0432,\n",
      "        21.2691, 21.2742, 21.3113, 21.0977, 21.0921, 21.0854, 20.9899, 20.7203,\n",
      "        20.7100, 20.3041, 20.3415, 20.1726, 20.2860, 20.5568, 20.4427, 20.1631],\n",
      "       device='cuda:0', dtype=torch.float64)\n",
      "\n"
     ]
    },
    {
     "name": "stderr",
     "output_type": "stream",
     "text": [
      "\r",
      "Eval:  90%|████████▉ | 996/1110 [11:20<00:38,  2.99it/s]"
     ]
    },
    {
     "name": "stdout",
     "output_type": "stream",
     "text": [
      "orientation_error\n",
      "tensor([20.1333, 19.9737, 19.8390, 19.9677, 19.9997, 20.0385, 20.0333, 20.2131,\n",
      "        20.6419, 20.5476, 20.4558, 20.0472, 20.5377, 20.1105, 19.4052, 19.7975,\n",
      "        20.0762, 20.6724, 21.0006, 21.9713, 22.3951, 23.0589, 23.5080, 23.3405,\n",
      "        22.5964, 22.9857, 22.2570, 22.0965, 22.0098, 21.6465, 21.4616, 21.5196],\n",
      "       device='cuda:0', dtype=torch.float64)\n",
      "\n"
     ]
    },
    {
     "name": "stderr",
     "output_type": "stream",
     "text": [
      "\r",
      "Eval:  90%|████████▉ | 997/1110 [11:21<00:41,  2.72it/s]"
     ]
    },
    {
     "name": "stdout",
     "output_type": "stream",
     "text": [
      "orientation_error\n",
      "tensor([21.7900, 21.9413, 22.2747, 22.7286, 23.4102, 23.5435, 23.7186, 24.1149,\n",
      "        23.8138, 23.3579, 22.9717, 22.7755, 22.4344, 37.1840, 22.3474, 37.2892,\n",
      "        36.9026, 37.0675, 37.5392, 37.4194, 36.2130, 35.7411, 35.4492, 34.6085,\n",
      "        35.2501, 35.9937, 36.0208, 36.0276, 35.4003, 34.4657, 33.9272, 33.4961],\n",
      "       device='cuda:0', dtype=torch.float64)\n",
      "\n"
     ]
    },
    {
     "name": "stderr",
     "output_type": "stream",
     "text": [
      "\r",
      "Eval:  90%|████████▉ | 998/1110 [11:21<00:46,  2.41it/s]"
     ]
    },
    {
     "name": "stdout",
     "output_type": "stream",
     "text": [
      "orientation_error\n",
      "tensor([33.7955, 34.1932, 20.7268, 20.7419, 19.3057, 18.0822, 17.2924, 17.2698,\n",
      "        16.8087, 16.4142, 16.3566, 16.5583, 16.9885, 18.9671, 19.8318, 20.4426,\n",
      "        21.1794, 20.6834, 21.0783, 21.1170, 21.0019, 21.6541, 22.2641, 22.6277,\n",
      "        22.9443, 23.3330, 23.2425, 23.2144, 22.4851, 21.9937, 21.9134, 22.1178],\n",
      "       device='cuda:0', dtype=torch.float64)\n",
      "\n"
     ]
    },
    {
     "name": "stderr",
     "output_type": "stream",
     "text": [
      "\r",
      "Eval:  90%|█████████ | 999/1110 [11:22<00:52,  2.13it/s]"
     ]
    },
    {
     "name": "stdout",
     "output_type": "stream",
     "text": [
      "orientation_error\n",
      "tensor([22.5753, 22.2189, 22.3728, 20.7827, 20.8132, 21.1150, 35.1968, 20.9662,\n",
      "        21.1394, 20.8264, 20.2449, 20.2998, 20.6437, 20.8745, 20.8694, 20.6817,\n",
      "        20.7366, 20.4637, 20.2571, 20.1268, 19.4803, 18.7855, 18.9678, 19.3164,\n",
      "        32.2835, 68.0142, 50.5952, 51.2762, 52.9081, 53.1454, 68.1286, 67.3310],\n",
      "       device='cuda:0', dtype=torch.float64)\n",
      "\n"
     ]
    },
    {
     "name": "stderr",
     "output_type": "stream",
     "text": [
      "\r",
      "Eval:  90%|█████████ | 1000/1110 [11:22<00:54,  2.02it/s]"
     ]
    },
    {
     "name": "stdout",
     "output_type": "stream",
     "text": [
      "orientation_error\n",
      "tensor([66.9997, 66.5807, 66.3894, 66.7123, 66.7608, 66.4634, 65.7406, 66.0809,\n",
      "        63.9368, 62.8044, 63.3737, 78.8799, 64.4641, 64.0232, 63.8414, 63.7127,\n",
      "        64.7642, 79.3074, 80.2199, 80.6092, 82.5173, 82.6552, 67.8263, 67.9461,\n",
      "        67.7139, 66.5031, 64.7445, 63.9480, 63.1370, 77.3696, 77.7446, 77.1210],\n",
      "       device='cuda:0', dtype=torch.float64)\n",
      "\n",
      "MPJPE: 96.15514202476214\n",
      "Reconstruction Error: 58.99938160780346\n",
      "\n",
      "Orientation error: 31.85149789547245\n"
     ]
    },
    {
     "name": "stderr",
     "output_type": "stream",
     "text": [
      "\r",
      "Eval:  90%|█████████ | 1001/1110 [11:23<00:49,  2.22it/s]"
     ]
    },
    {
     "name": "stdout",
     "output_type": "stream",
     "text": [
      "orientation_error\n",
      "tensor([47.9249, 36.5883, 36.2422, 30.7090, 30.6988, 23.8950, 23.7100, 25.3323,\n",
      "        22.1784, 22.8702, 36.1941, 36.7517, 36.1705, 36.4924, 35.4000, 34.9667,\n",
      "        34.1102, 34.1622, 19.0473, 19.7357, 20.3562, 21.1973, 21.3064, 21.2596,\n",
      "        22.3310, 23.0844, 24.0690, 24.3519, 24.0834, 37.6623, 22.3715, 37.4170],\n",
      "       device='cuda:0', dtype=torch.float64)\n",
      "\n"
     ]
    },
    {
     "name": "stderr",
     "output_type": "stream",
     "text": [
      "\r",
      "Eval:  90%|█████████ | 1002/1110 [11:23<00:48,  2.23it/s]"
     ]
    },
    {
     "name": "stdout",
     "output_type": "stream",
     "text": [
      "orientation_error\n",
      "tensor([37.8105, 37.6106, 37.2040, 36.9661, 36.6534, 36.7436, 22.4788, 37.0640,\n",
      "        22.2376, 36.1033, 20.9035, 21.3249, 20.5302, 21.3539, 36.1488, 36.7402,\n",
      "        36.9787, 36.4632, 36.1884, 36.0585, 36.0192, 35.4983, 35.8211, 21.3201,\n",
      "        22.1305, 36.9452, 36.4054, 37.6867, 36.1858, 37.4619, 38.4175, 38.8167],\n",
      "       device='cuda:0', dtype=torch.float64)\n",
      "\n"
     ]
    },
    {
     "name": "stderr",
     "output_type": "stream",
     "text": [
      "\r",
      "Eval:  90%|█████████ | 1003/1110 [11:23<00:42,  2.53it/s]"
     ]
    },
    {
     "name": "stdout",
     "output_type": "stream",
     "text": [
      "orientation_error\n",
      "tensor([23.6566, 22.7105, 22.2547, 22.7892, 23.6300, 25.1203, 39.4503, 40.1105,\n",
      "        42.0770, 26.2799, 24.0165, 23.5640, 23.7130, 22.7691, 22.0006, 21.8367,\n",
      "        23.5885, 37.3177, 27.6286, 38.5419, 40.9763, 27.0868, 27.4523, 30.7117,\n",
      "        27.2610, 30.1433, 30.1378, 37.9286, 30.3387, 26.6382, 32.0469, 28.5046],\n",
      "       device='cuda:0', dtype=torch.float64)\n",
      "\n"
     ]
    },
    {
     "name": "stderr",
     "output_type": "stream",
     "text": [
      "\r",
      "Eval:  90%|█████████ | 1004/1110 [11:24<00:42,  2.49it/s]"
     ]
    },
    {
     "name": "stdout",
     "output_type": "stream",
     "text": [
      "orientation_error\n",
      "tensor([33.5385, 39.9223, 32.7825, 44.8558, 47.0813, 41.0960, 38.2862, 36.6177,\n",
      "        35.4662, 34.8995, 36.8284, 37.4825, 38.2181, 29.3867, 36.7656, 34.9160,\n",
      "        35.4143, 33.6701, 35.1336, 33.8786, 33.9143, 33.5283, 33.4823, 34.7099,\n",
      "        36.3766, 39.2207, 39.3714, 41.3551, 39.1749, 39.5416, 40.9375, 37.0649],\n",
      "       device='cuda:0', dtype=torch.float64)\n",
      "\n"
     ]
    },
    {
     "name": "stderr",
     "output_type": "stream",
     "text": [
      "\r",
      "Eval:  91%|█████████ | 1005/1110 [11:24<00:39,  2.67it/s]"
     ]
    },
    {
     "name": "stdout",
     "output_type": "stream",
     "text": [
      "orientation_error\n",
      "tensor([34.7427, 35.4123, 36.0563, 36.5545, 35.2575, 34.7050, 35.3513, 36.5810,\n",
      "        40.1566, 37.8908, 38.6416, 35.1305, 34.8388, 33.8634, 33.5102, 33.9939,\n",
      "        36.1981, 38.0985, 33.9249, 32.7594, 35.7364, 47.2889, 36.5008, 34.3132,\n",
      "        34.6618, 34.6141, 35.1415, 35.9359, 36.3241, 36.4223, 37.1407, 51.8443],\n",
      "       device='cuda:0', dtype=torch.float64)\n",
      "\n"
     ]
    },
    {
     "name": "stderr",
     "output_type": "stream",
     "text": [
      "\r",
      "Eval:  91%|█████████ | 1006/1110 [11:25<00:42,  2.44it/s]"
     ]
    },
    {
     "name": "stdout",
     "output_type": "stream",
     "text": [
      "orientation_error\n",
      "tensor([36.0515, 34.9732, 34.7030, 35.0429, 33.9738, 34.5478, 34.2687, 32.0873,\n",
      "        31.7210, 32.8846, 31.9463, 34.9315, 36.3285, 38.6414, 40.6816, 37.7373,\n",
      "        38.3189, 36.7528, 37.6032, 38.2374, 35.1319, 35.0614, 36.8657, 34.7051,\n",
      "        34.5267, 36.2289, 37.9350, 35.1482, 35.8533, 37.0873, 39.4642, 35.0488],\n",
      "       device='cuda:0', dtype=torch.float64)\n",
      "\n"
     ]
    },
    {
     "name": "stderr",
     "output_type": "stream",
     "text": [
      "\r",
      "Eval:  91%|█████████ | 1007/1110 [11:25<00:47,  2.16it/s]"
     ]
    },
    {
     "name": "stdout",
     "output_type": "stream",
     "text": [
      "orientation_error\n",
      "tensor([30.7763, 29.1766, 26.1538, 40.3138, 23.3925, 38.0483, 39.4844, 39.1735,\n",
      "        38.6501, 23.3645, 24.6679, 23.2179, 22.2306, 21.3568, 19.5824, 20.7624,\n",
      "        20.6636, 21.0238, 20.0993, 33.7379, 20.1723, 20.2871, 20.0453, 34.2040,\n",
      "        19.9188, 19.9628, 19.6664, 19.6410, 18.5864, 18.8337, 19.0517, 34.0540],\n",
      "       device='cuda:0', dtype=torch.float64)\n",
      "\n"
     ]
    },
    {
     "name": "stderr",
     "output_type": "stream",
     "text": [
      "\r",
      "Eval:  91%|█████████ | 1008/1110 [11:25<00:41,  2.43it/s]"
     ]
    },
    {
     "name": "stdout",
     "output_type": "stream",
     "text": [
      "orientation_error\n",
      "tensor([35.7886, 20.7690, 20.1885, 19.1689, 19.2844, 19.6289, 20.5170, 21.1736,\n",
      "        21.5079, 36.1491, 19.2278, 19.4072, 33.7103, 33.7515, 19.1079, 19.5176,\n",
      "        19.4035, 19.9107, 33.8812, 33.9920, 32.9220, 33.6239, 34.1362, 18.7354,\n",
      "        19.4299, 34.3007, 34.6243, 18.6380, 33.3989, 33.3917, 32.8875, 32.6798],\n",
      "       device='cuda:0', dtype=torch.float64)\n",
      "\n"
     ]
    },
    {
     "name": "stderr",
     "output_type": "stream",
     "text": [
      "\r",
      "Eval:  91%|█████████ | 1009/1110 [11:26<00:39,  2.53it/s]"
     ]
    },
    {
     "name": "stdout",
     "output_type": "stream",
     "text": [
      "orientation_error\n",
      "tensor([33.2735, 33.3580, 33.8204, 33.5108, 18.2268, 17.6283, 16.8074, 17.4099,\n",
      "        18.0645, 33.2512, 33.7275, 33.5553, 34.0428, 34.2535, 32.9161, 17.9300,\n",
      "        17.2239, 31.4599, 31.6243, 31.5177, 31.1934, 30.8594, 15.4996, 15.5419,\n",
      "        15.5464, 30.9284, 30.9383, 31.6429, 32.8204, 20.5929, 21.5865, 20.3243],\n",
      "       device='cuda:0', dtype=torch.float64)\n",
      "\n"
     ]
    },
    {
     "name": "stderr",
     "output_type": "stream",
     "text": [
      "\r",
      "Eval:  91%|█████████ | 1010/1110 [11:26<00:41,  2.41it/s]"
     ]
    },
    {
     "name": "stdout",
     "output_type": "stream",
     "text": [
      "orientation_error\n",
      "tensor([20.3090, 19.6005, 19.1629, 34.0534, 33.8238, 19.4886, 20.5775, 20.2564,\n",
      "        19.0694, 19.0801, 18.8290, 20.1042, 20.5691, 21.3963, 21.8632, 21.8697,\n",
      "        21.8069, 21.4689, 21.3252, 20.0561, 19.1220, 17.9881, 18.5048, 18.7001,\n",
      "        19.7985, 20.2092, 34.6828, 33.9912, 18.9763, 18.9943, 18.9030, 18.9916],\n",
      "       device='cuda:0', dtype=torch.float64)\n",
      "\n"
     ]
    },
    {
     "name": "stderr",
     "output_type": "stream",
     "text": [
      "\r",
      "Eval:  91%|█████████ | 1011/1110 [11:27<00:37,  2.63it/s]"
     ]
    },
    {
     "name": "stdout",
     "output_type": "stream",
     "text": [
      "orientation_error\n",
      "tensor([19.1884, 19.7720, 34.9810, 19.6163, 19.2310, 19.2401, 19.1006, 33.6798,\n",
      "        18.2668, 17.9732, 18.1730, 18.5725, 18.2899, 17.6150, 18.1863, 18.2460,\n",
      "        18.1078, 18.5062, 18.8947, 18.7960, 19.2752, 19.4168, 19.4204, 19.1199,\n",
      "        19.5252, 19.2143, 19.0529, 18.6230, 18.6161, 18.9093, 18.6493, 18.2976],\n",
      "       device='cuda:0', dtype=torch.float64)\n",
      "\n"
     ]
    },
    {
     "name": "stderr",
     "output_type": "stream",
     "text": [
      "\r",
      "Eval:  91%|█████████ | 1012/1110 [11:27<00:38,  2.54it/s]"
     ]
    },
    {
     "name": "stdout",
     "output_type": "stream",
     "text": [
      "orientation_error\n",
      "tensor([18.2157, 17.6785, 17.4514, 16.5632, 31.6025, 31.8882, 31.6732, 31.7763,\n",
      "        31.5866, 32.2274, 32.4254, 32.7862, 33.3537, 33.6830, 19.2458, 20.2942,\n",
      "        19.2837, 33.7996, 19.3890, 19.7902, 19.5908, 19.5542, 19.0665, 18.6273,\n",
      "        18.6402, 18.4299, 18.2181, 18.1766, 18.6203, 18.6610, 18.5448, 18.6330],\n",
      "       device='cuda:0', dtype=torch.float64)\n",
      "\n"
     ]
    },
    {
     "name": "stderr",
     "output_type": "stream",
     "text": [
      "\r",
      "Eval:  91%|█████████▏| 1013/1110 [11:27<00:39,  2.48it/s]"
     ]
    },
    {
     "name": "stdout",
     "output_type": "stream",
     "text": [
      "orientation_error\n",
      "tensor([18.6125, 18.4112, 18.3015, 18.6429, 19.3816, 20.0585, 20.2889, 21.0519,\n",
      "        21.4082, 20.7799, 19.7849, 19.5586, 19.8996, 20.1140, 20.4892, 20.5437,\n",
      "        20.1126, 20.2094, 20.1271, 20.1487, 20.0025, 19.2952, 19.3710, 20.1296,\n",
      "        21.3580, 22.5761, 24.5128, 24.3513, 22.3949, 22.5544, 22.6820, 23.2510],\n",
      "       device='cuda:0', dtype=torch.float64)\n",
      "\n"
     ]
    },
    {
     "name": "stderr",
     "output_type": "stream",
     "text": [
      "\r",
      "Eval:  91%|█████████▏| 1014/1110 [11:28<00:42,  2.25it/s]"
     ]
    },
    {
     "name": "stdout",
     "output_type": "stream",
     "text": [
      "orientation_error\n",
      "tensor([23.2062, 23.0870, 22.1298, 21.2530, 19.9217, 19.6822, 17.7908, 19.6267,\n",
      "        19.8678, 19.7753, 20.3165, 21.1689, 22.8085, 21.7519, 21.3519, 21.1977,\n",
      "        21.5835, 21.8889, 22.2853, 23.0047, 24.8059, 24.7515, 24.5371, 24.4118,\n",
      "        24.5488, 24.9210, 25.5816, 31.3765, 32.1397, 31.9226, 33.5904, 32.7333],\n",
      "       device='cuda:0', dtype=torch.float64)\n",
      "\n"
     ]
    },
    {
     "name": "stderr",
     "output_type": "stream",
     "text": [
      "\r",
      "Eval:  91%|█████████▏| 1015/1110 [11:28<00:35,  2.69it/s]"
     ]
    },
    {
     "name": "stdout",
     "output_type": "stream",
     "text": [
      "orientation_error\n",
      "tensor([33.1462, 29.8140, 26.7035, 24.9355, 24.8598, 25.1591, 26.1138, 25.4758,\n",
      "        24.8364, 24.1519, 26.1580, 25.4660, 25.4338, 25.8582, 25.4256, 27.6399,\n",
      "        29.6444, 31.8212, 31.9520, 32.1473, 31.8021, 34.0951, 31.2761, 32.0314,\n",
      "        35.2134, 33.1719, 33.8875, 35.0642, 32.9569, 31.9676, 32.2700, 30.9200],\n",
      "       device='cuda:0', dtype=torch.float64)\n",
      "\n"
     ]
    },
    {
     "name": "stderr",
     "output_type": "stream",
     "text": [
      "\r",
      "Eval:  92%|█████████▏| 1016/1110 [11:29<00:34,  2.70it/s]"
     ]
    },
    {
     "name": "stdout",
     "output_type": "stream",
     "text": [
      "orientation_error\n",
      "tensor([44.5784, 44.4251, 42.0558, 42.4422, 26.8521, 26.3331, 25.2788, 24.6076,\n",
      "        26.3451, 26.0917, 24.8169, 25.0482, 25.2509, 25.5683, 25.1334, 25.9090,\n",
      "        26.8506, 27.2472, 26.9878, 26.4530, 25.9299, 27.0959, 26.0197, 25.9614,\n",
      "        25.1918, 25.6519, 24.5209, 24.0903, 23.1248, 23.2255, 23.8294, 24.2480],\n",
      "       device='cuda:0', dtype=torch.float64)\n",
      "\n"
     ]
    },
    {
     "name": "stderr",
     "output_type": "stream",
     "text": [
      "\r",
      "Eval:  92%|█████████▏| 1017/1110 [11:29<00:33,  2.80it/s]"
     ]
    },
    {
     "name": "stdout",
     "output_type": "stream",
     "text": [
      "orientation_error\n",
      "tensor([26.3329, 27.4830, 26.4314, 26.8895, 25.8303, 25.5823, 25.9493, 24.6994,\n",
      "        25.5288, 24.5084, 23.7089, 23.3861, 22.4577, 22.3384, 21.9499, 21.4639,\n",
      "        22.7986, 22.7472, 22.8123, 24.3195, 24.8095, 25.0334, 25.6812, 25.5675,\n",
      "        26.5288, 26.4766, 28.3705, 28.6595, 28.5322, 29.0475, 28.6876, 27.3282],\n",
      "       device='cuda:0', dtype=torch.float64)\n",
      "\n"
     ]
    },
    {
     "name": "stderr",
     "output_type": "stream",
     "text": [
      "\r",
      "Eval:  92%|█████████▏| 1018/1110 [11:29<00:35,  2.61it/s]"
     ]
    },
    {
     "name": "stdout",
     "output_type": "stream",
     "text": [
      "orientation_error\n",
      "tensor([25.8223, 24.9244, 23.6774, 24.2069, 24.3093, 23.8080, 23.6684, 23.3146,\n",
      "        23.8782, 24.4183, 23.8686, 23.9402, 24.4108, 23.9390, 24.1104, 23.9456,\n",
      "        24.1212, 24.4848, 25.2773, 25.4508, 25.3280, 25.3814, 25.9579, 25.9019,\n",
      "        24.9815, 26.1327, 25.0485, 25.1239, 39.4315, 38.7531, 24.5468, 25.0532],\n",
      "       device='cuda:0', dtype=torch.float64)\n",
      "\n"
     ]
    },
    {
     "name": "stderr",
     "output_type": "stream",
     "text": [
      "\r",
      "Eval:  92%|█████████▏| 1019/1110 [11:30<00:31,  2.86it/s]"
     ]
    },
    {
     "name": "stdout",
     "output_type": "stream",
     "text": [
      "orientation_error\n",
      "tensor([25.0697, 26.3238, 26.6963, 26.5985, 39.9226, 40.7805, 40.1584, 27.2190,\n",
      "        26.9404, 27.8231, 27.4494, 29.0110, 27.8228, 28.0869, 28.2449, 29.1221,\n",
      "        28.9602, 28.2213, 27.4569, 28.2769, 27.1153, 27.1989, 27.6204, 28.9266,\n",
      "        29.4607, 29.2212, 27.1188, 25.2484, 24.8605, 25.1958, 24.6315, 23.7553],\n",
      "       device='cuda:0', dtype=torch.float64)\n",
      "\n"
     ]
    },
    {
     "name": "stderr",
     "output_type": "stream",
     "text": [
      "\r",
      "Eval:  92%|█████████▏| 1020/1110 [11:30<00:32,  2.75it/s]"
     ]
    },
    {
     "name": "stdout",
     "output_type": "stream",
     "text": [
      "orientation_error\n",
      "tensor([22.9850, 22.6187, 22.8198, 22.7831, 22.9817, 36.5558, 23.0522, 23.0961,\n",
      "        23.1408, 37.2361, 36.8559, 37.1480, 37.0709, 22.7843, 37.4880, 23.6687,\n",
      "        23.6179, 23.6324, 23.9772, 37.8817, 38.7173, 37.5861, 38.0979, 38.2963,\n",
      "        23.4024, 23.3311, 23.9321, 38.1251, 23.9396, 38.3560, 38.5472, 24.7414],\n",
      "       device='cuda:0', dtype=torch.float64)\n",
      "\n",
      "MPJPE: 95.85081390019505\n",
      "Reconstruction Error: 58.96727392843891\n",
      "\n",
      "Orientation error: 31.8090441556475\n"
     ]
    },
    {
     "name": "stderr",
     "output_type": "stream",
     "text": [
      "\r",
      "Eval:  92%|█████████▏| 1021/1110 [11:30<00:32,  2.72it/s]"
     ]
    },
    {
     "name": "stdout",
     "output_type": "stream",
     "text": [
      "orientation_error\n",
      "tensor([25.3189, 26.5035, 26.5531, 26.8946, 26.8129, 27.2085, 27.2949, 27.3606,\n",
      "        27.1680, 27.8942, 27.0697, 28.1747, 27.5425, 27.2558, 27.4660, 28.0607,\n",
      "        28.0415, 27.9077, 27.5769, 27.3964, 27.7469, 27.9666, 29.0576, 27.8811,\n",
      "        29.0678, 30.0017, 33.2978, 35.3254, 35.0849, 33.8883, 31.5902, 29.0103],\n",
      "       device='cuda:0', dtype=torch.float64)\n",
      "\n"
     ]
    },
    {
     "name": "stderr",
     "output_type": "stream",
     "text": [
      "\r",
      "Eval:  92%|█████████▏| 1022/1110 [11:31<00:51,  1.72it/s]"
     ]
    },
    {
     "name": "stdout",
     "output_type": "stream",
     "text": [
      "orientation_error\n",
      "tensor([28.9358, 31.4537, 29.6019, 30.0244, 29.7693, 29.0062, 29.1748, 30.3551,\n",
      "        29.5488, 29.5563, 30.5439, 29.3935, 28.1692, 27.3461, 27.1930, 27.8242,\n",
      "        27.9892, 27.8322, 27.4263, 27.2220, 26.6820, 27.3832, 27.2285, 27.3746,\n",
      "        27.7728, 28.6821, 28.3202, 26.6288, 27.0071, 26.3488, 28.3592, 27.1339],\n",
      "       device='cuda:0', dtype=torch.float64)\n",
      "\n"
     ]
    },
    {
     "name": "stderr",
     "output_type": "stream",
     "text": [
      "\r",
      "Eval:  92%|█████████▏| 1023/1110 [11:32<00:42,  2.07it/s]"
     ]
    },
    {
     "name": "stdout",
     "output_type": "stream",
     "text": [
      "orientation_error\n",
      "tensor([27.2493, 26.8122, 28.3828, 28.1329, 28.4945, 28.0837, 27.9716, 26.9495,\n",
      "        26.7581, 26.4298, 25.3706, 24.0750, 23.5549, 24.4755, 24.6804, 23.7671,\n",
      "        23.1913, 22.2133, 24.7678, 24.7818, 24.6552, 24.9651, 26.3634, 26.0541,\n",
      "        27.0058, 26.9953, 26.9744, 28.0127, 28.4548, 29.1475, 28.1117, 28.3146],\n",
      "       device='cuda:0', dtype=torch.float64)\n",
      "\n"
     ]
    },
    {
     "name": "stderr",
     "output_type": "stream",
     "text": [
      "\r",
      "Eval:  92%|█████████▏| 1024/1110 [11:32<00:37,  2.27it/s]"
     ]
    },
    {
     "name": "stdout",
     "output_type": "stream",
     "text": [
      "orientation_error\n",
      "tensor([28.3339, 28.2712, 26.8199, 27.2626, 26.9634, 26.7837, 26.5988, 25.8284,\n",
      "        25.8427, 26.0397, 27.1083, 28.4152, 29.9525, 29.2719, 29.8688, 30.7083,\n",
      "        33.2205, 33.2843, 33.7753, 33.8384, 34.1684, 32.5939, 32.2674, 32.6100,\n",
      "        33.5304, 34.4092, 33.7104, 33.0116, 33.5449, 35.0347, 35.8177, 35.4038],\n",
      "       device='cuda:0', dtype=torch.float64)\n",
      "\n"
     ]
    },
    {
     "name": "stderr",
     "output_type": "stream",
     "text": [
      "\r",
      "Eval:  92%|█████████▏| 1025/1110 [11:32<00:37,  2.29it/s]"
     ]
    },
    {
     "name": "stdout",
     "output_type": "stream",
     "text": [
      "orientation_error\n",
      "tensor([33.5829, 30.7210, 28.5470, 25.7651, 24.2638, 24.3518, 24.0277, 23.9938,\n",
      "        23.3309, 23.6278, 24.1781, 24.8166, 24.5580, 24.6379, 24.2679, 23.9641,\n",
      "        23.3284, 23.7941, 23.4755, 23.7527, 24.0247, 24.3393, 23.0258, 23.5377,\n",
      "        23.5020, 23.9473, 23.2633, 25.4966, 26.8357, 30.5386, 33.4262, 31.7424],\n",
      "       device='cuda:0', dtype=torch.float64)\n",
      "\n"
     ]
    },
    {
     "name": "stderr",
     "output_type": "stream",
     "text": [
      "\r",
      "Eval:  92%|█████████▏| 1026/1110 [11:33<00:35,  2.37it/s]"
     ]
    },
    {
     "name": "stdout",
     "output_type": "stream",
     "text": [
      "orientation_error\n",
      "tensor([30.5793, 28.9046, 27.4347, 26.1289, 26.2589, 27.1673, 26.5717, 26.0720,\n",
      "        25.5858, 25.1572, 26.0497, 27.3502, 27.9007, 28.7266, 27.8745, 29.1775,\n",
      "        28.5385, 27.7983, 27.7778, 27.3488, 27.6603, 28.4183, 29.0093, 27.9568,\n",
      "        27.8469, 28.2382, 27.5644, 27.5516, 28.1192, 28.6274, 29.1612, 30.4081],\n",
      "       device='cuda:0', dtype=torch.float64)\n",
      "\n"
     ]
    },
    {
     "name": "stderr",
     "output_type": "stream",
     "text": [
      "\r",
      "Eval:  93%|█████████▎| 1027/1110 [11:33<00:36,  2.30it/s]"
     ]
    },
    {
     "name": "stdout",
     "output_type": "stream",
     "text": [
      "orientation_error\n",
      "tensor([32.1900, 33.0553, 34.0834, 33.2073, 32.6673, 32.5764, 32.2230, 33.1685,\n",
      "        34.0011, 33.6927, 34.1225, 33.1122, 32.6346, 30.9325, 30.5305, 30.3968,\n",
      "        31.7114, 30.0762, 29.6452, 29.8204, 29.6437, 29.3867, 30.6064, 30.8995,\n",
      "        31.4948, 29.5687, 29.0030, 28.8451, 28.6599, 28.4559, 29.1581, 28.6525],\n",
      "       device='cuda:0', dtype=torch.float64)\n",
      "\n"
     ]
    },
    {
     "name": "stderr",
     "output_type": "stream",
     "text": [
      "\r",
      "Eval:  93%|█████████▎| 1028/1110 [11:34<00:32,  2.55it/s]"
     ]
    },
    {
     "name": "stdout",
     "output_type": "stream",
     "text": [
      "orientation_error\n",
      "tensor([28.5027, 28.2731, 28.6489, 28.4557, 28.9576, 28.7980, 30.0346, 28.8674,\n",
      "        29.8264, 29.8698, 29.2946, 29.4635, 30.7188, 30.8861, 30.3551, 29.4515,\n",
      "        29.6340, 29.5580, 28.8759, 27.9201, 29.1834, 29.1718, 28.8105, 30.4815,\n",
      "        30.5672, 29.6343, 29.8218, 28.6743, 30.0793, 30.0194, 30.8154, 30.0011],\n",
      "       device='cuda:0', dtype=torch.float64)\n",
      "\n"
     ]
    },
    {
     "name": "stderr",
     "output_type": "stream",
     "text": [
      "\r",
      "Eval:  93%|█████████▎| 1029/1110 [11:34<00:31,  2.54it/s]"
     ]
    },
    {
     "name": "stdout",
     "output_type": "stream",
     "text": [
      "orientation_error\n",
      "tensor([29.0450, 30.7176, 29.7719, 28.7006, 28.4807, 29.6591, 29.7446, 30.5374,\n",
      "        30.5447, 31.3904, 31.4416, 32.1242, 31.4594, 32.2022, 31.2951, 30.8665,\n",
      "        31.6742, 30.8420, 30.3781, 30.3321, 30.1809, 30.6524, 30.8682, 30.6021,\n",
      "        30.5517, 30.4879, 30.8484, 30.4934, 31.2027, 31.4046, 31.1903, 31.8601],\n",
      "       device='cuda:0', dtype=torch.float64)\n",
      "\n"
     ]
    },
    {
     "name": "stderr",
     "output_type": "stream",
     "text": [
      "\r",
      "Eval:  93%|█████████▎| 1030/1110 [11:34<00:29,  2.72it/s]"
     ]
    },
    {
     "name": "stdout",
     "output_type": "stream",
     "text": [
      "orientation_error\n",
      "tensor([32.5144, 31.7512, 31.3666, 30.5111, 29.6884, 30.6629, 30.6229, 30.5873,\n",
      "        28.7527, 29.3282, 29.2271, 30.2999, 29.8208, 28.4268, 28.0074, 29.3643,\n",
      "        30.0680, 29.0012, 29.6671, 29.3883, 29.6048, 29.5993, 29.4665, 29.9980,\n",
      "        29.4357, 29.9214, 30.1070, 30.2120, 29.4048, 28.7964, 28.8692, 27.5206],\n",
      "       device='cuda:0', dtype=torch.float64)\n",
      "\n"
     ]
    },
    {
     "name": "stderr",
     "output_type": "stream",
     "text": [
      "\r",
      "Eval:  93%|█████████▎| 1031/1110 [11:35<00:36,  2.14it/s]"
     ]
    },
    {
     "name": "stdout",
     "output_type": "stream",
     "text": [
      "orientation_error\n",
      "tensor([27.6709, 27.2941, 26.8361, 26.3607, 26.3398, 26.9649, 27.0696, 26.4112,\n",
      "        26.0084, 26.3415, 26.2053, 26.8325, 26.7848, 26.0696, 26.5901, 25.6136,\n",
      "        25.9236, 26.1576, 25.8137, 25.4896, 25.4823, 26.1235, 25.8726, 25.5161,\n",
      "        25.2013, 26.6464, 26.7450, 24.5248, 24.8380, 25.4896, 25.5379, 24.8444],\n",
      "       device='cuda:0', dtype=torch.float64)\n",
      "\n"
     ]
    },
    {
     "name": "stderr",
     "output_type": "stream",
     "text": [
      "\r",
      "Eval:  93%|█████████▎| 1032/1110 [11:35<00:35,  2.22it/s]"
     ]
    },
    {
     "name": "stdout",
     "output_type": "stream",
     "text": [
      "orientation_error\n",
      "tensor([24.6469, 24.1418, 25.2644, 25.2479, 25.0265, 24.8117, 24.7830, 25.7889,\n",
      "        24.8013, 25.4571, 25.1427, 24.9936, 24.7701, 24.9809, 25.0466, 25.6320,\n",
      "        25.0737, 24.9252, 25.3756, 25.0474, 25.9374, 25.5656, 25.8102, 25.3652,\n",
      "        24.7072, 25.5240, 25.6096, 25.5874, 26.6572, 26.3273, 27.1430, 27.2048],\n",
      "       device='cuda:0', dtype=torch.float64)\n",
      "\n"
     ]
    },
    {
     "name": "stderr",
     "output_type": "stream",
     "text": [
      "\r",
      "Eval:  93%|█████████▎| 1033/1110 [11:36<00:31,  2.41it/s]"
     ]
    },
    {
     "name": "stdout",
     "output_type": "stream",
     "text": [
      "orientation_error\n",
      "tensor([26.6735, 26.1581, 26.7415, 26.9089, 28.0915, 27.4927, 28.0882, 28.7338,\n",
      "        28.6036, 28.1861, 28.9134, 27.6427, 28.1352, 28.3890, 29.5699, 29.3670,\n",
      "        30.9647, 30.0297, 30.5288, 28.5998, 28.2760, 29.1324, 31.0380, 31.8635,\n",
      "        31.8921, 31.7001, 32.7460, 31.2627, 29.7625, 44.6535, 29.8650, 30.5498],\n",
      "       device='cuda:0', dtype=torch.float64)\n",
      "\n"
     ]
    },
    {
     "name": "stderr",
     "output_type": "stream",
     "text": [
      "\r",
      "Eval:  93%|█████████▎| 1034/1110 [11:36<00:32,  2.35it/s]"
     ]
    },
    {
     "name": "stdout",
     "output_type": "stream",
     "text": [
      "orientation_error\n",
      "tensor([30.3721, 31.1990, 30.0815, 28.8856, 27.1443, 28.0198, 26.1413, 22.8594,\n",
      "        20.7593, 20.2680, 19.1294, 18.0807, 17.8856, 17.7254, 17.8337, 18.5624,\n",
      "        18.7777, 19.3820, 18.7665, 18.9158, 18.8902, 18.4424, 18.1456, 32.1099,\n",
      "        31.9327, 32.2570, 31.9891, 32.6086, 33.1719, 33.3860, 33.9571, 33.8638],\n",
      "       device='cuda:0', dtype=torch.float64)\n",
      "\n",
      "orientation_error\n",
      "tensor([34.2521, 34.9822, 35.5340, 35.9489, 35.7696, 35.5183, 35.5763, 20.7197,\n",
      "        19.9201, 18.9795, 18.8203, 18.8392, 19.1479, 19.1945, 19.3688, 19.3427,\n",
      "        19.3229, 20.0923, 20.1412, 20.1021, 20.1633, 19.7780, 19.5916, 19.7229,\n",
      "        19.5487, 19.5420, 19.5404, 19.5613, 19.7715, 19.9098, 20.0921, 20.0369],\n",
      "       device='cuda:0', dtype=torch.float64)\n",
      "\n"
     ]
    },
    {
     "name": "stderr",
     "output_type": "stream",
     "text": [
      "Eval:  93%|█████████▎| 1036/1110 [11:37<00:39,  1.89it/s]"
     ]
    },
    {
     "name": "stdout",
     "output_type": "stream",
     "text": [
      "orientation_error\n",
      "tensor([20.1073, 19.9092, 20.0494, 20.0777, 20.2637, 20.2712, 20.2474, 20.3544,\n",
      "        20.3255, 20.5609, 20.4222, 20.4606, 20.6096, 20.5284, 20.6881, 20.9054,\n",
      "        20.7170, 20.8895, 22.2756, 37.1393, 36.9910, 37.0574, 37.1038, 37.2371,\n",
      "        37.2229, 37.3042, 37.2156, 37.1781, 37.3339, 37.0433, 36.9611, 37.0497],\n",
      "       device='cuda:0', dtype=torch.float64)\n",
      "\n"
     ]
    },
    {
     "name": "stderr",
     "output_type": "stream",
     "text": [
      "\r",
      "Eval:  93%|█████████▎| 1037/1110 [11:38<00:37,  1.93it/s]"
     ]
    },
    {
     "name": "stdout",
     "output_type": "stream",
     "text": [
      "orientation_error\n",
      "tensor([37.0158, 36.9355, 36.8081, 36.7084, 36.6084, 36.4095, 36.2297, 21.4591,\n",
      "        21.5016, 21.5497, 21.2819, 20.8398, 20.5338, 19.9865, 19.5580, 19.2459,\n",
      "        19.0136, 18.6336, 18.3616, 17.9786, 17.5951, 16.7635, 16.7542, 17.0683,\n",
      "        17.3939, 17.6365, 17.6833, 17.7377, 17.2190, 17.6264, 31.8698, 31.7465],\n",
      "       device='cuda:0', dtype=torch.float64)\n",
      "\n"
     ]
    },
    {
     "name": "stderr",
     "output_type": "stream",
     "text": [
      "\r",
      "Eval:  94%|█████████▎| 1038/1110 [11:38<00:33,  2.16it/s]"
     ]
    },
    {
     "name": "stdout",
     "output_type": "stream",
     "text": [
      "orientation_error\n",
      "tensor([31.3977, 31.1255, 31.0255, 30.3022, 30.1910, 30.7300, 31.6090, 32.3132,\n",
      "        18.2673, 18.0992, 18.9923, 19.8860, 20.6006, 20.9475, 21.3827, 22.8825,\n",
      "        28.8344, 27.8287, 26.1227, 27.7485, 27.0319, 29.3961, 41.2042, 29.0004,\n",
      "        32.3076, 29.5732, 31.0940, 30.7447, 30.9189, 27.4500, 27.0059, 29.0974],\n",
      "       device='cuda:0', dtype=torch.float64)\n",
      "\n"
     ]
    },
    {
     "name": "stderr",
     "output_type": "stream",
     "text": [
      "\r",
      "Eval:  94%|█████████▎| 1039/1110 [11:39<00:31,  2.28it/s]"
     ]
    },
    {
     "name": "stdout",
     "output_type": "stream",
     "text": [
      "orientation_error\n",
      "tensor([28.9790, 28.8410, 28.6469, 26.9703, 25.9487, 25.9774, 25.4967, 26.2726,\n",
      "        27.2603, 25.1089, 25.6283, 25.3875, 25.1558, 24.6761, 24.5785, 24.2484,\n",
      "        24.3160, 24.8560, 25.7117, 25.5484, 24.6323, 25.0660, 25.3104, 30.4001,\n",
      "        31.1626, 28.5627, 28.8580, 28.5870, 27.9020, 28.6830, 29.4794, 35.2531],\n",
      "       device='cuda:0', dtype=torch.float64)\n",
      "\n"
     ]
    },
    {
     "name": "stderr",
     "output_type": "stream",
     "text": [
      "\r",
      "Eval:  94%|█████████▎| 1040/1110 [11:39<00:30,  2.32it/s]"
     ]
    },
    {
     "name": "stdout",
     "output_type": "stream",
     "text": [
      "orientation_error\n",
      "tensor([37.5818, 34.8448, 30.9171, 30.8296, 30.0794, 30.6851, 29.4926, 29.4963,\n",
      "        28.4883, 27.5707, 28.4980, 27.2467, 26.5300, 26.0334, 25.7849, 25.6961,\n",
      "        25.7192, 26.3989, 25.9229, 26.2170, 25.3958, 25.6199, 26.1143, 25.9855,\n",
      "        26.9248, 26.6859, 26.7965, 27.9608, 28.0214, 27.8114, 29.0126, 30.0293],\n",
      "       device='cuda:0', dtype=torch.float64)\n",
      "\n",
      "MPJPE: 95.69092004460663\n",
      "Reconstruction Error: 58.8947771665218\n",
      "\n",
      "Orientation error: 31.72885041284381\n"
     ]
    },
    {
     "name": "stderr",
     "output_type": "stream",
     "text": [
      "\r",
      "Eval:  94%|█████████▍| 1041/1110 [11:39<00:28,  2.40it/s]"
     ]
    },
    {
     "name": "stdout",
     "output_type": "stream",
     "text": [
      "orientation_error\n",
      "tensor([30.2987, 30.5726, 30.1193, 29.7204, 30.3179, 31.7228, 31.1197, 30.3480,\n",
      "        30.0324, 28.9862, 30.2093, 31.8922, 29.8935, 33.9487, 32.0909, 31.0350,\n",
      "        31.4871, 30.5104, 29.7851, 32.4973, 36.0780, 38.3787, 39.6453, 36.6430,\n",
      "        37.6913, 39.5243, 30.5562, 34.7647, 31.2577, 32.3213, 28.9156, 29.6615],\n",
      "       device='cuda:0', dtype=torch.float64)\n",
      "\n"
     ]
    },
    {
     "name": "stderr",
     "output_type": "stream",
     "text": [
      "\r",
      "Eval:  94%|█████████▍| 1042/1110 [11:40<00:26,  2.60it/s]"
     ]
    },
    {
     "name": "stdout",
     "output_type": "stream",
     "text": [
      "orientation_error\n",
      "tensor([31.0551, 33.3588, 31.9666, 33.5989, 32.6102, 32.8501, 35.3212, 34.2644,\n",
      "        36.4457, 37.6627, 39.7934, 41.6714, 36.8407, 38.5621, 35.5558, 30.2315,\n",
      "        28.7590, 28.0578, 28.7654, 28.0546, 29.3144, 29.2526, 29.2991, 29.1374,\n",
      "        28.9581, 29.2677, 28.3101, 28.4910, 28.3049, 28.2040, 28.0873, 28.2271],\n",
      "       device='cuda:0', dtype=torch.float64)\n",
      "\n"
     ]
    },
    {
     "name": "stderr",
     "output_type": "stream",
     "text": [
      "\r",
      "Eval:  94%|█████████▍| 1043/1110 [11:40<00:27,  2.46it/s]"
     ]
    },
    {
     "name": "stdout",
     "output_type": "stream",
     "text": [
      "orientation_error\n",
      "tensor([27.2683, 28.0240, 27.0951, 27.2758, 27.1962, 26.9643, 27.2902, 26.6795,\n",
      "        26.5360, 26.6277, 26.4578, 26.2943, 25.6524, 25.8131, 26.8955, 26.9297,\n",
      "        27.2287, 26.9122, 26.7632, 27.3994, 26.8940, 29.9018, 29.4063, 32.1669,\n",
      "        33.5960, 34.9879, 33.9664, 34.5974, 38.5397, 36.6901, 32.9414, 30.8608],\n",
      "       device='cuda:0', dtype=torch.float64)\n",
      "\n"
     ]
    },
    {
     "name": "stderr",
     "output_type": "stream",
     "text": [
      "\r",
      "Eval:  94%|█████████▍| 1044/1110 [11:41<00:28,  2.34it/s]"
     ]
    },
    {
     "name": "stdout",
     "output_type": "stream",
     "text": [
      "orientation_error\n",
      "tensor([31.3760, 33.0142, 31.2552, 29.4551, 29.9741, 31.7929, 31.4842, 30.8065,\n",
      "        30.2003, 32.0728, 32.1710, 32.1978, 32.4030, 32.4866, 33.7137, 32.8282,\n",
      "        32.3360, 35.2851, 36.1636, 35.6933, 35.7150, 35.7140, 35.7484, 34.7389,\n",
      "        35.8679, 35.4361, 34.1081, 35.2037, 36.0463, 36.8147, 35.9643, 34.7159],\n",
      "       device='cuda:0', dtype=torch.float64)\n",
      "\n"
     ]
    },
    {
     "name": "stderr",
     "output_type": "stream",
     "text": [
      "\r",
      "Eval:  94%|█████████▍| 1045/1110 [11:41<00:28,  2.29it/s]"
     ]
    },
    {
     "name": "stdout",
     "output_type": "stream",
     "text": [
      "orientation_error\n",
      "tensor([33.9906, 33.4020, 34.0993, 36.0886, 35.2572, 34.8582, 34.3772, 33.8351,\n",
      "        33.1971, 33.5015, 33.3153, 31.6456, 31.7150, 32.3010, 30.7208, 30.8854,\n",
      "        29.0882, 30.2382, 32.1327, 32.2063, 34.9473, 35.5133, 36.5798, 35.8520,\n",
      "        35.4434, 35.0211, 34.9782, 34.4964, 33.5881, 32.1219, 30.4946, 31.7480],\n",
      "       device='cuda:0', dtype=torch.float64)\n",
      "\n"
     ]
    },
    {
     "name": "stderr",
     "output_type": "stream",
     "text": [
      "\r",
      "Eval:  94%|█████████▍| 1046/1110 [11:42<00:26,  2.39it/s]"
     ]
    },
    {
     "name": "stdout",
     "output_type": "stream",
     "text": [
      "orientation_error\n",
      "tensor([29.7183, 28.3275, 28.3547, 28.0006, 30.1311, 28.9621, 29.6353, 28.5956,\n",
      "        29.9917, 31.1096, 30.2709, 29.8974, 31.8189, 34.6047, 36.5221, 36.5183,\n",
      "        38.3375, 37.1437, 36.5579, 38.0864, 36.3143, 35.0025, 34.5114, 34.8464,\n",
      "        36.5643, 35.1804, 34.3946, 35.3987, 33.6250, 36.5260, 35.1003, 34.8757],\n",
      "       device='cuda:0', dtype=torch.float64)\n",
      "\n"
     ]
    },
    {
     "name": "stderr",
     "output_type": "stream",
     "text": [
      "\r",
      "Eval:  94%|█████████▍| 1047/1110 [11:42<00:24,  2.58it/s]"
     ]
    },
    {
     "name": "stdout",
     "output_type": "stream",
     "text": [
      "orientation_error\n",
      "tensor([35.7431, 35.9045, 35.1200, 33.8040, 35.5126, 33.5933, 28.3395, 37.9696,\n",
      "        25.1076, 27.8459, 28.2199, 28.1969, 30.0389, 30.6857, 33.1444, 31.0767,\n",
      "        29.6503, 37.0545, 31.1254, 38.0705, 44.2132, 38.1748, 37.7275, 39.8817,\n",
      "        41.1663, 44.4962, 45.6392, 49.2251, 51.9774, 52.7560, 48.9151, 52.0311],\n",
      "       device='cuda:0', dtype=torch.float64)\n",
      "\n"
     ]
    },
    {
     "name": "stderr",
     "output_type": "stream",
     "text": [
      "\r",
      "Eval:  94%|█████████▍| 1048/1110 [11:42<00:22,  2.78it/s]"
     ]
    },
    {
     "name": "stdout",
     "output_type": "stream",
     "text": [
      "orientation_error\n",
      "tensor([52.2934, 50.6978, 50.4406, 50.5104, 50.7631, 51.5579, 50.0341, 51.7389,\n",
      "        50.9564, 50.9387, 49.3734, 49.7542, 49.3183, 50.1454, 51.7881, 50.0737,\n",
      "        35.7776, 30.9289, 29.0523, 30.6408, 32.7948, 32.6635, 29.9504, 30.3142,\n",
      "        31.1640, 30.3733, 30.2098, 29.7830, 29.5635, 30.0047, 30.1658, 29.7820],\n",
      "       device='cuda:0', dtype=torch.float64)\n",
      "\n"
     ]
    },
    {
     "name": "stderr",
     "output_type": "stream",
     "text": [
      "\r",
      "Eval:  95%|█████████▍| 1049/1110 [11:42<00:20,  2.96it/s]"
     ]
    },
    {
     "name": "stdout",
     "output_type": "stream",
     "text": [
      "orientation_error\n",
      "tensor([30.3516, 30.5107, 30.0997, 30.8789, 33.8465, 35.0916, 35.5851, 35.2910,\n",
      "        33.5521, 34.3664, 32.4058, 33.5981, 33.2341, 32.7099, 31.8435, 30.3262,\n",
      "        30.5503, 30.1030, 42.9242, 41.0494, 39.2718, 38.1758, 40.5467, 40.0058,\n",
      "        40.2843, 39.3161, 39.3537, 39.1250, 38.9484, 23.5890, 21.9603, 21.7878],\n",
      "       device='cuda:0', dtype=torch.float64)\n",
      "\n"
     ]
    },
    {
     "name": "stderr",
     "output_type": "stream",
     "text": [
      "\r",
      "Eval:  95%|█████████▍| 1050/1110 [11:43<00:20,  2.96it/s]"
     ]
    },
    {
     "name": "stdout",
     "output_type": "stream",
     "text": [
      "orientation_error\n",
      "tensor([22.5770, 21.9783, 21.9352, 21.9132, 22.8961, 23.1248, 26.4735, 27.2959,\n",
      "        29.2629, 25.3635, 25.7380, 23.6073, 20.8244, 18.5040, 18.9463, 19.7013,\n",
      "        27.1712, 35.2601, 33.6628, 31.6796, 25.1248, 23.4277, 22.7733, 20.0713,\n",
      "        36.7853, 39.0657, 40.4598, 41.3766, 39.4410, 42.3879, 38.0702, 37.3523],\n",
      "       device='cuda:0', dtype=torch.float64)\n",
      "\n"
     ]
    },
    {
     "name": "stderr",
     "output_type": "stream",
     "text": [
      "\r",
      "Eval:  95%|█████████▍| 1051/1110 [11:43<00:19,  3.05it/s]"
     ]
    },
    {
     "name": "stdout",
     "output_type": "stream",
     "text": [
      "orientation_error\n",
      "tensor([34.4692, 40.8196, 37.1306, 34.3207, 34.4052, 33.8162, 25.0257, 31.3561,\n",
      "        24.2249, 35.3958, 22.6736, 21.2965, 23.5862, 26.4654, 30.1694, 27.5977,\n",
      "        31.4815, 36.1014, 30.5345, 31.6361, 30.0879, 28.5216, 34.9560, 26.2923,\n",
      "        26.1493, 26.2979, 23.6322, 27.3380, 25.0738, 29.2071, 28.7532, 25.0738],\n",
      "       device='cuda:0', dtype=torch.float64)\n",
      "\n"
     ]
    },
    {
     "name": "stderr",
     "output_type": "stream",
     "text": [
      "\r",
      "Eval:  95%|█████████▍| 1052/1110 [11:43<00:18,  3.11it/s]"
     ]
    },
    {
     "name": "stdout",
     "output_type": "stream",
     "text": [
      "orientation_error\n",
      "tensor([22.5717, 26.7250, 28.1073, 23.4892, 23.1873, 25.7125, 24.6113, 24.7095,\n",
      "        25.3892, 26.2577, 26.4014, 29.0923, 26.5210, 30.9656, 29.4197, 35.2370,\n",
      "        29.8007, 27.7892, 23.8434, 22.9519, 21.9148, 24.6513, 27.7894, 27.6861,\n",
      "        31.7844, 51.3284, 30.0534, 48.1241, 38.3920, 42.2964, 52.9376, 63.0413],\n",
      "       device='cuda:0', dtype=torch.float64)\n",
      "\n"
     ]
    },
    {
     "name": "stderr",
     "output_type": "stream",
     "text": [
      "\r",
      "Eval:  95%|█████████▍| 1053/1110 [11:44<00:19,  2.92it/s]"
     ]
    },
    {
     "name": "stdout",
     "output_type": "stream",
     "text": [
      "orientation_error\n",
      "tensor([56.8140, 49.9675, 30.3447, 26.4027, 26.7995, 23.6383, 24.6222, 25.5163,\n",
      "        26.7933, 29.7696, 43.3342, 50.0624, 37.6390, 45.3995, 48.5615, 27.2578,\n",
      "        26.9301, 26.7118, 30.7415, 30.6315, 35.6577, 34.6411, 29.8903, 27.2762,\n",
      "        28.2610, 29.2272, 28.8280, 31.0389, 40.5985, 30.1363, 44.6829, 42.1121],\n",
      "       device='cuda:0', dtype=torch.float64)\n",
      "\n"
     ]
    },
    {
     "name": "stderr",
     "output_type": "stream",
     "text": [
      "\r",
      "Eval:  95%|█████████▍| 1054/1110 [11:44<00:19,  2.85it/s]"
     ]
    },
    {
     "name": "stdout",
     "output_type": "stream",
     "text": [
      "orientation_error\n",
      "tensor([41.6499, 47.6017, 47.4721, 55.5972, 54.7732, 64.5182, 61.3091, 57.6109,\n",
      "        27.9437, 22.8280, 22.0564, 23.6201, 19.9139, 27.2283, 28.7403, 29.9989,\n",
      "        32.7233, 27.8939, 43.2277, 42.8595, 39.5000, 41.1108, 40.5706, 30.6241,\n",
      "        30.0971, 43.0737, 46.9613, 33.6766, 33.6735, 28.9947, 39.6050, 38.8213],\n",
      "       device='cuda:0', dtype=torch.float64)\n",
      "\n"
     ]
    },
    {
     "name": "stderr",
     "output_type": "stream",
     "text": [
      "\r",
      "Eval:  95%|█████████▌| 1055/1110 [11:44<00:18,  3.05it/s]"
     ]
    },
    {
     "name": "stdout",
     "output_type": "stream",
     "text": [
      "orientation_error\n",
      "tensor([38.3298, 41.0579, 55.7586, 35.9312, 32.1922, 49.9329, 57.9875, 56.6000,\n",
      "        38.7859, 30.1819, 44.1311, 45.7201, 37.7097, 31.6613, 28.4358, 26.2346,\n",
      "        26.1058, 27.6533, 31.9294, 30.9858, 28.1625, 26.6692, 38.2963, 38.5842,\n",
      "        39.3970, 37.4216, 50.0910, 37.7511, 37.8494, 37.3852, 37.0181, 35.7491],\n",
      "       device='cuda:0', dtype=torch.float64)\n",
      "\n"
     ]
    },
    {
     "name": "stderr",
     "output_type": "stream",
     "text": [
      "\r",
      "Eval:  95%|█████████▌| 1056/1110 [11:45<00:18,  2.88it/s]"
     ]
    },
    {
     "name": "stdout",
     "output_type": "stream",
     "text": [
      "orientation_error\n",
      "tensor([21.1362, 35.7174, 36.1619, 25.3228, 23.0807, 37.0404, 37.3814, 38.2384,\n",
      "        38.4716, 23.9031, 37.7043, 38.7299, 37.8059, 38.6448, 37.7641, 38.5877,\n",
      "        38.4708, 37.4272, 39.4651, 23.4264, 23.9726, 23.6259, 24.6660, 24.3659,\n",
      "        23.7102, 24.2473, 37.9472, 24.0740, 38.7595, 24.4247, 23.3926, 22.9989],\n",
      "       device='cuda:0', dtype=torch.float64)\n",
      "\n"
     ]
    },
    {
     "name": "stderr",
     "output_type": "stream",
     "text": [
      "\r",
      "Eval:  95%|█████████▌| 1057/1110 [11:45<00:16,  3.29it/s]"
     ]
    },
    {
     "name": "stdout",
     "output_type": "stream",
     "text": [
      "orientation_error\n",
      "tensor([24.5319, 23.5701, 24.5822, 24.1852, 24.0544, 25.2063, 26.2224, 25.7993,\n",
      "        25.5846, 24.4159, 25.2556, 24.8902, 25.4876, 25.7253, 25.4149, 25.8403,\n",
      "        24.1124, 23.9108, 22.6057, 22.6068, 23.2033, 23.6830, 22.8774, 23.6584,\n",
      "        23.1240, 23.1321, 22.8277, 22.8305, 22.0298, 23.2357, 22.5035, 22.2112],\n",
      "       device='cuda:0', dtype=torch.float64)\n",
      "\n",
      "orientation_error\n",
      "tensor([23.2541, 23.2010, 22.8402, 22.4176, 36.7026, 22.3765, 22.7341, 22.2731,\n",
      "        23.1332, 22.5743, 21.4367, 22.2483, 22.6407, 22.5606, 22.9065, 23.0607,\n",
      "        22.9008, 22.5795, 22.7241, 21.9884, 36.3105, 37.5583, 36.3606, 21.4164,\n",
      "        36.9795, 39.5046, 22.4264, 22.3843, 23.0280, 22.5731, 21.7228, 21.9271],\n",
      "       device='cuda:0', dtype=torch.float64)\n",
      "\n"
     ]
    },
    {
     "name": "stderr",
     "output_type": "stream",
     "text": [
      "Eval:  95%|█████████▌| 1059/1110 [11:45<00:12,  4.13it/s]"
     ]
    },
    {
     "name": "stdout",
     "output_type": "stream",
     "text": [
      "orientation_error\n",
      "tensor([37.7925, 33.4582, 21.9597, 22.6105, 21.6250, 22.1092, 22.0242, 36.6505,\n",
      "        22.1761, 21.3685, 21.5505, 22.2094, 21.9994, 21.9009, 22.6069, 21.6412,\n",
      "        21.4879, 22.7144, 21.2153, 21.5086, 22.0590, 22.1528, 36.8888, 21.8248,\n",
      "        22.2192, 22.1750, 21.9503, 21.6686, 19.0292, 18.9078, 18.6379, 18.6320],\n",
      "       device='cuda:0', dtype=torch.float64)\n",
      "\n"
     ]
    },
    {
     "name": "stderr",
     "output_type": "stream",
     "text": [
      "Eval:  96%|█████████▌| 1061/1110 [11:46<00:09,  4.94it/s]"
     ]
    },
    {
     "name": "stdout",
     "output_type": "stream",
     "text": [
      "orientation_error\n",
      "tensor([18.2248, 18.1842, 18.2844, 18.1194, 18.1091, 17.9791, 17.6372, 17.2521,\n",
      "        17.2610, 32.0114, 32.1680, 31.9822, 31.9692, 32.0915, 31.6726, 31.5394,\n",
      "        31.6261, 31.4696, 31.1267, 31.0737, 30.9458, 30.6415, 30.4082, 30.6173,\n",
      "        30.5518, 31.1106, 30.6638, 15.9737, 16.6345, 15.7349, 16.0519, 15.9278],\n",
      "       device='cuda:0', dtype=torch.float64)\n",
      "\n",
      "MPJPE: 96.1986018673559\n",
      "Reconstruction Error: 59.07717778272021\n",
      "\n",
      "Orientation error: 31.730760807220673\n",
      "orientation_error\n",
      "tensor([16.4689, 16.7874, 16.2192, 16.7847, 16.2288, 17.0560, 14.9665, 17.1881,\n",
      "        18.7185, 25.4385, 24.9141, 22.3623, 19.8930, 19.8578, 22.3495, 22.2220,\n",
      "        21.5366, 21.3685, 23.9940, 25.0765, 23.2476, 30.4069, 23.4005, 43.7721,\n",
      "        26.8557, 26.5606, 24.0674, 25.5928, 30.6862, 35.6996, 46.7022, 39.2956],\n",
      "       device='cuda:0', dtype=torch.float64)\n",
      "\n"
     ]
    },
    {
     "name": "stderr",
     "output_type": "stream",
     "text": [
      "Eval:  96%|█████████▌| 1063/1110 [11:46<00:07,  5.90it/s]"
     ]
    },
    {
     "name": "stdout",
     "output_type": "stream",
     "text": [
      "orientation_error\n",
      "tensor([35.7134, 20.4286, 20.6889, 21.5729, 22.0295, 22.7612, 22.3725, 22.9402,\n",
      "        23.1613, 22.8886, 23.8548, 24.8553, 24.9624, 26.4301, 28.0639, 25.7766,\n",
      "        25.7286, 24.8295, 24.6685, 25.8687, 25.7482, 25.5337, 24.8579, 25.3039,\n",
      "        25.3556, 25.9733, 25.5123, 24.8482, 24.9406, 24.3555, 27.6991, 31.1286],\n",
      "       device='cuda:0', dtype=torch.float64)\n",
      "\n",
      "orientation_error\n",
      "tensor([31.8916, 29.0332, 30.2476, 34.4259, 36.4354, 35.0165, 36.1738, 37.0683,\n",
      "        37.8789, 38.3989, 36.8475, 41.0566, 42.7713, 41.7029, 42.0450, 36.7972,\n",
      "        35.9244, 35.2945, 34.1025, 34.1997, 32.3909, 24.5041, 23.2439, 24.9076,\n",
      "        20.0109, 18.6211, 19.5645, 20.7626, 21.0511, 21.3236, 20.8075, 22.9523],\n",
      "       device='cuda:0', dtype=torch.float64)\n",
      "\n"
     ]
    },
    {
     "name": "stderr",
     "output_type": "stream",
     "text": [
      "Eval:  96%|█████████▌| 1065/1110 [11:46<00:06,  6.64it/s]"
     ]
    },
    {
     "name": "stdout",
     "output_type": "stream",
     "text": [
      "orientation_error\n",
      "tensor([24.6534, 26.1896, 25.6177, 26.0991, 26.0564, 24.8825, 26.6062, 26.0253,\n",
      "        26.3084, 26.6656, 25.0283, 25.2995, 24.6028, 24.5825, 23.1099, 23.8580,\n",
      "        24.2488, 23.5081, 23.4291, 23.7952, 23.0700, 22.4515, 22.7653, 22.7924,\n",
      "        22.0224, 22.3705, 22.4819, 22.9402, 22.5886, 22.1318, 22.1495, 21.8006],\n",
      "       device='cuda:0', dtype=torch.float64)\n",
      "\n",
      "orientation_error\n",
      "tensor([22.2931, 23.4376, 22.6453, 22.7367, 23.6723, 22.4751, 22.7056, 22.9841,\n",
      "        37.1777, 37.0633, 36.2135, 35.5368, 36.2563, 37.0311, 37.5598, 37.0972,\n",
      "        36.4979, 36.6436, 36.6241, 36.6632, 36.9373, 38.1197, 37.7719, 37.3744,\n",
      "        37.6547, 37.6378, 37.4891, 38.0659, 37.5514, 38.5778, 39.9305, 40.5537],\n",
      "       device='cuda:0', dtype=torch.float64)\n",
      "\n"
     ]
    },
    {
     "name": "stderr",
     "output_type": "stream",
     "text": [
      "Eval:  96%|█████████▌| 1067/1110 [11:47<00:06,  6.91it/s]"
     ]
    },
    {
     "name": "stdout",
     "output_type": "stream",
     "text": [
      "orientation_error\n",
      "tensor([27.4041, 28.4826, 28.0223, 28.2795, 29.6277, 28.6875, 42.7368, 26.9831,\n",
      "        29.1488, 27.3470, 25.7973, 26.0580, 40.3096, 38.8527, 40.2631, 41.1593,\n",
      "        26.5344, 26.8880, 27.4020, 43.5558, 44.1827, 29.8796, 26.7186, 27.9111,\n",
      "        27.0253, 27.9130, 27.3132, 27.0065, 26.7312, 26.2971, 26.5269, 27.1367],\n",
      "       device='cuda:0', dtype=torch.float64)\n",
      "\n",
      "orientation_error\n",
      "tensor([26.7376, 26.9894, 25.5398, 26.0970, 26.3066, 25.5948, 25.3855, 24.9498,\n",
      "        24.6304, 24.1411, 25.0662, 25.6637, 24.2699, 24.0684, 24.2025, 23.3910,\n",
      "        24.0569, 23.9371, 23.6240, 23.5281, 24.1553, 24.0295, 23.8742, 23.4474,\n",
      "        23.5884, 22.9327, 22.9832, 22.7665, 22.9526, 23.8740, 23.1521, 23.1662],\n",
      "       device='cuda:0', dtype=torch.float64)\n",
      "\n"
     ]
    },
    {
     "name": "stderr",
     "output_type": "stream",
     "text": [
      "Eval:  96%|█████████▋| 1069/1110 [11:47<00:05,  7.23it/s]"
     ]
    },
    {
     "name": "stdout",
     "output_type": "stream",
     "text": [
      "orientation_error\n",
      "tensor([21.5845, 21.6866, 21.5971, 21.8785, 21.1414, 21.6835, 21.0473, 21.7700,\n",
      "        22.3767, 22.1503, 21.5103, 21.8831, 22.1031, 21.9634, 21.9281, 22.4846,\n",
      "        22.9765, 22.8123, 23.0965, 23.5285, 23.4680, 23.7449, 24.0526, 24.5488,\n",
      "        24.6604, 25.1645, 25.5927, 25.9621, 26.3418, 27.0365, 27.7234, 28.3095],\n",
      "       device='cuda:0', dtype=torch.float64)\n",
      "\n",
      "orientation_error\n",
      "tensor([28.6824, 29.6033, 30.3242, 30.9673, 31.3436, 31.8762, 31.6506, 32.2551,\n",
      "        32.2670, 32.1830, 32.1563, 32.2937, 32.3553, 31.8642, 31.5695, 30.8923,\n",
      "        31.0213, 30.7533, 30.3483, 29.6704, 28.9203, 28.4532, 28.2418, 27.6032,\n",
      "        27.0591, 26.3020, 25.5732, 25.0445, 24.4236, 23.6113, 22.9635, 23.0056],\n",
      "       device='cuda:0', dtype=torch.float64)\n",
      "\n"
     ]
    },
    {
     "name": "stderr",
     "output_type": "stream",
     "text": [
      "Eval:  96%|█████████▋| 1071/1110 [11:47<00:05,  7.24it/s]"
     ]
    },
    {
     "name": "stdout",
     "output_type": "stream",
     "text": [
      "orientation_error\n",
      "tensor([22.1334, 21.4990, 21.7809, 21.2322, 21.4370, 21.2478, 22.2540, 22.2766,\n",
      "        22.5880, 22.2935, 22.8388, 22.5957, 22.7955, 22.3089, 22.4606, 22.7771,\n",
      "        24.1256, 23.2633, 28.0404, 33.7455, 23.6586, 22.6133, 21.4379, 21.7883,\n",
      "        21.7964, 21.3458, 21.1558, 21.2467, 21.3232, 21.1951, 21.7238, 31.7936],\n",
      "       device='cuda:0', dtype=torch.float64)\n",
      "\n",
      "orientation_error\n",
      "tensor([26.9620, 24.6540, 21.9105, 22.4190, 22.6281, 22.2569, 22.0711, 21.2634,\n",
      "        21.9588, 21.9393, 21.9738, 22.0884, 21.6379, 21.3313, 21.5329, 22.3536,\n",
      "        22.0932, 22.0528, 21.9465, 22.0207, 22.3552, 21.6504, 21.9240, 21.6000,\n",
      "        21.1262, 21.0818, 21.6544, 22.3955, 23.0859, 22.3784, 22.9661, 23.3422],\n",
      "       device='cuda:0', dtype=torch.float64)\n",
      "\n"
     ]
    },
    {
     "name": "stderr",
     "output_type": "stream",
     "text": [
      "Eval:  97%|█████████▋| 1073/1110 [11:47<00:05,  7.29it/s]"
     ]
    },
    {
     "name": "stdout",
     "output_type": "stream",
     "text": [
      "orientation_error\n",
      "tensor([23.2122, 23.4416, 24.7087, 24.5876, 25.2186, 25.2868, 25.5418, 27.7464,\n",
      "        28.9623, 32.2749, 31.4176, 30.4318, 32.4273, 28.7956, 29.0652, 29.3566,\n",
      "        32.5945, 36.1194, 37.1394, 37.1431, 38.3106, 42.0250, 37.0454, 39.9633,\n",
      "        29.5831, 25.6781, 27.3013, 39.2792, 38.6431, 48.8670, 50.0863, 47.0833],\n",
      "       device='cuda:0', dtype=torch.float64)\n",
      "\n",
      "orientation_error\n",
      "tensor([47.8229, 65.7597, 59.5507, 48.0350, 61.5424, 64.4982, 56.2756, 37.7569,\n",
      "        29.5563, 25.0961, 25.1718, 22.6668, 20.5130, 19.9422, 19.9455, 19.5442,\n",
      "        19.8528, 21.2178, 22.8424, 21.2442, 22.1327, 21.0288, 20.5809, 18.7255,\n",
      "        18.8750, 20.1941, 21.0404, 21.4514, 23.1769, 22.3445, 25.1956, 26.6592],\n",
      "       device='cuda:0', dtype=torch.float64)\n",
      "\n"
     ]
    },
    {
     "name": "stderr",
     "output_type": "stream",
     "text": [
      "Eval:  97%|█████████▋| 1075/1110 [11:48<00:04,  7.17it/s]"
     ]
    },
    {
     "name": "stdout",
     "output_type": "stream",
     "text": [
      "orientation_error\n",
      "tensor([24.3647, 36.7035, 23.2345, 28.1222, 23.3007, 22.7708, 35.1284, 24.0887,\n",
      "        24.4173, 43.1060, 26.2297, 37.6614, 37.0491, 37.0940, 36.3279, 35.8462,\n",
      "        40.5093, 38.0953, 38.1451, 37.5230, 54.7426, 47.8318, 44.9022, 39.5441,\n",
      "        42.3508, 35.6471, 41.3833, 27.7286, 38.7435, 38.1214, 38.1229, 38.9735],\n",
      "       device='cuda:0', dtype=torch.float64)\n",
      "\n",
      "orientation_error\n",
      "tensor([37.9171, 37.4035, 40.8444, 38.5445, 32.5206, 30.0548, 33.1530, 48.5764,\n",
      "        56.9424, 53.9837, 34.4806, 48.0209, 30.6403, 27.5618, 29.9639, 30.6408,\n",
      "        35.3142, 34.4547, 37.6540, 42.0239, 45.0631, 45.1526, 42.2117, 27.1893,\n",
      "        21.3249, 25.8169, 26.6969, 28.6556, 36.0912, 54.8444, 62.2435, 56.8611],\n",
      "       device='cuda:0', dtype=torch.float64)\n",
      "\n"
     ]
    },
    {
     "name": "stderr",
     "output_type": "stream",
     "text": [
      "Eval:  97%|█████████▋| 1077/1110 [11:48<00:04,  7.44it/s]"
     ]
    },
    {
     "name": "stdout",
     "output_type": "stream",
     "text": [
      "orientation_error\n",
      "tensor([36.4177, 35.7583, 29.4724, 27.9202, 31.7904, 36.2043, 48.0359, 39.5415,\n",
      "        42.0845, 27.9922, 27.6763, 20.1265, 18.8457, 21.9918, 34.0171, 24.1518,\n",
      "        29.7753, 31.9820, 33.9376, 47.2803, 48.5490, 43.3515, 42.5373, 48.4453,\n",
      "        48.0677, 34.6202, 54.9451, 36.7739, 69.6850, 52.1232, 37.6094, 26.4126],\n",
      "       device='cuda:0', dtype=torch.float64)\n",
      "\n",
      "orientation_error\n",
      "tensor([29.8851, 35.4169, 40.0524, 59.7351, 71.4353, 85.3947, 86.9232, 60.7736,\n",
      "        50.4320, 67.2131, 42.5325, 51.6756, 44.2644, 58.4383, 55.4799, 55.6253,\n",
      "        59.5438, 55.5782, 54.2823, 54.3086, 38.6078, 38.6404, 33.3307, 32.6398,\n",
      "        49.8086, 39.8493, 70.6742, 82.4281, 76.5908, 73.8581, 56.5214, 46.2469],\n",
      "       device='cuda:0', dtype=torch.float64)\n",
      "\n"
     ]
    },
    {
     "name": "stderr",
     "output_type": "stream",
     "text": [
      "Eval:  97%|█████████▋| 1079/1110 [11:48<00:04,  7.33it/s]"
     ]
    },
    {
     "name": "stdout",
     "output_type": "stream",
     "text": [
      "orientation_error\n",
      "tensor([52.6043, 39.6010, 52.3614, 72.1159, 74.3821, 65.1889, 43.5374, 35.7311,\n",
      "        42.1591, 26.1766, 24.1041, 27.2048, 34.0700, 36.2201, 49.4648, 39.8591,\n",
      "        61.1501, 68.4868, 71.5498, 59.8353, 47.9084, 58.0159, 41.5095, 35.1484,\n",
      "        35.8322, 55.8981, 59.2367, 43.4021, 52.7725, 40.3003, 58.9221, 53.8804],\n",
      "       device='cuda:0', dtype=torch.float64)\n",
      "\n",
      "orientation_error\n",
      "tensor([28.8495, 30.3869, 42.6756, 28.8762, 31.7211, 33.8703, 32.1040, 27.3782,\n",
      "        24.9511, 24.6117, 31.5367, 24.9406, 33.3580, 21.9284, 35.2865, 35.9943,\n",
      "        36.4218, 36.9242, 37.2047, 37.5239, 36.9464, 37.9218, 37.6779, 37.9176,\n",
      "        22.7711, 26.2603, 23.4005, 21.6827, 22.6437, 37.0350, 20.6908, 21.3671],\n",
      "       device='cuda:0', dtype=torch.float64)\n",
      "\n"
     ]
    },
    {
     "name": "stderr",
     "output_type": "stream",
     "text": [
      "Eval:  97%|█████████▋| 1081/1110 [11:48<00:03,  7.33it/s]"
     ]
    },
    {
     "name": "stdout",
     "output_type": "stream",
     "text": [
      "orientation_error\n",
      "tensor([21.0292, 35.1087, 21.4371, 26.8760, 27.6853, 25.5381, 21.6419, 36.4008,\n",
      "        22.9749, 23.3406, 23.0565, 23.1871, 21.2641, 21.3711, 21.8504, 20.8550,\n",
      "        26.0882, 58.2625, 21.0874, 36.0142, 36.7674, 22.4980, 22.7614, 22.7651,\n",
      "        22.6620, 37.3010, 22.9147, 45.5679, 25.0716, 42.7745, 22.5080, 22.0377],\n",
      "       device='cuda:0', dtype=torch.float64)\n",
      "\n",
      "MPJPE: 96.5447576704782\n",
      "Reconstruction Error: 59.155131101707966\n",
      "\n",
      "Orientation error: 31.721733750676673\n",
      "orientation_error\n",
      "tensor([21.5747, 22.3466, 22.0721, 22.1954, 22.4581, 22.3669, 22.4150, 24.0751,\n",
      "        23.0764, 23.4359, 22.6589, 22.1431, 22.5069, 23.5727, 40.4186, 24.3699,\n",
      "        25.9545, 26.0353, 25.9619, 26.2434, 26.2460, 26.0088, 25.5058, 25.6726,\n",
      "        26.0146, 25.8314, 25.6665, 25.2655, 25.1452, 25.6264, 25.9174, 27.9365],\n",
      "       device='cuda:0', dtype=torch.float64)\n",
      "\n"
     ]
    },
    {
     "name": "stderr",
     "output_type": "stream",
     "text": [
      "Eval:  98%|█████████▊| 1083/1110 [11:49<00:03,  7.28it/s]"
     ]
    },
    {
     "name": "stdout",
     "output_type": "stream",
     "text": [
      "orientation_error\n",
      "tensor([27.3851, 25.5234, 25.9400, 25.6777, 26.4644, 25.1509, 24.9743, 25.3100,\n",
      "        24.9871, 24.8108, 26.3425, 49.4299, 28.1667, 46.3994, 43.7985, 41.7711,\n",
      "        51.2853, 40.3270, 34.4506, 28.5253, 26.6497, 25.1089, 22.6231, 21.8608,\n",
      "        21.6337, 20.8997, 20.1979, 20.2678, 20.0818, 21.2142, 21.8958, 22.4176],\n",
      "       device='cuda:0', dtype=torch.float64)\n",
      "\n",
      "orientation_error\n",
      "tensor([22.7349, 23.3039, 23.6702, 24.1861, 38.8291, 39.0594, 39.3850, 39.7841,\n",
      "        40.3676, 26.3071, 26.5319, 24.7496, 23.3269, 23.4062, 22.5396, 22.2075,\n",
      "        22.2451, 22.3455, 22.5855, 22.0549, 22.2676, 21.0166, 19.6001, 18.3274,\n",
      "        19.4683, 19.7867, 21.8400, 22.2350, 22.2959, 24.1310, 26.1550, 24.6146],\n",
      "       device='cuda:0', dtype=torch.float64)\n",
      "\n"
     ]
    },
    {
     "name": "stderr",
     "output_type": "stream",
     "text": [
      "Eval:  98%|█████████▊| 1085/1110 [11:49<00:03,  7.53it/s]"
     ]
    },
    {
     "name": "stdout",
     "output_type": "stream",
     "text": [
      "orientation_error\n",
      "tensor([20.7172, 24.4849, 23.2907, 36.2810, 37.9341, 38.1193, 38.9798, 33.1277,\n",
      "        32.7969, 36.3842, 35.1436, 44.3163, 44.2239, 45.0226, 43.8977, 43.2566,\n",
      "        46.2520, 42.4376, 40.3464, 40.7095, 40.6355, 40.1135, 39.7643, 39.9484,\n",
      "        39.6307, 37.0313, 36.9390, 36.1844, 22.3812, 22.0555, 22.0825, 21.8008],\n",
      "       device='cuda:0', dtype=torch.float64)\n",
      "\n",
      "orientation_error\n",
      "tensor([22.8657, 23.5858, 24.4292, 23.9416, 24.7873, 25.0533, 25.4870, 25.6642,\n",
      "        26.1910, 26.7550, 26.9762, 26.6416, 26.7729, 26.2238, 25.5854, 24.5085,\n",
      "        24.4963, 24.5530, 24.1952, 25.2283, 24.9446, 26.1438, 27.5151, 27.9465,\n",
      "        28.1792, 42.0939, 41.1548, 25.6379, 24.8406, 23.1879, 23.6870, 23.5260],\n",
      "       device='cuda:0', dtype=torch.float64)\n",
      "\n"
     ]
    },
    {
     "name": "stderr",
     "output_type": "stream",
     "text": [
      "Eval:  98%|█████████▊| 1087/1110 [11:49<00:03,  7.61it/s]"
     ]
    },
    {
     "name": "stdout",
     "output_type": "stream",
     "text": [
      "orientation_error\n",
      "tensor([23.1911, 24.1207, 25.3022, 25.3055, 25.1062, 25.4289, 25.5803, 25.8762,\n",
      "        26.5288, 26.7649, 26.6527, 27.3298, 27.9636, 28.4104, 28.4282, 28.4195,\n",
      "        28.0484, 28.8577, 28.3140, 27.3477, 26.8349, 25.2968, 23.0172, 23.5872,\n",
      "        23.5360, 24.5021, 24.2840, 24.2732, 24.9693, 24.4505, 24.7619, 25.9871],\n",
      "       device='cuda:0', dtype=torch.float64)\n",
      "\n",
      "orientation_error\n",
      "tensor([28.2306, 29.2477, 29.1379, 30.8856, 31.9859, 31.5810, 33.1674, 31.4403,\n",
      "        29.9264, 28.6600, 28.3347, 28.9290, 28.2251, 26.8556, 26.9099, 28.0586,\n",
      "        26.8654, 26.3130, 24.6485, 24.1361, 25.6097, 25.8655, 23.5524, 21.7708,\n",
      "        22.4116, 23.3070, 23.1085, 23.9325, 24.4692, 25.1129, 25.4952, 25.2251],\n",
      "       device='cuda:0', dtype=torch.float64)\n",
      "\n"
     ]
    },
    {
     "name": "stderr",
     "output_type": "stream",
     "text": [
      "Eval:  98%|█████████▊| 1089/1110 [11:50<00:02,  7.47it/s]"
     ]
    },
    {
     "name": "stdout",
     "output_type": "stream",
     "text": [
      "orientation_error\n",
      "tensor([24.5319, 26.2238, 26.1240, 24.1346, 23.7790, 24.5686, 24.6890, 23.2812,\n",
      "        23.0919, 22.2529, 22.6167, 22.2601, 20.9713, 23.7983, 24.3169, 23.6593,\n",
      "        26.3284, 27.7720, 30.9256, 35.5722, 31.9623, 35.3361, 32.1305, 26.6521,\n",
      "        28.2381, 27.8954, 26.1207, 26.9139, 28.3489, 32.5095, 34.5751, 31.6651],\n",
      "       device='cuda:0', dtype=torch.float64)\n",
      "\n",
      "orientation_error\n",
      "tensor([28.4552, 27.3251, 29.9384, 26.9771, 28.6621, 31.0576, 33.0749, 34.6700,\n",
      "        38.6347, 39.6104, 37.6982, 36.1493, 38.8744, 40.5091, 34.3685, 33.3614,\n",
      "        33.2067, 32.3851, 31.4230, 31.0718, 28.6237, 27.5007, 27.0522, 26.1606,\n",
      "        24.0415, 22.2737, 22.2744, 24.7802, 22.1830, 23.1304, 23.3614, 24.7776],\n",
      "       device='cuda:0', dtype=torch.float64)\n",
      "\n"
     ]
    },
    {
     "name": "stderr",
     "output_type": "stream",
     "text": [
      "Eval:  98%|█████████▊| 1091/1110 [11:50<00:02,  7.39it/s]"
     ]
    },
    {
     "name": "stdout",
     "output_type": "stream",
     "text": [
      "orientation_error\n",
      "tensor([26.5959, 29.8195, 32.7209, 33.0928, 31.1146, 30.5058, 30.3521, 31.0607,\n",
      "        30.2776, 31.5196, 30.9140, 29.0674, 28.6307, 28.2631, 28.2644, 27.4532,\n",
      "        28.3279, 25.6286, 26.5227, 25.7099, 24.4927, 23.2273, 22.8330, 22.5554,\n",
      "        22.7185, 36.4524, 36.7166, 37.5285, 38.4858, 37.9427, 39.8903, 38.5469],\n",
      "       device='cuda:0', dtype=torch.float64)\n",
      "\n",
      "orientation_error\n",
      "tensor([23.4975, 24.6907, 26.4912, 27.0682, 26.9788, 28.7589, 27.8780, 29.4632,\n",
      "        31.1684, 30.7889, 28.6424, 27.7470, 28.6257, 30.9994, 30.7668, 28.6105,\n",
      "        26.5705, 25.1555, 25.0390, 25.1457, 24.9913, 25.2892, 25.8435, 25.2864,\n",
      "        27.1039, 28.0484, 30.4507, 30.0562, 30.7768, 31.0907, 30.4033, 29.9464],\n",
      "       device='cuda:0', dtype=torch.float64)\n",
      "\n"
     ]
    },
    {
     "name": "stderr",
     "output_type": "stream",
     "text": [
      "Eval:  98%|█████████▊| 1093/1110 [11:50<00:02,  7.30it/s]"
     ]
    },
    {
     "name": "stdout",
     "output_type": "stream",
     "text": [
      "orientation_error\n",
      "tensor([28.3879, 27.7842, 26.9424, 28.5795, 27.6015, 28.4134, 29.2515, 29.2683,\n",
      "        26.9667, 24.9727, 24.1035, 22.9668, 23.3272, 24.7969, 24.2990, 23.4358,\n",
      "        23.5292, 22.2041, 23.8561, 27.6067, 26.5306, 27.9489, 27.0292, 26.2893,\n",
      "        26.7735, 28.0237, 26.7225, 26.7032, 26.7834, 27.6964, 27.2901, 27.5772],\n",
      "       device='cuda:0', dtype=torch.float64)\n",
      "\n",
      "orientation_error\n",
      "tensor([26.9993, 27.0384, 26.4306, 25.0205, 24.9017, 26.9840, 24.8428, 24.9281,\n",
      "        25.4628, 26.6292, 26.5883, 27.0244, 27.0840, 26.7031, 28.0271, 30.6376,\n",
      "        30.8115, 32.7857, 35.7433, 36.6454, 32.0509, 31.9051, 33.8970, 33.5915,\n",
      "        34.9110, 33.3717, 38.7691, 34.8549, 31.0460, 31.7808, 31.5462, 33.9755],\n",
      "       device='cuda:0', dtype=torch.float64)\n",
      "\n"
     ]
    },
    {
     "name": "stderr",
     "output_type": "stream",
     "text": [
      "Eval:  99%|█████████▊| 1095/1110 [11:50<00:02,  7.46it/s]"
     ]
    },
    {
     "name": "stdout",
     "output_type": "stream",
     "text": [
      "orientation_error\n",
      "tensor([32.4040, 31.4236, 38.5491, 41.8473, 37.8863, 35.9191, 36.4419, 31.9396,\n",
      "        27.5727, 23.9435, 24.1837, 22.6293, 22.6274, 24.6536, 26.3402, 25.9953,\n",
      "        25.5032, 28.1532, 30.0100, 30.9433, 32.1267, 28.2257, 27.2234, 27.3714,\n",
      "        23.8417, 22.6046, 25.2188, 26.2234, 27.4305, 28.1213, 27.7128, 27.0567],\n",
      "       device='cuda:0', dtype=torch.float64)\n",
      "\n",
      "orientation_error\n",
      "tensor([25.0734, 24.3478, 26.1759, 21.9723, 24.5933, 25.8102, 27.3295, 26.9146,\n",
      "        28.3954, 28.2906, 27.4121, 27.8284, 24.8242, 27.6629, 31.1601, 32.1213,\n",
      "        26.5798, 27.5166, 28.5047, 28.6255, 26.6907, 27.4634, 26.2763, 26.3439,\n",
      "        25.7455, 26.4807, 29.2426, 29.0179, 28.6979, 27.8433, 28.3824, 28.3242],\n",
      "       device='cuda:0', dtype=torch.float64)\n",
      "\n"
     ]
    },
    {
     "name": "stderr",
     "output_type": "stream",
     "text": [
      "Eval:  99%|█████████▉| 1097/1110 [11:51<00:01,  7.63it/s]"
     ]
    },
    {
     "name": "stdout",
     "output_type": "stream",
     "text": [
      "orientation_error\n",
      "tensor([27.6833, 27.4375, 27.9834, 27.5740, 27.2110, 27.0479, 25.6268, 24.8105,\n",
      "        24.8637, 25.9895, 25.1518, 22.4070, 21.7603, 21.4793, 22.1689, 23.0644,\n",
      "        24.5858, 24.6699, 23.7706, 22.6084, 23.3110, 24.4135, 24.7004, 24.2289,\n",
      "        24.9431, 24.8977, 26.0890, 25.4317, 23.9933, 25.3622, 24.8437, 23.8080],\n",
      "       device='cuda:0', dtype=torch.float64)\n",
      "\n",
      "orientation_error\n",
      "tensor([22.8872, 23.2998, 24.5312, 23.2134, 23.6277, 24.6796, 27.5810, 26.6641,\n",
      "        26.0946, 26.9331, 26.4259, 25.5157, 26.2546, 27.1394, 27.4402, 27.9628,\n",
      "        29.5422, 27.2226, 28.0611, 28.9363, 29.9417, 27.9687, 27.2134, 27.2229,\n",
      "        26.7495, 24.7142, 24.3992, 25.3738, 25.8188, 25.0739, 27.2688, 31.2972],\n",
      "       device='cuda:0', dtype=torch.float64)\n",
      "\n"
     ]
    },
    {
     "name": "stderr",
     "output_type": "stream",
     "text": [
      "Eval:  99%|█████████▉| 1099/1110 [11:51<00:01,  7.70it/s]"
     ]
    },
    {
     "name": "stdout",
     "output_type": "stream",
     "text": [
      "orientation_error\n",
      "tensor([38.9813, 34.5711, 36.9013, 42.4119, 57.4305, 42.7150, 54.8218, 35.1831,\n",
      "        34.5398, 33.9019, 34.1472, 32.4947, 32.3326, 31.6920, 31.2879, 44.8449,\n",
      "        38.7026, 33.1874, 43.0883, 34.5703, 28.0229, 27.4091, 28.0516, 26.4833,\n",
      "        25.2460, 25.7493, 25.3141, 26.3014, 26.3536, 25.4206, 24.6355, 25.5731],\n",
      "       device='cuda:0', dtype=torch.float64)\n",
      "\n",
      "orientation_error\n",
      "tensor([27.2439, 28.3880, 26.5368, 26.3950, 24.3360, 26.6270, 25.6381, 23.2347,\n",
      "        23.3737, 22.1964, 24.3445, 25.8708, 26.2178, 26.3702, 27.2039, 25.5271,\n",
      "        24.5787, 24.6923, 24.9262, 23.7460, 23.5257, 22.4785, 22.4779, 21.8269,\n",
      "        22.8134, 23.3513, 25.1646, 25.4066, 24.7815, 24.7834, 25.3471, 26.4718],\n",
      "       device='cuda:0', dtype=torch.float64)\n",
      "\n"
     ]
    },
    {
     "name": "stderr",
     "output_type": "stream",
     "text": [
      "Eval:  99%|█████████▉| 1101/1110 [11:51<00:01,  7.56it/s]"
     ]
    },
    {
     "name": "stdout",
     "output_type": "stream",
     "text": [
      "orientation_error\n",
      "tensor([26.5756, 26.1203, 26.2014, 25.9970, 25.9845, 26.8588, 25.4134, 26.9394,\n",
      "        25.4991, 27.4709, 28.5346, 27.6932, 26.5291, 27.8160, 27.2096, 28.6230,\n",
      "        30.1822, 30.0823, 34.0202, 32.3399, 32.1034, 31.4524, 31.0176, 33.0046,\n",
      "        32.8658, 35.1118, 35.8777, 37.7872, 40.9841, 37.7120, 38.7550, 36.4040],\n",
      "       device='cuda:0', dtype=torch.float64)\n",
      "\n",
      "MPJPE: 96.87599752032011\n",
      "Reconstruction Error: 59.31143589761427\n",
      "\n",
      "Orientation error: 31.65310586655694\n",
      "orientation_error\n",
      "tensor([37.7037, 39.6951, 40.2776, 30.2890, 37.5336, 36.4674, 31.9293, 30.5225,\n",
      "        27.6159, 28.5684, 28.6847, 26.6386, 25.0524, 24.9905, 25.6962, 28.5667,\n",
      "        28.4010, 29.6006, 29.3945, 28.6483, 27.7370, 26.1735, 26.4142, 26.0818,\n",
      "        26.3871, 24.5637, 24.0714, 23.9727, 21.9085, 21.5444, 24.6360, 24.2587],\n",
      "       device='cuda:0', dtype=torch.float64)\n",
      "\n"
     ]
    },
    {
     "name": "stderr",
     "output_type": "stream",
     "text": [
      "Eval:  99%|█████████▉| 1103/1110 [11:51<00:01,  6.97it/s]"
     ]
    },
    {
     "name": "stdout",
     "output_type": "stream",
     "text": [
      "orientation_error\n",
      "tensor([23.9464, 38.3708, 38.0772, 36.6665, 38.5926, 38.7419, 38.2275, 27.2930,\n",
      "        26.7761, 25.8665, 25.6834, 27.0119, 26.6800, 26.1713, 27.2094, 25.7439,\n",
      "        24.0702, 24.0321, 24.7754, 24.5031, 23.3428, 23.0099, 23.5471, 24.5837,\n",
      "        23.8272, 23.6226, 24.5341, 25.0755, 25.3917, 24.2860, 23.7173, 23.7947],\n",
      "       device='cuda:0', dtype=torch.float64)\n",
      "\n",
      "orientation_error\n",
      "tensor([24.8558, 28.6195, 27.7088, 25.4343, 24.0663, 27.0278, 27.3677, 28.0227,\n",
      "        28.8563, 27.0392, 27.2856, 25.7678, 25.8578, 26.2534, 27.5867, 27.5143,\n",
      "        28.8213, 28.6447, 27.8754, 28.3642, 27.6897, 25.2999, 25.3376, 24.4348,\n",
      "        23.4859, 23.7314, 21.8230, 23.7156, 26.2897, 26.8031, 27.3613, 25.0084],\n",
      "       device='cuda:0', dtype=torch.float64)\n",
      "\n"
     ]
    },
    {
     "name": "stderr",
     "output_type": "stream",
     "text": [
      "Eval: 100%|█████████▉| 1105/1110 [11:52<00:00,  7.21it/s]"
     ]
    },
    {
     "name": "stdout",
     "output_type": "stream",
     "text": [
      "orientation_error\n",
      "tensor([23.6092, 24.2055, 22.5064, 22.1094, 23.4134, 24.8515, 26.7387, 26.0876,\n",
      "        26.7669, 27.6199, 27.0892, 26.7349, 26.6629, 25.9472, 24.1695, 21.7790,\n",
      "        22.5103, 22.5862, 22.1089, 23.3980, 24.1023, 27.5937, 30.5243, 30.5565,\n",
      "        33.0789, 39.8753, 41.4176, 45.0296, 47.0331, 46.6587, 46.3078, 43.5164],\n",
      "       device='cuda:0', dtype=torch.float64)\n",
      "\n",
      "orientation_error\n",
      "tensor([32.6666, 31.8344, 49.5651, 33.0367, 37.3172, 30.9720, 31.0598, 33.8133,\n",
      "        33.3978, 33.6097, 34.8861, 35.8301, 34.7042, 34.0644, 34.6006, 34.1722,\n",
      "        34.2379, 33.6660, 33.7371, 32.7422, 32.5510, 32.1029, 28.7580, 29.0870,\n",
      "        28.9337, 29.4872, 29.0782, 26.9818, 26.2105, 25.9183, 24.8525, 23.5446],\n",
      "       device='cuda:0', dtype=torch.float64)\n",
      "\n"
     ]
    },
    {
     "name": "stderr",
     "output_type": "stream",
     "text": [
      "Eval: 100%|█████████▉| 1107/1110 [11:52<00:00,  7.06it/s]"
     ]
    },
    {
     "name": "stdout",
     "output_type": "stream",
     "text": [
      "orientation_error\n",
      "tensor([23.7338, 25.2178, 24.6141, 22.2787, 22.1691, 21.1275, 21.8563, 22.9745,\n",
      "        22.1941, 22.1920, 22.8354, 23.4603, 24.0880, 25.5365, 25.4100, 24.8566,\n",
      "        24.0144, 25.4563, 25.4972, 25.5208, 26.3695, 25.1184, 25.4015, 25.4933,\n",
      "        24.7076, 24.6623, 22.9913, 22.2866, 21.5588, 21.7413, 22.3415, 22.9814],\n",
      "       device='cuda:0', dtype=torch.float64)\n",
      "\n",
      "orientation_error\n",
      "tensor([23.3481, 22.8331, 22.6573, 22.8590, 22.7474, 22.3722, 22.4344, 22.1227,\n",
      "        22.6968, 22.7503, 23.6454, 24.6465, 25.1758, 24.1325, 23.7672, 23.9815,\n",
      "        24.2860, 22.8141, 22.2568, 23.4483, 22.5189, 22.3363, 23.9334, 25.9163,\n",
      "        24.2152, 24.9284, 25.5895, 26.2608, 25.7157, 26.7158, 25.9038, 27.3515],\n",
      "       device='cuda:0', dtype=torch.float64)\n",
      "\n"
     ]
    },
    {
     "name": "stderr",
     "output_type": "stream",
     "text": [
      "Eval: 100%|█████████▉| 1109/1110 [11:52<00:00,  7.13it/s]"
     ]
    },
    {
     "name": "stdout",
     "output_type": "stream",
     "text": [
      "orientation_error\n",
      "tensor([28.3544, 30.4808, 30.3280, 33.3973, 34.5051, 36.8159, 38.7361, 41.2268,\n",
      "        49.9205, 49.7851, 49.8190, 49.6826, 50.1614, 50.0169, 50.0999, 51.1859,\n",
      "        49.7064, 48.5724, 48.6221, 47.4222, 36.8103, 37.3804, 37.3857, 35.0589,\n",
      "        32.9712, 30.8358, 25.1252, 26.4135, 26.4651, 26.4419, 24.8681, 25.7697],\n",
      "       device='cuda:0', dtype=torch.float64)\n",
      "\n",
      "orientation_error\n",
      "tensor([25.6590, 25.3603, 25.1070, 25.4939, 25.6336, 25.3966, 24.9788, 25.3156,\n",
      "        26.1491, 25.8186, 26.2396, 26.3791, 26.1285, 41.4524, 40.9973, 39.7262,\n",
      "        38.9048, 22.9330, 37.1163, 37.2088, 36.2543, 36.2167, 36.1838, 36.5195,\n",
      "        37.4312, 38.4229, 39.5530, 40.0373, 40.4576, 26.3344, 26.2738, 25.8840],\n",
      "       device='cuda:0', dtype=torch.float64)\n",
      "\n"
     ]
    },
    {
     "name": "stderr",
     "output_type": "stream",
     "text": [
      "\r",
      "Eval: 100%|██████████| 1110/1110 [11:52<00:00,  7.58it/s]"
     ]
    },
    {
     "name": "stdout",
     "output_type": "stream",
     "text": [
      "orientation_error\n",
      "tensor([25.8907, 25.9221, 25.8416, 25.8340, 26.0514, 26.1199, 26.3219, 26.4102,\n",
      "        26.3512, 26.4559, 26.8296, 27.0161, 27.0098, 27.0246, 27.1904, 27.2047,\n",
      "        27.2286, 27.1539, 27.1334, 27.2318, 27.1115, 27.1495, 26.9679, 27.0063,\n",
      "        26.9473, 26.9912, 26.7678], device='cuda:0', dtype=torch.float64)\n",
      "\n",
      "*** Final Results ***\n",
      "\n",
      "MPJPE: 96.94085740828478\n",
      "Reconstruction Error: 59.285746753744455\n",
      "\n",
      "Orientation Error: 31.627731715879733\n"
     ]
    },
    {
     "name": "stderr",
     "output_type": "stream",
     "text": [
      "\n"
     ]
    }
   ],
   "source": [
    "if __name__ == '__main__':\n",
    "    \n",
    "    # python3 eval.py --checkpoint=data/model_checkpoint.pt --dataset=h36m-p1 --log_freq=20 // example code\n",
    "    args = parser.parse_args(['--checkpoint=data/model_checkpoint.pt','--dataset=3dpw', '--log_freq=20'])\n",
    "    # Here we inserted our own arguments list\n",
    "    \n",
    "    model = hmr(config.SMPL_MEAN_PARAMS)\n",
    "    checkpoint = torch.load(args.checkpoint)\n",
    "    model.load_state_dict(checkpoint['model'], strict=False)\n",
    "    model.eval()\n",
    "\n",
    "    # Setup evaluation dataset\n",
    "    dataset = BaseDataset(None, args.dataset, is_train=False)\n",
    "    # Run evaluation\n",
    "    run_evaluation(model, args.dataset, dataset, args.result_file,\n",
    "                   batch_size=args.batch_size,\n",
    "                   shuffle=args.shuffle,\n",
    "                   log_freq=args.log_freq)"
   ]
  },
  {
   "cell_type": "code",
   "execution_count": null,
   "metadata": {},
   "outputs": [],
   "source": [
    "import torch\n",
    "from torch.utils.data import DataLoader\n",
    "import numpy as np\n",
    "import cv2\n",
    "import os\n",
    "import argparse\n",
    "import json\n",
    "from collections import namedtuple\n",
    "from tqdm import tqdm\n",
    "import torchgeometry as tgm\n",
    "\n",
    "import config\n",
    "import constants\n",
    "from models import hmr, SMPL\n",
    "from datasets import BaseDataset\n",
    "from utils.imutils import uncrop\n",
    "from utils.pose_utils import reconstruction_error\n",
    "from utils.part_utils import PartRenderer\n",
    "\n",
    "from scipy.spatial.transform import Rotation as R\n",
    "\n",
    "pred_rotmat = torch.rand(32,24,3,3, device='cuda')\n",
    "pred_euler = np.zeros((32,24,3)) # Has to be a numpy array because it works with Rotation\n",
    "\n",
    "# For each row in pred_rotmat convert it to a Rotation object and write it into a corresponding\n",
    "# row in pred_euler as Euler angles\n",
    "\n",
    "i=0\n",
    "for row in pred_rotmat:\n",
    "    r = R.from_dcm(row.cpu())\n",
    "    pred_euler[i] = R.as_euler(r, 'xyz', degrees=True)\n",
    "    i+=1\n",
    "    \n",
    "pred_euler"
   ]
  },
  {
   "cell_type": "code",
   "execution_count": null,
   "metadata": {},
   "outputs": [],
   "source": [
    "gt_pose = torch.rand(32,72)\n",
    "\n",
    "gt_rotvec = torch.zeros(32,24,3) # Have to have an array of this shape to input into the rotation object (from 32,72 to 32,24,3)\n",
    "i = 0\n",
    "for row in gt_pose:\n",
    "    gt_rotvec[i] = torch.reshape(row,(24, -1))\n",
    "    i+=1\n",
    "\n",
    "gt_euler = np.zeros((32, 24, 3)) # Using numpy here because it works with the rotation library\n",
    "i = 0\n",
    "for row in gt_rotvec:\n",
    "    r = R.from_rotvec(row)\n",
    "    gt_euler[i] = R.as_euler(r, 'xyz', degrees=True)\n",
    "    i+=1\n",
    "    \n",
    "np.shape(gt_euler - pred_euler)"
   ]
  },
  {
   "cell_type": "code",
   "execution_count": null,
   "metadata": {},
   "outputs": [],
   "source": []
  },
  {
   "cell_type": "code",
   "execution_count": null,
   "metadata": {},
   "outputs": [],
   "source": [
    "(gt_euler - pred_euler).mean()"
   ]
  },
  {
   "cell_type": "code",
   "execution_count": null,
   "metadata": {},
   "outputs": [],
   "source": [
    "row = 0\n",
    "pred_rotmat = torch.rand(32,24,3,3)\n",
    "pred_rotmat[row].size()"
   ]
  },
  {
   "cell_type": "code",
   "execution_count": null,
   "metadata": {},
   "outputs": [],
   "source": [
    "import torch\n",
    "import numpy as np\n",
    "\n",
    "torch.set_printoptions(profile=\"full\")\n",
    "np.set_printoptions(threshold=np.inf)\n",
    "\n",
    "gt_pose = torch.rand(32,72)\n",
    "a\n",
    "\n",
    "#np.apply_along_axis(np.reshape( ,(24, -1)), -1, a)\n",
    "\n",
    "gt_orientation_reshaped = torch.zeros(32,24,3) # Have to reshape from 32,72 to 32,24,3 to input into the rotation object\n",
    "i = 0\n",
    "\n",
    "for row in gt_pose:\n",
    "    gt_orientation_reshaped[i] = torch.reshape(row,(24, -1))\n",
    "    i+=1\n",
    "    \n",
    "gt_orientation_as_matrix = np.zeros((32, 24, 3, 3)) # Using numpy here because it works with the rotation library\n",
    "i = 0\n",
    "\n",
    "for row in gt_orientation_reshaped:\n",
    "    r = R.from_rotvec(row)\n",
    "    gt_orientation_as_matrix[i] = r.as_dcm()\n",
    "    i+=1"
   ]
  },
  {
   "cell_type": "code",
   "execution_count": null,
   "metadata": {},
   "outputs": [],
   "source": [
    "#moe = np.zeros(32)\n",
    "pred_rotmat = torch.rand(32,24,3,3)\n",
    "\n",
    "orientation_error = pred_rotmat - torch.as_tensor(gt_orientation_as_matrix, dtype=torch.float, device='cpu')\n",
    "#moe = orientation_error"
   ]
  },
  {
   "cell_type": "code",
   "execution_count": null,
   "metadata": {},
   "outputs": [],
   "source": [
    "orientation_error.mean(-1).mean(-1).mean(-1).cpu().numpy()"
   ]
  },
  {
   "cell_type": "code",
   "execution_count": null,
   "metadata": {},
   "outputs": [],
   "source": []
  },
  {
   "cell_type": "code",
   "execution_count": null,
   "metadata": {},
   "outputs": [],
   "source": [
    "b[0].size()"
   ]
  },
  {
   "cell_type": "code",
   "execution_count": null,
   "metadata": {},
   "outputs": [],
   "source": [
    "np.shape(r_matrix)"
   ]
  },
  {
   "cell_type": "code",
   "execution_count": null,
   "metadata": {},
   "outputs": [],
   "source": [
    "r_matrix"
   ]
  },
  {
   "cell_type": "code",
   "execution_count": null,
   "metadata": {},
   "outputs": [],
   "source": [
    "a.size()"
   ]
  },
  {
   "cell_type": "code",
   "execution_count": null,
   "metadata": {},
   "outputs": [],
   "source": [
    "b.size()"
   ]
  },
  {
   "cell_type": "code",
   "execution_count": null,
   "metadata": {},
   "outputs": [],
   "source": [
    "a"
   ]
  },
  {
   "cell_type": "code",
   "execution_count": null,
   "metadata": {},
   "outputs": [],
   "source": [
    "b"
   ]
  },
  {
   "cell_type": "code",
   "execution_count": null,
   "metadata": {},
   "outputs": [],
   "source": []
  }
 ],
 "metadata": {
  "kernelspec": {
   "display_name": "Python 3",
   "language": "python",
   "name": "python3"
  },
  "language_info": {
   "codemirror_mode": {
    "name": "ipython",
    "version": 3
   },
   "file_extension": ".py",
   "mimetype": "text/x-python",
   "name": "python",
   "nbconvert_exporter": "python",
   "pygments_lexer": "ipython3",
   "version": "3.6.7"
  }
 },
 "nbformat": 4,
 "nbformat_minor": 4
}
