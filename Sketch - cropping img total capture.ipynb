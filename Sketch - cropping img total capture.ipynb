{
 "cells": [
  {
   "cell_type": "code",
   "execution_count": 1,
   "metadata": {},
   "outputs": [],
   "source": [
    "from __future__ import division\n",
    "\n",
    "import torch\n",
    "from torch.utils.data import Dataset\n",
    "from torchvision.transforms import Normalize\n",
    "import numpy as np\n",
    "import cv2\n",
    "from os.path import join\n",
    "\n",
    "import config\n",
    "import constants\n",
    "from utils.imutils import crop, flip_img, flip_pose, flip_kp, transform, rot_aa\n",
    "\n",
    "class BaseDataset(Dataset):\n",
    "    \"\"\"\n",
    "    Base Dataset Class - Handles data loading and augmentation.\n",
    "    Able to handle heterogeneous datasets (different annotations available for different datasets).\n",
    "    You need to update the path to each dataset in utils/config.py.\n",
    "    \"\"\"\n",
    "\n",
    "    def __init__(self, options, dataset, ignore_3d=False, use_augmentation=True, is_train=True):\n",
    "        super(BaseDataset, self).__init__()\n",
    "        self.dataset = dataset\n",
    "        self.is_train = is_train\n",
    "        self.options = options\n",
    "        self.img_dir = config.DATASET_FOLDERS[dataset]\n",
    "        self.normalize_img = Normalize(mean=constants.IMG_NORM_MEAN, std=constants.IMG_NORM_STD)\n",
    "        self.data = np.load(config.DATASET_FILES[is_train][dataset])\n",
    "        self.imgname = self.data['imgname']\n",
    "        \n",
    "        # Get paths to gt masks, if available\n",
    "        try:\n",
    "            self.maskname = self.data['maskname']\n",
    "        except KeyError:\n",
    "            pass\n",
    "        try:\n",
    "            self.partname = self.data['partname']\n",
    "        except KeyError:\n",
    "            pass\n",
    "\n",
    "        # Bounding boxes are assumed to be in the center and scale format\n",
    "        self.scale = self.data['scale']\n",
    "        self.center = self.data['center']\n",
    "        \n",
    "        # If False, do not do augmentation\n",
    "        self.use_augmentation = use_augmentation\n",
    "        \n",
    "        # Get gt SMPL parameters, if available\n",
    "        try:\n",
    "            self.pose = self.data['pose'].astype(np.float)\n",
    "            self.betas = self.data['shape'].astype(np.float)\n",
    "            if 'has_smpl' in self.data:\n",
    "                self.has_smpl = self.data['has_smpl']\n",
    "            else:\n",
    "                self.has_smpl = np.ones(len(self.imgname))\n",
    "        except KeyError:\n",
    "            self.has_smpl = np.zeros(len(self.imgname))\n",
    "        if ignore_3d:\n",
    "            self.has_smpl = np.zeros(len(self.imgname))\n",
    "        \n",
    "        # Get gt 3D pose, if available\n",
    "        try:\n",
    "            self.pose_3d = self.data['S']\n",
    "            self.has_pose_3d = 1\n",
    "        except KeyError:\n",
    "            self.has_pose_3d = 0\n",
    "        if ignore_3d:\n",
    "            self.has_pose_3d = 0\n",
    "        \n",
    "        # Get 2D keypoints\n",
    "        try:\n",
    "            keypoints_gt = self.data['part']\n",
    "        except KeyError:\n",
    "            keypoints_gt = np.zeros((len(self.imgname), 24, 3))\n",
    "        try:\n",
    "            keypoints_openpose = self.data['openpose']\n",
    "        except KeyError:\n",
    "            keypoints_openpose = np.zeros((len(self.imgname), 25, 3))\n",
    "        self.keypoints = np.concatenate([keypoints_openpose, keypoints_gt], axis=1)\n",
    "\n",
    "        # Get gender data, if available\n",
    "        try:\n",
    "            gender = self.data['gender']\n",
    "            self.gender = np.array([0 if str(g) == 'm' else 1 for g in gender]).astype(np.int32)\n",
    "        except KeyError:\n",
    "            self.gender = -1*np.ones(len(self.imgname)).astype(np.int32)\n",
    "        \n",
    "        self.length = self.scale.shape[0]\n",
    "\n",
    "    def augm_params(self):\n",
    "        \"\"\"Get augmentation parameters.\"\"\"\n",
    "        flip = 0            # flipping\n",
    "        pn = np.ones(3)  # per channel pixel-noise\n",
    "        rot = 0            # rotation\n",
    "        sc = 1            # scaling\n",
    "        if self.is_train:\n",
    "            # We flip with probability 1/2\n",
    "            if np.random.uniform() <= 0.5:\n",
    "                flip = 1\n",
    "            \n",
    "            # Each channel is multiplied with a number \n",
    "            # in the area [1-opt.noiseFactor,1+opt.noiseFactor]\n",
    "            pn = np.random.uniform(1-self.options.noise_factor, 1+self.options.noise_factor, 3)\n",
    "            \n",
    "            # The rotation is a number in the area [-2*rotFactor, 2*rotFactor]\n",
    "            rot = min(2*self.options.rot_factor,\n",
    "                    max(-2*self.options.rot_factor, np.random.randn()*self.options.rot_factor))\n",
    "            \n",
    "            # The scale is multiplied with a number\n",
    "            # in the area [1-scaleFactor,1+scaleFactor]\n",
    "            sc = min(1+self.options.scale_factor,\n",
    "                    max(1-self.options.scale_factor, np.random.randn()*self.options.scale_factor+1))\n",
    "            # but it is zero with probability 3/5\n",
    "            if np.random.uniform() <= 0.6:\n",
    "                rot = 0\n",
    "        \n",
    "        return flip, pn, rot, sc\n",
    "\n",
    "    def rgb_processing(self, rgb_img, center, scale, rot, flip, pn):\n",
    "        \"\"\"Process rgb image and do augmentation.\"\"\"\n",
    "        rgb_img = crop(rgb_img, center, scale, \n",
    "                      [constants.IMG_RES, constants.IMG_RES], rot=rot)\n",
    "        # flip the image \n",
    "        if flip:\n",
    "            rgb_img = flip_img(rgb_img)\n",
    "        # in the rgb image we add pixel noise in a channel-wise manner\n",
    "        rgb_img[:,:,0] = np.minimum(255.0, np.maximum(0.0, rgb_img[:,:,0]*pn[0]))\n",
    "        rgb_img[:,:,1] = np.minimum(255.0, np.maximum(0.0, rgb_img[:,:,1]*pn[1]))\n",
    "        rgb_img[:,:,2] = np.minimum(255.0, np.maximum(0.0, rgb_img[:,:,2]*pn[2]))\n",
    "        # (3,224,224),float,[0,1]\n",
    "        rgb_img = np.transpose(rgb_img.astype('float32'),(2,0,1))/255.0\n",
    "        return rgb_img\n",
    "\n",
    "    def j2d_processing(self, kp, center, scale, r, f):\n",
    "        \"\"\"Process gt 2D keypoints and apply all augmentation transforms.\"\"\"\n",
    "        nparts = kp.shape[0]\n",
    "        for i in range(nparts):\n",
    "            kp[i,0:2] = transform(kp[i,0:2]+1, center, scale, \n",
    "                                  [constants.IMG_RES, constants.IMG_RES], rot=r)\n",
    "        # convert to normalized coordinates\n",
    "        kp[:,:-1] = 2.*kp[:,:-1]/constants.IMG_RES - 1.\n",
    "        # flip the x coordinates\n",
    "        if f:\n",
    "             kp = flip_kp(kp)\n",
    "        kp = kp.astype('float32')\n",
    "        return kp\n",
    "\n",
    "    def j3d_processing(self, S, r, f):\n",
    "        \"\"\"Process gt 3D keypoints and apply all augmentation transforms.\"\"\"\n",
    "        # in-plane rotation\n",
    "        rot_mat = np.eye(3)\n",
    "        if not r == 0:\n",
    "            rot_rad = -r * np.pi / 180\n",
    "            sn,cs = np.sin(rot_rad), np.cos(rot_rad)\n",
    "            rot_mat[0,:2] = [cs, -sn]\n",
    "            rot_mat[1,:2] = [sn, cs]\n",
    "        S[:, :-1] = np.einsum('ij,kj->ki', rot_mat, S[:, :-1]) \n",
    "        # flip the x coordinates\n",
    "        if f:\n",
    "            S = flip_kp(S)\n",
    "        S = S.astype('float32')\n",
    "        return S\n",
    "\n",
    "    def pose_processing(self, pose, r, f):\n",
    "        \"\"\"Process SMPL theta parameters  and apply all augmentation transforms.\"\"\"\n",
    "        # rotation or the pose parameters\n",
    "        pose[:3] = rot_aa(pose[:3], r)\n",
    "        # flip the pose parameters\n",
    "        if f:\n",
    "            pose = flip_pose(pose)\n",
    "        # (72),float\n",
    "        pose = pose.astype('float32')\n",
    "        return pose\n",
    "\n",
    "    def __getitem__(self, index):\n",
    "        item = {}\n",
    "        scale = self.scale[index].copy()\n",
    "        center = self.center[index].copy()\n",
    "\n",
    "        # Get augmentation parameters\n",
    "        flip, pn, rot, sc = self.augm_params()\n",
    "        \n",
    "        # Load image\n",
    "        imgname = join(self.img_dir, self.imgname[index])\n",
    "        try:\n",
    "            img = cv2.imread(imgname)[:,:,::-1].copy().astype(np.float32)\n",
    "        except TypeError:\n",
    "            print(imgname)\n",
    "        orig_shape = np.array(img.shape)[:2]\n",
    "\n",
    "        # Get SMPL parameters, if available\n",
    "        if self.has_smpl[index]:\n",
    "            pose = self.pose[index].copy()\n",
    "            betas = self.betas[index].copy()\n",
    "        else:\n",
    "            pose = np.zeros(72)\n",
    "            betas = np.zeros(10)\n",
    "\n",
    "        # Process image\n",
    "        img = self.rgb_processing(img, center, sc*scale, rot, flip, pn)\n",
    "        img = torch.from_numpy(img).float()\n",
    "        # Store image before normalization to use it in visualization\n",
    "        item['img'] = self.normalize_img(img)\n",
    "        item['pose'] = torch.from_numpy(self.pose_processing(pose, rot, flip)).float()\n",
    "        item['betas'] = torch.from_numpy(betas).float()\n",
    "        item['imgname'] = imgname\n",
    "\n",
    "        # Get 3D pose, if available\n",
    "        if self.has_pose_3d:\n",
    "            S = self.pose_3d[index].copy()\n",
    "            item['pose_3d'] = torch.from_numpy(self.j3d_processing(S, rot, flip)).float()\n",
    "        else:\n",
    "            item['pose_3d'] = torch.zeros(24,4, dtype=torch.float32)\n",
    "\n",
    "        # Get 2D keypoints and apply augmentation transforms\n",
    "        keypoints = self.keypoints[index].copy()\n",
    "        item['keypoints'] = torch.from_numpy(self.j2d_processing(keypoints, center, sc*scale, rot, flip)).float()\n",
    "\n",
    "        item['has_smpl'] = self.has_smpl[index]\n",
    "        item['has_pose_3d'] = self.has_pose_3d\n",
    "        item['scale'] = float(sc * scale)\n",
    "        item['center'] = center.astype(np.float32)\n",
    "        item['orig_shape'] = orig_shape\n",
    "        item['is_flipped'] = flip\n",
    "        item['rot_angle'] = np.float32(rot)\n",
    "        item['gender'] = self.gender[index]\n",
    "        item['sample_index'] = index\n",
    "        item['dataset_name'] = self.dataset\n",
    "\n",
    "        try:\n",
    "            item['maskname'] = self.maskname[index]\n",
    "        except AttributeError:\n",
    "            item['maskname'] = ''\n",
    "        try:\n",
    "            item['partname'] = self.partname[index]\n",
    "        except AttributeError:\n",
    "            item['partname'] = ''\n",
    "\n",
    "        return item\n",
    "\n",
    "    def __len__(self):\n",
    "        return len(self.imgname)"
   ]
  },
  {
   "cell_type": "code",
   "execution_count": 23,
   "metadata": {},
   "outputs": [
    {
     "data": {
      "text/plain": [
       "28144"
      ]
     },
     "execution_count": 23,
     "metadata": {},
     "output_type": "execute_result"
    }
   ],
   "source": [
    "class Options:\n",
    "    pass\n",
    "\n",
    "options = Options()\n",
    "\n",
    "options.noise_factor = 0.4\n",
    "options.scale_factor = 0.25\n",
    "options.rot_factor = 30\n",
    "\n",
    "total_capture = BaseDataset(options, 'total-capture')\n",
    "\n",
    "len(total_capture)"
   ]
  },
  {
   "cell_type": "code",
   "execution_count": 8,
   "metadata": {},
   "outputs": [
    {
     "data": {
      "text/plain": [
       "torch.Size([3, 224, 224])"
      ]
     },
     "execution_count": 8,
     "metadata": {},
     "output_type": "execute_result"
    }
   ],
   "source": [
    "total_capture[0]['img'].shape"
   ]
  },
  {
   "cell_type": "code",
   "execution_count": 9,
   "metadata": {},
   "outputs": [],
   "source": [
    "ds_3dpw = BaseDataset(options, '3dpw')"
   ]
  },
  {
   "cell_type": "code",
   "execution_count": 14,
   "metadata": {},
   "outputs": [
    {
     "data": {
      "text/plain": [
       "torch.Size([3, 224, 224])"
      ]
     },
     "execution_count": 14,
     "metadata": {},
     "output_type": "execute_result"
    }
   ],
   "source": [
    "ds_3dpw[0]['img'].shape"
   ]
  },
  {
   "cell_type": "code",
   "execution_count": 15,
   "metadata": {},
   "outputs": [
    {
     "name": "stderr",
     "output_type": "stream",
     "text": [
      "Clipping input data to the valid range for imshow with RGB data ([0..1] for floats or [0..255] for integers).\n"
     ]
    },
    {
     "data": {
      "image/png": "[encoded data removed]",
      "text/plain": [
       "<Figure size 432x288 with 1 Axes>"
      ]
     },
     "metadata": {
      "needs_background": "light"
     },
     "output_type": "display_data"
    }
   ],
   "source": [
    "%matplotlib inline\n",
    "\n",
    "import matplotlib.pyplot as plt\n",
    "\n",
    "img_t = total_capture[0]['img']\n",
    "\n",
    "plt.imshow(img_t.permute(1, 2, 0))\n",
    "plt.show()"
   ]
  },
  {
   "cell_type": "code",
   "execution_count": 17,
   "metadata": {},
   "outputs": [
    {
     "name": "stderr",
     "output_type": "stream",
     "text": [
      "Clipping input data to the valid range for imshow with RGB data ([0..1] for floats or [0..255] for integers).\n"
     ]
    },
    {
     "data": {
      "image/png": "[encoded data removed]",
      "text/plain": [
       "<Figure size 432x288 with 1 Axes>"
      ]
     },
     "metadata": {
      "needs_background": "light"
     },
     "output_type": "display_data"
    }
   ],
   "source": [
    "%matplotlib inline\n",
    "\n",
    "import matplotlib.pyplot as plt\n",
    "\n",
    "img_t = ds_3dpw[0]['img']\n",
    "\n",
    "plt.imshow(img_t.permute(1, 2, 0))\n",
    "plt.show()"
   ]
  },
  {
   "cell_type": "code",
   "execution_count": 19,
   "metadata": {},
   "outputs": [],
   "source": [
    "\"\"\"\n",
    "This file contains the definition of different heterogeneous datasets used for training\n",
    "\"\"\"\n",
    "import torch\n",
    "import numpy as np\n",
    "\n",
    "#from .base_dataset import BaseDataset\n",
    "\n",
    "class MixedDataset(torch.utils.data.Dataset):\n",
    "\n",
    "    def __init__(self, options, **kwargs):\n",
    "        #self.dataset_list = ['h36m', 'lsp-orig', 'mpii', 'lspet', 'coco', 'mpi-inf-3dhp']\n",
    "        self.dataset_list = ['total-capture']\n",
    "        #self.dataset_dict = {'h36m': 0, 'lsp-orig': 1, 'mpii': 2, 'lspet': 3, 'coco': 4, 'mpi-inf-3dhp': 5}\n",
    "        self.dataset_dict = {'total-capture': 0}\n",
    "        \n",
    "        self.datasets = [BaseDataset(options, ds, **kwargs) for ds in self.dataset_list]\n",
    "        total_length = sum([len(ds) for ds in self.datasets])\n",
    "        length_itw = sum([len(ds) for ds in self.datasets[1:-1]])\n",
    "        self.length = max([len(ds) for ds in self.datasets])\n",
    "        \n",
    "        \"\"\"\n",
    "        Data distribution inside each batch:\n",
    "        30% H36M - 60% ITW - 10% MPI-INF\n",
    "        \"\"\"\n",
    "        self.partition = [1]\n",
    "        self.partition = np.array(self.partition).cumsum()\n",
    "        print(self.partition)\n",
    "\n",
    "    def __getitem__(self, index):\n",
    "        p = np.random.rand()\n",
    "        for i in range(1): # Change range 6 to 2, since only two datasets will be used\n",
    "            if p <= self.partition[i]:\n",
    "                return self.datasets[i][index % len(self.datasets[i])]\n",
    "\n",
    "    def __len__(self):\n",
    "        return self.length"
   ]
  },
  {
   "cell_type": "code",
   "execution_count": 20,
   "metadata": {},
   "outputs": [
    {
     "name": "stdout",
     "output_type": "stream",
     "text": [
      "[1]\n"
     ]
    }
   ],
   "source": [
    "total_capture_mixed = MixedDataset(options)"
   ]
  },
  {
   "cell_type": "code",
   "execution_count": 47,
   "metadata": {},
   "outputs": [],
   "source": [
    "import constants\n",
    "from utils.imutils import crop, flip_img, flip_pose, flip_kp, transform, rot_aa\n",
    "\n",
    "def rgb_processing(rgb_img, center, scale, rot, flip, pn):\n",
    "        \"\"\"Process rgb image and do augmentation.\"\"\"\n",
    "        rgb_img = crop(rgb_img, center, scale, \n",
    "                      [constants.IMG_RES, constants.IMG_RES], rot=rot)\n",
    "        # flip the image \n",
    "        if flip:\n",
    "            rgb_img = flip_img(rgb_img)\n",
    "        # in the rgb image we add pixel noise in a channel-wise manner\n",
    "        rgb_img[:,:,0] = np.minimum(255.0, np.maximum(0.0, rgb_img[:,:,0]*pn[0]))\n",
    "        rgb_img[:,:,1] = np.minimum(255.0, np.maximum(0.0, rgb_img[:,:,1]*pn[1]))\n",
    "        rgb_img[:,:,2] = np.minimum(255.0, np.maximum(0.0, rgb_img[:,:,2]*pn[2]))\n",
    "        # (3,224,224),float,[0,1]\n",
    "        rgb_img = np.transpose(rgb_img.astype('float32'),(2,0,1))/255.0\n",
    "        return rgb_img"
   ]
  },
  {
   "cell_type": "code",
   "execution_count": 48,
   "metadata": {},
   "outputs": [],
   "source": [
    "import config\n",
    "import numpy as np\n",
    "import os\n",
    "\n",
    "dataset = 'total-capture'\n",
    "\n",
    "img_dir = config.DATASET_FOLDERS[dataset]\n",
    "\n",
    "npz_file = np.load('data/dataset_extras/total_capture_train.npz')\n",
    "\n",
    "imgname = os.path.join(img_dir, npz_file['imgname'][0])"
   ]
  },
  {
   "cell_type": "code",
   "execution_count": 49,
   "metadata": {},
   "outputs": [],
   "source": [
    "img = cv2.imread(imgname)[:,:,::-1].copy().astype(np.float32)"
   ]
  },
  {
   "cell_type": "code",
   "execution_count": 50,
   "metadata": {},
   "outputs": [
    {
     "data": {
      "text/plain": [
       "(1080, 1920, 3)"
      ]
     },
     "execution_count": 50,
     "metadata": {},
     "output_type": "execute_result"
    }
   ],
   "source": [
    "img.shape"
   ]
  },
  {
   "cell_type": "code",
   "execution_count": 52,
   "metadata": {},
   "outputs": [],
   "source": [
    "center = npz_file['center'][0]\n",
    "scale = npz_file['scale'][0]\n",
    "\n",
    "flip = 0\n",
    "pn = np.ones(3)\n",
    "rot = 0\n",
    "sc = 1\n",
    "\n",
    "\n",
    "img = rgb_processing(img, center, sc*scale, rot, flip, pn)"
   ]
  },
  {
   "cell_type": "code",
   "execution_count": 53,
   "metadata": {},
   "outputs": [
    {
     "data": {
      "text/plain": [
       "array([[[0.16078432, 0.15294118, 0.14901961, ..., 0.11764706,\n",
       "         0.12156863, 0.11764706],\n",
       "        [0.16470589, 0.15686275, 0.15686275, ..., 0.11764706,\n",
       "         0.11764706, 0.1254902 ],\n",
       "        [0.17254902, 0.16470589, 0.15686275, ..., 0.11764706,\n",
       "         0.12156863, 0.12156863],\n",
       "        ...,\n",
       "        [0.54509807, 0.5411765 , 0.5411765 , ..., 0.5019608 ,\n",
       "         0.49803922, 0.49803922],\n",
       "        [0.54509807, 0.5372549 , 0.53333336, ..., 0.4862745 ,\n",
       "         0.4862745 , 0.4862745 ],\n",
       "        [0.5411765 , 0.5411765 , 0.54509807, ..., 0.49019608,\n",
       "         0.4862745 , 0.47843137]],\n",
       "\n",
       "       [[0.23921569, 0.23921569, 0.23529412, ..., 0.19215687,\n",
       "         0.2       , 0.19607843],\n",
       "        [0.24313726, 0.24313726, 0.23921569, ..., 0.19215687,\n",
       "         0.19215687, 0.19607843],\n",
       "        [0.24313726, 0.24313726, 0.23921569, ..., 0.19215687,\n",
       "         0.19607843, 0.19607843],\n",
       "        ...,\n",
       "        [0.5019608 , 0.5019608 , 0.5019608 , ..., 0.45882353,\n",
       "         0.45490196, 0.45490196],\n",
       "        [0.5058824 , 0.49803922, 0.49411765, ..., 0.4509804 ,\n",
       "         0.4509804 , 0.4509804 ],\n",
       "        [0.5019608 , 0.5019608 , 0.5058824 , ..., 0.45882353,\n",
       "         0.45490196, 0.44705883]],\n",
       "\n",
       "       [[0.26666668, 0.26666668, 0.27058825, ..., 0.21176471,\n",
       "         0.21568628, 0.21176471],\n",
       "        [0.27058825, 0.27058825, 0.27058825, ..., 0.20784314,\n",
       "         0.20784314, 0.21176471],\n",
       "        [0.27450982, 0.27450982, 0.27058825, ..., 0.20784314,\n",
       "         0.21176471, 0.21176471],\n",
       "        ...,\n",
       "        [0.4117647 , 0.40392157, 0.40392157, ..., 0.3764706 ,\n",
       "         0.3764706 , 0.3764706 ],\n",
       "        [0.4117647 , 0.4       , 0.39607844, ..., 0.36862746,\n",
       "         0.36862746, 0.37254903],\n",
       "        [0.40392157, 0.40392157, 0.40784314, ..., 0.38039216,\n",
       "         0.3764706 , 0.37254903]]], dtype=float32)"
      ]
     },
     "execution_count": 53,
     "metadata": {},
     "output_type": "execute_result"
    }
   ],
   "source": [
    "img"
   ]
  },
  {
   "cell_type": "code",
   "execution_count": 1,
   "metadata": {},
   "outputs": [],
   "source": [
    "import numpy as np\n",
    "\n",
    "npz = np.load('data/dataset_extras/total_capture_train.npz')"
   ]
  },
  {
   "cell_type": "code",
   "execution_count": 3,
   "metadata": {},
   "outputs": [
    {
     "data": {
      "text/plain": [
       "28144"
      ]
     },
     "execution_count": 3,
     "metadata": {},
     "output_type": "execute_result"
    }
   ],
   "source": [
    "len(npz['imgname'])"
   ]
  },
  {
   "cell_type": "code",
   "execution_count": 4,
   "metadata": {},
   "outputs": [
    {
     "data": {
      "text/plain": [
       "'s_02_act_02_subact_01_ca_01/000000.jpg'"
      ]
     },
     "execution_count": 4,
     "metadata": {},
     "output_type": "execute_result"
    }
   ],
   "source": [
    "npz['imgname'][0]"
   ]
  },
  {
   "cell_type": "code",
   "execution_count": 5,
   "metadata": {},
   "outputs": [
    {
     "data": {
      "text/plain": [
       "'s_02_act_02_subact_01_ca_06/002410.jpg'"
      ]
     },
     "execution_count": 5,
     "metadata": {},
     "output_type": "execute_result"
    }
   ],
   "source": [
    "npz['imgname'][20000]"
   ]
  },
  {
   "cell_type": "code",
   "execution_count": 6,
   "metadata": {},
   "outputs": [
    {
     "data": {
      "text/plain": [
       "'s_02_act_02_subact_01_ca_08/003374.jpg'"
      ]
     },
     "execution_count": 6,
     "metadata": {},
     "output_type": "execute_result"
    }
   ],
   "source": [
    "npz['imgname'][28000]"
   ]
  },
  {
   "cell_type": "code",
   "execution_count": 8,
   "metadata": {},
   "outputs": [
    {
     "ename": "TypeError",
     "evalue": "'NoneType' object is not subscriptable",
     "output_type": "error",
     "traceback": [
      "\u001b[0;31m---------------------------------------------------------------------------\u001b[0m",
      "\u001b[0;31mTypeError\u001b[0m                                 Traceback (most recent call last)",
      "\u001b[0;32m<ipython-input-8-7aafde24a90d>\u001b[0m in \u001b[0;36m<module>\u001b[0;34m\u001b[0m\n\u001b[1;32m      3\u001b[0m \u001b[0mimgname\u001b[0m \u001b[0;34m=\u001b[0m \u001b[0;34m'../Datasets/TotalCapture-Toolbox/data/images/s_02_act_02_subact_01_ca_01/002342.jpg'\u001b[0m\u001b[0;34m\u001b[0m\u001b[0;34m\u001b[0m\u001b[0m\n\u001b[1;32m      4\u001b[0m \u001b[0;34m\u001b[0m\u001b[0m\n\u001b[0;32m----> 5\u001b[0;31m \u001b[0mimg\u001b[0m \u001b[0;34m=\u001b[0m \u001b[0mcv2\u001b[0m\u001b[0;34m.\u001b[0m\u001b[0mimread\u001b[0m\u001b[0;34m(\u001b[0m\u001b[0mimgname\u001b[0m\u001b[0;34m)\u001b[0m\u001b[0;34m[\u001b[0m\u001b[0;34m:\u001b[0m\u001b[0;34m,\u001b[0m\u001b[0;34m:\u001b[0m\u001b[0;34m,\u001b[0m\u001b[0;34m:\u001b[0m\u001b[0;34m:\u001b[0m\u001b[0;34m-\u001b[0m\u001b[0;36m1\u001b[0m\u001b[0;34m]\u001b[0m\u001b[0;34m.\u001b[0m\u001b[0mcopy\u001b[0m\u001b[0;34m(\u001b[0m\u001b[0;34m)\u001b[0m\u001b[0;34m.\u001b[0m\u001b[0mastype\u001b[0m\u001b[0;34m(\u001b[0m\u001b[0mnp\u001b[0m\u001b[0;34m.\u001b[0m\u001b[0mfloat32\u001b[0m\u001b[0;34m)\u001b[0m\u001b[0;34m\u001b[0m\u001b[0;34m\u001b[0m\u001b[0m\n\u001b[0m",
      "\u001b[0;31mTypeError\u001b[0m: 'NoneType' object is not subscriptable"
     ]
    }
   ],
   "source": [
    "import cv2\n",
    "\n",
    "imgname = '../Datasets/TotalCapture-Toolbox/data/images/s_02_act_02_subact_01_ca_01/002342.jpg'\n",
    "\n",
    "img = cv2.imread(imgname)[:,:,::-1].copy().astype(np.float32)"
   ]
  },
  {
   "cell_type": "code",
   "execution_count": 3,
   "metadata": {},
   "outputs": [],
   "source": [
    "import config\n",
    "import numpy as np\n",
    "import os\n",
    "import cv2\n",
    "\n",
    "dataset = 'total-capture'\n",
    "\n",
    "img_dir = config.DATASET_FOLDERS[dataset]\n",
    "\n",
    "npz_file = np.load('data/dataset_extras/total_capture_train.npz')\n",
    "\n",
    "imgname = os.path.join(img_dir, npz_file['imgname'][0])"
   ]
  },
  {
   "cell_type": "code",
   "execution_count": 4,
   "metadata": {},
   "outputs": [
    {
     "ename": "TypeError",
     "evalue": "'NoneType' object is not subscriptable",
     "output_type": "error",
     "traceback": [
      "\u001b[0;31m---------------------------------------------------------------------------\u001b[0m",
      "\u001b[0;31mTypeError\u001b[0m                                 Traceback (most recent call last)",
      "\u001b[0;32m<ipython-input-4-b8204ac281c6>\u001b[0m in \u001b[0;36m<module>\u001b[0;34m\u001b[0m\n\u001b[0;32m----> 1\u001b[0;31m \u001b[0mimg\u001b[0m \u001b[0;34m=\u001b[0m \u001b[0mcv2\u001b[0m\u001b[0;34m.\u001b[0m\u001b[0mimread\u001b[0m\u001b[0;34m(\u001b[0m\u001b[0mimgname\u001b[0m\u001b[0;34m)\u001b[0m\u001b[0;34m[\u001b[0m\u001b[0;34m:\u001b[0m\u001b[0;34m,\u001b[0m\u001b[0;34m:\u001b[0m\u001b[0;34m,\u001b[0m\u001b[0;34m:\u001b[0m\u001b[0;34m:\u001b[0m\u001b[0;34m-\u001b[0m\u001b[0;36m1\u001b[0m\u001b[0;34m]\u001b[0m\u001b[0;34m.\u001b[0m\u001b[0mcopy\u001b[0m\u001b[0;34m(\u001b[0m\u001b[0;34m)\u001b[0m\u001b[0;34m.\u001b[0m\u001b[0mastype\u001b[0m\u001b[0;34m(\u001b[0m\u001b[0mnp\u001b[0m\u001b[0;34m.\u001b[0m\u001b[0mfloat32\u001b[0m\u001b[0;34m)\u001b[0m\u001b[0;34m\u001b[0m\u001b[0;34m\u001b[0m\u001b[0m\n\u001b[0m",
      "\u001b[0;31mTypeError\u001b[0m: 'NoneType' object is not subscriptable"
     ]
    }
   ],
   "source": [
    "img = cv2.imread(imgname)[:,:,::-1].copy().astype(np.float32)"
   ]
  },
  {
   "cell_type": "code",
   "execution_count": null,
   "metadata": {},
   "outputs": [],
   "source": []
  }
 ],
 "metadata": {
  "kernelspec": {
   "display_name": "Python 3",
   "language": "python",
   "name": "python3"
  },
  "language_info": {
   "codemirror_mode": {
    "name": "ipython",
    "version": 3
   },
   "file_extension": ".py",
   "mimetype": "text/x-python",
   "name": "python",
   "nbconvert_exporter": "python",
   "pygments_lexer": "ipython3",
   "version": "3.6.7"
  }
 },
 "nbformat": 4,
 "nbformat_minor": 4
}
