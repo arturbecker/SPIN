{
 "cells": [
  {
   "cell_type": "code",
   "execution_count": 8,
   "metadata": {},
   "outputs": [],
   "source": [
    "\"\"\"\n",
    "This script can be used to evaluate a trained model on 3D pose/shape and masks/part segmentation. You first need to download the datasets and preprocess them.\n",
    "Example usage:\n",
    "```\n",
    "python3 eval.py --checkpoint=data/model_checkpoint.pt --dataset=h36m-p1 --log_freq=20\n",
    "```\n",
    "Running the above command will compute the MPJPE and Reconstruction Error on the Human3.6M dataset (Protocol I). The ```--dataset``` option can take different values based on the type of evaluation you want to perform:\n",
    "1. Human3.6M Protocol 1 ```--dataset=h36m-p1```\n",
    "2. Human3.6M Protocol 2 ```--dataset=h36m-p2```\n",
    "3. 3DPW ```--dataset=3dpw```\n",
    "4. LSP ```--dataset=lsp```\n",
    "5. MPI-INF-3DHP ```--dataset=mpi-inf-3dhp```\n",
    "\"\"\"\n",
    "\n",
    "import torch\n",
    "from torch.utils.data import DataLoader\n",
    "import numpy as np\n",
    "import cv2\n",
    "import os\n",
    "import argparse\n",
    "import json\n",
    "from collections import namedtuple\n",
    "from tqdm import tqdm\n",
    "import torchgeometry as tgm\n",
    "\n",
    "import config\n",
    "import constants\n",
    "from models import hmr, SMPL\n",
    "from datasets import BaseDataset\n",
    "from utils.imutils import uncrop\n",
    "from utils.pose_utils import reconstruction_error\n",
    "from utils.part_utils import PartRenderer\n",
    "\n",
    "from orientation_evaluation import orientation_evaluation\n",
    "from scipy.spatial.transform import Rotation as R\n",
    "\n",
    "# Define command-line arguments\n",
    "parser = argparse.ArgumentParser()\n",
    "parser.add_argument('--checkpoint', default=None, help='Path to network checkpoint')\n",
    "parser.add_argument('--dataset', default='h36m-p1', choices=['h36m-p1', 'h36m-p2', 'lsp', '3dpw', 'mpi-inf-3dhp'], help='Choose evaluation dataset')\n",
    "parser.add_argument('--log_freq', default=50, type=int, help='Frequency of printing intermediate results')\n",
    "parser.add_argument('--batch_size', default=32, help='Batch size for testing')\n",
    "parser.add_argument('--shuffle', default=False, action='store_true', help='Shuffle data')\n",
    "parser.add_argument('--num_workers', default=8, type=int, help='Number of processes for data loading')\n",
    "parser.add_argument('--result_file', default=None, help='If set, save detections to a .npz file')\n",
    "\n",
    "def run_evaluation(model, dataset_name, dataset, result_file,\n",
    "                   batch_size=32, img_res=224, \n",
    "                   num_workers=32, shuffle=False, log_freq=50):\n",
    "    \"\"\"Run evaluation on the datasets and metrics we report in the paper. \"\"\"\n",
    "\n",
    "    device = torch.device('cuda') if torch.cuda.is_available() else torch.device('cpu')\n",
    "\n",
    "    # Transfer model to the GPU\n",
    "    model.to(device)\n",
    "\n",
    "    # Load SMPL model\n",
    "    smpl_neutral = SMPL(config.SMPL_MODEL_DIR,\n",
    "                        create_transl=False).to(device)\n",
    "    smpl_male = SMPL(config.SMPL_MODEL_DIR,\n",
    "                     gender='male',\n",
    "                     create_transl=False).to(device)\n",
    "    smpl_female = SMPL(config.SMPL_MODEL_DIR,\n",
    "                       gender='female',\n",
    "                       create_transl=False).to(device)\n",
    "    \n",
    "    renderer = PartRenderer()\n",
    "    \n",
    "    # Regressor for H36m joints\n",
    "    J_regressor = torch.from_numpy(np.load(config.JOINT_REGRESSOR_H36M)).float()\n",
    "    \n",
    "    save_results = result_file is not None\n",
    "    # Disable shuffling if you want to save the results\n",
    "    if save_results:\n",
    "        shuffle=False\n",
    "    # Create dataloader for the dataset\n",
    "    data_loader = DataLoader(dataset, batch_size=batch_size, shuffle=shuffle, num_workers=num_workers)\n",
    "    \n",
    "    # Pose metrics\n",
    "    # MPJPE and Reconstruction error for the non-parametric and parametric shapes\n",
    "    mpjpe = np.zeros(len(dataset))\n",
    "    recon_err = np.zeros(len(dataset))\n",
    "    mpjpe_smpl = np.zeros(len(dataset))\n",
    "    recon_err_smpl = np.zeros(len(dataset))\n",
    "    \n",
    "    # Including mean per joint angular error (reduced and per part)\n",
    "    mpjae = np.zeros(len(dataset))\n",
    "    mpjae_per_part = torch.zeros(len(dataset), 24, 3)\n",
    "\n",
    "    # Shape metrics\n",
    "    # Mean per-vertex error\n",
    "    shape_err = np.zeros(len(dataset))\n",
    "    shape_err_smpl = np.zeros(len(dataset))\n",
    "\n",
    "    # Mask and part metrics\n",
    "    # Accuracy\n",
    "    accuracy = 0.\n",
    "    parts_accuracy = 0.\n",
    "    # True positive, false positive and false negative\n",
    "    tp = np.zeros((2,1))\n",
    "    fp = np.zeros((2,1))\n",
    "    fn = np.zeros((2,1))\n",
    "    parts_tp = np.zeros((7,1))\n",
    "    parts_fp = np.zeros((7,1))\n",
    "    parts_fn = np.zeros((7,1))\n",
    "    # Pixel count accumulators\n",
    "    pixel_count = 0\n",
    "    parts_pixel_count = 0\n",
    "\n",
    "    # Store SMPL parameters\n",
    "    smpl_pose = np.zeros((len(dataset), 72))\n",
    "    smpl_betas = np.zeros((len(dataset), 10))\n",
    "    smpl_camera = np.zeros((len(dataset), 3))\n",
    "    pred_joints = np.zeros((len(dataset), 17, 3))\n",
    "\n",
    "    eval_pose = False\n",
    "    eval_masks = False\n",
    "    eval_parts = False\n",
    "    eval_orientation = False # Adding the orientation parameter\n",
    "    # Choose appropriate evaluation for each dataset\n",
    "    if dataset_name == 'h36m-p1' or dataset_name == 'h36m-p2' or dataset_name == 'mpi-inf-3dhp':\n",
    "        eval_pose = True\n",
    "    elif dataset_name == 'lsp':\n",
    "        eval_masks = True\n",
    "        eval_parts = True\n",
    "        annot_path = config.DATASET_FOLDERS['upi-s1h']\n",
    "    elif dataset_name == '3dpw':\n",
    "        eval_orientation = True\n",
    "        eval_pose = True\n",
    "        \n",
    "\n",
    "    joint_mapper_h36m = constants.H36M_TO_J17 if dataset_name == 'mpi-inf-3dhp' else constants.H36M_TO_J14\n",
    "    joint_mapper_gt = constants.J24_TO_J17 if dataset_name == 'mpi-inf-3dhp' else constants.J24_TO_J14\n",
    "    # Iterate over the entire dataset\n",
    "    for step, batch in enumerate(tqdm(data_loader, desc='Eval', total=len(data_loader))):\n",
    "        # Get ground truth annotations from the batch\n",
    "        gt_pose = batch['pose'].to(device)\n",
    "        gt_betas = batch['betas'].to(device)\n",
    "        gt_vertices = smpl_neutral(betas=gt_betas, body_pose=gt_pose[:, 3:], global_orient=gt_pose[:, :3]).vertices\n",
    "        images = batch['img'].to(device)\n",
    "        gender = batch['gender'].to(device)\n",
    "        curr_batch_size = images.shape[0]\n",
    "        \n",
    "        with torch.no_grad():\n",
    "            pred_rotmat, pred_betas, pred_camera = model(images)\n",
    "            pred_output = smpl_neutral(betas=pred_betas, body_pose=pred_rotmat[:,1:], global_orient=pred_rotmat[:,0].unsqueeze(1), pose2rot=False)\n",
    "            pred_vertices = pred_output.vertices\n",
    "\n",
    "        if save_results:\n",
    "            rot_pad = torch.tensor([0,0,1], dtype=torch.float32, device=device).view(1,3,1)\n",
    "            rotmat = torch.cat((pred_rotmat.view(-1, 3, 3), rot_pad.expand(curr_batch_size * 24, -1, -1)), dim=-1)\n",
    "            pred_pose = tgm.rotation_matrix_to_angle_axis(rotmat).contiguous().view(-1, 72)\n",
    "            smpl_pose[step * batch_size:step * batch_size + curr_batch_size, :] = pred_pose.cpu().numpy()\n",
    "            smpl_betas[step * batch_size:step * batch_size + curr_batch_size, :]  = pred_betas.cpu().numpy()\n",
    "            smpl_camera[step * batch_size:step * batch_size + curr_batch_size, :]  = pred_camera.cpu().numpy()\n",
    "        \n",
    "        # Orientation evaluation\n",
    "        orientation_error_per_part, orientation_error, orientation_error_new = \\\n",
    "        orientation_evaluation(gt_pose, pred_rotmat, batch_size, curr_batch_size, step)\n",
    "        \n",
    "        mpjae[step * batch_size:step * batch_size + curr_batch_size] = orientation_error_new\n",
    "        mpjae_per_part[step*batch_size : step*batch_size + curr_batch_size] = orientation_error_per_part\n",
    "            \n",
    "        # 3D pose evaluation\n",
    "        if eval_pose:\n",
    "            # Regressor broadcasting\n",
    "            J_regressor_batch = J_regressor[None, :].expand(pred_vertices.shape[0], -1, -1).to(device)\n",
    "            # Get 14 ground truth joints\n",
    "            if 'h36m' in dataset_name or 'mpi-inf' in dataset_name:\n",
    "                gt_keypoints_3d = batch['pose_3d'].cuda()\n",
    "                gt_keypoints_3d = gt_keypoints_3d[:, joint_mapper_gt, :-1]\n",
    "            # For 3DPW get the 14 common joints from the rendered shape\n",
    "            else:\n",
    "                gt_vertices = smpl_male(global_orient=gt_pose[:,:3], body_pose=gt_pose[:,3:], betas=gt_betas).vertices \n",
    "                gt_vertices_female = smpl_female(global_orient=gt_pose[:,:3], body_pose=gt_pose[:,3:], betas=gt_betas).vertices \n",
    "                gt_vertices[gender==1, :, :] = gt_vertices_female[gender==1, :, :]\n",
    "                gt_keypoints_3d = torch.matmul(J_regressor_batch, gt_vertices)\n",
    "                gt_pelvis = gt_keypoints_3d[:, [0],:].clone()\n",
    "                gt_keypoints_3d = gt_keypoints_3d[:, joint_mapper_h36m, :]\n",
    "                gt_keypoints_3d = gt_keypoints_3d - gt_pelvis \n",
    "\n",
    "\n",
    "            # Get 14 predicted joints from the mesh\n",
    "            pred_keypoints_3d = torch.matmul(J_regressor_batch, pred_vertices)\n",
    "            if save_results:\n",
    "                pred_joints[step * batch_size:step * batch_size + curr_batch_size, :, :]  = pred_keypoints_3d.cpu().numpy()\n",
    "            pred_pelvis = pred_keypoints_3d[:, [0],:].clone()\n",
    "            pred_keypoints_3d = pred_keypoints_3d[:, joint_mapper_h36m, :]\n",
    "            pred_keypoints_3d = pred_keypoints_3d - pred_pelvis \n",
    "\n",
    "            # Absolute error (MPJPE)\n",
    "            error = torch.sqrt(((pred_keypoints_3d - gt_keypoints_3d) ** 2).sum(dim=-1)).mean(dim=-1).cpu().numpy()\n",
    "            mpjpe[step * batch_size:step * batch_size + curr_batch_size] = error\n",
    "\n",
    "            # Reconstuction_error\n",
    "            r_error = reconstruction_error(pred_keypoints_3d.cpu().numpy(), gt_keypoints_3d.cpu().numpy(), reduction=None)\n",
    "            recon_err[step * batch_size:step * batch_size + curr_batch_size] = r_error\n",
    "\n",
    "\n",
    "        # If mask or part evaluation, render the mask and part images\n",
    "        if eval_masks or eval_parts:\n",
    "            mask, parts = renderer(pred_vertices, pred_camera)\n",
    "\n",
    "        # Mask evaluation (for LSP)\n",
    "        if eval_masks:\n",
    "            center = batch['center'].cpu().numpy()\n",
    "            scale = batch['scale'].cpu().numpy()\n",
    "            # Dimensions of original image\n",
    "            orig_shape = batch['orig_shape'].cpu().numpy()\n",
    "            for i in range(curr_batch_size):\n",
    "                # After rendering, convert imate back to original resolution\n",
    "                pred_mask = uncrop(mask[i].cpu().numpy(), center[i], scale[i], orig_shape[i]) > 0\n",
    "                # Load gt mask\n",
    "                gt_mask = cv2.imread(os.path.join(annot_path, batch['maskname'][i]), 0) > 0\n",
    "                # Evaluation consistent with the original UP-3D code\n",
    "                accuracy += (gt_mask == pred_mask).sum()\n",
    "                pixel_count += np.prod(np.array(gt_mask.shape))\n",
    "                for c in range(2):\n",
    "                    cgt = gt_mask == c\n",
    "                    cpred = pred_mask == c\n",
    "                    tp[c] += (cgt & cpred).sum()\n",
    "                    fp[c] +=  (~cgt & cpred).sum()\n",
    "                    fn[c] +=  (cgt & ~cpred).sum()\n",
    "                f1 = 2 * tp / (2 * tp + fp + fn)\n",
    "\n",
    "        # Part evaluation (for LSP)\n",
    "        if eval_parts:\n",
    "            center = batch['center'].cpu().numpy()\n",
    "            scale = batch['scale'].cpu().numpy()\n",
    "            orig_shape = batch['orig_shape'].cpu().numpy()\n",
    "            for i in range(curr_batch_size):\n",
    "                pred_parts = uncrop(parts[i].cpu().numpy().astype(np.uint8), center[i], scale[i], orig_shape[i])\n",
    "                # Load gt part segmentation\n",
    "                gt_parts = cv2.imread(os.path.join(annot_path, batch['partname'][i]), 0)\n",
    "                # Evaluation consistent with the original UP-3D code\n",
    "                # 6 parts + background\n",
    "                for c in range(7):\n",
    "                   cgt = gt_parts == c\n",
    "                   cpred = pred_parts == c\n",
    "                   cpred[gt_parts == 255] = 0\n",
    "                   parts_tp[c] += (cgt & cpred).sum()\n",
    "                   parts_fp[c] +=  (~cgt & cpred).sum()\n",
    "                   parts_fn[c] +=  (cgt & ~cpred).sum()\n",
    "                gt_parts[gt_parts == 255] = 0\n",
    "                pred_parts[pred_parts == 255] = 0\n",
    "                parts_f1 = 2 * parts_tp / (2 * parts_tp + parts_fp + parts_fn)\n",
    "                parts_accuracy += (gt_parts == pred_parts).sum()\n",
    "                parts_pixel_count += np.prod(np.array(gt_parts.shape))\n",
    "\n",
    "        # Print intermediate results during evaluation\n",
    "        if step % log_freq == log_freq - 1:\n",
    "            if eval_pose:\n",
    "                print('MPJPE: ' + str(1000 * mpjpe[:step * batch_size].mean()))\n",
    "                print('Reconstruction Error: ' + str(1000 * recon_err[:step * batch_size].mean()))\n",
    "                print()\n",
    "            if eval_masks:\n",
    "                print('Accuracy: ', accuracy / pixel_count)\n",
    "                print('F1: ', f1.mean())\n",
    "                print()\n",
    "            if eval_parts:\n",
    "                print('Parts Accuracy: ', parts_accuracy / parts_pixel_count)\n",
    "                print('Parts F1 (BG): ', parts_f1[[0,1,2,3,4,5,6]].mean())\n",
    "                print()\n",
    "            if eval_orientation:\n",
    "                print('Orientation error: ' + str(mpjae[:step * batch_size].mean()))\n",
    "\n",
    "    # Save reconstructions to a file for further processing\n",
    "    if save_results:\n",
    "        np.savez(result_file, pred_joints=pred_joints, pose=smpl_pose, betas=smpl_betas, camera=smpl_camera)\n",
    "    # Print final results during evaluation\n",
    "    print('*** Final Results ***')\n",
    "    print()\n",
    "    if eval_pose:\n",
    "        print('MPJPE: ' + str(1000 * mpjpe.mean()))\n",
    "        print('Reconstruction Error: ' + str(1000 * recon_err.mean()))\n",
    "        print()\n",
    "    if eval_masks:\n",
    "        print('Accuracy: ', accuracy / pixel_count)\n",
    "        print('F1: ', f1.mean())\n",
    "        print()\n",
    "    if eval_parts:\n",
    "        print('Parts Accuracy: ', parts_accuracy / parts_pixel_count)\n",
    "        print('Parts F1 (BG): ', parts_f1[[0,1,2,3,4,5,6]].mean())\n",
    "        print()\n",
    "    if eval_orientation:\n",
    "        print('Orientation Error: ' + str(mpjae.mean()))\n",
    "        print('Orientation Error per part: ', mpjae_per_part)\n",
    "        torch.save(mpjae_per_part, 'mpjae_per_part.pt')"
   ]
  },
  {
   "cell_type": "code",
   "execution_count": 9,
   "metadata": {
    "scrolled": true
   },
   "outputs": [
    {
     "name": "stderr",
     "output_type": "stream",
     "text": [
      "Eval:   2%|▏         | 20/1110 [00:52<24:53,  1.37s/it]  "
     ]
    },
    {
     "name": "stdout",
     "output_type": "stream",
     "text": [
      "MPJPE: 81.37874403282215\n",
      "Reconstruction Error: 41.73969471900675\n",
      "\n",
      "Orientation error: 8.301217391926139\n"
     ]
    },
    {
     "name": "stderr",
     "output_type": "stream",
     "text": [
      "Eval:   4%|▎         | 40/1110 [01:01<12:28,  1.43it/s]"
     ]
    },
    {
     "name": "stdout",
     "output_type": "stream",
     "text": [
      "MPJPE: 93.01356022031261\n",
      "Reconstruction Error: 45.72069009867473\n",
      "\n",
      "Orientation error: 8.917448099172002\n"
     ]
    },
    {
     "name": "stderr",
     "output_type": "stream",
     "text": [
      "Eval:   5%|▌         | 60/1110 [01:25<07:32,  2.32it/s]  "
     ]
    },
    {
     "name": "stdout",
     "output_type": "stream",
     "text": [
      "MPJPE: 101.09796959480619\n",
      "Reconstruction Error: 51.432238564179364\n",
      "\n",
      "Orientation error: 9.283912416846842\n"
     ]
    },
    {
     "name": "stderr",
     "output_type": "stream",
     "text": [
      "Eval:   7%|▋         | 80/1110 [01:35<16:00,  1.07it/s]"
     ]
    },
    {
     "name": "stdout",
     "output_type": "stream",
     "text": [
      "MPJPE: 98.7467867649408\n",
      "Reconstruction Error: 52.1927023537846\n",
      "\n",
      "Orientation error: 9.357562113788697\n"
     ]
    },
    {
     "name": "stderr",
     "output_type": "stream",
     "text": [
      "Eval:   9%|▉         | 100/1110 [01:54<08:04,  2.09it/s] "
     ]
    },
    {
     "name": "stdout",
     "output_type": "stream",
     "text": [
      "MPJPE: 98.17523845574921\n",
      "Reconstruction Error: 52.06985538002254\n",
      "\n",
      "Orientation error: 9.492716857255799\n"
     ]
    },
    {
     "name": "stderr",
     "output_type": "stream",
     "text": [
      "Eval:  11%|█         | 120/1110 [02:14<12:28,  1.32it/s]"
     ]
    },
    {
     "name": "stdout",
     "output_type": "stream",
     "text": [
      "MPJPE: 96.07387304662124\n",
      "Reconstruction Error: 52.26824514395675\n",
      "\n",
      "Orientation error: 9.43975521834012\n"
     ]
    },
    {
     "name": "stderr",
     "output_type": "stream",
     "text": [
      "Eval:  13%|█▎        | 140/1110 [02:30<07:17,  2.22it/s]"
     ]
    },
    {
     "name": "stdout",
     "output_type": "stream",
     "text": [
      "MPJPE: 95.53847144434911\n",
      "Reconstruction Error: 54.08132505995094\n",
      "\n",
      "Orientation error: 9.605082343641998\n"
     ]
    },
    {
     "name": "stderr",
     "output_type": "stream",
     "text": [
      "Eval:  14%|█▍        | 160/1110 [02:58<19:15,  1.22s/it]  "
     ]
    },
    {
     "name": "stdout",
     "output_type": "stream",
     "text": [
      "MPJPE: 98.54347701696972\n",
      "Reconstruction Error: 56.634753527348195\n",
      "\n",
      "Orientation error: 9.98932664327239\n"
     ]
    },
    {
     "name": "stderr",
     "output_type": "stream",
     "text": [
      "Eval:  16%|█▌        | 180/1110 [03:12<06:48,  2.28it/s]"
     ]
    },
    {
     "name": "stdout",
     "output_type": "stream",
     "text": [
      "MPJPE: 99.73491341728905\n",
      "Reconstruction Error: 58.15416857451929\n",
      "\n",
      "Orientation error: 10.074377547260031\n"
     ]
    },
    {
     "name": "stderr",
     "output_type": "stream",
     "text": [
      "Eval:  18%|█▊        | 200/1110 [03:28<21:40,  1.43s/it]"
     ]
    },
    {
     "name": "stdout",
     "output_type": "stream",
     "text": [
      "MPJPE: 99.64782742832567\n",
      "Reconstruction Error: 60.30048787694462\n",
      "\n",
      "Orientation error: 10.417564531309836\n"
     ]
    },
    {
     "name": "stderr",
     "output_type": "stream",
     "text": [
      "Eval:  20%|█▉        | 220/1110 [03:36<06:30,  2.28it/s]"
     ]
    },
    {
     "name": "stdout",
     "output_type": "stream",
     "text": [
      "MPJPE: 101.72668339038209\n",
      "Reconstruction Error: 60.335253251846204\n",
      "\n",
      "Orientation error: 10.298260807738503\n"
     ]
    },
    {
     "name": "stderr",
     "output_type": "stream",
     "text": [
      "Eval:  22%|██▏       | 240/1110 [03:47<15:38,  1.08s/it]"
     ]
    },
    {
     "name": "stdout",
     "output_type": "stream",
     "text": [
      "MPJPE: 101.2261059012451\n",
      "Reconstruction Error: 59.34126633336324\n",
      "\n",
      "Orientation error: 10.098604911945815\n"
     ]
    },
    {
     "name": "stderr",
     "output_type": "stream",
     "text": [
      "Eval:  23%|██▎       | 260/1110 [03:57<07:06,  1.99it/s]"
     ]
    },
    {
     "name": "stdout",
     "output_type": "stream",
     "text": [
      "MPJPE: 101.41501063166338\n",
      "Reconstruction Error: 59.57728412031991\n",
      "\n",
      "Orientation error: 9.885730506637461\n"
     ]
    },
    {
     "name": "stderr",
     "output_type": "stream",
     "text": [
      "Eval:  25%|██▌       | 280/1110 [04:07<07:02,  1.97it/s]"
     ]
    },
    {
     "name": "stdout",
     "output_type": "stream",
     "text": [
      "MPJPE: 102.28858076288002\n",
      "Reconstruction Error: 59.867952756899136\n",
      "\n",
      "Orientation error: 9.770727506474236\n"
     ]
    },
    {
     "name": "stderr",
     "output_type": "stream",
     "text": [
      "Eval:  27%|██▋       | 300/1110 [04:18<07:43,  1.75it/s]"
     ]
    },
    {
     "name": "stdout",
     "output_type": "stream",
     "text": [
      "MPJPE: 101.2368943148221\n",
      "Reconstruction Error: 59.40012613301287\n",
      "\n",
      "Orientation error: 9.699317643240029\n"
     ]
    },
    {
     "name": "stderr",
     "output_type": "stream",
     "text": [
      "Eval:  29%|██▉       | 320/1110 [04:30<06:30,  2.02it/s]"
     ]
    },
    {
     "name": "stdout",
     "output_type": "stream",
     "text": [
      "MPJPE: 100.787596164715\n",
      "Reconstruction Error: 58.77969346847093\n",
      "\n",
      "Orientation error: 9.638661989302124\n"
     ]
    },
    {
     "name": "stderr",
     "output_type": "stream",
     "text": [
      "Eval:  31%|███       | 340/1110 [04:40<06:14,  2.06it/s]"
     ]
    },
    {
     "name": "stdout",
     "output_type": "stream",
     "text": [
      "MPJPE: 99.71019655986686\n",
      "Reconstruction Error: 58.42986403965147\n",
      "\n",
      "Orientation error: 9.644130566835804\n"
     ]
    },
    {
     "name": "stderr",
     "output_type": "stream",
     "text": [
      "Eval:  32%|███▏      | 360/1110 [04:49<06:17,  1.98it/s]"
     ]
    },
    {
     "name": "stdout",
     "output_type": "stream",
     "text": [
      "MPJPE: 99.22611367989923\n",
      "Reconstruction Error: 58.74572166184633\n",
      "\n",
      "Orientation error: 9.702722487781003\n"
     ]
    },
    {
     "name": "stderr",
     "output_type": "stream",
     "text": [
      "Eval:  34%|███▍      | 380/1110 [04:57<04:34,  2.66it/s]"
     ]
    },
    {
     "name": "stdout",
     "output_type": "stream",
     "text": [
      "MPJPE: 97.52136656196203\n",
      "Reconstruction Error: 58.06407751699806\n",
      "\n",
      "Orientation error: 9.666777709845965\n"
     ]
    },
    {
     "name": "stderr",
     "output_type": "stream",
     "text": [
      "Eval:  36%|███▌      | 400/1110 [05:07<07:27,  1.59it/s]"
     ]
    },
    {
     "name": "stdout",
     "output_type": "stream",
     "text": [
      "MPJPE: 96.97976527603711\n",
      "Reconstruction Error: 58.0197731418101\n",
      "\n",
      "Orientation error: 9.65897574341051\n"
     ]
    },
    {
     "name": "stderr",
     "output_type": "stream",
     "text": [
      "Eval:  38%|███▊      | 420/1110 [05:18<06:03,  1.90it/s]"
     ]
    },
    {
     "name": "stdout",
     "output_type": "stream",
     "text": [
      "MPJPE: 97.04290869254574\n",
      "Reconstruction Error: 58.60944849390065\n",
      "\n",
      "Orientation error: 9.630202759782692\n"
     ]
    },
    {
     "name": "stderr",
     "output_type": "stream",
     "text": [
      "Eval:  40%|███▉      | 440/1110 [05:29<07:11,  1.55it/s]"
     ]
    },
    {
     "name": "stdout",
     "output_type": "stream",
     "text": [
      "MPJPE: 97.13350864210015\n",
      "Reconstruction Error: 58.6497318643996\n",
      "\n",
      "Orientation error: 9.65047314931424\n"
     ]
    },
    {
     "name": "stderr",
     "output_type": "stream",
     "text": [
      "Eval:  41%|████▏     | 460/1110 [05:40<05:30,  1.96it/s]"
     ]
    },
    {
     "name": "stdout",
     "output_type": "stream",
     "text": [
      "MPJPE: 96.64615257318519\n",
      "Reconstruction Error: 58.50512616200401\n",
      "\n",
      "Orientation error: 9.62443830232045\n"
     ]
    },
    {
     "name": "stderr",
     "output_type": "stream",
     "text": [
      "Eval:  43%|████▎     | 480/1110 [05:52<05:22,  1.95it/s]"
     ]
    },
    {
     "name": "stdout",
     "output_type": "stream",
     "text": [
      "MPJPE: 95.80476736015055\n",
      "Reconstruction Error: 58.182424580700705\n",
      "\n",
      "Orientation error: 9.600506167123314\n"
     ]
    },
    {
     "name": "stderr",
     "output_type": "stream",
     "text": [
      "Eval:  45%|████▌     | 500/1110 [06:02<05:26,  1.87it/s]"
     ]
    },
    {
     "name": "stdout",
     "output_type": "stream",
     "text": [
      "MPJPE: 96.07492126911723\n",
      "Reconstruction Error: 58.44852769103943\n",
      "\n",
      "Orientation error: 9.630988569460293\n"
     ]
    },
    {
     "name": "stderr",
     "output_type": "stream",
     "text": [
      "Eval:  47%|████▋     | 520/1110 [06:15<06:01,  1.63it/s]"
     ]
    },
    {
     "name": "stdout",
     "output_type": "stream",
     "text": [
      "MPJPE: 95.764759606444\n",
      "Reconstruction Error: 58.31344841397592\n",
      "\n",
      "Orientation error: 9.604472781011264\n"
     ]
    },
    {
     "name": "stderr",
     "output_type": "stream",
     "text": [
      "Eval:  49%|████▊     | 540/1110 [06:27<05:57,  1.59it/s]"
     ]
    },
    {
     "name": "stdout",
     "output_type": "stream",
     "text": [
      "MPJPE: 95.77269418519734\n",
      "Reconstruction Error: 58.25498443650227\n",
      "\n",
      "Orientation error: 9.580903662937596\n"
     ]
    },
    {
     "name": "stderr",
     "output_type": "stream",
     "text": [
      "Eval:  50%|█████     | 560/1110 [06:37<04:51,  1.89it/s]"
     ]
    },
    {
     "name": "stdout",
     "output_type": "stream",
     "text": [
      "MPJPE: 96.86103236683675\n",
      "Reconstruction Error: 58.5607300873401\n",
      "\n",
      "Orientation error: 9.60804681764662\n"
     ]
    },
    {
     "name": "stderr",
     "output_type": "stream",
     "text": [
      "Eval:  52%|█████▏    | 580/1110 [06:50<03:48,  2.32it/s]"
     ]
    },
    {
     "name": "stdout",
     "output_type": "stream",
     "text": [
      "MPJPE: 97.26141928825834\n",
      "Reconstruction Error: 58.600691197615355\n",
      "\n",
      "Orientation error: 9.62137952931423\n"
     ]
    },
    {
     "name": "stderr",
     "output_type": "stream",
     "text": [
      "Eval:  54%|█████▍    | 600/1110 [07:09<07:59,  1.06it/s]"
     ]
    },
    {
     "name": "stdout",
     "output_type": "stream",
     "text": [
      "MPJPE: 98.29730211023649\n",
      "Reconstruction Error: 58.67116694960149\n",
      "\n",
      "Orientation error: 9.660806977401156\n"
     ]
    },
    {
     "name": "stderr",
     "output_type": "stream",
     "text": [
      "Eval:  56%|█████▌    | 620/1110 [07:15<03:40,  2.22it/s]"
     ]
    },
    {
     "name": "stdout",
     "output_type": "stream",
     "text": [
      "MPJPE: 98.23011851563722\n",
      "Reconstruction Error: 59.05669454760889\n",
      "\n",
      "Orientation error: 9.712031446028323\n"
     ]
    },
    {
     "name": "stderr",
     "output_type": "stream",
     "text": [
      "Eval:  58%|█████▊    | 640/1110 [07:25<03:03,  2.56it/s]"
     ]
    },
    {
     "name": "stdout",
     "output_type": "stream",
     "text": [
      "MPJPE: 97.67185774781554\n",
      "Reconstruction Error: 58.979304686096874\n",
      "\n",
      "Orientation error: 9.688309270678893\n"
     ]
    },
    {
     "name": "stderr",
     "output_type": "stream",
     "text": [
      "Eval:  60%|█████▉    | 661/1110 [07:35<05:22,  1.39it/s]"
     ]
    },
    {
     "name": "stdout",
     "output_type": "stream",
     "text": [
      "MPJPE: 97.18698598820735\n",
      "Reconstruction Error: 58.87917421603779\n",
      "\n",
      "Orientation error: 9.706401420119855\n"
     ]
    },
    {
     "name": "stderr",
     "output_type": "stream",
     "text": [
      "Eval:  61%|██████▏   | 680/1110 [07:42<03:08,  2.28it/s]"
     ]
    },
    {
     "name": "stdout",
     "output_type": "stream",
     "text": [
      "MPJPE: 96.99483215800296\n",
      "Reconstruction Error: 58.78070092597834\n",
      "\n",
      "Orientation error: 9.719306826425552\n"
     ]
    },
    {
     "name": "stderr",
     "output_type": "stream",
     "text": [
      "Eval:  63%|██████▎   | 700/1110 [07:49<02:06,  3.25it/s]"
     ]
    },
    {
     "name": "stdout",
     "output_type": "stream",
     "text": [
      "MPJPE: 96.77892331344053\n",
      "Reconstruction Error: 58.85737517482877\n",
      "\n",
      "Orientation error: 9.692356570138148\n"
     ]
    },
    {
     "name": "stderr",
     "output_type": "stream",
     "text": [
      "Eval:  65%|██████▍   | 720/1110 [07:58<03:01,  2.15it/s]"
     ]
    },
    {
     "name": "stdout",
     "output_type": "stream",
     "text": [
      "MPJPE: 96.41934391015607\n",
      "Reconstruction Error: 59.00512574593859\n",
      "\n",
      "Orientation error: 9.6439248069934\n"
     ]
    },
    {
     "name": "stderr",
     "output_type": "stream",
     "text": [
      "Eval:  67%|██████▋   | 740/1110 [08:11<02:58,  2.08it/s]"
     ]
    },
    {
     "name": "stdout",
     "output_type": "stream",
     "text": [
      "MPJPE: 95.87445049866447\n",
      "Reconstruction Error: 58.89322934042113\n",
      "\n",
      "Orientation error: 9.620443120744646\n"
     ]
    },
    {
     "name": "stderr",
     "output_type": "stream",
     "text": [
      "Eval:  68%|██████▊   | 760/1110 [08:22<03:15,  1.79it/s]"
     ]
    },
    {
     "name": "stdout",
     "output_type": "stream",
     "text": [
      "MPJPE: 95.28066178641745\n",
      "Reconstruction Error: 58.57721777647864\n",
      "\n",
      "Orientation error: 9.588335140923272\n"
     ]
    },
    {
     "name": "stderr",
     "output_type": "stream",
     "text": [
      "Eval:  70%|███████   | 780/1110 [08:46<03:32,  1.55it/s]"
     ]
    },
    {
     "name": "stdout",
     "output_type": "stream",
     "text": [
      "MPJPE: 95.32241956027468\n",
      "Reconstruction Error: 58.396075461424445\n",
      "\n",
      "Orientation error: 9.550964598636195\n"
     ]
    },
    {
     "name": "stderr",
     "output_type": "stream",
     "text": [
      "Eval:  72%|███████▏  | 800/1110 [08:56<03:52,  1.34it/s]"
     ]
    },
    {
     "name": "stdout",
     "output_type": "stream",
     "text": [
      "MPJPE: 95.03338752057724\n",
      "Reconstruction Error: 57.998542555867786\n",
      "\n",
      "Orientation error: 9.503799512276396\n"
     ]
    },
    {
     "name": "stderr",
     "output_type": "stream",
     "text": [
      "Eval:  74%|███████▍  | 820/1110 [09:12<01:35,  3.03it/s]"
     ]
    },
    {
     "name": "stdout",
     "output_type": "stream",
     "text": [
      "MPJPE: 94.77129218207504\n",
      "Reconstruction Error: 57.795886928912125\n",
      "\n",
      "Orientation error: 9.477754139324057\n"
     ]
    },
    {
     "name": "stderr",
     "output_type": "stream",
     "text": [
      "Eval:  76%|███████▌  | 840/1110 [09:27<03:55,  1.15it/s]"
     ]
    },
    {
     "name": "stdout",
     "output_type": "stream",
     "text": [
      "MPJPE: 94.97227546023827\n",
      "Reconstruction Error: 57.86474806755277\n",
      "\n",
      "Orientation error: 9.458699660016924\n"
     ]
    },
    {
     "name": "stderr",
     "output_type": "stream",
     "text": [
      "Eval:  77%|███████▋  | 860/1110 [09:35<01:28,  2.84it/s]"
     ]
    },
    {
     "name": "stdout",
     "output_type": "stream",
     "text": [
      "MPJPE: 94.6700266467942\n",
      "Reconstruction Error: 57.93397202313964\n",
      "\n",
      "Orientation error: 9.442182616950156\n"
     ]
    },
    {
     "name": "stderr",
     "output_type": "stream",
     "text": [
      "Eval:  79%|███████▉  | 880/1110 [09:45<01:36,  2.40it/s]"
     ]
    },
    {
     "name": "stdout",
     "output_type": "stream",
     "text": [
      "MPJPE: 95.16668808374996\n",
      "Reconstruction Error: 57.82050719398336\n",
      "\n",
      "Orientation error: 9.47823908191114\n"
     ]
    },
    {
     "name": "stderr",
     "output_type": "stream",
     "text": [
      "Eval:  81%|████████  | 900/1110 [09:58<05:08,  1.47s/it]"
     ]
    },
    {
     "name": "stdout",
     "output_type": "stream",
     "text": [
      "MPJPE: 95.60778589541863\n",
      "Reconstruction Error: 58.482298644847994\n",
      "\n",
      "Orientation error: 9.488770803599863\n"
     ]
    },
    {
     "name": "stderr",
     "output_type": "stream",
     "text": [
      "Eval:  83%|████████▎ | 920/1110 [10:08<01:31,  2.07it/s]"
     ]
    },
    {
     "name": "stdout",
     "output_type": "stream",
     "text": [
      "MPJPE: 95.92476836754054\n",
      "Reconstruction Error: 58.696438816692215\n",
      "\n",
      "Orientation error: 9.525968189919906\n"
     ]
    },
    {
     "name": "stderr",
     "output_type": "stream",
     "text": [
      "Eval:  85%|████████▍ | 940/1110 [10:21<01:10,  2.42it/s]"
     ]
    },
    {
     "name": "stdout",
     "output_type": "stream",
     "text": [
      "MPJPE: 96.42709904449275\n",
      "Reconstruction Error: 59.011896208689386\n",
      "\n",
      "Orientation error: 9.56078473060671\n"
     ]
    },
    {
     "name": "stderr",
     "output_type": "stream",
     "text": [
      "Eval:  86%|████████▋ | 960/1110 [10:31<01:13,  2.03it/s]"
     ]
    },
    {
     "name": "stdout",
     "output_type": "stream",
     "text": [
      "MPJPE: 96.57400069709496\n",
      "Reconstruction Error: 59.12613980964941\n",
      "\n",
      "Orientation error: 9.60315614591921\n"
     ]
    },
    {
     "name": "stderr",
     "output_type": "stream",
     "text": [
      "Eval:  88%|████████▊ | 980/1110 [10:39<00:52,  2.47it/s]"
     ]
    },
    {
     "name": "stdout",
     "output_type": "stream",
     "text": [
      "MPJPE: 96.40454657848372\n",
      "Reconstruction Error: 59.10551876262062\n",
      "\n",
      "Orientation error: 9.593283433895452\n"
     ]
    },
    {
     "name": "stderr",
     "output_type": "stream",
     "text": [
      "Eval:  90%|█████████ | 1000/1110 [10:47<00:43,  2.52it/s]"
     ]
    },
    {
     "name": "stdout",
     "output_type": "stream",
     "text": [
      "MPJPE: 96.15514202476214\n",
      "Reconstruction Error: 58.99938160780346\n",
      "\n",
      "Orientation error: 9.5840790235374\n"
     ]
    },
    {
     "name": "stderr",
     "output_type": "stream",
     "text": [
      "Eval:  92%|█████████▏| 1020/1110 [10:54<00:27,  3.23it/s]"
     ]
    },
    {
     "name": "stdout",
     "output_type": "stream",
     "text": [
      "MPJPE: 95.85081390019505\n",
      "Reconstruction Error: 58.96727392843891\n",
      "\n",
      "Orientation error: 9.566197215521473\n"
     ]
    },
    {
     "name": "stderr",
     "output_type": "stream",
     "text": [
      "Eval:  94%|█████████▎| 1040/1110 [11:02<00:28,  2.50it/s]"
     ]
    },
    {
     "name": "stdout",
     "output_type": "stream",
     "text": [
      "MPJPE: 95.69092004460663\n",
      "Reconstruction Error: 58.8947771665218\n",
      "\n",
      "Orientation error: 9.54798952087937\n"
     ]
    },
    {
     "name": "stderr",
     "output_type": "stream",
     "text": [
      "Eval:  96%|█████████▌| 1061/1110 [11:09<00:12,  3.98it/s]"
     ]
    },
    {
     "name": "stdout",
     "output_type": "stream",
     "text": [
      "MPJPE: 96.1986018673559\n",
      "Reconstruction Error: 59.07717778272021\n",
      "\n",
      "Orientation error: 9.545936897417256\n"
     ]
    },
    {
     "name": "stderr",
     "output_type": "stream",
     "text": [
      "Eval:  97%|█████████▋| 1081/1110 [11:11<00:03,  9.48it/s]"
     ]
    },
    {
     "name": "stdout",
     "output_type": "stream",
     "text": [
      "MPJPE: 96.5447576704782\n",
      "Reconstruction Error: 59.155131101707966\n",
      "\n",
      "Orientation error: 9.5267607877964\n"
     ]
    },
    {
     "name": "stderr",
     "output_type": "stream",
     "text": [
      "Eval:  99%|█████████▉| 1101/1110 [11:13<00:00,  9.47it/s]"
     ]
    },
    {
     "name": "stdout",
     "output_type": "stream",
     "text": [
      "MPJPE: 96.87599752032011\n",
      "Reconstruction Error: 59.31143589761427\n",
      "\n",
      "Orientation error: 9.518863738219308\n"
     ]
    },
    {
     "name": "stderr",
     "output_type": "stream",
     "text": [
      "Eval: 100%|██████████| 1110/1110 [11:15<00:00,  1.64it/s]"
     ]
    },
    {
     "name": "stdout",
     "output_type": "stream",
     "text": [
      "*** Final Results ***\n",
      "\n",
      "MPJPE: 96.94085740828478\n",
      "Reconstruction Error: 59.285746753744455\n",
      "\n",
      "Orientation Error: 9.5149063225102\n",
      "Orientation Error per part:  tensor([[[3.4467e+02, 1.3718e+00, 1.4633e+00],\n",
      "         [1.1698e+01, 5.1830e+00, 1.1266e+00],\n",
      "         [1.6275e+01, 5.3367e-01, 3.6228e+00],\n",
      "         ...,\n",
      "         [1.1765e+01, 2.5596e+00, 5.4265e+00],\n",
      "         [2.4144e+00, 3.2284e+00, 2.4397e+00],\n",
      "         [1.5845e-02, 1.9711e+00, 1.9843e+00]],\n",
      "\n",
      "        [[3.4505e+02, 1.3102e+00, 2.2830e+00],\n",
      "         [1.2002e+01, 4.3776e+00, 8.9079e-01],\n",
      "         [1.6749e+01, 1.0212e+00, 3.5849e+00],\n",
      "         ...,\n",
      "         [1.2371e+01, 2.3686e+00, 4.4567e+00],\n",
      "         [2.3773e+00, 3.2820e+00, 2.4814e+00],\n",
      "         [7.9473e-02, 2.0159e+00, 2.0162e+00]],\n",
      "\n",
      "        [[3.4473e+02, 1.5390e+00, 6.8220e-01],\n",
      "         [1.2073e+01, 4.2944e+00, 7.8759e-01],\n",
      "         [1.6626e+01, 8.6043e-01, 3.1790e+00],\n",
      "         ...,\n",
      "         [1.2720e+01, 2.0895e+00, 4.3858e+00],\n",
      "         [2.3054e+00, 3.2469e+00, 2.3463e+00],\n",
      "         [5.4784e-02, 2.0718e+00, 1.8829e+00]],\n",
      "\n",
      "        ...,\n",
      "\n",
      "        [[4.7220e-01, 7.2250e-01, 8.8003e-01],\n",
      "         [2.7680e+01, 8.2778e+00, 2.6606e-01],\n",
      "         [2.2009e+01, 2.4660e+00, 2.8487e+00],\n",
      "         ...,\n",
      "         [1.1571e+01, 1.2562e+01, 2.7599e+00],\n",
      "         [2.6513e+00, 3.2649e+00, 2.7440e+00],\n",
      "         [1.7223e+00, 1.8142e+00, 3.3679e+00]],\n",
      "\n",
      "        [[7.2369e-01, 6.6008e-01, 1.1647e+00],\n",
      "         [2.7802e+01, 8.0847e+00, 1.0996e-01],\n",
      "         [2.2042e+01, 2.6435e+00, 2.6267e+00],\n",
      "         ...,\n",
      "         [1.1352e+01, 1.2526e+01, 2.6663e+00],\n",
      "         [2.6411e+00, 3.2078e+00, 2.6607e+00],\n",
      "         [1.6383e+00, 1.8003e+00, 3.3068e+00]],\n",
      "\n",
      "        [[8.8051e-01, 5.2048e-01, 2.4036e+00],\n",
      "         [2.7881e+01, 7.7689e+00, 8.2888e-02],\n",
      "         [2.2323e+01, 2.5508e+00, 2.5387e+00],\n",
      "         ...,\n",
      "         [1.1442e+01, 1.2153e+01, 2.5162e+00],\n",
      "         [2.5933e+00, 3.1751e+00, 2.6084e+00],\n",
      "         [1.6773e+00, 1.7991e+00, 3.2753e+00]]])\n"
     ]
    },
    {
     "name": "stderr",
     "output_type": "stream",
     "text": [
      "\n"
     ]
    }
   ],
   "source": [
    "if __name__ == '__main__':\n",
    "    \n",
    "    args = parser.parse_args(['--checkpoint=data/model_checkpoint.pt','--dataset=3dpw', '--log_freq=20'])\n",
    "    # Here we inserted our own arguments list\n",
    "    \n",
    "    model = hmr(config.SMPL_MEAN_PARAMS)\n",
    "    checkpoint = torch.load(args.checkpoint)\n",
    "    model.load_state_dict(checkpoint['model'], strict=False)\n",
    "    model.eval()\n",
    "\n",
    "    # Setup evaluation dataset\n",
    "    dataset = BaseDataset(None, args.dataset, is_train=False)\n",
    "    # Run evaluation\n",
    "    run_evaluation(model, args.dataset, dataset, args.result_file,\n",
    "                   batch_size=args.batch_size,\n",
    "                   shuffle=args.shuffle,\n",
    "                   log_freq=args.log_freq)"
   ]
  },
  {
   "cell_type": "code",
   "execution_count": 10,
   "metadata": {},
   "outputs": [
    {
     "data": {
      "text/plain": [
       "torch.Size([35515, 24, 3])"
      ]
     },
     "execution_count": 10,
     "metadata": {},
     "output_type": "execute_result"
    }
   ],
   "source": [
    "mpjae = torch.load('mpjae_per_part.pt')\n",
    "mpjae.shape"
   ]
  },
  {
   "cell_type": "code",
   "execution_count": 15,
   "metadata": {},
   "outputs": [
    {
     "data": {
      "text/plain": [
       "tensor([[98.1797,  9.4942, 51.9239],\n",
       "        [10.0485,  5.6163,  4.0774],\n",
       "        [ 9.8444,  4.6058,  4.8752],\n",
       "        [ 9.1616,  2.0758,  2.2850],\n",
       "        [16.9512,  5.1322,  6.1049],\n",
       "        [16.4851,  4.1317,  4.9168],\n",
       "        [ 4.4222,  2.1591,  2.0369],\n",
       "        [ 4.7690,  8.3333,  3.8979],\n",
       "        [ 5.5424, 11.1734,  6.7159],\n",
       "        [ 3.0120,  1.6893,  1.0108],\n",
       "        [11.9835,  8.3257,  8.1128],\n",
       "        [ 3.9105,  6.4853, 11.5482],\n",
       "        [ 5.9942,  8.0072,  5.4115],\n",
       "        [ 3.6484,  9.7804, 10.5708],\n",
       "        [ 4.6065,  7.8352, 10.8048],\n",
       "        [10.2832,  6.6511,  5.5037],\n",
       "        [ 8.7521,  7.7237, 12.1250],\n",
       "        [13.8173,  8.5829, 11.1074],\n",
       "        [16.6280, 18.6774, 13.1059],\n",
       "        [15.8921, 16.8754, 15.4179],\n",
       "        [ 8.4844,  6.3963, 17.3813],\n",
       "        [ 5.1584,  4.7116, 12.7035],\n",
       "        [ 3.2690,  2.1730,  1.5460],\n",
       "        [ 1.7931,  1.0212,  1.5960]])"
      ]
     },
     "execution_count": 15,
     "metadata": {},
     "output_type": "execute_result"
    }
   ],
   "source": [
    "mpjae_mean = mpjae.mean(dim=0)\n",
    "mpjae_mean"
   ]
  },
  {
   "cell_type": "code",
   "execution_count": 1,
   "metadata": {},
   "outputs": [
    {
     "data": {
      "text/html": [
       "<style>.container { width:100% !important; }</style>"
      ],
      "text/plain": [
       "<IPython.core.display.HTML object>"
      ]
     },
     "metadata": {},
     "output_type": "display_data"
    }
   ],
   "source": [
    "from IPython.core.display import display, HTML\n",
    "display(HTML(\"<style>.container { width:100% !important; }</style>\"))"
   ]
  },
  {
   "cell_type": "code",
   "execution_count": null,
   "metadata": {},
   "outputs": [],
   "source": [
    "# Our first sanity check should be whether ground truth compared to ground truth yields zero error\n",
    "\n",
    "import torch \n",
    "import numpy as np\n",
    "from scipy.spatial.transform import Rotation as R\n",
    "\n",
    "import pickle as pkl\n",
    "import os\n",
    "\n",
    "img_path = 'examples/image_00502_crop.jpg'\n",
    "\n",
    "pickle_path = 'data/3dpw/sequenceFiles/validation/courtyard_basketball_01.pkl'\n",
    "\n",
    "frame = 502\n",
    "\n",
    "# Load the .pkl sequence file containing the ground-truth information from 3dpw\n",
    "\n",
    "seq = pkl.load(open(pickle_path,'rb'),encoding='latin-1') # opening the sequence file, latin-1 encoding for making it compatible with python3\n",
    "\n",
    "gt_pose = torch.tensor(seq['poses'][0][frame]).unsqueeze(0)\n",
    "\n",
    "# print(gt_pose)\n",
    "\n",
    "pred_rotmat = torch.zeros(1, 24, 3, 3)\n",
    "\n",
    "q = R.from_rotvec(gt_pose.reshape(1,24,-1)[0])\n",
    "\n",
    "pred_rotmat = torch.tensor(R.as_dcm(q)).unsqueeze(0)\n",
    "\n",
    "# print(pred_rotmat)"
   ]
  },
  {
   "cell_type": "code",
   "execution_count": null,
   "metadata": {},
   "outputs": [],
   "source": [
    "device = torch.device('cuda') if torch.cuda.is_available() else torch.device('cpu')\n",
    "\n",
    "curr_batch_size = 1\n",
    "\n",
    "print(\"gt_pose\", gt_pose.shape, gt_pose)\n",
    "\n",
    "print(\"pred_rotmat\", pred_rotmat.shape, pred_rotmat)\n",
    "\n",
    "# Get ground truth orientation (already stored in gt_pose)\n",
    "gt_rotvec = torch.zeros(curr_batch_size,24,3) # Have to have an array of this shape to input into the rotation object (from 32,72 to 32,24,3)\n",
    "i = 0\n",
    "for row in gt_pose:\n",
    "    gt_rotvec[i] = torch.reshape(row,(24, -1))\n",
    "    i+=1\n",
    "print(\"gt_rotvec\", gt_rotvec.shape, gt_rotvec)\n",
    "    \n",
    "gt_euler = np.zeros((curr_batch_size, 24, 3)) # Using numpy here because it works with the rotation library\n",
    "i = 0\n",
    "for row in gt_rotvec:\n",
    "    r = R.from_rotvec(row)\n",
    "    gt_euler[i] = R.as_euler(r, 'xyz', degrees=True)\n",
    "    i+=1\n",
    "\n",
    "print(\"gt_euler\", gt_euler.shape, gt_euler)\n",
    "\n",
    "# Get Euler representation of the predictions too:\n",
    "\n",
    "pred_euler = np.zeros((curr_batch_size,24,3)) # Has to be a numpy array because it works with Rotation\n",
    "\n",
    "# For each row in pred_rotmat convert it to a Rotation object and write it into a corresponding\n",
    "# row in pred_euler as Euler angles\n",
    "\n",
    "i=0\n",
    "for row in pred_rotmat:\n",
    "    r = R.from_dcm(row.cpu())\n",
    "    pred_euler[i] = R.as_euler(r, 'xyz', degrees=True)\n",
    "    i+=1\n",
    "\n",
    "print(\"pred_euler\", pred_euler.shape, pred_euler)\n",
    "    \n",
    "    \n",
    "orientation_error_non_reduced = torch.sqrt((torch.from_numpy(gt_euler).to(device) -\n",
    "                                torch.from_numpy(pred_euler).to(device))**2)\n",
    "print(orientation_error_non_reduced)\n",
    "    \n",
    "orientation_error = torch.sqrt((torch.from_numpy(gt_euler).to(device) -\n",
    "                                torch.from_numpy(pred_euler).to(device))**2).sum(dim=-1).mean(dim=-1)\n",
    "# The reduction above is wrong. For a 90 degree error in one angle, it averages out 3.75 degrees, which\n",
    "# is 90/24. The correct reduction would be a mean of 1.25 (90/72), because there are 72 angles (3 for each part)\n",
    "# To remove the root, add [:,1:,:] to gt_euler and pred_euler above\n",
    "\n",
    "orientation_error_new = torch.sqrt((torch.from_numpy(gt_euler).to(device) -\n",
    "                                torch.from_numpy(pred_euler).to(device))**2).mean()\n",
    "# This reduction is more accurate because it averages the error per part and then the error across parts\n",
    "# It is equivalent to .mean(dim=-1).mean(dim=-1)\n",
    "\n",
    "print(\"orientation_error\")\n",
    "print(orientation_error)\n",
    "print()\n",
    "print(\"orientation_error_new\")\n",
    "print(orientation_error_new)\n",
    "print()"
   ]
  },
  {
   "cell_type": "code",
   "execution_count": null,
   "metadata": {},
   "outputs": [],
   "source": [
    "def compare_orientation(gt, pred):\n",
    "    # Taking as input two axis_angle representations\n",
    "    \n",
    "    device = torch.device('cuda') if torch.cuda.is_available() else torch.device('cpu')\n",
    "\n",
    "    curr_batch_size = 1\n",
    "\n",
    "    gt_pose = gt\n",
    "\n",
    "    print(\"gt_pose\", gt_pose.shape, gt_pose)\n",
    "\n",
    "    q = R.from_rotvec(pred.reshape(1,24,-1)[0])\n",
    "\n",
    "    pred_rotmat = torch.tensor(R.as_dcm(q)).unsqueeze(0)\n",
    "\n",
    "    print(\"pred_rotmat\", pred_rotmat.shape, pred_rotmat)\n",
    "\n",
    "    # Get ground truth orientation (already stored in gt_pose)\n",
    "    gt_rotvec = torch.zeros(curr_batch_size,24,3) # Have to have an array of this shape to input into the rotation object (from 32,72 to 32,24,3)\n",
    "    i = 0\n",
    "    for row in gt_pose:\n",
    "        gt_rotvec[i] = torch.reshape(row,(24, -1))\n",
    "        i+=1\n",
    "    print(\"gt_rotvec\", gt_rotvec.shape, gt_rotvec)\n",
    "\n",
    "    gt_euler = np.zeros((curr_batch_size, 24, 3)) # Using numpy here because it works with the rotation library\n",
    "    i = 0\n",
    "    for row in gt_rotvec:\n",
    "        r = R.from_rotvec(row)\n",
    "        gt_euler[i] = R.as_euler(r, 'xyz', degrees=True)\n",
    "        i+=1\n",
    "\n",
    "    print(\"gt_euler\", gt_euler.shape, gt_euler)\n",
    "\n",
    "    # Get Euler representation of the predictions too:\n",
    "\n",
    "    pred_euler = np.zeros((curr_batch_size,24,3)) # Has to be a numpy array because it works with Rotation\n",
    "\n",
    "    # For each row in pred_rotmat convert it to a Rotation object and write it into a corresponding\n",
    "    # row in pred_euler as Euler angles\n",
    "\n",
    "    i=0\n",
    "    for row in pred_rotmat:\n",
    "        r = R.from_dcm(row.cpu())\n",
    "        pred_euler[i] = R.as_euler(r, 'xyz', degrees=True)\n",
    "        i+=1\n",
    "\n",
    "    print(\"pred_euler\", pred_euler.shape, pred_euler)\n",
    "\n",
    "\n",
    "    orientation_error_non_reduced = torch.sqrt((torch.from_numpy(gt_euler).to(device) -\n",
    "                                    torch.from_numpy(pred_euler).to(device))**2)\n",
    "    print(\"error per part\", orientation_error_non_reduced)\n",
    "\n",
    "    orientation_error = torch.sqrt((torch.from_numpy(gt_euler).to(device) -\n",
    "                                    torch.from_numpy(pred_euler).to(device))**2).sum(dim=-1).mean(dim=-1)\n",
    "    # The reduction above is wrong. For a 90 degree error in one angle, it averages out 3.75 degrees, which\n",
    "    # is 90/24. The correct reduction would be a mean of 1.25 (90/72), because there are 72 angles (3 for each part)\n",
    "    # To remove the root, add [:,1:,:] to gt_euler and pred_euler above\n",
    "\n",
    "    orientation_error_new = torch.sqrt((torch.from_numpy(gt_euler).to(device) -\n",
    "                                    torch.from_numpy(pred_euler).to(device))**2).mean()\n",
    "    # This reduction is more accurate because it averages the error per part and then the error across parts\n",
    "    # It is equivalent to .mean(dim=-1).mean(dim=-1)\n",
    "\n",
    "    print(\"orientation_error\")\n",
    "    print(orientation_error.item())\n",
    "    print()\n",
    "    print(\"orientation_error_new\")\n",
    "    print(orientation_error_new.item())\n",
    "    print()\n",
    "\n",
    "    #moe[step * batch_size:step * batch_size + curr_batch_size] = orientation_error.cpu()"
   ]
  },
  {
   "cell_type": "code",
   "execution_count": 24,
   "metadata": {},
   "outputs": [],
   "source": [
    "import torch \n",
    "import numpy as np\n",
    "from scipy.spatial.transform import Rotation as R\n",
    "\n",
    "def compare_orientation_rotvec(gt, pred):\n",
    "    # Taking as input two axis_angle representations\n",
    "    \n",
    "    device = torch.device('cuda') if torch.cuda.is_available() else torch.device('cpu')\n",
    "\n",
    "    curr_batch_size = 1\n",
    "\n",
    "    gt_pose = gt\n",
    "\n",
    "    print(\"gt_pose\", gt_pose.shape, gt_pose)\n",
    "    print(\"pred_pose\", pred.shape, pred)\n",
    "\n",
    "    # Get ground truth orientation (already stored in gt_pose)\n",
    "    gt_rotvec = torch.zeros((curr_batch_size,24,3), dtype=torch.double) # Have to have an array of this shape to input into the rotation object (from 32,72 to 32,24,3)\n",
    "    i = 0\n",
    "    for row in gt_pose:\n",
    "        gt_rotvec[i] = torch.reshape(row,(24, -1))\n",
    "        i+=1\n",
    "    print(\"gt_rotvec\", gt_rotvec.shape, gt_rotvec)\n",
    "    \n",
    "    # Get prediction as rotation vectors\n",
    "    \n",
    "    r = R.from_rotvec(pred.reshape(1,24,-1)[0])\n",
    "    pred_rotvec = torch.tensor(R.as_rotvec(r)).unsqueeze(0)\n",
    "\n",
    "    print(\"pred_rotvec\", pred_rotvec.shape, pred_rotvec)\n",
    "\n",
    "    orientation_error_non_reduced = np.degrees(torch.sqrt((gt_rotvec - pred_rotvec)**2))\n",
    "    \n",
    "    print(\"error per part\", orientation_error_non_reduced)\n",
    "\n",
    "    orientation_error = np.degrees(torch.sqrt((gt_rotvec - pred_rotvec)**2).sum(dim=-1).mean(dim=-1))\n",
    "    # The reduction above is wrong. For a 90 degree error in one angle, it averages out 3.75 degrees, which\n",
    "    # is 90/24. The correct reduction would be a mean of 1.25 (90/72), because there are 72 angles (3 for each part)\n",
    "    # To remove the root, add [:,1:,:] to gt_euler and pred_euler above\n",
    "\n",
    "    orientation_error_new = np.degrees(torch.sqrt((gt_rotvec - pred_rotvec)**2).mean())\n",
    "    # This reduction is more accurate because it averages the error per part and then the error across parts\n",
    "    # It is equivalent to .mean(dim=-1).mean(dim=-1)\n",
    "\n",
    "    print(\"orientation_error\")\n",
    "    print(orientation_error.item())\n",
    "    print()\n",
    "    print(\"orientation_error_new\")\n",
    "    print(orientation_error_new.item())\n",
    "    print()"
   ]
  },
  {
   "cell_type": "code",
   "execution_count": null,
   "metadata": {},
   "outputs": [],
   "source": [
    "import torch \n",
    "import numpy as np\n",
    "from scipy.spatial.transform import Rotation as R\n",
    "\n",
    "def compare_orientation_rotvec(gt_pose, pred_rotmat):\n",
    "    # Taking as input one axis angle representation and one rotation matrix representation\n",
    "    \n",
    "    device = torch.device('cuda') if torch.cuda.is_available() else torch.device('cpu')\n",
    "\n",
    "    curr_batch_size = 1\n",
    "\n",
    "    gt_pose = gt\n",
    "\n",
    "    #print(\"gt_pose\", gt_pose.shape, gt_pose)\n",
    "    #print(\"pred_pose\", pred.shape, pred)\n",
    "\n",
    "    # Get ground truth orientation (already stored in gt_pose)\n",
    "    gt_rotvec = torch.zeros((curr_batch_size,24,3), dtype=torch.double) # Have to have an array of this shape to input into the rotation object (from 32,72 to 32,24,3)\n",
    "    i = 0\n",
    "    for row in gt_pose:\n",
    "        gt_rotvec[i] = torch.reshape(row,(24, -1))\n",
    "        i+=1\n",
    "    print(\"gt_rotvec\", gt_rotvec.shape, gt_rotvec)\n",
    "    \n",
    "    # Get prediction as rotation vectors\n",
    "    \n",
    "    pred_rotvec = torch.zeros((curr_batch_size,24,3)) # Has to be a numpy array because it works with Rotation\n",
    "\n",
    "    # For each row in pred_rotmat convert it to a Rotation object and write it into a corresponding\n",
    "    # row in pred_rotvec as rotation vectors\n",
    "\n",
    "    i=0\n",
    "    for row in pred_rotmat:\n",
    "        r = R.from_dcm(row.cpu())\n",
    "        pred_rotvec[i] = R.as_rotvec(r)\n",
    "        i+=1\n",
    "\n",
    "    print(\"pred_rotvec\", pred_rotvec.shape, pred_rotvec)\n",
    "\n",
    "    orientation_error_non_reduced = np.degrees(torch.sqrt((gt_rotvec - pred_rotvec)**2))\n",
    "    \n",
    "    print(\"error per part\", orientation_error_non_reduced)\n",
    "\n",
    "    orientation_error = np.degrees(torch.sqrt((gt_rotvec - pred_rotvec)**2).sum(dim=-1).mean(dim=-1))\n",
    "    # The reduction above is wrong. For a 90 degree error in one angle, it averages out 3.75 degrees, which\n",
    "    # is 90/24. The correct reduction would be a mean of 1.25 (90/72), because there are 72 angles (3 for each part)\n",
    "    # To remove the root, add [:,1:,:] to gt_euler and pred_euler above\n",
    "\n",
    "    orientation_error_new = np.degrees(torch.sqrt((gt_rotvec - pred_rotvec)**2).mean())\n",
    "    # This reduction is more accurate because it averages the error per part and then the error across parts\n",
    "    # It is equivalent to .mean(dim=-1).mean(dim=-1)\n",
    "\n",
    "    print(\"orientation_error\")\n",
    "    print(orientation_error.item())\n",
    "    print()\n",
    "    print(\"orientation_error_new\")\n",
    "    print(orientation_error_new.item())\n",
    "    print()"
   ]
  },
  {
   "cell_type": "code",
   "execution_count": 25,
   "metadata": {},
   "outputs": [
    {
     "name": "stdout",
     "output_type": "stream",
     "text": [
      "gt_pose torch.Size([1, 72]) tensor([[0., 0., 0., 0., 0., 0., 0., 0., 0., 0., 0., 0., 0., 0., 0., 0., 0., 0., 0., 0., 0., 0., 0., 0.,\n",
      "         0., 0., 0., 0., 0., 0., 0., 0., 0., 0., 0., 0., 0., 0., 0., 0., 0., 0., 0., 0., 0., 0., 0., 0.,\n",
      "         0., 0., 0., 0., 0., 0., 0., 0., 0., 0., 0., 0., 0., 0., 0., 0., 0., 0., 0., 0., 0., 0., 0., 0.]])\n",
      "pred_pose torch.Size([1, 72]) tensor([[0.7854, 0.7854, 0.0000, 0.0000, 0.0000, 0.0000, 0.0000, 0.0000, 0.0000,\n",
      "         0.0000, 0.0000, 0.0000, 0.0000, 0.0000, 0.0000, 0.0000, 0.0000, 0.0000,\n",
      "         0.0000, 0.0000, 0.0000, 0.0000, 0.0000, 0.0000, 0.0000, 0.0000, 0.0000,\n",
      "         0.0000, 0.0000, 0.0000, 0.0000, 0.0000, 0.0000, 0.0000, 0.0000, 0.0000,\n",
      "         0.0000, 0.0000, 0.0000, 0.0000, 0.0000, 0.0000, 0.0000, 0.0000, 0.0000,\n",
      "         0.0000, 0.0000, 0.0000, 0.0000, 0.0000, 0.0000, 0.0000, 0.0000, 0.0000,\n",
      "         0.0000, 0.0000, 0.0000, 0.0000, 0.0000, 0.0000, 0.0000, 0.0000, 0.0000,\n",
      "         0.0000, 0.0000, 0.0000, 0.0000, 0.0000, 0.0000, 0.0000, 0.0000, 0.0000]])\n",
      "gt_rotvec torch.Size([1, 24, 3]) tensor([[[0., 0., 0.],\n",
      "         [0., 0., 0.],\n",
      "         [0., 0., 0.],\n",
      "         [0., 0., 0.],\n",
      "         [0., 0., 0.],\n",
      "         [0., 0., 0.],\n",
      "         [0., 0., 0.],\n",
      "         [0., 0., 0.],\n",
      "         [0., 0., 0.],\n",
      "         [0., 0., 0.],\n",
      "         [0., 0., 0.],\n",
      "         [0., 0., 0.],\n",
      "         [0., 0., 0.],\n",
      "         [0., 0., 0.],\n",
      "         [0., 0., 0.],\n",
      "         [0., 0., 0.],\n",
      "         [0., 0., 0.],\n",
      "         [0., 0., 0.],\n",
      "         [0., 0., 0.],\n",
      "         [0., 0., 0.],\n",
      "         [0., 0., 0.],\n",
      "         [0., 0., 0.],\n",
      "         [0., 0., 0.],\n",
      "         [0., 0., 0.]]], dtype=torch.float64)\n",
      "pred_rotvec torch.Size([1, 24, 3]) tensor([[[0.7854, 0.7854, 0.0000],\n",
      "         [0.0000, 0.0000, 0.0000],\n",
      "         [0.0000, 0.0000, 0.0000],\n",
      "         [0.0000, 0.0000, 0.0000],\n",
      "         [0.0000, 0.0000, 0.0000],\n",
      "         [0.0000, 0.0000, 0.0000],\n",
      "         [0.0000, 0.0000, 0.0000],\n",
      "         [0.0000, 0.0000, 0.0000],\n",
      "         [0.0000, 0.0000, 0.0000],\n",
      "         [0.0000, 0.0000, 0.0000],\n",
      "         [0.0000, 0.0000, 0.0000],\n",
      "         [0.0000, 0.0000, 0.0000],\n",
      "         [0.0000, 0.0000, 0.0000],\n",
      "         [0.0000, 0.0000, 0.0000],\n",
      "         [0.0000, 0.0000, 0.0000],\n",
      "         [0.0000, 0.0000, 0.0000],\n",
      "         [0.0000, 0.0000, 0.0000],\n",
      "         [0.0000, 0.0000, 0.0000],\n",
      "         [0.0000, 0.0000, 0.0000],\n",
      "         [0.0000, 0.0000, 0.0000],\n",
      "         [0.0000, 0.0000, 0.0000],\n",
      "         [0.0000, 0.0000, 0.0000],\n",
      "         [0.0000, 0.0000, 0.0000],\n",
      "         [0.0000, 0.0000, 0.0000]]], dtype=torch.float64)\n",
      "error per part tensor([[[45.0000, 45.0000,  0.0000],\n",
      "         [ 0.0000,  0.0000,  0.0000],\n",
      "         [ 0.0000,  0.0000,  0.0000],\n",
      "         [ 0.0000,  0.0000,  0.0000],\n",
      "         [ 0.0000,  0.0000,  0.0000],\n",
      "         [ 0.0000,  0.0000,  0.0000],\n",
      "         [ 0.0000,  0.0000,  0.0000],\n",
      "         [ 0.0000,  0.0000,  0.0000],\n",
      "         [ 0.0000,  0.0000,  0.0000],\n",
      "         [ 0.0000,  0.0000,  0.0000],\n",
      "         [ 0.0000,  0.0000,  0.0000],\n",
      "         [ 0.0000,  0.0000,  0.0000],\n",
      "         [ 0.0000,  0.0000,  0.0000],\n",
      "         [ 0.0000,  0.0000,  0.0000],\n",
      "         [ 0.0000,  0.0000,  0.0000],\n",
      "         [ 0.0000,  0.0000,  0.0000],\n",
      "         [ 0.0000,  0.0000,  0.0000],\n",
      "         [ 0.0000,  0.0000,  0.0000],\n",
      "         [ 0.0000,  0.0000,  0.0000],\n",
      "         [ 0.0000,  0.0000,  0.0000],\n",
      "         [ 0.0000,  0.0000,  0.0000],\n",
      "         [ 0.0000,  0.0000,  0.0000],\n",
      "         [ 0.0000,  0.0000,  0.0000],\n",
      "         [ 0.0000,  0.0000,  0.0000]]], dtype=torch.float64)\n",
      "orientation_error\n",
      "3.750000104353257\n",
      "\n",
      "orientation_error_new\n",
      "1.250000034784419\n",
      "\n"
     ]
    }
   ],
   "source": [
    "a = torch.zeros(1,72)\n",
    "b = torch.zeros(1,72)\n",
    "\n",
    "b[0][0] = np.pi/4\n",
    "b[0][1] = np.pi/4\n",
    "\n",
    "compare_orientation_rotvec(a,b)"
   ]
  },
  {
   "cell_type": "code",
   "execution_count": null,
   "metadata": {},
   "outputs": [],
   "source": [
    "m = [[(1/np.sqrt(2)),0,(1/np.sqrt(2))],\n",
    "    [1/2, (1/np.sqrt(2)), -1/2],\n",
    "    [-1/2, (1/np.sqrt(2)), 1/2]]\n",
    "\n",
    "m"
   ]
  },
  {
   "cell_type": "code",
   "execution_count": null,
   "metadata": {},
   "outputs": [],
   "source": [
    "# This is a rotation of 45 degrees around x multiplied on the\n",
    "# left by a rotation of 45 degrees around y\n",
    "\n",
    "m = [[(1/np.sqrt(2)),1/2,1/2],\n",
    "    [0, (1/np.sqrt(2)), -(1/np.sqrt(2))],\n",
    "    [-(1/np.sqrt(2)), 1/2, 1/2]]\n",
    "m"
   ]
  },
  {
   "cell_type": "code",
   "execution_count": null,
   "metadata": {},
   "outputs": [],
   "source": [
    "n = R.from_dcm(m)"
   ]
  },
  {
   "cell_type": "code",
   "execution_count": null,
   "metadata": {},
   "outputs": [],
   "source": [
    "print(R.as_euler(n, 'xyz', degrees=True))"
   ]
  },
  {
   "cell_type": "code",
   "execution_count": null,
   "metadata": {},
   "outputs": [],
   "source": [
    "o = R.from_euler('xyz', [45, 45, 0], degrees=True)\n",
    "\n",
    "print(o.as_dcm())"
   ]
  },
  {
   "cell_type": "code",
   "execution_count": null,
   "metadata": {},
   "outputs": [],
   "source": []
  }
 ],
 "metadata": {
  "kernelspec": {
   "display_name": "Python 3",
   "language": "python",
   "name": "python3"
  },
  "language_info": {
   "codemirror_mode": {
    "name": "ipython",
    "version": 3
   },
   "file_extension": ".py",
   "mimetype": "text/x-python",
   "name": "python",
   "nbconvert_exporter": "python",
   "pygments_lexer": "ipython3",
   "version": "3.6.7"
  }
 },
 "nbformat": 4,
 "nbformat_minor": 4
}
